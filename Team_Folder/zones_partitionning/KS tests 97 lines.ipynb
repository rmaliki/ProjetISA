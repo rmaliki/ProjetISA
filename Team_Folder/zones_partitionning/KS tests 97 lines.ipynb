{
 "cells": [
  {
   "cell_type": "code",
   "execution_count": 3,
   "metadata": {},
   "outputs": [
    {
     "name": "stderr",
     "output_type": "stream",
     "text": [
      "/home/andreas/.local/lib/python3.5/site-packages/statsmodels/compat/pandas.py:56: FutureWarning: The pandas.core.datetools module is deprecated and will be removed in a future version. Please use the pandas.tseries module instead.\n",
      "  from pandas.core import datetools\n"
     ]
    }
   ],
   "source": [
    "%matplotlib inline\n",
    "import pylab \n",
    "from scipy.stats.stats import pearsonr   as corr\n",
    "import numpy as np\n",
    "import statsmodels.api as sm\n",
    "import numpy as np\n",
    "import matplotlib.pyplot as plt\n",
    "import sklearn.feature_selection as sel\n",
    "from matplotlib import cm as c\n",
    "import pandas as pd\n",
    "from sklearn.model_selection import train_test_split\n",
    "from sklearn.decomposition import PCA \n",
    "from sklearn.preprocessing import StandardScaler\n",
    "from numpy.linalg import norm\n",
    "from sklearn.neighbors import NearestNeighbors as NN\n",
    "from scipy import stats\n",
    "from sklearn import svm\n",
    "from sklearn.model_selection import KFold\n",
    "cm=plt.get_cmap('nipy_spectral') # for the plotting"
   ]
  },
  {
   "cell_type": "code",
   "execution_count": 4,
   "metadata": {},
   "outputs": [],
   "source": [
    "def findtr(d,target,var_tr):\n",
    "    ind2=list(d.columns)\n",
    "    ind2.remove('GasCum360')\n",
    "    ind2.remove('OilCum360')\n",
    "    minv=20\n",
    "    min_ind=\"bla\"\n",
    "    n=0\n",
    "    var=20\n",
    "    l=len(d)\n",
    "    print()\n",
    "    v=np.var(d[target])\n",
    "    print('var: '+str(v))\n",
    "    print('--------------------------------')\n",
    "    for indexx in ind2:\n",
    "        d=d.sort_values(indexx)\n",
    "        in_var=20\n",
    "        in_n=0\n",
    "        for i in range(2,l-2):\n",
    "            var=(np.var(d.iloc[:i][target])*i+np.var(d.iloc[i:][target])*(l-i))/l\n",
    "            if var < in_var:\n",
    "                in_var=var\n",
    "                in_n=i\n",
    "        if in_var < minv:\n",
    "            minv=in_var\n",
    "            min_ind=indexx\n",
    "            n=in_n\n",
    "        if in_var< v*var_tr: #and np.abs(d[target].corr(d[indexx])) < 0.25:\n",
    "            print('---------------------')\n",
    "            print(indexx)\n",
    "            print('index:     '+str(n))\n",
    "            print('threshold: ' + str(d.iloc[n][indexx])) \n",
    "            print('var:       ' + str(in_var))\n",
    "            print('corr:      '+str(d[target].corr(d[indexx])))\n",
    "    return [minv,min_ind,n,d[target].corr(d[min_ind])]"
   ]
  },
  {
   "cell_type": "code",
   "execution_count": 5,
   "metadata": {},
   "outputs": [],
   "source": [
    "def model(d,AL=0.05):\n",
    "    ind=list(d.columns)\n",
    "    ind.remove('Zone')\n",
    "    ind.remove('GasCum360')\n",
    "    ind.remove('OilCum360')\n",
    "    ind.append('GasCum360')\n",
    "    ind.append('OilCum360')\n",
    "  \n",
    "    x=d.loc[:,ind]\n",
    "    #########################\n",
    "    x=np.array(x) \n",
    "    yg=x[:,43]# change for oil/gas pred\n",
    "   \n",
    "    ## cut off target   \n",
    "    a=x[:,:42]\n",
    "     # normalize the data  \n",
    "    scaler = StandardScaler()\n",
    "    X=np.array(scaler.fit_transform(a))\n",
    "     \n",
    "    pca = PCA()\n",
    "    pca.fit(X)\n",
    "    xx=pca.transform(X)\n",
    "    selector = sel.VarianceThreshold(threshold=0.1) # features with variances lower than this  will be removed# normal value_0.5\n",
    "    xx=selector.fit_transform(xx)\n",
    "    \n",
    "    p_vals=sel.f_regression(xx,yg)[1]\n",
    "    F=sel.f_regression(xx,yg)[0]\n",
    "    \n",
    "   \n",
    "    for i in range(len(p_vals)):## not important\n",
    "        if np.isnan(p_vals[i]):\n",
    "            p_vals[i]=2# secure handilng for n small\n",
    "       \n",
    "    sign_features_ind=[]\n",
    "    sign_features_ind=[i for i in range(len(p_vals)) if p_vals[i] < AL] # indices of the significant features\n",
    "    xx2=xx[:,sign_features_ind]### use only significant features for linear model\n",
    "    XX=sm.add_constant(xx2)\n",
    "    model=sm.OLS(yg,XX)\n",
    "    result=model.fit()\n",
    "    resids=result.resid\n",
    "    params=result.params\n",
    "\n",
    "    ############################# hist\n",
    "    f, axarr = plt.subplots(ncols=1,nrows=2,sharex=True)\n",
    "    \n",
    "    normd=np.random.normal(0,np.std(resids),len(d))\n",
    "    #div=len(d)\n",
    "    bin=[i/4 for i in range(-5,12)]\n",
    "    axarr[0].hist(resids)\n",
    "    axarr[0].set_title('Resisuals')\n",
    "    axarr[1].hist(normd)\n",
    "    axarr[1].set_title('normal Sample of same size')\n",
    "    \n",
    "    pred=np.dot(XX,params)\n",
    "    plt.figure() \n",
    "    plt.scatter(pred,resids)# high ones are underestimated\n",
    "    plt.title('residuals vs fitted')\n",
    "    plt.xlabel('fitted')\n",
    "    print(result.summary())\n",
    "    print('var: ' +str(np.var(yg)))# 0.76\n",
    "    print('var res: ' +str(np.var(resids)))# AL=0.05 0.2458\n",
    "    print(stats.kstest(resids/np.std(resids),'norm')) \n",
    "    plt.figure()\n",
    "    stats.probplot(resids, dist=\"norm\",plot=plt)\n",
    "   \n",
    "    "
   ]
  },
  {
   "cell_type": "code",
   "execution_count": 57,
   "metadata": {},
   "outputs": [
    {
     "name": "stdout",
     "output_type": "stream",
     "text": [
      "362\n",
      "98\n"
     ]
    }
   ],
   "source": [
    "df=pd.read_csv('partitionned_train_final.csv',sep=',')\n",
    "df=df.loc[:,'API':]\n",
    "rows1=df[~df['Nbr_Stages'].isnull()].index\n",
    "rows2=df[df['Nbr_Stages'].isnull()].index\n",
    "df1=df.loc[rows1,:] #362 lines\n",
    "df2=df.loc[rows2,:]#98 lines\n",
    "\n",
    "df20=df2[df2['group']==0].copy()\n",
    "df10=df1[df1['group']==0].copy()\n",
    "df21=df2[df2['group']==1].copy()\n",
    "df11=df1[df1['group']==1].copy()\n",
    "df22=df2[df2['group']==2].copy()\n",
    "df12=df1[df1['group']==2].copy()\n",
    "\n",
    "print(len(df1))\n",
    "print(len(df2))\n",
    "\n"
   ]
  },
  {
   "cell_type": "markdown",
   "metadata": {},
   "source": [
    "# KS Tests to check whether target variables of 98 lines and 362 lines come from the same distribution or not.\n",
    "\n",
    "## Group 0\n",
    "df10: 85 members\n",
    "\n",
    "df20: 42 members\n",
    "\n",
    "### Oil"
   ]
  },
  {
   "cell_type": "code",
   "execution_count": 22,
   "metadata": {},
   "outputs": [
    {
     "name": "stdout",
     "output_type": "stream",
     "text": [
      "1.58686614918\n",
      "1.60949980811\n"
     ]
    }
   ],
   "source": [
    "print(np.var(df10['OilCum360'])) # similar var\n",
    "print(np.var(df20['OilCum360']))"
   ]
  },
  {
   "cell_type": "code",
   "execution_count": 30,
   "metadata": {},
   "outputs": [
    {
     "data": {
      "text/plain": [
       "Ks_2sampResult(statistic=0.31708683473389354, pvalue=0.0051767049157084178)"
      ]
     },
     "execution_count": 30,
     "metadata": {},
     "output_type": "execute_result"
    }
   ],
   "source": [
    "stats.ks_2samp(df10['OilCum360'],df20['OilCum360']) # not the same"
   ]
  },
  {
   "cell_type": "markdown",
   "metadata": {},
   "source": [
    "### Gas"
   ]
  },
  {
   "cell_type": "code",
   "execution_count": 21,
   "metadata": {},
   "outputs": [
    {
     "name": "stdout",
     "output_type": "stream",
     "text": [
      "0.161423803927\n",
      "0.150368335791\n"
     ]
    }
   ],
   "source": [
    "print(np.var(df10['GasCum360']))# similar var\n",
    "print(np.var(df20['GasCum360']))"
   ]
  },
  {
   "cell_type": "code",
   "execution_count": 31,
   "metadata": {},
   "outputs": [
    {
     "data": {
      "text/plain": [
       "Ks_2sampResult(statistic=0.1380952380952381, pvalue=0.62446591091210413)"
      ]
     },
     "execution_count": 31,
     "metadata": {},
     "output_type": "execute_result"
    }
   ],
   "source": [
    "stats.ks_2samp(df10['GasCum360'],df20['GasCum360']) # can be same , but low var anyway"
   ]
  },
  {
   "cell_type": "code",
   "execution_count": 52,
   "metadata": {},
   "outputs": [
    {
     "data": {
      "text/plain": [
       "<matplotlib.collections.PathCollection at 0x7fa4dae7cba8>"
      ]
     },
     "execution_count": 52,
     "metadata": {},
     "output_type": "execute_result"
    },
    {
     "data": {
      "image/png": "[encoded data removed]",
      "text/plain": [
       "<matplotlib.figure.Figure at 0x7fa4db1026d8>"
      ]
     },
     "metadata": {},
     "output_type": "display_data"
    }
   ],
   "source": [
    "f, axarr = plt.subplots(ncols=1,nrows=2,sharex=True,sharey=True)\n",
    "f.set_figheight(10)\n",
    "f.set_figwidth(7)\n",
    "axarr[0].scatter(df10['OilCum360'],df10['GasCum360'])\n",
    "axarr[1].scatter(df20['OilCum360'],df20['GasCum360'])\n",
    "#not very different ( use same scale)"
   ]
  },
  {
   "cell_type": "markdown",
   "metadata": {},
   "source": [
    "## Group 1\n",
    "\n"
   ]
  },
  {
   "cell_type": "code",
   "execution_count": 20,
   "metadata": {},
   "outputs": [
    {
     "name": "stdout",
     "output_type": "stream",
     "text": [
      "116\n",
      "26\n"
     ]
    }
   ],
   "source": [
    "\n",
    "print(len(df11))\n",
    "print(len(df21))"
   ]
  },
  {
   "cell_type": "markdown",
   "metadata": {},
   "source": [
    "### Oil"
   ]
  },
  {
   "cell_type": "markdown",
   "metadata": {},
   "source": [
    "print(np.var(df11['OilCum360'])) # similar var\n",
    "print(np.var(df21['OilCum360']))"
   ]
  },
  {
   "cell_type": "code",
   "execution_count": 53,
   "metadata": {},
   "outputs": [
    {
     "data": {
      "text/plain": [
       "Ks_2sampResult(statistic=0.11007957559681698, pvalue=0.9471796397803578)"
      ]
     },
     "execution_count": 53,
     "metadata": {},
     "output_type": "execute_result"
    }
   ],
   "source": [
    "stats.ks_2samp(df11['OilCum360'],df21['OilCum360']) # is the same"
   ]
  },
  {
   "cell_type": "markdown",
   "metadata": {},
   "source": [
    "## Gas"
   ]
  },
  {
   "cell_type": "code",
   "execution_count": 32,
   "metadata": {},
   "outputs": [
    {
     "name": "stdout",
     "output_type": "stream",
     "text": [
      "0.193073042644\n",
      "0.115628419808\n"
     ]
    }
   ],
   "source": [
    "print(np.var(df11['GasCum360'])) # different var\n",
    "print(np.var(df21['GasCum360']))"
   ]
  },
  {
   "cell_type": "code",
   "execution_count": 33,
   "metadata": {},
   "outputs": [
    {
     "data": {
      "text/plain": [
       "Ks_2sampResult(statistic=0.19496021220159143, pvalue=0.35713459619595606)"
      ]
     },
     "execution_count": 33,
     "metadata": {},
     "output_type": "execute_result"
    }
   ],
   "source": [
    "stats.ks_2samp(df11['GasCum360'],df21['GasCum360']) # could  be same, but low var anyway"
   ]
  },
  {
   "cell_type": "code",
   "execution_count": 46,
   "metadata": {},
   "outputs": [
    {
     "data": {
      "text/plain": [
       "<matplotlib.collections.PathCollection at 0x7fa4dafb86a0>"
      ]
     },
     "execution_count": 46,
     "metadata": {},
     "output_type": "execute_result"
    },
    {
     "data": {
      "image/png": "[encoded data removed]",
      "text/plain": [
       "<matplotlib.figure.Figure at 0x7fa4db0cd4e0>"
      ]
     },
     "metadata": {},
     "output_type": "display_data"
    },
    {
     "data": {
      "image/png": "[encoded data removed]",
      "text/plain": [
       "<matplotlib.figure.Figure at 0x7fa4db08da20>"
      ]
     },
     "metadata": {},
     "output_type": "display_data"
    }
   ],
   "source": [
    "plt.scatter(df11['OilCum360'],df11['GasCum360'])\n",
    "plt.figure()\n",
    "plt.scatter(df21['OilCum360'],df21['GasCum360'])\n",
    "#not very different"
   ]
  },
  {
   "cell_type": "markdown",
   "metadata": {},
   "source": [
    "## Group 2"
   ]
  },
  {
   "cell_type": "code",
   "execution_count": 34,
   "metadata": {},
   "outputs": [
    {
     "name": "stdout",
     "output_type": "stream",
     "text": [
      "161\n",
      "30\n"
     ]
    }
   ],
   "source": [
    "print(len(df12))\n",
    "print(len(df22))"
   ]
  },
  {
   "cell_type": "markdown",
   "metadata": {},
   "source": [
    "## Oil"
   ]
  },
  {
   "cell_type": "code",
   "execution_count": 35,
   "metadata": {},
   "outputs": [
    {
     "name": "stdout",
     "output_type": "stream",
     "text": [
      "0.0714850494607\n",
      "0.034806934187\n"
     ]
    }
   ],
   "source": [
    "print(np.var(df12['OilCum360'])) # different, but very low\n",
    "print(np.var(df22['OilCum360']))"
   ]
  },
  {
   "cell_type": "code",
   "execution_count": 36,
   "metadata": {},
   "outputs": [
    {
     "data": {
      "text/plain": [
       "Ks_2sampResult(statistic=0.13913043478260867, pvalue=0.67876788837442348)"
      ]
     },
     "execution_count": 36,
     "metadata": {},
     "output_type": "execute_result"
    }
   ],
   "source": [
    "stats.ks_2samp(df12['OilCum360'],df22['OilCum360']) # can  be same, but low var anyway"
   ]
  },
  {
   "cell_type": "markdown",
   "metadata": {},
   "source": [
    "## Gas"
   ]
  },
  {
   "cell_type": "code",
   "execution_count": 38,
   "metadata": {},
   "outputs": [
    {
     "name": "stdout",
     "output_type": "stream",
     "text": [
      "0.850496235268\n",
      "2.50546431314\n"
     ]
    }
   ],
   "source": [
    "print(np.var(df12['GasCum360'])) #very different, \n",
    "print(np.var(df22['GasCum360']))"
   ]
  },
  {
   "cell_type": "code",
   "execution_count": 40,
   "metadata": {},
   "outputs": [
    {
     "data": {
      "text/plain": [
       "Ks_2sampResult(statistic=0.39275362318840579, pvalue=0.00052354759109102462)"
      ]
     },
     "execution_count": 40,
     "metadata": {},
     "output_type": "execute_result"
    }
   ],
   "source": [
    "stats.ks_2samp(df12['GasCum360'],df22['GasCum360']) # is different"
   ]
  },
  {
   "cell_type": "code",
   "execution_count": 44,
   "metadata": {},
   "outputs": [
    {
     "data": {
      "text/plain": [
       "<matplotlib.collections.PathCollection at 0x7fa4db03d438>"
      ]
     },
     "execution_count": 44,
     "metadata": {},
     "output_type": "execute_result"
    },
    {
     "data": {
      "image/png": "[encoded data removed]",
      "text/plain": [
       "<matplotlib.figure.Figure at 0x7fa4dd386b70>"
      ]
     },
     "metadata": {},
     "output_type": "display_data"
    },
    {
     "data": {
      "image/png": "[encoded data removed]",
      "text/plain": [
       "<matplotlib.figure.Figure at 0x7fa4dd3867f0>"
      ]
     },
     "metadata": {},
     "output_type": "display_data"
    }
   ],
   "source": [
    "plt.scatter(df12['OilCum360'],df12['GasCum360'])\n",
    "plt.figure()\n",
    "plt.scatter(df22['OilCum360'],df22['GasCum360'])\n",
    "# does not seem amazingly different."
   ]
  },
  {
   "cell_type": "markdown",
   "metadata": {},
   "source": [
    "## Conclusion:\n",
    "It seems that, even if for some cases, the KS test shows that the 98 lines come from a different distribution, it might be better to leave the 98 lines with the others, because otherwise the number of members in each linear model becomes to low to make a significant predication. Given that in the cases where the distributions are not the same, the variances are high ( 98 lines group) ( in one case even higher than 362 lines group), we should not leave the 98 lines alone, at least not for a segmented linear model, because the numbers will be too low at the end. Our hope is, that in those cases, even if the target dsitribution is different, the linear dependencies betweeen expl. vars and target is simimilar for both group of lines ( 362 and 98). **when we have the models on the 460 lines, check the explained variance and see how good the model fits the rowgroup**\n",
    "\n",
    "## addition: looks like we have to cut off one more group from group 2"
   ]
  },
  {
   "cell_type": "code",
   "execution_count": null,
   "metadata": {},
   "outputs": [],
   "source": []
  }
 ],
 "metadata": {
  "kernelspec": {
   "display_name": "Python 3",
   "language": "python",
   "name": "python3"
  },
  "language_info": {
   "codemirror_mode": {
    "name": "ipython",
    "version": 3
   },
   "file_extension": ".py",
   "mimetype": "text/x-python",
   "name": "python",
   "nbconvert_exporter": "python",
   "pygments_lexer": "ipython3",
   "version": "3.5.4"
  }
 },
 "nbformat": 4,
 "nbformat_minor": 2
}
