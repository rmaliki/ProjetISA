{
 "cells": [
  {
   "cell_type": "code",
   "execution_count": 26,
   "metadata": {},
   "outputs": [],
   "source": [
    "%matplotlib inline\n",
    "from datetime import datetime, date, time\n",
    "import pandas as pd\n",
    "import numpy as np\n",
    "import scipy as sp\n",
    "import matplotlib.pyplot as plt\n",
    "from sklearn import datasets, linear_model\n",
    "import plotly as pl\n",
    "\n",
    "train=pd.read_csv('TrainSample.csv',sep=';' )\n",
    "test=pd.read_csv('TestSample.csv',sep=';' )\n",
    "all=pd.concat([train,test])\n",
    "\n"
   ]
  },
  {
   "cell_type": "code",
   "execution_count": 2,
   "metadata": {},
   "outputs": [],
   "source": [
    "ind=range(6,45)\n",
    "ind.insert(0,1)\n",
    "ind.insert(1,2)\n",
    "names=[train.columns[i] for i in ind]\n"
   ]
  },
  {
   "cell_type": "markdown",
   "metadata": {},
   "source": [
    "the above is just to collect the indexes of variables that are not:\n",
    "\n",
    "API, any date, target"
   ]
  },
  {
   "cell_type": "markdown",
   "metadata": {},
   "source": [
    "## Comparison of Variances"
   ]
  },
  {
   "cell_type": "code",
   "execution_count": 3,
   "metadata": {},
   "outputs": [],
   "source": [
    "total_vars=[np.var(all[name]) for name in names]\n"
   ]
  },
  {
   "cell_type": "code",
   "execution_count": 4,
   "metadata": {},
   "outputs": [
    {
     "data": {
      "text/html": [
       "<div>\n",
       "<table border=\"1\" class=\"dataframe\">\n",
       "  <thead>\n",
       "    <tr style=\"text-align: right;\">\n",
       "      <th></th>\n",
       "      <th>0</th>\n",
       "      <th>1</th>\n",
       "    </tr>\n",
       "  </thead>\n",
       "  <tbody>\n",
       "    <tr>\n",
       "      <th>13</th>\n",
       "      <td>Res_PPLS (Ohmm)</td>\n",
       "      <td>0.486012</td>\n",
       "    </tr>\n",
       "    <tr>\n",
       "      <th>29</th>\n",
       "      <td>Max_Treating_pressure (KPa)</td>\n",
       "      <td>0.560473</td>\n",
       "    </tr>\n",
       "    <tr>\n",
       "      <th>38</th>\n",
       "      <td>Shot_Total</td>\n",
       "      <td>0.633596</td>\n",
       "    </tr>\n",
       "    <tr>\n",
       "      <th>22</th>\n",
       "      <td>Zone</td>\n",
       "      <td>0.882459</td>\n",
       "    </tr>\n",
       "    <tr>\n",
       "      <th>3</th>\n",
       "      <td>Depth_TVD_PPLS (ft)</td>\n",
       "      <td>0.896236</td>\n",
       "    </tr>\n",
       "  </tbody>\n",
       "</table>\n",
       "</div>"
      ],
      "text/plain": [
       "                              0         1\n",
       "13              Res_PPLS (Ohmm)  0.486012\n",
       "29  Max_Treating_pressure (KPa)  0.560473\n",
       "38                   Shot_Total  0.633596\n",
       "22                         Zone  0.882459\n",
       "3           Depth_TVD_PPLS (ft)  0.896236"
      ]
     },
     "execution_count": 4,
     "metadata": {},
     "output_type": "execute_result"
    }
   ],
   "source": [
    "train_vars=[[name,np.var(train[name])] for name in names]# test does not have oil and gas\n",
    "pd.DataFrame(train_vars).sort_values(1).head()\n"
   ]
  },
  {
   "cell_type": "code",
   "execution_count": 5,
   "metadata": {},
   "outputs": [
    {
     "data": {
      "text/html": [
       "<div>\n",
       "<table border=\"1\" class=\"dataframe\">\n",
       "  <thead>\n",
       "    <tr style=\"text-align: right;\">\n",
       "      <th></th>\n",
       "      <th>0</th>\n",
       "      <th>1</th>\n",
       "    </tr>\n",
       "  </thead>\n",
       "  <tbody>\n",
       "    <tr>\n",
       "      <th>21</th>\n",
       "      <td>Heat_Flow (W/m2)</td>\n",
       "      <td>1.161726</td>\n",
       "    </tr>\n",
       "    <tr>\n",
       "      <th>30</th>\n",
       "      <td>Min_Treating_Pressure (KPa)</td>\n",
       "      <td>1.170414</td>\n",
       "    </tr>\n",
       "    <tr>\n",
       "      <th>18</th>\n",
       "      <td>Temp_Anomaly (F)</td>\n",
       "      <td>1.187651</td>\n",
       "    </tr>\n",
       "    <tr>\n",
       "      <th>14</th>\n",
       "      <td>GR_PPLS (API)</td>\n",
       "      <td>1.371725</td>\n",
       "    </tr>\n",
       "    <tr>\n",
       "      <th>24</th>\n",
       "      <td>Frac_Gradient (PSI/ft)</td>\n",
       "      <td>1.651402</td>\n",
       "    </tr>\n",
       "  </tbody>\n",
       "</table>\n",
       "</div>"
      ],
      "text/plain": [
       "                              0         1\n",
       "21             Heat_Flow (W/m2)  1.161726\n",
       "30  Min_Treating_Pressure (KPa)  1.170414\n",
       "18             Temp_Anomaly (F)  1.187651\n",
       "14                GR_PPLS (API)  1.371725\n",
       "24       Frac_Gradient (PSI/ft)  1.651402"
      ]
     },
     "execution_count": 5,
     "metadata": {},
     "output_type": "execute_result"
    }
   ],
   "source": [
    "pd.DataFrame(train_vars).sort_values(1).tail()"
   ]
  },
  {
   "cell_type": "markdown",
   "metadata": {},
   "source": [
    "The varicane of the **training** set varibales is between 0.48 and 1.65\n",
    "\n",
    "The varicane of the **testing**  set varibales is between 0.05 and 1.31   (not shown)\n",
    "\n",
    "We want to compare the variances between training and testing now.\n",
    "For that, we do for each variable:\n",
    "\n",
    "|train var - test var| / total variance"
   ]
  },
  {
   "cell_type": "code",
   "execution_count": 6,
   "metadata": {},
   "outputs": [
    {
     "data": {
      "text/html": [
       "<div>\n",
       "<table border=\"1\" class=\"dataframe\">\n",
       "  <thead>\n",
       "    <tr style=\"text-align: right;\">\n",
       "      <th></th>\n",
       "      <th>Variable</th>\n",
       "      <th>Normalized Difference of Variance Train and Test</th>\n",
       "    </tr>\n",
       "  </thead>\n",
       "  <tbody>\n",
       "    <tr>\n",
       "      <th>24</th>\n",
       "      <td>Frac_Gradient (PSI/ft)</td>\n",
       "      <td>1.457933</td>\n",
       "    </tr>\n",
       "    <tr>\n",
       "      <th>13</th>\n",
       "      <td>Res_PPLS (Ohmm)</td>\n",
       "      <td>0.987909</td>\n",
       "    </tr>\n",
       "    <tr>\n",
       "      <th>29</th>\n",
       "      <td>Max_Treating_pressure (KPa)</td>\n",
       "      <td>0.920878</td>\n",
       "    </tr>\n",
       "    <tr>\n",
       "      <th>14</th>\n",
       "      <td>GR_PPLS (API)</td>\n",
       "      <td>0.687765</td>\n",
       "    </tr>\n",
       "    <tr>\n",
       "      <th>30</th>\n",
       "      <td>Min_Treating_Pressure (KPa)</td>\n",
       "      <td>0.377846</td>\n",
       "    </tr>\n",
       "    <tr>\n",
       "      <th>10</th>\n",
       "      <td>PR_PPLS</td>\n",
       "      <td>0.337004</td>\n",
       "    </tr>\n",
       "    <tr>\n",
       "      <th>18</th>\n",
       "      <td>Temp_Anomaly (F)</td>\n",
       "      <td>0.321516</td>\n",
       "    </tr>\n",
       "    <tr>\n",
       "      <th>33</th>\n",
       "      <td>Min_Rate_Slurry (bpm)</td>\n",
       "      <td>0.319925</td>\n",
       "    </tr>\n",
       "    <tr>\n",
       "      <th>36</th>\n",
       "      <td>ISIP (KPa)</td>\n",
       "      <td>0.297417</td>\n",
       "    </tr>\n",
       "  </tbody>\n",
       "</table>\n",
       "</div>"
      ],
      "text/plain": [
       "                       Variable  \\\n",
       "24       Frac_Gradient (PSI/ft)   \n",
       "13              Res_PPLS (Ohmm)   \n",
       "29  Max_Treating_pressure (KPa)   \n",
       "14                GR_PPLS (API)   \n",
       "30  Min_Treating_Pressure (KPa)   \n",
       "10                      PR_PPLS   \n",
       "18             Temp_Anomaly (F)   \n",
       "33        Min_Rate_Slurry (bpm)   \n",
       "36                   ISIP (KPa)   \n",
       "\n",
       "    Normalized Difference of Variance Train and Test  \n",
       "24                                          1.457933  \n",
       "13                                          0.987909  \n",
       "29                                          0.920878  \n",
       "14                                          0.687765  \n",
       "30                                          0.377846  \n",
       "10                                          0.337004  \n",
       "18                                          0.321516  \n",
       "33                                          0.319925  \n",
       "36                                          0.297417  "
      ]
     },
     "execution_count": 6,
     "metadata": {},
     "output_type": "execute_result"
    }
   ],
   "source": [
    "test_vars=[[name,np.var(test[name])] for name in names]# test does not have oil and gas\n",
    "\n",
    "\n",
    "vars_difference=[ [test_vars[i][0], np.abs(test_vars[i][1]- train_vars[i][1])/total_vars[i]]for i in range(len(train_vars))]\n",
    "vars_difference=pd.DataFrame(vars_difference)\n",
    "vars_difference=vars_difference.sort_values(1,ascending=False)\n",
    "vars_difference.columns=('Variable','Normalized Difference of Variance Train and Test')\n",
    "vars_difference.head(9)"
   ]
  },
  {
   "cell_type": "markdown",
   "metadata": {},
   "source": [
    "So we actually have a significant differene in the variance between train and test in some variables. That's also a difficulty for anova.."
   ]
  },
  {
   "cell_type": "markdown",
   "metadata": {},
   "source": [
    "## Comparision of the means \n",
    "We calculate the mean for each varible and compare train set with test set, normalized by the standard deviation."
   ]
  },
  {
   "cell_type": "code",
   "execution_count": 7,
   "metadata": {},
   "outputs": [
    {
     "data": {
      "text/html": [
       "<div>\n",
       "<table border=\"1\" class=\"dataframe\">\n",
       "  <thead>\n",
       "    <tr style=\"text-align: right;\">\n",
       "      <th></th>\n",
       "      <th>variable</th>\n",
       "      <th>normalized means difference</th>\n",
       "    </tr>\n",
       "  </thead>\n",
       "  <tbody>\n",
       "    <tr>\n",
       "      <th>37</th>\n",
       "      <td>Shot_Density (shots/ft)</td>\n",
       "      <td>0.288735</td>\n",
       "    </tr>\n",
       "    <tr>\n",
       "      <th>34</th>\n",
       "      <td>ShutInPressure_Fil (KPa)</td>\n",
       "      <td>0.230996</td>\n",
       "    </tr>\n",
       "    <tr>\n",
       "      <th>33</th>\n",
       "      <td>Min_Rate_Slurry (bpm)</td>\n",
       "      <td>0.194738</td>\n",
       "    </tr>\n",
       "    <tr>\n",
       "      <th>38</th>\n",
       "      <td>Shot_Total</td>\n",
       "      <td>0.183145</td>\n",
       "    </tr>\n",
       "    <tr>\n",
       "      <th>31</th>\n",
       "      <td>Avg_Rate_Slurry (bpm)</td>\n",
       "      <td>0.164338</td>\n",
       "    </tr>\n",
       "  </tbody>\n",
       "</table>\n",
       "</div>"
      ],
      "text/plain": [
       "                    variable  normalized means difference\n",
       "37   Shot_Density (shots/ft)                     0.288735\n",
       "34  ShutInPressure_Fil (KPa)                     0.230996\n",
       "33     Min_Rate_Slurry (bpm)                     0.194738\n",
       "38                Shot_Total                     0.183145\n",
       "31     Avg_Rate_Slurry (bpm)                     0.164338"
      ]
     },
     "execution_count": 7,
     "metadata": {},
     "output_type": "execute_result"
    }
   ],
   "source": [
    "train_means=[[name,np.mean(train[name])] for name in names]# test does not have oil and gas\n",
    "\n",
    "\n",
    "test_means=[[name,np.mean(test[name])] for name in names]# test does not have oil and gas\n",
    "\n",
    "means_difference=[ [test_means[i][0], np.abs(test_means[i][1]- train_means[i][1])/np.sqrt(total_vars[i])] for i in range(len(train_means))]\n",
    "means_difference=pd.DataFrame(means_difference)\n",
    "means_difference.columns=['variable','normalized means difference']\n",
    "means_difference.sort_values('normalized means difference',ascending=False).head()"
   ]
  },
  {
   "cell_type": "markdown",
   "metadata": {},
   "source": [
    "The highest difference in means has Shot_Density. So we are gonna make a histogram."
   ]
  },
  {
   "cell_type": "code",
   "execution_count": 8,
   "metadata": {},
   "outputs": [],
   "source": [
    "\n",
    "#plt.figure(figsize=(8,8))\n",
    "\n",
    "#plt.scatter(train[train.columns[n]],train[train.columns[n+1]],c='blue',label='train',s=15)\n",
    "#plt.scatter(test[test.columns[n]],test[test.columns[n+1]],c='red',label='test',s=10)\n",
    "#plt.xlabel(train.columns[n])\n",
    "#plt.ylabel(train.columns[n+1])\n",
    "#plt.legend()"
   ]
  },
  {
   "cell_type": "code",
   "execution_count": 23,
   "metadata": {},
   "outputs": [
    {
     "data": {
      "text/plain": [
       "<matplotlib.text.Text at 0x7f8b93e28a10>"
      ]
     },
     "execution_count": 23,
     "metadata": {},
     "output_type": "execute_result"
    },
    {
     "data": {
      "image/png": "[encoded data removed]",
      "text/plain": [
       "<matplotlib.figure.Figure at 0x7f8b93bbc590>"
      ]
     },
     "metadata": {},
     "output_type": "display_data"
    },
    {
     "data": {
      "image/png": "[encoded data removed]",
      "text/plain": [
       "<matplotlib.figure.Figure at 0x7f8b93b740d0>"
      ]
     },
     "metadata": {},
     "output_type": "display_data"
    }
   ],
   "source": [
    "bins2=np.arange(-3,4,0.5)\n",
    "plt.hist(train.dropna()['Shot_Density (shots/ft)'],bins=bins2,normed=True)\n",
    "plt.xlabel('Shot_Density (shots/ft)')\n",
    "plt.title('Train')\n",
    "plt.figure()\n",
    "\n",
    "plt.hist(test.dropna()['Shot_Density (shots/ft)'],bins=bins2,normed=True,color='g')\n",
    "plt.xlabel('Shot_Density (shots/ft)')\n",
    "plt.title('Test')"
   ]
  },
  {
   "cell_type": "markdown",
   "metadata": {},
   "source": [
    "It looks like ShotDensity has two main means.\n",
    "The difference is noticable, but is it significant ?\n",
    "\n",
    "Let do a statistical test."
   ]
  },
  {
   "cell_type": "markdown",
   "metadata": {},
   "source": [
    " ## Equal means test ( Mann-Whitney U test)"
   ]
  },
  {
   "cell_type": "code",
   "execution_count": 27,
   "metadata": {},
   "outputs": [
    {
     "data": {
      "text/html": [
       "<div>\n",
       "<table border=\"1\" class=\"dataframe\">\n",
       "  <thead>\n",
       "    <tr style=\"text-align: right;\">\n",
       "      <th></th>\n",
       "      <th>p-value</th>\n",
       "      <th>variable</th>\n",
       "    </tr>\n",
       "  </thead>\n",
       "  <tbody>\n",
       "    <tr>\n",
       "      <th>37</th>\n",
       "      <td>0.003324</td>\n",
       "      <td>Shot_Density (shots/ft)</td>\n",
       "    </tr>\n",
       "    <tr>\n",
       "      <th>14</th>\n",
       "      <td>0.010650</td>\n",
       "      <td>GR_PPLS (API)</td>\n",
       "    </tr>\n",
       "    <tr>\n",
       "      <th>34</th>\n",
       "      <td>0.026278</td>\n",
       "      <td>ShutInPressure_Fil (KPa)</td>\n",
       "    </tr>\n",
       "    <tr>\n",
       "      <th>36</th>\n",
       "      <td>0.127562</td>\n",
       "      <td>ISIP (KPa)</td>\n",
       "    </tr>\n",
       "    <tr>\n",
       "      <th>1</th>\n",
       "      <td>0.177830</td>\n",
       "      <td>Surf_Y</td>\n",
       "    </tr>\n",
       "    <tr>\n",
       "      <th>25</th>\n",
       "      <td>0.187393</td>\n",
       "      <td>Proppant_Designed (kg)</td>\n",
       "    </tr>\n",
       "    <tr>\n",
       "      <th>26</th>\n",
       "      <td>0.188806</td>\n",
       "      <td>Proppant_in_Formation (kg)</td>\n",
       "    </tr>\n",
       "    <tr>\n",
       "      <th>28</th>\n",
       "      <td>0.193210</td>\n",
       "      <td>Avg_Treating_Pressure (KPa)</td>\n",
       "    </tr>\n",
       "    <tr>\n",
       "      <th>33</th>\n",
       "      <td>0.201117</td>\n",
       "      <td>Min_Rate_Slurry (bpm)</td>\n",
       "    </tr>\n",
       "    <tr>\n",
       "      <th>29</th>\n",
       "      <td>0.203307</td>\n",
       "      <td>Max_Treating_pressure (KPa)</td>\n",
       "    </tr>\n",
       "  </tbody>\n",
       "</table>\n",
       "</div>"
      ],
      "text/plain": [
       "     p-value                     variable\n",
       "37  0.003324      Shot_Density (shots/ft)\n",
       "14  0.010650                GR_PPLS (API)\n",
       "34  0.026278     ShutInPressure_Fil (KPa)\n",
       "36  0.127562                   ISIP (KPa)\n",
       "1   0.177830                       Surf_Y\n",
       "25  0.187393       Proppant_Designed (kg)\n",
       "26  0.188806   Proppant_in_Formation (kg)\n",
       "28  0.193210  Avg_Treating_Pressure (KPa)\n",
       "33  0.201117        Min_Rate_Slurry (bpm)\n",
       "29  0.203307  Max_Treating_pressure (KPa)"
      ]
     },
     "execution_count": 27,
     "metadata": {},
     "output_type": "execute_result"
    }
   ],
   "source": [
    "mwTests=[(sp.stats.mannwhitneyu(train[name],test[name]).pvalue,name) for name in names]\n",
    "mwTests=pd.DataFrame(mwTests)\n",
    "mwTests.columns=('p-value','variable')\n",
    "mwTests=mwTests.sort_values('p-value')\n",
    "mwTests[:10]        "
   ]
  },
  {
   "cell_type": "markdown",
   "metadata": {},
   "source": [
    "**Shot density** has the highest probability, that the means of train and test are not equal.\n",
    "Candidates for not equal means are also: **GR_PPLS (API),ShutInPressure_Fil (KPa).**"
   ]
  },
  {
   "cell_type": "markdown",
   "metadata": {},
   "source": [
    "## KS Test for Equality of distributions"
   ]
  },
  {
   "cell_type": "code",
   "execution_count": 17,
   "metadata": {},
   "outputs": [
    {
     "data": {
      "text/html": [
       "<div>\n",
       "<table border=\"1\" class=\"dataframe\">\n",
       "  <thead>\n",
       "    <tr style=\"text-align: right;\">\n",
       "      <th></th>\n",
       "      <th>p-value</th>\n",
       "      <th>variable</th>\n",
       "    </tr>\n",
       "  </thead>\n",
       "  <tbody>\n",
       "    <tr>\n",
       "      <th>37</th>\n",
       "      <td>0.001678</td>\n",
       "      <td>Shot_Density (shots/ft)</td>\n",
       "    </tr>\n",
       "    <tr>\n",
       "      <th>26</th>\n",
       "      <td>0.032129</td>\n",
       "      <td>Proppant_in_Formation (kg)</td>\n",
       "    </tr>\n",
       "    <tr>\n",
       "      <th>34</th>\n",
       "      <td>0.044326</td>\n",
       "      <td>ShutInPressure_Fil (KPa)</td>\n",
       "    </tr>\n",
       "    <tr>\n",
       "      <th>2</th>\n",
       "      <td>0.054308</td>\n",
       "      <td>Lateral_Length (ft)</td>\n",
       "    </tr>\n",
       "    <tr>\n",
       "      <th>14</th>\n",
       "      <td>0.059435</td>\n",
       "      <td>GR_PPLS (API)</td>\n",
       "    </tr>\n",
       "    <tr>\n",
       "      <th>25</th>\n",
       "      <td>0.060360</td>\n",
       "      <td>Proppant_Designed (kg)</td>\n",
       "    </tr>\n",
       "    <tr>\n",
       "      <th>23</th>\n",
       "      <td>0.073545</td>\n",
       "      <td>Nbr_Stages</td>\n",
       "    </tr>\n",
       "    <tr>\n",
       "      <th>33</th>\n",
       "      <td>0.107922</td>\n",
       "      <td>Min_Rate_Slurry (bpm)</td>\n",
       "    </tr>\n",
       "    <tr>\n",
       "      <th>31</th>\n",
       "      <td>0.110066</td>\n",
       "      <td>Avg_Rate_Slurry (bpm)</td>\n",
       "    </tr>\n",
       "    <tr>\n",
       "      <th>38</th>\n",
       "      <td>0.118013</td>\n",
       "      <td>Shot_Total</td>\n",
       "    </tr>\n",
       "  </tbody>\n",
       "</table>\n",
       "</div>"
      ],
      "text/plain": [
       "     p-value                    variable\n",
       "37  0.001678     Shot_Density (shots/ft)\n",
       "26  0.032129  Proppant_in_Formation (kg)\n",
       "34  0.044326    ShutInPressure_Fil (KPa)\n",
       "2   0.054308         Lateral_Length (ft)\n",
       "14  0.059435               GR_PPLS (API)\n",
       "25  0.060360      Proppant_Designed (kg)\n",
       "23  0.073545                  Nbr_Stages\n",
       "33  0.107922       Min_Rate_Slurry (bpm)\n",
       "31  0.110066       Avg_Rate_Slurry (bpm)\n",
       "38  0.118013                  Shot_Total"
      ]
     },
     "execution_count": 17,
     "metadata": {},
     "output_type": "execute_result"
    }
   ],
   "source": [
    "ksTests=[(sp.stats.ks_2samp(train[name],test[name]).pvalue,name) for name in names]\n",
    "ksTests=pd.DataFrame(ksTests)\n",
    "ksTests.columns=('p-value','variable')\n",
    "ksTests=ksTests.sort_values('p-value')\n",
    "ksTests[:10]                                                                  "
   ]
  },
  {
   "cell_type": "markdown",
   "metadata": {},
   "source": [
    "With risk of alpha = 0.05 we have to throw the null hypothesis of equality of distributions for 3 festures.\n",
    "**Shot_Density   Proppant_in_Formation (kg) ShutInPressure_Fil (KPa)**"
   ]
  },
  {
   "cell_type": "markdown",
   "metadata": {},
   "source": [
    " ## Test for normality\n",
    " If we have normality in certain features, the test of equals means in train and test in each variable could be more accurate... so we check each variable in train and test for normality.."
   ]
  },
  {
   "cell_type": "code",
   "execution_count": null,
   "metadata": {},
   "outputs": [],
   "source": [
    "\n",
    "norm_test_train=[sp.stats.kstest((train.dropna()[name]-np.mean(train.dropna()[name]))/np.sqrt(np.var(train.dropna()[name])),'norm') for name in names]\n",
    "\n",
    "norm_test_train=pd.DataFrame(norm_test_train)\n",
    "norm_test_train.sort_values('pvalue').tail(15)"
   ]
  },
  {
   "cell_type": "markdown",
   "metadata": {},
   "source": [
    "the majority of the feature can no be considered normally distributed. The tail above just shows the features with high p-value. ( those that are most likely to be normally distributed)"
   ]
  }
 ],
 "metadata": {
  "kernelspec": {
   "display_name": "Python 2",
   "language": "python",
   "name": "python2"
  },
  "language_info": {
   "codemirror_mode": {
    "name": "ipython",
    "version": 2
   },
   "file_extension": ".py",
   "mimetype": "text/x-python",
   "name": "python",
   "nbconvert_exporter": "python",
   "pygments_lexer": "ipython2",
   "version": "2.7.12"
  }
 },
 "nbformat": 4,
 "nbformat_minor": 2
}
