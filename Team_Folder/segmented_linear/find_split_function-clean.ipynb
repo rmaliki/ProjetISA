{
 "cells": [
  {
   "cell_type": "code",
   "execution_count": 12,
   "metadata": {},
   "outputs": [
    {
     "name": "stderr",
     "output_type": "stream",
     "text": [
      "/home/andreas/.local/lib/python3.5/site-packages/statsmodels/compat/pandas.py:56: FutureWarning: The pandas.core.datetools module is deprecated and will be removed in a future version. Please use the pandas.tseries module instead.\n",
      "  from pandas.core import datetools\n"
     ]
    }
   ],
   "source": [
    "%matplotlib inline\n",
    "import pylab \n",
    "from scipy.stats.stats import pearsonr   as corr\n",
    "import numpy as np\n",
    "import statsmodels.api as sm\n",
    "import numpy as np\n",
    "import matplotlib.pyplot as plt\n",
    "import sklearn.feature_selection as sel\n",
    "from matplotlib import cm as c\n",
    "import pandas as pd\n",
    "from sklearn.model_selection import train_test_split\n",
    "from sklearn.decomposition import PCA \n",
    "from sklearn.preprocessing import StandardScaler\n",
    "from numpy.linalg import norm\n",
    "from sklearn.neighbors import NearestNeighbors as NN\n",
    "from scipy import stats"
   ]
  },
  {
   "cell_type": "markdown",
   "metadata": {},
   "source": [
    "## function *model*\n",
    "this function is makes a linear model with automatic feature selection. \n",
    "### Inputs:\n",
    "**d**       the data frame\n",
    "\n",
    "**gas:**    True for gas prediciton, False for oil predicition\n",
    "\n",
    "**AL**:     maximum p value for feature selection with fisher-test. Use this paramater to adjust feature selection\n",
    "### outputs: \n",
    "outprints of the variance of the target, the residuals variance, and KS- test.\n",
    "\n",
    "Also some plots\n",
    "\n"
   ]
  },
  {
   "cell_type": "code",
   "execution_count": null,
   "metadata": {},
   "outputs": [],
   "source": [
    "def model(d,gas=True,AL=0.05):\n",
    "    ind=list(d.columns)\n",
    "    ind.remove('Zone')\n",
    "    ind.remove('API')\n",
    "    ind.remove('GasCum360')\n",
    "    ind.remove('group')\n",
    "    ind.remove('OilCum360')\n",
    "    ind.append('GasCum360')\n",
    "    ind.append('OilCum360')\n",
    "    d=d.loc[:,ind]\n",
    "    x=d.loc[:,ind]\n",
    "    #########################\n",
    "    x=np.array(x)\n",
    "    if(gas):\n",
    "        yg=x[:,42]# gas prediction\n",
    "    else:\n",
    "        yg=x[:,43]# pil prediction\n",
    "  \n",
    "    ## cut off target   \n",
    "    a=x[:,:42]\n",
    "     # normalize the data  \n",
    "    scaler = StandardScaler()\n",
    "    X=np.array(scaler.fit_transform(a))\n",
    "     \n",
    "    pca = PCA()\n",
    "    pca.fit(X)\n",
    "    xx=pca.transform(X)\n",
    "    selector = sel.VarianceThreshold(threshold=0.05) # features with variances lower than this  will be removed# normal value_0.5\n",
    "    xx=selector.fit_transform(xx)\n",
    "    \n",
    "    p_vals=sel.f_regression(xx,yg)[1]\n",
    "    F=sel.f_regression(xx,yg)[0]\n",
    "    \n",
    "   \n",
    "    for i in range(len(p_vals)):## not important\n",
    "        if np.isnan(p_vals[i]):\n",
    "            p_vals[i]=2# secure handilng for n small\n",
    "       \n",
    "    sign_features_ind=[]\n",
    "    sign_features_ind=[i for i in range(len(p_vals)) if p_vals[i] < AL] # indices of the significant features\n",
    "    xx2=xx[:,sign_features_ind]### use only significant features for linear model\n",
    "    XX=sm.add_constant(xx2)\n",
    "    model=sm.OLS(yg,XX)\n",
    "    result=model.fit()\n",
    "    resids=result.resid\n",
    "    params=result.params\n",
    "\n",
    "    ############################# histograms and other plots\n",
    "    f, axarr = plt.subplots(ncols=1,nrows=2,sharex=True)\n",
    "    \n",
    "    normd=np.random.normal(0,np.std(resids),len(d))\n",
    "  \n",
    "    bin=[i/4 for i in range(-5,12)]\n",
    "    axarr[0].hist(resids)\n",
    "    axarr[0].set_title('Resisuals')\n",
    "    axarr[1].hist(normd)\n",
    "    axarr[1].set_title('normal Sample of same size')\n",
    "    \n",
    "    pred=np.dot(XX,params)\n",
    "    plt.figure() \n",
    "    plt.scatter(pred,resids)# \n",
    "    \n",
    "    plt.title('residuals vs fitted')\n",
    "    plt.xlabel('fitted')\n",
    "    plt.figure()\n",
    "    plt.scatter(yg,resids)#\n",
    "    plt.title('residuals vs target')\n",
    "    print(result.summary())\n",
    "    print('var: ' +str(np.var(yg)))# \n",
    "    print('var res: ' +str(np.var(resids)))# \n",
    "    print(stats.kstest(resids/np.std(resids),'norm')) \n",
    "    plt.figure()\n",
    "    plt.ylim(-2.5,2.5)\n",
    "    stats.probplot(resids/np.std(resids), dist=\"norm\",plot=plt,fit=False)\n",
    "    hline=[i/10 for i in range(-20,20)]\n",
    "    plt.plot(hline,hline,color='black')\n",
    "   \n",
    "    "
   ]
  },
  {
   "cell_type": "markdown",
   "metadata": {},
   "source": [
    "## function *Lm *\n",
    "is doing the same as function \"model\". The difference is that this function is used inside the the function \"find_split\". So it does not have all the plots and printous. Instead it has a return object.\n",
    "\n",
    "### Inputs\n",
    "see function \"model\"\n",
    "\n",
    "### Outputs\n",
    "a list with two elements:\n",
    "\n",
    "**result** a result object containing all the info abt a lin model\n",
    "\n",
    "**res_var** the residuals' varicance of the model"
   ]
  },
  {
   "cell_type": "code",
   "execution_count": 15,
   "metadata": {},
   "outputs": [],
   "source": [
    "def lm(d,gas=True,AL=0.05):\n",
    "    ind=list(d.columns)\n",
    "    ind.remove('Zone')\n",
    "    ind.remove('API')\n",
    "    ind.remove('GasCum360')\n",
    "    ind.remove('group')\n",
    "    ind.remove('OilCum360')\n",
    "    ind.append('GasCum360')\n",
    "    ind.append('OilCum360')\n",
    "    d=d.loc[:,ind]\n",
    "    x=d.loc[:,ind]\n",
    "    #########################\n",
    "    x=np.array(x) \n",
    "    if(gas):\n",
    "        yg=x[:,42]# gas prediction\n",
    "    else:\n",
    "        yg=x[:,43]# pil prediction\n",
    "    ## cut off target   \n",
    "    a=x[:,:42]\n",
    "     # normalize the data  \n",
    "    scaler = StandardScaler()\n",
    "    X=np.array(scaler.fit_transform(a))\n",
    "     \n",
    "    pca = PCA()\n",
    "    pca.fit(X)\n",
    "    xx=pca.transform(X)\n",
    "    selector = sel.VarianceThreshold(threshold=0.05) # features with variances lower than this  will be removed# normal value_0.5\n",
    "    xx=selector.fit_transform(xx)\n",
    "    \n",
    "    p_vals=sel.f_regression(xx,yg)[1]\n",
    "    F=sel.f_regression(xx,yg)[0]\n",
    "    \n",
    "   \n",
    "    for i in range(len(p_vals)):## not important\n",
    "        if np.isnan(p_vals[i]):\n",
    "            p_vals[i]=2# secure handling for n small\n",
    "       \n",
    "    sign_features_ind=[]\n",
    "    sign_features_ind=[i for i in range(len(p_vals)) if p_vals[i] < AL] # indices of the significant features\n",
    "    xx2=xx[:,sign_features_ind]### use only significant features for linear model\n",
    "    XX=sm.add_constant(xx2)\n",
    "    model=sm.OLS(yg,XX)\n",
    "    result=model.fit()\n",
    "    resids=result.resid\n",
    "    res_var=np.var(resids)\n",
    "    return [result,res_var]\n",
    "\n",
    "    \n",
    "   \n",
    "    "
   ]
  },
  {
   "cell_type": "markdown",
   "metadata": {},
   "source": [
    "## function *find_split*\n",
    "This function loops over all features and all attributes to find the best split.\n",
    "\n",
    "**Splitting Criteria:** The weighted average over the residual variance of the two resulting linear models.\n",
    "\n",
    "So the function computes two linear models for every attribute at every possible treshold. This is computationally intensive, but it works if the step is not too small or the attributes list is limited (see Inputs).\n",
    "\n",
    "### Inputs:\n",
    "\n",
    "**d**  Data Frame\n",
    "\n",
    "**gaz** True for gas prediction, False for Oil Prediction\n",
    "\n",
    "**step ( default= 10)**  determines how fine the treshold search is made for each attribute. If the step is 1, every possible split is tried. This takes too long. step= 5 takes like 20 seconds, depending on the machine\n",
    "\n",
    "**attr (default= empty list)** If not given, the function will loop over all attributes. If given, it should be a list of strings with names of the attributes that the split search loops over. This parameter is useful when we already pre-filtered the attributed for candidates of a split.\n",
    "\n",
    "### Outputs:\n",
    "A Data frame with 4 columns. Each line of the data frame is a possible split. The frame is sorted by the best residual varicance:\n",
    "**feat** feature name\n",
    "\n",
    "**mse**  weighted average residual variaance of the resulting model\n",
    "\n",
    "**breakpoint** integer, giving the number of members of one of the splits\n",
    "\n",
    "**treshold** value of the attribute where the split was made\n"
   ]
  },
  {
   "cell_type": "code",
   "execution_count": 22,
   "metadata": {},
   "outputs": [],
   "source": [
    "def find_split(d,gaz=True,step=10,attr=[]):# \n",
    "    mses=[]\n",
    "    features=[]\n",
    "    breakpoints=[]\n",
    "    thresholds=[]\n",
    "    if(len(attr)==0):\n",
    "        attr=list(d.columns)\n",
    "        attr.remove('GasCum360')\n",
    "        attr.remove('OilCum360')\n",
    "    \n",
    "    minv=20# minimum variance of the best split\n",
    "    min_ind=\"bla\"#index at wihch position the best split is made\n",
    "    n=0# optimal index for the feature currently in the for loop\n",
    "    var=20\n",
    "    l=len(d)\n",
    "    print()\n",
    "    if(gaz):\n",
    "        target='GasCum360'\n",
    "    else:\n",
    "        target='OilCum360'\n",
    "    v=np.var(d[target])\n",
    "    print('target variance: '+str(v))\n",
    "    print('--------------------------------')\n",
    "    for indexx in attr:\n",
    "        features.append(indexx)\n",
    "        d=d.sort_values(indexx)\n",
    "        in_var=20 # min var of current loop\n",
    "        in_n=0#  best index of current loop\n",
    "        for i in range(10,l-10,step):\n",
    "            d1=d.iloc[:i]\n",
    "            d2=d.iloc[i:]\n",
    "            mse1=lm(d1,gas=gaz)[1]\n",
    "            mse2=lm(d2,gas=gaz)[1]\n",
    "            var=(mse1*i+ mse2*(l-i))/l\n",
    "            if var < in_var:\n",
    "                in_var=var\n",
    "                in_n=i\n",
    "        mses.append(in_var)\n",
    "        breakpoints.append(in_n)\n",
    "        thresholds.append(d.iloc[in_n][target])\n",
    "        if in_var < minv:\n",
    "            minv=in_var\n",
    "            min_ind=indexx\n",
    "            n=in_n\n",
    "        u=np.zeros((len(features),4))\n",
    "        u=pd.DataFrame(u)\n",
    "        u.columns=['feat','mse','breakpoint','threshold']\n",
    "        u['feat']=features\n",
    "        u['mse']=mses\n",
    "        u['breakpoint']=breakpoints\n",
    "        u['threshold']= thresholds\n",
    "        u=u.sort_values('mse')\n",
    "    return u"
   ]
  },
  {
   "cell_type": "markdown",
   "metadata": {},
   "source": [
    "## function *findtr*\n",
    "Similar to \"find_split\", this function loops over all attributes and over all possible splits.\n",
    " \n",
    "**Difference:** This function just computes the weighted avarage of the variance of the two sets that were created by the split. So it is a lot less complex than \"find_split\".\n",
    "\n",
    "### Input \n",
    "\n",
    "**d** Data Frame\n",
    "\n",
    "**target (default = 'GasCum360')** target name as a string\n",
    "\n",
    "### Output\n",
    "\n",
    "A sorted ( by average variance) data frame similar to the one of \"find_split\". \n",
    "\n",
    "** feat**  feature name\n",
    "\n",
    "** mse ** weighted average of the variances\n",
    "\n",
    "** cor** correlation between feature and target.\n",
    "\n",
    "** treshold**  same as \"find_split\""
   ]
  },
  {
   "cell_type": "code",
   "execution_count": 34,
   "metadata": {},
   "outputs": [],
   "source": [
    "def findtr(d,target='GasCum360'):\n",
    "    mses=[]\n",
    "    features=[]\n",
    "    cor=[]\n",
    "    thresholds=[]\n",
    "    ind2=list(d.columns)\n",
    "    ind2.remove('GasCum360')\n",
    "    ind2.remove('OilCum360')\n",
    "    minv=20\n",
    "    min_ind=\"bla\"\n",
    "    n=0\n",
    "    var=20\n",
    "    l=len(d)\n",
    "    print()\n",
    "    v=np.var(d[target])\n",
    "    print('target variance: '+str(v))\n",
    "    print('--------------------------------')\n",
    "    for indexx in ind2:\n",
    "        d=d.sort_values(indexx)\n",
    "        in_var=20\n",
    "        in_n=0\n",
    "        for i in range(2,l-2):\n",
    "            var=(np.var(d.iloc[:i][target])*i+np.var(d.iloc[i:][target])*(l-i))/l\n",
    "            if var < in_var:\n",
    "                in_var=var\n",
    "                in_n=i\n",
    "        if in_var < minv:\n",
    "            minv=in_var\n",
    "            min_ind=indexx\n",
    "            n=in_n\n",
    "        features.append(indexx)\n",
    "        mses.append(in_var)\n",
    "        cor.append(d[target].corr(d[indexx]))\n",
    "        thresholds.append(d.iloc[in_n][target])\n",
    "    u=np.zeros((len(features),4))\n",
    "    u=pd.DataFrame(u)\n",
    "    u.columns=['feat','mse','cor','threshold']\n",
    "    u['feat']=features\n",
    "    u['mse']=mses\n",
    "    u['cor']=cor\n",
    "    u['threshold']= thresholds\n",
    "    u=u.sort_values('mse')\n",
    "    return u"
   ]
  },
  {
   "cell_type": "markdown",
   "metadata": {},
   "source": [
    "# Example\n",
    "Load the data , take only group 2 ( high gas) and filter out some outliers"
   ]
  },
  {
   "cell_type": "code",
   "execution_count": 36,
   "metadata": {},
   "outputs": [],
   "source": [
    "df=pd.read_csv('partitionned_train_final.csv',sep=',')\n",
    "df=df.loc[:,'API':]\n",
    "rows=df[~df['Nbr_Stages'].isnull()].index\n",
    "df2=df.loc[rows,:]\n",
    "df2=df2[df2['group']==2].copy()\n",
    "df2=df2[df2['Zone']!=0].copy()\n",
    "df2=df2[df2['GasCum360']<=2].copy()\n",
    "df2=df2[df2['GasCum360']>-0.8].copy()\n",
    "\n",
    "\n",
    "\n"
   ]
  },
  {
   "cell_type": "markdown",
   "metadata": {},
   "source": [
    "**Make a first linear model on all the data of group 2 ( 141 objects ).**"
   ]
  },
  {
   "cell_type": "code",
   "execution_count": 109,
   "metadata": {},
   "outputs": [
    {
     "name": "stdout",
     "output_type": "stream",
     "text": [
      "[ 10.15368222 -10.20678934   3.46056322   4.48277998  -4.14243212\n",
      "  -5.94698659   4.02848937  -4.21483921]\n",
      "                            OLS Regression Results                            \n",
      "==============================================================================\n",
      "Dep. Variable:                      y   R-squared:                       0.626\n",
      "Model:                            OLS   Adj. R-squared:                  0.606\n",
      "Method:                 Least Squares   F-statistic:                     31.82\n",
      "Date:                Sat, 17 Feb 2018   Prob (F-statistic):           1.41e-25\n",
      "Time:                        19:54:01   Log-Likelihood:                -87.008\n",
      "No. Observations:                 141   AIC:                             190.0\n",
      "Df Residuals:                     133   BIC:                             213.6\n",
      "Df Model:                           7                                         \n",
      "Covariance Type:            nonrobust                                         \n",
      "==============================================================================\n",
      "                 coef    std err          t      P>|t|      [0.025      0.975]\n",
      "------------------------------------------------------------------------------\n",
      "const          0.3949      0.039     10.154      0.000       0.318       0.472\n",
      "x1            -0.1412      0.014    -10.207      0.000      -0.169      -0.114\n",
      "x2             0.0625      0.018      3.461      0.001       0.027       0.098\n",
      "x3             0.1080      0.024      4.483      0.000       0.060       0.156\n",
      "x4            -0.1270      0.031     -4.142      0.000      -0.188      -0.066\n",
      "x5            -0.2004      0.034     -5.947      0.000      -0.267      -0.134\n",
      "x6             0.1987      0.049      4.028      0.000       0.101       0.296\n",
      "x7            -0.7758      0.184     -4.215      0.000      -1.140      -0.412\n",
      "==============================================================================\n",
      "Omnibus:                        6.412   Durbin-Watson:                   2.029\n",
      "Prob(Omnibus):                  0.041   Jarque-Bera (JB):                6.346\n",
      "Skew:                           0.388   Prob(JB):                       0.0419\n",
      "Kurtosis:                       3.691   Cond. No.                         13.3\n",
      "==============================================================================\n",
      "\n",
      "Warnings:\n",
      "[1] Standard Errors assume that the covariance matrix of the errors is correctly specified.\n",
      "var: 0.538056301818\n",
      "var res: 0.201145735805\n",
      "KstestResult(statistic=0.066640741928538527, pvalue=0.54720998232914475)\n"
     ]
    },
    {
     "data": {
      "image/png": "[encoded data removed]",
      "text/plain": [
       "<matplotlib.figure.Figure at 0x7fb153c76710>"
      ]
     },
     "metadata": {},
     "output_type": "display_data"
    },
    {
     "data": {
      "image/png": "[encoded data removed]",
      "text/plain": [
       "<matplotlib.figure.Figure at 0x7fb1542aec88>"
      ]
     },
     "metadata": {},
     "output_type": "display_data"
    },
    {
     "data": {
      "image/png": "[encoded data removed]",
      "text/plain": [
       "<matplotlib.figure.Figure at 0x7fb153ae7f28>"
      ]
     },
     "metadata": {},
     "output_type": "display_data"
    },
    {
     "data": {
      "image/png": "[encoded data removed]",
      "text/plain": [
       "<matplotlib.figure.Figure at 0x7fb153c76a90>"
      ]
     },
     "metadata": {},
     "output_type": "display_data"
    }
   ],
   "source": [
    "model(df2)# res vs fitted is a problem"
   ]
  },
  {
   "cell_type": "markdown",
   "metadata": {},
   "source": [
    "We can be satisfied with the normality of residuals ( oultiers are already removed), however, the residuals vs target plot shows, that the linearity assumption does not really hold."
   ]
  },
  {
   "cell_type": "markdown",
   "metadata": {},
   "source": [
    "\n",
    "## Finding a split in a Two Step Process uising \"find_split\"\n",
    "### Step 1\n",
    "To not exceed the computation time, we make a first run with a bigger iteration step (= 5)\n",
    "and save the 10 best candidates. Takes around 20 seconds"
   ]
  },
  {
   "cell_type": "code",
   "execution_count": 37,
   "metadata": {},
   "outputs": [
    {
     "name": "stdout",
     "output_type": "stream",
     "text": [
      "\n",
      "target variance: 0.538056301818\n",
      "--------------------------------\n"
     ]
    }
   ],
   "source": [
    "z=find_split(df2,step=5)\n",
    "cand=z.head(10)['feat'].values # 10 best candifates\n"
   ]
  },
  {
   "cell_type": "code",
   "execution_count": 38,
   "metadata": {},
   "outputs": [
    {
     "data": {
      "text/html": [
       "<div>\n",
       "<style scoped>\n",
       "    .dataframe tbody tr th:only-of-type {\n",
       "        vertical-align: middle;\n",
       "    }\n",
       "\n",
       "    .dataframe tbody tr th {\n",
       "        vertical-align: top;\n",
       "    }\n",
       "\n",
       "    .dataframe thead th {\n",
       "        text-align: right;\n",
       "    }\n",
       "</style>\n",
       "<table border=\"1\" class=\"dataframe\">\n",
       "  <thead>\n",
       "    <tr style=\"text-align: right;\">\n",
       "      <th></th>\n",
       "      <th>feat</th>\n",
       "      <th>mse</th>\n",
       "      <th>breakpoint</th>\n",
       "      <th>threshold</th>\n",
       "    </tr>\n",
       "  </thead>\n",
       "  <tbody>\n",
       "    <tr>\n",
       "      <th>36</th>\n",
       "      <td>ShutInPressure_Initial (KPa)</td>\n",
       "      <td>0.145511</td>\n",
       "      <td>65</td>\n",
       "      <td>-0.607415</td>\n",
       "    </tr>\n",
       "    <tr>\n",
       "      <th>24</th>\n",
       "      <td>Nbr_Stages</td>\n",
       "      <td>0.149383</td>\n",
       "      <td>60</td>\n",
       "      <td>0.054385</td>\n",
       "    </tr>\n",
       "    <tr>\n",
       "      <th>3</th>\n",
       "      <td>Lateral_Length (ft)</td>\n",
       "      <td>0.151438</td>\n",
       "      <td>115</td>\n",
       "      <td>0.823456</td>\n",
       "    </tr>\n",
       "    <tr>\n",
       "      <th>38</th>\n",
       "      <td>Shot_Density (shots/ft)</td>\n",
       "      <td>0.158415</td>\n",
       "      <td>75</td>\n",
       "      <td>-0.024182</td>\n",
       "    </tr>\n",
       "    <tr>\n",
       "      <th>1</th>\n",
       "      <td>Surf_X</td>\n",
       "      <td>0.162523</td>\n",
       "      <td>50</td>\n",
       "      <td>0.743207</td>\n",
       "    </tr>\n",
       "  </tbody>\n",
       "</table>\n",
       "</div>"
      ],
      "text/plain": [
       "                            feat       mse  breakpoint  threshold\n",
       "36  ShutInPressure_Initial (KPa)  0.145511          65  -0.607415\n",
       "24                    Nbr_Stages  0.149383          60   0.054385\n",
       "3            Lateral_Length (ft)  0.151438         115   0.823456\n",
       "38       Shot_Density (shots/ft)  0.158415          75  -0.024182\n",
       "1                         Surf_X  0.162523          50   0.743207"
      ]
     },
     "execution_count": 38,
     "metadata": {},
     "output_type": "execute_result"
    }
   ],
   "source": [
    "z.head(5)"
   ]
  },
  {
   "cell_type": "markdown",
   "metadata": {},
   "source": [
    "### Step 2 \n",
    "Now we take the candidates list and make a finer search"
   ]
  },
  {
   "cell_type": "code",
   "execution_count": 39,
   "metadata": {},
   "outputs": [
    {
     "name": "stdout",
     "output_type": "stream",
     "text": [
      "\n",
      "target variance: 0.538056301818\n",
      "--------------------------------\n"
     ]
    }
   ],
   "source": [
    "z2=find_split(df2,step=2,attr=cand)"
   ]
  },
  {
   "cell_type": "code",
   "execution_count": 40,
   "metadata": {},
   "outputs": [
    {
     "data": {
      "text/html": [
       "<div>\n",
       "<style scoped>\n",
       "    .dataframe tbody tr th:only-of-type {\n",
       "        vertical-align: middle;\n",
       "    }\n",
       "\n",
       "    .dataframe tbody tr th {\n",
       "        vertical-align: top;\n",
       "    }\n",
       "\n",
       "    .dataframe thead th {\n",
       "        text-align: right;\n",
       "    }\n",
       "</style>\n",
       "<table border=\"1\" class=\"dataframe\">\n",
       "  <thead>\n",
       "    <tr style=\"text-align: right;\">\n",
       "      <th></th>\n",
       "      <th>feat</th>\n",
       "      <th>mse</th>\n",
       "      <th>breakpoint</th>\n",
       "      <th>threshold</th>\n",
       "    </tr>\n",
       "  </thead>\n",
       "  <tbody>\n",
       "    <tr>\n",
       "      <th>0</th>\n",
       "      <td>ShutInPressure_Initial (KPa)</td>\n",
       "      <td>0.144896</td>\n",
       "      <td>64</td>\n",
       "      <td>0.456733</td>\n",
       "    </tr>\n",
       "    <tr>\n",
       "      <th>1</th>\n",
       "      <td>Nbr_Stages</td>\n",
       "      <td>0.149383</td>\n",
       "      <td>60</td>\n",
       "      <td>-0.359815</td>\n",
       "    </tr>\n",
       "    <tr>\n",
       "      <th>7</th>\n",
       "      <td>Temperature (F)</td>\n",
       "      <td>0.149977</td>\n",
       "      <td>18</td>\n",
       "      <td>0.054385</td>\n",
       "    </tr>\n",
       "    <tr>\n",
       "      <th>2</th>\n",
       "      <td>Lateral_Length (ft)</td>\n",
       "      <td>0.152157</td>\n",
       "      <td>116</td>\n",
       "      <td>1.350653</td>\n",
       "    </tr>\n",
       "    <tr>\n",
       "      <th>3</th>\n",
       "      <td>Shot_Density (shots/ft)</td>\n",
       "      <td>0.160869</td>\n",
       "      <td>120</td>\n",
       "      <td>1.601769</td>\n",
       "    </tr>\n",
       "  </tbody>\n",
       "</table>\n",
       "</div>"
      ],
      "text/plain": [
       "                           feat       mse  breakpoint  threshold\n",
       "0  ShutInPressure_Initial (KPa)  0.144896          64   0.456733\n",
       "1                    Nbr_Stages  0.149383          60  -0.359815\n",
       "7               Temperature (F)  0.149977          18   0.054385\n",
       "2           Lateral_Length (ft)  0.152157         116   1.350653\n",
       "3       Shot_Density (shots/ft)  0.160869         120   1.601769"
      ]
     },
     "execution_count": 40,
     "metadata": {},
     "output_type": "execute_result"
    }
   ],
   "source": [
    "z2.head(5)"
   ]
  },
  {
   "cell_type": "markdown",
   "metadata": {},
   "source": [
    "** We notice a small changement in the ranking and adjusted breakpoints, but no major differences**\n",
    "We opt for Nbr-Stages. Did not have too much imputation during cleaning."
   ]
  },
  {
   "cell_type": "code",
   "execution_count": 44,
   "metadata": {},
   "outputs": [
    {
     "data": {
      "text/plain": [
       "<matplotlib.collections.PathCollection at 0x7fe708c00a58>"
      ]
     },
     "execution_count": 44,
     "metadata": {},
     "output_type": "execute_result"
    },
    {
     "data": {
      "image/png": "[encoded data removed]",
      "text/plain": [
       "<matplotlib.figure.Figure at 0x7fe70ac60fd0>"
      ]
     },
     "metadata": {},
     "output_type": "display_data"
    }
   ],
   "source": [
    "plt.scatter(df2['Nbr_Stages'],df2['GasCum360'])"
   ]
  },
  {
   "cell_type": "code",
   "execution_count": 45,
   "metadata": {},
   "outputs": [],
   "source": [
    "dfa=df2[df2['Nbr_Stages']< 0.055]\n",
    "dfb=df2[df2['Nbr_Stages']>= 0.055]"
   ]
  },
  {
   "cell_type": "code",
   "execution_count": 46,
   "metadata": {},
   "outputs": [
    {
     "name": "stdout",
     "output_type": "stream",
     "text": [
      "[ 4.95837875 -7.05392122  5.88413759  4.24391276  3.95979651 -4.73711214\n",
      "  3.69067409]\n",
      "                            OLS Regression Results                            \n",
      "==============================================================================\n",
      "Dep. Variable:                      y   R-squared:                       0.604\n",
      "Model:                            OLS   Adj. R-squared:                  0.581\n",
      "Method:                 Least Squares   F-statistic:                     25.69\n",
      "Date:                Sun, 18 Feb 2018   Prob (F-statistic):           2.40e-18\n",
      "Time:                        18:45:00   Log-Likelihood:                -63.188\n",
      "No. Observations:                 108   AIC:                             140.4\n",
      "Df Residuals:                     101   BIC:                             159.2\n",
      "Df Model:                           6                                         \n",
      "Covariance Type:            nonrobust                                         \n",
      "==============================================================================\n",
      "                 coef    std err          t      P>|t|      [0.025      0.975]\n",
      "------------------------------------------------------------------------------\n",
      "const          0.2143      0.043      4.958      0.000       0.129       0.300\n",
      "x1            -0.1111      0.016     -7.054      0.000      -0.142      -0.080\n",
      "x2             0.1125      0.019      5.884      0.000       0.075       0.150\n",
      "x3             0.1117      0.026      4.244      0.000       0.059       0.164\n",
      "x4             0.1135      0.029      3.960      0.000       0.057       0.170\n",
      "x5            -0.1652      0.035     -4.737      0.000      -0.234      -0.096\n",
      "x6             0.2237      0.061      3.691      0.000       0.103       0.344\n",
      "==============================================================================\n",
      "Omnibus:                        3.531   Durbin-Watson:                   2.211\n",
      "Prob(Omnibus):                  0.171   Jarque-Bera (JB):                2.991\n",
      "Skew:                          -0.289   Prob(JB):                        0.224\n",
      "Kurtosis:                       3.575   Cond. No.                         3.85\n",
      "==============================================================================\n",
      "\n",
      "Warnings:\n",
      "[1] Standard Errors assume that the covariance matrix of the errors is correctly specified.\n",
      "var: 0.476604565166\n",
      "var res: 0.188674403962\n",
      "KstestResult(statistic=0.059876533751733296, pvalue=0.83351566072163652)\n"
     ]
    },
    {
     "data": {
      "image/png": "[encoded data removed]",
      "text/plain": [
       "<matplotlib.figure.Figure at 0x7fe708bfbc50>"
      ]
     },
     "metadata": {},
     "output_type": "display_data"
    },
    {
     "data": {
      "image/png": "[encoded data removed]",
      "text/plain": [
       "<matplotlib.figure.Figure at 0x7fe708aea588>"
      ]
     },
     "metadata": {},
     "output_type": "display_data"
    },
    {
     "data": {
      "image/png": "[encoded data removed]",
      "text/plain": [
       "<matplotlib.figure.Figure at 0x7fe708aaf940>"
      ]
     },
     "metadata": {},
     "output_type": "display_data"
    },
    {
     "data": {
      "image/png": "[encoded data removed]",
      "text/plain": [
       "<matplotlib.figure.Figure at 0x7fe708ac7e10>"
      ]
     },
     "metadata": {},
     "output_type": "display_data"
    }
   ],
   "source": [
    "model(dfa)# res vs fitted is a problem"
   ]
  },
  {
   "cell_type": "markdown",
   "metadata": {},
   "source": [
    "the plot residuals vs fitted is still not satisfying."
   ]
  },
  {
   "cell_type": "code",
   "execution_count": 110,
   "metadata": {},
   "outputs": [
    {
     "name": "stdout",
     "output_type": "stream",
     "text": [
      "[ 13.86693711  -4.20326822   2.89544142]\n",
      "                            OLS Regression Results                            \n",
      "==============================================================================\n",
      "Dep. Variable:                      y   R-squared:                       0.465\n",
      "Model:                            OLS   Adj. R-squared:                  0.429\n",
      "Method:                 Least Squares   F-statistic:                     13.03\n",
      "Date:                Sat, 17 Feb 2018   Prob (F-statistic):           8.47e-05\n",
      "Time:                        19:54:36   Log-Likelihood:                -15.699\n",
      "No. Observations:                  33   AIC:                             37.40\n",
      "Df Residuals:                      30   BIC:                             41.89\n",
      "Df Model:                           2                                         \n",
      "Covariance Type:            nonrobust                                         \n",
      "==============================================================================\n",
      "                 coef    std err          t      P>|t|      [0.025      0.975]\n",
      "------------------------------------------------------------------------------\n",
      "const          0.9858      0.071     13.867      0.000       0.841       1.131\n",
      "x1            -0.0940      0.022     -4.203      0.000      -0.140      -0.048\n",
      "x2             0.2290      0.079      2.895      0.007       0.067       0.391\n",
      "==============================================================================\n",
      "Omnibus:                        3.260   Durbin-Watson:                   1.753\n",
      "Prob(Omnibus):                  0.196   Jarque-Bera (JB):                1.927\n",
      "Skew:                           0.502   Prob(JB):                        0.381\n",
      "Kurtosis:                       3.627   Cond. No.                         3.54\n",
      "==============================================================================\n",
      "\n",
      "Warnings:\n",
      "[1] Standard Errors assume that the covariance matrix of the errors is correctly specified.\n",
      "var: 0.283270375522\n",
      "var res: 0.151613788886\n",
      "KstestResult(statistic=0.1360195418192367, pvalue=0.54031874439143346)\n"
     ]
    },
    {
     "data": {
      "image/png": "[encoded data removed]",
      "text/plain": [
       "<matplotlib.figure.Figure at 0x7fb15419bd30>"
      ]
     },
     "metadata": {},
     "output_type": "display_data"
    },
    {
     "data": {
      "image/png": "[encoded data removed]",
      "text/plain": [
       "<matplotlib.figure.Figure at 0x7fb153ebedd8>"
      ]
     },
     "metadata": {},
     "output_type": "display_data"
    },
    {
     "data": {
      "image/png": "[encoded data removed]",
      "text/plain": [
       "<matplotlib.figure.Figure at 0x7fb153fef438>"
      ]
     },
     "metadata": {},
     "output_type": "display_data"
    },
    {
     "data": {
      "image/png": "[encoded data removed]",
      "text/plain": [
       "<matplotlib.figure.Figure at 0x7fb1543bd5f8>"
      ]
     },
     "metadata": {},
     "output_type": "display_data"
    }
   ],
   "source": [
    "model(dfb)# ok, not bad, apart from outliers"
   ]
  },
  {
   "cell_type": "markdown",
   "metadata": {},
   "source": [
    "with this half of the data, we find a satisfying model.\n",
    "## make another split for dfa\n",
    "because res vs fitted tells us we should not use a linear model"
   ]
  },
  {
   "cell_type": "code",
   "execution_count": 47,
   "metadata": {},
   "outputs": [
    {
     "name": "stdout",
     "output_type": "stream",
     "text": [
      "\n",
      "target variance: 0.476604565166\n",
      "--------------------------------\n"
     ]
    }
   ],
   "source": [
    "z=find_split(dfa,step=5)\n",
    "cand=z.head(10)['feat'].values # 10 best candifates"
   ]
  },
  {
   "cell_type": "code",
   "execution_count": 51,
   "metadata": {},
   "outputs": [
    {
     "data": {
      "text/html": [
       "<div>\n",
       "<style scoped>\n",
       "    .dataframe tbody tr th:only-of-type {\n",
       "        vertical-align: middle;\n",
       "    }\n",
       "\n",
       "    .dataframe tbody tr th {\n",
       "        vertical-align: top;\n",
       "    }\n",
       "\n",
       "    .dataframe thead th {\n",
       "        text-align: right;\n",
       "    }\n",
       "</style>\n",
       "<table border=\"1\" class=\"dataframe\">\n",
       "  <thead>\n",
       "    <tr style=\"text-align: right;\">\n",
       "      <th></th>\n",
       "      <th>feat</th>\n",
       "      <th>mse</th>\n",
       "      <th>breakpoint</th>\n",
       "      <th>threshold</th>\n",
       "    </tr>\n",
       "  </thead>\n",
       "  <tbody>\n",
       "    <tr>\n",
       "      <th>6</th>\n",
       "      <td>Pressure_PPLS (PSI)</td>\n",
       "      <td>0.143068</td>\n",
       "      <td>30</td>\n",
       "      <td>-0.404306</td>\n",
       "    </tr>\n",
       "    <tr>\n",
       "      <th>9</th>\n",
       "      <td>Vsand_PPLS</td>\n",
       "      <td>0.154003</td>\n",
       "      <td>95</td>\n",
       "      <td>1.080719</td>\n",
       "    </tr>\n",
       "    <tr>\n",
       "      <th>33</th>\n",
       "      <td>Max_Treating_pressure (KPa)</td>\n",
       "      <td>0.155262</td>\n",
       "      <td>60</td>\n",
       "      <td>1.254992</td>\n",
       "    </tr>\n",
       "    <tr>\n",
       "      <th>41</th>\n",
       "      <td>Stage_Spacing (ft)</td>\n",
       "      <td>0.156077</td>\n",
       "      <td>65</td>\n",
       "      <td>-0.058856</td>\n",
       "    </tr>\n",
       "    <tr>\n",
       "      <th>10</th>\n",
       "      <td>Vclay_PPLS</td>\n",
       "      <td>0.159412</td>\n",
       "      <td>35</td>\n",
       "      <td>0.996114</td>\n",
       "    </tr>\n",
       "  </tbody>\n",
       "</table>\n",
       "</div>"
      ],
      "text/plain": [
       "                           feat       mse  breakpoint  threshold\n",
       "6           Pressure_PPLS (PSI)  0.143068          30  -0.404306\n",
       "9                    Vsand_PPLS  0.154003          95   1.080719\n",
       "33  Max_Treating_pressure (KPa)  0.155262          60   1.254992\n",
       "41           Stage_Spacing (ft)  0.156077          65  -0.058856\n",
       "10                   Vclay_PPLS  0.159412          35   0.996114"
      ]
     },
     "execution_count": 51,
     "metadata": {},
     "output_type": "execute_result"
    }
   ],
   "source": [
    "z.head()"
   ]
  },
  {
   "cell_type": "code",
   "execution_count": 55,
   "metadata": {},
   "outputs": [
    {
     "name": "stdout",
     "output_type": "stream",
     "text": [
      "\n",
      "target variance: 0.476604565166\n",
      "--------------------------------\n"
     ]
    }
   ],
   "source": [
    "z2=find_split(dfa,step=2,attr=cand)"
   ]
  },
  {
   "cell_type": "code",
   "execution_count": 56,
   "metadata": {},
   "outputs": [
    {
     "data": {
      "text/html": [
       "<div>\n",
       "<style scoped>\n",
       "    .dataframe tbody tr th:only-of-type {\n",
       "        vertical-align: middle;\n",
       "    }\n",
       "\n",
       "    .dataframe tbody tr th {\n",
       "        vertical-align: top;\n",
       "    }\n",
       "\n",
       "    .dataframe thead th {\n",
       "        text-align: right;\n",
       "    }\n",
       "</style>\n",
       "<table border=\"1\" class=\"dataframe\">\n",
       "  <thead>\n",
       "    <tr style=\"text-align: right;\">\n",
       "      <th></th>\n",
       "      <th>feat</th>\n",
       "      <th>mse</th>\n",
       "      <th>breakpoint</th>\n",
       "      <th>threshold</th>\n",
       "    </tr>\n",
       "  </thead>\n",
       "  <tbody>\n",
       "    <tr>\n",
       "      <th>0</th>\n",
       "      <td>Pressure_PPLS (PSI)</td>\n",
       "      <td>0.142438</td>\n",
       "      <td>68</td>\n",
       "      <td>-0.359815</td>\n",
       "    </tr>\n",
       "    <tr>\n",
       "      <th>4</th>\n",
       "      <td>Lateral_Length (ft)</td>\n",
       "      <td>0.150606</td>\n",
       "      <td>34</td>\n",
       "      <td>-0.041386</td>\n",
       "    </tr>\n",
       "    <tr>\n",
       "      <th>3</th>\n",
       "      <td>Stage_Spacing (ft)</td>\n",
       "      <td>0.151942</td>\n",
       "      <td>66</td>\n",
       "      <td>-0.193303</td>\n",
       "    </tr>\n",
       "    <tr>\n",
       "      <th>2</th>\n",
       "      <td>Max_Treating_pressure (KPa)</td>\n",
       "      <td>0.155262</td>\n",
       "      <td>60</td>\n",
       "      <td>1.254992</td>\n",
       "    </tr>\n",
       "    <tr>\n",
       "      <th>6</th>\n",
       "      <td>deltaT_Comp_Prod</td>\n",
       "      <td>0.156164</td>\n",
       "      <td>12</td>\n",
       "      <td>-0.359815</td>\n",
       "    </tr>\n",
       "    <tr>\n",
       "      <th>8</th>\n",
       "      <td>Shot_Density (shots/ft)</td>\n",
       "      <td>0.161692</td>\n",
       "      <td>56</td>\n",
       "      <td>-0.108699</td>\n",
       "    </tr>\n",
       "    <tr>\n",
       "      <th>9</th>\n",
       "      <td>Avg_Breakdown_Pressure (KPa)</td>\n",
       "      <td>0.162171</td>\n",
       "      <td>10</td>\n",
       "      <td>-0.576744</td>\n",
       "    </tr>\n",
       "  </tbody>\n",
       "</table>\n",
       "</div>"
      ],
      "text/plain": [
       "                           feat       mse  breakpoint  threshold\n",
       "0           Pressure_PPLS (PSI)  0.142438          68  -0.359815\n",
       "4           Lateral_Length (ft)  0.150606          34  -0.041386\n",
       "3            Stage_Spacing (ft)  0.151942          66  -0.193303\n",
       "2   Max_Treating_pressure (KPa)  0.155262          60   1.254992\n",
       "6              deltaT_Comp_Prod  0.156164          12  -0.359815\n",
       "8       Shot_Density (shots/ft)  0.161692          56  -0.108699\n",
       "9  Avg_Breakdown_Pressure (KPa)  0.162171          10  -0.576744"
      ]
     },
     "execution_count": 56,
     "metadata": {},
     "output_type": "execute_result"
    }
   ],
   "source": [
    "z2.head(7)"
   ]
  },
  {
   "cell_type": "code",
   "execution_count": 60,
   "metadata": {},
   "outputs": [
    {
     "data": {
      "text/plain": [
       "<matplotlib.collections.PathCollection at 0x7fb154222978>"
      ]
     },
     "execution_count": 60,
     "metadata": {},
     "output_type": "execute_result"
    },
    {
     "data": {
      "image/png": "[encoded data removed]",
      "text/plain": [
       "<matplotlib.figure.Figure at 0x7fb15437f7b8>"
      ]
     },
     "metadata": {},
     "output_type": "display_data"
    }
   ],
   "source": [
    "plt.scatter(dfa['Pressure_PPLS (PSI)'],dfa['GasCum360'])"
   ]
  },
  {
   "cell_type": "markdown",
   "metadata": {},
   "source": [
    "**We split by \"Pressure_PPLS\"**"
   ]
  },
  {
   "cell_type": "code",
   "execution_count": 49,
   "metadata": {},
   "outputs": [],
   "source": [
    "dfaa=dfa[dfa['Pressure_PPLS (PSI)']< 0.143]\n",
    "dfab=dfa[dfa['Pressure_PPLS (PSI)']>= 0.143]"
   ]
  },
  {
   "cell_type": "code",
   "execution_count": 50,
   "metadata": {},
   "outputs": [
    {
     "name": "stdout",
     "output_type": "stream",
     "text": [
      "[ 0.0481801  -6.02496957 -4.10315968]\n",
      "                            OLS Regression Results                            \n",
      "==============================================================================\n",
      "Dep. Variable:                      y   R-squared:                       0.590\n",
      "Model:                            OLS   Adj. R-squared:                  0.567\n",
      "Method:                 Least Squares   F-statistic:                     26.57\n",
      "Date:                Sun, 18 Feb 2018   Prob (F-statistic):           7.02e-08\n",
      "Time:                        18:49:26   Log-Likelihood:                -20.644\n",
      "No. Observations:                  40   AIC:                             47.29\n",
      "Df Residuals:                      37   BIC:                             52.36\n",
      "Df Model:                           2                                         \n",
      "Covariance Type:            nonrobust                                         \n",
      "==============================================================================\n",
      "                 coef    std err          t      P>|t|      [0.025      0.975]\n",
      "------------------------------------------------------------------------------\n",
      "const          0.0032      0.067      0.048      0.962      -0.132       0.138\n",
      "x1            -0.1540      0.026     -6.025      0.000      -0.206      -0.102\n",
      "x2            -0.1478      0.036     -4.103      0.000      -0.221      -0.075\n",
      "==============================================================================\n",
      "Omnibus:                        0.332   Durbin-Watson:                   2.500\n",
      "Prob(Omnibus):                  0.847   Jarque-Bera (JB):                0.285\n",
      "Skew:                          -0.188   Prob(JB):                        0.867\n",
      "Kurtosis:                       2.826   Cond. No.                         2.61\n",
      "==============================================================================\n",
      "\n",
      "Warnings:\n",
      "[1] Standard Errors assume that the covariance matrix of the errors is correctly specified.\n",
      "var: 0.400413775009\n",
      "var res: 0.164365852511\n",
      "KstestResult(statistic=0.1041972953122553, pvalue=0.78492936366601196)\n"
     ]
    },
    {
     "data": {
      "image/png": "[encoded data removed]",
      "text/plain": [
       "<matplotlib.figure.Figure at 0x7fe708a03390>"
      ]
     },
     "metadata": {},
     "output_type": "display_data"
    },
    {
     "data": {
      "image/png": "[encoded data removed]",
      "text/plain": [
       "<matplotlib.figure.Figure at 0x7fe7089af3c8>"
      ]
     },
     "metadata": {},
     "output_type": "display_data"
    },
    {
     "data": {
      "image/png": "[encoded data removed]",
      "text/plain": [
       "<matplotlib.figure.Figure at 0x7fe708971eb8>"
      ]
     },
     "metadata": {},
     "output_type": "display_data"
    },
    {
     "data": {
      "image/png": "[encoded data removed]",
      "text/plain": [
       "<matplotlib.figure.Figure at 0x7fe708983748>"
      ]
     },
     "metadata": {},
     "output_type": "display_data"
    }
   ],
   "source": [
    "model(dfaa)# residuals vs fitted is a problem"
   ]
  },
  {
   "cell_type": "markdown",
   "metadata": {},
   "source": [
    "**Again, for this half of the split, the residuals vs fitted plot lets us assume that the linearity assumption does not hold** We will need another split or sth else."
   ]
  },
  {
   "cell_type": "code",
   "execution_count": 51,
   "metadata": {},
   "outputs": [
    {
     "name": "stdout",
     "output_type": "stream",
     "text": [
      "[ 6.16867102  5.15557053 -3.34529053  4.12801644 -5.62446936 -3.30302889]\n",
      "                            OLS Regression Results                            \n",
      "==============================================================================\n",
      "Dep. Variable:                      y   R-squared:                       0.611\n",
      "Model:                            OLS   Adj. R-squared:                  0.580\n",
      "Method:                 Least Squares   F-statistic:                     19.47\n",
      "Date:                Sun, 18 Feb 2018   Prob (F-statistic):           1.32e-11\n",
      "Time:                        18:49:27   Log-Likelihood:                -39.422\n",
      "No. Observations:                  68   AIC:                             90.84\n",
      "Df Residuals:                      62   BIC:                             104.2\n",
      "Df Model:                           5                                         \n",
      "Covariance Type:            nonrobust                                         \n",
      "==============================================================================\n",
      "                 coef    std err          t      P>|t|      [0.025      0.975]\n",
      "------------------------------------------------------------------------------\n",
      "const          0.3385      0.055      6.169      0.000       0.229       0.448\n",
      "x1             0.0940      0.018      5.156      0.000       0.058       0.131\n",
      "x2            -0.0812      0.024     -3.345      0.001      -0.130      -0.033\n",
      "x3             0.1148      0.028      4.128      0.000       0.059       0.170\n",
      "x4            -0.1774      0.032     -5.624      0.000      -0.240      -0.114\n",
      "x5            -0.6164      0.187     -3.303      0.002      -0.989      -0.243\n",
      "==============================================================================\n",
      "Omnibus:                        1.409   Durbin-Watson:                   2.027\n",
      "Prob(Omnibus):                  0.494   Jarque-Bera (JB):                1.279\n",
      "Skew:                           0.329   Prob(JB):                        0.527\n",
      "Kurtosis:                       2.861   Cond. No.                         10.2\n",
      "==============================================================================\n",
      "\n",
      "Warnings:\n",
      "[1] Standard Errors assume that the covariance matrix of the errors is correctly specified.\n",
      "var: 0.479791066299\n",
      "var res: 0.186670326269\n",
      "KstestResult(statistic=0.071314119971124912, pvalue=0.87967246751914963)\n"
     ]
    },
    {
     "data": {
      "image/png": "[encoded data removed]",
      "text/plain": [
       "<matplotlib.figure.Figure at 0x7fe7089398d0>"
      ]
     },
     "metadata": {},
     "output_type": "display_data"
    },
    {
     "data": {
      "image/png": "[encoded data removed]",
      "text/plain": [
       "<matplotlib.figure.Figure at 0x7fe7088792b0>"
      ]
     },
     "metadata": {},
     "output_type": "display_data"
    },
    {
     "data": {
      "image/png": "[encoded data removed]",
      "text/plain": [
       "<matplotlib.figure.Figure at 0x7fe70883e438>"
      ]
     },
     "metadata": {},
     "output_type": "display_data"
    },
    {
     "data": {
      "image/png": "[encoded data removed]",
      "text/plain": [
       "<matplotlib.figure.Figure at 0x7fe708868748>"
      ]
     },
     "metadata": {},
     "output_type": "display_data"
    }
   ],
   "source": [
    "model(dfab)# residuals vs fitted is ok"
   ]
  },
  {
   "cell_type": "markdown",
   "metadata": {},
   "source": [
    "## conclusion: \n",
    "**To Sum up we have the following final subsets:** ( only leaves of the splitting tree will be mentioned.)\n",
    "\n",
    "**dfb**   33 observations, model ok\n",
    "\n",
    "**dfaa**   40 observations,  problem with linearity assumption\n",
    "\n",
    "**dfab**   68 observations, model is ok\n",
    "\n",
    "\n",
    "**We can conculde that by making splits, we manage to fulfil the model assumptions for 2 of 3 subsets**\n",
    "The non- linearity for dfaa could eventually be resolved by making another split, the problem is that the number of observations will get too small.\n",
    "\n",
    " "
   ]
  },
  {
   "cell_type": "markdown",
   "metadata": {},
   "source": [
    "## Example of *findtr*"
   ]
  },
  {
   "cell_type": "code",
   "execution_count": 57,
   "metadata": {},
   "outputs": [
    {
     "name": "stdout",
     "output_type": "stream",
     "text": [
      "\n",
      "target variance: 0.476604565166\n",
      "--------------------------------\n"
     ]
    },
    {
     "data": {
      "text/html": [
       "<div>\n",
       "<style scoped>\n",
       "    .dataframe tbody tr th:only-of-type {\n",
       "        vertical-align: middle;\n",
       "    }\n",
       "\n",
       "    .dataframe tbody tr th {\n",
       "        vertical-align: top;\n",
       "    }\n",
       "\n",
       "    .dataframe thead th {\n",
       "        text-align: right;\n",
       "    }\n",
       "</style>\n",
       "<table border=\"1\" class=\"dataframe\">\n",
       "  <thead>\n",
       "    <tr style=\"text-align: right;\">\n",
       "      <th></th>\n",
       "      <th>feat</th>\n",
       "      <th>mse</th>\n",
       "      <th>cor</th>\n",
       "      <th>threshold</th>\n",
       "    </tr>\n",
       "  </thead>\n",
       "  <tbody>\n",
       "    <tr>\n",
       "      <th>4</th>\n",
       "      <td>Depth_TVD_PPLS (ft)</td>\n",
       "      <td>0.350646</td>\n",
       "      <td>-0.518314</td>\n",
       "      <td>-0.216610</td>\n",
       "    </tr>\n",
       "    <tr>\n",
       "      <th>3</th>\n",
       "      <td>Lateral_Length (ft)</td>\n",
       "      <td>0.367591</td>\n",
       "      <td>0.483547</td>\n",
       "      <td>0.990852</td>\n",
       "    </tr>\n",
       "    <tr>\n",
       "      <th>26</th>\n",
       "      <td>Proppant_Designed (kg)</td>\n",
       "      <td>0.367806</td>\n",
       "      <td>0.471166</td>\n",
       "      <td>0.990852</td>\n",
       "    </tr>\n",
       "    <tr>\n",
       "      <th>27</th>\n",
       "      <td>Proppant_in_Formation (kg)</td>\n",
       "      <td>0.372815</td>\n",
       "      <td>0.468941</td>\n",
       "      <td>1.773145</td>\n",
       "    </tr>\n",
       "    <tr>\n",
       "      <th>20</th>\n",
       "      <td>S3Tect_PPLS (PSI)</td>\n",
       "      <td>0.373136</td>\n",
       "      <td>-0.321121</td>\n",
       "      <td>0.361823</td>\n",
       "    </tr>\n",
       "    <tr>\n",
       "      <th>2</th>\n",
       "      <td>Surf_Y</td>\n",
       "      <td>0.377760</td>\n",
       "      <td>0.483742</td>\n",
       "      <td>0.456733</td>\n",
       "    </tr>\n",
       "    <tr>\n",
       "      <th>6</th>\n",
       "      <td>Pressure_PPLS (PSI)</td>\n",
       "      <td>0.381583</td>\n",
       "      <td>0.283141</td>\n",
       "      <td>1.190444</td>\n",
       "    </tr>\n",
       "  </tbody>\n",
       "</table>\n",
       "</div>"
      ],
      "text/plain": [
       "                          feat       mse       cor  threshold\n",
       "4          Depth_TVD_PPLS (ft)  0.350646 -0.518314  -0.216610\n",
       "3          Lateral_Length (ft)  0.367591  0.483547   0.990852\n",
       "26      Proppant_Designed (kg)  0.367806  0.471166   0.990852\n",
       "27  Proppant_in_Formation (kg)  0.372815  0.468941   1.773145\n",
       "20           S3Tect_PPLS (PSI)  0.373136 -0.321121   0.361823\n",
       "2                       Surf_Y  0.377760  0.483742   0.456733\n",
       "6          Pressure_PPLS (PSI)  0.381583  0.283141   1.190444"
      ]
     },
     "execution_count": 57,
     "metadata": {},
     "output_type": "execute_result"
    }
   ],
   "source": [
    "z=findtr(dfa)\n",
    "z.head(7)"
   ]
  },
  {
   "cell_type": "markdown",
   "metadata": {},
   "source": [
    "We see that the ranking of candidates is different using the *findr* function. Maybe we should retry the split of dfa using *Depth_TVD_PPLS (ft)*"
   ]
  }
 ],
 "metadata": {
  "kernelspec": {
   "display_name": "Python 3",
   "language": "python",
   "name": "python3"
  },
  "language_info": {
   "codemirror_mode": {
    "name": "ipython",
    "version": 3
   },
   "file_extension": ".py",
   "mimetype": "text/x-python",
   "name": "python",
   "nbconvert_exporter": "python",
   "pygments_lexer": "ipython3",
   "version": "3.5.4"
  }
 },
 "nbformat": 4,
 "nbformat_minor": 2
}
