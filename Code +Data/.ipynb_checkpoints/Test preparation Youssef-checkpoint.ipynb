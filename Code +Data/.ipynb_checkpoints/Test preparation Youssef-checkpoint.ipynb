{
 "cells": [
  {
   "cell_type": "markdown",
   "metadata": {},
   "source": [
    "# Test set preparation - Outliers and missing values"
   ]
  },
  {
   "cell_type": "code",
   "execution_count": null,
   "metadata": {},
   "outputs": [],
   "source": [
    "# Data exploration tools\n",
    "\n",
    "import os\n",
    "import datetime as dt\n",
    "import numpy as np\n",
    "import pandas as pd\n",
    "import seaborn as sns\n",
    "from sklearn import linear_model\n",
    "import outlier_removal as out\n",
    "import matplotlib.pyplot as plt\n",
    "%matplotlib inline\n",
    "\n",
    "os.chdir(b\"C:\\Users\\EDDAHABI\\Documents\\GitHub\\ProjetISA\")\n",
    "\n",
    "df = pd.read_csv('Code +Data/TestSample.csv',sep=';',decimal=',')\n",
    "df.head()"
   ]
  },
  {
   "cell_type": "code",
   "execution_count": null,
   "metadata": {},
   "outputs": [],
   "source": [
    "df.describe()"
   ]
  },
  {
   "cell_type": "code",
   "execution_count": null,
   "metadata": {},
   "outputs": [],
   "source": [
    "# Heatmap for correlation between variables\n",
    "\n",
    "corr = df.select_dtypes(include = ['float64', 'int64']).iloc[:,1:].corr()\n",
    "fig = plt.figure(figsize=(15,10))\n",
    "sns.set(font_scale=1)  \n",
    "sns.heatmap(corr, vmax=1, square=True)"
   ]
  },
  {
   "cell_type": "code",
   "execution_count": null,
   "metadata": {},
   "outputs": [],
   "source": [
    "# Variables with MV to estimate:\n",
    "\n",
    "mv=df.isnull().sum()\n",
    "print(mv)"
   ]
  },
  {
   "cell_type": "markdown",
   "metadata": {},
   "source": [
    "## Helpful functions"
   ]
  },
  {
   "cell_type": "markdown",
   "metadata": {},
   "source": [
    "### Outliers extrection and replacing methods"
   ]
  },
  {
   "cell_type": "code",
   "execution_count": null,
   "metadata": {
    "collapsed": true
   },
   "outputs": [],
   "source": [
    "def vis_and_return_Outl(df,column,factor_iqr,a=-6,b=6,delta=0.5):\n",
    "    bins2=np.arange(a,b,delta)\n",
    "    df.boxplot(column,return_type='dict',whis=factor_iqr)\n",
    "    plt.title('outliers')\n",
    "    y=df[column]\n",
    "    x=range(1, len(y)+1)\n",
    "   # plt.figure()\n",
    "    #plt.title(column+ \" plottet against random\")\n",
    "    #plt.plot(x,y,'.')\n",
    "    plt.figure()\n",
    "    plt.hist(df.dropna()[column],bins=bins2,normed=True,color='b')\n",
    "    plt.xlabel(column)\n",
    "   #quartiles\n",
    "    Q1=np.percentile(df.dropna()[column],25)\n",
    "    Q3=np.percentile(df.dropna()[column],75)\n",
    "    iqr=Q3-Q1\n",
    "    #identify outliers\n",
    "    mean=np.mean(df[column])\n",
    "    index=np.logical_or(df[column]< Q1 - factor_iqr*iqr, df[column]> Q3 + factor_iqr*iqr)\n",
    "    outliers=df[index]\n",
    "    return outliers\n",
    "\n",
    "def outliers(df,column,factor_iqr):\n",
    "    #quartiles\n",
    "    Q1=np.percentile(df.dropna()[column],25)\n",
    "    Q3=np.percentile(df.dropna()[column],75)\n",
    "    iqr=Q3-Q1    \n",
    "    #identify outliers\n",
    "    mean=np.mean(df[column])\n",
    "    index=np.logical_or(df[column]< Q1 - factor_iqr*iqr, df[column]> Q3 + factor_iqr*iqr)\n",
    "    outliers=df[index]\n",
    "    return outliers\n",
    "    \n",
    "def replace_by_mean(df,column,outliers):\n",
    "    m=np.mean(df[column])\n",
    "    df.loc[outliers.index,column]=m\n",
    "    "
   ]
  },
  {
   "cell_type": "markdown",
   "metadata": {},
   "source": [
    "### Correlated columns"
   ]
  },
  {
   "cell_type": "markdown",
   "metadata": {},
   "source": [
    "To find, for a given column, another column with the highest possible correlation"
   ]
  },
  {
   "cell_type": "code",
   "execution_count": null,
   "metadata": {
    "collapsed": true
   },
   "outputs": [],
   "source": [
    "def find_cor(name,df):\n",
    "    cor=df.corr()\n",
    "    index=df.columns.get_loc(name)\n",
    "    if(index>2):#Dates fall out, to be corrected when we have dates\n",
    "        index=index-3\n",
    "    cor=cor[name]\n",
    "    c=[np.abs(e) for e in cor]\n",
    "    c[index]=0 # highsest correltion is with it self\n",
    "    max_cor=np.max(c)\n",
    "    print(max_cor)\n",
    "    max_cor_index=c.index(max_cor)\n",
    "    if( max_cor_index>2):\n",
    "        max_cor_index=max_cor_index+3 # Dates fall out, calculate dataframe index\n",
    "    max_cor_name=df.columns[max_cor_index]\n",
    "    print(max_cor_name)\n",
    "    return max_cor_name"
   ]
  },
  {
   "cell_type": "markdown",
   "metadata": {},
   "source": [
    "### Linear 1D fit"
   ]
  },
  {
   "cell_type": "code",
   "execution_count": null,
   "metadata": {
    "collapsed": true
   },
   "outputs": [],
   "source": [
    "def lin_regr(namex,namey):\n",
    "    model = linear_model.LinearRegression()\n",
    "    nansx= np.array(np.isnan(df[namex]))\n",
    "    nansy= np.array(np.isnan(df[namey]))\n",
    "    nan=np.logical_or(nansx,nansy)\n",
    "    df_nonans=df[np.logical_not(nan)]\n",
    "    x=df_nonans[namex].values\n",
    "    x=[e for e in x]\n",
    "    x=np.array(x)\n",
    "    y=df_nonans[namey].values\n",
    "    y=[e for e in y]\n",
    "    y=np.array(y)\n",
    "    model.fit(x[:, np.newaxis], y)\n",
    "    res= model.coef_\n",
    "    print(\"we estimate y= ax+b, with a equals:\"+ str(res))\n",
    "    return res"
   ]
  },
  {
   "cell_type": "markdown",
   "metadata": {},
   "source": [
    "## Data processing (194 lines)"
   ]
  },
  {
   "cell_type": "markdown",
   "metadata": {},
   "source": [
    "We select only those 194 lines, that do not have the group of 18 features missing"
   ]
  },
  {
   "cell_type": "code",
   "execution_count": null,
   "metadata": {},
   "outputs": [],
   "source": [
    "df=df[~ np.logical_and(np.isnan(df['Nbr_Stages']), np.isnan(df['Stage_Spacing (ft)'])  )] ## remove 97 lines with 18 missing\n",
    "len(df)"
   ]
  },
  {
   "cell_type": "markdown",
   "metadata": {},
   "source": [
    "As shown in the global analysis, these two variables belong to the set of variables that have 42 missing lines in common. We decided to cut these 42 lines off ( for these variables only) and do the cleaning on the remaining 194 lines. We treat them together as they have high correlation. We can estimate the missing vals of one by the ones of another. But we have to be careful not to use estimations of in one of the estiamtions of another. Also we want to remove the outliers before, so they do not influence the imputation and they can be estimated together with the missing values.\n"
   ]
  },
  {
   "cell_type": "code",
   "execution_count": null,
   "metadata": {},
   "outputs": [],
   "source": [
    "mv=df.isnull().sum()\n",
    "print(mv)"
   ]
  },
  {
   "cell_type": "markdown",
   "metadata": {},
   "source": [
    "### Date_Drilling / Date_Completion / Date Production"
   ]
  },
  {
   "cell_type": "code",
   "execution_count": null,
   "metadata": {},
   "outputs": [],
   "source": [
    "# Convert date variables to date time\n",
    "# Missing dates\n",
    "\n",
    "pd.to_datetime(df[\"Date_Drilling\"])\n",
    "df[\"Date_Drilling\"]=pd.to_datetime(df[\"Date_Drilling\"])\n",
    "df[\"Date_Completion\"]=pd.to_datetime(df[\"Date_Completion\"])\n",
    "df[\"Date_Production\"]=pd.to_datetime(df[\"Date_Production\"])\n",
    "df[\"deltaT_Comp_Prod\"]=(df[\"Date_Production\"]-df[\"Date_Completion\"]).dt.days\n",
    "###\n",
    "cols = df.columns.tolist()\n",
    "df=df[cols[:6]+[cols[-1]]+cols[6:-1]]\n",
    "\n",
    "#Visualizing distribution of deltaT_Dril_Comp  \n",
    "\n",
    "plt.figure(figsize=(12,8))\n",
    "plt.subplot(122)\n",
    "sns.distplot(df.deltaT_Comp_Prod.dropna(),kde=False)\n",
    "plt.xlabel(\"deltaT_Comp_Prod\")"
   ]
  },
  {
   "cell_type": "code",
   "execution_count": null,
   "metadata": {},
   "outputs": [],
   "source": [
    "plt.figure()\n",
    "[(h.get_x(),h.get_height()) for h in sns.distplot(df.deltaT_Comp_Prod.dropna(),kde=False).patches]\n",
    "#On prend donc le mean des deux valeurs les plus fréquents:80.8 et 26.39 = 53.3 Jrs"
   ]
  },
  {
   "cell_type": "code",
   "execution_count": null,
   "metadata": {},
   "outputs": [],
   "source": [
    "df.iloc[:,3:7][df.iloc[:,3:7][\"Date_Production\"].map(lambda x: x.year)==2016]"
   ]
  },
  {
   "cell_type": "markdown",
   "metadata": {},
   "source": [
    "As we can see in the csv file there is only one line that has \"Date_Completion\" missing in the 194 lines group.\n"
   ]
  },
  {
   "cell_type": "code",
   "execution_count": null,
   "metadata": {},
   "outputs": [],
   "source": [
    "#Filling the missing date:\n",
    "df.loc[49,'deltaT_Comp_Prod']=53.3\n",
    "df.loc[49,'Date_Completion']=df.loc[49,'Date_Production']-dt.timedelta(days=df.loc[49,'deltaT_Comp_Prod'])"
   ]
  },
  {
   "cell_type": "markdown",
   "metadata": {
    "collapsed": true
   },
   "source": [
    "### ShutInPressure_Fil (KPa) and ShutInPressure_Initial"
   ]
  },
  {
   "cell_type": "markdown",
   "metadata": {},
   "source": [
    "#### Outliers ....Fil\n",
    "we use our customzied function vis_and return Outl"
   ]
  },
  {
   "cell_type": "code",
   "execution_count": null,
   "metadata": {},
   "outputs": [],
   "source": [
    "outs_Fil=vis_and_return_Outl(df,\"ShutInPressure_Fil (KPa)\",1.5,a=-6,b=5)\n",
    "outs_Fil"
   ]
  },
  {
   "cell_type": "markdown",
   "metadata": {},
   "source": [
    "We delete the outliers (API = 87 and 160).(to na)"
   ]
  },
  {
   "cell_type": "code",
   "execution_count": null,
   "metadata": {},
   "outputs": [],
   "source": [
    "rows=outs_Fil.index\n",
    "df.loc[rows,'ShutInPressure_Fil (KPa)']=np.nan\n",
    "df.loc[rows,'ShutInPressure_Fil (KPa)']# to verify the removal"
   ]
  },
  {
   "cell_type": "markdown",
   "metadata": {},
   "source": [
    "#### Outliers  Shut.....Inital"
   ]
  },
  {
   "cell_type": "code",
   "execution_count": null,
   "metadata": {},
   "outputs": [],
   "source": [
    "outs_Initial=vis_and_return_Outl(df,\"ShutInPressure_Initial (KPa)\",1.5)\n",
    "outs_Initial"
   ]
  },
  {
   "cell_type": "markdown",
   "metadata": {},
   "source": [
    "using the histogram, we decide not to change the small outlier."
   ]
  },
  {
   "cell_type": "markdown",
   "metadata": {},
   "source": [
    "#### Replace Missing Values"
   ]
  },
  {
   "cell_type": "code",
   "execution_count": null,
   "metadata": {},
   "outputs": [],
   "source": [
    "missing_Fil= np.isnan(df['ShutInPressure_Fil (KPa)'])\n",
    "print('missing Fil:     '+  str(sum(missing_Fil)))\n",
    "missing_Init= np.isnan(df['ShutInPressure_Initial (KPa)'])\n",
    "print('missing Initial:  '+ str(sum(missing_Init)))\n",
    "missing_both=np.logical_and(missing_Fil,missing_Init)\n",
    "print('missing both:     '+ str(sum(missing_both)))\n",
    "no_missing=np.logical_not(missing_both)\n",
    "no_missing_Fil=np.logical_not(missing_Fil)\n",
    "no_missing_Init=np.logical_not(missing_Init)\n",
    "only_Fil_missing=np.logical_and(missing_Fil,no_missing_Init)\n",
    "only_Init_missing=np.logical_and(missing_Init,no_missing_Fil)\n",
    "cor=df[['ShutInPressure_Initial (KPa)','ShutInPressure_Fil (KPa)']].corr()\n",
    "print('correlation     ' + str(cor.iloc[0,1]))"
   ]
  },
  {
   "cell_type": "markdown",
   "metadata": {},
   "source": [
    "#### Estimate missing vals of ShutIn...Fil\n",
    "As there is a high correlation between the two variables, we can  use linear regression to estimate the missing values that they do not have in common. The line, that both of them are missing has to be estimated by the means."
   ]
  },
  {
   "cell_type": "markdown",
   "metadata": {},
   "source": [
    "So we can try a linear fit with our customzed function:"
   ]
  },
  {
   "cell_type": "code",
   "execution_count": null,
   "metadata": {},
   "outputs": [],
   "source": [
    "a=lin_regr(find_cor('ShutInPressure_Fil (KPa)',df),'ShutInPressure_Fil (KPa)')\n",
    "m1=np.mean(df['ShutInPressure_Initial (KPa)'])\n",
    "m2=np.mean(df['ShutInPressure_Fil (KPa)'])\n",
    "rows_Fil=df[only_Fil_missing].index\n",
    "rows_both=df[missing_both].index\n",
    "df.loc[rows_Fil,'ShutInPressure_Fil (KPa)']=(df['ShutInPressure_Initial (KPa)'][only_Fil_missing]- m1)*a+ m2\n",
    "df.loc[rows_both,'ShutInPressure_Fil (KPa)']=m2\n",
    "print (len(rows_Fil))"
   ]
  },
  {
   "cell_type": "markdown",
   "metadata": {},
   "source": [
    "we could not estimate one value as its missing in ShutInPressure_Initial as well. So we have to replace it with the mean."
   ]
  },
  {
   "cell_type": "markdown",
   "metadata": {},
   "source": [
    "now we have no more missing values. make scatter plot to check how the estimation was."
   ]
  },
  {
   "cell_type": "code",
   "execution_count": null,
   "metadata": {},
   "outputs": [],
   "source": [
    "plt.figure(figsize=(8,8))\n",
    "plt.scatter(df['ShutInPressure_Initial (KPa)'][no_missing_Fil],df['ShutInPressure_Fil (KPa)'][no_missing_Fil],color='blue',s=5,label='originals')\n",
    "plt.scatter(df['ShutInPressure_Initial (KPa)'][~no_missing_Fil],df['ShutInPressure_Fil (KPa)'][~no_missing_Fil],color='red',s=12,label='replaced')\n",
    "plt.xlabel('ShutIn..Inital')\n",
    "plt.ylabel('Shut In..Fil')\n",
    "plt.legend()"
   ]
  },
  {
   "cell_type": "markdown",
   "metadata": {},
   "source": [
    "#### Estimate missing vals of ShutIn...Initial\n"
   ]
  },
  {
   "cell_type": "code",
   "execution_count": null,
   "metadata": {},
   "outputs": [],
   "source": [
    "a=lin_regr(find_cor('ShutInPressure_Initial (KPa)',df),'ShutInPressure_Initial (KPa)')\n",
    "m1=np.mean(df['ShutInPressure_Fil (KPa)'])\n",
    "m2=np.mean(df['ShutInPressure_Initial (KPa)'])\n",
    "rows_In=df[only_Init_missing].index\n",
    "df.loc[rows_In,'ShutInPressure_Initial (KPa)']=(df['ShutInPressure_Fil (KPa)'][only_Init_missing]- m1)*a+ m2\n",
    "df.loc[rows_both,'ShutInPressure_Initial (KPa)']=m2# estimate with mean"
   ]
  },
  {
   "cell_type": "code",
   "execution_count": null,
   "metadata": {},
   "outputs": [],
   "source": [
    "plt.figure(figsize=(8,8))\n",
    "plt.scatter(df['ShutInPressure_Fil (KPa)'][~only_Init_missing],df['ShutInPressure_Initial (KPa)'][~only_Init_missing],color='blue',s=5,label='originals')\n",
    "plt.scatter(df['ShutInPressure_Fil (KPa)'][only_Init_missing],df['ShutInPressure_Initial (KPa)'][only_Init_missing],color='red',s=30,label='replaced')\n",
    "plt.ylabel('ShutInP...Initial')\n",
    "plt.xlabel('ShutInP...Fil')\n",
    "plt.legend()"
   ]
  },
  {
   "cell_type": "markdown",
   "metadata": {},
   "source": [
    "### ISIP (KPa)\n",
    "*Normalized Instantaneous Shut-In Pressure (PSI), proxy to the stress in the reservoir*\n",
    "#### Outliers"
   ]
  },
  {
   "cell_type": "code",
   "execution_count": null,
   "metadata": {},
   "outputs": [],
   "source": [
    "outs_Isip=vis_and_return_Outl(df,\"ISIP (KPa)\",2)\n",
    "rows=df[\"ISIP (KPa)\"][df[\"ISIP (KPa)\"]>2].index\n",
    "df.loc[rows,\"ISIP (KPa)\"]=np.nan # verified\n",
    "outs_Isip"
   ]
  },
  {
   "cell_type": "markdown",
   "metadata": {},
   "source": [
    "We replace the outlier by the mean."
   ]
  },
  {
   "cell_type": "code",
   "execution_count": null,
   "metadata": {
    "collapsed": true
   },
   "outputs": [],
   "source": [
    "df.loc[44,'ISIP (KPa)']=np.mean(df['ISIP (KPa)']) "
   ]
  },
  {
   "cell_type": "markdown",
   "metadata": {},
   "source": [
    "#### Replace missing values"
   ]
  },
  {
   "cell_type": "code",
   "execution_count": null,
   "metadata": {},
   "outputs": [],
   "source": [
    "missing_Isip= np.isnan(df['ISIP (KPa)'])\n",
    "print('missing Isip:     '+  str(sum(missing_Isip)))\n",
    "df[missing_Isip]"
   ]
  },
  {
   "cell_type": "code",
   "execution_count": null,
   "metadata": {},
   "outputs": [],
   "source": [
    "find_cor('ISIP (KPa)',df)"
   ]
  },
  {
   "cell_type": "markdown",
   "metadata": {},
   "source": [
    "As ShutInPressure_Fil (KPa) has missing values or outliers in the same lines, we check the correlation with ShutIn..Inital is the highest ( not shown here. Luckily ShutInP....Fil did not have missing vals in the same lines. So we can use it to estimate the 3 missing vals:"
   ]
  },
  {
   "cell_type": "code",
   "execution_count": null,
   "metadata": {},
   "outputs": [],
   "source": [
    "a3=lin_regr('ShutInPressure_Initial (KPa)','ISIP (KPa)')\n",
    "m1=np.mean(df['ShutInPressure_Initial (KPa)'])\n",
    "m2=np.mean(df['ISIP (KPa)'])\n",
    "rows=df['ISIP (KPa)'][missing_Isip].index\n",
    "df.loc[rows,'ISIP (KPa)']=(df['ShutInPressure_Initial (KPa)'][missing_Isip]- m1)*a3+ m2\n",
    "\n",
    "plt.figure(figsize=(6,6))\n",
    "plt.scatter(df['ShutInPressure_Initial (KPa)'][~missing_Isip],df['ISIP (KPa)'][~missing_Isip],color='blue',s=5,label='originals')\n",
    "plt.scatter(df['ShutInPressure_Initial (KPa)'][missing_Isip],df['ISIP (KPa)'][missing_Isip],color='red',s=50,label='replaced')\n",
    "plt.xlabel('ShutInP...Initial')\n",
    "plt.ylabel('Isip')\n",
    "plt.legend()"
   ]
  },
  {
   "cell_type": "markdown",
   "metadata": {},
   "source": [
    "### Proppant_per_ft\n",
    "*Normalized Weight of proppant pumped during completion normalzied per feet (kg/ft)*\n",
    "\n",
    "\n"
   ]
  },
  {
   "cell_type": "markdown",
   "metadata": {},
   "source": [
    "#### Outliers\n"
   ]
  },
  {
   "cell_type": "code",
   "execution_count": null,
   "metadata": {},
   "outputs": [],
   "source": [
    "outs_Propp=vis_and_return_Outl(df,\"Proppant_per_ft (kg/ft)\",1.5)\n",
    "outs_Propp"
   ]
  },
  {
   "cell_type": "markdown",
   "metadata": {},
   "source": [
    "Looking at the histogram, we decide to change the outlying values > 4 to a less extreme value."
   ]
  },
  {
   "cell_type": "code",
   "execution_count": null,
   "metadata": {
    "collapsed": true
   },
   "outputs": [],
   "source": [
    "rows=df[df[\"Proppant_per_ft (kg/ft)\"]>4].index\n",
    "df.loc[rows,\"Proppant_per_ft (kg/ft)\"]=np.mean(df[\"Proppant_per_ft (kg/ft)\"])"
   ]
  },
  {
   "cell_type": "markdown",
   "metadata": {},
   "source": [
    "#### Missing Values"
   ]
  },
  {
   "cell_type": "code",
   "execution_count": null,
   "metadata": {},
   "outputs": [],
   "source": [
    "missing_Prop=np.isnan(df[\"Proppant_per_ft (kg/ft)\"]) # 1 value\n",
    "find_cor('Proppant_per_ft (kg/ft)',df)"
   ]
  },
  {
   "cell_type": "code",
   "execution_count": null,
   "metadata": {},
   "outputs": [],
   "source": [
    "a3=lin_regr('Proppant_Designed (kg)','Proppant_per_ft (kg/ft)')\n",
    "m1=np.mean(df['Proppant_Designed (kg)'])\n",
    "m2=np.mean(df['Proppant_Designed (kg)'])\n",
    "rows=df['Proppant_per_ft (kg/ft)'][missing_Prop].index\n",
    "df.loc[rows,'Proppant_per_ft (kg/ft)']=(df['Proppant_Designed (kg)'][missing_Prop]- m1)*a3+ m2"
   ]
  },
  {
   "cell_type": "code",
   "execution_count": null,
   "metadata": {},
   "outputs": [],
   "source": [
    "plt.figure(figsize=(6,6))\n",
    "plt.scatter(df['Proppant_Designed (kg)'][~missing_Prop],df['Proppant_per_ft (kg/ft)'][~missing_Prop],color='blue',s=5,label='originals')\n",
    "plt.scatter(df['Proppant_Designed (kg)'][missing_Prop],df['Proppant_per_ft (kg/ft)'][missing_Prop],color='red',s=50,label='replaced')\n",
    "plt.xlabel('Proppant_Des')\n",
    "plt.ylabel('Proppand_per_foot')\n",
    "plt.legend()"
   ]
  },
  {
   "cell_type": "markdown",
   "metadata": {},
   "source": [
    "### Proppant_in_Formation (kg)"
   ]
  },
  {
   "cell_type": "markdown",
   "metadata": {},
   "source": [
    "#### Outliers"
   ]
  },
  {
   "cell_type": "code",
   "execution_count": null,
   "metadata": {},
   "outputs": [],
   "source": [
    "outs_Propp_Form=vis_and_return_Outl(df,\"Proppant_in_Formation (kg)\",4,delta=0.3,a=-2,b=4)\n",
    "outs_Propp_Form"
   ]
  },
  {
   "cell_type": "markdown",
   "metadata": {},
   "source": [
    "#### Missing Values"
   ]
  },
  {
   "cell_type": "code",
   "execution_count": null,
   "metadata": {},
   "outputs": [],
   "source": [
    "missing_Prop_Form=np.isnan(df[\"Proppant_in_Formation (kg)\"]) # 1 value\n",
    "find_cor('Proppant_in_Formation (kg)',df)"
   ]
  },
  {
   "cell_type": "code",
   "execution_count": null,
   "metadata": {},
   "outputs": [],
   "source": [
    "a4=lin_regr('Proppant_Designed (kg)','Proppant_in_Formation (kg)')\n",
    "m1=np.mean(df['Proppant_Designed (kg)'])\n",
    "m2=np.mean(df['Proppant_Designed (kg)'])\n",
    "rows=df['Proppant_in_Formation (kg)'][missing_Prop].index\n",
    "df.loc[rows,'Proppant_in_Formation (kg)']=(df['Proppant_Designed (kg)'][missing_Prop]- m1)*a3+ m2"
   ]
  },
  {
   "cell_type": "code",
   "execution_count": null,
   "metadata": {},
   "outputs": [],
   "source": [
    "plt.figure(figsize=(6,6))\n",
    "plt.scatter(df['Proppant_Designed (kg)'][~missing_Prop],df['Proppant_per_ft (kg/ft)'][~missing_Prop],color='blue',s=5,label='originals')\n",
    "plt.scatter(df['Proppant_Designed (kg)'][missing_Prop],df['Proppant_per_ft (kg/ft)'][missing_Prop],color='red',s=50,label='replaced')\n",
    "plt.xlabel('Proppant_Des')\n",
    "plt.ylabel('Proppand_per_foot')\n",
    "plt.legend()"
   ]
  },
  {
   "cell_type": "markdown",
   "metadata": {},
   "source": [
    "### Avg_Breakdown_Pressure (KPa)"
   ]
  },
  {
   "cell_type": "code",
   "execution_count": null,
   "metadata": {},
   "outputs": [],
   "source": [
    "outs_Abp=vis_and_return_Outl(df,'Avg_Breakdown_Pressure (KPa)',1.5,delta=0.3,a=-3,b=5)\n",
    "outs_Abp"
   ]
  },
  {
   "cell_type": "markdown",
   "metadata": {},
   "source": [
    "We do not see huge outliers."
   ]
  },
  {
   "cell_type": "markdown",
   "metadata": {},
   "source": [
    "#### Missing Values"
   ]
  },
  {
   "cell_type": "code",
   "execution_count": 761,
   "metadata": {},
   "outputs": [
    {
     "data": {
      "text/html": [
       "<div>\n",
       "<style>\n",
       "    .dataframe thead tr:only-child th {\n",
       "        text-align: right;\n",
       "    }\n",
       "\n",
       "    .dataframe thead th {\n",
       "        text-align: left;\n",
       "    }\n",
       "\n",
       "    .dataframe tbody tr th {\n",
       "        vertical-align: top;\n",
       "    }\n",
       "</style>\n",
       "<table border=\"1\" class=\"dataframe\">\n",
       "  <thead>\n",
       "    <tr style=\"text-align: right;\">\n",
       "      <th></th>\n",
       "      <th>API</th>\n",
       "      <th>Surf_X</th>\n",
       "      <th>Surf_Y</th>\n",
       "      <th>Date_Drilling</th>\n",
       "      <th>Date_Completion</th>\n",
       "      <th>Date_Production</th>\n",
       "      <th>deltaT_Comp_Prod</th>\n",
       "      <th>Lateral_Length (ft)</th>\n",
       "      <th>Depth_TVD_PPLS (ft)</th>\n",
       "      <th>Erosion_PPLS (ft)</th>\n",
       "      <th>...</th>\n",
       "      <th>Avg_Rate_Slurry (bpm)</th>\n",
       "      <th>Max_Rate_Slurry (bpm)</th>\n",
       "      <th>Min_Rate_Slurry (bpm)</th>\n",
       "      <th>ShutInPressure_Fil (KPa)</th>\n",
       "      <th>ShutInPressure_Initial (KPa)</th>\n",
       "      <th>ISIP (KPa)</th>\n",
       "      <th>Shot_Density (shots/ft)</th>\n",
       "      <th>Shot_Total</th>\n",
       "      <th>Proppant_per_ft (kg/ft)</th>\n",
       "      <th>Stage_Spacing (ft)</th>\n",
       "    </tr>\n",
       "  </thead>\n",
       "  <tbody>\n",
       "    <tr>\n",
       "      <th>55</th>\n",
       "      <td>89</td>\n",
       "      <td>0.097504</td>\n",
       "      <td>-1.156570</td>\n",
       "      <td>2012-04-11</td>\n",
       "      <td>2012-12-18</td>\n",
       "      <td>2013-04-28</td>\n",
       "      <td>131.0</td>\n",
       "      <td>-0.746475</td>\n",
       "      <td>1.656275</td>\n",
       "      <td>-0.688549</td>\n",
       "      <td>...</td>\n",
       "      <td>0.822106</td>\n",
       "      <td>0.386192</td>\n",
       "      <td>0.799660</td>\n",
       "      <td>-1.055466</td>\n",
       "      <td>-1.786306</td>\n",
       "      <td>-0.242325</td>\n",
       "      <td>0.667339</td>\n",
       "      <td>-0.560750</td>\n",
       "      <td>-0.448796</td>\n",
       "      <td>0.138586</td>\n",
       "    </tr>\n",
       "    <tr>\n",
       "      <th>73</th>\n",
       "      <td>466</td>\n",
       "      <td>0.105477</td>\n",
       "      <td>-0.348533</td>\n",
       "      <td>2013-04-01</td>\n",
       "      <td>2013-07-04</td>\n",
       "      <td>2013-06-28</td>\n",
       "      <td>-6.0</td>\n",
       "      <td>-0.930048</td>\n",
       "      <td>0.360398</td>\n",
       "      <td>0.194773</td>\n",
       "      <td>...</td>\n",
       "      <td>1.251988</td>\n",
       "      <td>0.553912</td>\n",
       "      <td>0.836650</td>\n",
       "      <td>-0.760731</td>\n",
       "      <td>-0.261445</td>\n",
       "      <td>0.359970</td>\n",
       "      <td>-0.773433</td>\n",
       "      <td>0.924226</td>\n",
       "      <td>-0.502659</td>\n",
       "      <td>0.335789</td>\n",
       "    </tr>\n",
       "    <tr>\n",
       "      <th>221</th>\n",
       "      <td>161</td>\n",
       "      <td>0.000346</td>\n",
       "      <td>-0.464729</td>\n",
       "      <td>2014-04-04</td>\n",
       "      <td>2014-08-24</td>\n",
       "      <td>2014-10-23</td>\n",
       "      <td>60.0</td>\n",
       "      <td>-0.230603</td>\n",
       "      <td>0.661447</td>\n",
       "      <td>0.531779</td>\n",
       "      <td>...</td>\n",
       "      <td>NaN</td>\n",
       "      <td>NaN</td>\n",
       "      <td>NaN</td>\n",
       "      <td>-0.178696</td>\n",
       "      <td>-0.036956</td>\n",
       "      <td>-0.083116</td>\n",
       "      <td>0.667339</td>\n",
       "      <td>-0.560750</td>\n",
       "      <td>0.708264</td>\n",
       "      <td>-1.201949</td>\n",
       "    </tr>\n",
       "    <tr>\n",
       "      <th>222</th>\n",
       "      <td>578</td>\n",
       "      <td>0.656337</td>\n",
       "      <td>-0.845575</td>\n",
       "      <td>2011-07-19</td>\n",
       "      <td>2011-08-29</td>\n",
       "      <td>2011-01-10</td>\n",
       "      <td>-231.0</td>\n",
       "      <td>-1.111132</td>\n",
       "      <td>0.714587</td>\n",
       "      <td>-1.425870</td>\n",
       "      <td>...</td>\n",
       "      <td>0.645298</td>\n",
       "      <td>0.574355</td>\n",
       "      <td>0.618225</td>\n",
       "      <td>-1.492132</td>\n",
       "      <td>-1.343424</td>\n",
       "      <td>-2.374262</td>\n",
       "      <td>-0.293176</td>\n",
       "      <td>1.666713</td>\n",
       "      <td>-0.201509</td>\n",
       "      <td>1.221423</td>\n",
       "    </tr>\n",
       "  </tbody>\n",
       "</table>\n",
       "<p>4 rows × 46 columns</p>\n",
       "</div>"
      ],
      "text/plain": [
       "     API    Surf_X    Surf_Y Date_Drilling Date_Completion Date_Production  \\\n",
       "55    89  0.097504 -1.156570    2012-04-11      2012-12-18      2013-04-28   \n",
       "73   466  0.105477 -0.348533    2013-04-01      2013-07-04      2013-06-28   \n",
       "221  161  0.000346 -0.464729    2014-04-04      2014-08-24      2014-10-23   \n",
       "222  578  0.656337 -0.845575    2011-07-19      2011-08-29      2011-01-10   \n",
       "\n",
       "     deltaT_Comp_Prod  Lateral_Length (ft)  Depth_TVD_PPLS (ft)  \\\n",
       "55              131.0            -0.746475             1.656275   \n",
       "73               -6.0            -0.930048             0.360398   \n",
       "221              60.0            -0.230603             0.661447   \n",
       "222            -231.0            -1.111132             0.714587   \n",
       "\n",
       "     Erosion_PPLS (ft)         ...          Avg_Rate_Slurry (bpm)  \\\n",
       "55           -0.688549         ...                       0.822106   \n",
       "73            0.194773         ...                       1.251988   \n",
       "221           0.531779         ...                            NaN   \n",
       "222          -1.425870         ...                       0.645298   \n",
       "\n",
       "     Max_Rate_Slurry (bpm)  Min_Rate_Slurry (bpm)  ShutInPressure_Fil (KPa)  \\\n",
       "55                0.386192               0.799660                 -1.055466   \n",
       "73                0.553912               0.836650                 -0.760731   \n",
       "221                    NaN                    NaN                 -0.178696   \n",
       "222               0.574355               0.618225                 -1.492132   \n",
       "\n",
       "     ShutInPressure_Initial (KPa)  ISIP (KPa)  Shot_Density (shots/ft)  \\\n",
       "55                      -1.786306   -0.242325                 0.667339   \n",
       "73                      -0.261445    0.359970                -0.773433   \n",
       "221                     -0.036956   -0.083116                 0.667339   \n",
       "222                     -1.343424   -2.374262                -0.293176   \n",
       "\n",
       "     Shot_Total  Proppant_per_ft (kg/ft)  Stage_Spacing (ft)  \n",
       "55    -0.560750                -0.448796            0.138586  \n",
       "73     0.924226                -0.502659            0.335789  \n",
       "221   -0.560750                 0.708264           -1.201949  \n",
       "222    1.666713                -0.201509            1.221423  \n",
       "\n",
       "[4 rows x 46 columns]"
      ]
     },
     "execution_count": 761,
     "metadata": {},
     "output_type": "execute_result"
    }
   ],
   "source": [
    "missing_Abp=np.isnan(df[\"Avg_Breakdown_Pressure (KPa)\"]) # 1 value\n",
    "df[missing_Abp] # 4 missing values"
   ]
  },
  {
   "cell_type": "markdown",
   "metadata": {},
   "source": [
    "As there is no other variable with high correlation, we just replace missing values by mean."
   ]
  },
  {
   "cell_type": "code",
   "execution_count": 762,
   "metadata": {
    "collapsed": true
   },
   "outputs": [],
   "source": [
    "rows=df[missing_Abp].index\n",
    "df.loc[rows,'Avg_Breakdown_Pressure (KPa)']=np.mean(df['Avg_Breakdown_Pressure (KPa)'])"
   ]
  },
  {
   "cell_type": "markdown",
   "metadata": {},
   "source": [
    "### Avg/Min/Max_Treating_Pressure (KPa)"
   ]
  },
  {
   "cell_type": "markdown",
   "metadata": {
    "collapsed": true
   },
   "source": [
    "\n",
    "we treat this variables together  as they are highly correlated.\n",
    "\n",
    "cor(Avg,Min) =0.80\n",
    "cor(Avg,Max) =0.46\n",
    "cor(Min,Max) =0.30"
   ]
  },
  {
   "cell_type": "code",
   "execution_count": 763,
   "metadata": {},
   "outputs": [
    {
     "data": {
      "text/html": [
       "<div>\n",
       "<style>\n",
       "    .dataframe thead tr:only-child th {\n",
       "        text-align: right;\n",
       "    }\n",
       "\n",
       "    .dataframe thead th {\n",
       "        text-align: left;\n",
       "    }\n",
       "\n",
       "    .dataframe tbody tr th {\n",
       "        vertical-align: top;\n",
       "    }\n",
       "</style>\n",
       "<table border=\"1\" class=\"dataframe\">\n",
       "  <thead>\n",
       "    <tr style=\"text-align: right;\">\n",
       "      <th></th>\n",
       "      <th>API</th>\n",
       "      <th>Surf_X</th>\n",
       "      <th>Surf_Y</th>\n",
       "      <th>Date_Drilling</th>\n",
       "      <th>Date_Completion</th>\n",
       "      <th>Date_Production</th>\n",
       "      <th>deltaT_Comp_Prod</th>\n",
       "      <th>Lateral_Length (ft)</th>\n",
       "      <th>Depth_TVD_PPLS (ft)</th>\n",
       "      <th>Erosion_PPLS (ft)</th>\n",
       "      <th>...</th>\n",
       "      <th>Avg_Rate_Slurry (bpm)</th>\n",
       "      <th>Max_Rate_Slurry (bpm)</th>\n",
       "      <th>Min_Rate_Slurry (bpm)</th>\n",
       "      <th>ShutInPressure_Fil (KPa)</th>\n",
       "      <th>ShutInPressure_Initial (KPa)</th>\n",
       "      <th>ISIP (KPa)</th>\n",
       "      <th>Shot_Density (shots/ft)</th>\n",
       "      <th>Shot_Total</th>\n",
       "      <th>Proppant_per_ft (kg/ft)</th>\n",
       "      <th>Stage_Spacing (ft)</th>\n",
       "    </tr>\n",
       "  </thead>\n",
       "  <tbody>\n",
       "  </tbody>\n",
       "</table>\n",
       "<p>0 rows × 46 columns</p>\n",
       "</div>"
      ],
      "text/plain": [
       "Empty DataFrame\n",
       "Columns: [API, Surf_X, Surf_Y, Date_Drilling, Date_Completion, Date_Production, deltaT_Comp_Prod, Lateral_Length (ft), Depth_TVD_PPLS (ft), Erosion_PPLS (ft), Pressure_PPLS (PSI), TOC_PPLS (%), Vcarb_PPLS, Vsand_PPLS, Vclay_PPLS, PR_PPLS, YM_PPLS (PSI), RHOB_PPLS (g/cc), Res_PPLS (Ohmm), GR_PPLS (API), DT_PPLS (us/ft), DTs_PPLS (us/ft), Temperature (F), Temp_Anomaly (F), S3Tect_PPLS (PSI), S3_contrast_PPLS (PSI), Heat_Flow (W/m2), Zone, Nbr_Stages, Frac_Gradient (PSI/ft), Proppant_Designed (kg), Proppant_in_Formation (kg), Avg_Breakdown_Pressure (KPa), Avg_Treating_Pressure (KPa), Max_Treating_pressure (KPa), Min_Treating_Pressure (KPa), Avg_Rate_Slurry (bpm), Max_Rate_Slurry (bpm), Min_Rate_Slurry (bpm), ShutInPressure_Fil (KPa), ShutInPressure_Initial (KPa), ISIP (KPa), Shot_Density (shots/ft), Shot_Total, Proppant_per_ft (kg/ft), Stage_Spacing (ft)]\n",
       "Index: []\n",
       "\n",
       "[0 rows x 46 columns]"
      ]
     },
     "execution_count": 763,
     "metadata": {},
     "output_type": "execute_result"
    },
    {
     "data": {
      "image/png": "[encoded data removed]",
      "text/plain": [
       "<matplotlib.figure.Figure at 0x1691524d5f8>"
      ]
     },
     "metadata": {},
     "output_type": "display_data"
    },
    {
     "data": {
      "image/png": "[encoded data removed]",
      "text/plain": [
       "<matplotlib.figure.Figure at 0x16914f1dcf8>"
      ]
     },
     "metadata": {},
     "output_type": "display_data"
    }
   ],
   "source": [
    "outs_Atp=vis_and_return_Outl(df,'Avg_Treating_Pressure (KPa)',3,delta=0.3,a=-5,b=5)#\n",
    "outs_Atp"
   ]
  },
  {
   "cell_type": "markdown",
   "metadata": {},
   "source": [
    "To the left side of the histogram, it seems that there are same outliers.\n",
    "We plot against correlated variables to see more.."
   ]
  },
  {
   "cell_type": "code",
   "execution_count": 764,
   "metadata": {},
   "outputs": [
    {
     "data": {
      "text/plain": [
       "<matplotlib.collections.PathCollection at 0x16914ea1c50>"
      ]
     },
     "execution_count": 764,
     "metadata": {},
     "output_type": "execute_result"
    },
    {
     "data": {
      "image/png": "[encoded data removed]",
      "text/plain": [
       "<matplotlib.figure.Figure at 0x16913af5a90>"
      ]
     },
     "metadata": {},
     "output_type": "display_data"
    }
   ],
   "source": [
    "plt.scatter(df['Avg_Treating_Pressure (KPa)'],df['Min_Treating_Pressure (KPa)'])"
   ]
  },
  {
   "cell_type": "markdown",
   "metadata": {},
   "source": [
    "    We decided only to delete the outliers with values < - 2.5\n"
   ]
  },
  {
   "cell_type": "code",
   "execution_count": 765,
   "metadata": {},
   "outputs": [],
   "source": [
    "rows=outs_Atp.index\n",
    "df.loc[rows,'Avg_Treating_Pressure (KPa)']=np.nan\n"
   ]
  },
  {
   "cell_type": "code",
   "execution_count": 836,
   "metadata": {},
   "outputs": [
    {
     "data": {
      "image/png": "[encoded data removed]",
      "text/plain": [
       "<matplotlib.figure.Figure at 0x169154089e8>"
      ]
     },
     "metadata": {},
     "output_type": "display_data"
    },
    {
     "data": {
      "image/png": "[encoded data removed]",
      "text/plain": [
       "<matplotlib.figure.Figure at 0x16913abc0b8>"
      ]
     },
     "metadata": {},
     "output_type": "display_data"
    }
   ],
   "source": [
    "outs_Mitp=vis_and_return_Outl(df,'Min_Treating_Pressure (KPa)',4.1,delta=0.3,a=-5,b=5)\n",
    "rows=outs_Mitp.index\n",
    "df.loc[rows,'Min_Treating_Pressure (KPa)']=np.nan # delete outliers determinded by boxplot"
   ]
  },
  {
   "cell_type": "code",
   "execution_count": 837,
   "metadata": {},
   "outputs": [
    {
     "data": {
      "text/html": [
       "<div>\n",
       "<style>\n",
       "    .dataframe thead tr:only-child th {\n",
       "        text-align: right;\n",
       "    }\n",
       "\n",
       "    .dataframe thead th {\n",
       "        text-align: left;\n",
       "    }\n",
       "\n",
       "    .dataframe tbody tr th {\n",
       "        vertical-align: top;\n",
       "    }\n",
       "</style>\n",
       "<table border=\"1\" class=\"dataframe\">\n",
       "  <thead>\n",
       "    <tr style=\"text-align: right;\">\n",
       "      <th></th>\n",
       "      <th>API</th>\n",
       "      <th>Surf_X</th>\n",
       "      <th>Surf_Y</th>\n",
       "      <th>Date_Drilling</th>\n",
       "      <th>Date_Completion</th>\n",
       "      <th>Date_Production</th>\n",
       "      <th>deltaT_Comp_Prod</th>\n",
       "      <th>Lateral_Length (ft)</th>\n",
       "      <th>Depth_TVD_PPLS (ft)</th>\n",
       "      <th>Erosion_PPLS (ft)</th>\n",
       "      <th>...</th>\n",
       "      <th>Avg_Rate_Slurry (bpm)</th>\n",
       "      <th>Max_Rate_Slurry (bpm)</th>\n",
       "      <th>Min_Rate_Slurry (bpm)</th>\n",
       "      <th>ShutInPressure_Fil (KPa)</th>\n",
       "      <th>ShutInPressure_Initial (KPa)</th>\n",
       "      <th>ISIP (KPa)</th>\n",
       "      <th>Shot_Density (shots/ft)</th>\n",
       "      <th>Shot_Total</th>\n",
       "      <th>Proppant_per_ft (kg/ft)</th>\n",
       "      <th>Stage_Spacing (ft)</th>\n",
       "    </tr>\n",
       "  </thead>\n",
       "  <tbody>\n",
       "  </tbody>\n",
       "</table>\n",
       "<p>0 rows × 46 columns</p>\n",
       "</div>"
      ],
      "text/plain": [
       "Empty DataFrame\n",
       "Columns: [API, Surf_X, Surf_Y, Date_Drilling, Date_Completion, Date_Production, deltaT_Comp_Prod, Lateral_Length (ft), Depth_TVD_PPLS (ft), Erosion_PPLS (ft), Pressure_PPLS (PSI), TOC_PPLS (%), Vcarb_PPLS, Vsand_PPLS, Vclay_PPLS, PR_PPLS, YM_PPLS (PSI), RHOB_PPLS (g/cc), Res_PPLS (Ohmm), GR_PPLS (API), DT_PPLS (us/ft), DTs_PPLS (us/ft), Temperature (F), Temp_Anomaly (F), S3Tect_PPLS (PSI), S3_contrast_PPLS (PSI), Heat_Flow (W/m2), Zone, Nbr_Stages, Frac_Gradient (PSI/ft), Proppant_Designed (kg), Proppant_in_Formation (kg), Avg_Breakdown_Pressure (KPa), Avg_Treating_Pressure (KPa), Max_Treating_pressure (KPa), Min_Treating_Pressure (KPa), Avg_Rate_Slurry (bpm), Max_Rate_Slurry (bpm), Min_Rate_Slurry (bpm), ShutInPressure_Fil (KPa), ShutInPressure_Initial (KPa), ISIP (KPa), Shot_Density (shots/ft), Shot_Total, Proppant_per_ft (kg/ft), Stage_Spacing (ft)]\n",
       "Index: []\n",
       "\n",
       "[0 rows x 46 columns]"
      ]
     },
     "execution_count": 837,
     "metadata": {},
     "output_type": "execute_result"
    }
   ],
   "source": [
    "outs_Mitp"
   ]
  },
  {
   "cell_type": "code",
   "execution_count": 767,
   "metadata": {},
   "outputs": [
    {
     "data": {
      "image/png": "[encoded data removed]",
      "text/plain": [
       "<matplotlib.figure.Figure at 0x16914e4c898>"
      ]
     },
     "metadata": {},
     "output_type": "display_data"
    }
   ],
   "source": [
    "plt.scatter(df['Avg_Treating_Pressure (KPa)'],df['Min_Treating_Pressure (KPa)'])\n",
    "rows=df[df['Min_Treating_Pressure (KPa)'] >1.4].index\n",
    "df.loc[rows,'Min_Treating_Pressure (KPa)']=0"
   ]
  },
  {
   "cell_type": "code",
   "execution_count": 869,
   "metadata": {},
   "outputs": [
    {
     "data": {
      "image/png": "[encoded data removed]",
      "text/plain": [
       "<matplotlib.figure.Figure at 0x16914fa5080>"
      ]
     },
     "metadata": {},
     "output_type": "display_data"
    },
    {
     "data": {
      "image/png": "[encoded data removed]",
      "text/plain": [
       "<matplotlib.figure.Figure at 0x16914f04240>"
      ]
     },
     "metadata": {},
     "output_type": "display_data"
    }
   ],
   "source": [
    "outs_Matp=vis_and_return_Outl(df,'Max_Treating_pressure (KPa)',3,delta=0.3,a=-5,b=5)\n",
    "outs_Matp\n",
    "df.loc[rows,'Min_Treating_Pressure (KPa)']=np.nan # delete outliers determinded by boxplot"
   ]
  },
  {
   "cell_type": "code",
   "execution_count": 870,
   "metadata": {},
   "outputs": [
    {
     "data": {
      "image/png": "[encoded data removed]",
      "text/plain": [
       "<matplotlib.figure.Figure at 0x16916ab0080>"
      ]
     },
     "metadata": {},
     "output_type": "display_data"
    }
   ],
   "source": [
    "plt.scatter(df['Avg_Treating_Pressure (KPa)'],df['Max_Treating_pressure (KPa)'])\n",
    "rows=df[df['Min_Treating_Pressure (KPa)'] >2].index\n",
    "df.loc[rows,'Min_Treating_Pressure (KPa)']=0"
   ]
  },
  {
   "cell_type": "markdown",
   "metadata": {},
   "source": [
    "#### replace the missing values\n"
   ]
  },
  {
   "cell_type": "code",
   "execution_count": 770,
   "metadata": {},
   "outputs": [
    {
     "name": "stdout",
     "output_type": "stream",
     "text": [
      "1\n",
      "1\n",
      "1\n"
     ]
    }
   ],
   "source": [
    "missing_Atp=np.isnan(df[\"Avg_Treating_Pressure (KPa)\"])\n",
    "missing_Mitp=np.isnan(df[\"Min_Treating_Pressure (KPa)\"])\n",
    "missing_Matp=np.isnan(df[\"Max_Treating_pressure (KPa)\"])\n",
    "print (sum(missing_Atp))\n",
    "print (sum(missing_Mitp))\n",
    "print (sum(missing_Matp))"
   ]
  },
  {
   "cell_type": "code",
   "execution_count": 771,
   "metadata": {},
   "outputs": [
    {
     "name": "stdout",
     "output_type": "stream",
     "text": [
      "1\n"
     ]
    }
   ],
   "source": [
    "missing_all=np.logical_and(missing_Atp,missing_Mitp)\n",
    "missing_all=np.logical_and(missing_all,missing_Matp)\n",
    "print (sum(missing_all))"
   ]
  },
  {
   "cell_type": "markdown",
   "metadata": {},
   "source": [
    "We have one missing values that all the three features have missing. We have to estimate them by the mean."
   ]
  },
  {
   "cell_type": "code",
   "execution_count": 772,
   "metadata": {
    "collapsed": true
   },
   "outputs": [],
   "source": [
    "rows=df[missing_all].index\n",
    "df.loc[rows,\"Avg_Treating_Pressure (KPa)\"]=np.mean(df['Avg_Treating_Pressure (KPa)'])\n",
    "df.loc[rows,\"Min_Treating_Pressure (KPa)\"]=np.mean(df['Min_Treating_Pressure (KPa)'])\n",
    "df.loc[rows,\"Max_Treating_pressure (KPa)\"]=np.mean(df['Max_Treating_pressure (KPa)'])"
   ]
  },
  {
   "cell_type": "markdown",
   "metadata": {},
   "source": [
    "Estimate the rest of the missing vals each variable by another."
   ]
  },
  {
   "cell_type": "code",
   "execution_count": 773,
   "metadata": {},
   "outputs": [],
   "source": [
    "mA=np.mean(df['Avg_Treating_Pressure (KPa)'])\n",
    "mMi=np.mean(df['Min_Treating_Pressure (KPa)'])\n",
    "mMa=np.mean(df['Max_Treating_pressure (KPa)'])\n"
   ]
  },
  {
   "cell_type": "markdown",
   "metadata": {},
   "source": [
    "#### Missing Avg"
   ]
  },
  {
   "cell_type": "code",
   "execution_count": 774,
   "metadata": {},
   "outputs": [
    {
     "name": "stdout",
     "output_type": "stream",
     "text": [
      "0\n",
      "0\n"
     ]
    }
   ],
   "source": [
    "AvNotMin=np.logical_and(missing_Atp,~missing_Mitp)\n",
    "print (sum(AvNotMin))\n",
    "AvNotMax=np.logical_and(missing_Atp,~missing_Matp)\n",
    "print (sum(AvNotMax))"
   ]
  },
  {
   "cell_type": "markdown",
   "metadata": {},
   "source": [
    "#### Missing Min"
   ]
  },
  {
   "cell_type": "code",
   "execution_count": 775,
   "metadata": {},
   "outputs": [
    {
     "name": "stdout",
     "output_type": "stream",
     "text": [
      "0\n",
      "0\n"
     ]
    }
   ],
   "source": [
    "MinNotAv=np.logical_and(~missing_Atp,missing_Mitp)\n",
    "print (sum(MinNotAv))\n",
    "MinNotMax=np.logical_and(missing_Mitp,~missing_Matp)\n",
    "print (sum(MinNotMax))"
   ]
  },
  {
   "cell_type": "markdown",
   "metadata": {},
   "source": [
    "#### Missing Max"
   ]
  },
  {
   "cell_type": "code",
   "execution_count": 776,
   "metadata": {},
   "outputs": [
    {
     "name": "stdout",
     "output_type": "stream",
     "text": [
      "0\n",
      "0\n"
     ]
    }
   ],
   "source": [
    "MaxNotAv=np.logical_and(~missing_Atp,missing_Matp)\n",
    "print (sum(MaxNotAv))\n",
    "MaxNotMin=np.logical_and(~missing_Mitp,missing_Matp)\n",
    "print (sum(MaxNotMin))"
   ]
  },
  {
   "cell_type": "markdown",
   "metadata": {},
   "source": [
    "We see can see that we only have a missing val with the three dfeatures missing and no val that we ca estimate by another."
   ]
  },
  {
   "cell_type": "code",
   "execution_count": 777,
   "metadata": {},
   "outputs": [
    {
     "name": "stdout",
     "output_type": "stream",
     "text": [
      "0\n",
      "0\n",
      "0\n"
     ]
    }
   ],
   "source": [
    "missing_Atp=np.isnan(df[\"Avg_Treating_Pressure (KPa)\"])\n",
    "missing_Mitp=np.isnan(df[\"Min_Treating_Pressure (KPa)\"])\n",
    "missing_Matp=np.isnan(df[\"Max_Treating_pressure (KPa)\"])\n",
    "print (sum(missing_Atp))\n",
    "print (sum(missing_Mitp))\n",
    "print (sum(missing_Matp))"
   ]
  },
  {
   "cell_type": "markdown",
   "metadata": {
    "collapsed": true
   },
   "source": [
    "### Avg/Min/Max_Rate_Slurry (bpm)"
   ]
  },
  {
   "cell_type": "markdown",
   "metadata": {},
   "source": [
    "We we treat this variables together as they are highly correlated.\n",
    "\n",
    "Cor(Avg,Max) = 0.84 , Cor(Avg,Min) = 0.36 , Cor(Max,Min) = 0.4"
   ]
  },
  {
   "cell_type": "code",
   "execution_count": 778,
   "metadata": {},
   "outputs": [
    {
     "data": {
      "image/png": "[encoded data removed]",
      "text/plain": [
       "<matplotlib.figure.Figure at 0x16914efc4e0>"
      ]
     },
     "metadata": {},
     "output_type": "display_data"
    },
    {
     "data": {
      "image/png": "[encoded data removed]",
      "text/plain": [
       "<matplotlib.figure.Figure at 0x1691552a4a8>"
      ]
     },
     "metadata": {},
     "output_type": "display_data"
    }
   ],
   "source": [
    "Avg_slr=vis_and_return_Outl(df,'Avg_Rate_Slurry (bpm)',3,delta=0.3,a=-5,b=5)"
   ]
  },
  {
   "cell_type": "markdown",
   "metadata": {},
   "source": [
    "To the left side of the histogram, it seems that there are same outliers. We plot against correlated variables to see more.."
   ]
  },
  {
   "cell_type": "code",
   "execution_count": 779,
   "metadata": {},
   "outputs": [
    {
     "data": {
      "text/plain": [
       "<matplotlib.collections.PathCollection at 0x16915632160>"
      ]
     },
     "execution_count": 779,
     "metadata": {},
     "output_type": "execute_result"
    },
    {
     "data": {
      "image/png": "[encoded data removed]",
      "text/plain": [
       "<matplotlib.figure.Figure at 0x169155f3978>"
      ]
     },
     "metadata": {},
     "output_type": "display_data"
    }
   ],
   "source": [
    "plt.scatter(df['Avg_Rate_Slurry (bpm)'],df['Min_Rate_Slurry (bpm)'])"
   ]
  },
  {
   "cell_type": "markdown",
   "metadata": {},
   "source": [
    "We decided only to delete the outliers with values > 2"
   ]
  },
  {
   "cell_type": "code",
   "execution_count": 780,
   "metadata": {},
   "outputs": [],
   "source": [
    "rows=Avg_slr.index\n",
    "df.loc[rows,'Avg_Rate_Slurry (bpm)']=np.nan"
   ]
  },
  {
   "cell_type": "code",
   "execution_count": 781,
   "metadata": {},
   "outputs": [
    {
     "data": {
      "image/png": "[encoded data removed]",
      "text/plain": [
       "<matplotlib.figure.Figure at 0x169155ffb00>"
      ]
     },
     "metadata": {},
     "output_type": "display_data"
    },
    {
     "data": {
      "image/png": "[encoded data removed]",
      "text/plain": [
       "<matplotlib.figure.Figure at 0x16915690898>"
      ]
     },
     "metadata": {},
     "output_type": "display_data"
    }
   ],
   "source": [
    "Min_slr=vis_and_return_Outl(df,'Min_Rate_Slurry (bpm)',4.1,delta=0.3,a=-5,b=5)\n",
    "df[df['Min_Rate_Slurry (bpm)'] >2].index\n",
    "df.loc[rows,'Min_Rate_Slurry (bpm)']=np.nan # delete outliers determinded by boxplot"
   ]
  },
  {
   "cell_type": "code",
   "execution_count": 782,
   "metadata": {
    "collapsed": true
   },
   "outputs": [],
   "source": [
    "rows=Avg_slr.index\n",
    "df.loc[rows,'Avg_Rate_Slurry (bpm)']=np.nan"
   ]
  },
  {
   "cell_type": "code",
   "execution_count": 783,
   "metadata": {},
   "outputs": [
    {
     "data": {
      "image/png": "[encoded data removed]",
      "text/plain": [
       "<matplotlib.figure.Figure at 0x16916970208>"
      ]
     },
     "metadata": {},
     "output_type": "display_data"
    },
    {
     "data": {
      "image/png": "[encoded data removed]",
      "text/plain": [
       "<matplotlib.figure.Figure at 0x169169ab160>"
      ]
     },
     "metadata": {},
     "output_type": "display_data"
    }
   ],
   "source": [
    "Max_slr=vis_and_return_Outl(df,'Min_Rate_Slurry (bpm)',4.1,delta=0.3,a=-5,b=5)\n",
    "rows=Min_slr.index\n",
    "df.loc[rows,'Min_Rate_Slurry (bpm)']=np.nan # delete outliers determinded by boxplot"
   ]
  },
  {
   "cell_type": "code",
   "execution_count": 784,
   "metadata": {},
   "outputs": [
    {
     "data": {
      "image/png": "[encoded data removed]",
      "text/plain": [
       "<matplotlib.figure.Figure at 0x169169bb978>"
      ]
     },
     "metadata": {},
     "output_type": "display_data"
    }
   ],
   "source": [
    "plt.scatter(df['Avg_Rate_Slurry (bpm)'],df['Min_Rate_Slurry (bpm)'])\n",
    "rows=df[df['Min_Rate_Slurry (bpm)'] >1.4].index\n",
    "df.loc[rows,'Min_Rate_Slurry (bpm)']=0"
   ]
  },
  {
   "cell_type": "code",
   "execution_count": 785,
   "metadata": {
    "scrolled": true
   },
   "outputs": [
    {
     "data": {
      "text/html": [
       "<div>\n",
       "<style>\n",
       "    .dataframe thead tr:only-child th {\n",
       "        text-align: right;\n",
       "    }\n",
       "\n",
       "    .dataframe thead th {\n",
       "        text-align: left;\n",
       "    }\n",
       "\n",
       "    .dataframe tbody tr th {\n",
       "        vertical-align: top;\n",
       "    }\n",
       "</style>\n",
       "<table border=\"1\" class=\"dataframe\">\n",
       "  <thead>\n",
       "    <tr style=\"text-align: right;\">\n",
       "      <th></th>\n",
       "      <th>API</th>\n",
       "      <th>Surf_X</th>\n",
       "      <th>Surf_Y</th>\n",
       "      <th>Date_Drilling</th>\n",
       "      <th>Date_Completion</th>\n",
       "      <th>Date_Production</th>\n",
       "      <th>deltaT_Comp_Prod</th>\n",
       "      <th>Lateral_Length (ft)</th>\n",
       "      <th>Depth_TVD_PPLS (ft)</th>\n",
       "      <th>Erosion_PPLS (ft)</th>\n",
       "      <th>...</th>\n",
       "      <th>Avg_Rate_Slurry (bpm)</th>\n",
       "      <th>Max_Rate_Slurry (bpm)</th>\n",
       "      <th>Min_Rate_Slurry (bpm)</th>\n",
       "      <th>ShutInPressure_Fil (KPa)</th>\n",
       "      <th>ShutInPressure_Initial (KPa)</th>\n",
       "      <th>ISIP (KPa)</th>\n",
       "      <th>Shot_Density (shots/ft)</th>\n",
       "      <th>Shot_Total</th>\n",
       "      <th>Proppant_per_ft (kg/ft)</th>\n",
       "      <th>Stage_Spacing (ft)</th>\n",
       "    </tr>\n",
       "  </thead>\n",
       "  <tbody>\n",
       "  </tbody>\n",
       "</table>\n",
       "<p>0 rows × 46 columns</p>\n",
       "</div>"
      ],
      "text/plain": [
       "Empty DataFrame\n",
       "Columns: [API, Surf_X, Surf_Y, Date_Drilling, Date_Completion, Date_Production, deltaT_Comp_Prod, Lateral_Length (ft), Depth_TVD_PPLS (ft), Erosion_PPLS (ft), Pressure_PPLS (PSI), TOC_PPLS (%), Vcarb_PPLS, Vsand_PPLS, Vclay_PPLS, PR_PPLS, YM_PPLS (PSI), RHOB_PPLS (g/cc), Res_PPLS (Ohmm), GR_PPLS (API), DT_PPLS (us/ft), DTs_PPLS (us/ft), Temperature (F), Temp_Anomaly (F), S3Tect_PPLS (PSI), S3_contrast_PPLS (PSI), Heat_Flow (W/m2), Zone, Nbr_Stages, Frac_Gradient (PSI/ft), Proppant_Designed (kg), Proppant_in_Formation (kg), Avg_Breakdown_Pressure (KPa), Avg_Treating_Pressure (KPa), Max_Treating_pressure (KPa), Min_Treating_Pressure (KPa), Avg_Rate_Slurry (bpm), Max_Rate_Slurry (bpm), Min_Rate_Slurry (bpm), ShutInPressure_Fil (KPa), ShutInPressure_Initial (KPa), ISIP (KPa), Shot_Density (shots/ft), Shot_Total, Proppant_per_ft (kg/ft), Stage_Spacing (ft)]\n",
       "Index: []\n",
       "\n",
       "[0 rows x 46 columns]"
      ]
     },
     "execution_count": 785,
     "metadata": {},
     "output_type": "execute_result"
    },
    {
     "data": {
      "image/png": "[encoded data removed]",
      "text/plain": [
       "<matplotlib.figure.Figure at 0x169156135f8>"
      ]
     },
     "metadata": {},
     "output_type": "display_data"
    },
    {
     "data": {
      "image/png": "[encoded data removed]",
      "text/plain": [
       "<matplotlib.figure.Figure at 0x16916ab5dd8>"
      ]
     },
     "metadata": {},
     "output_type": "display_data"
    }
   ],
   "source": [
    "Max_slr=vis_and_return_Outl(df,'Max_Rate_Slurry (bpm)',3,delta=0.3,a=-5,b=5)\n",
    "Max_slr"
   ]
  },
  {
   "cell_type": "code",
   "execution_count": 786,
   "metadata": {},
   "outputs": [
    {
     "data": {
      "text/plain": [
       "<matplotlib.collections.PathCollection at 0x16916c0bc50>"
      ]
     },
     "execution_count": 786,
     "metadata": {},
     "output_type": "execute_result"
    },
    {
     "data": {
      "image/png": "[encoded data removed]",
      "text/plain": [
       "<matplotlib.figure.Figure at 0x16916b39f60>"
      ]
     },
     "metadata": {},
     "output_type": "display_data"
    }
   ],
   "source": [
    "plt.scatter(df['Min_Rate_Slurry (bpm)'],df['Max_Rate_Slurry (bpm)'])"
   ]
  },
  {
   "cell_type": "code",
   "execution_count": 787,
   "metadata": {
    "collapsed": true
   },
   "outputs": [],
   "source": [
    "rows=Max_slr.index\n",
    "df.loc[rows,'Max_Rate_Slurry (bpm)']=np.nan # delete outliers determinded by boxplot\n",
    "rows2=df[df['Max_Rate_Slurry (bpm)']> 1].index\n",
    "df.loc[rows2,'Max_Rate_Slurry (bpm)']=np.nan # delete outliers > 1 ( see plot)"
   ]
  },
  {
   "cell_type": "code",
   "execution_count": 788,
   "metadata": {},
   "outputs": [
    {
     "data": {
      "text/plain": [
       "<matplotlib.collections.PathCollection at 0x16916c69a20>"
      ]
     },
     "execution_count": 788,
     "metadata": {},
     "output_type": "execute_result"
    },
    {
     "data": {
      "image/png": "[encoded data removed]",
      "text/plain": [
       "<matplotlib.figure.Figure at 0x16916bdca58>"
      ]
     },
     "metadata": {},
     "output_type": "display_data"
    }
   ],
   "source": [
    "plt.scatter(df['Min_Rate_Slurry (bpm)'],df['Max_Rate_Slurry (bpm)'])"
   ]
  },
  {
   "cell_type": "markdown",
   "metadata": {},
   "source": [
    "#### replace the missing values¶\n"
   ]
  },
  {
   "cell_type": "code",
   "execution_count": 789,
   "metadata": {},
   "outputs": [
    {
     "name": "stdout",
     "output_type": "stream",
     "text": [
      "1\n",
      "4\n",
      "31\n"
     ]
    }
   ],
   "source": [
    "missing_Atp=np.isnan(df[\"Avg_Rate_Slurry (bpm)\"])\n",
    "missing_Mitp=np.isnan(df[\"Min_Rate_Slurry (bpm)\"])\n",
    "missing_Matp=np.isnan(df[\"Max_Rate_Slurry (bpm)\"])\n",
    "print (sum(missing_Atp))\n",
    "print (sum(missing_Mitp))\n",
    "print (sum(missing_Matp))"
   ]
  },
  {
   "cell_type": "code",
   "execution_count": 790,
   "metadata": {},
   "outputs": [
    {
     "name": "stdout",
     "output_type": "stream",
     "text": [
      "1\n"
     ]
    }
   ],
   "source": [
    "missing_all=np.logical_and(missing_Atp,missing_Mitp)\n",
    "missing_all=np.logical_and(missing_all,missing_Matp)\n",
    "print (sum(missing_all))"
   ]
  },
  {
   "cell_type": "markdown",
   "metadata": {},
   "source": [
    "We have two missing values that all the 97 features have missing. We have to estimate them by the mean"
   ]
  },
  {
   "cell_type": "markdown",
   "metadata": {},
   "source": [
    "Estimate the rest of the missong vals each variable by another."
   ]
  },
  {
   "cell_type": "code",
   "execution_count": 791,
   "metadata": {},
   "outputs": [],
   "source": [
    "mA=np.mean(df['Avg_Rate_Slurry (bpm)'])\n",
    "mMi=np.mean(df['Min_Rate_Slurry (bpm)'])\n",
    "mMa=np.mean(df['Max_Rate_Slurry (bpm)'])\n"
   ]
  },
  {
   "cell_type": "markdown",
   "metadata": {},
   "source": [
    "\n",
    "#### Missing Avg\n"
   ]
  },
  {
   "cell_type": "code",
   "execution_count": 792,
   "metadata": {},
   "outputs": [
    {
     "name": "stdout",
     "output_type": "stream",
     "text": [
      "0\n",
      "0\n"
     ]
    }
   ],
   "source": [
    "AvNotMin=np.logical_and(missing_Atp,~missing_Mitp)\n",
    "print (sum(AvNotMin))\n",
    "AvNotMax=np.logical_and(missing_Atp,~missing_Matp)\n",
    "print (sum(AvNotMax))"
   ]
  },
  {
   "cell_type": "code",
   "execution_count": 793,
   "metadata": {},
   "outputs": [
    {
     "name": "stdout",
     "output_type": "stream",
     "text": [
      "we estimate y= ax+b, with a equals:[ 0.87033919]\n"
     ]
    }
   ],
   "source": [
    "a3=lin_regr('Max_Rate_Slurry (bpm)','Avg_Rate_Slurry (bpm)')\n",
    "rows=df[AvNotMax].index\n",
    "df.loc[rows,'Avg_Rate_Slurry (bpm)']=(df['Max_Rate_Slurry (bpm)'][AvNotMax]- mMa)*a3+ mA"
   ]
  },
  {
   "cell_type": "code",
   "execution_count": 794,
   "metadata": {
    "collapsed": true
   },
   "outputs": [],
   "source": [
    "rows=df[missing_all].index\n",
    "df.loc[rows,\"Avg_Rate_Slurry (bpm)\"]=np.mean(df['Avg_Rate_Slurry (bpm)'])\n",
    "df.loc[rows,\"Min_Rate_Slurry (bpm)\"]=np.mean(df['Min_Rate_Slurry (bpm)'])\n",
    "df.loc[rows,\"Max_Rate_Slurry (bpm)\"]=np.mean(df['Max_Rate_Slurry (bpm)'])"
   ]
  },
  {
   "cell_type": "code",
   "execution_count": 795,
   "metadata": {},
   "outputs": [
    {
     "data": {
      "text/plain": [
       "<matplotlib.legend.Legend at 0x16916c1cf60>"
      ]
     },
     "execution_count": 795,
     "metadata": {},
     "output_type": "execute_result"
    },
    {
     "data": {
      "image/png": "[encoded data removed]",
      "text/plain": [
       "<matplotlib.figure.Figure at 0x16916c50400>"
      ]
     },
     "metadata": {},
     "output_type": "display_data"
    }
   ],
   "source": [
    "plt.figure(figsize=(8,8))\n",
    "plt.scatter(df['Max_Rate_Slurry (bpm)'][~AvNotMax],df['Avg_Rate_Slurry (bpm)'][~AvNotMax],color='blue',s=5,label='originals')\n",
    "plt.scatter(df['Max_Rate_Slurry (bpm)'][AvNotMax],df['Avg_Rate_Slurry (bpm)'][AvNotMax],color='red',s=30,label='replaced')\n",
    "plt.ylabel('Avg')\n",
    "plt.xlabel('Min')\n",
    "plt.legend()"
   ]
  },
  {
   "cell_type": "markdown",
   "metadata": {},
   "source": [
    "#### Missing Min\n"
   ]
  },
  {
   "cell_type": "code",
   "execution_count": 796,
   "metadata": {},
   "outputs": [
    {
     "name": "stdout",
     "output_type": "stream",
     "text": [
      "3\n",
      "2\n"
     ]
    }
   ],
   "source": [
    "MinNotAv=np.logical_and(~missing_Atp,missing_Mitp)\n",
    "print (sum(MinNotAv))\n",
    "MinNotMax=np.logical_and(missing_Mitp,~missing_Matp)\n",
    "print (sum(MinNotMax))"
   ]
  },
  {
   "cell_type": "code",
   "execution_count": 797,
   "metadata": {},
   "outputs": [
    {
     "name": "stdout",
     "output_type": "stream",
     "text": [
      "we estimate y= ax+b, with a equals:[ 0.20102231]\n"
     ]
    }
   ],
   "source": [
    "a3=lin_regr('Max_Rate_Slurry (bpm)','Min_Rate_Slurry (bpm)')\n",
    "rows=df[MinNotMax].index\n",
    "df.loc[rows,'Min_Rate_Slurry (bpm)']=(df['Max_Rate_Slurry (bpm)'][MinNotMax]- mMa)*a3+ mMi"
   ]
  },
  {
   "cell_type": "code",
   "execution_count": 798,
   "metadata": {},
   "outputs": [
    {
     "data": {
      "text/plain": [
       "<matplotlib.legend.Legend at 0x16916bc0a20>"
      ]
     },
     "execution_count": 798,
     "metadata": {},
     "output_type": "execute_result"
    },
    {
     "data": {
      "image/png": "[encoded data removed]",
      "text/plain": [
       "<matplotlib.figure.Figure at 0x16916c7aef0>"
      ]
     },
     "metadata": {},
     "output_type": "display_data"
    }
   ],
   "source": [
    "plt.figure(figsize=(8,8))\n",
    "plt.scatter(df['Max_Rate_Slurry (bpm)'][~MinNotMax],df['Min_Rate_Slurry (bpm)'][~MinNotMax],color='blue',s=5,label='originals')\n",
    "plt.scatter(df['Max_Rate_Slurry (bpm)'][MinNotMax],df['Min_Rate_Slurry (bpm)'][MinNotMax],color='red',s=30,label='replaced')\n",
    "plt.ylabel('Min')\n",
    "plt.xlabel('Max')\n",
    "plt.legend()"
   ]
  },
  {
   "cell_type": "code",
   "execution_count": 799,
   "metadata": {},
   "outputs": [
    {
     "name": "stdout",
     "output_type": "stream",
     "text": [
      "we estimate y= ax+b, with a equals:[ 0.31939433]\n"
     ]
    }
   ],
   "source": [
    "a3=lin_regr('Avg_Rate_Slurry (bpm)','Min_Rate_Slurry (bpm)')\n",
    "rows=df[MinNotAv].index\n",
    "df.loc[rows,'Min_Rate_Slurry (bpm)']=(df['Avg_Rate_Slurry (bpm)'][MinNotAv]- mMa)*a3+ mMi"
   ]
  },
  {
   "cell_type": "code",
   "execution_count": 800,
   "metadata": {},
   "outputs": [
    {
     "data": {
      "text/plain": [
       "<matplotlib.legend.Legend at 0x16916d37ba8>"
      ]
     },
     "execution_count": 800,
     "metadata": {},
     "output_type": "execute_result"
    },
    {
     "data": {
      "image/png": "[encoded data removed]",
      "text/plain": [
       "<matplotlib.figure.Figure at 0x16916ce9e48>"
      ]
     },
     "metadata": {},
     "output_type": "display_data"
    }
   ],
   "source": [
    "plt.figure(figsize=(8,8))\n",
    "plt.scatter(df['Min_Rate_Slurry (bpm)'][~MinNotAv],df['Avg_Rate_Slurry (bpm)'][~MinNotAv],color='blue',s=5,label='originals')\n",
    "plt.scatter(df['Min_Rate_Slurry (bpm)'][MinNotAv],df['Avg_Rate_Slurry (bpm)'][MinNotAv],color='red',s=30,label='replaced')\n",
    "plt.ylabel('Avg')\n",
    "plt.xlabel('Min')\n",
    "plt.legend()"
   ]
  },
  {
   "cell_type": "markdown",
   "metadata": {},
   "source": [
    "#### Missing Max"
   ]
  },
  {
   "cell_type": "code",
   "execution_count": 801,
   "metadata": {},
   "outputs": [
    {
     "name": "stdout",
     "output_type": "stream",
     "text": [
      "30\n",
      "29\n"
     ]
    }
   ],
   "source": [
    "MaxNotAv=np.logical_and(~missing_Atp,missing_Matp)\n",
    "print (sum(MaxNotAv))\n",
    "MaxNotMin=np.logical_and(~missing_Mitp,missing_Matp)\n",
    "print (sum(MaxNotMin))"
   ]
  },
  {
   "cell_type": "code",
   "execution_count": 802,
   "metadata": {},
   "outputs": [
    {
     "name": "stdout",
     "output_type": "stream",
     "text": [
      "we estimate y= ax+b, with a equals:[ 0.51293473]\n"
     ]
    }
   ],
   "source": [
    "a3=lin_regr('Min_Rate_Slurry (bpm)','Max_Rate_Slurry (bpm)')\n",
    "rows=df[MaxNotMin].index\n",
    "\n",
    "df.loc[rows,'Max_Rate_Slurry (bpm)']=(df['Min_Rate_Slurry (bpm)'][MaxNotMin]- mMi)*a3+ mMa"
   ]
  },
  {
   "cell_type": "code",
   "execution_count": 803,
   "metadata": {},
   "outputs": [
    {
     "data": {
      "text/plain": [
       "<matplotlib.legend.Legend at 0x16916d789e8>"
      ]
     },
     "execution_count": 803,
     "metadata": {},
     "output_type": "execute_result"
    },
    {
     "data": {
      "image/png": "[encoded data removed]",
      "text/plain": [
       "<matplotlib.figure.Figure at 0x16916c72208>"
      ]
     },
     "metadata": {},
     "output_type": "display_data"
    }
   ],
   "source": [
    "plt.figure(figsize=(8,8))\n",
    "plt.scatter(df['Min_Rate_Slurry (bpm)'][~MaxNotMin],df['Max_Rate_Slurry (bpm)'][~MaxNotMin],color='blue',s=5,label='originals')\n",
    "plt.scatter(df['Min_Rate_Slurry (bpm)'][MaxNotMin],df['Max_Rate_Slurry (bpm)'][MaxNotMin],color='red',s=30,label='replaced')\n",
    "plt.ylabel('Max')\n",
    "plt.xlabel('Min')\n",
    "plt.legend()"
   ]
  },
  {
   "cell_type": "code",
   "execution_count": 804,
   "metadata": {},
   "outputs": [
    {
     "name": "stdout",
     "output_type": "stream",
     "text": [
      "we estimate y= ax+b, with a equals:[ 0.79158775]\n"
     ]
    }
   ],
   "source": [
    "a3=lin_regr('Avg_Rate_Slurry (bpm)','Max_Rate_Slurry (bpm)')\n",
    "rows=df[MaxNotAv].index\n",
    "df.loc[rows,'Max_Rate_Slurry (bpm)']=(df['Avg_Rate_Slurry (bpm)'][MaxNotAv]- mMa)*a3+ mMa"
   ]
  },
  {
   "cell_type": "code",
   "execution_count": 805,
   "metadata": {},
   "outputs": [
    {
     "data": {
      "text/plain": [
       "<matplotlib.legend.Legend at 0x16916d1a470>"
      ]
     },
     "execution_count": 805,
     "metadata": {},
     "output_type": "execute_result"
    },
    {
     "data": {
      "image/png": "[encoded data removed]",
      "text/plain": [
       "<matplotlib.figure.Figure at 0x16916da4748>"
      ]
     },
     "metadata": {},
     "output_type": "display_data"
    }
   ],
   "source": [
    "plt.figure(figsize=(8,8))\n",
    "plt.scatter(df['Max_Rate_Slurry (bpm)'][~MaxNotAv],df['Avg_Rate_Slurry (bpm)'][~MaxNotAv],color='blue',s=5,label='originals')\n",
    "plt.scatter(df['Max_Rate_Slurry (bpm)'][MaxNotAv],df['Avg_Rate_Slurry (bpm)'][MaxNotAv],color='red',s=30,label='replaced')\n",
    "plt.ylabel('Avg')\n",
    "plt.xlabel('Max')\n",
    "plt.legend()"
   ]
  },
  {
   "cell_type": "code",
   "execution_count": 806,
   "metadata": {},
   "outputs": [
    {
     "name": "stdout",
     "output_type": "stream",
     "text": [
      "0\n",
      "0\n",
      "0\n"
     ]
    }
   ],
   "source": [
    "\n",
    "\n",
    "missing_Atp=np.isnan(df[\"Avg_Treating_Pressure (KPa)\"])\n",
    "missing_Mitp=np.isnan(df[\"Min_Treating_Pressure (KPa)\"])\n",
    "missing_Matp=np.isnan(df[\"Max_Treating_pressure (KPa)\"])\n",
    "print (sum(missing_Atp))\n",
    "print (sum(missing_Mitp))\n",
    "print (sum(missing_Matp))\n",
    "\n"
   ]
  },
  {
   "cell_type": "markdown",
   "metadata": {},
   "source": [
    "### Zone"
   ]
  },
  {
   "cell_type": "markdown",
   "metadata": {},
   "source": [
    "Taking in consideration Andi s analysis about the zone Attribute, It s a categorial variable, i ll change the zone values to 0-9"
   ]
  },
  {
   "cell_type": "code",
   "execution_count": 807,
   "metadata": {},
   "outputs": [
    {
     "data": {
      "text/plain": [
       "array([-0.45747705,  1.10622683, -0.97871168,  0.58499221, -2.02118093,\n",
       "        2.66993072,  2.14869609, -2.54241556,  0.06375758, -1.49994631])"
      ]
     },
     "execution_count": 807,
     "metadata": {},
     "output_type": "execute_result"
    }
   ],
   "source": [
    "df.Zone.unique()"
   ]
  },
  {
   "cell_type": "code",
   "execution_count": 808,
   "metadata": {
    "collapsed": true
   },
   "outputs": [],
   "source": [
    "df =    df.replace({'Zone':{\n",
    "        df.Zone.unique()[0]: 'Z0',\n",
    "        df.Zone.unique()[1]: 'Z1',\n",
    "        df.Zone.unique()[2]: 'Z2',\n",
    "        df.Zone.unique()[3]: 'Z3',\n",
    "        df.Zone.unique()[4]: 'Z4',\n",
    "        df.Zone.unique()[5]: 'Z5',\n",
    "        df.Zone.unique()[6]: 'Z6',\n",
    "        df.Zone.unique()[7]: 'Z7',\n",
    "        df.Zone.unique()[8]: 'Z8',\n",
    "        df.Zone.unique()[8]: 'Z9',\n",
    "        df.Zone.unique()[8]: 'Z10'\n",
    "        }\n",
    "                      }\n",
    ")"
   ]
  },
  {
   "cell_type": "markdown",
   "metadata": {},
   "source": [
    "\n",
    "\n",
    "The idea is to affect to missing values of the concerned variables (see further) in the zone of the well, as we have seen for the train set OilCum and GasCum could be splitted with a pattern ruled by Zone.\n"
   ]
  },
  {
   "cell_type": "markdown",
   "metadata": {},
   "source": [
    "### Pressure_PPLS (PSI)"
   ]
  },
  {
   "cell_type": "code",
   "execution_count": 809,
   "metadata": {},
   "outputs": [
    {
     "data": {
      "text/plain": [
       "1"
      ]
     },
     "execution_count": 809,
     "metadata": {},
     "output_type": "execute_result"
    }
   ],
   "source": [
    "#MV\n",
    "\n",
    "df[\"Pressure_PPLS (PSI)\"].isnull().sum()"
   ]
  },
  {
   "cell_type": "code",
   "execution_count": 810,
   "metadata": {},
   "outputs": [
    {
     "data": {
      "text/html": [
       "<div>\n",
       "<style>\n",
       "    .dataframe thead tr:only-child th {\n",
       "        text-align: right;\n",
       "    }\n",
       "\n",
       "    .dataframe thead th {\n",
       "        text-align: left;\n",
       "    }\n",
       "\n",
       "    .dataframe tbody tr th {\n",
       "        vertical-align: top;\n",
       "    }\n",
       "</style>\n",
       "<table border=\"1\" class=\"dataframe\">\n",
       "  <thead>\n",
       "    <tr style=\"text-align: right;\">\n",
       "      <th></th>\n",
       "      <th>API</th>\n",
       "      <th>Pressure_PPLS (PSI)</th>\n",
       "      <th>Zone</th>\n",
       "    </tr>\n",
       "  </thead>\n",
       "  <tbody>\n",
       "    <tr>\n",
       "      <th>49</th>\n",
       "      <td>640</td>\n",
       "      <td>NaN</td>\n",
       "      <td>Z5</td>\n",
       "    </tr>\n",
       "  </tbody>\n",
       "</table>\n",
       "</div>"
      ],
      "text/plain": [
       "    API  Pressure_PPLS (PSI) Zone\n",
       "49  640                  NaN   Z5"
      ]
     },
     "execution_count": 810,
     "metadata": {},
     "output_type": "execute_result"
    }
   ],
   "source": [
    "missing= np.isnan(df[\"Pressure_PPLS (PSI)\"])\n",
    "df.loc[df[\"Pressure_PPLS (PSI)\"].isnull(), [\"API\",\"Pressure_PPLS (PSI)\",\"Zone\"]]"
   ]
  },
  {
   "cell_type": "code",
   "execution_count": 811,
   "metadata": {},
   "outputs": [
    {
     "data": {
      "text/plain": [
       "<matplotlib.axes._subplots.AxesSubplot at 0x16916d6e940>"
      ]
     },
     "execution_count": 811,
     "metadata": {},
     "output_type": "execute_result"
    },
    {
     "data": {
      "image/png": "[encoded data removed]",
      "text/plain": [
       "<matplotlib.figure.Figure at 0x16916dfc6a0>"
      ]
     },
     "metadata": {},
     "output_type": "display_data"
    }
   ],
   "source": [
    "sns.boxplot(x='Zone', y='Pressure_PPLS (PSI)', data=df,whis=1.5)"
   ]
  },
  {
   "cell_type": "markdown",
   "metadata": {},
   "source": [
    "An idea that would be good is to affect to missing values the mean the variable in the zone of the well\n"
   ]
  },
  {
   "cell_type": "code",
   "execution_count": 812,
   "metadata": {},
   "outputs": [
    {
     "name": "stderr",
     "output_type": "stream",
     "text": [
      "C:\\Users\\EDDAHABI\\Anaconda3\\lib\\site-packages\\ipykernel_launcher.py:1: UserWarning: Boolean Series key will be reindexed to match DataFrame index.\n",
      "  \"\"\"Entry point for launching an IPython kernel.\n"
     ]
    }
   ],
   "source": [
    "w49=np.mean(df[df[\"Zone\"]==\"Z5\"][~missing]['Pressure_PPLS (PSI)'])"
   ]
  },
  {
   "cell_type": "code",
   "execution_count": 813,
   "metadata": {},
   "outputs": [],
   "source": [
    "df.loc[missing,\"Pressure_PPLS (PSI)\"]=w49"
   ]
  },
  {
   "cell_type": "code",
   "execution_count": 814,
   "metadata": {},
   "outputs": [
    {
     "data": {
      "text/plain": [
       "<matplotlib.axes._subplots.AxesSubplot at 0x16916f7ed30>"
      ]
     },
     "execution_count": 814,
     "metadata": {},
     "output_type": "execute_result"
    },
    {
     "data": {
      "image/png": "[encoded data removed]",
      "text/plain": [
       "<matplotlib.figure.Figure at 0x16916fa4d30>"
      ]
     },
     "metadata": {},
     "output_type": "display_data"
    }
   ],
   "source": [
    "# Check distribution \n",
    "\n",
    "plt.rcParams['figure.figsize'] = (8.0,4.0)\n",
    "(df[\"Pressure_PPLS (PSI)\"]).hist()"
   ]
  },
  {
   "cell_type": "code",
   "execution_count": 815,
   "metadata": {},
   "outputs": [
    {
     "data": {
      "text/plain": [
       "Text(0.5,1,'IQR = 2')"
      ]
     },
     "execution_count": 815,
     "metadata": {},
     "output_type": "execute_result"
    },
    {
     "data": {
      "text/plain": [
       "<matplotlib.figure.Figure at 0x16916fb5b00>"
      ]
     },
     "metadata": {},
     "output_type": "display_data"
    },
    {
     "data": {
      "image/png": "[encoded data removed]",
      "text/plain": [
       "<matplotlib.figure.Figure at 0x16916e65470>"
      ]
     },
     "metadata": {},
     "output_type": "display_data"
    }
   ],
   "source": [
    "plt.figure(figsize = (16, 6))\n",
    "f, (ax1, ax2) = plt.subplots(2)\n",
    "sns.boxplot(df[\"Pressure_PPLS (PSI)\"],whis=1.5,ax=ax1)\n",
    "ax1.set_title('IQR = 1.5')\n",
    "sns.boxplot(df[\"Pressure_PPLS (PSI)\"],whis=2,ax=ax2)\n",
    "ax2.set_title('IQR = 2')"
   ]
  },
  {
   "cell_type": "markdown",
   "metadata": {},
   "source": [
    "Outliers very close to each other, i suggest not to change the values "
   ]
  },
  {
   "cell_type": "markdown",
   "metadata": {},
   "source": [
    "### Frac_Gradient (PSI/ft)"
   ]
  },
  {
   "cell_type": "code",
   "execution_count": 816,
   "metadata": {},
   "outputs": [
    {
     "data": {
      "text/plain": [
       "3"
      ]
     },
     "execution_count": 816,
     "metadata": {},
     "output_type": "execute_result"
    }
   ],
   "source": [
    "#MV\n",
    "\n",
    "df[\"Frac_Gradient (PSI/ft)\"].isnull().sum()"
   ]
  },
  {
   "cell_type": "code",
   "execution_count": 817,
   "metadata": {},
   "outputs": [
    {
     "name": "stdout",
     "output_type": "stream",
     "text": [
      "-0.05771115733507852\n"
     ]
    }
   ],
   "source": [
    "missing= np.isnan(df[\"Frac_Gradient (PSI/ft)\"])\n",
    "df.loc[df[\"Frac_Gradient (PSI/ft)\"].isnull(), [\"API\",\"Frac_Gradient (PSI/ft)\"]]\n",
    "print(np.mean(df[\"Frac_Gradient (PSI/ft)\"]))"
   ]
  },
  {
   "cell_type": "markdown",
   "metadata": {},
   "source": [
    "We can notice from the distibution that all values are close to 0, so we replace missing values to the mean"
   ]
  },
  {
   "cell_type": "code",
   "execution_count": 818,
   "metadata": {},
   "outputs": [],
   "source": [
    "df.loc[missing,\"Frac_Gradient (PSI/ft)\"]=np.mean(df[\"Frac_Gradient (PSI/ft)\"])"
   ]
  },
  {
   "cell_type": "code",
   "execution_count": 819,
   "metadata": {},
   "outputs": [
    {
     "data": {
      "text/plain": [
       "<matplotlib.axes._subplots.AxesSubplot at 0x16916fb7e10>"
      ]
     },
     "execution_count": 819,
     "metadata": {},
     "output_type": "execute_result"
    },
    {
     "data": {
      "image/png": "[encoded data removed]",
      "text/plain": [
       "<matplotlib.figure.Figure at 0x16917ffacc0>"
      ]
     },
     "metadata": {},
     "output_type": "display_data"
    }
   ],
   "source": [
    "# Check distribution \n",
    "\n",
    "plt.rcParams['figure.figsize'] = (8.0,4.0)\n",
    "(df[\"Frac_Gradient (PSI/ft)\"]).hist(bins=20)"
   ]
  },
  {
   "cell_type": "code",
   "execution_count": 820,
   "metadata": {},
   "outputs": [
    {
     "data": {
      "text/plain": [
       "Text(0.5,1,'IQR = 2')"
      ]
     },
     "execution_count": 820,
     "metadata": {},
     "output_type": "execute_result"
    },
    {
     "data": {
      "text/plain": [
       "<matplotlib.figure.Figure at 0x16916a746d8>"
      ]
     },
     "metadata": {},
     "output_type": "display_data"
    },
    {
     "data": {
      "image/png": "[encoded data removed]",
      "text/plain": [
       "<matplotlib.figure.Figure at 0x16916ac45c0>"
      ]
     },
     "metadata": {},
     "output_type": "display_data"
    }
   ],
   "source": [
    "plt.figure(figsize = (16, 6))\n",
    "f, (ax1, ax2) = plt.subplots(2)\n",
    "sns.boxplot(df[\"Frac_Gradient (PSI/ft)\"],whis=1.5,ax=ax1)\n",
    "ax1.set_title('IQR = 1.5')\n",
    "sns.boxplot(df[\"Frac_Gradient (PSI/ft)\"],whis=2,ax=ax2)\n",
    "ax2.set_title('IQR = 2')"
   ]
  },
  {
   "cell_type": "code",
   "execution_count": 821,
   "metadata": {},
   "outputs": [
    {
     "data": {
      "text/html": [
       "<div>\n",
       "<style>\n",
       "    .dataframe thead tr:only-child th {\n",
       "        text-align: right;\n",
       "    }\n",
       "\n",
       "    .dataframe thead th {\n",
       "        text-align: left;\n",
       "    }\n",
       "\n",
       "    .dataframe tbody tr th {\n",
       "        vertical-align: top;\n",
       "    }\n",
       "</style>\n",
       "<table border=\"1\" class=\"dataframe\">\n",
       "  <thead>\n",
       "    <tr style=\"text-align: right;\">\n",
       "      <th></th>\n",
       "      <th>API</th>\n",
       "      <th>Frac_Gradient (PSI/ft)</th>\n",
       "    </tr>\n",
       "  </thead>\n",
       "  <tbody>\n",
       "    <tr>\n",
       "      <th>44</th>\n",
       "      <td>58</td>\n",
       "      <td>-0.970954</td>\n",
       "    </tr>\n",
       "  </tbody>\n",
       "</table>\n",
       "</div>"
      ],
      "text/plain": [
       "    API  Frac_Gradient (PSI/ft)\n",
       "44   58               -0.970954"
      ]
     },
     "execution_count": 821,
     "metadata": {},
     "output_type": "execute_result"
    }
   ],
   "source": [
    "o3=outliers(df,\"Frac_Gradient (PSI/ft)\",2)\n",
    "o3[[\"API\",\"Frac_Gradient (PSI/ft)\"]]"
   ]
  },
  {
   "cell_type": "code",
   "execution_count": 822,
   "metadata": {},
   "outputs": [],
   "source": [
    "replace_by_mean(df,\"Frac_Gradient (PSI/ft)\",o3)"
   ]
  },
  {
   "cell_type": "code",
   "execution_count": 823,
   "metadata": {},
   "outputs": [
    {
     "data": {
      "text/plain": [
       "API                             0\n",
       "Surf_X                          0\n",
       "Surf_Y                          0\n",
       "Date_Drilling                   0\n",
       "Date_Completion                 0\n",
       "Date_Production                 0\n",
       "deltaT_Comp_Prod                0\n",
       "Lateral_Length (ft)             0\n",
       "Depth_TVD_PPLS (ft)             0\n",
       "Erosion_PPLS (ft)               0\n",
       "Pressure_PPLS (PSI)             0\n",
       "TOC_PPLS (%)                    0\n",
       "Vcarb_PPLS                      0\n",
       "Vsand_PPLS                      0\n",
       "Vclay_PPLS                      0\n",
       "PR_PPLS                         0\n",
       "YM_PPLS (PSI)                   0\n",
       "RHOB_PPLS (g/cc)                0\n",
       "Res_PPLS (Ohmm)                 0\n",
       "GR_PPLS (API)                   0\n",
       "DT_PPLS (us/ft)                 0\n",
       "DTs_PPLS (us/ft)                0\n",
       "Temperature (F)                 0\n",
       "Temp_Anomaly (F)                0\n",
       "S3Tect_PPLS (PSI)               0\n",
       "S3_contrast_PPLS (PSI)          0\n",
       "Heat_Flow (W/m2)                0\n",
       "Zone                            0\n",
       "Nbr_Stages                      0\n",
       "Frac_Gradient (PSI/ft)          0\n",
       "Proppant_Designed (kg)          0\n",
       "Proppant_in_Formation (kg)      0\n",
       "Avg_Breakdown_Pressure (KPa)    0\n",
       "Avg_Treating_Pressure (KPa)     0\n",
       "Max_Treating_pressure (KPa)     0\n",
       "Min_Treating_Pressure (KPa)     0\n",
       "Avg_Rate_Slurry (bpm)           0\n",
       "Max_Rate_Slurry (bpm)           0\n",
       "Min_Rate_Slurry (bpm)           0\n",
       "ShutInPressure_Fil (KPa)        0\n",
       "ShutInPressure_Initial (KPa)    0\n",
       "ISIP (KPa)                      0\n",
       "Shot_Density (shots/ft)         0\n",
       "Shot_Total                      0\n",
       "Proppant_per_ft (kg/ft)         0\n",
       "Stage_Spacing (ft)              0\n",
       "dtype: int64"
      ]
     },
     "execution_count": 823,
     "metadata": {},
     "output_type": "execute_result"
    }
   ],
   "source": [
    "df.isnull().sum()"
   ]
  },
  {
   "cell_type": "markdown",
   "metadata": {},
   "source": [
    "\n",
    "## Write everything to csv"
   ]
  },
  {
   "cell_type": "code",
   "execution_count": 831,
   "metadata": {
    "collapsed": true
   },
   "outputs": [],
   "source": [
    "df.to_csv('cleaned_test_194_lines_all_features.csv',sep=',',na_rep='na')"
   ]
  },
  {
   "cell_type": "code",
   "execution_count": 832,
   "metadata": {},
   "outputs": [],
   "source": [
    "dfSep = pd.read_csv('cleaned_test_194_lines_all_features.csv',sep=',',decimal=',')"
   ]
  },
  {
   "cell_type": "code",
   "execution_count": 833,
   "metadata": {
    "collapsed": true
   },
   "outputs": [],
   "source": [
    "dfSep =dfSep.iloc[:,29:]"
   ]
  },
  {
   "cell_type": "code",
   "execution_count": 834,
   "metadata": {},
   "outputs": [
    {
     "data": {
      "text/html": [
       "<div>\n",
       "<style>\n",
       "    .dataframe thead tr:only-child th {\n",
       "        text-align: right;\n",
       "    }\n",
       "\n",
       "    .dataframe thead th {\n",
       "        text-align: left;\n",
       "    }\n",
       "\n",
       "    .dataframe tbody tr th {\n",
       "        vertical-align: top;\n",
       "    }\n",
       "</style>\n",
       "<table border=\"1\" class=\"dataframe\">\n",
       "  <thead>\n",
       "    <tr style=\"text-align: right;\">\n",
       "      <th></th>\n",
       "      <th>Nbr_Stages</th>\n",
       "      <th>Frac_Gradient (PSI/ft)</th>\n",
       "      <th>Proppant_Designed (kg)</th>\n",
       "      <th>Proppant_in_Formation (kg)</th>\n",
       "      <th>Avg_Breakdown_Pressure (KPa)</th>\n",
       "      <th>Avg_Treating_Pressure (KPa)</th>\n",
       "      <th>Max_Treating_pressure (KPa)</th>\n",
       "      <th>Min_Treating_Pressure (KPa)</th>\n",
       "      <th>Avg_Rate_Slurry (bpm)</th>\n",
       "      <th>Max_Rate_Slurry (bpm)</th>\n",
       "      <th>Min_Rate_Slurry (bpm)</th>\n",
       "      <th>ShutInPressure_Fil (KPa)</th>\n",
       "      <th>ShutInPressure_Initial (KPa)</th>\n",
       "      <th>ISIP (KPa)</th>\n",
       "      <th>Shot_Density (shots/ft)</th>\n",
       "      <th>Shot_Total</th>\n",
       "      <th>Proppant_per_ft (kg/ft)</th>\n",
       "      <th>Stage_Spacing (ft)</th>\n",
       "    </tr>\n",
       "  </thead>\n",
       "  <tbody>\n",
       "    <tr>\n",
       "      <th>0</th>\n",
       "      <td>-0.064286019</td>\n",
       "      <td>0.032733175</td>\n",
       "      <td>-0.34486145700000004</td>\n",
       "      <td>-0.335703739</td>\n",
       "      <td>-0.290074243</td>\n",
       "      <td>0.21157320100000002</td>\n",
       "      <td>-0.31285621199999997</td>\n",
       "      <td>0.8592299959999999</td>\n",
       "      <td>0.908860549</td>\n",
       "      <td>0.39562672200000004</td>\n",
       "      <td>0.667402475</td>\n",
       "      <td>-0.7163003848613388</td>\n",
       "      <td>-0.7404726690000001</td>\n",
       "      <td>0.13137383800000002</td>\n",
       "      <td>0.187081792</td>\n",
       "      <td>2.409200781</td>\n",
       "      <td>0.16013976300000002</td>\n",
       "      <td>-0.71073882</td>\n",
       "    </tr>\n",
       "    <tr>\n",
       "      <th>1</th>\n",
       "      <td>-1.086409818</td>\n",
       "      <td>-0.535630435</td>\n",
       "      <td>-0.8899164629999999</td>\n",
       "      <td>-0.92822845</td>\n",
       "      <td>-0.127296031</td>\n",
       "      <td>0.175862333</td>\n",
       "      <td>0.39902667299999994</td>\n",
       "      <td>0.944673212</td>\n",
       "      <td>-0.922311201</td>\n",
       "      <td>0.8967915120000001</td>\n",
       "      <td>0.285737714</td>\n",
       "      <td>-0.919600097</td>\n",
       "      <td>-1.103957192</td>\n",
       "      <td>-1.2824637490000002</td>\n",
       "      <td>0.667339212</td>\n",
       "      <td>-0.560749524</td>\n",
       "      <td>-1.149665874</td>\n",
       "      <td>2.085648761</td>\n",
       "    </tr>\n",
       "    <tr>\n",
       "      <th>2</th>\n",
       "      <td>-0.064286019</td>\n",
       "      <td>0.17360499399999998</td>\n",
       "      <td>-0.235139294</td>\n",
       "      <td>-0.225811633</td>\n",
       "      <td>0.345542175</td>\n",
       "      <td>0.7659447559999999</td>\n",
       "      <td>0.36221891</td>\n",
       "      <td>0.807368758</td>\n",
       "      <td>0.14885974400000002</td>\n",
       "      <td>-0.094971341</td>\n",
       "      <td>0.45904608</td>\n",
       "      <td>0.6141262120000001</td>\n",
       "      <td>1.029027658</td>\n",
       "      <td>1.103338988</td>\n",
       "      <td>-0.773433047</td>\n",
       "      <td>0.924225629</td>\n",
       "      <td>-0.58586878</td>\n",
       "      <td>-0.137426505</td>\n",
       "    </tr>\n",
       "    <tr>\n",
       "      <th>3</th>\n",
       "      <td>-1.086409818</td>\n",
       "      <td>-0.150075102</td>\n",
       "      <td>-0.033855001</td>\n",
       "      <td>-0.061579253</td>\n",
       "      <td>1.168888689</td>\n",
       "      <td>0.48765143299999997</td>\n",
       "      <td>-0.037396818</td>\n",
       "      <td>0.36835607200000003</td>\n",
       "      <td>0.9705209920000001</td>\n",
       "      <td>0.7559456878343207</td>\n",
       "      <td>0.332100462</td>\n",
       "      <td>-0.7822316579999999</td>\n",
       "      <td>0.450368029</td>\n",
       "      <td>-0.136075606</td>\n",
       "      <td>0.667339212</td>\n",
       "      <td>-0.560749524</td>\n",
       "      <td>0.595622169</td>\n",
       "      <td>1.887259994</td>\n",
       "    </tr>\n",
       "    <tr>\n",
       "      <th>4</th>\n",
       "      <td>0.008722824</td>\n",
       "      <td>0.217145223</td>\n",
       "      <td>0.324900915</td>\n",
       "      <td>0.29622389600000004</td>\n",
       "      <td>0.844093953</td>\n",
       "      <td>0.556331244</td>\n",
       "      <td>0.496467439</td>\n",
       "      <td>0.568511234</td>\n",
       "      <td>0.786055891</td>\n",
       "      <td>0.9859143109999999</td>\n",
       "      <td>0.323490237</td>\n",
       "      <td>0.41751656401211246</td>\n",
       "      <td>0.743256175</td>\n",
       "      <td>0.835686503</td>\n",
       "      <td>-1.253690467</td>\n",
       "      <td>0.181738053</td>\n",
       "      <td>0.151632803</td>\n",
       "      <td>-0.21651238399999997</td>\n",
       "    </tr>\n",
       "  </tbody>\n",
       "</table>\n",
       "</div>"
      ],
      "text/plain": [
       "     Nbr_Stages Frac_Gradient (PSI/ft) Proppant_Designed (kg)  \\\n",
       "0  -0.064286019            0.032733175   -0.34486145700000004   \n",
       "1  -1.086409818           -0.535630435    -0.8899164629999999   \n",
       "2  -0.064286019    0.17360499399999998           -0.235139294   \n",
       "3  -1.086409818           -0.150075102           -0.033855001   \n",
       "4   0.008722824            0.217145223            0.324900915   \n",
       "\n",
       "  Proppant_in_Formation (kg) Avg_Breakdown_Pressure (KPa)  \\\n",
       "0               -0.335703739                 -0.290074243   \n",
       "1                -0.92822845                 -0.127296031   \n",
       "2               -0.225811633                  0.345542175   \n",
       "3               -0.061579253                  1.168888689   \n",
       "4        0.29622389600000004                  0.844093953   \n",
       "\n",
       "  Avg_Treating_Pressure (KPa) Max_Treating_pressure (KPa)  \\\n",
       "0         0.21157320100000002        -0.31285621199999997   \n",
       "1                 0.175862333         0.39902667299999994   \n",
       "2          0.7659447559999999                  0.36221891   \n",
       "3         0.48765143299999997                -0.037396818   \n",
       "4                 0.556331244                 0.496467439   \n",
       "\n",
       "  Min_Treating_Pressure (KPa) Avg_Rate_Slurry (bpm) Max_Rate_Slurry (bpm)  \\\n",
       "0          0.8592299959999999           0.908860549   0.39562672200000004   \n",
       "1                 0.944673212          -0.922311201    0.8967915120000001   \n",
       "2                 0.807368758   0.14885974400000002          -0.094971341   \n",
       "3         0.36835607200000003    0.9705209920000001    0.7559456878343207   \n",
       "4                 0.568511234           0.786055891    0.9859143109999999   \n",
       "\n",
       "  Min_Rate_Slurry (bpm) ShutInPressure_Fil (KPa) ShutInPressure_Initial (KPa)  \\\n",
       "0           0.667402475      -0.7163003848613388          -0.7404726690000001   \n",
       "1           0.285737714             -0.919600097                 -1.103957192   \n",
       "2            0.45904608       0.6141262120000001                  1.029027658   \n",
       "3           0.332100462      -0.7822316579999999                  0.450368029   \n",
       "4           0.323490237      0.41751656401211246                  0.743256175   \n",
       "\n",
       "            ISIP (KPa) Shot_Density (shots/ft)    Shot_Total  \\\n",
       "0  0.13137383800000002             0.187081792   2.409200781   \n",
       "1  -1.2824637490000002             0.667339212  -0.560749524   \n",
       "2          1.103338988            -0.773433047   0.924225629   \n",
       "3         -0.136075606             0.667339212  -0.560749524   \n",
       "4          0.835686503            -1.253690467   0.181738053   \n",
       "\n",
       "  Proppant_per_ft (kg/ft)    Stage_Spacing (ft)  \n",
       "0     0.16013976300000002           -0.71073882  \n",
       "1            -1.149665874           2.085648761  \n",
       "2             -0.58586878          -0.137426505  \n",
       "3             0.595622169           1.887259994  \n",
       "4             0.151632803  -0.21651238399999997  "
      ]
     },
     "execution_count": 834,
     "metadata": {},
     "output_type": "execute_result"
    }
   ],
   "source": [
    "dfSep.head()"
   ]
  },
  {
   "cell_type": "code",
   "execution_count": 835,
   "metadata": {
    "collapsed": true
   },
   "outputs": [],
   "source": [
    "dfSep.to_csv('cleaned_test_194_lines_47_last_features.csv',sep=',',na_rep='na')"
   ]
  },
  {
   "cell_type": "markdown",
   "metadata": {},
   "source": [
    "## Data processing (41 remaining lines) "
   ]
  },
  {
   "cell_type": "code",
   "execution_count": 838,
   "metadata": {
    "collapsed": true
   },
   "outputs": [],
   "source": [
    "df1 = pd.read_csv('Code +Data/TestSample.csv',sep=';',decimal=',')"
   ]
  },
  {
   "cell_type": "code",
   "execution_count": 839,
   "metadata": {},
   "outputs": [
    {
     "data": {
      "text/plain": [
       "API                              0\n",
       "Surf_X                           0\n",
       "Surf_Y                           0\n",
       "Date_Drilling                   12\n",
       "Date_Completion                  9\n",
       "Date_Production                  2\n",
       "Lateral_Length (ft)              0\n",
       "Depth_TVD_PPLS (ft)              0\n",
       "Erosion_PPLS (ft)                0\n",
       "Pressure_PPLS (PSI)              5\n",
       "TOC_PPLS (%)                     0\n",
       "Vcarb_PPLS                       0\n",
       "Vsand_PPLS                       0\n",
       "Vclay_PPLS                       0\n",
       "PR_PPLS                          0\n",
       "YM_PPLS (PSI)                    0\n",
       "RHOB_PPLS (g/cc)                 0\n",
       "Res_PPLS (Ohmm)                  0\n",
       "GR_PPLS (API)                    0\n",
       "DT_PPLS (us/ft)                  0\n",
       "DTs_PPLS (us/ft)                 0\n",
       "Temperature (F)                  0\n",
       "Temp_Anomaly (F)                 0\n",
       "S3Tect_PPLS (PSI)                0\n",
       "S3_contrast_PPLS (PSI)           0\n",
       "Heat_Flow (W/m2)                 0\n",
       "Zone                             0\n",
       "Nbr_Stages                      41\n",
       "Frac_Gradient (PSI/ft)          44\n",
       "Proppant_Designed (kg)          41\n",
       "Proppant_in_Formation (kg)      42\n",
       "Avg_Breakdown_Pressure (KPa)    45\n",
       "Avg_Treating_Pressure (KPa)     42\n",
       "Max_Treating_pressure (KPa)     42\n",
       "Min_Treating_Pressure (KPa)     42\n",
       "Avg_Rate_Slurry (bpm)           42\n",
       "Max_Rate_Slurry (bpm)           42\n",
       "Min_Rate_Slurry (bpm)           43\n",
       "ShutInPressure_Fil (KPa)        59\n",
       "ShutInPressure_Initial (KPa)    47\n",
       "ISIP (KPa)                      44\n",
       "Shot_Density (shots/ft)         41\n",
       "Shot_Total                      41\n",
       "Proppant_per_ft (kg/ft)         42\n",
       "Stage_Spacing (ft)              41\n",
       "dtype: int64"
      ]
     },
     "execution_count": 839,
     "metadata": {},
     "output_type": "execute_result"
    }
   ],
   "source": [
    "df1.isnull().sum()"
   ]
  },
  {
   "cell_type": "code",
   "execution_count": 840,
   "metadata": {},
   "outputs": [
    {
     "data": {
      "text/html": [
       "<div>\n",
       "<style>\n",
       "    .dataframe thead tr:only-child th {\n",
       "        text-align: right;\n",
       "    }\n",
       "\n",
       "    .dataframe thead th {\n",
       "        text-align: left;\n",
       "    }\n",
       "\n",
       "    .dataframe tbody tr th {\n",
       "        vertical-align: top;\n",
       "    }\n",
       "</style>\n",
       "<table border=\"1\" class=\"dataframe\">\n",
       "  <thead>\n",
       "    <tr style=\"text-align: right;\">\n",
       "      <th></th>\n",
       "      <th>API</th>\n",
       "      <th>Surf_X</th>\n",
       "      <th>Surf_Y</th>\n",
       "      <th>Date_Drilling</th>\n",
       "      <th>Date_Completion</th>\n",
       "      <th>Date_Production</th>\n",
       "      <th>Lateral_Length (ft)</th>\n",
       "      <th>Depth_TVD_PPLS (ft)</th>\n",
       "      <th>Erosion_PPLS (ft)</th>\n",
       "      <th>Pressure_PPLS (PSI)</th>\n",
       "      <th>...</th>\n",
       "      <th>Avg_Rate_Slurry (bpm)</th>\n",
       "      <th>Max_Rate_Slurry (bpm)</th>\n",
       "      <th>Min_Rate_Slurry (bpm)</th>\n",
       "      <th>ShutInPressure_Fil (KPa)</th>\n",
       "      <th>ShutInPressure_Initial (KPa)</th>\n",
       "      <th>ISIP (KPa)</th>\n",
       "      <th>Shot_Density (shots/ft)</th>\n",
       "      <th>Shot_Total</th>\n",
       "      <th>Proppant_per_ft (kg/ft)</th>\n",
       "      <th>Stage_Spacing (ft)</th>\n",
       "    </tr>\n",
       "  </thead>\n",
       "  <tbody>\n",
       "    <tr>\n",
       "      <th>0</th>\n",
       "      <td>633</td>\n",
       "      <td>0.201275</td>\n",
       "      <td>-0.577329</td>\n",
       "      <td>23/06/2013</td>\n",
       "      <td>26/10/2013</td>\n",
       "      <td>10/01/2014</td>\n",
       "      <td>-0.694826</td>\n",
       "      <td>0.641631</td>\n",
       "      <td>-0.356227</td>\n",
       "      <td>1.410748</td>\n",
       "      <td>...</td>\n",
       "      <td>0.908861</td>\n",
       "      <td>0.395627</td>\n",
       "      <td>0.667402</td>\n",
       "      <td>NaN</td>\n",
       "      <td>-0.740473</td>\n",
       "      <td>0.131374</td>\n",
       "      <td>0.187082</td>\n",
       "      <td>2.409201</td>\n",
       "      <td>0.160140</td>\n",
       "      <td>-0.710739</td>\n",
       "    </tr>\n",
       "    <tr>\n",
       "      <th>1</th>\n",
       "      <td>587</td>\n",
       "      <td>0.222609</td>\n",
       "      <td>0.670307</td>\n",
       "      <td>02/06/2012</td>\n",
       "      <td>03/07/2012</td>\n",
       "      <td>05/08/2013</td>\n",
       "      <td>-0.479516</td>\n",
       "      <td>-1.377997</td>\n",
       "      <td>-1.812483</td>\n",
       "      <td>1.605136</td>\n",
       "      <td>...</td>\n",
       "      <td>-0.922311</td>\n",
       "      <td>0.896792</td>\n",
       "      <td>0.285738</td>\n",
       "      <td>-0.919600</td>\n",
       "      <td>-1.103957</td>\n",
       "      <td>-1.282464</td>\n",
       "      <td>0.667339</td>\n",
       "      <td>-0.560750</td>\n",
       "      <td>-1.149666</td>\n",
       "      <td>2.085649</td>\n",
       "    </tr>\n",
       "    <tr>\n",
       "      <th>2</th>\n",
       "      <td>264</td>\n",
       "      <td>0.022105</td>\n",
       "      <td>0.404387</td>\n",
       "      <td>19/05/2013</td>\n",
       "      <td>24/07/2013</td>\n",
       "      <td>06/10/2013</td>\n",
       "      <td>0.310782</td>\n",
       "      <td>-0.775745</td>\n",
       "      <td>0.243462</td>\n",
       "      <td>-0.136014</td>\n",
       "      <td>...</td>\n",
       "      <td>0.148860</td>\n",
       "      <td>-0.094971</td>\n",
       "      <td>0.459046</td>\n",
       "      <td>0.614126</td>\n",
       "      <td>1.029028</td>\n",
       "      <td>1.103339</td>\n",
       "      <td>-0.773433</td>\n",
       "      <td>0.924226</td>\n",
       "      <td>-0.585869</td>\n",
       "      <td>-0.137427</td>\n",
       "    </tr>\n",
       "    <tr>\n",
       "      <th>3</th>\n",
       "      <td>680</td>\n",
       "      <td>0.384359</td>\n",
       "      <td>0.372793</td>\n",
       "      <td>18/08/2012</td>\n",
       "      <td>19/12/2012</td>\n",
       "      <td>12/06/2013</td>\n",
       "      <td>-0.624508</td>\n",
       "      <td>-1.082974</td>\n",
       "      <td>-1.922374</td>\n",
       "      <td>1.443630</td>\n",
       "      <td>...</td>\n",
       "      <td>0.970521</td>\n",
       "      <td>1.132279</td>\n",
       "      <td>0.332100</td>\n",
       "      <td>-0.782232</td>\n",
       "      <td>0.450368</td>\n",
       "      <td>-0.136076</td>\n",
       "      <td>0.667339</td>\n",
       "      <td>-0.560750</td>\n",
       "      <td>0.595622</td>\n",
       "      <td>1.887260</td>\n",
       "    </tr>\n",
       "    <tr>\n",
       "      <th>4</th>\n",
       "      <td>443</td>\n",
       "      <td>-0.138513</td>\n",
       "      <td>0.408803</td>\n",
       "      <td>11/09/2013</td>\n",
       "      <td>29/03/2014</td>\n",
       "      <td>11/05/2014</td>\n",
       "      <td>0.338785</td>\n",
       "      <td>-0.616106</td>\n",
       "      <td>0.556826</td>\n",
       "      <td>-1.011425</td>\n",
       "      <td>...</td>\n",
       "      <td>0.786056</td>\n",
       "      <td>0.985914</td>\n",
       "      <td>0.323490</td>\n",
       "      <td>NaN</td>\n",
       "      <td>0.743256</td>\n",
       "      <td>0.835687</td>\n",
       "      <td>-1.253690</td>\n",
       "      <td>0.181738</td>\n",
       "      <td>0.151633</td>\n",
       "      <td>-0.216512</td>\n",
       "    </tr>\n",
       "  </tbody>\n",
       "</table>\n",
       "<p>5 rows × 45 columns</p>\n",
       "</div>"
      ],
      "text/plain": [
       "   API    Surf_X    Surf_Y Date_Drilling Date_Completion Date_Production  \\\n",
       "0  633  0.201275 -0.577329    23/06/2013      26/10/2013      10/01/2014   \n",
       "1  587  0.222609  0.670307    02/06/2012      03/07/2012      05/08/2013   \n",
       "2  264  0.022105  0.404387    19/05/2013      24/07/2013      06/10/2013   \n",
       "3  680  0.384359  0.372793    18/08/2012      19/12/2012      12/06/2013   \n",
       "4  443 -0.138513  0.408803    11/09/2013      29/03/2014      11/05/2014   \n",
       "\n",
       "   Lateral_Length (ft)  Depth_TVD_PPLS (ft)  Erosion_PPLS (ft)  \\\n",
       "0            -0.694826             0.641631          -0.356227   \n",
       "1            -0.479516            -1.377997          -1.812483   \n",
       "2             0.310782            -0.775745           0.243462   \n",
       "3            -0.624508            -1.082974          -1.922374   \n",
       "4             0.338785            -0.616106           0.556826   \n",
       "\n",
       "   Pressure_PPLS (PSI)         ...          Avg_Rate_Slurry (bpm)  \\\n",
       "0             1.410748         ...                       0.908861   \n",
       "1             1.605136         ...                      -0.922311   \n",
       "2            -0.136014         ...                       0.148860   \n",
       "3             1.443630         ...                       0.970521   \n",
       "4            -1.011425         ...                       0.786056   \n",
       "\n",
       "   Max_Rate_Slurry (bpm)  Min_Rate_Slurry (bpm)  ShutInPressure_Fil (KPa)  \\\n",
       "0               0.395627               0.667402                       NaN   \n",
       "1               0.896792               0.285738                 -0.919600   \n",
       "2              -0.094971               0.459046                  0.614126   \n",
       "3               1.132279               0.332100                 -0.782232   \n",
       "4               0.985914               0.323490                       NaN   \n",
       "\n",
       "   ShutInPressure_Initial (KPa)  ISIP (KPa)  Shot_Density (shots/ft)  \\\n",
       "0                     -0.740473    0.131374                 0.187082   \n",
       "1                     -1.103957   -1.282464                 0.667339   \n",
       "2                      1.029028    1.103339                -0.773433   \n",
       "3                      0.450368   -0.136076                 0.667339   \n",
       "4                      0.743256    0.835687                -1.253690   \n",
       "\n",
       "   Shot_Total  Proppant_per_ft (kg/ft)  Stage_Spacing (ft)  \n",
       "0    2.409201                 0.160140           -0.710739  \n",
       "1   -0.560750                -1.149666            2.085649  \n",
       "2    0.924226                -0.585869           -0.137427  \n",
       "3   -0.560750                 0.595622            1.887260  \n",
       "4    0.181738                 0.151633           -0.216512  \n",
       "\n",
       "[5 rows x 45 columns]"
      ]
     },
     "execution_count": 840,
     "metadata": {},
     "output_type": "execute_result"
    }
   ],
   "source": [
    "df1.head()"
   ]
  },
  {
   "cell_type": "markdown",
   "metadata": {},
   "source": [
    "### Date_Drilling / Date_Completion / Date Production"
   ]
  },
  {
   "cell_type": "code",
   "execution_count": 841,
   "metadata": {},
   "outputs": [
    {
     "data": {
      "text/plain": [
       "Text(0.5,0,'deltaT_Comp_Prod')"
      ]
     },
     "execution_count": 841,
     "metadata": {},
     "output_type": "execute_result"
    },
    {
     "data": {
      "image/png": "[encoded data removed]",
      "text/plain": [
       "<matplotlib.figure.Figure at 0x169135ff320>"
      ]
     },
     "metadata": {},
     "output_type": "display_data"
    }
   ],
   "source": [
    "# Convert date variables to date time\n",
    "# Missing dates\n",
    "\n",
    "pd.to_datetime(df1[\"Date_Drilling\"])\n",
    "df1[\"Date_Drilling\"]=pd.to_datetime(df1[\"Date_Drilling\"])\n",
    "df1[\"Date_Completion\"]=pd.to_datetime(df1[\"Date_Completion\"])\n",
    "df1[\"Date_Production\"]=pd.to_datetime(df1[\"Date_Production\"])\n",
    "df1[\"deltaT_Dril_Comp\"]=(df1[\"Date_Completion\"]-df1[\"Date_Drilling\"]).dt.days\n",
    "df1[\"deltaT_Comp_Prod\"]=(df1[\"Date_Production\"]-df1[\"Date_Completion\"]).dt.days\n",
    "###\n",
    "cols = df1.columns.tolist()\n",
    "df1=df1[cols[:6]+[cols[-2]]+[cols[-1]]+cols[6:-2]]\n",
    "\n",
    "plt.figure(figsize=(12,8))\n",
    "plt.subplot(122)\n",
    "sns.distplot(df1.deltaT_Comp_Prod.dropna(),kde=False)\n",
    "plt.xlabel(\"deltaT_Comp_Prod\")"
   ]
  },
  {
   "cell_type": "markdown",
   "metadata": {},
   "source": [
    "On prend le même mean que tout à l'heure, car maintenant on a peu de valeur (risque de non significativité et perte d'info). Il aurait été plus judicieux de travailler sur toutes les lignes pour les variables dates."
   ]
  },
  {
   "cell_type": "code",
   "execution_count": 842,
   "metadata": {},
   "outputs": [
    {
     "data": {
      "text/html": [
       "<div>\n",
       "<style>\n",
       "    .dataframe thead tr:only-child th {\n",
       "        text-align: right;\n",
       "    }\n",
       "\n",
       "    .dataframe thead th {\n",
       "        text-align: left;\n",
       "    }\n",
       "\n",
       "    .dataframe tbody tr th {\n",
       "        vertical-align: top;\n",
       "    }\n",
       "</style>\n",
       "<table border=\"1\" class=\"dataframe\">\n",
       "  <thead>\n",
       "    <tr style=\"text-align: right;\">\n",
       "      <th></th>\n",
       "      <th>Date_Drilling</th>\n",
       "      <th>Date_Completion</th>\n",
       "      <th>Date_Production</th>\n",
       "      <th>deltaT_Dril_Comp</th>\n",
       "      <th>deltaT_Comp_Prod</th>\n",
       "    </tr>\n",
       "  </thead>\n",
       "  <tbody>\n",
       "    <tr>\n",
       "      <th>27</th>\n",
       "      <td>2015-09-09</td>\n",
       "      <td>NaT</td>\n",
       "      <td>2016-03-18</td>\n",
       "      <td>NaN</td>\n",
       "      <td>NaN</td>\n",
       "    </tr>\n",
       "    <tr>\n",
       "      <th>49</th>\n",
       "      <td>2013-04-07</td>\n",
       "      <td>NaT</td>\n",
       "      <td>2016-06-04</td>\n",
       "      <td>NaN</td>\n",
       "      <td>NaN</td>\n",
       "    </tr>\n",
       "    <tr>\n",
       "      <th>66</th>\n",
       "      <td>2015-02-08</td>\n",
       "      <td>2016-02-15</td>\n",
       "      <td>2016-03-18</td>\n",
       "      <td>372.0</td>\n",
       "      <td>32.0</td>\n",
       "    </tr>\n",
       "    <tr>\n",
       "      <th>113</th>\n",
       "      <td>NaT</td>\n",
       "      <td>NaT</td>\n",
       "      <td>2016-10-06</td>\n",
       "      <td>NaN</td>\n",
       "      <td>NaN</td>\n",
       "    </tr>\n",
       "    <tr>\n",
       "      <th>127</th>\n",
       "      <td>2013-12-13</td>\n",
       "      <td>2014-04-15</td>\n",
       "      <td>2016-11-05</td>\n",
       "      <td>123.0</td>\n",
       "      <td>935.0</td>\n",
       "    </tr>\n",
       "    <tr>\n",
       "      <th>204</th>\n",
       "      <td>2013-09-17</td>\n",
       "      <td>2013-03-12</td>\n",
       "      <td>2016-02-05</td>\n",
       "      <td>-189.0</td>\n",
       "      <td>1060.0</td>\n",
       "    </tr>\n",
       "  </tbody>\n",
       "</table>\n",
       "</div>"
      ],
      "text/plain": [
       "    Date_Drilling Date_Completion Date_Production  deltaT_Dril_Comp  \\\n",
       "27     2015-09-09             NaT      2016-03-18               NaN   \n",
       "49     2013-04-07             NaT      2016-06-04               NaN   \n",
       "66     2015-02-08      2016-02-15      2016-03-18             372.0   \n",
       "113           NaT             NaT      2016-10-06               NaN   \n",
       "127    2013-12-13      2014-04-15      2016-11-05             123.0   \n",
       "204    2013-09-17      2013-03-12      2016-02-05            -189.0   \n",
       "\n",
       "     deltaT_Comp_Prod  \n",
       "27                NaN  \n",
       "49                NaN  \n",
       "66               32.0  \n",
       "113               NaN  \n",
       "127             935.0  \n",
       "204            1060.0  "
      ]
     },
     "execution_count": 842,
     "metadata": {},
     "output_type": "execute_result"
    }
   ],
   "source": [
    "df1.iloc[:,3:8][df1.iloc[:,3:8][\"Date_Production\"].map(lambda x: x.year)==2016]"
   ]
  },
  {
   "cell_type": "code",
   "execution_count": 843,
   "metadata": {},
   "outputs": [
    {
     "data": {
      "text/plain": [
       "[(-300.0, 4.0),\n",
       " (-249.62962962962962, 5.0),\n",
       " (-199.25925925925924, 10.0),\n",
       " (-148.88888888888889, 7.0),\n",
       " (-98.518518518518505, 12.0),\n",
       " (-48.148148148148124, 28.0),\n",
       " (2.2222222222222285, 28.0),\n",
       " (52.592592592592609, 49.0),\n",
       " (102.96296296296299, 25.0),\n",
       " (153.33333333333337, 9.0),\n",
       " (203.70370370370375, 12.0),\n",
       " (254.07407407407413, 8.0),\n",
       " (304.44444444444446, 14.0),\n",
       " (354.81481481481489, 6.0),\n",
       " (405.18518518518522, 1.0),\n",
       " (455.55555555555566, 1.0),\n",
       " (505.92592592592592, 2.0),\n",
       " (556.2962962962963, 0.0),\n",
       " (606.66666666666674, 2.0),\n",
       " (657.03703703703707, 1.0),\n",
       " (707.40740740740739, 0.0),\n",
       " (757.77777777777783, 0.0),\n",
       " (808.14814814814827, 0.0),\n",
       " (858.5185185185187, 0.0),\n",
       " (908.88888888888891, 1.0),\n",
       " (959.25925925925935, 0.0),\n",
       " (1009.6296296296297, 1.0)]"
      ]
     },
     "execution_count": 843,
     "metadata": {},
     "output_type": "execute_result"
    },
    {
     "data": {
      "image/png": "[encoded data removed]",
      "text/plain": [
       "<matplotlib.figure.Figure at 0x16913b6c588>"
      ]
     },
     "metadata": {},
     "output_type": "display_data"
    }
   ],
   "source": [
    "#Pour la Date_Comp\n",
    "plt.figure()\n",
    "[(h.get_x(),h.get_height()) for h in sns.distplot(df1.deltaT_Comp_Prod.dropna(),kde=False).patches]\n",
    "#On prend donc la valeur la plus fréquente = 52 Jrs"
   ]
  },
  {
   "cell_type": "code",
   "execution_count": 844,
   "metadata": {},
   "outputs": [
    {
     "data": {
      "text/plain": [
       "[(-276.0, 3.0),\n",
       " (-222.8235294117647, 4.0),\n",
       " (-169.64705882352939, 3.0),\n",
       " (-116.47058823529412, 11.0),\n",
       " (-63.294117647058812, 11.0),\n",
       " (-10.117647058823536, 21.0),\n",
       " (43.058823529411768, 42.0),\n",
       " (96.235294117647072, 33.0),\n",
       " (149.41176470588238, 31.0),\n",
       " (202.58823529411768, 22.0),\n",
       " (255.76470588235293, 14.0),\n",
       " (308.94117647058829, 9.0),\n",
       " (362.11764705882354, 8.0),\n",
       " (415.2941176470589, 2.0),\n",
       " (468.47058823529414, 4.0),\n",
       " (521.64705882352951, 1.0),\n",
       " (574.82352941176487, 2.0)]"
      ]
     },
     "execution_count": 844,
     "metadata": {},
     "output_type": "execute_result"
    },
    {
     "data": {
      "image/png": "[encoded data removed]",
      "text/plain": [
       "<matplotlib.figure.Figure at 0x169133eb4a8>"
      ]
     },
     "metadata": {},
     "output_type": "display_data"
    }
   ],
   "source": [
    "plt.figure()\n",
    "[(h.get_x(),h.get_height()) for h in sns.distplot(df1.deltaT_Dril_Comp.dropna(),kde=False).patches]\n",
    "#On prend donc le mean de la distribution: 43 Jrs"
   ]
  },
  {
   "cell_type": "code",
   "execution_count": 845,
   "metadata": {},
   "outputs": [],
   "source": [
    "#Filling the missing dates:\n",
    "\n",
    "df1.loc[df1['Date_Production'].isnull(),'Date_Production']=pd.to_datetime('2012-06-27')\n",
    "df1.loc[df1['Date_Completion'].isnull(),'Date_Completion']=df1.loc[df1['Date_Completion'].isnull(),'Date_Production']-dt.timedelta(days=np.mean(df1[\"deltaT_Comp_Prod\"]))\n",
    "df1.loc[df1['Date_Drilling'].isnull(),'Date_Drilling']=df1.loc[df1['Date_Drilling'].isnull(),'Date_Completion']-dt.timedelta(days=np.mean(df1[\"deltaT_Dril_Comp\"]))"
   ]
  },
  {
   "cell_type": "markdown",
   "metadata": {},
   "source": [
    "### Lateral_Length (ft)"
   ]
  },
  {
   "cell_type": "code",
   "execution_count": 846,
   "metadata": {},
   "outputs": [
    {
     "data": {
      "text/plain": [
       "0"
      ]
     },
     "execution_count": 846,
     "metadata": {},
     "output_type": "execute_result"
    }
   ],
   "source": [
    "#MV\n",
    "df1[\"Lateral_Length (ft)\"].isnull().sum()"
   ]
  },
  {
   "cell_type": "code",
   "execution_count": 849,
   "metadata": {},
   "outputs": [
    {
     "data": {
      "text/plain": [
       "<matplotlib.axes._subplots.AxesSubplot at 0x16911987c18>"
      ]
     },
     "execution_count": 849,
     "metadata": {},
     "output_type": "execute_result"
    },
    {
     "data": {
      "image/png": "[encoded data removed]",
      "text/plain": [
       "<matplotlib.figure.Figure at 0x16914e84898>"
      ]
     },
     "metadata": {},
     "output_type": "display_data"
    }
   ],
   "source": [
    "# Check distribution of Lateral_Length:\n",
    "plt.rcParams['figure.figsize'] = (8.0,4.0)\n",
    "(df1.iloc[:,8]).hist()"
   ]
  },
  {
   "cell_type": "code",
   "execution_count": 850,
   "metadata": {},
   "outputs": [
    {
     "data": {
      "text/plain": [
       "Text(0.5,1,'IQR = 2')"
      ]
     },
     "execution_count": 850,
     "metadata": {},
     "output_type": "execute_result"
    },
    {
     "data": {
      "text/plain": [
       "<matplotlib.figure.Figure at 0x169119e97f0>"
      ]
     },
     "metadata": {},
     "output_type": "display_data"
    },
    {
     "data": {
      "image/png": "[encoded data removed]",
      "text/plain": [
       "<matplotlib.figure.Figure at 0x169119e9f60>"
      ]
     },
     "metadata": {},
     "output_type": "display_data"
    }
   ],
   "source": [
    "plt.figure(figsize = (16, 6))\n",
    "f, (ax1, ax2) = plt.subplots(2)\n",
    "sns.boxplot(df1[\"Lateral_Length (ft)\"],whis=1.5,ax=ax1)\n",
    "ax1.set_title('IQR = 1.5')\n",
    "sns.boxplot(df1[\"Lateral_Length (ft)\"],whis=2,ax=ax2)\n",
    "ax2.set_title('IQR = 2')"
   ]
  },
  {
   "cell_type": "code",
   "execution_count": 858,
   "metadata": {},
   "outputs": [
    {
     "data": {
      "text/html": [
       "<div>\n",
       "<style>\n",
       "    .dataframe thead tr:only-child th {\n",
       "        text-align: right;\n",
       "    }\n",
       "\n",
       "    .dataframe thead th {\n",
       "        text-align: left;\n",
       "    }\n",
       "\n",
       "    .dataframe tbody tr th {\n",
       "        vertical-align: top;\n",
       "    }\n",
       "</style>\n",
       "<table border=\"1\" class=\"dataframe\">\n",
       "  <thead>\n",
       "    <tr style=\"text-align: right;\">\n",
       "      <th></th>\n",
       "      <th>API</th>\n",
       "      <th>Surf_X</th>\n",
       "      <th>Surf_Y</th>\n",
       "      <th>Date_Drilling</th>\n",
       "      <th>Date_Completion</th>\n",
       "      <th>Date_Production</th>\n",
       "      <th>deltaT_Comp_Prod</th>\n",
       "      <th>Lateral_Length (ft)</th>\n",
       "      <th>Depth_TVD_PPLS (ft)</th>\n",
       "      <th>Erosion_PPLS (ft)</th>\n",
       "      <th>...</th>\n",
       "      <th>Avg_Rate_Slurry (bpm)</th>\n",
       "      <th>Max_Rate_Slurry (bpm)</th>\n",
       "      <th>Min_Rate_Slurry (bpm)</th>\n",
       "      <th>ShutInPressure_Fil (KPa)</th>\n",
       "      <th>ShutInPressure_Initial (KPa)</th>\n",
       "      <th>ISIP (KPa)</th>\n",
       "      <th>Shot_Density (shots/ft)</th>\n",
       "      <th>Shot_Total</th>\n",
       "      <th>Proppant_per_ft (kg/ft)</th>\n",
       "      <th>Stage_Spacing (ft)</th>\n",
       "    </tr>\n",
       "  </thead>\n",
       "  <tbody>\n",
       "    <tr>\n",
       "      <th>63</th>\n",
       "      <td>78</td>\n",
       "      <td>-0.138067</td>\n",
       "      <td>-0.514181</td>\n",
       "      <td>2014-05-14</td>\n",
       "      <td>2014-10-30</td>\n",
       "      <td>2015-01-02</td>\n",
       "      <td>64.0</td>\n",
       "      <td>2.991574</td>\n",
       "      <td>0.885346</td>\n",
       "      <td>0.943895</td>\n",
       "      <td>...</td>\n",
       "      <td>-0.504324</td>\n",
       "      <td>-0.827698</td>\n",
       "      <td>-0.840636</td>\n",
       "      <td>-0.590617</td>\n",
       "      <td>0.028517</td>\n",
       "      <td>0.193651</td>\n",
       "      <td>0.667339</td>\n",
       "      <td>0.181738</td>\n",
       "      <td>0.584756</td>\n",
       "      <td>-0.800857</td>\n",
       "    </tr>\n",
       "    <tr>\n",
       "      <th>169</th>\n",
       "      <td>643</td>\n",
       "      <td>1.057074</td>\n",
       "      <td>-0.167117</td>\n",
       "      <td>2014-08-06</td>\n",
       "      <td>2014-07-10</td>\n",
       "      <td>2014-12-22</td>\n",
       "      <td>165.0</td>\n",
       "      <td>2.828536</td>\n",
       "      <td>-0.721269</td>\n",
       "      <td>1.276853</td>\n",
       "      <td>...</td>\n",
       "      <td>0.287072</td>\n",
       "      <td>-0.065129</td>\n",
       "      <td>0.176114</td>\n",
       "      <td>0.916444</td>\n",
       "      <td>1.344138</td>\n",
       "      <td>0.761554</td>\n",
       "      <td>1.455454</td>\n",
       "      <td>0.120816</td>\n",
       "      <td>-0.530388</td>\n",
       "      <td>-0.161906</td>\n",
       "    </tr>\n",
       "  </tbody>\n",
       "</table>\n",
       "<p>2 rows × 46 columns</p>\n",
       "</div>"
      ],
      "text/plain": [
       "     API    Surf_X    Surf_Y Date_Drilling Date_Completion Date_Production  \\\n",
       "63    78 -0.138067 -0.514181    2014-05-14      2014-10-30      2015-01-02   \n",
       "169  643  1.057074 -0.167117    2014-08-06      2014-07-10      2014-12-22   \n",
       "\n",
       "     deltaT_Comp_Prod  Lateral_Length (ft)  Depth_TVD_PPLS (ft)  \\\n",
       "63               64.0             2.991574             0.885346   \n",
       "169             165.0             2.828536            -0.721269   \n",
       "\n",
       "     Erosion_PPLS (ft)         ...          Avg_Rate_Slurry (bpm)  \\\n",
       "63            0.943895         ...                      -0.504324   \n",
       "169           1.276853         ...                       0.287072   \n",
       "\n",
       "     Max_Rate_Slurry (bpm)  Min_Rate_Slurry (bpm)  ShutInPressure_Fil (KPa)  \\\n",
       "63               -0.827698              -0.840636                 -0.590617   \n",
       "169              -0.065129               0.176114                  0.916444   \n",
       "\n",
       "     ShutInPressure_Initial (KPa)  ISIP (KPa)  Shot_Density (shots/ft)  \\\n",
       "63                       0.028517    0.193651                 0.667339   \n",
       "169                      1.344138    0.761554                 1.455454   \n",
       "\n",
       "     Shot_Total  Proppant_per_ft (kg/ft)  Stage_Spacing (ft)  \n",
       "63     0.181738                 0.584756           -0.800857  \n",
       "169    0.120816                -0.530388           -0.161906  \n",
       "\n",
       "[2 rows x 46 columns]"
      ]
     },
     "execution_count": 858,
     "metadata": {},
     "output_type": "execute_result"
    }
   ],
   "source": [
    "o0=outliers(df,\"Lateral_Length (ft)\",2)\n",
    "o0"
   ]
  },
  {
   "cell_type": "code",
   "execution_count": 859,
   "metadata": {
    "collapsed": true
   },
   "outputs": [],
   "source": [
    "replace_by_mean(df1,\"Depth_TVD_PPLS (ft)\",o0)"
   ]
  },
  {
   "cell_type": "markdown",
   "metadata": {},
   "source": [
    "### Depth_TVD_PPLS (ft)"
   ]
  },
  {
   "cell_type": "code",
   "execution_count": 860,
   "metadata": {},
   "outputs": [
    {
     "data": {
      "text/plain": [
       "0"
      ]
     },
     "execution_count": 860,
     "metadata": {},
     "output_type": "execute_result"
    }
   ],
   "source": [
    "#MV\n",
    "\n",
    "df[\"Depth_TVD_PPLS (ft)\"].isnull().sum()"
   ]
  },
  {
   "cell_type": "code",
   "execution_count": 861,
   "metadata": {},
   "outputs": [
    {
     "data": {
      "text/plain": [
       "<matplotlib.axes._subplots.AxesSubplot at 0x16913b38a58>"
      ]
     },
     "execution_count": 861,
     "metadata": {},
     "output_type": "execute_result"
    },
    {
     "data": {
      "image/png": "[encoded data removed]",
      "text/plain": [
       "<matplotlib.figure.Figure at 0x169135f36a0>"
      ]
     },
     "metadata": {},
     "output_type": "display_data"
    }
   ],
   "source": [
    "# Check distribution\n",
    "\n",
    "plt.rcParams['figure.figsize'] = (8.0,4.0)\n",
    "(df1[\"Depth_TVD_PPLS (ft)\"]).hist()"
   ]
  },
  {
   "cell_type": "code",
   "execution_count": 862,
   "metadata": {},
   "outputs": [
    {
     "data": {
      "text/plain": [
       "Text(0.5,1,'IQR = 2')"
      ]
     },
     "execution_count": 862,
     "metadata": {},
     "output_type": "execute_result"
    },
    {
     "data": {
      "text/plain": [
       "<matplotlib.figure.Figure at 0x16914dd9d30>"
      ]
     },
     "metadata": {},
     "output_type": "display_data"
    },
    {
     "data": {
      "image/png": "[encoded data removed]",
      "text/plain": [
       "<matplotlib.figure.Figure at 0x16914dd9438>"
      ]
     },
     "metadata": {},
     "output_type": "display_data"
    }
   ],
   "source": [
    "plt.figure(figsize = (16, 6))\n",
    "f, (ax1, ax2) = plt.subplots(2)\n",
    "sns.boxplot(df1[\"Depth_TVD_PPLS (ft)\"],whis=1.5,ax=ax1)\n",
    "ax1.set_title('IQR = 1.5')\n",
    "sns.boxplot(df1[\"Depth_TVD_PPLS (ft)\"],whis=2,ax=ax2)\n",
    "ax2.set_title('IQR = 2')"
   ]
  },
  {
   "cell_type": "code",
   "execution_count": 863,
   "metadata": {},
   "outputs": [
    {
     "data": {
      "text/html": [
       "<div>\n",
       "<style>\n",
       "    .dataframe thead tr:only-child th {\n",
       "        text-align: right;\n",
       "    }\n",
       "\n",
       "    .dataframe thead th {\n",
       "        text-align: left;\n",
       "    }\n",
       "\n",
       "    .dataframe tbody tr th {\n",
       "        vertical-align: top;\n",
       "    }\n",
       "</style>\n",
       "<table border=\"1\" class=\"dataframe\">\n",
       "  <thead>\n",
       "    <tr style=\"text-align: right;\">\n",
       "      <th></th>\n",
       "      <th>API</th>\n",
       "      <th>Surf_X</th>\n",
       "      <th>Surf_Y</th>\n",
       "      <th>Date_Drilling</th>\n",
       "      <th>Date_Completion</th>\n",
       "      <th>Date_Production</th>\n",
       "      <th>deltaT_Dril_Comp</th>\n",
       "      <th>deltaT_Comp_Prod</th>\n",
       "      <th>Lateral_Length (ft)</th>\n",
       "      <th>Depth_TVD_PPLS (ft)</th>\n",
       "      <th>...</th>\n",
       "      <th>Avg_Rate_Slurry (bpm)</th>\n",
       "      <th>Max_Rate_Slurry (bpm)</th>\n",
       "      <th>Min_Rate_Slurry (bpm)</th>\n",
       "      <th>ShutInPressure_Fil (KPa)</th>\n",
       "      <th>ShutInPressure_Initial (KPa)</th>\n",
       "      <th>ISIP (KPa)</th>\n",
       "      <th>Shot_Density (shots/ft)</th>\n",
       "      <th>Shot_Total</th>\n",
       "      <th>Proppant_per_ft (kg/ft)</th>\n",
       "      <th>Stage_Spacing (ft)</th>\n",
       "    </tr>\n",
       "  </thead>\n",
       "  <tbody>\n",
       "    <tr>\n",
       "      <th>7</th>\n",
       "      <td>581</td>\n",
       "      <td>0.404052</td>\n",
       "      <td>-2.614247</td>\n",
       "      <td>2011-11-13 15:30:33.227886</td>\n",
       "      <td>2012-03-25 15:17:31.327434</td>\n",
       "      <td>2012-06-27</td>\n",
       "      <td>NaN</td>\n",
       "      <td>NaN</td>\n",
       "      <td>-0.898312</td>\n",
       "      <td>3.217887</td>\n",
       "      <td>...</td>\n",
       "      <td>NaN</td>\n",
       "      <td>NaN</td>\n",
       "      <td>NaN</td>\n",
       "      <td>NaN</td>\n",
       "      <td>NaN</td>\n",
       "      <td>NaN</td>\n",
       "      <td>NaN</td>\n",
       "      <td>NaN</td>\n",
       "      <td>NaN</td>\n",
       "      <td>NaN</td>\n",
       "    </tr>\n",
       "  </tbody>\n",
       "</table>\n",
       "<p>1 rows × 47 columns</p>\n",
       "</div>"
      ],
      "text/plain": [
       "   API    Surf_X    Surf_Y              Date_Drilling  \\\n",
       "7  581  0.404052 -2.614247 2011-11-13 15:30:33.227886   \n",
       "\n",
       "             Date_Completion Date_Production  deltaT_Dril_Comp  \\\n",
       "7 2012-03-25 15:17:31.327434      2012-06-27               NaN   \n",
       "\n",
       "   deltaT_Comp_Prod  Lateral_Length (ft)  Depth_TVD_PPLS (ft)  \\\n",
       "7               NaN            -0.898312             3.217887   \n",
       "\n",
       "          ...          Avg_Rate_Slurry (bpm)  Max_Rate_Slurry (bpm)  \\\n",
       "7         ...                            NaN                    NaN   \n",
       "\n",
       "   Min_Rate_Slurry (bpm)  ShutInPressure_Fil (KPa)  \\\n",
       "7                    NaN                       NaN   \n",
       "\n",
       "   ShutInPressure_Initial (KPa)  ISIP (KPa)  Shot_Density (shots/ft)  \\\n",
       "7                           NaN         NaN                      NaN   \n",
       "\n",
       "   Shot_Total  Proppant_per_ft (kg/ft)  Stage_Spacing (ft)  \n",
       "7         NaN                      NaN                 NaN  \n",
       "\n",
       "[1 rows x 47 columns]"
      ]
     },
     "execution_count": 863,
     "metadata": {},
     "output_type": "execute_result"
    }
   ],
   "source": [
    "o1=outliers(df1,\"Depth_TVD_PPLS (ft)\",2)\n",
    "o1"
   ]
  },
  {
   "cell_type": "code",
   "execution_count": 864,
   "metadata": {
    "collapsed": true
   },
   "outputs": [],
   "source": [
    "replace_by_mean(df1,\"Depth_TVD_PPLS (ft)\",o1)"
   ]
  },
  {
   "cell_type": "markdown",
   "metadata": {},
   "source": [
    "### Erosion_PPLS (ft)"
   ]
  },
  {
   "cell_type": "code",
   "execution_count": 865,
   "metadata": {},
   "outputs": [
    {
     "data": {
      "text/plain": [
       "0"
      ]
     },
     "execution_count": 865,
     "metadata": {},
     "output_type": "execute_result"
    }
   ],
   "source": [
    "#MV\n",
    "\n",
    "df1[\"Erosion_PPLS (ft)\"].isnull().sum()"
   ]
  },
  {
   "cell_type": "code",
   "execution_count": 866,
   "metadata": {},
   "outputs": [
    {
     "data": {
      "text/plain": [
       "<matplotlib.axes._subplots.AxesSubplot at 0x1691347b588>"
      ]
     },
     "execution_count": 866,
     "metadata": {},
     "output_type": "execute_result"
    },
    {
     "data": {
      "image/png": "[encoded data removed]",
      "text/plain": [
       "<matplotlib.figure.Figure at 0x16914eb3438>"
      ]
     },
     "metadata": {},
     "output_type": "display_data"
    }
   ],
   "source": [
    "# Check distribution \n",
    "\n",
    "plt.rcParams['figure.figsize'] = (8.0,4.0)\n",
    "(df1[\"Erosion_PPLS (ft)\"]).hist()"
   ]
  },
  {
   "cell_type": "code",
   "execution_count": 867,
   "metadata": {},
   "outputs": [
    {
     "data": {
      "text/plain": [
       "<matplotlib.axes._subplots.AxesSubplot at 0x16914c7f978>"
      ]
     },
     "execution_count": 867,
     "metadata": {},
     "output_type": "execute_result"
    },
    {
     "data": {
      "image/png": "[encoded data removed]",
      "text/plain": [
       "<matplotlib.figure.Figure at 0x16914ccbf28>"
      ]
     },
     "metadata": {},
     "output_type": "display_data"
    }
   ],
   "source": [
    "sns.boxplot(df1[\"Erosion_PPLS (ft)\"],whis=1.5)"
   ]
  },
  {
   "cell_type": "markdown",
   "metadata": {},
   "source": [
    "### Zone"
   ]
  },
  {
   "cell_type": "markdown",
   "metadata": {},
   "source": [
    "\n",
    "\n",
    "Taking in consideration Andi s analysis about the zone Attribute, It s a categorial variable, i ll change the zone values to 0-9\n"
   ]
  },
  {
   "cell_type": "code",
   "execution_count": 868,
   "metadata": {},
   "outputs": [
    {
     "data": {
      "text/plain": [
       "array([-0.45747705,  1.10622683, -0.97871168, -2.54241556,  0.58499221,\n",
       "       -2.02118093,  2.66993072,  2.14869609,  1.62746146,  0.06375758,\n",
       "       -1.49994631])"
      ]
     },
     "execution_count": 868,
     "metadata": {},
     "output_type": "execute_result"
    }
   ],
   "source": [
    "\n",
    "\n",
    "df1.Zone.unique()\n",
    "\n"
   ]
  },
  {
   "cell_type": "markdown",
   "metadata": {},
   "source": [
    "\n",
    "\n",
    "Till now we have only Zone as a categorical variable , maybe plotting OiCum and GazCum by Zone can help us understand relations -> Zone is correlated with oilcum with a coeff 0.6 (second most correlated variable)\n"
   ]
  },
  {
   "cell_type": "code",
   "execution_count": null,
   "metadata": {
    "collapsed": true
   },
   "outputs": [],
   "source": []
  }
 ],
 "metadata": {
  "kernelspec": {
   "display_name": "Python 3",
   "language": "python",
   "name": "python3"
  },
  "language_info": {
   "codemirror_mode": {
    "name": "ipython",
    "version": 3
   },
   "file_extension": ".py",
   "mimetype": "text/x-python",
   "name": "python",
   "nbconvert_exporter": "python",
   "pygments_lexer": "ipython3",
   "version": "3.6.3"
  }
 },
 "nbformat": 4,
 "nbformat_minor": 2
}
