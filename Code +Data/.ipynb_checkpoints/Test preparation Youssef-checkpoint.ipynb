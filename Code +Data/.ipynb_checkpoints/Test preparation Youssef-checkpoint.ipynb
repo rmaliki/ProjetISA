{
 "cells": [
  {
   "cell_type": "markdown",
   "metadata": {},
   "source": [
    "# Test set preparation - Outliers and missing values"
   ]
  },
  {
   "cell_type": "code",
   "execution_count": 266,
   "metadata": {},
   "outputs": [
    {
     "data": {
      "text/html": [
       "<div>\n",
       "<style>\n",
       "    .dataframe thead tr:only-child th {\n",
       "        text-align: right;\n",
       "    }\n",
       "\n",
       "    .dataframe thead th {\n",
       "        text-align: left;\n",
       "    }\n",
       "\n",
       "    .dataframe tbody tr th {\n",
       "        vertical-align: top;\n",
       "    }\n",
       "</style>\n",
       "<table border=\"1\" class=\"dataframe\">\n",
       "  <thead>\n",
       "    <tr style=\"text-align: right;\">\n",
       "      <th></th>\n",
       "      <th>API</th>\n",
       "      <th>Surf_X</th>\n",
       "      <th>Surf_Y</th>\n",
       "      <th>deltaT_Comp_Prod</th>\n",
       "      <th>Lateral_Length (ft)</th>\n",
       "      <th>Depth_TVD_PPLS (ft)</th>\n",
       "      <th>Erosion_PPLS (ft)</th>\n",
       "      <th>Pressure_PPLS (PSI)</th>\n",
       "      <th>TOC_PPLS (%)</th>\n",
       "      <th>Vcarb_PPLS</th>\n",
       "      <th>...</th>\n",
       "      <th>Avg_Rate_Slurry (bpm)</th>\n",
       "      <th>Max_Rate_Slurry (bpm)</th>\n",
       "      <th>Min_Rate_Slurry (bpm)</th>\n",
       "      <th>ShutInPressure_Fil (KPa)</th>\n",
       "      <th>ShutInPressure_Initial (KPa)</th>\n",
       "      <th>ISIP (KPa)</th>\n",
       "      <th>Shot_Density (shots/ft)</th>\n",
       "      <th>Shot_Total</th>\n",
       "      <th>Proppant_per_ft (kg/ft)</th>\n",
       "      <th>Stage_Spacing (ft)</th>\n",
       "    </tr>\n",
       "  </thead>\n",
       "  <tbody>\n",
       "    <tr>\n",
       "      <th>count</th>\n",
       "      <td>194.000000</td>\n",
       "      <td>194.000000</td>\n",
       "      <td>194.000000</td>\n",
       "      <td>194.000000</td>\n",
       "      <td>194.000000</td>\n",
       "      <td>194.000000</td>\n",
       "      <td>194.000000</td>\n",
       "      <td>193.000000</td>\n",
       "      <td>194.000000</td>\n",
       "      <td>194.000000</td>\n",
       "      <td>...</td>\n",
       "      <td>193.000000</td>\n",
       "      <td>193.000000</td>\n",
       "      <td>192.000000</td>\n",
       "      <td>194.000000</td>\n",
       "      <td>194.000000</td>\n",
       "      <td>194.000000</td>\n",
       "      <td>194.000000</td>\n",
       "      <td>194.000000</td>\n",
       "      <td>193.000000</td>\n",
       "      <td>194.000000</td>\n",
       "    </tr>\n",
       "    <tr>\n",
       "      <th>mean</th>\n",
       "      <td>394.551546</td>\n",
       "      <td>0.347616</td>\n",
       "      <td>-0.325073</td>\n",
       "      <td>112.810825</td>\n",
       "      <td>-0.233974</td>\n",
       "      <td>0.136031</td>\n",
       "      <td>-0.102183</td>\n",
       "      <td>0.034777</td>\n",
       "      <td>0.261178</td>\n",
       "      <td>0.068843</td>\n",
       "      <td>...</td>\n",
       "      <td>0.193706</td>\n",
       "      <td>0.128772</td>\n",
       "      <td>0.198197</td>\n",
       "      <td>-0.146654</td>\n",
       "      <td>-0.050136</td>\n",
       "      <td>-0.094710</td>\n",
       "      <td>-0.239517</td>\n",
       "      <td>0.139261</td>\n",
       "      <td>-0.003333</td>\n",
       "      <td>0.028647</td>\n",
       "    </tr>\n",
       "    <tr>\n",
       "      <th>std</th>\n",
       "      <td>231.466959</td>\n",
       "      <td>0.658362</td>\n",
       "      <td>0.702101</td>\n",
       "      <td>190.674860</td>\n",
       "      <td>0.891883</td>\n",
       "      <td>0.869791</td>\n",
       "      <td>1.025980</td>\n",
       "      <td>1.085227</td>\n",
       "      <td>0.822156</td>\n",
       "      <td>1.025141</td>\n",
       "      <td>...</td>\n",
       "      <td>0.950198</td>\n",
       "      <td>0.998057</td>\n",
       "      <td>1.118451</td>\n",
       "      <td>0.836108</td>\n",
       "      <td>0.991671</td>\n",
       "      <td>0.887422</td>\n",
       "      <td>0.998651</td>\n",
       "      <td>0.808711</td>\n",
       "      <td>1.025006</td>\n",
       "      <td>0.951854</td>\n",
       "    </tr>\n",
       "    <tr>\n",
       "      <th>min</th>\n",
       "      <td>3.000000</td>\n",
       "      <td>-2.352500</td>\n",
       "      <td>-2.058999</td>\n",
       "      <td>-300.000000</td>\n",
       "      <td>-2.608966</td>\n",
       "      <td>-2.452614</td>\n",
       "      <td>-2.122505</td>\n",
       "      <td>-3.560607</td>\n",
       "      <td>-2.169983</td>\n",
       "      <td>-3.404962</td>\n",
       "      <td>...</td>\n",
       "      <td>-3.213068</td>\n",
       "      <td>-3.600518</td>\n",
       "      <td>-1.386031</td>\n",
       "      <td>-2.255630</td>\n",
       "      <td>-2.641175</td>\n",
       "      <td>-2.647597</td>\n",
       "      <td>-1.253690</td>\n",
       "      <td>-2.020122</td>\n",
       "      <td>-1.596762</td>\n",
       "      <td>-1.725533</td>\n",
       "    </tr>\n",
       "    <tr>\n",
       "      <th>25%</th>\n",
       "      <td>190.250000</td>\n",
       "      <td>0.025077</td>\n",
       "      <td>-0.816775</td>\n",
       "      <td>33.250000</td>\n",
       "      <td>-0.781945</td>\n",
       "      <td>-0.450666</td>\n",
       "      <td>-0.907209</td>\n",
       "      <td>-0.665488</td>\n",
       "      <td>-0.049303</td>\n",
       "      <td>-0.159770</td>\n",
       "      <td>...</td>\n",
       "      <td>-0.397162</td>\n",
       "      <td>-0.447296</td>\n",
       "      <td>-0.352404</td>\n",
       "      <td>-0.715576</td>\n",
       "      <td>-0.714070</td>\n",
       "      <td>-0.583825</td>\n",
       "      <td>-1.253690</td>\n",
       "      <td>-0.560750</td>\n",
       "      <td>-0.531772</td>\n",
       "      <td>-0.264024</td>\n",
       "    </tr>\n",
       "    <tr>\n",
       "      <th>50%</th>\n",
       "      <td>396.000000</td>\n",
       "      <td>0.224789</td>\n",
       "      <td>-0.275234</td>\n",
       "      <td>87.500000</td>\n",
       "      <td>-0.482316</td>\n",
       "      <td>0.054428</td>\n",
       "      <td>-0.276232</td>\n",
       "      <td>0.243919</td>\n",
       "      <td>0.423875</td>\n",
       "      <td>0.245879</td>\n",
       "      <td>...</td>\n",
       "      <td>0.493871</td>\n",
       "      <td>0.469694</td>\n",
       "      <td>0.332846</td>\n",
       "      <td>-0.158702</td>\n",
       "      <td>0.105286</td>\n",
       "      <td>0.029573</td>\n",
       "      <td>-0.773433</td>\n",
       "      <td>0.181738</td>\n",
       "      <td>-0.483228</td>\n",
       "      <td>-0.175266</td>\n",
       "    </tr>\n",
       "    <tr>\n",
       "      <th>75%</th>\n",
       "      <td>592.750000</td>\n",
       "      <td>0.653674</td>\n",
       "      <td>0.197532</td>\n",
       "      <td>194.000000</td>\n",
       "      <td>0.236109</td>\n",
       "      <td>0.772379</td>\n",
       "      <td>0.795897</td>\n",
       "      <td>0.747280</td>\n",
       "      <td>0.845329</td>\n",
       "      <td>0.786744</td>\n",
       "      <td>...</td>\n",
       "      <td>0.913982</td>\n",
       "      <td>0.791302</td>\n",
       "      <td>0.571817</td>\n",
       "      <td>0.565809</td>\n",
       "      <td>0.697233</td>\n",
       "      <td>0.544455</td>\n",
       "      <td>0.667339</td>\n",
       "      <td>0.181738</td>\n",
       "      <td>0.177386</td>\n",
       "      <td>0.333762</td>\n",
       "    </tr>\n",
       "    <tr>\n",
       "      <th>max</th>\n",
       "      <td>786.000000</td>\n",
       "      <td>2.495904</td>\n",
       "      <td>1.665525</td>\n",
       "      <td>1060.000000</td>\n",
       "      <td>2.991574</td>\n",
       "      <td>2.407296</td>\n",
       "      <td>1.994671</td>\n",
       "      <td>1.827319</td>\n",
       "      <td>1.883638</td>\n",
       "      <td>1.598042</td>\n",
       "      <td>...</td>\n",
       "      <td>1.495352</td>\n",
       "      <td>1.410033</td>\n",
       "      <td>10.431761</td>\n",
       "      <td>1.696305</td>\n",
       "      <td>2.416697</td>\n",
       "      <td>1.377432</td>\n",
       "      <td>2.094231</td>\n",
       "      <td>3.151688</td>\n",
       "      <td>4.525215</td>\n",
       "      <td>2.788585</td>\n",
       "    </tr>\n",
       "  </tbody>\n",
       "</table>\n",
       "<p>8 rows × 43 columns</p>\n",
       "</div>"
      ],
      "text/plain": [
       "              API      Surf_X      Surf_Y  deltaT_Comp_Prod  \\\n",
       "count  194.000000  194.000000  194.000000        194.000000   \n",
       "mean   394.551546    0.347616   -0.325073        112.810825   \n",
       "std    231.466959    0.658362    0.702101        190.674860   \n",
       "min      3.000000   -2.352500   -2.058999       -300.000000   \n",
       "25%    190.250000    0.025077   -0.816775         33.250000   \n",
       "50%    396.000000    0.224789   -0.275234         87.500000   \n",
       "75%    592.750000    0.653674    0.197532        194.000000   \n",
       "max    786.000000    2.495904    1.665525       1060.000000   \n",
       "\n",
       "       Lateral_Length (ft)  Depth_TVD_PPLS (ft)  Erosion_PPLS (ft)  \\\n",
       "count           194.000000           194.000000         194.000000   \n",
       "mean             -0.233974             0.136031          -0.102183   \n",
       "std               0.891883             0.869791           1.025980   \n",
       "min              -2.608966            -2.452614          -2.122505   \n",
       "25%              -0.781945            -0.450666          -0.907209   \n",
       "50%              -0.482316             0.054428          -0.276232   \n",
       "75%               0.236109             0.772379           0.795897   \n",
       "max               2.991574             2.407296           1.994671   \n",
       "\n",
       "       Pressure_PPLS (PSI)  TOC_PPLS (%)  Vcarb_PPLS         ...          \\\n",
       "count           193.000000    194.000000  194.000000         ...           \n",
       "mean              0.034777      0.261178    0.068843         ...           \n",
       "std               1.085227      0.822156    1.025141         ...           \n",
       "min              -3.560607     -2.169983   -3.404962         ...           \n",
       "25%              -0.665488     -0.049303   -0.159770         ...           \n",
       "50%               0.243919      0.423875    0.245879         ...           \n",
       "75%               0.747280      0.845329    0.786744         ...           \n",
       "max               1.827319      1.883638    1.598042         ...           \n",
       "\n",
       "       Avg_Rate_Slurry (bpm)  Max_Rate_Slurry (bpm)  Min_Rate_Slurry (bpm)  \\\n",
       "count             193.000000             193.000000             192.000000   \n",
       "mean                0.193706               0.128772               0.198197   \n",
       "std                 0.950198               0.998057               1.118451   \n",
       "min                -3.213068              -3.600518              -1.386031   \n",
       "25%                -0.397162              -0.447296              -0.352404   \n",
       "50%                 0.493871               0.469694               0.332846   \n",
       "75%                 0.913982               0.791302               0.571817   \n",
       "max                 1.495352               1.410033              10.431761   \n",
       "\n",
       "       ShutInPressure_Fil (KPa)  ShutInPressure_Initial (KPa)  ISIP (KPa)  \\\n",
       "count                194.000000                    194.000000  194.000000   \n",
       "mean                  -0.146654                     -0.050136   -0.094710   \n",
       "std                    0.836108                      0.991671    0.887422   \n",
       "min                   -2.255630                     -2.641175   -2.647597   \n",
       "25%                   -0.715576                     -0.714070   -0.583825   \n",
       "50%                   -0.158702                      0.105286    0.029573   \n",
       "75%                    0.565809                      0.697233    0.544455   \n",
       "max                    1.696305                      2.416697    1.377432   \n",
       "\n",
       "       Shot_Density (shots/ft)  Shot_Total  Proppant_per_ft (kg/ft)  \\\n",
       "count               194.000000  194.000000               193.000000   \n",
       "mean                 -0.239517    0.139261                -0.003333   \n",
       "std                   0.998651    0.808711                 1.025006   \n",
       "min                  -1.253690   -2.020122                -1.596762   \n",
       "25%                  -1.253690   -0.560750                -0.531772   \n",
       "50%                  -0.773433    0.181738                -0.483228   \n",
       "75%                   0.667339    0.181738                 0.177386   \n",
       "max                   2.094231    3.151688                 4.525215   \n",
       "\n",
       "       Stage_Spacing (ft)  \n",
       "count          194.000000  \n",
       "mean             0.028647  \n",
       "std              0.951854  \n",
       "min             -1.725533  \n",
       "25%             -0.264024  \n",
       "50%             -0.175266  \n",
       "75%              0.333762  \n",
       "max              2.788585  \n",
       "\n",
       "[8 rows x 43 columns]"
      ]
     },
     "execution_count": 266,
     "metadata": {},
     "output_type": "execute_result"
    }
   ],
   "source": [
    "df.describe()"
   ]
  },
  {
   "cell_type": "code",
   "execution_count": 267,
   "metadata": {},
   "outputs": [
    {
     "data": {
      "text/html": [
       "<div>\n",
       "<style>\n",
       "    .dataframe thead tr:only-child th {\n",
       "        text-align: right;\n",
       "    }\n",
       "\n",
       "    .dataframe thead th {\n",
       "        text-align: left;\n",
       "    }\n",
       "\n",
       "    .dataframe tbody tr th {\n",
       "        vertical-align: top;\n",
       "    }\n",
       "</style>\n",
       "<table border=\"1\" class=\"dataframe\">\n",
       "  <thead>\n",
       "    <tr style=\"text-align: right;\">\n",
       "      <th></th>\n",
       "      <th>API</th>\n",
       "      <th>Surf_X</th>\n",
       "      <th>Surf_Y</th>\n",
       "      <th>Date_Drilling</th>\n",
       "      <th>Date_Completion</th>\n",
       "      <th>Date_Production</th>\n",
       "      <th>Lateral_Length (ft)</th>\n",
       "      <th>Depth_TVD_PPLS (ft)</th>\n",
       "      <th>Erosion_PPLS (ft)</th>\n",
       "      <th>Pressure_PPLS (PSI)</th>\n",
       "      <th>...</th>\n",
       "      <th>Avg_Rate_Slurry (bpm)</th>\n",
       "      <th>Max_Rate_Slurry (bpm)</th>\n",
       "      <th>Min_Rate_Slurry (bpm)</th>\n",
       "      <th>ShutInPressure_Fil (KPa)</th>\n",
       "      <th>ShutInPressure_Initial (KPa)</th>\n",
       "      <th>ISIP (KPa)</th>\n",
       "      <th>Shot_Density (shots/ft)</th>\n",
       "      <th>Shot_Total</th>\n",
       "      <th>Proppant_per_ft (kg/ft)</th>\n",
       "      <th>Stage_Spacing (ft)</th>\n",
       "    </tr>\n",
       "  </thead>\n",
       "  <tbody>\n",
       "    <tr>\n",
       "      <th>0</th>\n",
       "      <td>633</td>\n",
       "      <td>0.201275</td>\n",
       "      <td>-0.577329</td>\n",
       "      <td>23/06/2013</td>\n",
       "      <td>26/10/2013</td>\n",
       "      <td>10/01/2014</td>\n",
       "      <td>-0.694826</td>\n",
       "      <td>0.641631</td>\n",
       "      <td>-0.356227</td>\n",
       "      <td>1.410748</td>\n",
       "      <td>...</td>\n",
       "      <td>0.908861</td>\n",
       "      <td>0.395627</td>\n",
       "      <td>0.667402</td>\n",
       "      <td>NaN</td>\n",
       "      <td>-0.740473</td>\n",
       "      <td>0.131374</td>\n",
       "      <td>0.187082</td>\n",
       "      <td>2.409201</td>\n",
       "      <td>0.160140</td>\n",
       "      <td>-0.710739</td>\n",
       "    </tr>\n",
       "    <tr>\n",
       "      <th>1</th>\n",
       "      <td>587</td>\n",
       "      <td>0.222609</td>\n",
       "      <td>0.670307</td>\n",
       "      <td>02/06/2012</td>\n",
       "      <td>03/07/2012</td>\n",
       "      <td>05/08/2013</td>\n",
       "      <td>-0.479516</td>\n",
       "      <td>-1.377997</td>\n",
       "      <td>-1.812483</td>\n",
       "      <td>1.605136</td>\n",
       "      <td>...</td>\n",
       "      <td>-0.922311</td>\n",
       "      <td>0.896792</td>\n",
       "      <td>0.285738</td>\n",
       "      <td>-0.919600</td>\n",
       "      <td>-1.103957</td>\n",
       "      <td>-1.282464</td>\n",
       "      <td>0.667339</td>\n",
       "      <td>-0.560750</td>\n",
       "      <td>-1.149666</td>\n",
       "      <td>2.085649</td>\n",
       "    </tr>\n",
       "    <tr>\n",
       "      <th>2</th>\n",
       "      <td>264</td>\n",
       "      <td>0.022105</td>\n",
       "      <td>0.404387</td>\n",
       "      <td>19/05/2013</td>\n",
       "      <td>24/07/2013</td>\n",
       "      <td>06/10/2013</td>\n",
       "      <td>0.310782</td>\n",
       "      <td>-0.775745</td>\n",
       "      <td>0.243462</td>\n",
       "      <td>-0.136014</td>\n",
       "      <td>...</td>\n",
       "      <td>0.148860</td>\n",
       "      <td>-0.094971</td>\n",
       "      <td>0.459046</td>\n",
       "      <td>0.614126</td>\n",
       "      <td>1.029028</td>\n",
       "      <td>1.103339</td>\n",
       "      <td>-0.773433</td>\n",
       "      <td>0.924226</td>\n",
       "      <td>-0.585869</td>\n",
       "      <td>-0.137427</td>\n",
       "    </tr>\n",
       "    <tr>\n",
       "      <th>3</th>\n",
       "      <td>680</td>\n",
       "      <td>0.384359</td>\n",
       "      <td>0.372793</td>\n",
       "      <td>18/08/2012</td>\n",
       "      <td>19/12/2012</td>\n",
       "      <td>12/06/2013</td>\n",
       "      <td>-0.624508</td>\n",
       "      <td>-1.082974</td>\n",
       "      <td>-1.922374</td>\n",
       "      <td>1.443630</td>\n",
       "      <td>...</td>\n",
       "      <td>0.970521</td>\n",
       "      <td>1.132279</td>\n",
       "      <td>0.332100</td>\n",
       "      <td>-0.782232</td>\n",
       "      <td>0.450368</td>\n",
       "      <td>-0.136076</td>\n",
       "      <td>0.667339</td>\n",
       "      <td>-0.560750</td>\n",
       "      <td>0.595622</td>\n",
       "      <td>1.887260</td>\n",
       "    </tr>\n",
       "    <tr>\n",
       "      <th>4</th>\n",
       "      <td>443</td>\n",
       "      <td>-0.138513</td>\n",
       "      <td>0.408803</td>\n",
       "      <td>11/09/2013</td>\n",
       "      <td>29/03/2014</td>\n",
       "      <td>11/05/2014</td>\n",
       "      <td>0.338785</td>\n",
       "      <td>-0.616106</td>\n",
       "      <td>0.556826</td>\n",
       "      <td>-1.011425</td>\n",
       "      <td>...</td>\n",
       "      <td>0.786056</td>\n",
       "      <td>0.985914</td>\n",
       "      <td>0.323490</td>\n",
       "      <td>NaN</td>\n",
       "      <td>0.743256</td>\n",
       "      <td>0.835687</td>\n",
       "      <td>-1.253690</td>\n",
       "      <td>0.181738</td>\n",
       "      <td>0.151633</td>\n",
       "      <td>-0.216512</td>\n",
       "    </tr>\n",
       "  </tbody>\n",
       "</table>\n",
       "<p>5 rows × 45 columns</p>\n",
       "</div>"
      ],
      "text/plain": [
       "   API    Surf_X    Surf_Y Date_Drilling Date_Completion Date_Production  \\\n",
       "0  633  0.201275 -0.577329    23/06/2013      26/10/2013      10/01/2014   \n",
       "1  587  0.222609  0.670307    02/06/2012      03/07/2012      05/08/2013   \n",
       "2  264  0.022105  0.404387    19/05/2013      24/07/2013      06/10/2013   \n",
       "3  680  0.384359  0.372793    18/08/2012      19/12/2012      12/06/2013   \n",
       "4  443 -0.138513  0.408803    11/09/2013      29/03/2014      11/05/2014   \n",
       "\n",
       "   Lateral_Length (ft)  Depth_TVD_PPLS (ft)  Erosion_PPLS (ft)  \\\n",
       "0            -0.694826             0.641631          -0.356227   \n",
       "1            -0.479516            -1.377997          -1.812483   \n",
       "2             0.310782            -0.775745           0.243462   \n",
       "3            -0.624508            -1.082974          -1.922374   \n",
       "4             0.338785            -0.616106           0.556826   \n",
       "\n",
       "   Pressure_PPLS (PSI)         ...          Avg_Rate_Slurry (bpm)  \\\n",
       "0             1.410748         ...                       0.908861   \n",
       "1             1.605136         ...                      -0.922311   \n",
       "2            -0.136014         ...                       0.148860   \n",
       "3             1.443630         ...                       0.970521   \n",
       "4            -1.011425         ...                       0.786056   \n",
       "\n",
       "   Max_Rate_Slurry (bpm)  Min_Rate_Slurry (bpm)  ShutInPressure_Fil (KPa)  \\\n",
       "0               0.395627               0.667402                       NaN   \n",
       "1               0.896792               0.285738                 -0.919600   \n",
       "2              -0.094971               0.459046                  0.614126   \n",
       "3               1.132279               0.332100                 -0.782232   \n",
       "4               0.985914               0.323490                       NaN   \n",
       "\n",
       "   ShutInPressure_Initial (KPa)  ISIP (KPa)  Shot_Density (shots/ft)  \\\n",
       "0                     -0.740473    0.131374                 0.187082   \n",
       "1                     -1.103957   -1.282464                 0.667339   \n",
       "2                      1.029028    1.103339                -0.773433   \n",
       "3                      0.450368   -0.136076                 0.667339   \n",
       "4                      0.743256    0.835687                -1.253690   \n",
       "\n",
       "   Shot_Total  Proppant_per_ft (kg/ft)  Stage_Spacing (ft)  \n",
       "0    2.409201                 0.160140           -0.710739  \n",
       "1   -0.560750                -1.149666            2.085649  \n",
       "2    0.924226                -0.585869           -0.137427  \n",
       "3   -0.560750                 0.595622            1.887260  \n",
       "4    0.181738                 0.151633           -0.216512  \n",
       "\n",
       "[5 rows x 45 columns]"
      ]
     },
     "execution_count": 267,
     "metadata": {},
     "output_type": "execute_result"
    }
   ],
   "source": [
    "# Data exploration tools\n",
    "\n",
    "import os\n",
    "import datetime as dt\n",
    "import numpy as np\n",
    "import pandas as pd\n",
    "import seaborn as sns\n",
    "from sklearn import linear_model\n",
    "import outlier_removal as out\n",
    "import matplotlib.pyplot as plt\n",
    "%matplotlib inline\n",
    "\n",
    "os.chdir(b\"C:\\Users\\EDDAHABI\\Documents\\GitHub\\ProjetISA\")\n",
    "\n",
    "df = pd.read_csv('Code +Data/TestSample.csv',sep=';',decimal=',')\n",
    "df.head()"
   ]
  },
  {
   "cell_type": "code",
   "execution_count": 268,
   "metadata": {},
   "outputs": [
    {
     "data": {
      "text/plain": [
       "<matplotlib.axes._subplots.AxesSubplot at 0x16909c7e1d0>"
      ]
     },
     "execution_count": 268,
     "metadata": {},
     "output_type": "execute_result"
    },
    {
     "data": {
      "image/png": "[encoded data removed]",
      "text/plain": [
       "<matplotlib.figure.Figure at 0x1690aebaf28>"
      ]
     },
     "metadata": {},
     "output_type": "display_data"
    }
   ],
   "source": [
    "# Heatmap for correlation between variables\n",
    "\n",
    "corr = df.select_dtypes(include = ['float64', 'int64']).iloc[:,1:].corr()\n",
    "fig = plt.figure(figsize=(15,10))\n",
    "sns.set(font_scale=1)  \n",
    "sns.heatmap(corr, vmax=1, square=True)"
   ]
  },
  {
   "cell_type": "code",
   "execution_count": 269,
   "metadata": {},
   "outputs": [
    {
     "name": "stdout",
     "output_type": "stream",
     "text": [
      "API                              0\n",
      "Surf_X                           0\n",
      "Surf_Y                           0\n",
      "Date_Drilling                   12\n",
      "Date_Completion                  9\n",
      "Date_Production                  2\n",
      "Lateral_Length (ft)              0\n",
      "Depth_TVD_PPLS (ft)              0\n",
      "Erosion_PPLS (ft)                0\n",
      "Pressure_PPLS (PSI)              5\n",
      "TOC_PPLS (%)                     0\n",
      "Vcarb_PPLS                       0\n",
      "Vsand_PPLS                       0\n",
      "Vclay_PPLS                       0\n",
      "PR_PPLS                          0\n",
      "YM_PPLS (PSI)                    0\n",
      "RHOB_PPLS (g/cc)                 0\n",
      "Res_PPLS (Ohmm)                  0\n",
      "GR_PPLS (API)                    0\n",
      "DT_PPLS (us/ft)                  0\n",
      "DTs_PPLS (us/ft)                 0\n",
      "Temperature (F)                  0\n",
      "Temp_Anomaly (F)                 0\n",
      "S3Tect_PPLS (PSI)                0\n",
      "S3_contrast_PPLS (PSI)           0\n",
      "Heat_Flow (W/m2)                 0\n",
      "Zone                             0\n",
      "Nbr_Stages                      41\n",
      "Frac_Gradient (PSI/ft)          44\n",
      "Proppant_Designed (kg)          41\n",
      "Proppant_in_Formation (kg)      42\n",
      "Avg_Breakdown_Pressure (KPa)    45\n",
      "Avg_Treating_Pressure (KPa)     42\n",
      "Max_Treating_pressure (KPa)     42\n",
      "Min_Treating_Pressure (KPa)     42\n",
      "Avg_Rate_Slurry (bpm)           42\n",
      "Max_Rate_Slurry (bpm)           42\n",
      "Min_Rate_Slurry (bpm)           43\n",
      "ShutInPressure_Fil (KPa)        59\n",
      "ShutInPressure_Initial (KPa)    47\n",
      "ISIP (KPa)                      44\n",
      "Shot_Density (shots/ft)         41\n",
      "Shot_Total                      41\n",
      "Proppant_per_ft (kg/ft)         42\n",
      "Stage_Spacing (ft)              41\n",
      "dtype: int64\n"
     ]
    }
   ],
   "source": [
    "# Variables with MV to estimate:\n",
    "\n",
    "mv=df.isnull().sum()\n",
    "print(mv)"
   ]
  },
  {
   "cell_type": "markdown",
   "metadata": {},
   "source": [
    "## Helpful functions"
   ]
  },
  {
   "cell_type": "markdown",
   "metadata": {},
   "source": [
    "### Outliers extrection and replacing methods"
   ]
  },
  {
   "cell_type": "code",
   "execution_count": 270,
   "metadata": {
    "collapsed": true
   },
   "outputs": [],
   "source": [
    "def vis_and_return_Outl(df,column,factor_iqr,a=-6,b=6,delta=0.5):\n",
    "    bins2=np.arange(a,b,delta)\n",
    "    df.boxplot(column,return_type='dict',whis=factor_iqr)\n",
    "    plt.title('outliers')\n",
    "    y=df[column]\n",
    "    x=range(1, len(y)+1)\n",
    "   # plt.figure()\n",
    "    #plt.title(column+ \" plottet against random\")\n",
    "    #plt.plot(x,y,'.')\n",
    "    plt.figure()\n",
    "    plt.hist(df.dropna()[column],bins=bins2,normed=True,color='b')\n",
    "    plt.xlabel(column)\n",
    "   #quartiles\n",
    "    Q1=np.percentile(df.dropna()[column],25)\n",
    "    Q3=np.percentile(df.dropna()[column],75)\n",
    "    iqr=Q3-Q1\n",
    "    #identify outliers\n",
    "    mean=np.mean(df[column])\n",
    "    index=np.logical_or(df[column]< Q1 - factor_iqr*iqr, df[column]> Q3 + factor_iqr*iqr)\n",
    "    outliers=df[index]\n",
    "    return outliers\n",
    "\n",
    "def outliers(df,column,factor_iqr):\n",
    "    #quartiles\n",
    "    Q1=np.percentile(df.dropna()[column],25)\n",
    "    Q3=np.percentile(df.dropna()[column],75)\n",
    "    iqr=Q3-Q1    \n",
    "    #identify outliers\n",
    "    mean=np.mean(df[column])\n",
    "    index=np.logical_or(df[column]< Q1 - factor_iqr*iqr, df[column]> Q3 + factor_iqr*iqr)\n",
    "    outliers=df[index]\n",
    "    return outliers\n",
    "    \n",
    "def replace_by_mean(df,column,outliers):\n",
    "    m=np.mean(df[column])\n",
    "    df.loc[outliers.index,column]=m\n",
    "    "
   ]
  },
  {
   "cell_type": "markdown",
   "metadata": {},
   "source": [
    "### Correlated columns"
   ]
  },
  {
   "cell_type": "markdown",
   "metadata": {},
   "source": [
    "To find, for a given column, another column with the highest possible correlation"
   ]
  },
  {
   "cell_type": "code",
   "execution_count": 271,
   "metadata": {
    "collapsed": true
   },
   "outputs": [],
   "source": [
    "def find_cor(name,df):\n",
    "    cor=df.corr()\n",
    "    index=df.columns.get_loc(name)\n",
    "    if(index>2):#Dates fall out, to be corrected when we have dates\n",
    "        index=index-3\n",
    "    cor=cor[name]\n",
    "    c=[np.abs(e) for e in cor]\n",
    "    c[index]=0 # highsest correltion is with it self\n",
    "    max_cor=np.max(c)\n",
    "    print(max_cor)\n",
    "    max_cor_index=c.index(max_cor)\n",
    "    if( max_cor_index>2):\n",
    "        max_cor_index=max_cor_index+3 # Dates fall out, calculate dataframe index\n",
    "    max_cor_name=df.columns[max_cor_index]\n",
    "    print(max_cor_name)\n",
    "    return max_cor_name"
   ]
  },
  {
   "cell_type": "markdown",
   "metadata": {},
   "source": [
    "### Linear 1D fit"
   ]
  },
  {
   "cell_type": "code",
   "execution_count": 272,
   "metadata": {
    "collapsed": true
   },
   "outputs": [],
   "source": [
    "def lin_regr(namex,namey):\n",
    "    model = linear_model.LinearRegression()\n",
    "    nansx= np.array(np.isnan(df[namex]))\n",
    "    nansy= np.array(np.isnan(df[namey]))\n",
    "    nan=np.logical_or(nansx,nansy)\n",
    "    df_nonans=df[np.logical_not(nan)]\n",
    "    x=df_nonans[namex].values\n",
    "    x=[e for e in x]\n",
    "    x=np.array(x)\n",
    "    y=df_nonans[namey].values\n",
    "    y=[e for e in y]\n",
    "    y=np.array(y)\n",
    "    model.fit(x[:, np.newaxis], y)\n",
    "    res= model.coef_\n",
    "    print(\"we estimate y= ax+b, with a equals:\"+ str(res))\n",
    "    return res"
   ]
  },
  {
   "cell_type": "markdown",
   "metadata": {},
   "source": [
    "## Data processing"
   ]
  },
  {
   "cell_type": "markdown",
   "metadata": {},
   "source": [
    "We select only those 194 lines, that do not have the group of 18 features missing"
   ]
  },
  {
   "cell_type": "code",
   "execution_count": 273,
   "metadata": {},
   "outputs": [
    {
     "data": {
      "text/plain": [
       "194"
      ]
     },
     "execution_count": 273,
     "metadata": {},
     "output_type": "execute_result"
    }
   ],
   "source": [
    "df=df[~ np.logical_and(np.isnan(df['Nbr_Stages']), np.isnan(df['Stage_Spacing (ft)'])  )] ## remove 97 lines with 18 missing\n",
    "len(df)"
   ]
  },
  {
   "cell_type": "markdown",
   "metadata": {},
   "source": [
    "As shown in the global analysis, these two variables belong to the set of variables that have 42 missing lines in common. We decided to cut these 42 lines off ( for these variables only) and do the cleaning on the remaining 194 lines. We treat them together as they have high correlation. We can estimate the missing vals of one by the ones of another. But we have to be careful not to use estimations of in one of the estiamtions of another. Also we want to remove the outliers before, so they do not influence the imputation and they can be estimated together with the missing values.\n"
   ]
  },
  {
   "cell_type": "code",
   "execution_count": 274,
   "metadata": {},
   "outputs": [
    {
     "name": "stdout",
     "output_type": "stream",
     "text": [
      "API                              0\n",
      "Surf_X                           0\n",
      "Surf_Y                           0\n",
      "Date_Drilling                    0\n",
      "Date_Completion                  1\n",
      "Date_Production                  0\n",
      "Lateral_Length (ft)              0\n",
      "Depth_TVD_PPLS (ft)              0\n",
      "Erosion_PPLS (ft)                0\n",
      "Pressure_PPLS (PSI)              1\n",
      "TOC_PPLS (%)                     0\n",
      "Vcarb_PPLS                       0\n",
      "Vsand_PPLS                       0\n",
      "Vclay_PPLS                       0\n",
      "PR_PPLS                          0\n",
      "YM_PPLS (PSI)                    0\n",
      "RHOB_PPLS (g/cc)                 0\n",
      "Res_PPLS (Ohmm)                  0\n",
      "GR_PPLS (API)                    0\n",
      "DT_PPLS (us/ft)                  0\n",
      "DTs_PPLS (us/ft)                 0\n",
      "Temperature (F)                  0\n",
      "Temp_Anomaly (F)                 0\n",
      "S3Tect_PPLS (PSI)                0\n",
      "S3_contrast_PPLS (PSI)           0\n",
      "Heat_Flow (W/m2)                 0\n",
      "Zone                             0\n",
      "Nbr_Stages                       0\n",
      "Frac_Gradient (PSI/ft)           3\n",
      "Proppant_Designed (kg)           0\n",
      "Proppant_in_Formation (kg)       1\n",
      "Avg_Breakdown_Pressure (KPa)     4\n",
      "Avg_Treating_Pressure (KPa)      1\n",
      "Max_Treating_pressure (KPa)      1\n",
      "Min_Treating_Pressure (KPa)      1\n",
      "Avg_Rate_Slurry (bpm)            1\n",
      "Max_Rate_Slurry (bpm)            1\n",
      "Min_Rate_Slurry (bpm)            2\n",
      "ShutInPressure_Fil (KPa)        18\n",
      "ShutInPressure_Initial (KPa)     6\n",
      "ISIP (KPa)                       3\n",
      "Shot_Density (shots/ft)          0\n",
      "Shot_Total                       0\n",
      "Proppant_per_ft (kg/ft)          1\n",
      "Stage_Spacing (ft)               0\n",
      "dtype: int64\n"
     ]
    }
   ],
   "source": [
    "mv=df.isnull().sum()\n",
    "print(mv)"
   ]
  },
  {
   "cell_type": "markdown",
   "metadata": {},
   "source": [
    "### Date_Drilling / Date_Completion / Date Production"
   ]
  },
  {
   "cell_type": "code",
   "execution_count": 275,
   "metadata": {},
   "outputs": [
    {
     "data": {
      "text/plain": [
       "Text(0.5,0,'deltaT_Comp_Prod')"
      ]
     },
     "execution_count": 275,
     "metadata": {},
     "output_type": "execute_result"
    },
    {
     "data": {
      "image/png": "[encoded data removed]",
      "text/plain": [
       "<matplotlib.figure.Figure at 0x1690b05ffd0>"
      ]
     },
     "metadata": {},
     "output_type": "display_data"
    }
   ],
   "source": [
    "# Convert date variables to date time\n",
    "# Missing dates\n",
    "\n",
    "pd.to_datetime(df[\"Date_Drilling\"])\n",
    "df[\"Date_Drilling\"]=pd.to_datetime(df[\"Date_Drilling\"])\n",
    "df[\"Date_Completion\"]=pd.to_datetime(df[\"Date_Completion\"])\n",
    "df[\"Date_Production\"]=pd.to_datetime(df[\"Date_Production\"])\n",
    "df[\"deltaT_Comp_Prod\"]=(df[\"Date_Production\"]-df[\"Date_Completion\"]).dt.days\n",
    "###\n",
    "cols = df.columns.tolist()\n",
    "df=df[cols[:6]+[cols[-1]]+cols[6:-1]]\n",
    "\n",
    "#Visualizing distributions of deltaT_Dril_Comp and GasCumdeltaT_Comp_Prod \n",
    "\n",
    "plt.figure(figsize=(12,8))\n",
    "plt.subplot(122)\n",
    "sns.distplot(df.deltaT_Comp_Prod.dropna(),kde=False)\n",
    "plt.xlabel(\"deltaT_Comp_Prod\")"
   ]
  },
  {
   "cell_type": "code",
   "execution_count": 276,
   "metadata": {},
   "outputs": [
    {
     "data": {
      "text/html": [
       "<div>\n",
       "<style>\n",
       "    .dataframe thead tr:only-child th {\n",
       "        text-align: right;\n",
       "    }\n",
       "\n",
       "    .dataframe thead th {\n",
       "        text-align: left;\n",
       "    }\n",
       "\n",
       "    .dataframe tbody tr th {\n",
       "        vertical-align: top;\n",
       "    }\n",
       "</style>\n",
       "<table border=\"1\" class=\"dataframe\">\n",
       "  <thead>\n",
       "    <tr style=\"text-align: right;\">\n",
       "      <th></th>\n",
       "      <th>Date_Drilling</th>\n",
       "      <th>Date_Completion</th>\n",
       "      <th>Date_Production</th>\n",
       "      <th>deltaT_Comp_Prod</th>\n",
       "    </tr>\n",
       "  </thead>\n",
       "  <tbody>\n",
       "    <tr>\n",
       "      <th>49</th>\n",
       "      <td>2013-04-07</td>\n",
       "      <td>NaT</td>\n",
       "      <td>2016-06-04</td>\n",
       "      <td>NaN</td>\n",
       "    </tr>\n",
       "    <tr>\n",
       "      <th>127</th>\n",
       "      <td>2013-12-13</td>\n",
       "      <td>2014-04-15</td>\n",
       "      <td>2016-11-05</td>\n",
       "      <td>935.0</td>\n",
       "    </tr>\n",
       "    <tr>\n",
       "      <th>204</th>\n",
       "      <td>2013-09-17</td>\n",
       "      <td>2013-03-12</td>\n",
       "      <td>2016-02-05</td>\n",
       "      <td>1060.0</td>\n",
       "    </tr>\n",
       "  </tbody>\n",
       "</table>\n",
       "</div>"
      ],
      "text/plain": [
       "    Date_Drilling Date_Completion Date_Production  deltaT_Comp_Prod\n",
       "49     2013-04-07             NaT      2016-06-04               NaN\n",
       "127    2013-12-13      2014-04-15      2016-11-05             935.0\n",
       "204    2013-09-17      2013-03-12      2016-02-05            1060.0"
      ]
     },
     "execution_count": 276,
     "metadata": {},
     "output_type": "execute_result"
    }
   ],
   "source": [
    "df.iloc[:,3:7][df.iloc[:,3:7][\"Date_Production\"].map(lambda x: x.year)==2016]"
   ]
  },
  {
   "cell_type": "code",
   "execution_count": 277,
   "metadata": {},
   "outputs": [
    {
     "data": {
      "text/plain": [
       "[(-300.0, 3.0),\n",
       " (-243.33333333333331, 6.0),\n",
       " (-186.66666666666669, 7.0),\n",
       " (-130.0, 11.0),\n",
       " (-73.333333333333343, 9.0),\n",
       " (-16.666666666666686, 16.0),\n",
       " (40.0, 53.0),\n",
       " (96.666666666666629, 33.0),\n",
       " (153.33333333333331, 9.0),\n",
       " (210.0, 13.0),\n",
       " (266.66666666666663, 9.0),\n",
       " (323.33333333333326, 12.0),\n",
       " (380.0, 4.0),\n",
       " (436.66666666666663, 1.0),\n",
       " (493.33333333333326, 2.0),\n",
       " (550.0, 0.0),\n",
       " (606.66666666666674, 2.0),\n",
       " (663.33333333333326, 1.0),\n",
       " (720.0, 0.0),\n",
       " (776.66666666666652, 0.0),\n",
       " (833.33333333333326, 0.0),\n",
       " (890.0, 1.0),\n",
       " (946.66666666666652, 0.0),\n",
       " (1003.3333333333331, 1.0)]"
      ]
     },
     "execution_count": 277,
     "metadata": {},
     "output_type": "execute_result"
    },
    {
     "data": {
      "image/png": "[encoded data removed]",
      "text/plain": [
       "<matplotlib.figure.Figure at 0x1690b17a9e8>"
      ]
     },
     "metadata": {},
     "output_type": "display_data"
    }
   ],
   "source": [
    "plt.figure()\n",
    "[(h.get_x(),h.get_height()) for h in sns.distplot(df.deltaT_Comp_Prod.dropna(),kde=False).patches]\n",
    "#On prend donc le mean des deux valeurs les plus fréquents:80.8 et 26.39 = 53.3 Jrs"
   ]
  },
  {
   "cell_type": "markdown",
   "metadata": {},
   "source": [
    "As we can see in the csv file there is only one line that has \"Date_Completion\" missing in the 194 lines group.\n"
   ]
  },
  {
   "cell_type": "code",
   "execution_count": 278,
   "metadata": {},
   "outputs": [],
   "source": [
    "#Filling the missing date:\n",
    "df.loc[49,'deltaT_Comp_Prod']=53.3\n",
    "df.loc[49,'Date_Completion']=df.loc[49,'Date_Production']-dt.timedelta(days=df.loc[49,'deltaT_Comp_Prod'])"
   ]
  },
  {
   "cell_type": "markdown",
   "metadata": {
    "collapsed": true
   },
   "source": [
    "### ShutInPressure_Fil (KPa) and ShutInPressure_Initial"
   ]
  },
  {
   "cell_type": "markdown",
   "metadata": {},
   "source": [
    "#### Outliers ....Fil\n",
    "we use our customzied function vis_and return Outl"
   ]
  },
  {
   "cell_type": "code",
   "execution_count": 279,
   "metadata": {},
   "outputs": [
    {
     "data": {
      "text/html": [
       "<div>\n",
       "<style>\n",
       "    .dataframe thead tr:only-child th {\n",
       "        text-align: right;\n",
       "    }\n",
       "\n",
       "    .dataframe thead th {\n",
       "        text-align: left;\n",
       "    }\n",
       "\n",
       "    .dataframe tbody tr th {\n",
       "        vertical-align: top;\n",
       "    }\n",
       "</style>\n",
       "<table border=\"1\" class=\"dataframe\">\n",
       "  <thead>\n",
       "    <tr style=\"text-align: right;\">\n",
       "      <th></th>\n",
       "      <th>API</th>\n",
       "      <th>Surf_X</th>\n",
       "      <th>Surf_Y</th>\n",
       "      <th>Date_Drilling</th>\n",
       "      <th>Date_Completion</th>\n",
       "      <th>Date_Production</th>\n",
       "      <th>deltaT_Comp_Prod</th>\n",
       "      <th>Lateral_Length (ft)</th>\n",
       "      <th>Depth_TVD_PPLS (ft)</th>\n",
       "      <th>Erosion_PPLS (ft)</th>\n",
       "      <th>...</th>\n",
       "      <th>Avg_Rate_Slurry (bpm)</th>\n",
       "      <th>Max_Rate_Slurry (bpm)</th>\n",
       "      <th>Min_Rate_Slurry (bpm)</th>\n",
       "      <th>ShutInPressure_Fil (KPa)</th>\n",
       "      <th>ShutInPressure_Initial (KPa)</th>\n",
       "      <th>ISIP (KPa)</th>\n",
       "      <th>Shot_Density (shots/ft)</th>\n",
       "      <th>Shot_Total</th>\n",
       "      <th>Proppant_per_ft (kg/ft)</th>\n",
       "      <th>Stage_Spacing (ft)</th>\n",
       "    </tr>\n",
       "  </thead>\n",
       "  <tbody>\n",
       "    <tr>\n",
       "      <th>87</th>\n",
       "      <td>619</td>\n",
       "      <td>0.209695</td>\n",
       "      <td>0.278129</td>\n",
       "      <td>2013-07-22</td>\n",
       "      <td>2013-10-19</td>\n",
       "      <td>2013-12-26</td>\n",
       "      <td>68.0</td>\n",
       "      <td>-0.314611</td>\n",
       "      <td>-0.777143</td>\n",
       "      <td>-0.962765</td>\n",
       "      <td>...</td>\n",
       "      <td>0.111707</td>\n",
       "      <td>-0.109381</td>\n",
       "      <td>0.345648</td>\n",
       "      <td>-4.311710</td>\n",
       "      <td>0.144585</td>\n",
       "      <td>0.258222</td>\n",
       "      <td>-1.25369</td>\n",
       "      <td>0.181738</td>\n",
       "      <td>-0.343135</td>\n",
       "      <td>-0.311813</td>\n",
       "    </tr>\n",
       "    <tr>\n",
       "      <th>160</th>\n",
       "      <td>441</td>\n",
       "      <td>0.223969</td>\n",
       "      <td>0.284205</td>\n",
       "      <td>2013-04-22</td>\n",
       "      <td>2013-01-11</td>\n",
       "      <td>2013-12-31</td>\n",
       "      <td>354.0</td>\n",
       "      <td>-0.329546</td>\n",
       "      <td>-0.800281</td>\n",
       "      <td>-1.079575</td>\n",
       "      <td>...</td>\n",
       "      <td>-0.515885</td>\n",
       "      <td>-0.147805</td>\n",
       "      <td>0.093979</td>\n",
       "      <td>-6.253073</td>\n",
       "      <td>0.104858</td>\n",
       "      <td>-0.085216</td>\n",
       "      <td>-1.25369</td>\n",
       "      <td>0.181738</td>\n",
       "      <td>-0.481630</td>\n",
       "      <td>-0.217453</td>\n",
       "    </tr>\n",
       "  </tbody>\n",
       "</table>\n",
       "<p>2 rows × 46 columns</p>\n",
       "</div>"
      ],
      "text/plain": [
       "     API    Surf_X    Surf_Y Date_Drilling Date_Completion Date_Production  \\\n",
       "87   619  0.209695  0.278129    2013-07-22      2013-10-19      2013-12-26   \n",
       "160  441  0.223969  0.284205    2013-04-22      2013-01-11      2013-12-31   \n",
       "\n",
       "     deltaT_Comp_Prod  Lateral_Length (ft)  Depth_TVD_PPLS (ft)  \\\n",
       "87               68.0            -0.314611            -0.777143   \n",
       "160             354.0            -0.329546            -0.800281   \n",
       "\n",
       "     Erosion_PPLS (ft)         ...          Avg_Rate_Slurry (bpm)  \\\n",
       "87           -0.962765         ...                       0.111707   \n",
       "160          -1.079575         ...                      -0.515885   \n",
       "\n",
       "     Max_Rate_Slurry (bpm)  Min_Rate_Slurry (bpm)  ShutInPressure_Fil (KPa)  \\\n",
       "87               -0.109381               0.345648                 -4.311710   \n",
       "160              -0.147805               0.093979                 -6.253073   \n",
       "\n",
       "     ShutInPressure_Initial (KPa)  ISIP (KPa)  Shot_Density (shots/ft)  \\\n",
       "87                       0.144585    0.258222                 -1.25369   \n",
       "160                      0.104858   -0.085216                 -1.25369   \n",
       "\n",
       "     Shot_Total  Proppant_per_ft (kg/ft)  Stage_Spacing (ft)  \n",
       "87     0.181738                -0.343135           -0.311813  \n",
       "160    0.181738                -0.481630           -0.217453  \n",
       "\n",
       "[2 rows x 46 columns]"
      ]
     },
     "execution_count": 279,
     "metadata": {},
     "output_type": "execute_result"
    },
    {
     "data": {
      "image/png": "[encoded data removed]",
      "text/plain": [
       "<matplotlib.figure.Figure at 0x16909800128>"
      ]
     },
     "metadata": {},
     "output_type": "display_data"
    },
    {
     "data": {
      "image/png": "[encoded data removed]",
      "text/plain": [
       "<matplotlib.figure.Figure at 0x16909911518>"
      ]
     },
     "metadata": {},
     "output_type": "display_data"
    }
   ],
   "source": [
    "outs_Fil=vis_and_return_Outl(df,\"ShutInPressure_Fil (KPa)\",1.5,a=-6,b=5)\n",
    "outs_Fil"
   ]
  },
  {
   "cell_type": "markdown",
   "metadata": {},
   "source": [
    "We delete the outliers (API = 87 and 160).(to na)"
   ]
  },
  {
   "cell_type": "code",
   "execution_count": 280,
   "metadata": {},
   "outputs": [
    {
     "data": {
      "text/plain": [
       "87    NaN\n",
       "160   NaN\n",
       "Name: ShutInPressure_Fil (KPa), dtype: float64"
      ]
     },
     "execution_count": 280,
     "metadata": {},
     "output_type": "execute_result"
    }
   ],
   "source": [
    "rows=outs_Fil.index\n",
    "df.loc[rows,'ShutInPressure_Fil (KPa)']=np.nan\n",
    "df.loc[rows,'ShutInPressure_Fil (KPa)']# to verify the removal"
   ]
  },
  {
   "cell_type": "markdown",
   "metadata": {},
   "source": [
    "#### Outliers  Shut.....Inital"
   ]
  },
  {
   "cell_type": "code",
   "execution_count": 281,
   "metadata": {},
   "outputs": [
    {
     "data": {
      "text/html": [
       "<div>\n",
       "<style>\n",
       "    .dataframe thead tr:only-child th {\n",
       "        text-align: right;\n",
       "    }\n",
       "\n",
       "    .dataframe thead th {\n",
       "        text-align: left;\n",
       "    }\n",
       "\n",
       "    .dataframe tbody tr th {\n",
       "        vertical-align: top;\n",
       "    }\n",
       "</style>\n",
       "<table border=\"1\" class=\"dataframe\">\n",
       "  <thead>\n",
       "    <tr style=\"text-align: right;\">\n",
       "      <th></th>\n",
       "      <th>API</th>\n",
       "      <th>Surf_X</th>\n",
       "      <th>Surf_Y</th>\n",
       "      <th>Date_Drilling</th>\n",
       "      <th>Date_Completion</th>\n",
       "      <th>Date_Production</th>\n",
       "      <th>deltaT_Comp_Prod</th>\n",
       "      <th>Lateral_Length (ft)</th>\n",
       "      <th>Depth_TVD_PPLS (ft)</th>\n",
       "      <th>Erosion_PPLS (ft)</th>\n",
       "      <th>...</th>\n",
       "      <th>Avg_Rate_Slurry (bpm)</th>\n",
       "      <th>Max_Rate_Slurry (bpm)</th>\n",
       "      <th>Min_Rate_Slurry (bpm)</th>\n",
       "      <th>ShutInPressure_Fil (KPa)</th>\n",
       "      <th>ShutInPressure_Initial (KPa)</th>\n",
       "      <th>ISIP (KPa)</th>\n",
       "      <th>Shot_Density (shots/ft)</th>\n",
       "      <th>Shot_Total</th>\n",
       "      <th>Proppant_per_ft (kg/ft)</th>\n",
       "      <th>Stage_Spacing (ft)</th>\n",
       "    </tr>\n",
       "  </thead>\n",
       "  <tbody>\n",
       "  </tbody>\n",
       "</table>\n",
       "<p>0 rows × 46 columns</p>\n",
       "</div>"
      ],
      "text/plain": [
       "Empty DataFrame\n",
       "Columns: [API, Surf_X, Surf_Y, Date_Drilling, Date_Completion, Date_Production, deltaT_Comp_Prod, Lateral_Length (ft), Depth_TVD_PPLS (ft), Erosion_PPLS (ft), Pressure_PPLS (PSI), TOC_PPLS (%), Vcarb_PPLS, Vsand_PPLS, Vclay_PPLS, PR_PPLS, YM_PPLS (PSI), RHOB_PPLS (g/cc), Res_PPLS (Ohmm), GR_PPLS (API), DT_PPLS (us/ft), DTs_PPLS (us/ft), Temperature (F), Temp_Anomaly (F), S3Tect_PPLS (PSI), S3_contrast_PPLS (PSI), Heat_Flow (W/m2), Zone, Nbr_Stages, Frac_Gradient (PSI/ft), Proppant_Designed (kg), Proppant_in_Formation (kg), Avg_Breakdown_Pressure (KPa), Avg_Treating_Pressure (KPa), Max_Treating_pressure (KPa), Min_Treating_Pressure (KPa), Avg_Rate_Slurry (bpm), Max_Rate_Slurry (bpm), Min_Rate_Slurry (bpm), ShutInPressure_Fil (KPa), ShutInPressure_Initial (KPa), ISIP (KPa), Shot_Density (shots/ft), Shot_Total, Proppant_per_ft (kg/ft), Stage_Spacing (ft)]\n",
       "Index: []\n",
       "\n",
       "[0 rows x 46 columns]"
      ]
     },
     "execution_count": 281,
     "metadata": {},
     "output_type": "execute_result"
    },
    {
     "data": {
      "image/png": "[encoded data removed]",
      "text/plain": [
       "<matplotlib.figure.Figure at 0x16909684128>"
      ]
     },
     "metadata": {},
     "output_type": "display_data"
    },
    {
     "data": {
      "image/png": "[encoded data removed]",
      "text/plain": [
       "<matplotlib.figure.Figure at 0x16907cb1240>"
      ]
     },
     "metadata": {},
     "output_type": "display_data"
    }
   ],
   "source": [
    "outs_Initial=vis_and_return_Outl(df,\"ShutInPressure_Initial (KPa)\",1.5)\n",
    "outs_Initial"
   ]
  },
  {
   "cell_type": "markdown",
   "metadata": {},
   "source": [
    "using the histogram, we decide not to change the small outlier."
   ]
  },
  {
   "cell_type": "markdown",
   "metadata": {},
   "source": [
    "#### Replace Missing Values"
   ]
  },
  {
   "cell_type": "code",
   "execution_count": 282,
   "metadata": {},
   "outputs": [
    {
     "name": "stdout",
     "output_type": "stream",
     "text": [
      "missing Fil:     20\n",
      "missing Initial:  6\n",
      "missing both:     2\n",
      "correlation     0.799396947332\n"
     ]
    }
   ],
   "source": [
    "missing_Fil= np.isnan(df['ShutInPressure_Fil (KPa)'])\n",
    "print('missing Fil:     '+  str(sum(missing_Fil)))\n",
    "missing_Init= np.isnan(df['ShutInPressure_Initial (KPa)'])\n",
    "print('missing Initial:  '+ str(sum(missing_Init)))\n",
    "missing_both=np.logical_and(missing_Fil,missing_Init)\n",
    "print('missing both:     '+ str(sum(missing_both)))\n",
    "no_missing=np.logical_not(missing_both)\n",
    "no_missing_Fil=np.logical_not(missing_Fil)\n",
    "no_missing_Init=np.logical_not(missing_Init)\n",
    "only_Fil_missing=np.logical_and(missing_Fil,no_missing_Init)\n",
    "only_Init_missing=np.logical_and(missing_Init,no_missing_Fil)\n",
    "cor=df[['ShutInPressure_Initial (KPa)','ShutInPressure_Fil (KPa)']].corr()\n",
    "print('correlation     ' + str(cor.iloc[0,1]))"
   ]
  },
  {
   "cell_type": "markdown",
   "metadata": {},
   "source": [
    "#### Estimate missing vals of ShutIn...Fil\n",
    "As there is a high correlation between the two variables, we can  use linear regression to estimate the missing values that they do not have in common. The line, that both of them are missing has to be estimated by the means."
   ]
  },
  {
   "cell_type": "markdown",
   "metadata": {},
   "source": [
    "So we can try a linear fit with our customzed function:"
   ]
  },
  {
   "cell_type": "code",
   "execution_count": 283,
   "metadata": {},
   "outputs": [
    {
     "name": "stdout",
     "output_type": "stream",
     "text": [
      "0.83997118237\n",
      "ISIP (KPa)\n",
      "we estimate y= ax+b, with a equals:[ 0.76416722]\n",
      "18\n"
     ]
    }
   ],
   "source": [
    "a=lin_regr(find_cor('ShutInPressure_Fil (KPa)',df),'ShutInPressure_Fil (KPa)')\n",
    "m1=np.mean(df['ShutInPressure_Initial (KPa)'])\n",
    "m2=np.mean(df['ShutInPressure_Fil (KPa)'])\n",
    "rows_Fil=df[only_Fil_missing].index\n",
    "rows_both=df[missing_both].index\n",
    "df.loc[rows_Fil,'ShutInPressure_Fil (KPa)']=(df['ShutInPressure_Initial (KPa)'][only_Fil_missing]- m1)*a+ m2\n",
    "df.loc[rows_both,'ShutInPressure_Fil (KPa)']=m2\n",
    "print (len(rows_Fil))"
   ]
  },
  {
   "cell_type": "markdown",
   "metadata": {},
   "source": [
    "we could not estimate one value as its missing in ShutInPressure_Initial as well. So we have to replace it with the mean."
   ]
  },
  {
   "cell_type": "markdown",
   "metadata": {},
   "source": [
    "now we have no more missing values. make scatter plot to check how the estimation was."
   ]
  },
  {
   "cell_type": "code",
   "execution_count": 284,
   "metadata": {},
   "outputs": [
    {
     "data": {
      "text/plain": [
       "<matplotlib.legend.Legend at 0x16908029320>"
      ]
     },
     "execution_count": 284,
     "metadata": {},
     "output_type": "execute_result"
    },
    {
     "data": {
      "image/png": "[encoded data removed]",
      "text/plain": [
       "<matplotlib.figure.Figure at 0x169080ff710>"
      ]
     },
     "metadata": {},
     "output_type": "display_data"
    }
   ],
   "source": [
    "plt.figure(figsize=(8,8))\n",
    "plt.scatter(df['ShutInPressure_Initial (KPa)'][no_missing_Fil],df['ShutInPressure_Fil (KPa)'][no_missing_Fil],color='blue',s=5,label='originals')\n",
    "plt.scatter(df['ShutInPressure_Initial (KPa)'][~no_missing_Fil],df['ShutInPressure_Fil (KPa)'][~no_missing_Fil],color='red',s=12,label='replaced')\n",
    "plt.xlabel('ShutIn..Inital')\n",
    "plt.ylabel('Shut In..Fil')\n",
    "plt.legend()"
   ]
  },
  {
   "cell_type": "markdown",
   "metadata": {},
   "source": [
    "#### Estimate missing vals of ShutIn...Initial\n"
   ]
  },
  {
   "cell_type": "code",
   "execution_count": 285,
   "metadata": {},
   "outputs": [
    {
     "name": "stdout",
     "output_type": "stream",
     "text": [
      "0.814786905732\n",
      "ShutInPressure_Fil (KPa)\n",
      "we estimate y= ax+b, with a equals:[ 0.97100744]\n"
     ]
    }
   ],
   "source": [
    "a=lin_regr(find_cor('ShutInPressure_Initial (KPa)',df),'ShutInPressure_Initial (KPa)')\n",
    "m1=np.mean(df['ShutInPressure_Fil (KPa)'])\n",
    "m2=np.mean(df['ShutInPressure_Initial (KPa)'])\n",
    "rows_In=df[only_Init_missing].index\n",
    "df.loc[rows_In,'ShutInPressure_Initial (KPa)']=(df['ShutInPressure_Fil (KPa)'][only_Init_missing]- m1)*a+ m2\n",
    "df.loc[rows_both,'ShutInPressure_Initial (KPa)']=m2# estimate with mean"
   ]
  },
  {
   "cell_type": "code",
   "execution_count": 286,
   "metadata": {},
   "outputs": [
    {
     "data": {
      "text/plain": [
       "<matplotlib.legend.Legend at 0x16909e7f588>"
      ]
     },
     "execution_count": 286,
     "metadata": {},
     "output_type": "execute_result"
    },
    {
     "data": {
      "image/png": "[encoded data removed]",
      "text/plain": [
       "<matplotlib.figure.Figure at 0x169095d9588>"
      ]
     },
     "metadata": {},
     "output_type": "display_data"
    }
   ],
   "source": [
    "plt.figure(figsize=(8,8))\n",
    "plt.scatter(df['ShutInPressure_Fil (KPa)'][~only_Init_missing],df['ShutInPressure_Initial (KPa)'][~only_Init_missing],color='blue',s=5,label='originals')\n",
    "plt.scatter(df['ShutInPressure_Fil (KPa)'][only_Init_missing],df['ShutInPressure_Initial (KPa)'][only_Init_missing],color='red',s=30,label='replaced')\n",
    "plt.ylabel('ShutInP...Initial')\n",
    "plt.xlabel('ShutInP...Fil')\n",
    "plt.legend()"
   ]
  },
  {
   "cell_type": "markdown",
   "metadata": {},
   "source": [
    "### ISIP (KPa)\n",
    "*Normalized Instantaneous Shut-In Pressure (PSI), proxy to the stress in the reservoir*\n",
    "#### Outliers"
   ]
  },
  {
   "cell_type": "code",
   "execution_count": 287,
   "metadata": {},
   "outputs": [
    {
     "data": {
      "text/html": [
       "<div>\n",
       "<style>\n",
       "    .dataframe thead tr:only-child th {\n",
       "        text-align: right;\n",
       "    }\n",
       "\n",
       "    .dataframe thead th {\n",
       "        text-align: left;\n",
       "    }\n",
       "\n",
       "    .dataframe tbody tr th {\n",
       "        vertical-align: top;\n",
       "    }\n",
       "</style>\n",
       "<table border=\"1\" class=\"dataframe\">\n",
       "  <thead>\n",
       "    <tr style=\"text-align: right;\">\n",
       "      <th></th>\n",
       "      <th>API</th>\n",
       "      <th>Surf_X</th>\n",
       "      <th>Surf_Y</th>\n",
       "      <th>Date_Drilling</th>\n",
       "      <th>Date_Completion</th>\n",
       "      <th>Date_Production</th>\n",
       "      <th>deltaT_Comp_Prod</th>\n",
       "      <th>Lateral_Length (ft)</th>\n",
       "      <th>Depth_TVD_PPLS (ft)</th>\n",
       "      <th>Erosion_PPLS (ft)</th>\n",
       "      <th>...</th>\n",
       "      <th>Avg_Rate_Slurry (bpm)</th>\n",
       "      <th>Max_Rate_Slurry (bpm)</th>\n",
       "      <th>Min_Rate_Slurry (bpm)</th>\n",
       "      <th>ShutInPressure_Fil (KPa)</th>\n",
       "      <th>ShutInPressure_Initial (KPa)</th>\n",
       "      <th>ISIP (KPa)</th>\n",
       "      <th>Shot_Density (shots/ft)</th>\n",
       "      <th>Shot_Total</th>\n",
       "      <th>Proppant_per_ft (kg/ft)</th>\n",
       "      <th>Stage_Spacing (ft)</th>\n",
       "    </tr>\n",
       "  </thead>\n",
       "  <tbody>\n",
       "    <tr>\n",
       "      <th>44</th>\n",
       "      <td>58</td>\n",
       "      <td>0.442556</td>\n",
       "      <td>-1.555392</td>\n",
       "      <td>2012-08-27</td>\n",
       "      <td>2012-10-29</td>\n",
       "      <td>2014-03-31</td>\n",
       "      <td>518.0</td>\n",
       "      <td>-0.492584</td>\n",
       "      <td>1.896449</td>\n",
       "      <td>-0.555262</td>\n",
       "      <td>...</td>\n",
       "      <td>1.058123</td>\n",
       "      <td>1.026886</td>\n",
       "      <td>0.572946</td>\n",
       "      <td>-2.25563</td>\n",
       "      <td>-2.460132</td>\n",
       "      <td>-3.050678</td>\n",
       "      <td>-0.293176</td>\n",
       "      <td>-1.303237</td>\n",
       "      <td>-0.550391</td>\n",
       "      <td>1.652723</td>\n",
       "    </tr>\n",
       "  </tbody>\n",
       "</table>\n",
       "<p>1 rows × 46 columns</p>\n",
       "</div>"
      ],
      "text/plain": [
       "    API    Surf_X    Surf_Y Date_Drilling Date_Completion Date_Production  \\\n",
       "44   58  0.442556 -1.555392    2012-08-27      2012-10-29      2014-03-31   \n",
       "\n",
       "    deltaT_Comp_Prod  Lateral_Length (ft)  Depth_TVD_PPLS (ft)  \\\n",
       "44             518.0            -0.492584             1.896449   \n",
       "\n",
       "    Erosion_PPLS (ft)         ...          Avg_Rate_Slurry (bpm)  \\\n",
       "44          -0.555262         ...                       1.058123   \n",
       "\n",
       "    Max_Rate_Slurry (bpm)  Min_Rate_Slurry (bpm)  ShutInPressure_Fil (KPa)  \\\n",
       "44               1.026886               0.572946                  -2.25563   \n",
       "\n",
       "    ShutInPressure_Initial (KPa)  ISIP (KPa)  Shot_Density (shots/ft)  \\\n",
       "44                     -2.460132   -3.050678                -0.293176   \n",
       "\n",
       "    Shot_Total  Proppant_per_ft (kg/ft)  Stage_Spacing (ft)  \n",
       "44   -1.303237                -0.550391            1.652723  \n",
       "\n",
       "[1 rows x 46 columns]"
      ]
     },
     "execution_count": 287,
     "metadata": {},
     "output_type": "execute_result"
    },
    {
     "data": {
      "image/png": "[encoded data removed]",
      "text/plain": [
       "<matplotlib.figure.Figure at 0x169098127b8>"
      ]
     },
     "metadata": {},
     "output_type": "display_data"
    },
    {
     "data": {
      "image/png": "[encoded data removed]",
      "text/plain": [
       "<matplotlib.figure.Figure at 0x1690b1270f0>"
      ]
     },
     "metadata": {},
     "output_type": "display_data"
    }
   ],
   "source": [
    "outs_Isip=vis_and_return_Outl(df,\"ISIP (KPa)\",2)\n",
    "rows=df[\"ISIP (KPa)\"][df[\"ISIP (KPa)\"]>2].index\n",
    "df.loc[rows,\"ISIP (KPa)\"]=np.nan # verified\n",
    "outs_Isip"
   ]
  },
  {
   "cell_type": "markdown",
   "metadata": {},
   "source": [
    "We replace the outlier by the mean."
   ]
  },
  {
   "cell_type": "code",
   "execution_count": 288,
   "metadata": {
    "collapsed": true
   },
   "outputs": [],
   "source": [
    "df.loc[44,'ISIP (KPa)']=np.mean(df['ISIP (KPa)']) "
   ]
  },
  {
   "cell_type": "markdown",
   "metadata": {},
   "source": [
    "#### Replace missing values"
   ]
  },
  {
   "cell_type": "code",
   "execution_count": 289,
   "metadata": {},
   "outputs": [
    {
     "name": "stdout",
     "output_type": "stream",
     "text": [
      "missing Isip:     3\n"
     ]
    },
    {
     "data": {
      "text/html": [
       "<div>\n",
       "<style>\n",
       "    .dataframe thead tr:only-child th {\n",
       "        text-align: right;\n",
       "    }\n",
       "\n",
       "    .dataframe thead th {\n",
       "        text-align: left;\n",
       "    }\n",
       "\n",
       "    .dataframe tbody tr th {\n",
       "        vertical-align: top;\n",
       "    }\n",
       "</style>\n",
       "<table border=\"1\" class=\"dataframe\">\n",
       "  <thead>\n",
       "    <tr style=\"text-align: right;\">\n",
       "      <th></th>\n",
       "      <th>API</th>\n",
       "      <th>Surf_X</th>\n",
       "      <th>Surf_Y</th>\n",
       "      <th>Date_Drilling</th>\n",
       "      <th>Date_Completion</th>\n",
       "      <th>Date_Production</th>\n",
       "      <th>deltaT_Comp_Prod</th>\n",
       "      <th>Lateral_Length (ft)</th>\n",
       "      <th>Depth_TVD_PPLS (ft)</th>\n",
       "      <th>Erosion_PPLS (ft)</th>\n",
       "      <th>...</th>\n",
       "      <th>Avg_Rate_Slurry (bpm)</th>\n",
       "      <th>Max_Rate_Slurry (bpm)</th>\n",
       "      <th>Min_Rate_Slurry (bpm)</th>\n",
       "      <th>ShutInPressure_Fil (KPa)</th>\n",
       "      <th>ShutInPressure_Initial (KPa)</th>\n",
       "      <th>ISIP (KPa)</th>\n",
       "      <th>Shot_Density (shots/ft)</th>\n",
       "      <th>Shot_Total</th>\n",
       "      <th>Proppant_per_ft (kg/ft)</th>\n",
       "      <th>Stage_Spacing (ft)</th>\n",
       "    </tr>\n",
       "  </thead>\n",
       "  <tbody>\n",
       "    <tr>\n",
       "      <th>128</th>\n",
       "      <td>463</td>\n",
       "      <td>1.380605</td>\n",
       "      <td>-0.593429</td>\n",
       "      <td>2013-04-15</td>\n",
       "      <td>2013-02-05</td>\n",
       "      <td>2014-12-08</td>\n",
       "      <td>671.0</td>\n",
       "      <td>-0.379328</td>\n",
       "      <td>-0.391244</td>\n",
       "      <td>1.864418</td>\n",
       "      <td>...</td>\n",
       "      <td>0.506929</td>\n",
       "      <td>1.012937</td>\n",
       "      <td>0.313010</td>\n",
       "      <td>-0.383616</td>\n",
       "      <td>-0.305117</td>\n",
       "      <td>NaN</td>\n",
       "      <td>-0.773433</td>\n",
       "      <td>0.924226</td>\n",
       "      <td>-0.938268</td>\n",
       "      <td>0.279014</td>\n",
       "    </tr>\n",
       "    <tr>\n",
       "      <th>221</th>\n",
       "      <td>161</td>\n",
       "      <td>0.000346</td>\n",
       "      <td>-0.464729</td>\n",
       "      <td>2014-04-04</td>\n",
       "      <td>2014-08-24</td>\n",
       "      <td>2014-10-23</td>\n",
       "      <td>60.0</td>\n",
       "      <td>-0.230603</td>\n",
       "      <td>0.661447</td>\n",
       "      <td>0.531779</td>\n",
       "      <td>...</td>\n",
       "      <td>NaN</td>\n",
       "      <td>NaN</td>\n",
       "      <td>NaN</td>\n",
       "      <td>-0.178696</td>\n",
       "      <td>-0.036956</td>\n",
       "      <td>NaN</td>\n",
       "      <td>0.667339</td>\n",
       "      <td>-0.560750</td>\n",
       "      <td>NaN</td>\n",
       "      <td>-1.201949</td>\n",
       "    </tr>\n",
       "    <tr>\n",
       "      <th>228</th>\n",
       "      <td>276</td>\n",
       "      <td>2.413114</td>\n",
       "      <td>-2.012732</td>\n",
       "      <td>2013-06-28</td>\n",
       "      <td>2013-12-14</td>\n",
       "      <td>2015-08-19</td>\n",
       "      <td>613.0</td>\n",
       "      <td>-0.478271</td>\n",
       "      <td>1.183195</td>\n",
       "      <td>0.305952</td>\n",
       "      <td>...</td>\n",
       "      <td>0.886941</td>\n",
       "      <td>0.423230</td>\n",
       "      <td>0.667678</td>\n",
       "      <td>-0.640571</td>\n",
       "      <td>-0.641372</td>\n",
       "      <td>NaN</td>\n",
       "      <td>-0.754962</td>\n",
       "      <td>0.952783</td>\n",
       "      <td>-0.655605</td>\n",
       "      <td>-0.314357</td>\n",
       "    </tr>\n",
       "  </tbody>\n",
       "</table>\n",
       "<p>3 rows × 46 columns</p>\n",
       "</div>"
      ],
      "text/plain": [
       "     API    Surf_X    Surf_Y Date_Drilling Date_Completion Date_Production  \\\n",
       "128  463  1.380605 -0.593429    2013-04-15      2013-02-05      2014-12-08   \n",
       "221  161  0.000346 -0.464729    2014-04-04      2014-08-24      2014-10-23   \n",
       "228  276  2.413114 -2.012732    2013-06-28      2013-12-14      2015-08-19   \n",
       "\n",
       "     deltaT_Comp_Prod  Lateral_Length (ft)  Depth_TVD_PPLS (ft)  \\\n",
       "128             671.0            -0.379328            -0.391244   \n",
       "221              60.0            -0.230603             0.661447   \n",
       "228             613.0            -0.478271             1.183195   \n",
       "\n",
       "     Erosion_PPLS (ft)         ...          Avg_Rate_Slurry (bpm)  \\\n",
       "128           1.864418         ...                       0.506929   \n",
       "221           0.531779         ...                            NaN   \n",
       "228           0.305952         ...                       0.886941   \n",
       "\n",
       "     Max_Rate_Slurry (bpm)  Min_Rate_Slurry (bpm)  ShutInPressure_Fil (KPa)  \\\n",
       "128               1.012937               0.313010                 -0.383616   \n",
       "221                    NaN                    NaN                 -0.178696   \n",
       "228               0.423230               0.667678                 -0.640571   \n",
       "\n",
       "     ShutInPressure_Initial (KPa)  ISIP (KPa)  Shot_Density (shots/ft)  \\\n",
       "128                     -0.305117         NaN                -0.773433   \n",
       "221                     -0.036956         NaN                 0.667339   \n",
       "228                     -0.641372         NaN                -0.754962   \n",
       "\n",
       "     Shot_Total  Proppant_per_ft (kg/ft)  Stage_Spacing (ft)  \n",
       "128    0.924226                -0.938268            0.279014  \n",
       "221   -0.560750                      NaN           -1.201949  \n",
       "228    0.952783                -0.655605           -0.314357  \n",
       "\n",
       "[3 rows x 46 columns]"
      ]
     },
     "execution_count": 289,
     "metadata": {},
     "output_type": "execute_result"
    }
   ],
   "source": [
    "missing_Isip= np.isnan(df['ISIP (KPa)'])\n",
    "print('missing Isip:     '+  str(sum(missing_Isip)))\n",
    "df[missing_Isip]"
   ]
  },
  {
   "cell_type": "code",
   "execution_count": 290,
   "metadata": {},
   "outputs": [
    {
     "name": "stdout",
     "output_type": "stream",
     "text": [
      "0.903189633033\n",
      "Frac_Gradient (PSI/ft)\n"
     ]
    },
    {
     "data": {
      "text/plain": [
       "'Frac_Gradient (PSI/ft)'"
      ]
     },
     "execution_count": 290,
     "metadata": {},
     "output_type": "execute_result"
    }
   ],
   "source": [
    "find_cor('ISIP (KPa)',df)"
   ]
  },
  {
   "cell_type": "markdown",
   "metadata": {},
   "source": [
    "As ShutInPressure_Fil (KPa) has missing values or outliers in the same lines, we check the correlation with ShutIn..Inital is the highest ( not shown here. Luckily ShutInP....Fil did not have missing vals in the same lines. So we can use it to estimate the 3 missing vals:"
   ]
  },
  {
   "cell_type": "code",
   "execution_count": 291,
   "metadata": {},
   "outputs": [
    {
     "name": "stdout",
     "output_type": "stream",
     "text": [
      "we estimate y= ax+b, with a equals:[ 0.66350159]\n"
     ]
    },
    {
     "data": {
      "text/plain": [
       "<matplotlib.legend.Legend at 0x16908077e48>"
      ]
     },
     "execution_count": 291,
     "metadata": {},
     "output_type": "execute_result"
    },
    {
     "data": {
      "image/png": "[encoded data removed]",
      "text/plain": [
       "<matplotlib.figure.Figure at 0x16909c1d470>"
      ]
     },
     "metadata": {},
     "output_type": "display_data"
    }
   ],
   "source": [
    "a3=lin_regr('ShutInPressure_Initial (KPa)','ISIP (KPa)')\n",
    "m1=np.mean(df['ShutInPressure_Initial (KPa)'])\n",
    "m2=np.mean(df['ISIP (KPa)'])\n",
    "rows=df['ISIP (KPa)'][missing_Isip].index\n",
    "df.loc[rows,'ISIP (KPa)']=(df['ShutInPressure_Initial (KPa)'][missing_Isip]- m1)*a3+ m2\n",
    "\n",
    "plt.figure(figsize=(6,6))\n",
    "plt.scatter(df['ShutInPressure_Initial (KPa)'][~missing_Isip],df['ISIP (KPa)'][~missing_Isip],color='blue',s=5,label='originals')\n",
    "plt.scatter(df['ShutInPressure_Initial (KPa)'][missing_Isip],df['ISIP (KPa)'][missing_Isip],color='red',s=50,label='replaced')\n",
    "plt.xlabel('ShutInP...Initial')\n",
    "plt.ylabel('Isip')\n",
    "plt.legend()"
   ]
  },
  {
   "cell_type": "markdown",
   "metadata": {},
   "source": [
    "### Proppant_per_ft\n",
    "*Normalized Weight of proppant pumped during completion normalzied per feet (kg/ft)*\n",
    "\n",
    "\n"
   ]
  },
  {
   "cell_type": "markdown",
   "metadata": {},
   "source": [
    "#### Outliers\n"
   ]
  },
  {
   "cell_type": "code",
   "execution_count": 292,
   "metadata": {},
   "outputs": [
    {
     "data": {
      "text/html": [
       "<div>\n",
       "<style>\n",
       "    .dataframe thead tr:only-child th {\n",
       "        text-align: right;\n",
       "    }\n",
       "\n",
       "    .dataframe thead th {\n",
       "        text-align: left;\n",
       "    }\n",
       "\n",
       "    .dataframe tbody tr th {\n",
       "        vertical-align: top;\n",
       "    }\n",
       "</style>\n",
       "<table border=\"1\" class=\"dataframe\">\n",
       "  <thead>\n",
       "    <tr style=\"text-align: right;\">\n",
       "      <th></th>\n",
       "      <th>API</th>\n",
       "      <th>Surf_X</th>\n",
       "      <th>Surf_Y</th>\n",
       "      <th>Date_Drilling</th>\n",
       "      <th>Date_Completion</th>\n",
       "      <th>Date_Production</th>\n",
       "      <th>deltaT_Comp_Prod</th>\n",
       "      <th>Lateral_Length (ft)</th>\n",
       "      <th>Depth_TVD_PPLS (ft)</th>\n",
       "      <th>Erosion_PPLS (ft)</th>\n",
       "      <th>...</th>\n",
       "      <th>Avg_Rate_Slurry (bpm)</th>\n",
       "      <th>Max_Rate_Slurry (bpm)</th>\n",
       "      <th>Min_Rate_Slurry (bpm)</th>\n",
       "      <th>ShutInPressure_Fil (KPa)</th>\n",
       "      <th>ShutInPressure_Initial (KPa)</th>\n",
       "      <th>ISIP (KPa)</th>\n",
       "      <th>Shot_Density (shots/ft)</th>\n",
       "      <th>Shot_Total</th>\n",
       "      <th>Proppant_per_ft (kg/ft)</th>\n",
       "      <th>Stage_Spacing (ft)</th>\n",
       "    </tr>\n",
       "  </thead>\n",
       "  <tbody>\n",
       "    <tr>\n",
       "      <th>11</th>\n",
       "      <td>7</td>\n",
       "      <td>-0.101826</td>\n",
       "      <td>-0.543508</td>\n",
       "      <td>2014-06-17</td>\n",
       "      <td>2014-06-10 00:00:00</td>\n",
       "      <td>2015-01-26</td>\n",
       "      <td>230.0</td>\n",
       "      <td>1.697227</td>\n",
       "      <td>0.895719</td>\n",
       "      <td>0.777759</td>\n",
       "      <td>...</td>\n",
       "      <td>-0.488681</td>\n",
       "      <td>-0.649272</td>\n",
       "      <td>-0.892759</td>\n",
       "      <td>-0.150821</td>\n",
       "      <td>0.649564</td>\n",
       "      <td>0.821407</td>\n",
       "      <td>0.667339</td>\n",
       "      <td>0.181738</td>\n",
       "      <td>2.000416</td>\n",
       "      <td>-1.237434</td>\n",
       "    </tr>\n",
       "    <tr>\n",
       "      <th>17</th>\n",
       "      <td>125</td>\n",
       "      <td>-0.210227</td>\n",
       "      <td>-0.269186</td>\n",
       "      <td>2014-12-28</td>\n",
       "      <td>2015-06-05 00:00:00</td>\n",
       "      <td>2015-03-09</td>\n",
       "      <td>-88.0</td>\n",
       "      <td>1.566548</td>\n",
       "      <td>0.559451</td>\n",
       "      <td>1.424884</td>\n",
       "      <td>...</td>\n",
       "      <td>-0.706327</td>\n",
       "      <td>-0.739125</td>\n",
       "      <td>-0.855517</td>\n",
       "      <td>1.108935</td>\n",
       "      <td>1.062269</td>\n",
       "      <td>0.415960</td>\n",
       "      <td>0.667339</td>\n",
       "      <td>-2.020122</td>\n",
       "      <td>2.059906</td>\n",
       "      <td>-1.224804</td>\n",
       "    </tr>\n",
       "    <tr>\n",
       "      <th>18</th>\n",
       "      <td>141</td>\n",
       "      <td>-0.480440</td>\n",
       "      <td>0.775366</td>\n",
       "      <td>2014-05-04</td>\n",
       "      <td>2014-07-23 00:00:00</td>\n",
       "      <td>2014-07-09</td>\n",
       "      <td>-14.0</td>\n",
       "      <td>0.742646</td>\n",
       "      <td>-0.815376</td>\n",
       "      <td>-0.924612</td>\n",
       "      <td>...</td>\n",
       "      <td>-0.946942</td>\n",
       "      <td>-0.729597</td>\n",
       "      <td>0.208531</td>\n",
       "      <td>1.409205</td>\n",
       "      <td>0.685262</td>\n",
       "      <td>-0.011269</td>\n",
       "      <td>1.589433</td>\n",
       "      <td>0.211438</td>\n",
       "      <td>1.874893</td>\n",
       "      <td>-1.271133</td>\n",
       "    </tr>\n",
       "    <tr>\n",
       "      <th>31</th>\n",
       "      <td>538</td>\n",
       "      <td>-0.236855</td>\n",
       "      <td>0.187020</td>\n",
       "      <td>2014-06-13</td>\n",
       "      <td>2014-09-10 00:00:00</td>\n",
       "      <td>2014-11-25</td>\n",
       "      <td>76.0</td>\n",
       "      <td>0.417815</td>\n",
       "      <td>-0.170574</td>\n",
       "      <td>0.838514</td>\n",
       "      <td>...</td>\n",
       "      <td>-0.538508</td>\n",
       "      <td>0.047778</td>\n",
       "      <td>-0.727619</td>\n",
       "      <td>0.586550</td>\n",
       "      <td>1.054447</td>\n",
       "      <td>0.552219</td>\n",
       "      <td>-1.211929</td>\n",
       "      <td>0.181738</td>\n",
       "      <td>2.015487</td>\n",
       "      <td>-1.234429</td>\n",
       "    </tr>\n",
       "    <tr>\n",
       "      <th>33</th>\n",
       "      <td>522</td>\n",
       "      <td>1.022006</td>\n",
       "      <td>-1.619928</td>\n",
       "      <td>2014-10-23</td>\n",
       "      <td>2015-01-14 00:00:00</td>\n",
       "      <td>2015-03-15</td>\n",
       "      <td>60.0</td>\n",
       "      <td>1.865243</td>\n",
       "      <td>1.486138</td>\n",
       "      <td>0.357082</td>\n",
       "      <td>...</td>\n",
       "      <td>-0.683662</td>\n",
       "      <td>-0.855553</td>\n",
       "      <td>-0.637500</td>\n",
       "      <td>1.265617</td>\n",
       "      <td>0.488946</td>\n",
       "      <td>-0.431029</td>\n",
       "      <td>-1.222198</td>\n",
       "      <td>0.169566</td>\n",
       "      <td>1.980735</td>\n",
       "      <td>-1.220407</td>\n",
       "    </tr>\n",
       "    <tr>\n",
       "      <th>35</th>\n",
       "      <td>751</td>\n",
       "      <td>-0.302516</td>\n",
       "      <td>-0.312210</td>\n",
       "      <td>2014-07-06</td>\n",
       "      <td>2015-01-26 00:00:00</td>\n",
       "      <td>2015-05-04</td>\n",
       "      <td>98.0</td>\n",
       "      <td>0.742024</td>\n",
       "      <td>0.731980</td>\n",
       "      <td>1.528675</td>\n",
       "      <td>...</td>\n",
       "      <td>-0.494246</td>\n",
       "      <td>0.674499</td>\n",
       "      <td>-1.313777</td>\n",
       "      <td>0.561125</td>\n",
       "      <td>1.011186</td>\n",
       "      <td>0.174238</td>\n",
       "      <td>0.667339</td>\n",
       "      <td>-0.545597</td>\n",
       "      <td>1.838070</td>\n",
       "      <td>-1.725533</td>\n",
       "    </tr>\n",
       "    <tr>\n",
       "      <th>36</th>\n",
       "      <td>487</td>\n",
       "      <td>-0.073028</td>\n",
       "      <td>-0.535067</td>\n",
       "      <td>2014-09-14</td>\n",
       "      <td>2015-11-03 00:00:00</td>\n",
       "      <td>2015-02-08</td>\n",
       "      <td>-268.0</td>\n",
       "      <td>1.291499</td>\n",
       "      <td>0.851803</td>\n",
       "      <td>0.691905</td>\n",
       "      <td>...</td>\n",
       "      <td>-1.237366</td>\n",
       "      <td>0.381684</td>\n",
       "      <td>NaN</td>\n",
       "      <td>-0.178696</td>\n",
       "      <td>-0.036956</td>\n",
       "      <td>-0.208470</td>\n",
       "      <td>0.667339</td>\n",
       "      <td>-0.560750</td>\n",
       "      <td>1.890912</td>\n",
       "      <td>-1.223798</td>\n",
       "    </tr>\n",
       "    <tr>\n",
       "      <th>38</th>\n",
       "      <td>480</td>\n",
       "      <td>-0.209012</td>\n",
       "      <td>0.201088</td>\n",
       "      <td>2014-08-07</td>\n",
       "      <td>2014-10-13 00:00:00</td>\n",
       "      <td>2014-01-12</td>\n",
       "      <td>-274.0</td>\n",
       "      <td>0.701576</td>\n",
       "      <td>-0.222659</td>\n",
       "      <td>0.878901</td>\n",
       "      <td>...</td>\n",
       "      <td>0.491538</td>\n",
       "      <td>0.290580</td>\n",
       "      <td>-0.318883</td>\n",
       "      <td>0.880920</td>\n",
       "      <td>0.523589</td>\n",
       "      <td>1.324763</td>\n",
       "      <td>-1.227375</td>\n",
       "      <td>0.181738</td>\n",
       "      <td>4.525215</td>\n",
       "      <td>-1.648490</td>\n",
       "    </tr>\n",
       "    <tr>\n",
       "      <th>49</th>\n",
       "      <td>640</td>\n",
       "      <td>0.098034</td>\n",
       "      <td>1.582837</td>\n",
       "      <td>2013-04-07</td>\n",
       "      <td>2016-04-11 16:48:00</td>\n",
       "      <td>2016-06-04</td>\n",
       "      <td>53.3</td>\n",
       "      <td>0.304560</td>\n",
       "      <td>-2.452614</td>\n",
       "      <td>-0.569148</td>\n",
       "      <td>...</td>\n",
       "      <td>-3.213068</td>\n",
       "      <td>-2.427199</td>\n",
       "      <td>-0.468899</td>\n",
       "      <td>1.194239</td>\n",
       "      <td>1.235577</td>\n",
       "      <td>1.169842</td>\n",
       "      <td>-0.773433</td>\n",
       "      <td>0.924226</td>\n",
       "      <td>-1.596762</td>\n",
       "      <td>1.037403</td>\n",
       "    </tr>\n",
       "    <tr>\n",
       "      <th>61</th>\n",
       "      <td>494</td>\n",
       "      <td>-0.461484</td>\n",
       "      <td>-0.180266</td>\n",
       "      <td>2015-01-20</td>\n",
       "      <td>2015-10-05 00:00:00</td>\n",
       "      <td>2015-12-08</td>\n",
       "      <td>64.0</td>\n",
       "      <td>1.437736</td>\n",
       "      <td>0.681697</td>\n",
       "      <td>0.865269</td>\n",
       "      <td>...</td>\n",
       "      <td>-0.402763</td>\n",
       "      <td>0.391495</td>\n",
       "      <td>-0.512073</td>\n",
       "      <td>0.468299</td>\n",
       "      <td>0.410480</td>\n",
       "      <td>-0.055963</td>\n",
       "      <td>0.667339</td>\n",
       "      <td>-0.560750</td>\n",
       "      <td>1.988407</td>\n",
       "      <td>-1.233393</td>\n",
       "    </tr>\n",
       "    <tr>\n",
       "      <th>77</th>\n",
       "      <td>257</td>\n",
       "      <td>-0.171775</td>\n",
       "      <td>-0.177316</td>\n",
       "      <td>2014-05-16</td>\n",
       "      <td>2014-08-10 00:00:00</td>\n",
       "      <td>2014-05-12</td>\n",
       "      <td>-90.0</td>\n",
       "      <td>-0.267318</td>\n",
       "      <td>0.360833</td>\n",
       "      <td>1.364360</td>\n",
       "      <td>...</td>\n",
       "      <td>0.650196</td>\n",
       "      <td>0.590705</td>\n",
       "      <td>-0.616383</td>\n",
       "      <td>0.268533</td>\n",
       "      <td>1.134729</td>\n",
       "      <td>0.441591</td>\n",
       "      <td>-1.204433</td>\n",
       "      <td>0.181738</td>\n",
       "      <td>2.124385</td>\n",
       "      <td>-1.248055</td>\n",
       "    </tr>\n",
       "    <tr>\n",
       "      <th>82</th>\n",
       "      <td>657</td>\n",
       "      <td>-0.291896</td>\n",
       "      <td>-0.307306</td>\n",
       "      <td>2014-06-21</td>\n",
       "      <td>2015-11-01 00:00:00</td>\n",
       "      <td>2015-03-31</td>\n",
       "      <td>-215.0</td>\n",
       "      <td>1.006494</td>\n",
       "      <td>0.710084</td>\n",
       "      <td>1.523537</td>\n",
       "      <td>...</td>\n",
       "      <td>-0.168487</td>\n",
       "      <td>1.236785</td>\n",
       "      <td>-1.367400</td>\n",
       "      <td>0.694949</td>\n",
       "      <td>1.199101</td>\n",
       "      <td>0.383822</td>\n",
       "      <td>0.667339</td>\n",
       "      <td>-0.546471</td>\n",
       "      <td>1.980993</td>\n",
       "      <td>-1.225295</td>\n",
       "    </tr>\n",
       "    <tr>\n",
       "      <th>97</th>\n",
       "      <td>8</td>\n",
       "      <td>0.247617</td>\n",
       "      <td>-0.546576</td>\n",
       "      <td>2014-08-29</td>\n",
       "      <td>2014-12-14 00:00:00</td>\n",
       "      <td>2015-03-18</td>\n",
       "      <td>94.0</td>\n",
       "      <td>-0.919469</td>\n",
       "      <td>0.543984</td>\n",
       "      <td>-0.503292</td>\n",
       "      <td>...</td>\n",
       "      <td>-0.012461</td>\n",
       "      <td>-0.595947</td>\n",
       "      <td>-0.853979</td>\n",
       "      <td>-0.379629</td>\n",
       "      <td>-0.021538</td>\n",
       "      <td>-0.113031</td>\n",
       "      <td>0.667339</td>\n",
       "      <td>-0.560750</td>\n",
       "      <td>2.116013</td>\n",
       "      <td>-1.253541</td>\n",
       "    </tr>\n",
       "    <tr>\n",
       "      <th>122</th>\n",
       "      <td>418</td>\n",
       "      <td>-0.063986</td>\n",
       "      <td>-0.530515</td>\n",
       "      <td>2014-09-27</td>\n",
       "      <td>2015-03-26 00:00:00</td>\n",
       "      <td>2015-07-29</td>\n",
       "      <td>125.0</td>\n",
       "      <td>1.315768</td>\n",
       "      <td>0.835031</td>\n",
       "      <td>0.667134</td>\n",
       "      <td>...</td>\n",
       "      <td>-0.923876</td>\n",
       "      <td>0.125118</td>\n",
       "      <td>-0.506523</td>\n",
       "      <td>0.492959</td>\n",
       "      <td>1.641729</td>\n",
       "      <td>0.423001</td>\n",
       "      <td>0.667339</td>\n",
       "      <td>-0.560750</td>\n",
       "      <td>1.958849</td>\n",
       "      <td>-1.217760</td>\n",
       "    </tr>\n",
       "    <tr>\n",
       "      <th>135</th>\n",
       "      <td>771</td>\n",
       "      <td>0.326027</td>\n",
       "      <td>-0.892350</td>\n",
       "      <td>2014-07-26</td>\n",
       "      <td>2014-05-12 00:00:00</td>\n",
       "      <td>2015-03-14</td>\n",
       "      <td>306.0</td>\n",
       "      <td>0.941777</td>\n",
       "      <td>1.042718</td>\n",
       "      <td>-0.707864</td>\n",
       "      <td>...</td>\n",
       "      <td>-0.080795</td>\n",
       "      <td>-0.597646</td>\n",
       "      <td>-0.920522</td>\n",
       "      <td>-0.576077</td>\n",
       "      <td>0.195651</td>\n",
       "      <td>-0.270795</td>\n",
       "      <td>0.478931</td>\n",
       "      <td>-0.706391</td>\n",
       "      <td>2.050551</td>\n",
       "      <td>-1.242324</td>\n",
       "    </tr>\n",
       "    <tr>\n",
       "      <th>146</th>\n",
       "      <td>757</td>\n",
       "      <td>0.158359</td>\n",
       "      <td>-0.196913</td>\n",
       "      <td>2014-06-26</td>\n",
       "      <td>2014-09-19 00:00:00</td>\n",
       "      <td>2015-01-26</td>\n",
       "      <td>129.0</td>\n",
       "      <td>-0.150951</td>\n",
       "      <td>0.050871</td>\n",
       "      <td>-0.076981</td>\n",
       "      <td>...</td>\n",
       "      <td>0.789411</td>\n",
       "      <td>1.275835</td>\n",
       "      <td>-1.284221</td>\n",
       "      <td>-0.020766</td>\n",
       "      <td>0.108614</td>\n",
       "      <td>-0.061747</td>\n",
       "      <td>0.691352</td>\n",
       "      <td>-0.542187</td>\n",
       "      <td>2.070930</td>\n",
       "      <td>-1.239492</td>\n",
       "    </tr>\n",
       "    <tr>\n",
       "      <th>153</th>\n",
       "      <td>775</td>\n",
       "      <td>0.195680</td>\n",
       "      <td>0.655966</td>\n",
       "      <td>2014-02-13</td>\n",
       "      <td>2014-02-08 00:00:00</td>\n",
       "      <td>2014-09-17</td>\n",
       "      <td>221.0</td>\n",
       "      <td>-0.578459</td>\n",
       "      <td>-1.333584</td>\n",
       "      <td>-1.633377</td>\n",
       "      <td>...</td>\n",
       "      <td>-0.433414</td>\n",
       "      <td>-0.536376</td>\n",
       "      <td>-0.750022</td>\n",
       "      <td>-0.324553</td>\n",
       "      <td>0.271600</td>\n",
       "      <td>-0.615375</td>\n",
       "      <td>-1.253690</td>\n",
       "      <td>0.181738</td>\n",
       "      <td>1.838079</td>\n",
       "      <td>-1.189494</td>\n",
       "    </tr>\n",
       "    <tr>\n",
       "      <th>155</th>\n",
       "      <td>68</td>\n",
       "      <td>1.009403</td>\n",
       "      <td>-1.624461</td>\n",
       "      <td>2014-03-08</td>\n",
       "      <td>2014-11-15 00:00:00</td>\n",
       "      <td>2015-03-03</td>\n",
       "      <td>108.0</td>\n",
       "      <td>-0.335769</td>\n",
       "      <td>1.506916</td>\n",
       "      <td>0.352732</td>\n",
       "      <td>...</td>\n",
       "      <td>-0.425103</td>\n",
       "      <td>-0.756385</td>\n",
       "      <td>-0.841783</td>\n",
       "      <td>1.485771</td>\n",
       "      <td>0.723898</td>\n",
       "      <td>0.773099</td>\n",
       "      <td>0.667339</td>\n",
       "      <td>-0.560750</td>\n",
       "      <td>2.014093</td>\n",
       "      <td>-1.239817</td>\n",
       "    </tr>\n",
       "    <tr>\n",
       "      <th>156</th>\n",
       "      <td>604</td>\n",
       "      <td>-0.491610</td>\n",
       "      <td>0.589749</td>\n",
       "      <td>2014-09-23</td>\n",
       "      <td>2015-05-06 00:00:00</td>\n",
       "      <td>2015-09-30</td>\n",
       "      <td>147.0</td>\n",
       "      <td>0.854657</td>\n",
       "      <td>-0.541286</td>\n",
       "      <td>-1.062039</td>\n",
       "      <td>...</td>\n",
       "      <td>-0.770885</td>\n",
       "      <td>-0.655249</td>\n",
       "      <td>-0.963606</td>\n",
       "      <td>0.952300</td>\n",
       "      <td>-0.016451</td>\n",
       "      <td>0.700877</td>\n",
       "      <td>0.667339</td>\n",
       "      <td>-0.304519</td>\n",
       "      <td>1.838746</td>\n",
       "      <td>-1.215949</td>\n",
       "    </tr>\n",
       "    <tr>\n",
       "      <th>161</th>\n",
       "      <td>282</td>\n",
       "      <td>-0.190367</td>\n",
       "      <td>-0.259358</td>\n",
       "      <td>2015-01-26</td>\n",
       "      <td>2015-06-13 00:00:00</td>\n",
       "      <td>2015-12-09</td>\n",
       "      <td>179.0</td>\n",
       "      <td>1.566548</td>\n",
       "      <td>0.522057</td>\n",
       "      <td>1.389331</td>\n",
       "      <td>...</td>\n",
       "      <td>-0.578753</td>\n",
       "      <td>-0.664169</td>\n",
       "      <td>-0.914898</td>\n",
       "      <td>0.605687</td>\n",
       "      <td>0.845707</td>\n",
       "      <td>-0.097715</td>\n",
       "      <td>0.667339</td>\n",
       "      <td>-0.560750</td>\n",
       "      <td>1.953286</td>\n",
       "      <td>-1.224804</td>\n",
       "    </tr>\n",
       "    <tr>\n",
       "      <th>165</th>\n",
       "      <td>347</td>\n",
       "      <td>-0.272442</td>\n",
       "      <td>-0.580573</td>\n",
       "      <td>2014-11-27</td>\n",
       "      <td>2015-03-20 00:00:00</td>\n",
       "      <td>2015-06-15</td>\n",
       "      <td>87.0</td>\n",
       "      <td>1.455782</td>\n",
       "      <td>1.137850</td>\n",
       "      <td>1.244021</td>\n",
       "      <td>...</td>\n",
       "      <td>-2.050765</td>\n",
       "      <td>-1.670049</td>\n",
       "      <td>-0.643376</td>\n",
       "      <td>0.662715</td>\n",
       "      <td>1.177847</td>\n",
       "      <td>-0.267743</td>\n",
       "      <td>0.667339</td>\n",
       "      <td>-0.560750</td>\n",
       "      <td>1.789922</td>\n",
       "      <td>-1.229061</td>\n",
       "    </tr>\n",
       "    <tr>\n",
       "      <th>182</th>\n",
       "      <td>453</td>\n",
       "      <td>-0.054228</td>\n",
       "      <td>-0.525630</td>\n",
       "      <td>2014-11-10</td>\n",
       "      <td>2015-09-04 00:00:00</td>\n",
       "      <td>2015-07-28</td>\n",
       "      <td>-38.0</td>\n",
       "      <td>1.286521</td>\n",
       "      <td>0.817297</td>\n",
       "      <td>0.639901</td>\n",
       "      <td>...</td>\n",
       "      <td>-0.880700</td>\n",
       "      <td>-0.447296</td>\n",
       "      <td>-0.568421</td>\n",
       "      <td>0.316729</td>\n",
       "      <td>1.565604</td>\n",
       "      <td>-0.062756</td>\n",
       "      <td>0.667339</td>\n",
       "      <td>-0.560750</td>\n",
       "      <td>2.004483</td>\n",
       "      <td>-1.225036</td>\n",
       "    </tr>\n",
       "    <tr>\n",
       "      <th>184</th>\n",
       "      <td>595</td>\n",
       "      <td>-0.131921</td>\n",
       "      <td>-0.117977</td>\n",
       "      <td>2014-08-18</td>\n",
       "      <td>2015-04-03 00:00:00</td>\n",
       "      <td>2015-07-18</td>\n",
       "      <td>106.0</td>\n",
       "      <td>0.246687</td>\n",
       "      <td>0.222841</td>\n",
       "      <td>1.275966</td>\n",
       "      <td>...</td>\n",
       "      <td>-0.493686</td>\n",
       "      <td>1.166037</td>\n",
       "      <td>-1.386031</td>\n",
       "      <td>0.633579</td>\n",
       "      <td>1.465131</td>\n",
       "      <td>0.148033</td>\n",
       "      <td>1.606024</td>\n",
       "      <td>-0.560750</td>\n",
       "      <td>2.022621</td>\n",
       "      <td>-1.230222</td>\n",
       "    </tr>\n",
       "    <tr>\n",
       "      <th>187</th>\n",
       "      <td>303</td>\n",
       "      <td>0.344838</td>\n",
       "      <td>-0.905050</td>\n",
       "      <td>2014-03-15</td>\n",
       "      <td>2014-07-13 00:00:00</td>\n",
       "      <td>2014-09-24</td>\n",
       "      <td>73.0</td>\n",
       "      <td>1.464494</td>\n",
       "      <td>1.046880</td>\n",
       "      <td>-0.765430</td>\n",
       "      <td>...</td>\n",
       "      <td>0.072655</td>\n",
       "      <td>0.450078</td>\n",
       "      <td>-1.054524</td>\n",
       "      <td>-0.819848</td>\n",
       "      <td>-0.787359</td>\n",
       "      <td>-1.020529</td>\n",
       "      <td>0.684491</td>\n",
       "      <td>-0.558098</td>\n",
       "      <td>1.907934</td>\n",
       "      <td>-1.204278</td>\n",
       "    </tr>\n",
       "    <tr>\n",
       "      <th>188</th>\n",
       "      <td>22</td>\n",
       "      <td>-0.224065</td>\n",
       "      <td>0.193546</td>\n",
       "      <td>2014-06-26</td>\n",
       "      <td>2014-09-13 00:00:00</td>\n",
       "      <td>2014-11-26</td>\n",
       "      <td>74.0</td>\n",
       "      <td>0.695975</td>\n",
       "      <td>-0.195918</td>\n",
       "      <td>0.859618</td>\n",
       "      <td>...</td>\n",
       "      <td>0.434628</td>\n",
       "      <td>0.305671</td>\n",
       "      <td>-0.396457</td>\n",
       "      <td>0.865890</td>\n",
       "      <td>0.440253</td>\n",
       "      <td>1.106640</td>\n",
       "      <td>-1.214486</td>\n",
       "      <td>0.181738</td>\n",
       "      <td>1.448004</td>\n",
       "      <td>-1.234101</td>\n",
       "    </tr>\n",
       "    <tr>\n",
       "      <th>191</th>\n",
       "      <td>665</td>\n",
       "      <td>0.251770</td>\n",
       "      <td>-0.534423</td>\n",
       "      <td>2013-10-21</td>\n",
       "      <td>2014-12-05 00:00:00</td>\n",
       "      <td>2014-08-31</td>\n",
       "      <td>-96.0</td>\n",
       "      <td>-0.823016</td>\n",
       "      <td>0.520783</td>\n",
       "      <td>-0.518524</td>\n",
       "      <td>...</td>\n",
       "      <td>-0.397162</td>\n",
       "      <td>-0.737529</td>\n",
       "      <td>0.077105</td>\n",
       "      <td>0.182660</td>\n",
       "      <td>-0.038409</td>\n",
       "      <td>0.189488</td>\n",
       "      <td>-1.253690</td>\n",
       "      <td>-0.560750</td>\n",
       "      <td>1.923990</td>\n",
       "      <td>-0.974256</td>\n",
       "    </tr>\n",
       "    <tr>\n",
       "      <th>198</th>\n",
       "      <td>360</td>\n",
       "      <td>-1.835691</td>\n",
       "      <td>-0.293160</td>\n",
       "      <td>2013-12-31</td>\n",
       "      <td>2014-04-23 00:00:00</td>\n",
       "      <td>2014-05-27</td>\n",
       "      <td>34.0</td>\n",
       "      <td>-0.859730</td>\n",
       "      <td>2.407296</td>\n",
       "      <td>0.434858</td>\n",
       "      <td>...</td>\n",
       "      <td>0.842540</td>\n",
       "      <td>0.635265</td>\n",
       "      <td>0.553565</td>\n",
       "      <td>-1.470026</td>\n",
       "      <td>-1.426104</td>\n",
       "      <td>-1.364628</td>\n",
       "      <td>-1.253690</td>\n",
       "      <td>0.181738</td>\n",
       "      <td>3.318026</td>\n",
       "      <td>-1.227997</td>\n",
       "    </tr>\n",
       "    <tr>\n",
       "      <th>200</th>\n",
       "      <td>204</td>\n",
       "      <td>0.314950</td>\n",
       "      <td>-0.494251</td>\n",
       "      <td>2014-07-02</td>\n",
       "      <td>2014-10-08 00:00:00</td>\n",
       "      <td>2014-06-10</td>\n",
       "      <td>-120.0</td>\n",
       "      <td>-0.256117</td>\n",
       "      <td>0.392078</td>\n",
       "      <td>-0.775352</td>\n",
       "      <td>...</td>\n",
       "      <td>-0.161983</td>\n",
       "      <td>0.921634</td>\n",
       "      <td>-1.266657</td>\n",
       "      <td>0.194240</td>\n",
       "      <td>0.297274</td>\n",
       "      <td>0.049944</td>\n",
       "      <td>0.667339</td>\n",
       "      <td>-0.560750</td>\n",
       "      <td>2.432601</td>\n",
       "      <td>-1.100857</td>\n",
       "    </tr>\n",
       "    <tr>\n",
       "      <th>211</th>\n",
       "      <td>140</td>\n",
       "      <td>-0.200718</td>\n",
       "      <td>-0.263090</td>\n",
       "      <td>2015-12-01</td>\n",
       "      <td>2015-06-13 00:00:00</td>\n",
       "      <td>2015-07-09</td>\n",
       "      <td>26.0</td>\n",
       "      <td>1.566548</td>\n",
       "      <td>0.538518</td>\n",
       "      <td>1.408750</td>\n",
       "      <td>...</td>\n",
       "      <td>-0.641057</td>\n",
       "      <td>-0.779727</td>\n",
       "      <td>-0.641403</td>\n",
       "      <td>0.751142</td>\n",
       "      <td>0.994248</td>\n",
       "      <td>0.003584</td>\n",
       "      <td>0.667339</td>\n",
       "      <td>-0.560750</td>\n",
       "      <td>2.024112</td>\n",
       "      <td>-1.224804</td>\n",
       "    </tr>\n",
       "    <tr>\n",
       "      <th>218</th>\n",
       "      <td>733</td>\n",
       "      <td>1.300659</td>\n",
       "      <td>-1.157997</td>\n",
       "      <td>2014-02-26</td>\n",
       "      <td>2014-07-26 00:00:00</td>\n",
       "      <td>2014-10-11</td>\n",
       "      <td>77.0</td>\n",
       "      <td>-0.378706</td>\n",
       "      <td>0.773412</td>\n",
       "      <td>1.021927</td>\n",
       "      <td>...</td>\n",
       "      <td>-0.201027</td>\n",
       "      <td>-0.598149</td>\n",
       "      <td>-1.023182</td>\n",
       "      <td>0.409304</td>\n",
       "      <td>1.569758</td>\n",
       "      <td>0.782992</td>\n",
       "      <td>1.627854</td>\n",
       "      <td>0.181738</td>\n",
       "      <td>1.875430</td>\n",
       "      <td>-1.186252</td>\n",
       "    </tr>\n",
       "    <tr>\n",
       "      <th>224</th>\n",
       "      <td>390</td>\n",
       "      <td>0.458647</td>\n",
       "      <td>-0.281281</td>\n",
       "      <td>2013-11-20</td>\n",
       "      <td>2014-05-28 00:00:00</td>\n",
       "      <td>2014-07-17</td>\n",
       "      <td>50.0</td>\n",
       "      <td>-0.884622</td>\n",
       "      <td>-0.090537</td>\n",
       "      <td>-1.255386</td>\n",
       "      <td>...</td>\n",
       "      <td>0.100463</td>\n",
       "      <td>-0.123275</td>\n",
       "      <td>0.387984</td>\n",
       "      <td>0.339049</td>\n",
       "      <td>0.967131</td>\n",
       "      <td>0.239240</td>\n",
       "      <td>-1.253690</td>\n",
       "      <td>0.181738</td>\n",
       "      <td>2.059286</td>\n",
       "      <td>-1.238640</td>\n",
       "    </tr>\n",
       "    <tr>\n",
       "      <th>229</th>\n",
       "      <td>247</td>\n",
       "      <td>0.823008</td>\n",
       "      <td>-1.539644</td>\n",
       "      <td>2013-03-10</td>\n",
       "      <td>2014-03-29 00:00:00</td>\n",
       "      <td>2014-05-06</td>\n",
       "      <td>38.0</td>\n",
       "      <td>-0.607706</td>\n",
       "      <td>1.579126</td>\n",
       "      <td>0.017061</td>\n",
       "      <td>...</td>\n",
       "      <td>-1.363305</td>\n",
       "      <td>-2.175493</td>\n",
       "      <td>0.380620</td>\n",
       "      <td>0.876638</td>\n",
       "      <td>0.860667</td>\n",
       "      <td>0.433414</td>\n",
       "      <td>2.094231</td>\n",
       "      <td>0.542252</td>\n",
       "      <td>1.890721</td>\n",
       "      <td>-1.472617</td>\n",
       "    </tr>\n",
       "    <tr>\n",
       "      <th>230</th>\n",
       "      <td>233</td>\n",
       "      <td>0.105716</td>\n",
       "      <td>-0.328896</td>\n",
       "      <td>2013-06-26</td>\n",
       "      <td>2013-09-12 00:00:00</td>\n",
       "      <td>2014-01-30</td>\n",
       "      <td>140.0</td>\n",
       "      <td>-1.270437</td>\n",
       "      <td>0.327135</td>\n",
       "      <td>0.205354</td>\n",
       "      <td>...</td>\n",
       "      <td>-2.195671</td>\n",
       "      <td>-3.274215</td>\n",
       "      <td>0.231525</td>\n",
       "      <td>0.172257</td>\n",
       "      <td>0.468252</td>\n",
       "      <td>-0.046052</td>\n",
       "      <td>-1.253690</td>\n",
       "      <td>0.181738</td>\n",
       "      <td>1.873128</td>\n",
       "      <td>-1.200995</td>\n",
       "    </tr>\n",
       "  </tbody>\n",
       "</table>\n",
       "<p>33 rows × 46 columns</p>\n",
       "</div>"
      ],
      "text/plain": [
       "     API    Surf_X    Surf_Y Date_Drilling     Date_Completion  \\\n",
       "11     7 -0.101826 -0.543508    2014-06-17 2014-06-10 00:00:00   \n",
       "17   125 -0.210227 -0.269186    2014-12-28 2015-06-05 00:00:00   \n",
       "18   141 -0.480440  0.775366    2014-05-04 2014-07-23 00:00:00   \n",
       "31   538 -0.236855  0.187020    2014-06-13 2014-09-10 00:00:00   \n",
       "33   522  1.022006 -1.619928    2014-10-23 2015-01-14 00:00:00   \n",
       "35   751 -0.302516 -0.312210    2014-07-06 2015-01-26 00:00:00   \n",
       "36   487 -0.073028 -0.535067    2014-09-14 2015-11-03 00:00:00   \n",
       "38   480 -0.209012  0.201088    2014-08-07 2014-10-13 00:00:00   \n",
       "49   640  0.098034  1.582837    2013-04-07 2016-04-11 16:48:00   \n",
       "61   494 -0.461484 -0.180266    2015-01-20 2015-10-05 00:00:00   \n",
       "77   257 -0.171775 -0.177316    2014-05-16 2014-08-10 00:00:00   \n",
       "82   657 -0.291896 -0.307306    2014-06-21 2015-11-01 00:00:00   \n",
       "97     8  0.247617 -0.546576    2014-08-29 2014-12-14 00:00:00   \n",
       "122  418 -0.063986 -0.530515    2014-09-27 2015-03-26 00:00:00   \n",
       "135  771  0.326027 -0.892350    2014-07-26 2014-05-12 00:00:00   \n",
       "146  757  0.158359 -0.196913    2014-06-26 2014-09-19 00:00:00   \n",
       "153  775  0.195680  0.655966    2014-02-13 2014-02-08 00:00:00   \n",
       "155   68  1.009403 -1.624461    2014-03-08 2014-11-15 00:00:00   \n",
       "156  604 -0.491610  0.589749    2014-09-23 2015-05-06 00:00:00   \n",
       "161  282 -0.190367 -0.259358    2015-01-26 2015-06-13 00:00:00   \n",
       "165  347 -0.272442 -0.580573    2014-11-27 2015-03-20 00:00:00   \n",
       "182  453 -0.054228 -0.525630    2014-11-10 2015-09-04 00:00:00   \n",
       "184  595 -0.131921 -0.117977    2014-08-18 2015-04-03 00:00:00   \n",
       "187  303  0.344838 -0.905050    2014-03-15 2014-07-13 00:00:00   \n",
       "188   22 -0.224065  0.193546    2014-06-26 2014-09-13 00:00:00   \n",
       "191  665  0.251770 -0.534423    2013-10-21 2014-12-05 00:00:00   \n",
       "198  360 -1.835691 -0.293160    2013-12-31 2014-04-23 00:00:00   \n",
       "200  204  0.314950 -0.494251    2014-07-02 2014-10-08 00:00:00   \n",
       "211  140 -0.200718 -0.263090    2015-12-01 2015-06-13 00:00:00   \n",
       "218  733  1.300659 -1.157997    2014-02-26 2014-07-26 00:00:00   \n",
       "224  390  0.458647 -0.281281    2013-11-20 2014-05-28 00:00:00   \n",
       "229  247  0.823008 -1.539644    2013-03-10 2014-03-29 00:00:00   \n",
       "230  233  0.105716 -0.328896    2013-06-26 2013-09-12 00:00:00   \n",
       "\n",
       "    Date_Production  deltaT_Comp_Prod  Lateral_Length (ft)  \\\n",
       "11       2015-01-26             230.0             1.697227   \n",
       "17       2015-03-09             -88.0             1.566548   \n",
       "18       2014-07-09             -14.0             0.742646   \n",
       "31       2014-11-25              76.0             0.417815   \n",
       "33       2015-03-15              60.0             1.865243   \n",
       "35       2015-05-04              98.0             0.742024   \n",
       "36       2015-02-08            -268.0             1.291499   \n",
       "38       2014-01-12            -274.0             0.701576   \n",
       "49       2016-06-04              53.3             0.304560   \n",
       "61       2015-12-08              64.0             1.437736   \n",
       "77       2014-05-12             -90.0            -0.267318   \n",
       "82       2015-03-31            -215.0             1.006494   \n",
       "97       2015-03-18              94.0            -0.919469   \n",
       "122      2015-07-29             125.0             1.315768   \n",
       "135      2015-03-14             306.0             0.941777   \n",
       "146      2015-01-26             129.0            -0.150951   \n",
       "153      2014-09-17             221.0            -0.578459   \n",
       "155      2015-03-03             108.0            -0.335769   \n",
       "156      2015-09-30             147.0             0.854657   \n",
       "161      2015-12-09             179.0             1.566548   \n",
       "165      2015-06-15              87.0             1.455782   \n",
       "182      2015-07-28             -38.0             1.286521   \n",
       "184      2015-07-18             106.0             0.246687   \n",
       "187      2014-09-24              73.0             1.464494   \n",
       "188      2014-11-26              74.0             0.695975   \n",
       "191      2014-08-31             -96.0            -0.823016   \n",
       "198      2014-05-27              34.0            -0.859730   \n",
       "200      2014-06-10            -120.0            -0.256117   \n",
       "211      2015-07-09              26.0             1.566548   \n",
       "218      2014-10-11              77.0            -0.378706   \n",
       "224      2014-07-17              50.0            -0.884622   \n",
       "229      2014-05-06              38.0            -0.607706   \n",
       "230      2014-01-30             140.0            -1.270437   \n",
       "\n",
       "     Depth_TVD_PPLS (ft)  Erosion_PPLS (ft)         ...          \\\n",
       "11              0.895719           0.777759         ...           \n",
       "17              0.559451           1.424884         ...           \n",
       "18             -0.815376          -0.924612         ...           \n",
       "31             -0.170574           0.838514         ...           \n",
       "33              1.486138           0.357082         ...           \n",
       "35              0.731980           1.528675         ...           \n",
       "36              0.851803           0.691905         ...           \n",
       "38             -0.222659           0.878901         ...           \n",
       "49             -2.452614          -0.569148         ...           \n",
       "61              0.681697           0.865269         ...           \n",
       "77              0.360833           1.364360         ...           \n",
       "82              0.710084           1.523537         ...           \n",
       "97              0.543984          -0.503292         ...           \n",
       "122             0.835031           0.667134         ...           \n",
       "135             1.042718          -0.707864         ...           \n",
       "146             0.050871          -0.076981         ...           \n",
       "153            -1.333584          -1.633377         ...           \n",
       "155             1.506916           0.352732         ...           \n",
       "156            -0.541286          -1.062039         ...           \n",
       "161             0.522057           1.389331         ...           \n",
       "165             1.137850           1.244021         ...           \n",
       "182             0.817297           0.639901         ...           \n",
       "184             0.222841           1.275966         ...           \n",
       "187             1.046880          -0.765430         ...           \n",
       "188            -0.195918           0.859618         ...           \n",
       "191             0.520783          -0.518524         ...           \n",
       "198             2.407296           0.434858         ...           \n",
       "200             0.392078          -0.775352         ...           \n",
       "211             0.538518           1.408750         ...           \n",
       "218             0.773412           1.021927         ...           \n",
       "224            -0.090537          -1.255386         ...           \n",
       "229             1.579126           0.017061         ...           \n",
       "230             0.327135           0.205354         ...           \n",
       "\n",
       "     Avg_Rate_Slurry (bpm)  Max_Rate_Slurry (bpm)  Min_Rate_Slurry (bpm)  \\\n",
       "11               -0.488681              -0.649272              -0.892759   \n",
       "17               -0.706327              -0.739125              -0.855517   \n",
       "18               -0.946942              -0.729597               0.208531   \n",
       "31               -0.538508               0.047778              -0.727619   \n",
       "33               -0.683662              -0.855553              -0.637500   \n",
       "35               -0.494246               0.674499              -1.313777   \n",
       "36               -1.237366               0.381684                    NaN   \n",
       "38                0.491538               0.290580              -0.318883   \n",
       "49               -3.213068              -2.427199              -0.468899   \n",
       "61               -0.402763               0.391495              -0.512073   \n",
       "77                0.650196               0.590705              -0.616383   \n",
       "82               -0.168487               1.236785              -1.367400   \n",
       "97               -0.012461              -0.595947              -0.853979   \n",
       "122              -0.923876               0.125118              -0.506523   \n",
       "135              -0.080795              -0.597646              -0.920522   \n",
       "146               0.789411               1.275835              -1.284221   \n",
       "153              -0.433414              -0.536376              -0.750022   \n",
       "155              -0.425103              -0.756385              -0.841783   \n",
       "156              -0.770885              -0.655249              -0.963606   \n",
       "161              -0.578753              -0.664169              -0.914898   \n",
       "165              -2.050765              -1.670049              -0.643376   \n",
       "182              -0.880700              -0.447296              -0.568421   \n",
       "184              -0.493686               1.166037              -1.386031   \n",
       "187               0.072655               0.450078              -1.054524   \n",
       "188               0.434628               0.305671              -0.396457   \n",
       "191              -0.397162              -0.737529               0.077105   \n",
       "198               0.842540               0.635265               0.553565   \n",
       "200              -0.161983               0.921634              -1.266657   \n",
       "211              -0.641057              -0.779727              -0.641403   \n",
       "218              -0.201027              -0.598149              -1.023182   \n",
       "224               0.100463              -0.123275               0.387984   \n",
       "229              -1.363305              -2.175493               0.380620   \n",
       "230              -2.195671              -3.274215               0.231525   \n",
       "\n",
       "     ShutInPressure_Fil (KPa)  ShutInPressure_Initial (KPa)  ISIP (KPa)  \\\n",
       "11                  -0.150821                      0.649564    0.821407   \n",
       "17                   1.108935                      1.062269    0.415960   \n",
       "18                   1.409205                      0.685262   -0.011269   \n",
       "31                   0.586550                      1.054447    0.552219   \n",
       "33                   1.265617                      0.488946   -0.431029   \n",
       "35                   0.561125                      1.011186    0.174238   \n",
       "36                  -0.178696                     -0.036956   -0.208470   \n",
       "38                   0.880920                      0.523589    1.324763   \n",
       "49                   1.194239                      1.235577    1.169842   \n",
       "61                   0.468299                      0.410480   -0.055963   \n",
       "77                   0.268533                      1.134729    0.441591   \n",
       "82                   0.694949                      1.199101    0.383822   \n",
       "97                  -0.379629                     -0.021538   -0.113031   \n",
       "122                  0.492959                      1.641729    0.423001   \n",
       "135                 -0.576077                      0.195651   -0.270795   \n",
       "146                 -0.020766                      0.108614   -0.061747   \n",
       "153                 -0.324553                      0.271600   -0.615375   \n",
       "155                  1.485771                      0.723898    0.773099   \n",
       "156                  0.952300                     -0.016451    0.700877   \n",
       "161                  0.605687                      0.845707   -0.097715   \n",
       "165                  0.662715                      1.177847   -0.267743   \n",
       "182                  0.316729                      1.565604   -0.062756   \n",
       "184                  0.633579                      1.465131    0.148033   \n",
       "187                 -0.819848                     -0.787359   -1.020529   \n",
       "188                  0.865890                      0.440253    1.106640   \n",
       "191                  0.182660                     -0.038409    0.189488   \n",
       "198                 -1.470026                     -1.426104   -1.364628   \n",
       "200                  0.194240                      0.297274    0.049944   \n",
       "211                  0.751142                      0.994248    0.003584   \n",
       "218                  0.409304                      1.569758    0.782992   \n",
       "224                  0.339049                      0.967131    0.239240   \n",
       "229                  0.876638                      0.860667    0.433414   \n",
       "230                  0.172257                      0.468252   -0.046052   \n",
       "\n",
       "     Shot_Density (shots/ft)  Shot_Total  Proppant_per_ft (kg/ft)  \\\n",
       "11                  0.667339    0.181738                 2.000416   \n",
       "17                  0.667339   -2.020122                 2.059906   \n",
       "18                  1.589433    0.211438                 1.874893   \n",
       "31                 -1.211929    0.181738                 2.015487   \n",
       "33                 -1.222198    0.169566                 1.980735   \n",
       "35                  0.667339   -0.545597                 1.838070   \n",
       "36                  0.667339   -0.560750                 1.890912   \n",
       "38                 -1.227375    0.181738                 4.525215   \n",
       "49                 -0.773433    0.924226                -1.596762   \n",
       "61                  0.667339   -0.560750                 1.988407   \n",
       "77                 -1.204433    0.181738                 2.124385   \n",
       "82                  0.667339   -0.546471                 1.980993   \n",
       "97                  0.667339   -0.560750                 2.116013   \n",
       "122                 0.667339   -0.560750                 1.958849   \n",
       "135                 0.478931   -0.706391                 2.050551   \n",
       "146                 0.691352   -0.542187                 2.070930   \n",
       "153                -1.253690    0.181738                 1.838079   \n",
       "155                 0.667339   -0.560750                 2.014093   \n",
       "156                 0.667339   -0.304519                 1.838746   \n",
       "161                 0.667339   -0.560750                 1.953286   \n",
       "165                 0.667339   -0.560750                 1.789922   \n",
       "182                 0.667339   -0.560750                 2.004483   \n",
       "184                 1.606024   -0.560750                 2.022621   \n",
       "187                 0.684491   -0.558098                 1.907934   \n",
       "188                -1.214486    0.181738                 1.448004   \n",
       "191                -1.253690   -0.560750                 1.923990   \n",
       "198                -1.253690    0.181738                 3.318026   \n",
       "200                 0.667339   -0.560750                 2.432601   \n",
       "211                 0.667339   -0.560750                 2.024112   \n",
       "218                 1.627854    0.181738                 1.875430   \n",
       "224                -1.253690    0.181738                 2.059286   \n",
       "229                 2.094231    0.542252                 1.890721   \n",
       "230                -1.253690    0.181738                 1.873128   \n",
       "\n",
       "     Stage_Spacing (ft)  \n",
       "11            -1.237434  \n",
       "17            -1.224804  \n",
       "18            -1.271133  \n",
       "31            -1.234429  \n",
       "33            -1.220407  \n",
       "35            -1.725533  \n",
       "36            -1.223798  \n",
       "38            -1.648490  \n",
       "49             1.037403  \n",
       "61            -1.233393  \n",
       "77            -1.248055  \n",
       "82            -1.225295  \n",
       "97            -1.253541  \n",
       "122           -1.217760  \n",
       "135           -1.242324  \n",
       "146           -1.239492  \n",
       "153           -1.189494  \n",
       "155           -1.239817  \n",
       "156           -1.215949  \n",
       "161           -1.224804  \n",
       "165           -1.229061  \n",
       "182           -1.225036  \n",
       "184           -1.230222  \n",
       "187           -1.204278  \n",
       "188           -1.234101  \n",
       "191           -0.974256  \n",
       "198           -1.227997  \n",
       "200           -1.100857  \n",
       "211           -1.224804  \n",
       "218           -1.186252  \n",
       "224           -1.238640  \n",
       "229           -1.472617  \n",
       "230           -1.200995  \n",
       "\n",
       "[33 rows x 46 columns]"
      ]
     },
     "execution_count": 292,
     "metadata": {},
     "output_type": "execute_result"
    },
    {
     "data": {
      "image/png": "[encoded data removed]",
      "text/plain": [
       "<matplotlib.figure.Figure at 0x169094c0128>"
      ]
     },
     "metadata": {},
     "output_type": "display_data"
    },
    {
     "data": {
      "image/png": "[encoded data removed]",
      "text/plain": [
       "<matplotlib.figure.Figure at 0x1690b2c74e0>"
      ]
     },
     "metadata": {},
     "output_type": "display_data"
    }
   ],
   "source": [
    "outs_Propp=vis_and_return_Outl(df,\"Proppant_per_ft (kg/ft)\",1.5)\n",
    "outs_Propp"
   ]
  },
  {
   "cell_type": "markdown",
   "metadata": {},
   "source": [
    "Looking at the histogram, we decide to change the outlying values > 4 to a less extreme value."
   ]
  },
  {
   "cell_type": "code",
   "execution_count": 293,
   "metadata": {
    "collapsed": true
   },
   "outputs": [],
   "source": [
    "rows=df[df[\"Proppant_per_ft (kg/ft)\"]>4].index\n",
    "df.loc[rows,\"Proppant_per_ft (kg/ft)\"]=np.mean(df[\"Proppant_per_ft (kg/ft)\"])"
   ]
  },
  {
   "cell_type": "markdown",
   "metadata": {},
   "source": [
    "#### Missing Values"
   ]
  },
  {
   "cell_type": "code",
   "execution_count": 294,
   "metadata": {},
   "outputs": [
    {
     "name": "stdout",
     "output_type": "stream",
     "text": [
      "0.799730223461\n",
      "Proppant_in_Formation (kg)\n"
     ]
    },
    {
     "data": {
      "text/plain": [
       "'Proppant_in_Formation (kg)'"
      ]
     },
     "execution_count": 294,
     "metadata": {},
     "output_type": "execute_result"
    }
   ],
   "source": [
    "missing_Prop=np.isnan(df[\"Proppant_per_ft (kg/ft)\"]) # 1 value\n",
    "find_cor('Proppant_per_ft (kg/ft)',df)"
   ]
  },
  {
   "cell_type": "code",
   "execution_count": 295,
   "metadata": {},
   "outputs": [
    {
     "name": "stdout",
     "output_type": "stream",
     "text": [
      "we estimate y= ax+b, with a equals:[ 0.75578907]\n"
     ]
    }
   ],
   "source": [
    "a3=lin_regr('Proppant_Designed (kg)','Proppant_per_ft (kg/ft)')\n",
    "m1=np.mean(df['Proppant_Designed (kg)'])\n",
    "m2=np.mean(df['Proppant_Designed (kg)'])\n",
    "rows=df['Proppant_per_ft (kg/ft)'][missing_Prop].index\n",
    "df.loc[rows,'Proppant_per_ft (kg/ft)']=(df['Proppant_Designed (kg)'][missing_Prop]- m1)*a3+ m2"
   ]
  },
  {
   "cell_type": "code",
   "execution_count": 296,
   "metadata": {},
   "outputs": [
    {
     "data": {
      "text/plain": [
       "<matplotlib.legend.Legend at 0x1690b351f28>"
      ]
     },
     "execution_count": 296,
     "metadata": {},
     "output_type": "execute_result"
    },
    {
     "data": {
      "image/png": "[encoded data removed]",
      "text/plain": [
       "<matplotlib.figure.Figure at 0x1690b323b00>"
      ]
     },
     "metadata": {},
     "output_type": "display_data"
    }
   ],
   "source": [
    "plt.figure(figsize=(6,6))\n",
    "plt.scatter(df['Proppant_Designed (kg)'][~missing_Prop],df['Proppant_per_ft (kg/ft)'][~missing_Prop],color='blue',s=5,label='originals')\n",
    "plt.scatter(df['Proppant_Designed (kg)'][missing_Prop],df['Proppant_per_ft (kg/ft)'][missing_Prop],color='red',s=50,label='replaced')\n",
    "plt.xlabel('Proppant_Des')\n",
    "plt.ylabel('Proppand_per_foot')\n",
    "plt.legend()"
   ]
  },
  {
   "cell_type": "markdown",
   "metadata": {},
   "source": [
    "### Proppant_in_Formation (kg)"
   ]
  },
  {
   "cell_type": "markdown",
   "metadata": {},
   "source": [
    "#### Outliers"
   ]
  },
  {
   "cell_type": "code",
   "execution_count": 297,
   "metadata": {},
   "outputs": [
    {
     "data": {
      "text/html": [
       "<div>\n",
       "<style>\n",
       "    .dataframe thead tr:only-child th {\n",
       "        text-align: right;\n",
       "    }\n",
       "\n",
       "    .dataframe thead th {\n",
       "        text-align: left;\n",
       "    }\n",
       "\n",
       "    .dataframe tbody tr th {\n",
       "        vertical-align: top;\n",
       "    }\n",
       "</style>\n",
       "<table border=\"1\" class=\"dataframe\">\n",
       "  <thead>\n",
       "    <tr style=\"text-align: right;\">\n",
       "      <th></th>\n",
       "      <th>API</th>\n",
       "      <th>Surf_X</th>\n",
       "      <th>Surf_Y</th>\n",
       "      <th>Date_Drilling</th>\n",
       "      <th>Date_Completion</th>\n",
       "      <th>Date_Production</th>\n",
       "      <th>deltaT_Comp_Prod</th>\n",
       "      <th>Lateral_Length (ft)</th>\n",
       "      <th>Depth_TVD_PPLS (ft)</th>\n",
       "      <th>Erosion_PPLS (ft)</th>\n",
       "      <th>...</th>\n",
       "      <th>Avg_Rate_Slurry (bpm)</th>\n",
       "      <th>Max_Rate_Slurry (bpm)</th>\n",
       "      <th>Min_Rate_Slurry (bpm)</th>\n",
       "      <th>ShutInPressure_Fil (KPa)</th>\n",
       "      <th>ShutInPressure_Initial (KPa)</th>\n",
       "      <th>ISIP (KPa)</th>\n",
       "      <th>Shot_Density (shots/ft)</th>\n",
       "      <th>Shot_Total</th>\n",
       "      <th>Proppant_per_ft (kg/ft)</th>\n",
       "      <th>Stage_Spacing (ft)</th>\n",
       "    </tr>\n",
       "  </thead>\n",
       "  <tbody>\n",
       "  </tbody>\n",
       "</table>\n",
       "<p>0 rows × 46 columns</p>\n",
       "</div>"
      ],
      "text/plain": [
       "Empty DataFrame\n",
       "Columns: [API, Surf_X, Surf_Y, Date_Drilling, Date_Completion, Date_Production, deltaT_Comp_Prod, Lateral_Length (ft), Depth_TVD_PPLS (ft), Erosion_PPLS (ft), Pressure_PPLS (PSI), TOC_PPLS (%), Vcarb_PPLS, Vsand_PPLS, Vclay_PPLS, PR_PPLS, YM_PPLS (PSI), RHOB_PPLS (g/cc), Res_PPLS (Ohmm), GR_PPLS (API), DT_PPLS (us/ft), DTs_PPLS (us/ft), Temperature (F), Temp_Anomaly (F), S3Tect_PPLS (PSI), S3_contrast_PPLS (PSI), Heat_Flow (W/m2), Zone, Nbr_Stages, Frac_Gradient (PSI/ft), Proppant_Designed (kg), Proppant_in_Formation (kg), Avg_Breakdown_Pressure (KPa), Avg_Treating_Pressure (KPa), Max_Treating_pressure (KPa), Min_Treating_Pressure (KPa), Avg_Rate_Slurry (bpm), Max_Rate_Slurry (bpm), Min_Rate_Slurry (bpm), ShutInPressure_Fil (KPa), ShutInPressure_Initial (KPa), ISIP (KPa), Shot_Density (shots/ft), Shot_Total, Proppant_per_ft (kg/ft), Stage_Spacing (ft)]\n",
       "Index: []\n",
       "\n",
       "[0 rows x 46 columns]"
      ]
     },
     "execution_count": 297,
     "metadata": {},
     "output_type": "execute_result"
    },
    {
     "data": {
      "image/png": "[encoded data removed]",
      "text/plain": [
       "<matplotlib.figure.Figure at 0x16907f5f128>"
      ]
     },
     "metadata": {},
     "output_type": "display_data"
    },
    {
     "data": {
      "image/png": "[encoded data removed]",
      "text/plain": [
       "<matplotlib.figure.Figure at 0x1690b67b1d0>"
      ]
     },
     "metadata": {},
     "output_type": "display_data"
    }
   ],
   "source": [
    "outs_Propp_Form=vis_and_return_Outl(df,\"Proppant_in_Formation (kg)\",4,delta=0.3,a=-2,b=4)\n",
    "outs_Propp_Form"
   ]
  },
  {
   "cell_type": "markdown",
   "metadata": {},
   "source": [
    "#### Missing Values"
   ]
  },
  {
   "cell_type": "code",
   "execution_count": 298,
   "metadata": {},
   "outputs": [
    {
     "name": "stdout",
     "output_type": "stream",
     "text": [
      "0.998871621011\n",
      "Proppant_Designed (kg)\n"
     ]
    },
    {
     "data": {
      "text/plain": [
       "'Proppant_Designed (kg)'"
      ]
     },
     "execution_count": 298,
     "metadata": {},
     "output_type": "execute_result"
    }
   ],
   "source": [
    "missing_Prop_Form=np.isnan(df[\"Proppant_in_Formation (kg)\"]) # 1 value\n",
    "find_cor('Proppant_in_Formation (kg)',df)"
   ]
  },
  {
   "cell_type": "code",
   "execution_count": 299,
   "metadata": {},
   "outputs": [
    {
     "name": "stdout",
     "output_type": "stream",
     "text": [
      "we estimate y= ax+b, with a equals:[ 0.99896482]\n"
     ]
    }
   ],
   "source": [
    "a4=lin_regr('Proppant_Designed (kg)','Proppant_in_Formation (kg)')\n",
    "m1=np.mean(df['Proppant_Designed (kg)'])\n",
    "m2=np.mean(df['Proppant_Designed (kg)'])\n",
    "rows=df['Proppant_in_Formation (kg)'][missing_Prop].index\n",
    "df.loc[rows,'Proppant_in_Formation (kg)']=(df['Proppant_Designed (kg)'][missing_Prop]- m1)*a3+ m2"
   ]
  },
  {
   "cell_type": "code",
   "execution_count": 300,
   "metadata": {},
   "outputs": [
    {
     "data": {
      "text/plain": [
       "<matplotlib.legend.Legend at 0x1690b708048>"
      ]
     },
     "execution_count": 300,
     "metadata": {},
     "output_type": "execute_result"
    },
    {
     "data": {
      "image/png": "[encoded data removed]",
      "text/plain": [
       "<matplotlib.figure.Figure at 0x1690b708fd0>"
      ]
     },
     "metadata": {},
     "output_type": "display_data"
    }
   ],
   "source": [
    "plt.figure(figsize=(6,6))\n",
    "plt.scatter(df['Proppant_Designed (kg)'][~missing_Prop],df['Proppant_per_ft (kg/ft)'][~missing_Prop],color='blue',s=5,label='originals')\n",
    "plt.scatter(df['Proppant_Designed (kg)'][missing_Prop],df['Proppant_per_ft (kg/ft)'][missing_Prop],color='red',s=50,label='replaced')\n",
    "plt.xlabel('Proppant_Des')\n",
    "plt.ylabel('Proppand_per_foot')\n",
    "plt.legend()"
   ]
  },
  {
   "cell_type": "markdown",
   "metadata": {},
   "source": [
    "### Avg_Breakdown_Pressure (KPa)"
   ]
  },
  {
   "cell_type": "code",
   "execution_count": 301,
   "metadata": {},
   "outputs": [
    {
     "data": {
      "text/html": [
       "<div>\n",
       "<style>\n",
       "    .dataframe thead tr:only-child th {\n",
       "        text-align: right;\n",
       "    }\n",
       "\n",
       "    .dataframe thead th {\n",
       "        text-align: left;\n",
       "    }\n",
       "\n",
       "    .dataframe tbody tr th {\n",
       "        vertical-align: top;\n",
       "    }\n",
       "</style>\n",
       "<table border=\"1\" class=\"dataframe\">\n",
       "  <thead>\n",
       "    <tr style=\"text-align: right;\">\n",
       "      <th></th>\n",
       "      <th>API</th>\n",
       "      <th>Surf_X</th>\n",
       "      <th>Surf_Y</th>\n",
       "      <th>Date_Drilling</th>\n",
       "      <th>Date_Completion</th>\n",
       "      <th>Date_Production</th>\n",
       "      <th>deltaT_Comp_Prod</th>\n",
       "      <th>Lateral_Length (ft)</th>\n",
       "      <th>Depth_TVD_PPLS (ft)</th>\n",
       "      <th>Erosion_PPLS (ft)</th>\n",
       "      <th>...</th>\n",
       "      <th>Avg_Rate_Slurry (bpm)</th>\n",
       "      <th>Max_Rate_Slurry (bpm)</th>\n",
       "      <th>Min_Rate_Slurry (bpm)</th>\n",
       "      <th>ShutInPressure_Fil (KPa)</th>\n",
       "      <th>ShutInPressure_Initial (KPa)</th>\n",
       "      <th>ISIP (KPa)</th>\n",
       "      <th>Shot_Density (shots/ft)</th>\n",
       "      <th>Shot_Total</th>\n",
       "      <th>Proppant_per_ft (kg/ft)</th>\n",
       "      <th>Stage_Spacing (ft)</th>\n",
       "    </tr>\n",
       "  </thead>\n",
       "  <tbody>\n",
       "    <tr>\n",
       "      <th>43</th>\n",
       "      <td>297</td>\n",
       "      <td>0.610026</td>\n",
       "      <td>-0.004224</td>\n",
       "      <td>2014-03-20</td>\n",
       "      <td>2014-08-13</td>\n",
       "      <td>2014-11-22</td>\n",
       "      <td>101.0</td>\n",
       "      <td>1.403510</td>\n",
       "      <td>-0.651916</td>\n",
       "      <td>-1.020316</td>\n",
       "      <td>...</td>\n",
       "      <td>-1.088836</td>\n",
       "      <td>-0.794859</td>\n",
       "      <td>-0.973107</td>\n",
       "      <td>-0.464512</td>\n",
       "      <td>0.547604</td>\n",
       "      <td>-0.216831</td>\n",
       "      <td>0.667339</td>\n",
       "      <td>-0.560750</td>\n",
       "      <td>-0.612267</td>\n",
       "      <td>-0.188090</td>\n",
       "    </tr>\n",
       "    <tr>\n",
       "      <th>58</th>\n",
       "      <td>99</td>\n",
       "      <td>0.415835</td>\n",
       "      <td>-0.199180</td>\n",
       "      <td>2013-05-20</td>\n",
       "      <td>2014-08-03</td>\n",
       "      <td>2014-03-05</td>\n",
       "      <td>-151.0</td>\n",
       "      <td>-1.173361</td>\n",
       "      <td>-0.197781</td>\n",
       "      <td>-1.241281</td>\n",
       "      <td>...</td>\n",
       "      <td>-0.267348</td>\n",
       "      <td>-0.385934</td>\n",
       "      <td>0.431449</td>\n",
       "      <td>-0.561384</td>\n",
       "      <td>0.343135</td>\n",
       "      <td>0.037660</td>\n",
       "      <td>-1.253690</td>\n",
       "      <td>0.181738</td>\n",
       "      <td>-0.416286</td>\n",
       "      <td>-0.226474</td>\n",
       "    </tr>\n",
       "    <tr>\n",
       "      <th>74</th>\n",
       "      <td>60</td>\n",
       "      <td>-0.382794</td>\n",
       "      <td>0.830152</td>\n",
       "      <td>2014-08-22</td>\n",
       "      <td>2015-04-02</td>\n",
       "      <td>2015-09-05</td>\n",
       "      <td>156.0</td>\n",
       "      <td>1.433380</td>\n",
       "      <td>-0.975140</td>\n",
       "      <td>-0.775980</td>\n",
       "      <td>...</td>\n",
       "      <td>-2.013844</td>\n",
       "      <td>-1.987019</td>\n",
       "      <td>-1.101833</td>\n",
       "      <td>0.551765</td>\n",
       "      <td>1.187099</td>\n",
       "      <td>0.738545</td>\n",
       "      <td>0.692127</td>\n",
       "      <td>-0.484106</td>\n",
       "      <td>-0.600647</td>\n",
       "      <td>-0.097479</td>\n",
       "    </tr>\n",
       "  </tbody>\n",
       "</table>\n",
       "<p>3 rows × 46 columns</p>\n",
       "</div>"
      ],
      "text/plain": [
       "    API    Surf_X    Surf_Y Date_Drilling Date_Completion Date_Production  \\\n",
       "43  297  0.610026 -0.004224    2014-03-20      2014-08-13      2014-11-22   \n",
       "58   99  0.415835 -0.199180    2013-05-20      2014-08-03      2014-03-05   \n",
       "74   60 -0.382794  0.830152    2014-08-22      2015-04-02      2015-09-05   \n",
       "\n",
       "    deltaT_Comp_Prod  Lateral_Length (ft)  Depth_TVD_PPLS (ft)  \\\n",
       "43             101.0             1.403510            -0.651916   \n",
       "58            -151.0            -1.173361            -0.197781   \n",
       "74             156.0             1.433380            -0.975140   \n",
       "\n",
       "    Erosion_PPLS (ft)         ...          Avg_Rate_Slurry (bpm)  \\\n",
       "43          -1.020316         ...                      -1.088836   \n",
       "58          -1.241281         ...                      -0.267348   \n",
       "74          -0.775980         ...                      -2.013844   \n",
       "\n",
       "    Max_Rate_Slurry (bpm)  Min_Rate_Slurry (bpm)  ShutInPressure_Fil (KPa)  \\\n",
       "43              -0.794859              -0.973107                 -0.464512   \n",
       "58              -0.385934               0.431449                 -0.561384   \n",
       "74              -1.987019              -1.101833                  0.551765   \n",
       "\n",
       "    ShutInPressure_Initial (KPa)  ISIP (KPa)  Shot_Density (shots/ft)  \\\n",
       "43                      0.547604   -0.216831                 0.667339   \n",
       "58                      0.343135    0.037660                -1.253690   \n",
       "74                      1.187099    0.738545                 0.692127   \n",
       "\n",
       "    Shot_Total  Proppant_per_ft (kg/ft)  Stage_Spacing (ft)  \n",
       "43   -0.560750                -0.612267           -0.188090  \n",
       "58    0.181738                -0.416286           -0.226474  \n",
       "74   -0.484106                -0.600647           -0.097479  \n",
       "\n",
       "[3 rows x 46 columns]"
      ]
     },
     "execution_count": 301,
     "metadata": {},
     "output_type": "execute_result"
    },
    {
     "data": {
      "image/png": "[encoded data removed]",
      "text/plain": [
       "<matplotlib.figure.Figure at 0x1690b71a470>"
      ]
     },
     "metadata": {},
     "output_type": "display_data"
    },
    {
     "data": {
      "image/png": "[encoded data removed]",
      "text/plain": [
       "<matplotlib.figure.Figure at 0x1690b6f0860>"
      ]
     },
     "metadata": {},
     "output_type": "display_data"
    }
   ],
   "source": [
    "outs_Abp=vis_and_return_Outl(df,'Avg_Breakdown_Pressure (KPa)',1.5,delta=0.3,a=-3,b=5)\n",
    "outs_Abp"
   ]
  },
  {
   "cell_type": "markdown",
   "metadata": {},
   "source": [
    "We do not see huge outliers."
   ]
  },
  {
   "cell_type": "markdown",
   "metadata": {},
   "source": [
    "#### Missing Values"
   ]
  },
  {
   "cell_type": "code",
   "execution_count": 302,
   "metadata": {},
   "outputs": [
    {
     "data": {
      "text/html": [
       "<div>\n",
       "<style>\n",
       "    .dataframe thead tr:only-child th {\n",
       "        text-align: right;\n",
       "    }\n",
       "\n",
       "    .dataframe thead th {\n",
       "        text-align: left;\n",
       "    }\n",
       "\n",
       "    .dataframe tbody tr th {\n",
       "        vertical-align: top;\n",
       "    }\n",
       "</style>\n",
       "<table border=\"1\" class=\"dataframe\">\n",
       "  <thead>\n",
       "    <tr style=\"text-align: right;\">\n",
       "      <th></th>\n",
       "      <th>API</th>\n",
       "      <th>Surf_X</th>\n",
       "      <th>Surf_Y</th>\n",
       "      <th>Date_Drilling</th>\n",
       "      <th>Date_Completion</th>\n",
       "      <th>Date_Production</th>\n",
       "      <th>deltaT_Comp_Prod</th>\n",
       "      <th>Lateral_Length (ft)</th>\n",
       "      <th>Depth_TVD_PPLS (ft)</th>\n",
       "      <th>Erosion_PPLS (ft)</th>\n",
       "      <th>...</th>\n",
       "      <th>Avg_Rate_Slurry (bpm)</th>\n",
       "      <th>Max_Rate_Slurry (bpm)</th>\n",
       "      <th>Min_Rate_Slurry (bpm)</th>\n",
       "      <th>ShutInPressure_Fil (KPa)</th>\n",
       "      <th>ShutInPressure_Initial (KPa)</th>\n",
       "      <th>ISIP (KPa)</th>\n",
       "      <th>Shot_Density (shots/ft)</th>\n",
       "      <th>Shot_Total</th>\n",
       "      <th>Proppant_per_ft (kg/ft)</th>\n",
       "      <th>Stage_Spacing (ft)</th>\n",
       "    </tr>\n",
       "  </thead>\n",
       "  <tbody>\n",
       "    <tr>\n",
       "      <th>55</th>\n",
       "      <td>89</td>\n",
       "      <td>0.097504</td>\n",
       "      <td>-1.156570</td>\n",
       "      <td>2012-04-11</td>\n",
       "      <td>2012-12-18</td>\n",
       "      <td>2013-04-28</td>\n",
       "      <td>131.0</td>\n",
       "      <td>-0.746475</td>\n",
       "      <td>1.656275</td>\n",
       "      <td>-0.688549</td>\n",
       "      <td>...</td>\n",
       "      <td>0.822106</td>\n",
       "      <td>0.386192</td>\n",
       "      <td>0.799660</td>\n",
       "      <td>-1.055466</td>\n",
       "      <td>-1.786306</td>\n",
       "      <td>-0.242325</td>\n",
       "      <td>0.667339</td>\n",
       "      <td>-0.560750</td>\n",
       "      <td>-0.448796</td>\n",
       "      <td>0.138586</td>\n",
       "    </tr>\n",
       "    <tr>\n",
       "      <th>73</th>\n",
       "      <td>466</td>\n",
       "      <td>0.105477</td>\n",
       "      <td>-0.348533</td>\n",
       "      <td>2013-04-01</td>\n",
       "      <td>2013-07-04</td>\n",
       "      <td>2013-06-28</td>\n",
       "      <td>-6.0</td>\n",
       "      <td>-0.930048</td>\n",
       "      <td>0.360398</td>\n",
       "      <td>0.194773</td>\n",
       "      <td>...</td>\n",
       "      <td>1.251988</td>\n",
       "      <td>0.553912</td>\n",
       "      <td>0.836650</td>\n",
       "      <td>-0.760731</td>\n",
       "      <td>-0.261445</td>\n",
       "      <td>0.359970</td>\n",
       "      <td>-0.773433</td>\n",
       "      <td>0.924226</td>\n",
       "      <td>-0.502659</td>\n",
       "      <td>0.335789</td>\n",
       "    </tr>\n",
       "    <tr>\n",
       "      <th>221</th>\n",
       "      <td>161</td>\n",
       "      <td>0.000346</td>\n",
       "      <td>-0.464729</td>\n",
       "      <td>2014-04-04</td>\n",
       "      <td>2014-08-24</td>\n",
       "      <td>2014-10-23</td>\n",
       "      <td>60.0</td>\n",
       "      <td>-0.230603</td>\n",
       "      <td>0.661447</td>\n",
       "      <td>0.531779</td>\n",
       "      <td>...</td>\n",
       "      <td>NaN</td>\n",
       "      <td>NaN</td>\n",
       "      <td>NaN</td>\n",
       "      <td>-0.178696</td>\n",
       "      <td>-0.036956</td>\n",
       "      <td>-0.083116</td>\n",
       "      <td>0.667339</td>\n",
       "      <td>-0.560750</td>\n",
       "      <td>0.708264</td>\n",
       "      <td>-1.201949</td>\n",
       "    </tr>\n",
       "    <tr>\n",
       "      <th>222</th>\n",
       "      <td>578</td>\n",
       "      <td>0.656337</td>\n",
       "      <td>-0.845575</td>\n",
       "      <td>2011-07-19</td>\n",
       "      <td>2011-08-29</td>\n",
       "      <td>2011-01-10</td>\n",
       "      <td>-231.0</td>\n",
       "      <td>-1.111132</td>\n",
       "      <td>0.714587</td>\n",
       "      <td>-1.425870</td>\n",
       "      <td>...</td>\n",
       "      <td>0.645298</td>\n",
       "      <td>0.574355</td>\n",
       "      <td>0.618225</td>\n",
       "      <td>-1.492132</td>\n",
       "      <td>-1.343424</td>\n",
       "      <td>-2.374262</td>\n",
       "      <td>-0.293176</td>\n",
       "      <td>1.666713</td>\n",
       "      <td>-0.201509</td>\n",
       "      <td>1.221423</td>\n",
       "    </tr>\n",
       "  </tbody>\n",
       "</table>\n",
       "<p>4 rows × 46 columns</p>\n",
       "</div>"
      ],
      "text/plain": [
       "     API    Surf_X    Surf_Y Date_Drilling Date_Completion Date_Production  \\\n",
       "55    89  0.097504 -1.156570    2012-04-11      2012-12-18      2013-04-28   \n",
       "73   466  0.105477 -0.348533    2013-04-01      2013-07-04      2013-06-28   \n",
       "221  161  0.000346 -0.464729    2014-04-04      2014-08-24      2014-10-23   \n",
       "222  578  0.656337 -0.845575    2011-07-19      2011-08-29      2011-01-10   \n",
       "\n",
       "     deltaT_Comp_Prod  Lateral_Length (ft)  Depth_TVD_PPLS (ft)  \\\n",
       "55              131.0            -0.746475             1.656275   \n",
       "73               -6.0            -0.930048             0.360398   \n",
       "221              60.0            -0.230603             0.661447   \n",
       "222            -231.0            -1.111132             0.714587   \n",
       "\n",
       "     Erosion_PPLS (ft)         ...          Avg_Rate_Slurry (bpm)  \\\n",
       "55           -0.688549         ...                       0.822106   \n",
       "73            0.194773         ...                       1.251988   \n",
       "221           0.531779         ...                            NaN   \n",
       "222          -1.425870         ...                       0.645298   \n",
       "\n",
       "     Max_Rate_Slurry (bpm)  Min_Rate_Slurry (bpm)  ShutInPressure_Fil (KPa)  \\\n",
       "55                0.386192               0.799660                 -1.055466   \n",
       "73                0.553912               0.836650                 -0.760731   \n",
       "221                    NaN                    NaN                 -0.178696   \n",
       "222               0.574355               0.618225                 -1.492132   \n",
       "\n",
       "     ShutInPressure_Initial (KPa)  ISIP (KPa)  Shot_Density (shots/ft)  \\\n",
       "55                      -1.786306   -0.242325                 0.667339   \n",
       "73                      -0.261445    0.359970                -0.773433   \n",
       "221                     -0.036956   -0.083116                 0.667339   \n",
       "222                     -1.343424   -2.374262                -0.293176   \n",
       "\n",
       "     Shot_Total  Proppant_per_ft (kg/ft)  Stage_Spacing (ft)  \n",
       "55    -0.560750                -0.448796            0.138586  \n",
       "73     0.924226                -0.502659            0.335789  \n",
       "221   -0.560750                 0.708264           -1.201949  \n",
       "222    1.666713                -0.201509            1.221423  \n",
       "\n",
       "[4 rows x 46 columns]"
      ]
     },
     "execution_count": 302,
     "metadata": {},
     "output_type": "execute_result"
    }
   ],
   "source": [
    "missing_Abp=np.isnan(df[\"Avg_Breakdown_Pressure (KPa)\"]) # 1 value\n",
    "df[missing_Abp] # 4 missing values"
   ]
  },
  {
   "cell_type": "markdown",
   "metadata": {},
   "source": [
    "As there is no other variable with high correlation, we just replace missing values by mean."
   ]
  },
  {
   "cell_type": "code",
   "execution_count": 303,
   "metadata": {
    "collapsed": true
   },
   "outputs": [],
   "source": [
    "rows=df[missing_Abp].index\n",
    "df.loc[rows,'Avg_Breakdown_Pressure (KPa)']=np.mean(df['Avg_Breakdown_Pressure (KPa)'])"
   ]
  },
  {
   "cell_type": "markdown",
   "metadata": {},
   "source": [
    "### Avg/Min/Max_Treating_Pressure (KPa)"
   ]
  },
  {
   "cell_type": "markdown",
   "metadata": {
    "collapsed": true
   },
   "source": [
    "\n",
    "we treat this variables together  as they are highly correlated.\n",
    "\n",
    "cor(Avg,Min) =0.80\n",
    "cor(Avg,Max) =0.46\n",
    "cor(Min,Max) =0.30"
   ]
  },
  {
   "cell_type": "code",
   "execution_count": 304,
   "metadata": {},
   "outputs": [
    {
     "data": {
      "text/html": [
       "<div>\n",
       "<style>\n",
       "    .dataframe thead tr:only-child th {\n",
       "        text-align: right;\n",
       "    }\n",
       "\n",
       "    .dataframe thead th {\n",
       "        text-align: left;\n",
       "    }\n",
       "\n",
       "    .dataframe tbody tr th {\n",
       "        vertical-align: top;\n",
       "    }\n",
       "</style>\n",
       "<table border=\"1\" class=\"dataframe\">\n",
       "  <thead>\n",
       "    <tr style=\"text-align: right;\">\n",
       "      <th></th>\n",
       "      <th>API</th>\n",
       "      <th>Surf_X</th>\n",
       "      <th>Surf_Y</th>\n",
       "      <th>Date_Drilling</th>\n",
       "      <th>Date_Completion</th>\n",
       "      <th>Date_Production</th>\n",
       "      <th>deltaT_Comp_Prod</th>\n",
       "      <th>Lateral_Length (ft)</th>\n",
       "      <th>Depth_TVD_PPLS (ft)</th>\n",
       "      <th>Erosion_PPLS (ft)</th>\n",
       "      <th>...</th>\n",
       "      <th>Avg_Rate_Slurry (bpm)</th>\n",
       "      <th>Max_Rate_Slurry (bpm)</th>\n",
       "      <th>Min_Rate_Slurry (bpm)</th>\n",
       "      <th>ShutInPressure_Fil (KPa)</th>\n",
       "      <th>ShutInPressure_Initial (KPa)</th>\n",
       "      <th>ISIP (KPa)</th>\n",
       "      <th>Shot_Density (shots/ft)</th>\n",
       "      <th>Shot_Total</th>\n",
       "      <th>Proppant_per_ft (kg/ft)</th>\n",
       "      <th>Stage_Spacing (ft)</th>\n",
       "    </tr>\n",
       "  </thead>\n",
       "  <tbody>\n",
       "  </tbody>\n",
       "</table>\n",
       "<p>0 rows × 46 columns</p>\n",
       "</div>"
      ],
      "text/plain": [
       "Empty DataFrame\n",
       "Columns: [API, Surf_X, Surf_Y, Date_Drilling, Date_Completion, Date_Production, deltaT_Comp_Prod, Lateral_Length (ft), Depth_TVD_PPLS (ft), Erosion_PPLS (ft), Pressure_PPLS (PSI), TOC_PPLS (%), Vcarb_PPLS, Vsand_PPLS, Vclay_PPLS, PR_PPLS, YM_PPLS (PSI), RHOB_PPLS (g/cc), Res_PPLS (Ohmm), GR_PPLS (API), DT_PPLS (us/ft), DTs_PPLS (us/ft), Temperature (F), Temp_Anomaly (F), S3Tect_PPLS (PSI), S3_contrast_PPLS (PSI), Heat_Flow (W/m2), Zone, Nbr_Stages, Frac_Gradient (PSI/ft), Proppant_Designed (kg), Proppant_in_Formation (kg), Avg_Breakdown_Pressure (KPa), Avg_Treating_Pressure (KPa), Max_Treating_pressure (KPa), Min_Treating_Pressure (KPa), Avg_Rate_Slurry (bpm), Max_Rate_Slurry (bpm), Min_Rate_Slurry (bpm), ShutInPressure_Fil (KPa), ShutInPressure_Initial (KPa), ISIP (KPa), Shot_Density (shots/ft), Shot_Total, Proppant_per_ft (kg/ft), Stage_Spacing (ft)]\n",
       "Index: []\n",
       "\n",
       "[0 rows x 46 columns]"
      ]
     },
     "execution_count": 304,
     "metadata": {},
     "output_type": "execute_result"
    },
    {
     "data": {
      "image/png": "[encoded data removed]",
      "text/plain": [
       "<matplotlib.figure.Figure at 0x1690b798b00>"
      ]
     },
     "metadata": {},
     "output_type": "display_data"
    },
    {
     "data": {
      "image/png": "[encoded data removed]",
      "text/plain": [
       "<matplotlib.figure.Figure at 0x1690b863ac8>"
      ]
     },
     "metadata": {},
     "output_type": "display_data"
    }
   ],
   "source": [
    "outs_Atp=vis_and_return_Outl(df,'Avg_Treating_Pressure (KPa)',3,delta=0.3,a=-5,b=5)#\n",
    "outs_Atp"
   ]
  },
  {
   "cell_type": "markdown",
   "metadata": {},
   "source": [
    "To the left side of the histogram, it seems that there are same outliers.\n",
    "We plot against correlated variables to see more.."
   ]
  },
  {
   "cell_type": "code",
   "execution_count": 305,
   "metadata": {},
   "outputs": [
    {
     "data": {
      "text/plain": [
       "<matplotlib.collections.PathCollection at 0x1690cb8ca90>"
      ]
     },
     "execution_count": 305,
     "metadata": {},
     "output_type": "execute_result"
    },
    {
     "data": {
      "image/png": "[encoded data removed]",
      "text/plain": [
       "<matplotlib.figure.Figure at 0x1690b882128>"
      ]
     },
     "metadata": {},
     "output_type": "display_data"
    }
   ],
   "source": [
    "plt.scatter(df['Avg_Treating_Pressure (KPa)'],df['Min_Treating_Pressure (KPa)'])"
   ]
  },
  {
   "cell_type": "markdown",
   "metadata": {},
   "source": [
    "    We decided only to delete the outliers with values < - 2.5\n"
   ]
  },
  {
   "cell_type": "code",
   "execution_count": 306,
   "metadata": {},
   "outputs": [],
   "source": [
    "rows=outs_Atp.index\n",
    "df.loc[rows,'Avg_Treating_Pressure (KPa)']=np.nan\n"
   ]
  },
  {
   "cell_type": "code",
   "execution_count": 307,
   "metadata": {},
   "outputs": [
    {
     "data": {
      "image/png": "[encoded data removed]",
      "text/plain": [
       "<matplotlib.figure.Figure at 0x1690cb68eb8>"
      ]
     },
     "metadata": {},
     "output_type": "display_data"
    },
    {
     "data": {
      "image/png": "[encoded data removed]",
      "text/plain": [
       "<matplotlib.figure.Figure at 0x1690cbe76a0>"
      ]
     },
     "metadata": {},
     "output_type": "display_data"
    }
   ],
   "source": [
    "outs_Mitp=vis_and_return_Outl(df,'Min_Treating_Pressure (KPa)',4.1,delta=0.3,a=-5,b=5)\n",
    "rows=outs_Mitp.index\n",
    "df.loc[rows,'Min_Treating_Pressure (KPa)']=np.nan # delete outliers determinded by boxplot"
   ]
  },
  {
   "cell_type": "code",
   "execution_count": 308,
   "metadata": {},
   "outputs": [
    {
     "data": {
      "image/png": "[encoded data removed]",
      "text/plain": [
       "<matplotlib.figure.Figure at 0x1690cc469b0>"
      ]
     },
     "metadata": {},
     "output_type": "display_data"
    }
   ],
   "source": [
    "plt.scatter(df['Avg_Treating_Pressure (KPa)'],df['Min_Treating_Pressure (KPa)'])\n",
    "rows=df[df['Min_Treating_Pressure (KPa)'] >1.4].index\n",
    "df.loc[rows,'Min_Treating_Pressure (KPa)']=0"
   ]
  },
  {
   "cell_type": "code",
   "execution_count": 309,
   "metadata": {},
   "outputs": [
    {
     "data": {
      "text/html": [
       "<div>\n",
       "<style>\n",
       "    .dataframe thead tr:only-child th {\n",
       "        text-align: right;\n",
       "    }\n",
       "\n",
       "    .dataframe thead th {\n",
       "        text-align: left;\n",
       "    }\n",
       "\n",
       "    .dataframe tbody tr th {\n",
       "        vertical-align: top;\n",
       "    }\n",
       "</style>\n",
       "<table border=\"1\" class=\"dataframe\">\n",
       "  <thead>\n",
       "    <tr style=\"text-align: right;\">\n",
       "      <th></th>\n",
       "      <th>API</th>\n",
       "      <th>Surf_X</th>\n",
       "      <th>Surf_Y</th>\n",
       "      <th>Date_Drilling</th>\n",
       "      <th>Date_Completion</th>\n",
       "      <th>Date_Production</th>\n",
       "      <th>deltaT_Comp_Prod</th>\n",
       "      <th>Lateral_Length (ft)</th>\n",
       "      <th>Depth_TVD_PPLS (ft)</th>\n",
       "      <th>Erosion_PPLS (ft)</th>\n",
       "      <th>...</th>\n",
       "      <th>Avg_Rate_Slurry (bpm)</th>\n",
       "      <th>Max_Rate_Slurry (bpm)</th>\n",
       "      <th>Min_Rate_Slurry (bpm)</th>\n",
       "      <th>ShutInPressure_Fil (KPa)</th>\n",
       "      <th>ShutInPressure_Initial (KPa)</th>\n",
       "      <th>ISIP (KPa)</th>\n",
       "      <th>Shot_Density (shots/ft)</th>\n",
       "      <th>Shot_Total</th>\n",
       "      <th>Proppant_per_ft (kg/ft)</th>\n",
       "      <th>Stage_Spacing (ft)</th>\n",
       "    </tr>\n",
       "  </thead>\n",
       "  <tbody>\n",
       "    <tr>\n",
       "      <th>127</th>\n",
       "      <td>109</td>\n",
       "      <td>-2.352500</td>\n",
       "      <td>1.620195</td>\n",
       "      <td>2013-12-13</td>\n",
       "      <td>2014-04-15</td>\n",
       "      <td>2016-11-05</td>\n",
       "      <td>935.0</td>\n",
       "      <td>-1.280393</td>\n",
       "      <td>0.298965</td>\n",
       "      <td>0.809975</td>\n",
       "      <td>...</td>\n",
       "      <td>0.538420</td>\n",
       "      <td>0.546580</td>\n",
       "      <td>0.459046</td>\n",
       "      <td>-0.040905</td>\n",
       "      <td>0.116732</td>\n",
       "      <td>-0.212683</td>\n",
       "      <td>-1.253690</td>\n",
       "      <td>0.181738</td>\n",
       "      <td>-0.132707</td>\n",
       "      <td>-0.560197</td>\n",
       "    </tr>\n",
       "    <tr>\n",
       "      <th>153</th>\n",
       "      <td>775</td>\n",
       "      <td>0.195680</td>\n",
       "      <td>0.655966</td>\n",
       "      <td>2014-02-13</td>\n",
       "      <td>2014-02-08</td>\n",
       "      <td>2014-09-17</td>\n",
       "      <td>221.0</td>\n",
       "      <td>-0.578459</td>\n",
       "      <td>-1.333584</td>\n",
       "      <td>-1.633377</td>\n",
       "      <td>...</td>\n",
       "      <td>-0.433414</td>\n",
       "      <td>-0.536376</td>\n",
       "      <td>-0.750022</td>\n",
       "      <td>-0.324553</td>\n",
       "      <td>0.271600</td>\n",
       "      <td>-0.615375</td>\n",
       "      <td>-1.253690</td>\n",
       "      <td>0.181738</td>\n",
       "      <td>1.838079</td>\n",
       "      <td>-1.189494</td>\n",
       "    </tr>\n",
       "    <tr>\n",
       "      <th>204</th>\n",
       "      <td>260</td>\n",
       "      <td>-2.158496</td>\n",
       "      <td>1.665525</td>\n",
       "      <td>2013-09-17</td>\n",
       "      <td>2013-03-12</td>\n",
       "      <td>2016-02-05</td>\n",
       "      <td>1060.0</td>\n",
       "      <td>-0.669312</td>\n",
       "      <td>-0.162375</td>\n",
       "      <td>1.004901</td>\n",
       "      <td>...</td>\n",
       "      <td>-1.027368</td>\n",
       "      <td>-1.447592</td>\n",
       "      <td>0.253667</td>\n",
       "      <td>-0.468786</td>\n",
       "      <td>-0.416572</td>\n",
       "      <td>0.191529</td>\n",
       "      <td>-1.253690</td>\n",
       "      <td>0.181738</td>\n",
       "      <td>-0.754003</td>\n",
       "      <td>-0.222105</td>\n",
       "    </tr>\n",
       "    <tr>\n",
       "      <th>222</th>\n",
       "      <td>578</td>\n",
       "      <td>0.656337</td>\n",
       "      <td>-0.845575</td>\n",
       "      <td>2011-07-19</td>\n",
       "      <td>2011-08-29</td>\n",
       "      <td>2011-01-10</td>\n",
       "      <td>-231.0</td>\n",
       "      <td>-1.111132</td>\n",
       "      <td>0.714587</td>\n",
       "      <td>-1.425870</td>\n",
       "      <td>...</td>\n",
       "      <td>0.645298</td>\n",
       "      <td>0.574355</td>\n",
       "      <td>0.618225</td>\n",
       "      <td>-1.492132</td>\n",
       "      <td>-1.343424</td>\n",
       "      <td>-2.374262</td>\n",
       "      <td>-0.293176</td>\n",
       "      <td>1.666713</td>\n",
       "      <td>-0.201509</td>\n",
       "      <td>1.221423</td>\n",
       "    </tr>\n",
       "    <tr>\n",
       "      <th>230</th>\n",
       "      <td>233</td>\n",
       "      <td>0.105716</td>\n",
       "      <td>-0.328896</td>\n",
       "      <td>2013-06-26</td>\n",
       "      <td>2013-09-12</td>\n",
       "      <td>2014-01-30</td>\n",
       "      <td>140.0</td>\n",
       "      <td>-1.270437</td>\n",
       "      <td>0.327135</td>\n",
       "      <td>0.205354</td>\n",
       "      <td>...</td>\n",
       "      <td>-2.195671</td>\n",
       "      <td>-3.274215</td>\n",
       "      <td>0.231525</td>\n",
       "      <td>0.172257</td>\n",
       "      <td>0.468252</td>\n",
       "      <td>-0.046052</td>\n",
       "      <td>-1.253690</td>\n",
       "      <td>0.181738</td>\n",
       "      <td>1.873128</td>\n",
       "      <td>-1.200995</td>\n",
       "    </tr>\n",
       "  </tbody>\n",
       "</table>\n",
       "<p>5 rows × 46 columns</p>\n",
       "</div>"
      ],
      "text/plain": [
       "     API    Surf_X    Surf_Y Date_Drilling Date_Completion Date_Production  \\\n",
       "127  109 -2.352500  1.620195    2013-12-13      2014-04-15      2016-11-05   \n",
       "153  775  0.195680  0.655966    2014-02-13      2014-02-08      2014-09-17   \n",
       "204  260 -2.158496  1.665525    2013-09-17      2013-03-12      2016-02-05   \n",
       "222  578  0.656337 -0.845575    2011-07-19      2011-08-29      2011-01-10   \n",
       "230  233  0.105716 -0.328896    2013-06-26      2013-09-12      2014-01-30   \n",
       "\n",
       "     deltaT_Comp_Prod  Lateral_Length (ft)  Depth_TVD_PPLS (ft)  \\\n",
       "127             935.0            -1.280393             0.298965   \n",
       "153             221.0            -0.578459            -1.333584   \n",
       "204            1060.0            -0.669312            -0.162375   \n",
       "222            -231.0            -1.111132             0.714587   \n",
       "230             140.0            -1.270437             0.327135   \n",
       "\n",
       "     Erosion_PPLS (ft)         ...          Avg_Rate_Slurry (bpm)  \\\n",
       "127           0.809975         ...                       0.538420   \n",
       "153          -1.633377         ...                      -0.433414   \n",
       "204           1.004901         ...                      -1.027368   \n",
       "222          -1.425870         ...                       0.645298   \n",
       "230           0.205354         ...                      -2.195671   \n",
       "\n",
       "     Max_Rate_Slurry (bpm)  Min_Rate_Slurry (bpm)  ShutInPressure_Fil (KPa)  \\\n",
       "127               0.546580               0.459046                 -0.040905   \n",
       "153              -0.536376              -0.750022                 -0.324553   \n",
       "204              -1.447592               0.253667                 -0.468786   \n",
       "222               0.574355               0.618225                 -1.492132   \n",
       "230              -3.274215               0.231525                  0.172257   \n",
       "\n",
       "     ShutInPressure_Initial (KPa)  ISIP (KPa)  Shot_Density (shots/ft)  \\\n",
       "127                      0.116732   -0.212683                -1.253690   \n",
       "153                      0.271600   -0.615375                -1.253690   \n",
       "204                     -0.416572    0.191529                -1.253690   \n",
       "222                     -1.343424   -2.374262                -0.293176   \n",
       "230                      0.468252   -0.046052                -1.253690   \n",
       "\n",
       "     Shot_Total  Proppant_per_ft (kg/ft)  Stage_Spacing (ft)  \n",
       "127    0.181738                -0.132707           -0.560197  \n",
       "153    0.181738                 1.838079           -1.189494  \n",
       "204    0.181738                -0.754003           -0.222105  \n",
       "222    1.666713                -0.201509            1.221423  \n",
       "230    0.181738                 1.873128           -1.200995  \n",
       "\n",
       "[5 rows x 46 columns]"
      ]
     },
     "execution_count": 309,
     "metadata": {},
     "output_type": "execute_result"
    },
    {
     "data": {
      "image/png": "[encoded data removed]",
      "text/plain": [
       "<matplotlib.figure.Figure at 0x1690cb6d160>"
      ]
     },
     "metadata": {},
     "output_type": "display_data"
    },
    {
     "data": {
      "image/png": "[encoded data removed]",
      "text/plain": [
       "<matplotlib.figure.Figure at 0x1690cd490b8>"
      ]
     },
     "metadata": {},
     "output_type": "display_data"
    }
   ],
   "source": [
    "outs_Matp=vis_and_return_Outl(df,'Max_Treating_pressure (KPa)',3,delta=0.3,a=-5,b=5)\n",
    "outs_Matp"
   ]
  },
  {
   "cell_type": "code",
   "execution_count": 310,
   "metadata": {},
   "outputs": [
    {
     "data": {
      "text/plain": [
       "<matplotlib.collections.PathCollection at 0x1690cbc17f0>"
      ]
     },
     "execution_count": 310,
     "metadata": {},
     "output_type": "execute_result"
    },
    {
     "data": {
      "image/png": "[encoded data removed]",
      "text/plain": [
       "<matplotlib.figure.Figure at 0x1690cda9400>"
      ]
     },
     "metadata": {},
     "output_type": "display_data"
    }
   ],
   "source": [
    "plt.scatter(df['Min_Treating_Pressure (KPa)'],df['Max_Treating_pressure (KPa)'])"
   ]
  },
  {
   "cell_type": "code",
   "execution_count": 311,
   "metadata": {
    "collapsed": true
   },
   "outputs": [],
   "source": [
    "############################## To be rethought ###############################"
   ]
  },
  {
   "cell_type": "markdown",
   "metadata": {},
   "source": [
    "#### replace the missing values\n"
   ]
  },
  {
   "cell_type": "code",
   "execution_count": 312,
   "metadata": {},
   "outputs": [
    {
     "name": "stdout",
     "output_type": "stream",
     "text": [
      "1\n",
      "1\n",
      "1\n"
     ]
    }
   ],
   "source": [
    "missing_Atp=np.isnan(df[\"Avg_Treating_Pressure (KPa)\"])\n",
    "missing_Mitp=np.isnan(df[\"Min_Treating_Pressure (KPa)\"])\n",
    "missing_Matp=np.isnan(df[\"Max_Treating_pressure (KPa)\"])\n",
    "print (sum(missing_Atp))\n",
    "print (sum(missing_Mitp))\n",
    "print (sum(missing_Matp))"
   ]
  },
  {
   "cell_type": "code",
   "execution_count": 313,
   "metadata": {},
   "outputs": [
    {
     "name": "stdout",
     "output_type": "stream",
     "text": [
      "1\n"
     ]
    }
   ],
   "source": [
    "missing_all=np.logical_and(missing_Atp,missing_Mitp)\n",
    "missing_all=np.logical_and(missing_all,missing_Matp)\n",
    "print (sum(missing_all))"
   ]
  },
  {
   "cell_type": "markdown",
   "metadata": {},
   "source": [
    "We have one missing values that all the three features have missing. We have to estimate them by the mean."
   ]
  },
  {
   "cell_type": "code",
   "execution_count": 314,
   "metadata": {
    "collapsed": true
   },
   "outputs": [],
   "source": [
    "rows=df[missing_all].index\n",
    "df.loc[rows,\"Avg_Treating_Pressure (KPa)\"]=np.mean(df['Avg_Treating_Pressure (KPa)'])\n",
    "df.loc[rows,\"Min_Treating_Pressure (KPa)\"]=np.mean(df['Min_Treating_Pressure (KPa)'])\n",
    "df.loc[rows,\"Max_Treating_pressure (KPa)\"]=np.mean(df['Max_Treating_pressure (KPa)'])"
   ]
  },
  {
   "cell_type": "markdown",
   "metadata": {},
   "source": [
    "Estimate the rest of the missing vals each variable by another."
   ]
  },
  {
   "cell_type": "code",
   "execution_count": 315,
   "metadata": {},
   "outputs": [],
   "source": [
    "mA=np.mean(df['Avg_Treating_Pressure (KPa)'])\n",
    "mMi=np.mean(df['Min_Treating_Pressure (KPa)'])\n",
    "mMa=np.mean(df['Max_Treating_pressure (KPa)'])\n"
   ]
  },
  {
   "cell_type": "markdown",
   "metadata": {},
   "source": [
    "#### Missing Avg"
   ]
  },
  {
   "cell_type": "code",
   "execution_count": 316,
   "metadata": {},
   "outputs": [
    {
     "name": "stdout",
     "output_type": "stream",
     "text": [
      "0\n",
      "0\n"
     ]
    }
   ],
   "source": [
    "AvNotMin=np.logical_and(missing_Atp,~missing_Mitp)\n",
    "print (sum(AvNotMin))\n",
    "AvNotMax=np.logical_and(missing_Atp,~missing_Matp)\n",
    "print (sum(AvNotMax))"
   ]
  },
  {
   "cell_type": "markdown",
   "metadata": {},
   "source": [
    "#### Missing Min"
   ]
  },
  {
   "cell_type": "code",
   "execution_count": 317,
   "metadata": {},
   "outputs": [
    {
     "name": "stdout",
     "output_type": "stream",
     "text": [
      "0\n",
      "0\n"
     ]
    }
   ],
   "source": [
    "MinNotAv=np.logical_and(~missing_Atp,missing_Mitp)\n",
    "print (sum(MinNotAv))\n",
    "MinNotMax=np.logical_and(missing_Mitp,~missing_Matp)\n",
    "print (sum(MinNotMax))"
   ]
  },
  {
   "cell_type": "markdown",
   "metadata": {},
   "source": [
    "#### Missing Max"
   ]
  },
  {
   "cell_type": "code",
   "execution_count": 318,
   "metadata": {},
   "outputs": [
    {
     "name": "stdout",
     "output_type": "stream",
     "text": [
      "0\n",
      "0\n"
     ]
    }
   ],
   "source": [
    "MaxNotAv=np.logical_and(~missing_Atp,missing_Matp)\n",
    "print (sum(MaxNotAv))\n",
    "MaxNotMin=np.logical_and(~missing_Mitp,missing_Matp)\n",
    "print (sum(MaxNotMin))"
   ]
  },
  {
   "cell_type": "markdown",
   "metadata": {},
   "source": [
    "We see can see that we only have a missing val with the three dfeatures missing and no val that we ca estimate by another."
   ]
  },
  {
   "cell_type": "code",
   "execution_count": 319,
   "metadata": {},
   "outputs": [
    {
     "name": "stdout",
     "output_type": "stream",
     "text": [
      "0\n",
      "0\n",
      "0\n"
     ]
    }
   ],
   "source": [
    "missing_Atp=np.isnan(df[\"Avg_Treating_Pressure (KPa)\"])\n",
    "missing_Mitp=np.isnan(df[\"Min_Treating_Pressure (KPa)\"])\n",
    "missing_Matp=np.isnan(df[\"Max_Treating_pressure (KPa)\"])\n",
    "print (sum(missing_Atp))\n",
    "print (sum(missing_Mitp))\n",
    "print (sum(missing_Matp))"
   ]
  },
  {
   "cell_type": "markdown",
   "metadata": {
    "collapsed": true
   },
   "source": [
    "### Avg/Min/Max_Rate_Slurry (bpm)"
   ]
  },
  {
   "cell_type": "markdown",
   "metadata": {},
   "source": [
    "We we treat this variables together as they are highly correlated.\n",
    "\n",
    "Cor(Avg,Max) = 0.84 , Cor(Avg,Min) = 0.36 , Cor(Max,Min) = 0.4"
   ]
  },
  {
   "cell_type": "code",
   "execution_count": 320,
   "metadata": {},
   "outputs": [
    {
     "data": {
      "image/png": "[encoded data removed]",
      "text/plain": [
       "<matplotlib.figure.Figure at 0x1690cca3470>"
      ]
     },
     "metadata": {},
     "output_type": "display_data"
    },
    {
     "data": {
      "image/png": "[encoded data removed]",
      "text/plain": [
       "<matplotlib.figure.Figure at 0x1690cc01b00>"
      ]
     },
     "metadata": {},
     "output_type": "display_data"
    }
   ],
   "source": [
    "Avg_slr=vis_and_return_Outl(df,'Avg_Rate_Slurry (bpm)',3,delta=0.3,a=-5,b=5)"
   ]
  },
  {
   "cell_type": "markdown",
   "metadata": {},
   "source": [
    "To the left side of the histogram, it seems that there are same outliers. We plot against correlated variables to see more.."
   ]
  },
  {
   "cell_type": "code",
   "execution_count": 321,
   "metadata": {},
   "outputs": [
    {
     "data": {
      "text/plain": [
       "<matplotlib.collections.PathCollection at 0x1690b7e1320>"
      ]
     },
     "execution_count": 321,
     "metadata": {},
     "output_type": "execute_result"
    },
    {
     "data": {
      "image/png": "[encoded data removed]",
      "text/plain": [
       "<matplotlib.figure.Figure at 0x1690cb96e48>"
      ]
     },
     "metadata": {},
     "output_type": "display_data"
    }
   ],
   "source": [
    "plt.scatter(df['Avg_Rate_Slurry (bpm)'],df['Min_Rate_Slurry (bpm)'])"
   ]
  },
  {
   "cell_type": "markdown",
   "metadata": {},
   "source": [
    "We decided only to delete the outliers with values > 2"
   ]
  },
  {
   "cell_type": "code",
   "execution_count": 322,
   "metadata": {},
   "outputs": [],
   "source": [
    "rows=Avg_slr.index\n",
    "df.loc[rows,'Avg_Rate_Slurry (bpm)']=np.nan"
   ]
  },
  {
   "cell_type": "code",
   "execution_count": 323,
   "metadata": {},
   "outputs": [
    {
     "data": {
      "image/png": "[encoded data removed]",
      "text/plain": [
       "<matplotlib.figure.Figure at 0x1690b7ba048>"
      ]
     },
     "metadata": {},
     "output_type": "display_data"
    },
    {
     "data": {
      "image/png": "[encoded data removed]",
      "text/plain": [
       "<matplotlib.figure.Figure at 0x1690b3bde48>"
      ]
     },
     "metadata": {},
     "output_type": "display_data"
    }
   ],
   "source": [
    "Min_slr=vis_and_return_Outl(df,'Min_Rate_Slurry (bpm)',4.1,delta=0.3,a=-5,b=5)\n",
    "df[df['Min_Rate_Slurry (bpm)'] >2].index\n",
    "df.loc[rows,'Min_Rate_Slurry (bpm)']=np.nan # delete outliers determinded by boxplot"
   ]
  },
  {
   "cell_type": "code",
   "execution_count": 324,
   "metadata": {
    "collapsed": true
   },
   "outputs": [],
   "source": [
    "rows=Avg_slr.index\n",
    "df.loc[rows,'Avg_Rate_Slurry (bpm)']=np.nan"
   ]
  },
  {
   "cell_type": "code",
   "execution_count": 325,
   "metadata": {},
   "outputs": [
    {
     "data": {
      "image/png": "[encoded data removed]",
      "text/plain": [
       "<matplotlib.figure.Figure at 0x1690b81b080>"
      ]
     },
     "metadata": {},
     "output_type": "display_data"
    },
    {
     "data": {
      "image/png": "[encoded data removed]",
      "text/plain": [
       "<matplotlib.figure.Figure at 0x16909eb39b0>"
      ]
     },
     "metadata": {},
     "output_type": "display_data"
    }
   ],
   "source": [
    "Max_slr=vis_and_return_Outl(df,'Min_Rate_Slurry (bpm)',4.1,delta=0.3,a=-5,b=5)\n",
    "rows=Min_slr.index\n",
    "df.loc[rows,'Min_Rate_Slurry (bpm)']=np.nan # delete outliers determinded by boxplot"
   ]
  },
  {
   "cell_type": "code",
   "execution_count": 326,
   "metadata": {},
   "outputs": [
    {
     "data": {
      "image/png": "[encoded data removed]",
      "text/plain": [
       "<matplotlib.figure.Figure at 0x16909e22be0>"
      ]
     },
     "metadata": {},
     "output_type": "display_data"
    }
   ],
   "source": [
    "plt.scatter(df['Avg_Rate_Slurry (bpm)'],df['Min_Rate_Slurry (bpm)'])\n",
    "rows=df[df['Min_Rate_Slurry (bpm)'] >1.4].index\n",
    "df.loc[rows,'Min_Rate_Slurry (bpm)']=0"
   ]
  },
  {
   "cell_type": "code",
   "execution_count": 327,
   "metadata": {
    "scrolled": true
   },
   "outputs": [
    {
     "data": {
      "text/html": [
       "<div>\n",
       "<style>\n",
       "    .dataframe thead tr:only-child th {\n",
       "        text-align: right;\n",
       "    }\n",
       "\n",
       "    .dataframe thead th {\n",
       "        text-align: left;\n",
       "    }\n",
       "\n",
       "    .dataframe tbody tr th {\n",
       "        vertical-align: top;\n",
       "    }\n",
       "</style>\n",
       "<table border=\"1\" class=\"dataframe\">\n",
       "  <thead>\n",
       "    <tr style=\"text-align: right;\">\n",
       "      <th></th>\n",
       "      <th>API</th>\n",
       "      <th>Surf_X</th>\n",
       "      <th>Surf_Y</th>\n",
       "      <th>Date_Drilling</th>\n",
       "      <th>Date_Completion</th>\n",
       "      <th>Date_Production</th>\n",
       "      <th>deltaT_Comp_Prod</th>\n",
       "      <th>Lateral_Length (ft)</th>\n",
       "      <th>Depth_TVD_PPLS (ft)</th>\n",
       "      <th>Erosion_PPLS (ft)</th>\n",
       "      <th>...</th>\n",
       "      <th>Avg_Rate_Slurry (bpm)</th>\n",
       "      <th>Max_Rate_Slurry (bpm)</th>\n",
       "      <th>Min_Rate_Slurry (bpm)</th>\n",
       "      <th>ShutInPressure_Fil (KPa)</th>\n",
       "      <th>ShutInPressure_Initial (KPa)</th>\n",
       "      <th>ISIP (KPa)</th>\n",
       "      <th>Shot_Density (shots/ft)</th>\n",
       "      <th>Shot_Total</th>\n",
       "      <th>Proppant_per_ft (kg/ft)</th>\n",
       "      <th>Stage_Spacing (ft)</th>\n",
       "    </tr>\n",
       "  </thead>\n",
       "  <tbody>\n",
       "  </tbody>\n",
       "</table>\n",
       "<p>0 rows × 46 columns</p>\n",
       "</div>"
      ],
      "text/plain": [
       "Empty DataFrame\n",
       "Columns: [API, Surf_X, Surf_Y, Date_Drilling, Date_Completion, Date_Production, deltaT_Comp_Prod, Lateral_Length (ft), Depth_TVD_PPLS (ft), Erosion_PPLS (ft), Pressure_PPLS (PSI), TOC_PPLS (%), Vcarb_PPLS, Vsand_PPLS, Vclay_PPLS, PR_PPLS, YM_PPLS (PSI), RHOB_PPLS (g/cc), Res_PPLS (Ohmm), GR_PPLS (API), DT_PPLS (us/ft), DTs_PPLS (us/ft), Temperature (F), Temp_Anomaly (F), S3Tect_PPLS (PSI), S3_contrast_PPLS (PSI), Heat_Flow (W/m2), Zone, Nbr_Stages, Frac_Gradient (PSI/ft), Proppant_Designed (kg), Proppant_in_Formation (kg), Avg_Breakdown_Pressure (KPa), Avg_Treating_Pressure (KPa), Max_Treating_pressure (KPa), Min_Treating_Pressure (KPa), Avg_Rate_Slurry (bpm), Max_Rate_Slurry (bpm), Min_Rate_Slurry (bpm), ShutInPressure_Fil (KPa), ShutInPressure_Initial (KPa), ISIP (KPa), Shot_Density (shots/ft), Shot_Total, Proppant_per_ft (kg/ft), Stage_Spacing (ft)]\n",
       "Index: []\n",
       "\n",
       "[0 rows x 46 columns]"
      ]
     },
     "execution_count": 327,
     "metadata": {},
     "output_type": "execute_result"
    },
    {
     "data": {
      "image/png": "[encoded data removed]",
      "text/plain": [
       "<matplotlib.figure.Figure at 0x1690b216748>"
      ]
     },
     "metadata": {},
     "output_type": "display_data"
    },
    {
     "data": {
      "image/png": "[encoded data removed]",
      "text/plain": [
       "<matplotlib.figure.Figure at 0x16909c9b390>"
      ]
     },
     "metadata": {},
     "output_type": "display_data"
    }
   ],
   "source": [
    "Max_slr=vis_and_return_Outl(df,'Max_Rate_Slurry (bpm)',3,delta=0.3,a=-5,b=5)\n",
    "Max_slr"
   ]
  },
  {
   "cell_type": "code",
   "execution_count": 328,
   "metadata": {},
   "outputs": [
    {
     "data": {
      "text/plain": [
       "<matplotlib.collections.PathCollection at 0x169096df748>"
      ]
     },
     "execution_count": 328,
     "metadata": {},
     "output_type": "execute_result"
    },
    {
     "data": {
      "image/png": "[encoded data removed]",
      "text/plain": [
       "<matplotlib.figure.Figure at 0x169096778d0>"
      ]
     },
     "metadata": {},
     "output_type": "display_data"
    }
   ],
   "source": [
    "plt.scatter(df['Min_Rate_Slurry (bpm)'],df['Max_Rate_Slurry (bpm)'])"
   ]
  },
  {
   "cell_type": "code",
   "execution_count": 329,
   "metadata": {
    "collapsed": true
   },
   "outputs": [],
   "source": [
    "rows=Max_slr.index\n",
    "df.loc[rows,'Max_Rate_Slurry (bpm)']=np.nan # delete outliers determinded by boxplot\n",
    "rows2=df[df['Max_Rate_Slurry (bpm)']> 1].index\n",
    "df.loc[rows2,'Max_Rate_Slurry (bpm)']=np.nan # delete outliers > 1 ( see plot)"
   ]
  },
  {
   "cell_type": "code",
   "execution_count": 330,
   "metadata": {},
   "outputs": [
    {
     "data": {
      "text/plain": [
       "<matplotlib.collections.PathCollection at 0x1690cc8ec88>"
      ]
     },
     "execution_count": 330,
     "metadata": {},
     "output_type": "execute_result"
    },
    {
     "data": {
      "image/png": "[encoded data removed]",
      "text/plain": [
       "<matplotlib.figure.Figure at 0x16909be2898>"
      ]
     },
     "metadata": {},
     "output_type": "display_data"
    }
   ],
   "source": [
    "plt.scatter(df['Min_Rate_Slurry (bpm)'],df['Max_Rate_Slurry (bpm)'])"
   ]
  },
  {
   "cell_type": "markdown",
   "metadata": {},
   "source": [
    "#### replace the missing values¶\n"
   ]
  },
  {
   "cell_type": "code",
   "execution_count": 331,
   "metadata": {},
   "outputs": [
    {
     "name": "stdout",
     "output_type": "stream",
     "text": [
      "1\n",
      "4\n",
      "31\n"
     ]
    }
   ],
   "source": [
    "missing_Atp=np.isnan(df[\"Avg_Rate_Slurry (bpm)\"])\n",
    "missing_Mitp=np.isnan(df[\"Min_Rate_Slurry (bpm)\"])\n",
    "missing_Matp=np.isnan(df[\"Max_Rate_Slurry (bpm)\"])\n",
    "print (sum(missing_Atp))\n",
    "print (sum(missing_Mitp))\n",
    "print (sum(missing_Matp))"
   ]
  },
  {
   "cell_type": "code",
   "execution_count": 332,
   "metadata": {},
   "outputs": [
    {
     "name": "stdout",
     "output_type": "stream",
     "text": [
      "1\n"
     ]
    }
   ],
   "source": [
    "missing_all=np.logical_and(missing_Atp,missing_Mitp)\n",
    "missing_all=np.logical_and(missing_all,missing_Matp)\n",
    "print (sum(missing_all))"
   ]
  },
  {
   "cell_type": "markdown",
   "metadata": {},
   "source": [
    "We have two missing values that all the 97 features have missing. We have to estimate them by the mean"
   ]
  },
  {
   "cell_type": "markdown",
   "metadata": {},
   "source": [
    "Estimate the rest of the missong vals each variable by another."
   ]
  },
  {
   "cell_type": "code",
   "execution_count": 333,
   "metadata": {},
   "outputs": [],
   "source": [
    "mA=np.mean(df['Avg_Rate_Slurry (bpm)'])\n",
    "mMi=np.mean(df['Min_Rate_Slurry (bpm)'])\n",
    "mMa=np.mean(df['Max_Rate_Slurry (bpm)'])\n"
   ]
  },
  {
   "cell_type": "markdown",
   "metadata": {},
   "source": [
    "\n",
    "#### Missing Avg\n"
   ]
  },
  {
   "cell_type": "code",
   "execution_count": 334,
   "metadata": {},
   "outputs": [
    {
     "name": "stdout",
     "output_type": "stream",
     "text": [
      "0\n",
      "0\n"
     ]
    }
   ],
   "source": [
    "AvNotMin=np.logical_and(missing_Atp,~missing_Mitp)\n",
    "print (sum(AvNotMin))\n",
    "AvNotMax=np.logical_and(missing_Atp,~missing_Matp)\n",
    "print (sum(AvNotMax))"
   ]
  },
  {
   "cell_type": "code",
   "execution_count": 335,
   "metadata": {},
   "outputs": [
    {
     "name": "stdout",
     "output_type": "stream",
     "text": [
      "we estimate y= ax+b, with a equals:[ 0.87033919]\n"
     ]
    }
   ],
   "source": [
    "a3=lin_regr('Max_Rate_Slurry (bpm)','Avg_Rate_Slurry (bpm)')\n",
    "rows=df[AvNotMax].index\n",
    "df.loc[rows,'Avg_Rate_Slurry (bpm)']=(df['Max_Rate_Slurry (bpm)'][AvNotMax]- mMa)*a3+ mA"
   ]
  },
  {
   "cell_type": "code",
   "execution_count": 336,
   "metadata": {
    "collapsed": true
   },
   "outputs": [],
   "source": [
    "rows=df[missing_all].index\n",
    "df.loc[rows,\"Avg_Rate_Slurry (bpm)\"]=np.mean(df['Avg_Rate_Slurry (bpm)'])\n",
    "df.loc[rows,\"Min_Rate_Slurry (bpm)\"]=np.mean(df['Min_Rate_Slurry (bpm)'])\n",
    "df.loc[rows,\"Max_Rate_Slurry (bpm)\"]=np.mean(df['Max_Rate_Slurry (bpm)'])"
   ]
  },
  {
   "cell_type": "code",
   "execution_count": 337,
   "metadata": {},
   "outputs": [
    {
     "data": {
      "text/plain": [
       "<matplotlib.legend.Legend at 0x1690b6b0940>"
      ]
     },
     "execution_count": 337,
     "metadata": {},
     "output_type": "execute_result"
    },
    {
     "data": {
      "image/png": "[encoded data removed]",
      "text/plain": [
       "<matplotlib.figure.Figure at 0x1690b7e5048>"
      ]
     },
     "metadata": {},
     "output_type": "display_data"
    }
   ],
   "source": [
    "plt.figure(figsize=(8,8))\n",
    "plt.scatter(df['Max_Rate_Slurry (bpm)'][~AvNotMax],df['Avg_Rate_Slurry (bpm)'][~AvNotMax],color='blue',s=5,label='originals')\n",
    "plt.scatter(df['Max_Rate_Slurry (bpm)'][AvNotMax],df['Avg_Rate_Slurry (bpm)'][AvNotMax],color='red',s=30,label='replaced')\n",
    "plt.ylabel('Avg')\n",
    "plt.xlabel('Min')\n",
    "plt.legend()"
   ]
  },
  {
   "cell_type": "markdown",
   "metadata": {},
   "source": [
    "#### Missing Min\n"
   ]
  },
  {
   "cell_type": "code",
   "execution_count": 338,
   "metadata": {},
   "outputs": [
    {
     "name": "stdout",
     "output_type": "stream",
     "text": [
      "3\n",
      "2\n"
     ]
    }
   ],
   "source": [
    "MinNotAv=np.logical_and(~missing_Atp,missing_Mitp)\n",
    "print (sum(MinNotAv))\n",
    "MinNotMax=np.logical_and(missing_Mitp,~missing_Matp)\n",
    "print (sum(MinNotMax))"
   ]
  },
  {
   "cell_type": "code",
   "execution_count": 339,
   "metadata": {},
   "outputs": [
    {
     "name": "stdout",
     "output_type": "stream",
     "text": [
      "we estimate y= ax+b, with a equals:[ 0.20102231]\n"
     ]
    }
   ],
   "source": [
    "a3=lin_regr('Max_Rate_Slurry (bpm)','Min_Rate_Slurry (bpm)')\n",
    "rows=df[MinNotMax].index\n",
    "df.loc[rows,'Min_Rate_Slurry (bpm)']=(df['Max_Rate_Slurry (bpm)'][MinNotMax]- mMa)*a3+ mMi"
   ]
  },
  {
   "cell_type": "code",
   "execution_count": 340,
   "metadata": {},
   "outputs": [
    {
     "data": {
      "text/plain": [
       "<matplotlib.legend.Legend at 0x1690cc23a58>"
      ]
     },
     "execution_count": 340,
     "metadata": {},
     "output_type": "execute_result"
    },
    {
     "data": {
      "image/png": "[encoded data removed]",
      "text/plain": [
       "<matplotlib.figure.Figure at 0x1690b2d3dd8>"
      ]
     },
     "metadata": {},
     "output_type": "display_data"
    }
   ],
   "source": [
    "plt.figure(figsize=(8,8))\n",
    "plt.scatter(df['Max_Rate_Slurry (bpm)'][~MinNotMax],df['Min_Rate_Slurry (bpm)'][~MinNotMax],color='blue',s=5,label='originals')\n",
    "plt.scatter(df['Max_Rate_Slurry (bpm)'][MinNotMax],df['Min_Rate_Slurry (bpm)'][MinNotMax],color='red',s=30,label='replaced')\n",
    "plt.ylabel('Min')\n",
    "plt.xlabel('Max')\n",
    "plt.legend()"
   ]
  },
  {
   "cell_type": "code",
   "execution_count": 341,
   "metadata": {},
   "outputs": [
    {
     "name": "stdout",
     "output_type": "stream",
     "text": [
      "we estimate y= ax+b, with a equals:[ 0.31939433]\n"
     ]
    }
   ],
   "source": [
    "a3=lin_regr('Avg_Rate_Slurry (bpm)','Min_Rate_Slurry (bpm)')\n",
    "rows=df[MinNotAv].index\n",
    "df.loc[rows,'Min_Rate_Slurry (bpm)']=(df['Avg_Rate_Slurry (bpm)'][MinNotAv]- mMa)*a3+ mMi"
   ]
  },
  {
   "cell_type": "code",
   "execution_count": 342,
   "metadata": {},
   "outputs": [
    {
     "data": {
      "text/plain": [
       "<matplotlib.legend.Legend at 0x1690b2cceb8>"
      ]
     },
     "execution_count": 342,
     "metadata": {},
     "output_type": "execute_result"
    },
    {
     "data": {
      "image/png": "[encoded data removed]",
      "text/plain": [
       "<matplotlib.figure.Figure at 0x1690b83c828>"
      ]
     },
     "metadata": {},
     "output_type": "display_data"
    }
   ],
   "source": [
    "plt.figure(figsize=(8,8))\n",
    "plt.scatter(df['Min_Rate_Slurry (bpm)'][~MinNotAv],df['Avg_Rate_Slurry (bpm)'][~MinNotAv],color='blue',s=5,label='originals')\n",
    "plt.scatter(df['Min_Rate_Slurry (bpm)'][MinNotAv],df['Avg_Rate_Slurry (bpm)'][MinNotAv],color='red',s=30,label='replaced')\n",
    "plt.ylabel('Avg')\n",
    "plt.xlabel('Min')\n",
    "plt.legend()"
   ]
  },
  {
   "cell_type": "markdown",
   "metadata": {},
   "source": [
    "#### Missing Max"
   ]
  },
  {
   "cell_type": "code",
   "execution_count": 343,
   "metadata": {},
   "outputs": [
    {
     "name": "stdout",
     "output_type": "stream",
     "text": [
      "30\n",
      "29\n"
     ]
    }
   ],
   "source": [
    "MaxNotAv=np.logical_and(~missing_Atp,missing_Matp)\n",
    "print (sum(MaxNotAv))\n",
    "MaxNotMin=np.logical_and(~missing_Mitp,missing_Matp)\n",
    "print (sum(MaxNotMin))"
   ]
  },
  {
   "cell_type": "code",
   "execution_count": 344,
   "metadata": {},
   "outputs": [
    {
     "name": "stdout",
     "output_type": "stream",
     "text": [
      "we estimate y= ax+b, with a equals:[ 0.51293473]\n"
     ]
    }
   ],
   "source": [
    "a3=lin_regr('Min_Rate_Slurry (bpm)','Max_Rate_Slurry (bpm)')\n",
    "rows=df[MaxNotMin].index\n",
    "\n",
    "df.loc[rows,'Max_Rate_Slurry (bpm)']=(df['Min_Rate_Slurry (bpm)'][MaxNotMin]- mMi)*a3+ mMa"
   ]
  },
  {
   "cell_type": "code",
   "execution_count": 345,
   "metadata": {},
   "outputs": [
    {
     "data": {
      "text/plain": [
       "<matplotlib.legend.Legend at 0x1690b76e080>"
      ]
     },
     "execution_count": 345,
     "metadata": {},
     "output_type": "execute_result"
    },
    {
     "data": {
      "image/png": "[encoded data removed]",
      "text/plain": [
       "<matplotlib.figure.Figure at 0x1690b7e5208>"
      ]
     },
     "metadata": {},
     "output_type": "display_data"
    }
   ],
   "source": [
    "plt.figure(figsize=(8,8))\n",
    "plt.scatter(df['Min_Rate_Slurry (bpm)'][~MaxNotMin],df['Max_Rate_Slurry (bpm)'][~MaxNotMin],color='blue',s=5,label='originals')\n",
    "plt.scatter(df['Min_Rate_Slurry (bpm)'][MaxNotMin],df['Max_Rate_Slurry (bpm)'][MaxNotMin],color='red',s=30,label='replaced')\n",
    "plt.ylabel('Max')\n",
    "plt.xlabel('Min')\n",
    "plt.legend()"
   ]
  },
  {
   "cell_type": "code",
   "execution_count": 346,
   "metadata": {},
   "outputs": [
    {
     "name": "stdout",
     "output_type": "stream",
     "text": [
      "we estimate y= ax+b, with a equals:[ 0.79158775]\n"
     ]
    }
   ],
   "source": [
    "a3=lin_regr('Avg_Rate_Slurry (bpm)','Max_Rate_Slurry (bpm)')\n",
    "rows=df[MaxNotAv].index\n",
    "df.loc[rows,'Max_Rate_Slurry (bpm)']=(df['Avg_Rate_Slurry (bpm)'][MaxNotAv]- mMa)*a3+ mMa"
   ]
  },
  {
   "cell_type": "code",
   "execution_count": 347,
   "metadata": {},
   "outputs": [
    {
     "data": {
      "text/plain": [
       "<matplotlib.legend.Legend at 0x1690b7e5400>"
      ]
     },
     "execution_count": 347,
     "metadata": {},
     "output_type": "execute_result"
    },
    {
     "data": {
      "image/png": "[encoded data removed]",
      "text/plain": [
       "<matplotlib.figure.Figure at 0x1690cbc8748>"
      ]
     },
     "metadata": {},
     "output_type": "display_data"
    }
   ],
   "source": [
    "plt.figure(figsize=(8,8))\n",
    "plt.scatter(df['Max_Rate_Slurry (bpm)'][~MaxNotAv],df['Avg_Rate_Slurry (bpm)'][~MaxNotAv],color='blue',s=5,label='originals')\n",
    "plt.scatter(df['Max_Rate_Slurry (bpm)'][MaxNotAv],df['Avg_Rate_Slurry (bpm)'][MaxNotAv],color='red',s=30,label='replaced')\n",
    "plt.ylabel('Avg')\n",
    "plt.xlabel('Max')\n",
    "plt.legend()"
   ]
  },
  {
   "cell_type": "code",
   "execution_count": 348,
   "metadata": {},
   "outputs": [
    {
     "name": "stdout",
     "output_type": "stream",
     "text": [
      "0\n",
      "0\n",
      "0\n"
     ]
    }
   ],
   "source": [
    "\n",
    "\n",
    "missing_Atp=np.isnan(df[\"Avg_Treating_Pressure (KPa)\"])\n",
    "missing_Mitp=np.isnan(df[\"Min_Treating_Pressure (KPa)\"])\n",
    "missing_Matp=np.isnan(df[\"Max_Treating_pressure (KPa)\"])\n",
    "print (sum(missing_Atp))\n",
    "print (sum(missing_Mitp))\n",
    "print (sum(missing_Matp))\n",
    "\n"
   ]
  },
  {
   "cell_type": "markdown",
   "metadata": {},
   "source": [
    "### Zone"
   ]
  },
  {
   "cell_type": "markdown",
   "metadata": {},
   "source": [
    "Taking in consideration Andi s analysis about the zone Attribute, It s a categorial variable, i ll change the zone values to 0-9"
   ]
  },
  {
   "cell_type": "code",
   "execution_count": 349,
   "metadata": {},
   "outputs": [
    {
     "data": {
      "text/plain": [
       "array([-0.45747705,  1.10622683, -0.97871168,  0.58499221, -2.02118093,\n",
       "        2.66993072,  2.14869609, -2.54241556,  0.06375758, -1.49994631])"
      ]
     },
     "execution_count": 349,
     "metadata": {},
     "output_type": "execute_result"
    }
   ],
   "source": [
    "df.Zone.unique()"
   ]
  },
  {
   "cell_type": "code",
   "execution_count": 350,
   "metadata": {
    "collapsed": true
   },
   "outputs": [],
   "source": [
    "df =    df.replace({'Zone':{\n",
    "        df.Zone.unique()[0]: 'Z0',\n",
    "        df.Zone.unique()[1]: 'Z1',\n",
    "        df.Zone.unique()[2]: 'Z2',\n",
    "        df.Zone.unique()[3]: 'Z3',\n",
    "        df.Zone.unique()[4]: 'Z4',\n",
    "        df.Zone.unique()[5]: 'Z5',\n",
    "        df.Zone.unique()[6]: 'Z6',\n",
    "        df.Zone.unique()[7]: 'Z7',\n",
    "        df.Zone.unique()[8]: 'Z8',\n",
    "        df.Zone.unique()[8]: 'Z9',\n",
    "        df.Zone.unique()[8]: 'Z10'\n",
    "        }\n",
    "                      }\n",
    ")"
   ]
  },
  {
   "cell_type": "markdown",
   "metadata": {},
   "source": [
    "\n",
    "\n",
    "The idea is to affect to missing values of the concerned variables (see further) in the zone of the well, as we have seen for the train set OilCum and GasCum could be splitted with a pattern ruled by Zone.\n"
   ]
  },
  {
   "cell_type": "markdown",
   "metadata": {},
   "source": [
    "### Pressure_PPLS (PSI)"
   ]
  },
  {
   "cell_type": "code",
   "execution_count": 359,
   "metadata": {},
   "outputs": [
    {
     "data": {
      "text/plain": [
       "0"
      ]
     },
     "execution_count": 359,
     "metadata": {},
     "output_type": "execute_result"
    }
   ],
   "source": [
    "#MV\n",
    "\n",
    "df[\"Pressure_PPLS (PSI)\"].isnull().sum()"
   ]
  },
  {
   "cell_type": "code",
   "execution_count": 360,
   "metadata": {},
   "outputs": [
    {
     "data": {
      "text/html": [
       "<div>\n",
       "<style>\n",
       "    .dataframe thead tr:only-child th {\n",
       "        text-align: right;\n",
       "    }\n",
       "\n",
       "    .dataframe thead th {\n",
       "        text-align: left;\n",
       "    }\n",
       "\n",
       "    .dataframe tbody tr th {\n",
       "        vertical-align: top;\n",
       "    }\n",
       "</style>\n",
       "<table border=\"1\" class=\"dataframe\">\n",
       "  <thead>\n",
       "    <tr style=\"text-align: right;\">\n",
       "      <th></th>\n",
       "      <th>API</th>\n",
       "      <th>Pressure_PPLS (PSI)</th>\n",
       "      <th>Zone</th>\n",
       "    </tr>\n",
       "  </thead>\n",
       "  <tbody>\n",
       "  </tbody>\n",
       "</table>\n",
       "</div>"
      ],
      "text/plain": [
       "Empty DataFrame\n",
       "Columns: [API, Pressure_PPLS (PSI), Zone]\n",
       "Index: []"
      ]
     },
     "execution_count": 360,
     "metadata": {},
     "output_type": "execute_result"
    }
   ],
   "source": [
    "missing= np.isnan(df[\"Pressure_PPLS (PSI)\"])\n",
    "df.loc[df[\"Pressure_PPLS (PSI)\"].isnull(), [\"API\",\"Pressure_PPLS (PSI)\",\"Zone\"]]"
   ]
  },
  {
   "cell_type": "code",
   "execution_count": 361,
   "metadata": {},
   "outputs": [
    {
     "data": {
      "text/plain": [
       "<matplotlib.axes._subplots.AxesSubplot at 0x1690d0ef5c0>"
      ]
     },
     "execution_count": 361,
     "metadata": {},
     "output_type": "execute_result"
    },
    {
     "data": {
      "image/png": "[encoded data removed]",
      "text/plain": [
       "<matplotlib.figure.Figure at 0x1690ce58160>"
      ]
     },
     "metadata": {},
     "output_type": "display_data"
    }
   ],
   "source": [
    "sns.boxplot(x='Zone', y='Pressure_PPLS (PSI)', data=df,whis=1.5)"
   ]
  },
  {
   "cell_type": "markdown",
   "metadata": {},
   "source": [
    "An idea that would be good is to affect to missing values the mean the variable in the zone of the well\n"
   ]
  },
  {
   "cell_type": "code",
   "execution_count": 362,
   "metadata": {},
   "outputs": [
    {
     "name": "stderr",
     "output_type": "stream",
     "text": [
      "C:\\Users\\EDDAHABI\\Anaconda3\\lib\\site-packages\\ipykernel_launcher.py:1: UserWarning: Boolean Series key will be reindexed to match DataFrame index.\n",
      "  \"\"\"Entry point for launching an IPython kernel.\n"
     ]
    }
   ],
   "source": [
    "w49=np.mean(df[df[\"Zone\"]==\"Z5\"][~missing]['Pressure_PPLS (PSI)'])"
   ]
  },
  {
   "cell_type": "code",
   "execution_count": 363,
   "metadata": {},
   "outputs": [],
   "source": [
    "df.loc[missing,\"Pressure_PPLS (PSI)\"]=w49"
   ]
  },
  {
   "cell_type": "code",
   "execution_count": 364,
   "metadata": {},
   "outputs": [
    {
     "data": {
      "text/plain": [
       "<matplotlib.axes._subplots.AxesSubplot at 0x1690d219eb8>"
      ]
     },
     "execution_count": 364,
     "metadata": {},
     "output_type": "execute_result"
    },
    {
     "data": {
      "image/png": "[encoded data removed]",
      "text/plain": [
       "<matplotlib.figure.Figure at 0x1690d03fd68>"
      ]
     },
     "metadata": {},
     "output_type": "display_data"
    }
   ],
   "source": [
    "# Check distribution \n",
    "\n",
    "plt.rcParams['figure.figsize'] = (8.0,4.0)\n",
    "(df[\"Pressure_PPLS (PSI)\"]).hist()"
   ]
  },
  {
   "cell_type": "code",
   "execution_count": 365,
   "metadata": {},
   "outputs": [
    {
     "data": {
      "text/plain": [
       "Text(0.5,1,'IQR = 2')"
      ]
     },
     "execution_count": 365,
     "metadata": {},
     "output_type": "execute_result"
    },
    {
     "data": {
      "text/plain": [
       "<matplotlib.figure.Figure at 0x1690993f9e8>"
      ]
     },
     "metadata": {},
     "output_type": "display_data"
    },
    {
     "data": {
      "image/png": "[encoded data removed]",
      "text/plain": [
       "<matplotlib.figure.Figure at 0x1690993feb8>"
      ]
     },
     "metadata": {},
     "output_type": "display_data"
    }
   ],
   "source": [
    "plt.figure(figsize = (16, 6))\n",
    "f, (ax1, ax2) = plt.subplots(2)\n",
    "sns.boxplot(df[\"Pressure_PPLS (PSI)\"],whis=1.5,ax=ax1)\n",
    "ax1.set_title('IQR = 1.5')\n",
    "sns.boxplot(df[\"Pressure_PPLS (PSI)\"],whis=2,ax=ax2)\n",
    "ax2.set_title('IQR = 2')"
   ]
  },
  {
   "cell_type": "markdown",
   "metadata": {},
   "source": [
    "Outliers very close to each other, i suggest not to change the values "
   ]
  },
  {
   "cell_type": "markdown",
   "metadata": {},
   "source": [
    "### Frac_Gradient (PSI/ft)"
   ]
  },
  {
   "cell_type": "code",
   "execution_count": 366,
   "metadata": {},
   "outputs": [
    {
     "data": {
      "text/plain": [
       "3"
      ]
     },
     "execution_count": 366,
     "metadata": {},
     "output_type": "execute_result"
    }
   ],
   "source": [
    "#MV\n",
    "\n",
    "df[\"Frac_Gradient (PSI/ft)\"].isnull().sum()"
   ]
  },
  {
   "cell_type": "code",
   "execution_count": 367,
   "metadata": {},
   "outputs": [
    {
     "name": "stdout",
     "output_type": "stream",
     "text": [
      "-0.05771115733507852\n"
     ]
    }
   ],
   "source": [
    "missing= np.isnan(df[\"Frac_Gradient (PSI/ft)\"])\n",
    "df.loc[df[\"Frac_Gradient (PSI/ft)\"].isnull(), [\"API\",\"Frac_Gradient (PSI/ft)\"]]\n",
    "print(np.mean(df[\"Frac_Gradient (PSI/ft)\"]))"
   ]
  },
  {
   "cell_type": "markdown",
   "metadata": {},
   "source": [
    "We can notice from the distibution that all values are close to 0, so we replace missing values to the mean"
   ]
  },
  {
   "cell_type": "code",
   "execution_count": 368,
   "metadata": {},
   "outputs": [],
   "source": [
    "df.loc[missing,\"Frac_Gradient (PSI/ft)\"]=np.mean(df[\"Frac_Gradient (PSI/ft)\"])"
   ]
  },
  {
   "cell_type": "code",
   "execution_count": 369,
   "metadata": {},
   "outputs": [
    {
     "data": {
      "text/plain": [
       "<matplotlib.axes._subplots.AxesSubplot at 0x169097bb198>"
      ]
     },
     "execution_count": 369,
     "metadata": {},
     "output_type": "execute_result"
    },
    {
     "data": {
      "image/png": "[encoded data removed]",
      "text/plain": [
       "<matplotlib.figure.Figure at 0x169099519b0>"
      ]
     },
     "metadata": {},
     "output_type": "display_data"
    }
   ],
   "source": [
    "# Check distribution \n",
    "\n",
    "plt.rcParams['figure.figsize'] = (8.0,4.0)\n",
    "(df[\"Frac_Gradient (PSI/ft)\"]).hist(bins=20)"
   ]
  },
  {
   "cell_type": "code",
   "execution_count": 370,
   "metadata": {},
   "outputs": [
    {
     "data": {
      "text/plain": [
       "Text(0.5,1,'IQR = 2')"
      ]
     },
     "execution_count": 370,
     "metadata": {},
     "output_type": "execute_result"
    },
    {
     "data": {
      "text/plain": [
       "<matplotlib.figure.Figure at 0x1690b210be0>"
      ]
     },
     "metadata": {},
     "output_type": "display_data"
    },
    {
     "data": {
      "image/png": "[encoded data removed]",
      "text/plain": [
       "<matplotlib.figure.Figure at 0x1690b2100f0>"
      ]
     },
     "metadata": {},
     "output_type": "display_data"
    }
   ],
   "source": [
    "plt.figure(figsize = (16, 6))\n",
    "f, (ax1, ax2) = plt.subplots(2)\n",
    "sns.boxplot(df[\"Frac_Gradient (PSI/ft)\"],whis=1.5,ax=ax1)\n",
    "ax1.set_title('IQR = 1.5')\n",
    "sns.boxplot(df[\"Frac_Gradient (PSI/ft)\"],whis=2,ax=ax2)\n",
    "ax2.set_title('IQR = 2')"
   ]
  },
  {
   "cell_type": "code",
   "execution_count": 371,
   "metadata": {},
   "outputs": [
    {
     "data": {
      "text/html": [
       "<div>\n",
       "<style>\n",
       "    .dataframe thead tr:only-child th {\n",
       "        text-align: right;\n",
       "    }\n",
       "\n",
       "    .dataframe thead th {\n",
       "        text-align: left;\n",
       "    }\n",
       "\n",
       "    .dataframe tbody tr th {\n",
       "        vertical-align: top;\n",
       "    }\n",
       "</style>\n",
       "<table border=\"1\" class=\"dataframe\">\n",
       "  <thead>\n",
       "    <tr style=\"text-align: right;\">\n",
       "      <th></th>\n",
       "      <th>API</th>\n",
       "      <th>Frac_Gradient (PSI/ft)</th>\n",
       "    </tr>\n",
       "  </thead>\n",
       "  <tbody>\n",
       "    <tr>\n",
       "      <th>44</th>\n",
       "      <td>58</td>\n",
       "      <td>-0.970954</td>\n",
       "    </tr>\n",
       "  </tbody>\n",
       "</table>\n",
       "</div>"
      ],
      "text/plain": [
       "    API  Frac_Gradient (PSI/ft)\n",
       "44   58               -0.970954"
      ]
     },
     "execution_count": 371,
     "metadata": {},
     "output_type": "execute_result"
    }
   ],
   "source": [
    "o3=outliers(df,\"Frac_Gradient (PSI/ft)\",2)\n",
    "o3[[\"API\",\"Frac_Gradient (PSI/ft)\"]]"
   ]
  },
  {
   "cell_type": "code",
   "execution_count": 372,
   "metadata": {},
   "outputs": [],
   "source": [
    "replace_by_mean(df,\"Frac_Gradient (PSI/ft)\",o3)"
   ]
  },
  {
   "cell_type": "code",
   "execution_count": 373,
   "metadata": {},
   "outputs": [
    {
     "data": {
      "text/plain": [
       "API                             0\n",
       "Surf_X                          0\n",
       "Surf_Y                          0\n",
       "Date_Drilling                   0\n",
       "Date_Completion                 0\n",
       "Date_Production                 0\n",
       "deltaT_Comp_Prod                0\n",
       "Lateral_Length (ft)             0\n",
       "Depth_TVD_PPLS (ft)             0\n",
       "Erosion_PPLS (ft)               0\n",
       "Pressure_PPLS (PSI)             0\n",
       "TOC_PPLS (%)                    0\n",
       "Vcarb_PPLS                      0\n",
       "Vsand_PPLS                      0\n",
       "Vclay_PPLS                      0\n",
       "PR_PPLS                         0\n",
       "YM_PPLS (PSI)                   0\n",
       "RHOB_PPLS (g/cc)                0\n",
       "Res_PPLS (Ohmm)                 0\n",
       "GR_PPLS (API)                   0\n",
       "DT_PPLS (us/ft)                 0\n",
       "DTs_PPLS (us/ft)                0\n",
       "Temperature (F)                 0\n",
       "Temp_Anomaly (F)                0\n",
       "S3Tect_PPLS (PSI)               0\n",
       "S3_contrast_PPLS (PSI)          0\n",
       "Heat_Flow (W/m2)                0\n",
       "Zone                            0\n",
       "Nbr_Stages                      0\n",
       "Frac_Gradient (PSI/ft)          0\n",
       "Proppant_Designed (kg)          0\n",
       "Proppant_in_Formation (kg)      0\n",
       "Avg_Breakdown_Pressure (KPa)    0\n",
       "Avg_Treating_Pressure (KPa)     0\n",
       "Max_Treating_pressure (KPa)     0\n",
       "Min_Treating_Pressure (KPa)     0\n",
       "Avg_Rate_Slurry (bpm)           0\n",
       "Max_Rate_Slurry (bpm)           0\n",
       "Min_Rate_Slurry (bpm)           0\n",
       "ShutInPressure_Fil (KPa)        0\n",
       "ShutInPressure_Initial (KPa)    0\n",
       "ISIP (KPa)                      0\n",
       "Shot_Density (shots/ft)         0\n",
       "Shot_Total                      0\n",
       "Proppant_per_ft (kg/ft)         0\n",
       "Stage_Spacing (ft)              0\n",
       "dtype: int64"
      ]
     },
     "execution_count": 373,
     "metadata": {},
     "output_type": "execute_result"
    }
   ],
   "source": [
    "df.isnull().sum()"
   ]
  },
  {
   "cell_type": "markdown",
   "metadata": {},
   "source": [
    "\n",
    "#### Write everything to csv"
   ]
  },
  {
   "cell_type": "code",
   "execution_count": 374,
   "metadata": {
    "collapsed": true
   },
   "outputs": [],
   "source": [
    "df.to_csv('cleaned_test_194_lines_all_features.csv',sep=',',na_rep='na')"
   ]
  },
  {
   "cell_type": "code",
   "execution_count": null,
   "metadata": {
    "collapsed": true
   },
   "outputs": [],
   "source": []
  }
 ],
 "metadata": {
  "kernelspec": {
   "display_name": "Python 3",
   "language": "python",
   "name": "python3"
  },
  "language_info": {
   "codemirror_mode": {
    "name": "ipython",
    "version": 3
   },
   "file_extension": ".py",
   "mimetype": "text/x-python",
   "name": "python",
   "nbconvert_exporter": "python",
   "pygments_lexer": "ipython3",
   "version": "3.6.3"
  }
 },
 "nbformat": 4,
 "nbformat_minor": 2
}
