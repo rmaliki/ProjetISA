{
 "cells": [
  {
   "cell_type": "code",
   "execution_count": 46,
   "metadata": {},
   "outputs": [],
   "source": [
    "%matplotlib inline\n",
    "from datetime import datetime, date, time\n",
    "import pandas as pd\n",
    "import numpy as np\n",
    "import scipy as sp\n",
    "import matplotlib.pyplot as plt\n",
    "from sklearn import datasets, linear_model\n",
    "import plotly as pl\n",
    "\n",
    "train=pd.read_csv('TrainSample.csv',sep=';' )\n",
    "test=pd.read_csv('TestSample.csv',sep=';' )"
   ]
  },
  {
   "cell_type": "code",
   "execution_count": 69,
   "metadata": {},
   "outputs": [],
   "source": [
    "ind=range(6,45)\n",
    "ind.insert(0,1)\n",
    "ind.insert(1,2)\n",
    "names=[train.columns[i] for i in ind]\n"
   ]
  },
  {
   "cell_type": "markdown",
   "metadata": {},
   "source": [
    "the above is just to collect the indexes of variables that are not:\n",
    "\n",
    "API, any date, target"
   ]
  },
  {
   "cell_type": "markdown",
   "metadata": {},
   "source": [
    "## Comparison of Variances"
   ]
  },
  {
   "cell_type": "code",
   "execution_count": 73,
   "metadata": {},
   "outputs": [
    {
     "data": {
      "text/html": [
       "<div>\n",
       "<table border=\"1\" class=\"dataframe\">\n",
       "  <thead>\n",
       "    <tr style=\"text-align: right;\">\n",
       "      <th></th>\n",
       "      <th>0</th>\n",
       "      <th>1</th>\n",
       "    </tr>\n",
       "  </thead>\n",
       "  <tbody>\n",
       "    <tr>\n",
       "      <th>13</th>\n",
       "      <td>Res_PPLS (Ohmm)</td>\n",
       "      <td>0.486012</td>\n",
       "    </tr>\n",
       "    <tr>\n",
       "      <th>29</th>\n",
       "      <td>Max_Treating_pressure (KPa)</td>\n",
       "      <td>0.560473</td>\n",
       "    </tr>\n",
       "    <tr>\n",
       "      <th>38</th>\n",
       "      <td>Shot_Total</td>\n",
       "      <td>0.633596</td>\n",
       "    </tr>\n",
       "    <tr>\n",
       "      <th>22</th>\n",
       "      <td>Zone</td>\n",
       "      <td>0.882459</td>\n",
       "    </tr>\n",
       "    <tr>\n",
       "      <th>3</th>\n",
       "      <td>Depth_TVD_PPLS (ft)</td>\n",
       "      <td>0.896236</td>\n",
       "    </tr>\n",
       "  </tbody>\n",
       "</table>\n",
       "</div>"
      ],
      "text/plain": [
       "                              0         1\n",
       "13              Res_PPLS (Ohmm)  0.486012\n",
       "29  Max_Treating_pressure (KPa)  0.560473\n",
       "38                   Shot_Total  0.633596\n",
       "22                         Zone  0.882459\n",
       "3           Depth_TVD_PPLS (ft)  0.896236"
      ]
     },
     "execution_count": 73,
     "metadata": {},
     "output_type": "execute_result"
    }
   ],
   "source": [
    "train_vars=[[name,np.var(train[name])] for name in names]# test does not have oil and gas\n",
    "pd.DataFrame(train_vars).sort_values(1).head()\n"
   ]
  },
  {
   "cell_type": "code",
   "execution_count": 74,
   "metadata": {},
   "outputs": [
    {
     "data": {
      "text/html": [
       "<div>\n",
       "<table border=\"1\" class=\"dataframe\">\n",
       "  <thead>\n",
       "    <tr style=\"text-align: right;\">\n",
       "      <th></th>\n",
       "      <th>0</th>\n",
       "      <th>1</th>\n",
       "    </tr>\n",
       "  </thead>\n",
       "  <tbody>\n",
       "    <tr>\n",
       "      <th>21</th>\n",
       "      <td>Heat_Flow (W/m2)</td>\n",
       "      <td>1.161726</td>\n",
       "    </tr>\n",
       "    <tr>\n",
       "      <th>30</th>\n",
       "      <td>Min_Treating_Pressure (KPa)</td>\n",
       "      <td>1.170414</td>\n",
       "    </tr>\n",
       "    <tr>\n",
       "      <th>18</th>\n",
       "      <td>Temp_Anomaly (F)</td>\n",
       "      <td>1.187651</td>\n",
       "    </tr>\n",
       "    <tr>\n",
       "      <th>14</th>\n",
       "      <td>GR_PPLS (API)</td>\n",
       "      <td>1.371725</td>\n",
       "    </tr>\n",
       "    <tr>\n",
       "      <th>24</th>\n",
       "      <td>Frac_Gradient (PSI/ft)</td>\n",
       "      <td>1.651402</td>\n",
       "    </tr>\n",
       "  </tbody>\n",
       "</table>\n",
       "</div>"
      ],
      "text/plain": [
       "                              0         1\n",
       "21             Heat_Flow (W/m2)  1.161726\n",
       "30  Min_Treating_Pressure (KPa)  1.170414\n",
       "18             Temp_Anomaly (F)  1.187651\n",
       "14                GR_PPLS (API)  1.371725\n",
       "24       Frac_Gradient (PSI/ft)  1.651402"
      ]
     },
     "execution_count": 74,
     "metadata": {},
     "output_type": "execute_result"
    }
   ],
   "source": [
    "pd.DataFrame(train_vars).sort_values(1).tail()"
   ]
  },
  {
   "cell_type": "markdown",
   "metadata": {},
   "source": [
    "The varicane of the **training** set varibales is between 0.48 and 1.65\n",
    "\n",
    "The varicane of the **testing**  set varibales is between 0.05 and 1.31   (not shown)\n",
    "\n",
    "We want to compare the variances between training and testing now.\n",
    "For that, we do for each variable:\n",
    "\n",
    "|train var - test var| / total variance"
   ]
  },
  {
   "cell_type": "code",
   "execution_count": 75,
   "metadata": {},
   "outputs": [
    {
     "data": {
      "text/html": [
       "<div>\n",
       "<table border=\"1\" class=\"dataframe\">\n",
       "  <thead>\n",
       "    <tr style=\"text-align: right;\">\n",
       "      <th></th>\n",
       "      <th>Variable</th>\n",
       "      <th>Normalized Difference of Variance Train and Test</th>\n",
       "    </tr>\n",
       "  </thead>\n",
       "  <tbody>\n",
       "    <tr>\n",
       "      <th>24</th>\n",
       "      <td>Frac_Gradient (PSI/ft)</td>\n",
       "      <td>1.837926</td>\n",
       "    </tr>\n",
       "    <tr>\n",
       "      <th>13</th>\n",
       "      <td>Res_PPLS (Ohmm)</td>\n",
       "      <td>1.265093</td>\n",
       "    </tr>\n",
       "    <tr>\n",
       "      <th>29</th>\n",
       "      <td>Max_Treating_pressure (KPa)</td>\n",
       "      <td>1.189994</td>\n",
       "    </tr>\n",
       "    <tr>\n",
       "      <th>14</th>\n",
       "      <td>GR_PPLS (API)</td>\n",
       "      <td>0.885649</td>\n",
       "    </tr>\n",
       "    <tr>\n",
       "      <th>30</th>\n",
       "      <td>Min_Treating_Pressure (KPa)</td>\n",
       "      <td>0.482463</td>\n",
       "    </tr>\n",
       "    <tr>\n",
       "      <th>10</th>\n",
       "      <td>PR_PPLS</td>\n",
       "      <td>0.431738</td>\n",
       "    </tr>\n",
       "    <tr>\n",
       "      <th>33</th>\n",
       "      <td>Min_Rate_Slurry (bpm)</td>\n",
       "      <td>0.414365</td>\n",
       "    </tr>\n",
       "    <tr>\n",
       "      <th>18</th>\n",
       "      <td>Temp_Anomaly (F)</td>\n",
       "      <td>0.411965</td>\n",
       "    </tr>\n",
       "    <tr>\n",
       "      <th>36</th>\n",
       "      <td>ISIP (KPa)</td>\n",
       "      <td>0.380886</td>\n",
       "    </tr>\n",
       "  </tbody>\n",
       "</table>\n",
       "</div>"
      ],
      "text/plain": [
       "                       Variable  \\\n",
       "24       Frac_Gradient (PSI/ft)   \n",
       "13              Res_PPLS (Ohmm)   \n",
       "29  Max_Treating_pressure (KPa)   \n",
       "14                GR_PPLS (API)   \n",
       "30  Min_Treating_Pressure (KPa)   \n",
       "10                      PR_PPLS   \n",
       "33        Min_Rate_Slurry (bpm)   \n",
       "18             Temp_Anomaly (F)   \n",
       "36                   ISIP (KPa)   \n",
       "\n",
       "    Normalized Difference of Variance Train and Test  \n",
       "24                                          1.837926  \n",
       "13                                          1.265093  \n",
       "29                                          1.189994  \n",
       "14                                          0.885649  \n",
       "30                                          0.482463  \n",
       "10                                          0.431738  \n",
       "33                                          0.414365  \n",
       "18                                          0.411965  \n",
       "36                                          0.380886  "
      ]
     },
     "execution_count": 75,
     "metadata": {},
     "output_type": "execute_result"
    }
   ],
   "source": [
    "test_vars=[[name,np.var(test[name])] for name in names]# test does not have oil and gas\n",
    "\n",
    "\n",
    "vars_difference=[ [test_vars[i][0], np.abs(test_vars[i][1]- train_vars[i][1])*890/(test_vars[i][1]*235+ train_vars[i][1]*460)] for i in range(len(train_vars))]\n",
    "vars_difference=pd.DataFrame(vars_difference)\n",
    "vars_difference=vars_difference.sort_values(1,ascending=False)\n",
    "vars_difference.columns=('Variable','Normalized Difference of Variance Train and Test')\n",
    "vars_difference.head(9)"
   ]
  },
  {
   "cell_type": "markdown",
   "metadata": {},
   "source": [
    "So we actually have a significant differene in the variance between train and test in some variables. That's also a difficulty for anova.."
   ]
  },
  {
   "cell_type": "markdown",
   "metadata": {},
   "source": [
    "## Comparision of the means ( unifished)\n",
    "We calculate the mean for each varible and compare train set with test set, normalized by the standard de"
   ]
  },
  {
   "cell_type": "code",
   "execution_count": 77,
   "metadata": {},
   "outputs": [],
   "source": [
    "train_means=[[name,np.mean(train[name])] for name in names]# test does not have oil and gas\n",
    "\n",
    "\n",
    "test_means=[[name,np.mean(test[name])] for name in names]# test does not have oil and gas\n",
    "test_means.insert(0,['Surf_X',np.mean(test['Surf_X'])])\n",
    "test_means.insert(1,['Surf_Y',np.mean(test['Surf_Y'])])\n",
    "\n",
    "means_difference=[ [test_means[i][0], np.abs(test_means[i][1]- train_means[i][1])] for i in range(len(train_means))]\n",
    "means_difference=pd.DataFrame(means_difference)"
   ]
  },
  {
   "cell_type": "markdown",
   "metadata": {},
   "source": [
    "The highest difference in means have the two variables Shut_inPressure_Fil and min Rate Slurry, so we are gonna plot them."
   ]
  },
  {
   "cell_type": "code",
   "execution_count": 5,
   "metadata": {},
   "outputs": [
    {
     "data": {
      "text/plain": [
       "<matplotlib.legend.Legend at 0x7f7c20b43990>"
      ]
     },
     "execution_count": 5,
     "metadata": {},
     "output_type": "execute_result"
    },
    {
     "data": {
      "image/png": "[encoded data removed]",
      "text/plain": [
       "<matplotlib.figure.Figure at 0x7f7c20b7ba90>"
      ]
     },
     "metadata": {},
     "output_type": "display_data"
    }
   ],
   "source": [
    "n=37\n",
    "plt.figure(figsize=(8,8))\n",
    "\n",
    "plt.scatter(train[train.columns[n]],train[train.columns[n+1]],c='blue',label='train',s=15)\n",
    "plt.scatter(test[test.columns[n]],test[test.columns[n+1]],c='red',label='test',s=10)\n",
    "plt.xlabel(train.columns[n])\n",
    "plt.ylabel(train.columns[n+1])\n",
    "plt.legend()"
   ]
  },
  {
   "cell_type": "code",
   "execution_count": 12,
   "metadata": {},
   "outputs": [
    {
     "data": {
      "text/plain": [
       "<matplotlib.text.Text at 0x7f7c1fb83410>"
      ]
     },
     "execution_count": 12,
     "metadata": {},
     "output_type": "execute_result"
    },
    {
     "data": {
      "image/png": "[encoded data removed]",
      "text/plain": [
       "<matplotlib.figure.Figure at 0x7f7c207b9f90>"
      ]
     },
     "metadata": {},
     "output_type": "display_data"
    },
    {
     "data": {
      "image/png": "[encoded data removed]",
      "text/plain": [
       "<matplotlib.figure.Figure at 0x7f7c209c36d0>"
      ]
     },
     "metadata": {},
     "output_type": "display_data"
    }
   ],
   "source": [
    "bins2=np.arange(-7,4,0.4)\n",
    "plt.hist(train.dropna()[train.columns[n+1]],bins=bins2,normed=True)\n",
    "plt.xlabel('ShutInPressure Fil (KPa)')\n",
    "plt.title('Train')\n",
    "plt.figure()\n",
    "\n",
    "plt.hist(test.dropna()[test.columns[n+1]],bins=bins2,normed=True,color='g')\n",
    "plt.xlabel('ShutInPressure Fil (KPa)')\n",
    "plt.title('Test')"
   ]
  },
  {
   "cell_type": "markdown",
   "metadata": {},
   "source": [
    "At least visually we cannot see a significant difference. ( we will do a ks test of euquality of distributins later) As the varicance not too different for \n",
    "'ShutInPressure_Fil' we can do an anova test."
   ]
  },
  {
   "cell_type": "markdown",
   "metadata": {},
   "source": [
    "## KS Test for Equality of distributions"
   ]
  },
  {
   "cell_type": "code",
   "execution_count": 121,
   "metadata": {},
   "outputs": [
    {
     "data": {
      "text/html": [
       "<div>\n",
       "<table border=\"1\" class=\"dataframe\">\n",
       "  <thead>\n",
       "    <tr style=\"text-align: right;\">\n",
       "      <th></th>\n",
       "      <th>p-value</th>\n",
       "      <th>variable</th>\n",
       "    </tr>\n",
       "  </thead>\n",
       "  <tbody>\n",
       "    <tr>\n",
       "      <th>37</th>\n",
       "      <td>0.001678</td>\n",
       "      <td>Shot_Density (shots/ft)</td>\n",
       "    </tr>\n",
       "    <tr>\n",
       "      <th>26</th>\n",
       "      <td>0.032129</td>\n",
       "      <td>Proppant_in_Formation (kg)</td>\n",
       "    </tr>\n",
       "    <tr>\n",
       "      <th>34</th>\n",
       "      <td>0.044326</td>\n",
       "      <td>ShutInPressure_Fil (KPa)</td>\n",
       "    </tr>\n",
       "    <tr>\n",
       "      <th>2</th>\n",
       "      <td>0.054308</td>\n",
       "      <td>Lateral_Length (ft)</td>\n",
       "    </tr>\n",
       "    <tr>\n",
       "      <th>14</th>\n",
       "      <td>0.059435</td>\n",
       "      <td>GR_PPLS (API)</td>\n",
       "    </tr>\n",
       "    <tr>\n",
       "      <th>25</th>\n",
       "      <td>0.060360</td>\n",
       "      <td>Proppant_Designed (kg)</td>\n",
       "    </tr>\n",
       "    <tr>\n",
       "      <th>23</th>\n",
       "      <td>0.073545</td>\n",
       "      <td>Nbr_Stages</td>\n",
       "    </tr>\n",
       "    <tr>\n",
       "      <th>33</th>\n",
       "      <td>0.107922</td>\n",
       "      <td>Min_Rate_Slurry (bpm)</td>\n",
       "    </tr>\n",
       "    <tr>\n",
       "      <th>31</th>\n",
       "      <td>0.110066</td>\n",
       "      <td>Avg_Rate_Slurry (bpm)</td>\n",
       "    </tr>\n",
       "    <tr>\n",
       "      <th>38</th>\n",
       "      <td>0.118013</td>\n",
       "      <td>Shot_Total</td>\n",
       "    </tr>\n",
       "  </tbody>\n",
       "</table>\n",
       "</div>"
      ],
      "text/plain": [
       "     p-value                    variable\n",
       "37  0.001678     Shot_Density (shots/ft)\n",
       "26  0.032129  Proppant_in_Formation (kg)\n",
       "34  0.044326    ShutInPressure_Fil (KPa)\n",
       "2   0.054308         Lateral_Length (ft)\n",
       "14  0.059435               GR_PPLS (API)\n",
       "25  0.060360      Proppant_Designed (kg)\n",
       "23  0.073545                  Nbr_Stages\n",
       "33  0.107922       Min_Rate_Slurry (bpm)\n",
       "31  0.110066       Avg_Rate_Slurry (bpm)\n",
       "38  0.118013                  Shot_Total"
      ]
     },
     "execution_count": 121,
     "metadata": {},
     "output_type": "execute_result"
    }
   ],
   "source": [
    "ksTests=[(sp.stats.ks_2samp(train[name],test[name]).pvalue,name) for name in names]\n",
    "ksTests=pd.DataFrame(ksTests)\n",
    "ksTests.columns=('p-value','variable')\n",
    "ksTests=ksTests.sort_values('p-value')\n",
    "ksTests[:10]                                                                  "
   ]
  },
  {
   "cell_type": "markdown",
   "metadata": {},
   "source": [
    "With risk of alpha = 0.05 we have to throw the null hypothesis of equality of distributions for 3 festures"
   ]
  },
  {
   "cell_type": "markdown",
   "metadata": {},
   "source": [
    " ## Test for normality\n",
    " If we have normality in certain features, the test of equals means in train and test in each variable could be more accurate... so we check each variable in train and test for normality.."
   ]
  },
  {
   "cell_type": "code",
   "execution_count": 120,
   "metadata": {},
   "outputs": [
    {
     "data": {
      "text/html": [
       "<div>\n",
       "<table border=\"1\" class=\"dataframe\">\n",
       "  <thead>\n",
       "    <tr style=\"text-align: right;\">\n",
       "      <th></th>\n",
       "      <th>statistic</th>\n",
       "      <th>pvalue</th>\n",
       "    </tr>\n",
       "  </thead>\n",
       "  <tbody>\n",
       "    <tr>\n",
       "      <th>8</th>\n",
       "      <td>0.097887</td>\n",
       "      <td>0.004438</td>\n",
       "    </tr>\n",
       "    <tr>\n",
       "      <th>29</th>\n",
       "      <td>0.096876</td>\n",
       "      <td>0.005030</td>\n",
       "    </tr>\n",
       "    <tr>\n",
       "      <th>17</th>\n",
       "      <td>0.092110</td>\n",
       "      <td>0.008917</td>\n",
       "    </tr>\n",
       "    <tr>\n",
       "      <th>4</th>\n",
       "      <td>0.089715</td>\n",
       "      <td>0.011761</td>\n",
       "    </tr>\n",
       "    <tr>\n",
       "      <th>1</th>\n",
       "      <td>0.086876</td>\n",
       "      <td>0.016173</td>\n",
       "    </tr>\n",
       "    <tr>\n",
       "      <th>5</th>\n",
       "      <td>0.083079</td>\n",
       "      <td>0.024373</td>\n",
       "    </tr>\n",
       "    <tr>\n",
       "      <th>19</th>\n",
       "      <td>0.080973</td>\n",
       "      <td>0.030358</td>\n",
       "    </tr>\n",
       "    <tr>\n",
       "      <th>35</th>\n",
       "      <td>0.078583</td>\n",
       "      <td>0.038685</td>\n",
       "    </tr>\n",
       "    <tr>\n",
       "      <th>31</th>\n",
       "      <td>0.072257</td>\n",
       "      <td>0.070943</td>\n",
       "    </tr>\n",
       "    <tr>\n",
       "      <th>27</th>\n",
       "      <td>0.064149</td>\n",
       "      <td>0.143310</td>\n",
       "    </tr>\n",
       "    <tr>\n",
       "      <th>3</th>\n",
       "      <td>0.060151</td>\n",
       "      <td>0.196595</td>\n",
       "    </tr>\n",
       "    <tr>\n",
       "      <th>34</th>\n",
       "      <td>0.056609</td>\n",
       "      <td>0.255767</td>\n",
       "    </tr>\n",
       "    <tr>\n",
       "      <th>28</th>\n",
       "      <td>0.052631</td>\n",
       "      <td>0.337265</td>\n",
       "    </tr>\n",
       "    <tr>\n",
       "      <th>15</th>\n",
       "      <td>0.052318</td>\n",
       "      <td>0.344381</td>\n",
       "    </tr>\n",
       "    <tr>\n",
       "      <th>20</th>\n",
       "      <td>0.048494</td>\n",
       "      <td>0.440217</td>\n",
       "    </tr>\n",
       "  </tbody>\n",
       "</table>\n",
       "</div>"
      ],
      "text/plain": [
       "    statistic    pvalue\n",
       "8    0.097887  0.004438\n",
       "29   0.096876  0.005030\n",
       "17   0.092110  0.008917\n",
       "4    0.089715  0.011761\n",
       "1    0.086876  0.016173\n",
       "5    0.083079  0.024373\n",
       "19   0.080973  0.030358\n",
       "35   0.078583  0.038685\n",
       "31   0.072257  0.070943\n",
       "27   0.064149  0.143310\n",
       "3    0.060151  0.196595\n",
       "34   0.056609  0.255767\n",
       "28   0.052631  0.337265\n",
       "15   0.052318  0.344381\n",
       "20   0.048494  0.440217"
      ]
     },
     "execution_count": 120,
     "metadata": {},
     "output_type": "execute_result"
    }
   ],
   "source": [
    "\n",
    "norm_test_train=[sp.stats.kstest((train.dropna()[name]-np.mean(train.dropna()[name]))/np.sqrt(np.var(train.dropna()[name])),'norm') for name in names]\n",
    "\n",
    "norm_test_train=pd.DataFrame(norm_test_train)\n",
    "norm_test_train.sort_values('pvalue').tail(15)"
   ]
  },
  {
   "cell_type": "markdown",
   "metadata": {},
   "source": [
    "the majority of the feature can no be considered normally distributed. The tail above just shows the features with high p-value. ( those that are most likely to be normally distributed)"
   ]
  }
 ],
 "metadata": {
  "kernelspec": {
   "display_name": "Python 2",
   "language": "python",
   "name": "python2"
  },
  "language_info": {
   "codemirror_mode": {
    "name": "ipython",
    "version": 2
   },
   "file_extension": ".py",
   "mimetype": "text/x-python",
   "name": "python",
   "nbconvert_exporter": "python",
   "pygments_lexer": "ipython2",
   "version": "2.7.12"
  }
 },
 "nbformat": 4,
 "nbformat_minor": 2
}
