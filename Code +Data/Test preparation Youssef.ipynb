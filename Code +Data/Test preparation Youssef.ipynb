{
 "cells": [
  {
   "cell_type": "markdown",
   "metadata": {},
   "source": [
    "# Test set preparation - Outliers and missing values"
   ]
  },
  {
   "cell_type": "code",
   "execution_count": 7,
   "metadata": {},
   "outputs": [
    {
     "data": {
      "text/html": [
       "<div>\n",
       "<style>\n",
       "    .dataframe thead tr:only-child th {\n",
       "        text-align: right;\n",
       "    }\n",
       "\n",
       "    .dataframe thead th {\n",
       "        text-align: left;\n",
       "    }\n",
       "\n",
       "    .dataframe tbody tr th {\n",
       "        vertical-align: top;\n",
       "    }\n",
       "</style>\n",
       "<table border=\"1\" class=\"dataframe\">\n",
       "  <thead>\n",
       "    <tr style=\"text-align: right;\">\n",
       "      <th></th>\n",
       "      <th>API</th>\n",
       "      <th>Surf_X</th>\n",
       "      <th>Surf_Y</th>\n",
       "      <th>Date_Drilling</th>\n",
       "      <th>Date_Completion</th>\n",
       "      <th>Date_Production</th>\n",
       "      <th>Lateral_Length (ft)</th>\n",
       "      <th>Depth_TVD_PPLS (ft)</th>\n",
       "      <th>Erosion_PPLS (ft)</th>\n",
       "      <th>Pressure_PPLS (PSI)</th>\n",
       "      <th>...</th>\n",
       "      <th>Avg_Rate_Slurry (bpm)</th>\n",
       "      <th>Max_Rate_Slurry (bpm)</th>\n",
       "      <th>Min_Rate_Slurry (bpm)</th>\n",
       "      <th>ShutInPressure_Fil (KPa)</th>\n",
       "      <th>ShutInPressure_Initial (KPa)</th>\n",
       "      <th>ISIP (KPa)</th>\n",
       "      <th>Shot_Density (shots/ft)</th>\n",
       "      <th>Shot_Total</th>\n",
       "      <th>Proppant_per_ft (kg/ft)</th>\n",
       "      <th>Stage_Spacing (ft)</th>\n",
       "    </tr>\n",
       "  </thead>\n",
       "  <tbody>\n",
       "    <tr>\n",
       "      <th>0</th>\n",
       "      <td>633</td>\n",
       "      <td>0.201275</td>\n",
       "      <td>-0.577329</td>\n",
       "      <td>23/06/2013</td>\n",
       "      <td>26/10/2013</td>\n",
       "      <td>10/01/2014</td>\n",
       "      <td>-0.694826</td>\n",
       "      <td>0.641631</td>\n",
       "      <td>-0.356227</td>\n",
       "      <td>1.410748</td>\n",
       "      <td>...</td>\n",
       "      <td>0.908861</td>\n",
       "      <td>0.395627</td>\n",
       "      <td>0.667402</td>\n",
       "      <td>NaN</td>\n",
       "      <td>-0.740473</td>\n",
       "      <td>0.131374</td>\n",
       "      <td>0.187082</td>\n",
       "      <td>2.409201</td>\n",
       "      <td>0.160140</td>\n",
       "      <td>-0.710739</td>\n",
       "    </tr>\n",
       "    <tr>\n",
       "      <th>1</th>\n",
       "      <td>587</td>\n",
       "      <td>0.222609</td>\n",
       "      <td>0.670307</td>\n",
       "      <td>02/06/2012</td>\n",
       "      <td>03/07/2012</td>\n",
       "      <td>05/08/2013</td>\n",
       "      <td>-0.479516</td>\n",
       "      <td>-1.377997</td>\n",
       "      <td>-1.812483</td>\n",
       "      <td>1.605136</td>\n",
       "      <td>...</td>\n",
       "      <td>-0.922311</td>\n",
       "      <td>0.896792</td>\n",
       "      <td>0.285738</td>\n",
       "      <td>-0.919600</td>\n",
       "      <td>-1.103957</td>\n",
       "      <td>-1.282464</td>\n",
       "      <td>0.667339</td>\n",
       "      <td>-0.560750</td>\n",
       "      <td>-1.149666</td>\n",
       "      <td>2.085649</td>\n",
       "    </tr>\n",
       "    <tr>\n",
       "      <th>2</th>\n",
       "      <td>264</td>\n",
       "      <td>0.022105</td>\n",
       "      <td>0.404387</td>\n",
       "      <td>19/05/2013</td>\n",
       "      <td>24/07/2013</td>\n",
       "      <td>06/10/2013</td>\n",
       "      <td>0.310782</td>\n",
       "      <td>-0.775745</td>\n",
       "      <td>0.243462</td>\n",
       "      <td>-0.136014</td>\n",
       "      <td>...</td>\n",
       "      <td>0.148860</td>\n",
       "      <td>-0.094971</td>\n",
       "      <td>0.459046</td>\n",
       "      <td>0.614126</td>\n",
       "      <td>1.029028</td>\n",
       "      <td>1.103339</td>\n",
       "      <td>-0.773433</td>\n",
       "      <td>0.924226</td>\n",
       "      <td>-0.585869</td>\n",
       "      <td>-0.137427</td>\n",
       "    </tr>\n",
       "    <tr>\n",
       "      <th>3</th>\n",
       "      <td>680</td>\n",
       "      <td>0.384359</td>\n",
       "      <td>0.372793</td>\n",
       "      <td>18/08/2012</td>\n",
       "      <td>19/12/2012</td>\n",
       "      <td>12/06/2013</td>\n",
       "      <td>-0.624508</td>\n",
       "      <td>-1.082974</td>\n",
       "      <td>-1.922374</td>\n",
       "      <td>1.443630</td>\n",
       "      <td>...</td>\n",
       "      <td>0.970521</td>\n",
       "      <td>1.132279</td>\n",
       "      <td>0.332100</td>\n",
       "      <td>-0.782232</td>\n",
       "      <td>0.450368</td>\n",
       "      <td>-0.136076</td>\n",
       "      <td>0.667339</td>\n",
       "      <td>-0.560750</td>\n",
       "      <td>0.595622</td>\n",
       "      <td>1.887260</td>\n",
       "    </tr>\n",
       "    <tr>\n",
       "      <th>4</th>\n",
       "      <td>443</td>\n",
       "      <td>-0.138513</td>\n",
       "      <td>0.408803</td>\n",
       "      <td>11/09/2013</td>\n",
       "      <td>29/03/2014</td>\n",
       "      <td>11/05/2014</td>\n",
       "      <td>0.338785</td>\n",
       "      <td>-0.616106</td>\n",
       "      <td>0.556826</td>\n",
       "      <td>-1.011425</td>\n",
       "      <td>...</td>\n",
       "      <td>0.786056</td>\n",
       "      <td>0.985914</td>\n",
       "      <td>0.323490</td>\n",
       "      <td>NaN</td>\n",
       "      <td>0.743256</td>\n",
       "      <td>0.835687</td>\n",
       "      <td>-1.253690</td>\n",
       "      <td>0.181738</td>\n",
       "      <td>0.151633</td>\n",
       "      <td>-0.216512</td>\n",
       "    </tr>\n",
       "  </tbody>\n",
       "</table>\n",
       "<p>5 rows × 45 columns</p>\n",
       "</div>"
      ],
      "text/plain": [
       "   API    Surf_X    Surf_Y Date_Drilling Date_Completion Date_Production  \\\n",
       "0  633  0.201275 -0.577329    23/06/2013      26/10/2013      10/01/2014   \n",
       "1  587  0.222609  0.670307    02/06/2012      03/07/2012      05/08/2013   \n",
       "2  264  0.022105  0.404387    19/05/2013      24/07/2013      06/10/2013   \n",
       "3  680  0.384359  0.372793    18/08/2012      19/12/2012      12/06/2013   \n",
       "4  443 -0.138513  0.408803    11/09/2013      29/03/2014      11/05/2014   \n",
       "\n",
       "   Lateral_Length (ft)  Depth_TVD_PPLS (ft)  Erosion_PPLS (ft)  \\\n",
       "0            -0.694826             0.641631          -0.356227   \n",
       "1            -0.479516            -1.377997          -1.812483   \n",
       "2             0.310782            -0.775745           0.243462   \n",
       "3            -0.624508            -1.082974          -1.922374   \n",
       "4             0.338785            -0.616106           0.556826   \n",
       "\n",
       "   Pressure_PPLS (PSI)         ...          Avg_Rate_Slurry (bpm)  \\\n",
       "0             1.410748         ...                       0.908861   \n",
       "1             1.605136         ...                      -0.922311   \n",
       "2            -0.136014         ...                       0.148860   \n",
       "3             1.443630         ...                       0.970521   \n",
       "4            -1.011425         ...                       0.786056   \n",
       "\n",
       "   Max_Rate_Slurry (bpm)  Min_Rate_Slurry (bpm)  ShutInPressure_Fil (KPa)  \\\n",
       "0               0.395627               0.667402                       NaN   \n",
       "1               0.896792               0.285738                 -0.919600   \n",
       "2              -0.094971               0.459046                  0.614126   \n",
       "3               1.132279               0.332100                 -0.782232   \n",
       "4               0.985914               0.323490                       NaN   \n",
       "\n",
       "   ShutInPressure_Initial (KPa)  ISIP (KPa)  Shot_Density (shots/ft)  \\\n",
       "0                     -0.740473    0.131374                 0.187082   \n",
       "1                     -1.103957   -1.282464                 0.667339   \n",
       "2                      1.029028    1.103339                -0.773433   \n",
       "3                      0.450368   -0.136076                 0.667339   \n",
       "4                      0.743256    0.835687                -1.253690   \n",
       "\n",
       "   Shot_Total  Proppant_per_ft (kg/ft)  Stage_Spacing (ft)  \n",
       "0    2.409201                 0.160140           -0.710739  \n",
       "1   -0.560750                -1.149666            2.085649  \n",
       "2    0.924226                -0.585869           -0.137427  \n",
       "3   -0.560750                 0.595622            1.887260  \n",
       "4    0.181738                 0.151633           -0.216512  \n",
       "\n",
       "[5 rows x 45 columns]"
      ]
     },
     "execution_count": 7,
     "metadata": {},
     "output_type": "execute_result"
    }
   ],
   "source": [
    "# Data exploration tools\n",
    "\n",
    "import os\n",
    "import datetime as dt\n",
    "import numpy as np\n",
    "import pandas as pd\n",
    "import seaborn as sns\n",
    "from sklearn import linear_model\n",
    "import outlier_removal as out\n",
    "import matplotlib.pyplot as plt\n",
    "%matplotlib inline\n",
    "\n",
    "os.chdir(b\"C:\\Users\\EDDAHABI\\Documents\\GitHub\\ProjetISA\")\n",
    "\n",
    "df = pd.read_csv('Code +Data/TestSample.csv',sep=';',decimal=',')\n",
    "df.head()"
   ]
  },
  {
   "cell_type": "code",
   "execution_count": 8,
   "metadata": {},
   "outputs": [
    {
     "data": {
      "text/html": [
       "<div>\n",
       "<style>\n",
       "    .dataframe thead tr:only-child th {\n",
       "        text-align: right;\n",
       "    }\n",
       "\n",
       "    .dataframe thead th {\n",
       "        text-align: left;\n",
       "    }\n",
       "\n",
       "    .dataframe tbody tr th {\n",
       "        vertical-align: top;\n",
       "    }\n",
       "</style>\n",
       "<table border=\"1\" class=\"dataframe\">\n",
       "  <thead>\n",
       "    <tr style=\"text-align: right;\">\n",
       "      <th></th>\n",
       "      <th>API</th>\n",
       "      <th>Surf_X</th>\n",
       "      <th>Surf_Y</th>\n",
       "      <th>Lateral_Length (ft)</th>\n",
       "      <th>Depth_TVD_PPLS (ft)</th>\n",
       "      <th>Erosion_PPLS (ft)</th>\n",
       "      <th>Pressure_PPLS (PSI)</th>\n",
       "      <th>TOC_PPLS (%)</th>\n",
       "      <th>Vcarb_PPLS</th>\n",
       "      <th>Vsand_PPLS</th>\n",
       "      <th>...</th>\n",
       "      <th>Avg_Rate_Slurry (bpm)</th>\n",
       "      <th>Max_Rate_Slurry (bpm)</th>\n",
       "      <th>Min_Rate_Slurry (bpm)</th>\n",
       "      <th>ShutInPressure_Fil (KPa)</th>\n",
       "      <th>ShutInPressure_Initial (KPa)</th>\n",
       "      <th>ISIP (KPa)</th>\n",
       "      <th>Shot_Density (shots/ft)</th>\n",
       "      <th>Shot_Total</th>\n",
       "      <th>Proppant_per_ft (kg/ft)</th>\n",
       "      <th>Stage_Spacing (ft)</th>\n",
       "    </tr>\n",
       "  </thead>\n",
       "  <tbody>\n",
       "    <tr>\n",
       "      <th>count</th>\n",
       "      <td>235.000000</td>\n",
       "      <td>235.000000</td>\n",
       "      <td>235.000000</td>\n",
       "      <td>235.000000</td>\n",
       "      <td>235.000000</td>\n",
       "      <td>235.000000</td>\n",
       "      <td>230.000000</td>\n",
       "      <td>235.000000</td>\n",
       "      <td>235.000000</td>\n",
       "      <td>235.000000</td>\n",
       "      <td>...</td>\n",
       "      <td>193.000000</td>\n",
       "      <td>193.000000</td>\n",
       "      <td>192.000000</td>\n",
       "      <td>176.000000</td>\n",
       "      <td>188.000000</td>\n",
       "      <td>191.000000</td>\n",
       "      <td>194.000000</td>\n",
       "      <td>194.000000</td>\n",
       "      <td>193.000000</td>\n",
       "      <td>194.000000</td>\n",
       "    </tr>\n",
       "    <tr>\n",
       "      <th>mean</th>\n",
       "      <td>392.697872</td>\n",
       "      <td>0.136214</td>\n",
       "      <td>-0.113241</td>\n",
       "      <td>-0.159080</td>\n",
       "      <td>0.036236</td>\n",
       "      <td>0.010932</td>\n",
       "      <td>-0.007119</td>\n",
       "      <td>0.091912</td>\n",
       "      <td>-0.045268</td>\n",
       "      <td>0.073225</td>\n",
       "      <td>...</td>\n",
       "      <td>0.193706</td>\n",
       "      <td>0.128772</td>\n",
       "      <td>0.198197</td>\n",
       "      <td>-0.236692</td>\n",
       "      <td>-0.036956</td>\n",
       "      <td>-0.107272</td>\n",
       "      <td>-0.239517</td>\n",
       "      <td>0.139261</td>\n",
       "      <td>-0.003333</td>\n",
       "      <td>0.028647</td>\n",
       "    </tr>\n",
       "    <tr>\n",
       "      <th>std</th>\n",
       "      <td>231.284979</td>\n",
       "      <td>0.923972</td>\n",
       "      <td>0.940829</td>\n",
       "      <td>0.892798</td>\n",
       "      <td>0.977949</td>\n",
       "      <td>1.025116</td>\n",
       "      <td>1.088428</td>\n",
       "      <td>0.914556</td>\n",
       "      <td>1.053128</td>\n",
       "      <td>1.053969</td>\n",
       "      <td>...</td>\n",
       "      <td>0.950198</td>\n",
       "      <td>0.998057</td>\n",
       "      <td>1.118451</td>\n",
       "      <td>1.010960</td>\n",
       "      <td>0.998438</td>\n",
       "      <td>0.919150</td>\n",
       "      <td>0.998651</td>\n",
       "      <td>0.808711</td>\n",
       "      <td>1.025006</td>\n",
       "      <td>0.951854</td>\n",
       "    </tr>\n",
       "    <tr>\n",
       "      <th>min</th>\n",
       "      <td>3.000000</td>\n",
       "      <td>-2.400804</td>\n",
       "      <td>-2.614247</td>\n",
       "      <td>-2.608966</td>\n",
       "      <td>-3.006632</td>\n",
       "      <td>-2.122505</td>\n",
       "      <td>-3.560607</td>\n",
       "      <td>-2.169983</td>\n",
       "      <td>-3.404962</td>\n",
       "      <td>-2.125431</td>\n",
       "      <td>...</td>\n",
       "      <td>-3.213068</td>\n",
       "      <td>-3.600518</td>\n",
       "      <td>-1.386031</td>\n",
       "      <td>-6.253073</td>\n",
       "      <td>-2.641175</td>\n",
       "      <td>-3.050678</td>\n",
       "      <td>-1.253690</td>\n",
       "      <td>-2.020122</td>\n",
       "      <td>-1.596762</td>\n",
       "      <td>-1.725533</td>\n",
       "    </tr>\n",
       "    <tr>\n",
       "      <th>25%</th>\n",
       "      <td>183.500000</td>\n",
       "      <td>-0.204865</td>\n",
       "      <td>-0.785113</td>\n",
       "      <td>-0.722828</td>\n",
       "      <td>-0.629476</td>\n",
       "      <td>-0.843968</td>\n",
       "      <td>-0.607535</td>\n",
       "      <td>-0.426696</td>\n",
       "      <td>-0.294986</td>\n",
       "      <td>-0.718530</td>\n",
       "      <td>...</td>\n",
       "      <td>-0.397162</td>\n",
       "      <td>-0.447296</td>\n",
       "      <td>-0.352404</td>\n",
       "      <td>-0.788114</td>\n",
       "      <td>-0.711214</td>\n",
       "      <td>-0.608608</td>\n",
       "      <td>-1.253690</td>\n",
       "      <td>-0.560750</td>\n",
       "      <td>-0.531772</td>\n",
       "      <td>-0.264024</td>\n",
       "    </tr>\n",
       "    <tr>\n",
       "      <th>50%</th>\n",
       "      <td>394.000000</td>\n",
       "      <td>0.190147</td>\n",
       "      <td>-0.157602</td>\n",
       "      <td>-0.435956</td>\n",
       "      <td>-0.005779</td>\n",
       "      <td>0.014252</td>\n",
       "      <td>0.108603</td>\n",
       "      <td>0.320427</td>\n",
       "      <td>0.245879</td>\n",
       "      <td>-0.190943</td>\n",
       "      <td>...</td>\n",
       "      <td>0.493871</td>\n",
       "      <td>0.469694</td>\n",
       "      <td>0.332846</td>\n",
       "      <td>-0.216415</td>\n",
       "      <td>0.111706</td>\n",
       "      <td>0.037660</td>\n",
       "      <td>-0.773433</td>\n",
       "      <td>0.181738</td>\n",
       "      <td>-0.483228</td>\n",
       "      <td>-0.175266</td>\n",
       "    </tr>\n",
       "    <tr>\n",
       "      <th>75%</th>\n",
       "      <td>590.500000</td>\n",
       "      <td>0.568917</td>\n",
       "      <td>0.368905</td>\n",
       "      <td>0.304249</td>\n",
       "      <td>0.712336</td>\n",
       "      <td>0.894850</td>\n",
       "      <td>0.709949</td>\n",
       "      <td>0.772532</td>\n",
       "      <td>0.651528</td>\n",
       "      <td>0.512507</td>\n",
       "      <td>...</td>\n",
       "      <td>0.913982</td>\n",
       "      <td>0.791302</td>\n",
       "      <td>0.571817</td>\n",
       "      <td>0.554105</td>\n",
       "      <td>0.715691</td>\n",
       "      <td>0.549058</td>\n",
       "      <td>0.667339</td>\n",
       "      <td>0.181738</td>\n",
       "      <td>0.177386</td>\n",
       "      <td>0.333762</td>\n",
       "    </tr>\n",
       "    <tr>\n",
       "      <th>max</th>\n",
       "      <td>786.000000</td>\n",
       "      <td>2.879865</td>\n",
       "      <td>3.150692</td>\n",
       "      <td>2.991574</td>\n",
       "      <td>3.217887</td>\n",
       "      <td>1.994671</td>\n",
       "      <td>1.827603</td>\n",
       "      <td>1.883638</td>\n",
       "      <td>1.598042</td>\n",
       "      <td>3.326308</td>\n",
       "      <td>...</td>\n",
       "      <td>1.495352</td>\n",
       "      <td>1.410033</td>\n",
       "      <td>10.431761</td>\n",
       "      <td>1.527624</td>\n",
       "      <td>2.416697</td>\n",
       "      <td>1.377432</td>\n",
       "      <td>2.094231</td>\n",
       "      <td>3.151688</td>\n",
       "      <td>4.525215</td>\n",
       "      <td>2.788585</td>\n",
       "    </tr>\n",
       "  </tbody>\n",
       "</table>\n",
       "<p>8 rows × 42 columns</p>\n",
       "</div>"
      ],
      "text/plain": [
       "              API      Surf_X      Surf_Y  Lateral_Length (ft)  \\\n",
       "count  235.000000  235.000000  235.000000           235.000000   \n",
       "mean   392.697872    0.136214   -0.113241            -0.159080   \n",
       "std    231.284979    0.923972    0.940829             0.892798   \n",
       "min      3.000000   -2.400804   -2.614247            -2.608966   \n",
       "25%    183.500000   -0.204865   -0.785113            -0.722828   \n",
       "50%    394.000000    0.190147   -0.157602            -0.435956   \n",
       "75%    590.500000    0.568917    0.368905             0.304249   \n",
       "max    786.000000    2.879865    3.150692             2.991574   \n",
       "\n",
       "       Depth_TVD_PPLS (ft)  Erosion_PPLS (ft)  Pressure_PPLS (PSI)  \\\n",
       "count           235.000000         235.000000           230.000000   \n",
       "mean              0.036236           0.010932            -0.007119   \n",
       "std               0.977949           1.025116             1.088428   \n",
       "min              -3.006632          -2.122505            -3.560607   \n",
       "25%              -0.629476          -0.843968            -0.607535   \n",
       "50%              -0.005779           0.014252             0.108603   \n",
       "75%               0.712336           0.894850             0.709949   \n",
       "max               3.217887           1.994671             1.827603   \n",
       "\n",
       "       TOC_PPLS (%)  Vcarb_PPLS  Vsand_PPLS         ...          \\\n",
       "count    235.000000  235.000000  235.000000         ...           \n",
       "mean       0.091912   -0.045268    0.073225         ...           \n",
       "std        0.914556    1.053128    1.053969         ...           \n",
       "min       -2.169983   -3.404962   -2.125431         ...           \n",
       "25%       -0.426696   -0.294986   -0.718530         ...           \n",
       "50%        0.320427    0.245879   -0.190943         ...           \n",
       "75%        0.772532    0.651528    0.512507         ...           \n",
       "max        1.883638    1.598042    3.326308         ...           \n",
       "\n",
       "       Avg_Rate_Slurry (bpm)  Max_Rate_Slurry (bpm)  Min_Rate_Slurry (bpm)  \\\n",
       "count             193.000000             193.000000             192.000000   \n",
       "mean                0.193706               0.128772               0.198197   \n",
       "std                 0.950198               0.998057               1.118451   \n",
       "min                -3.213068              -3.600518              -1.386031   \n",
       "25%                -0.397162              -0.447296              -0.352404   \n",
       "50%                 0.493871               0.469694               0.332846   \n",
       "75%                 0.913982               0.791302               0.571817   \n",
       "max                 1.495352               1.410033              10.431761   \n",
       "\n",
       "       ShutInPressure_Fil (KPa)  ShutInPressure_Initial (KPa)  ISIP (KPa)  \\\n",
       "count                176.000000                    188.000000  191.000000   \n",
       "mean                  -0.236692                     -0.036956   -0.107272   \n",
       "std                    1.010960                      0.998438    0.919150   \n",
       "min                   -6.253073                     -2.641175   -3.050678   \n",
       "25%                   -0.788114                     -0.711214   -0.608608   \n",
       "50%                   -0.216415                      0.111706    0.037660   \n",
       "75%                    0.554105                      0.715691    0.549058   \n",
       "max                    1.527624                      2.416697    1.377432   \n",
       "\n",
       "       Shot_Density (shots/ft)  Shot_Total  Proppant_per_ft (kg/ft)  \\\n",
       "count               194.000000  194.000000               193.000000   \n",
       "mean                 -0.239517    0.139261                -0.003333   \n",
       "std                   0.998651    0.808711                 1.025006   \n",
       "min                  -1.253690   -2.020122                -1.596762   \n",
       "25%                  -1.253690   -0.560750                -0.531772   \n",
       "50%                  -0.773433    0.181738                -0.483228   \n",
       "75%                   0.667339    0.181738                 0.177386   \n",
       "max                   2.094231    3.151688                 4.525215   \n",
       "\n",
       "       Stage_Spacing (ft)  \n",
       "count          194.000000  \n",
       "mean             0.028647  \n",
       "std              0.951854  \n",
       "min             -1.725533  \n",
       "25%             -0.264024  \n",
       "50%             -0.175266  \n",
       "75%              0.333762  \n",
       "max              2.788585  \n",
       "\n",
       "[8 rows x 42 columns]"
      ]
     },
     "execution_count": 8,
     "metadata": {},
     "output_type": "execute_result"
    }
   ],
   "source": [
    "df.describe()"
   ]
  },
  {
   "cell_type": "code",
   "execution_count": 9,
   "metadata": {},
   "outputs": [
    {
     "data": {
      "text/plain": [
       "<matplotlib.axes._subplots.AxesSubplot at 0x25cff86ddd8>"
      ]
     },
     "execution_count": 9,
     "metadata": {},
     "output_type": "execute_result"
    },
    {
     "data": {
      "image/png": "[encoded data removed]",
      "text/plain": [
       "<matplotlib.figure.Figure at 0x25cff672470>"
      ]
     },
     "metadata": {},
     "output_type": "display_data"
    }
   ],
   "source": [
    "# Heatmap for correlation between variables\n",
    "\n",
    "corr = df.select_dtypes(include = ['float64', 'int64']).iloc[:,1:].corr()\n",
    "fig = plt.figure(figsize=(15,10))\n",
    "sns.set(font_scale=1)  \n",
    "sns.heatmap(corr, vmax=1, square=True)"
   ]
  },
  {
   "cell_type": "code",
   "execution_count": 10,
   "metadata": {},
   "outputs": [
    {
     "name": "stdout",
     "output_type": "stream",
     "text": [
      "API                              0\n",
      "Surf_X                           0\n",
      "Surf_Y                           0\n",
      "Date_Drilling                   12\n",
      "Date_Completion                  9\n",
      "Date_Production                  2\n",
      "Lateral_Length (ft)              0\n",
      "Depth_TVD_PPLS (ft)              0\n",
      "Erosion_PPLS (ft)                0\n",
      "Pressure_PPLS (PSI)              5\n",
      "TOC_PPLS (%)                     0\n",
      "Vcarb_PPLS                       0\n",
      "Vsand_PPLS                       0\n",
      "Vclay_PPLS                       0\n",
      "PR_PPLS                          0\n",
      "YM_PPLS (PSI)                    0\n",
      "RHOB_PPLS (g/cc)                 0\n",
      "Res_PPLS (Ohmm)                  0\n",
      "GR_PPLS (API)                    0\n",
      "DT_PPLS (us/ft)                  0\n",
      "DTs_PPLS (us/ft)                 0\n",
      "Temperature (F)                  0\n",
      "Temp_Anomaly (F)                 0\n",
      "S3Tect_PPLS (PSI)                0\n",
      "S3_contrast_PPLS (PSI)           0\n",
      "Heat_Flow (W/m2)                 0\n",
      "Zone                             0\n",
      "Nbr_Stages                      41\n",
      "Frac_Gradient (PSI/ft)          44\n",
      "Proppant_Designed (kg)          41\n",
      "Proppant_in_Formation (kg)      42\n",
      "Avg_Breakdown_Pressure (KPa)    45\n",
      "Avg_Treating_Pressure (KPa)     42\n",
      "Max_Treating_pressure (KPa)     42\n",
      "Min_Treating_Pressure (KPa)     42\n",
      "Avg_Rate_Slurry (bpm)           42\n",
      "Max_Rate_Slurry (bpm)           42\n",
      "Min_Rate_Slurry (bpm)           43\n",
      "ShutInPressure_Fil (KPa)        59\n",
      "ShutInPressure_Initial (KPa)    47\n",
      "ISIP (KPa)                      44\n",
      "Shot_Density (shots/ft)         41\n",
      "Shot_Total                      41\n",
      "Proppant_per_ft (kg/ft)         42\n",
      "Stage_Spacing (ft)              41\n",
      "dtype: int64\n"
     ]
    }
   ],
   "source": [
    "# Variables with MV to estimate:\n",
    "\n",
    "mv=df.isnull().sum()\n",
    "print(mv)"
   ]
  },
  {
   "cell_type": "markdown",
   "metadata": {},
   "source": [
    "## Helpful functions"
   ]
  },
  {
   "cell_type": "markdown",
   "metadata": {},
   "source": [
    "### Outliers extrection and replacing methods"
   ]
  },
  {
   "cell_type": "code",
   "execution_count": 59,
   "metadata": {
    "collapsed": true
   },
   "outputs": [],
   "source": [
    "def vis_and_return_Outl(df,column,factor_iqr,a=-6,b=6,delta=0.5):\n",
    "    bins2=np.arange(a,b,delta)\n",
    "    df.boxplot(column,return_type='dict',whis=factor_iqr)\n",
    "    plt.title('outliers')\n",
    "    y=df[column]\n",
    "    x=range(1, len(y)+1)\n",
    "   # plt.figure()\n",
    "    #plt.title(column+ \" plottet against random\")\n",
    "    #plt.plot(x,y,'.')\n",
    "    plt.figure()\n",
    "    plt.hist(df.dropna()[column],bins=bins2,normed=True,color='b')\n",
    "    plt.xlabel(column)\n",
    "   #quartiles\n",
    "    Q1=np.percentile(df.dropna()[column],25)\n",
    "    Q3=np.percentile(df.dropna()[column],75)\n",
    "    iqr=Q3-Q1\n",
    "    #identify outliers\n",
    "    mean=np.mean(df[column])\n",
    "    index=np.logical_or(df[column]< Q1 - factor_iqr*iqr, df[column]> Q3 + factor_iqr*iqr)\n",
    "    outliers=df[index]\n",
    "    return outliers\n",
    "    \n",
    "def replace_by_mean(df,column,outliers):\n",
    "    m=np.mean(dfSep[column])\n",
    "    df.loc[outliers.index,column]=m\n",
    "    "
   ]
  },
  {
   "cell_type": "markdown",
   "metadata": {},
   "source": [
    "### Correlated columns"
   ]
  },
  {
   "cell_type": "markdown",
   "metadata": {},
   "source": [
    "To find, for a given column, another column with the highest possible correlation"
   ]
  },
  {
   "cell_type": "code",
   "execution_count": 12,
   "metadata": {
    "collapsed": true
   },
   "outputs": [],
   "source": [
    "def find_cor(name,df):\n",
    "    cor=df.corr()\n",
    "    index=df.columns.get_loc(name)\n",
    "    if(index>2):#Dates fall out, to be corrected when we have dates\n",
    "        index=index-3\n",
    "    cor=cor[name]\n",
    "    c=[np.abs(e) for e in cor]\n",
    "    c[index]=0 # highsest correltion is with it self\n",
    "    max_cor=np.max(c)\n",
    "    print(max_cor)\n",
    "    max_cor_index=c.index(max_cor)\n",
    "    if( max_cor_index>2):\n",
    "        max_cor_index=max_cor_index+3 # Dates fall out, calculate dataframe index\n",
    "    max_cor_name=df.columns[max_cor_index]\n",
    "    print(max_cor_name)\n",
    "    return max_cor_name"
   ]
  },
  {
   "cell_type": "markdown",
   "metadata": {},
   "source": [
    "### Linear 1D fit"
   ]
  },
  {
   "cell_type": "code",
   "execution_count": 13,
   "metadata": {
    "collapsed": true
   },
   "outputs": [],
   "source": [
    "def lin_regr(namex,namey):\n",
    "    model = linear_model.LinearRegression()\n",
    "    nansx= np.array(np.isnan(df[namex]))\n",
    "    nansy= np.array(np.isnan(df[namey]))\n",
    "    nan=np.logical_or(nansx,nansy)\n",
    "    df_nonans=df[np.logical_not(nan)]\n",
    "    x=df_nonans[namex].values\n",
    "    x=[e for e in x]\n",
    "    x=np.array(x)\n",
    "    y=df_nonans[namey].values\n",
    "    y=[e for e in y]\n",
    "    y=np.array(y)\n",
    "    model.fit(x[:, np.newaxis], y)\n",
    "    res= model.coef_\n",
    "    print(\"we estimate y= ax+b, with a equals:\"+ str(res))\n",
    "    return res"
   ]
  },
  {
   "cell_type": "markdown",
   "metadata": {},
   "source": [
    "## Data processing"
   ]
  },
  {
   "cell_type": "markdown",
   "metadata": {},
   "source": [
    "### Date_Drilling / Date_Completion / Date Production"
   ]
  },
  {
   "cell_type": "code",
   "execution_count": 14,
   "metadata": {},
   "outputs": [
    {
     "data": {
      "text/plain": [
       "Text(0.5,0,'deltaT_Comp_Prod')"
      ]
     },
     "execution_count": 14,
     "metadata": {},
     "output_type": "execute_result"
    },
    {
     "data": {
      "image/png": "[encoded data removed]",
      "text/plain": [
       "<matplotlib.figure.Figure at 0x25cfb8e74e0>"
      ]
     },
     "metadata": {},
     "output_type": "display_data"
    }
   ],
   "source": [
    "# Convert date variables to date time\n",
    "# Missing dates\n",
    "\n",
    "pd.to_datetime(df[\"Date_Drilling\"])\n",
    "df[\"Date_Drilling\"]=pd.to_datetime(df[\"Date_Drilling\"])\n",
    "df[\"Date_Completion\"]=pd.to_datetime(df[\"Date_Completion\"])\n",
    "df[\"Date_Production\"]=pd.to_datetime(df[\"Date_Production\"])\n",
    "df[\"deltaT_Dril_Comp\"]=(df[\"Date_Completion\"]-df[\"Date_Drilling\"]).dt.days\n",
    "df[\"deltaT_Comp_Prod\"]=(df[\"Date_Production\"]-df[\"Date_Completion\"]).dt.days\n",
    "###\n",
    "cols = df.columns.tolist()\n",
    "df=df[cols[:6]+[cols[-2]]+[cols[-1]]+cols[6:-2]]\n",
    "\n",
    "#Visualizing distributions of deltaT_Dril_Comp and GasCumdeltaT_Comp_Prod \n",
    "\n",
    "plt.figure(figsize=(12,8))\n",
    "plt.subplot(121)\n",
    "sns.distplot(df.deltaT_Dril_Comp.dropna(),kde=False)\n",
    "plt.xlabel(\"deltaT_Dril_Comp\")\n",
    "plt.subplot(122)\n",
    "sns.distplot(df.deltaT_Comp_Prod.dropna(),kde=False)\n",
    "plt.xlabel(\"deltaT_Comp_Prod\")"
   ]
  },
  {
   "cell_type": "code",
   "execution_count": 15,
   "metadata": {
    "collapsed": true
   },
   "outputs": [],
   "source": [
    "###################### TODO : Finish Date processing #########################"
   ]
  },
  {
   "cell_type": "markdown",
   "metadata": {},
   "source": [
    "### Zone"
   ]
  },
  {
   "cell_type": "markdown",
   "metadata": {},
   "source": [
    "Taking in consideration Andi's analysis about the zone Attribute, It s a categorial variable: change the zone values to 0-9"
   ]
  },
  {
   "cell_type": "code",
   "execution_count": 16,
   "metadata": {},
   "outputs": [
    {
     "data": {
      "text/plain": [
       "array([-0.45747705,  1.10622683, -0.97871168, -2.54241556,  0.58499221,\n",
       "       -2.02118093,  2.66993072,  2.14869609,  1.62746146,  0.06375758,\n",
       "       -1.49994631])"
      ]
     },
     "execution_count": 16,
     "metadata": {},
     "output_type": "execute_result"
    }
   ],
   "source": [
    "df.Zone.unique()"
   ]
  },
  {
   "cell_type": "code",
   "execution_count": 17,
   "metadata": {
    "collapsed": true
   },
   "outputs": [],
   "source": [
    "df = df.replace({'Zone':{\n",
    "     df.Zone.unique()[0]: 'Z0',\n",
    "     df.Zone.unique()[1]: 'Z1',\n",
    "     df.Zone.unique()[2]: 'Z2',\n",
    "     df.Zone.unique()[3]: 'Z3',\n",
    "     df.Zone.unique()[4]: 'Z4',\n",
    "     df.Zone.unique()[5]: 'Z5',\n",
    "     df.Zone.unique()[6]: 'Z6',\n",
    "     df.Zone.unique()[7]: 'Z7',\n",
    "     df.Zone.unique()[8]: 'Z8'\n",
    "     }\n",
    "                }\n",
    ")"
   ]
  },
  {
   "cell_type": "markdown",
   "metadata": {},
   "source": [
    "The idea is to affect to missing values of the concerned variables (see further) in the zone of the well, as we have seen for the train set OilCum and GasCum could be splitted with a pattern ruled by Zone. \n"
   ]
  },
  {
   "cell_type": "markdown",
   "metadata": {},
   "source": [
    "### Pressure_PPLS (PSI)"
   ]
  },
  {
   "cell_type": "code",
   "execution_count": 18,
   "metadata": {},
   "outputs": [
    {
     "data": {
      "text/plain": [
       "5"
      ]
     },
     "execution_count": 18,
     "metadata": {},
     "output_type": "execute_result"
    }
   ],
   "source": [
    "#MV\n",
    "\n",
    "df[\"Pressure_PPLS (PSI)\"].isnull().sum()"
   ]
  },
  {
   "cell_type": "code",
   "execution_count": 19,
   "metadata": {},
   "outputs": [
    {
     "data": {
      "text/html": [
       "<div>\n",
       "<style>\n",
       "    .dataframe thead tr:only-child th {\n",
       "        text-align: right;\n",
       "    }\n",
       "\n",
       "    .dataframe thead th {\n",
       "        text-align: left;\n",
       "    }\n",
       "\n",
       "    .dataframe tbody tr th {\n",
       "        vertical-align: top;\n",
       "    }\n",
       "</style>\n",
       "<table border=\"1\" class=\"dataframe\">\n",
       "  <thead>\n",
       "    <tr style=\"text-align: right;\">\n",
       "      <th></th>\n",
       "      <th>API</th>\n",
       "      <th>Pressure_PPLS (PSI)</th>\n",
       "      <th>Zone</th>\n",
       "    </tr>\n",
       "  </thead>\n",
       "  <tbody>\n",
       "    <tr>\n",
       "      <th>49</th>\n",
       "      <td>640</td>\n",
       "      <td>NaN</td>\n",
       "      <td>Z6</td>\n",
       "    </tr>\n",
       "    <tr>\n",
       "      <th>95</th>\n",
       "      <td>373</td>\n",
       "      <td>NaN</td>\n",
       "      <td>Z1</td>\n",
       "    </tr>\n",
       "    <tr>\n",
       "      <th>113</th>\n",
       "      <td>214</td>\n",
       "      <td>NaN</td>\n",
       "      <td>Z1</td>\n",
       "    </tr>\n",
       "    <tr>\n",
       "      <th>138</th>\n",
       "      <td>583</td>\n",
       "      <td>NaN</td>\n",
       "      <td>Z1</td>\n",
       "    </tr>\n",
       "    <tr>\n",
       "      <th>181</th>\n",
       "      <td>175</td>\n",
       "      <td>NaN</td>\n",
       "      <td>Z1</td>\n",
       "    </tr>\n",
       "  </tbody>\n",
       "</table>\n",
       "</div>"
      ],
      "text/plain": [
       "     API  Pressure_PPLS (PSI) Zone\n",
       "49   640                  NaN   Z6\n",
       "95   373                  NaN   Z1\n",
       "113  214                  NaN   Z1\n",
       "138  583                  NaN   Z1\n",
       "181  175                  NaN   Z1"
      ]
     },
     "execution_count": 19,
     "metadata": {},
     "output_type": "execute_result"
    }
   ],
   "source": [
    "missing= np.isnan(df[\"Pressure_PPLS (PSI)\"])\n",
    "df.loc[df[\"Pressure_PPLS (PSI)\"].isnull(), [\"API\",\"Pressure_PPLS (PSI)\",\"Zone\"]]"
   ]
  },
  {
   "cell_type": "markdown",
   "metadata": {},
   "source": [
    "As we can see the missing values are concentrated in Zone 1. "
   ]
  },
  {
   "cell_type": "code",
   "execution_count": 20,
   "metadata": {},
   "outputs": [
    {
     "data": {
      "text/plain": [
       "<matplotlib.axes._subplots.AxesSubplot at 0x25cffa72048>"
      ]
     },
     "execution_count": 20,
     "metadata": {},
     "output_type": "execute_result"
    },
    {
     "data": {
      "image/png": "[encoded data removed]",
      "text/plain": [
       "<matplotlib.figure.Figure at 0x25cfb8e18d0>"
      ]
     },
     "metadata": {},
     "output_type": "display_data"
    }
   ],
   "source": [
    "sns.boxplot(x='Zone', y='Pressure_PPLS (PSI)', data=df,whis=1.5)"
   ]
  },
  {
   "cell_type": "code",
   "execution_count": 21,
   "metadata": {},
   "outputs": [
    {
     "name": "stderr",
     "output_type": "stream",
     "text": [
      "C:\\Users\\EDDAHABI\\Anaconda3\\lib\\site-packages\\ipykernel_launcher.py:1: UserWarning: Boolean Series key will be reindexed to match DataFrame index.\n",
      "  \"\"\"Entry point for launching an IPython kernel.\n",
      "C:\\Users\\EDDAHABI\\Anaconda3\\lib\\site-packages\\ipykernel_launcher.py:2: UserWarning: Boolean Series key will be reindexed to match DataFrame index.\n",
      "  \n",
      "C:\\Users\\EDDAHABI\\Anaconda3\\lib\\site-packages\\ipykernel_launcher.py:3: UserWarning: Boolean Series key will be reindexed to match DataFrame index.\n",
      "  This is separate from the ipykernel package so we can avoid doing imports until\n",
      "C:\\Users\\EDDAHABI\\Anaconda3\\lib\\site-packages\\ipykernel_launcher.py:4: UserWarning: Boolean Series key will be reindexed to match DataFrame index.\n",
      "  after removing the cwd from sys.path.\n",
      "C:\\Users\\EDDAHABI\\Anaconda3\\lib\\site-packages\\ipykernel_launcher.py:5: UserWarning: Boolean Series key will be reindexed to match DataFrame index.\n",
      "  \"\"\"\n"
     ]
    }
   ],
   "source": [
    "w640 = np.mean(df[df[\"Zone\"]==\"Z6\"][~missing]['Pressure_PPLS (PSI)'])\n",
    "w373 = np.mean(df[df[\"Zone\"]==\"Z1\"][~missing]['Pressure_PPLS (PSI)'])\n",
    "w214 = np.mean(df[df[\"Zone\"]==\"Z1\"][~missing]['Pressure_PPLS (PSI)'])\n",
    "w583 = np.mean(df[df[\"Zone\"]==\"Z1\"][~missing]['Pressure_PPLS (PSI)'])\n",
    "w175 = np.mean(df[df[\"Zone\"]==\"Z1\"][~missing]['Pressure_PPLS (PSI)'])"
   ]
  },
  {
   "cell_type": "code",
   "execution_count": 22,
   "metadata": {
    "collapsed": true
   },
   "outputs": [],
   "source": [
    "df.loc[missing,\"Pressure_PPLS (PSI)\"]=w640,w373,w214,w583,w175"
   ]
  },
  {
   "cell_type": "code",
   "execution_count": 23,
   "metadata": {},
   "outputs": [
    {
     "data": {
      "text/plain": [
       "<matplotlib.axes._subplots.AxesSubplot at 0x25cffd83438>"
      ]
     },
     "execution_count": 23,
     "metadata": {},
     "output_type": "execute_result"
    },
    {
     "data": {
      "image/png": "[encoded data removed]",
      "text/plain": [
       "<matplotlib.figure.Figure at 0x25cffd79fd0>"
      ]
     },
     "metadata": {},
     "output_type": "display_data"
    }
   ],
   "source": [
    "# Checking of distribution:\n",
    "\n",
    "plt.rcParams['figure.figsize'] = (8.0,4.0)\n",
    "(df[\"Pressure_PPLS (PSI)\"]).hist()"
   ]
  },
  {
   "cell_type": "code",
   "execution_count": 24,
   "metadata": {},
   "outputs": [
    {
     "data": {
      "text/plain": [
       "Text(0.5,1,'IQR = 2')"
      ]
     },
     "execution_count": 24,
     "metadata": {},
     "output_type": "execute_result"
    },
    {
     "data": {
      "text/plain": [
       "<matplotlib.figure.Figure at 0x25cffa66cc0>"
      ]
     },
     "metadata": {},
     "output_type": "display_data"
    },
    {
     "data": {
      "image/png": "[encoded data removed]",
      "text/plain": [
       "<matplotlib.figure.Figure at 0x25cffd98668>"
      ]
     },
     "metadata": {},
     "output_type": "display_data"
    }
   ],
   "source": [
    "plt.figure(figsize = (16, 6))\n",
    "f, (ax1, ax2) = plt.subplots(2)\n",
    "sns.boxplot(df[\"Pressure_PPLS (PSI)\"],whis=1.5,ax=ax1)\n",
    "ax1.set_title('IQR = 1.5')\n",
    "sns.boxplot(df[\"Pressure_PPLS (PSI)\"],whis=2,ax=ax2)\n",
    "ax2.set_title('IQR = 2')"
   ]
  },
  {
   "cell_type": "markdown",
   "metadata": {},
   "source": [
    "Outliers are very close to each other, suggest not to change the values."
   ]
  },
  {
   "cell_type": "markdown",
   "metadata": {
    "collapsed": true
   },
   "source": [
    "### ShutInPressure_Fil (KPa) and ShutInPressure_Initial"
   ]
  },
  {
   "cell_type": "markdown",
   "metadata": {},
   "source": [
    "We select only those 194 lines, that do not have the group of 18 features missing"
   ]
  },
  {
   "cell_type": "code",
   "execution_count": 27,
   "metadata": {},
   "outputs": [
    {
     "data": {
      "text/plain": [
       "194"
      ]
     },
     "execution_count": 27,
     "metadata": {},
     "output_type": "execute_result"
    }
   ],
   "source": [
    "df=df[~ np.logical_and(np.isnan(df['Nbr_Stages']), np.isnan(df['Stage_Spacing (ft)'])  )] ## remove 97 lines with 18 missing\n",
    "len(df)"
   ]
  },
  {
   "cell_type": "markdown",
   "metadata": {},
   "source": [
    "As shown in the global analysis, these two variables belong to the set of variables that have 42 missing lines in common.\n",
    "We decided to cut these 42 lines off ( for these variables only) and do the cleaning on the remaining 194 lines.\n",
    "We treat them together as they have high correlation. We can estimate the missing vals of one by the ones of another. But we have to be careful not to use estimations of in one of the estiamtions of another.\n",
    "Also we want to remove the outliers before, so they do not influence the imputation and they can be estimated together with the missing values."
   ]
  },
  {
   "cell_type": "code",
   "execution_count": 49,
   "metadata": {},
   "outputs": [
    {
     "name": "stdout",
     "output_type": "stream",
     "text": [
      "API                             0\n",
      "Surf_X                          0\n",
      "Surf_Y                          0\n",
      "Date_Drilling                   0\n",
      "Date_Completion                 1\n",
      "Date_Production                 0\n",
      "deltaT_Dril_Comp                1\n",
      "deltaT_Comp_Prod                1\n",
      "Lateral_Length (ft)             0\n",
      "Depth_TVD_PPLS (ft)             0\n",
      "Erosion_PPLS (ft)               0\n",
      "Pressure_PPLS (PSI)             0\n",
      "TOC_PPLS (%)                    0\n",
      "Vcarb_PPLS                      0\n",
      "Vsand_PPLS                      0\n",
      "Vclay_PPLS                      0\n",
      "PR_PPLS                         0\n",
      "YM_PPLS (PSI)                   0\n",
      "RHOB_PPLS (g/cc)                0\n",
      "Res_PPLS (Ohmm)                 0\n",
      "GR_PPLS (API)                   0\n",
      "DT_PPLS (us/ft)                 0\n",
      "DTs_PPLS (us/ft)                0\n",
      "Temperature (F)                 0\n",
      "Temp_Anomaly (F)                0\n",
      "S3Tect_PPLS (PSI)               0\n",
      "S3_contrast_PPLS (PSI)          0\n",
      "Heat_Flow (W/m2)                0\n",
      "Zone                            0\n",
      "Nbr_Stages                      0\n",
      "Frac_Gradient (PSI/ft)          3\n",
      "Proppant_Designed (kg)          0\n",
      "Proppant_in_Formation (kg)      1\n",
      "Avg_Breakdown_Pressure (KPa)    4\n",
      "Avg_Treating_Pressure (KPa)     1\n",
      "Max_Treating_pressure (KPa)     1\n",
      "Min_Treating_Pressure (KPa)     1\n",
      "Avg_Rate_Slurry (bpm)           1\n",
      "Max_Rate_Slurry (bpm)           1\n",
      "Min_Rate_Slurry (bpm)           2\n",
      "ShutInPressure_Fil (KPa)        0\n",
      "ShutInPressure_Initial (KPa)    0\n",
      "ISIP (KPa)                      0\n",
      "Shot_Density (shots/ft)         0\n",
      "Shot_Total                      0\n",
      "Proppant_per_ft (kg/ft)         1\n",
      "Stage_Spacing (ft)              0\n",
      "dtype: int64\n"
     ]
    }
   ],
   "source": [
    "mv=df.isnull().sum()\n",
    "print(mv)"
   ]
  },
  {
   "cell_type": "markdown",
   "metadata": {},
   "source": [
    "#### Outliers ....Fil\n",
    "we use our customzied function vis_and return Outl"
   ]
  },
  {
   "cell_type": "code",
   "execution_count": 60,
   "metadata": {},
   "outputs": [
    {
     "data": {
      "text/html": [
       "<div>\n",
       "<style>\n",
       "    .dataframe thead tr:only-child th {\n",
       "        text-align: right;\n",
       "    }\n",
       "\n",
       "    .dataframe thead th {\n",
       "        text-align: left;\n",
       "    }\n",
       "\n",
       "    .dataframe tbody tr th {\n",
       "        vertical-align: top;\n",
       "    }\n",
       "</style>\n",
       "<table border=\"1\" class=\"dataframe\">\n",
       "  <thead>\n",
       "    <tr style=\"text-align: right;\">\n",
       "      <th></th>\n",
       "      <th>API</th>\n",
       "      <th>Surf_X</th>\n",
       "      <th>Surf_Y</th>\n",
       "      <th>Date_Drilling</th>\n",
       "      <th>Date_Completion</th>\n",
       "      <th>Date_Production</th>\n",
       "      <th>deltaT_Dril_Comp</th>\n",
       "      <th>deltaT_Comp_Prod</th>\n",
       "      <th>Lateral_Length (ft)</th>\n",
       "      <th>Depth_TVD_PPLS (ft)</th>\n",
       "      <th>...</th>\n",
       "      <th>Avg_Rate_Slurry (bpm)</th>\n",
       "      <th>Max_Rate_Slurry (bpm)</th>\n",
       "      <th>Min_Rate_Slurry (bpm)</th>\n",
       "      <th>ShutInPressure_Fil (KPa)</th>\n",
       "      <th>ShutInPressure_Initial (KPa)</th>\n",
       "      <th>ISIP (KPa)</th>\n",
       "      <th>Shot_Density (shots/ft)</th>\n",
       "      <th>Shot_Total</th>\n",
       "      <th>Proppant_per_ft (kg/ft)</th>\n",
       "      <th>Stage_Spacing (ft)</th>\n",
       "    </tr>\n",
       "  </thead>\n",
       "  <tbody>\n",
       "  </tbody>\n",
       "</table>\n",
       "<p>0 rows × 47 columns</p>\n",
       "</div>"
      ],
      "text/plain": [
       "Empty DataFrame\n",
       "Columns: [API, Surf_X, Surf_Y, Date_Drilling, Date_Completion, Date_Production, deltaT_Dril_Comp, deltaT_Comp_Prod, Lateral_Length (ft), Depth_TVD_PPLS (ft), Erosion_PPLS (ft), Pressure_PPLS (PSI), TOC_PPLS (%), Vcarb_PPLS, Vsand_PPLS, Vclay_PPLS, PR_PPLS, YM_PPLS (PSI), RHOB_PPLS (g/cc), Res_PPLS (Ohmm), GR_PPLS (API), DT_PPLS (us/ft), DTs_PPLS (us/ft), Temperature (F), Temp_Anomaly (F), S3Tect_PPLS (PSI), S3_contrast_PPLS (PSI), Heat_Flow (W/m2), Zone, Nbr_Stages, Frac_Gradient (PSI/ft), Proppant_Designed (kg), Proppant_in_Formation (kg), Avg_Breakdown_Pressure (KPa), Avg_Treating_Pressure (KPa), Max_Treating_pressure (KPa), Min_Treating_Pressure (KPa), Avg_Rate_Slurry (bpm), Max_Rate_Slurry (bpm), Min_Rate_Slurry (bpm), ShutInPressure_Fil (KPa), ShutInPressure_Initial (KPa), ISIP (KPa), Shot_Density (shots/ft), Shot_Total, Proppant_per_ft (kg/ft), Stage_Spacing (ft)]\n",
       "Index: []\n",
       "\n",
       "[0 rows x 47 columns]"
      ]
     },
     "execution_count": 60,
     "metadata": {},
     "output_type": "execute_result"
    },
    {
     "data": {
      "image/png": "[encoded data removed]",
      "text/plain": [
       "<matplotlib.figure.Figure at 0x25c81cc8518>"
      ]
     },
     "metadata": {},
     "output_type": "display_data"
    },
    {
     "data": {
      "image/png": "[encoded data removed]",
      "text/plain": [
       "<matplotlib.figure.Figure at 0x25c81ae4240>"
      ]
     },
     "metadata": {},
     "output_type": "display_data"
    }
   ],
   "source": [
    "outs_Fil=vis_and_return_Outl(df,\"ShutInPressure_Fil (KPa)\",1.5,a=-6,b=5)\n",
    "outs_Fil"
   ]
  },
  {
   "cell_type": "markdown",
   "metadata": {},
   "source": [
    "We delete the outliers (API = 87 and 160).(to na)"
   ]
  },
  {
   "cell_type": "code",
   "execution_count": 31,
   "metadata": {},
   "outputs": [
    {
     "data": {
      "text/plain": [
       "87    NaN\n",
       "160   NaN\n",
       "Name: ShutInPressure_Fil (KPa), dtype: float64"
      ]
     },
     "execution_count": 31,
     "metadata": {},
     "output_type": "execute_result"
    }
   ],
   "source": [
    "rows=outs_Fil.index\n",
    "df.loc[rows,'ShutInPressure_Fil (KPa)']=np.nan\n",
    "df.loc[rows,'ShutInPressure_Fil (KPa)']# to verify the removal"
   ]
  },
  {
   "cell_type": "markdown",
   "metadata": {},
   "source": [
    "#### Outliers  Shut.....Inital"
   ]
  },
  {
   "cell_type": "code",
   "execution_count": 61,
   "metadata": {},
   "outputs": [
    {
     "data": {
      "text/html": [
       "<div>\n",
       "<style>\n",
       "    .dataframe thead tr:only-child th {\n",
       "        text-align: right;\n",
       "    }\n",
       "\n",
       "    .dataframe thead th {\n",
       "        text-align: left;\n",
       "    }\n",
       "\n",
       "    .dataframe tbody tr th {\n",
       "        vertical-align: top;\n",
       "    }\n",
       "</style>\n",
       "<table border=\"1\" class=\"dataframe\">\n",
       "  <thead>\n",
       "    <tr style=\"text-align: right;\">\n",
       "      <th></th>\n",
       "      <th>API</th>\n",
       "      <th>Surf_X</th>\n",
       "      <th>Surf_Y</th>\n",
       "      <th>Date_Drilling</th>\n",
       "      <th>Date_Completion</th>\n",
       "      <th>Date_Production</th>\n",
       "      <th>deltaT_Dril_Comp</th>\n",
       "      <th>deltaT_Comp_Prod</th>\n",
       "      <th>Lateral_Length (ft)</th>\n",
       "      <th>Depth_TVD_PPLS (ft)</th>\n",
       "      <th>...</th>\n",
       "      <th>Avg_Rate_Slurry (bpm)</th>\n",
       "      <th>Max_Rate_Slurry (bpm)</th>\n",
       "      <th>Min_Rate_Slurry (bpm)</th>\n",
       "      <th>ShutInPressure_Fil (KPa)</th>\n",
       "      <th>ShutInPressure_Initial (KPa)</th>\n",
       "      <th>ISIP (KPa)</th>\n",
       "      <th>Shot_Density (shots/ft)</th>\n",
       "      <th>Shot_Total</th>\n",
       "      <th>Proppant_per_ft (kg/ft)</th>\n",
       "      <th>Stage_Spacing (ft)</th>\n",
       "    </tr>\n",
       "  </thead>\n",
       "  <tbody>\n",
       "  </tbody>\n",
       "</table>\n",
       "<p>0 rows × 47 columns</p>\n",
       "</div>"
      ],
      "text/plain": [
       "Empty DataFrame\n",
       "Columns: [API, Surf_X, Surf_Y, Date_Drilling, Date_Completion, Date_Production, deltaT_Dril_Comp, deltaT_Comp_Prod, Lateral_Length (ft), Depth_TVD_PPLS (ft), Erosion_PPLS (ft), Pressure_PPLS (PSI), TOC_PPLS (%), Vcarb_PPLS, Vsand_PPLS, Vclay_PPLS, PR_PPLS, YM_PPLS (PSI), RHOB_PPLS (g/cc), Res_PPLS (Ohmm), GR_PPLS (API), DT_PPLS (us/ft), DTs_PPLS (us/ft), Temperature (F), Temp_Anomaly (F), S3Tect_PPLS (PSI), S3_contrast_PPLS (PSI), Heat_Flow (W/m2), Zone, Nbr_Stages, Frac_Gradient (PSI/ft), Proppant_Designed (kg), Proppant_in_Formation (kg), Avg_Breakdown_Pressure (KPa), Avg_Treating_Pressure (KPa), Max_Treating_pressure (KPa), Min_Treating_Pressure (KPa), Avg_Rate_Slurry (bpm), Max_Rate_Slurry (bpm), Min_Rate_Slurry (bpm), ShutInPressure_Fil (KPa), ShutInPressure_Initial (KPa), ISIP (KPa), Shot_Density (shots/ft), Shot_Total, Proppant_per_ft (kg/ft), Stage_Spacing (ft)]\n",
       "Index: []\n",
       "\n",
       "[0 rows x 47 columns]"
      ]
     },
     "execution_count": 61,
     "metadata": {},
     "output_type": "execute_result"
    },
    {
     "data": {
      "image/png": "[encoded data removed]",
      "text/plain": [
       "<matplotlib.figure.Figure at 0x25c80866198>"
      ]
     },
     "metadata": {},
     "output_type": "display_data"
    },
    {
     "data": {
      "image/png": "[encoded data removed]",
      "text/plain": [
       "<matplotlib.figure.Figure at 0x25c8084acc0>"
      ]
     },
     "metadata": {},
     "output_type": "display_data"
    }
   ],
   "source": [
    "outs_Initial=vis_and_return_Outl(df,\"ShutInPressure_Initial (KPa)\",1.5)\n",
    "outs_Initial"
   ]
  },
  {
   "cell_type": "markdown",
   "metadata": {},
   "source": [
    "using the histogram, we decide not to change the small outlier."
   ]
  },
  {
   "cell_type": "markdown",
   "metadata": {},
   "source": [
    "#### Replace Missing Values"
   ]
  },
  {
   "cell_type": "code",
   "execution_count": 33,
   "metadata": {},
   "outputs": [
    {
     "name": "stdout",
     "output_type": "stream",
     "text": [
      "missing Fil:     20\n",
      "missing Initial:  6\n",
      "missing both:     2\n",
      "correlation     0.799396947332\n"
     ]
    }
   ],
   "source": [
    "missing_Fil= np.isnan(df['ShutInPressure_Fil (KPa)'])\n",
    "print('missing Fil:     '+  str(sum(missing_Fil)))\n",
    "missing_Init= np.isnan(df['ShutInPressure_Initial (KPa)'])\n",
    "print('missing Initial:  '+ str(sum(missing_Init)))\n",
    "missing_both=np.logical_and(missing_Fil,missing_Init)\n",
    "print('missing both:     '+ str(sum(missing_both)))\n",
    "no_missing=np.logical_not(missing_both)\n",
    "no_missing_Fil=np.logical_not(missing_Fil)\n",
    "no_missing_Init=np.logical_not(missing_Init)\n",
    "only_Fil_missing=np.logical_and(missing_Fil,no_missing_Init)\n",
    "only_Init_missing=np.logical_and(missing_Init,no_missing_Fil)\n",
    "cor=df[['ShutInPressure_Initial (KPa)','ShutInPressure_Fil (KPa)']].corr()\n",
    "print('correlation     ' + str(cor.iloc[0,1]))"
   ]
  },
  {
   "cell_type": "markdown",
   "metadata": {},
   "source": [
    "#### Estimate missing vals of ShutIn...Fil\n",
    "As there is a high correlation between the two variables, we can  use linear regression to estimate the missing values that they do not have in common. The line, that both of them are missing has to be estimated by the means."
   ]
  },
  {
   "cell_type": "markdown",
   "metadata": {},
   "source": [
    "So we can try a linear fit with our customzed function:"
   ]
  },
  {
   "cell_type": "code",
   "execution_count": 39,
   "metadata": {},
   "outputs": [
    {
     "name": "stdout",
     "output_type": "stream",
     "text": [
      "1.0\n",
      "Min_Rate_Slurry (bpm)\n",
      "we estimate y= ax+b, with a equals:[-0.15952255]\n",
      "18\n"
     ]
    }
   ],
   "source": [
    "a=lin_regr(find_cor('ShutInPressure_Fil (KPa)',df),'ShutInPressure_Fil (KPa)')\n",
    "m1=np.mean(df['ShutInPressure_Initial (KPa)'])\n",
    "m2=np.mean(df['ShutInPressure_Fil (KPa)'])\n",
    "rows_Fil=df[only_Fil_missing].index\n",
    "rows_both=df[missing_both].index\n",
    "df.loc[rows_Fil,'ShutInPressure_Fil (KPa)']=(df['ShutInPressure_Initial (KPa)'][only_Fil_missing]- m1)*a+ m2\n",
    "df.loc[rows_both,'ShutInPressure_Fil (KPa)']=m2\n",
    "print (len(rows_Fil))"
   ]
  },
  {
   "cell_type": "markdown",
   "metadata": {},
   "source": [
    "we could not estimate one value as its missing in ShutInPressure_Initial as well. So we have to replace it with the mean."
   ]
  },
  {
   "cell_type": "markdown",
   "metadata": {},
   "source": [
    "now we have no more missing values. make scatter plot to check how the estimation was."
   ]
  },
  {
   "cell_type": "code",
   "execution_count": 37,
   "metadata": {},
   "outputs": [
    {
     "data": {
      "text/plain": [
       "<matplotlib.legend.Legend at 0x25c804acb00>"
      ]
     },
     "execution_count": 37,
     "metadata": {},
     "output_type": "execute_result"
    },
    {
     "data": {
      "image/png": "[encoded data removed]",
      "text/plain": [
       "<matplotlib.figure.Figure at 0x25c804accc0>"
      ]
     },
     "metadata": {},
     "output_type": "display_data"
    }
   ],
   "source": [
    "plt.figure(figsize=(8,8))\n",
    "plt.scatter(df['ShutInPressure_Initial (KPa)'][no_missing_Fil],df['ShutInPressure_Fil (KPa)'][no_missing_Fil],color='blue',s=5,label='originals')\n",
    "plt.scatter(df['ShutInPressure_Initial (KPa)'][~no_missing_Fil],df['ShutInPressure_Fil (KPa)'][~no_missing_Fil],color='red',s=12,label='replaced')\n",
    "plt.xlabel('ShutIn..Inital')\n",
    "plt.ylabel('Shut In..Fil')\n",
    "plt.legend()"
   ]
  },
  {
   "cell_type": "markdown",
   "metadata": {},
   "source": [
    "#### Estimate missing vals of ShutIn...Initial\n"
   ]
  },
  {
   "cell_type": "code",
   "execution_count": 38,
   "metadata": {},
   "outputs": [
    {
     "name": "stdout",
     "output_type": "stream",
     "text": [
      "1.0\n",
      "ShutInPressure_Fil (KPa)\n",
      "we estimate y= ax+b, with a equals:[ 0.91579151]\n"
     ]
    }
   ],
   "source": [
    "a=lin_regr(find_cor('ShutInPressure_Initial (KPa)',df),'ShutInPressure_Initial (KPa)')\n",
    "m1=np.mean(df['ShutInPressure_Fil (KPa)'])\n",
    "m2=np.mean(df['ShutInPressure_Initial (KPa)'])\n",
    "rows_In=df[only_Init_missing].index\n",
    "df.loc[rows_In,'ShutInPressure_Initial (KPa)']=(df['ShutInPressure_Fil (KPa)'][only_Init_missing]- m1)*a+ m2\n",
    "df.loc[rows_both,'ShutInPressure_Initial (KPa)']=m2# estimate with mean"
   ]
  },
  {
   "cell_type": "code",
   "execution_count": 40,
   "metadata": {},
   "outputs": [
    {
     "data": {
      "text/plain": [
       "<matplotlib.legend.Legend at 0x25c80550b00>"
      ]
     },
     "execution_count": 40,
     "metadata": {},
     "output_type": "execute_result"
    },
    {
     "data": {
      "image/png": "[encoded data removed]",
      "text/plain": [
       "<matplotlib.figure.Figure at 0x25c804ac1d0>"
      ]
     },
     "metadata": {},
     "output_type": "display_data"
    }
   ],
   "source": [
    "plt.figure(figsize=(8,8))\n",
    "plt.scatter(df['ShutInPressure_Fil (KPa)'][~only_Init_missing],df['ShutInPressure_Initial (KPa)'][~only_Init_missing],color='blue',s=5,label='originals')\n",
    "plt.scatter(df['ShutInPressure_Fil (KPa)'][only_Init_missing],df['ShutInPressure_Initial (KPa)'][only_Init_missing],color='red',s=30,label='replaced')\n",
    "plt.ylabel('ShutInP...Initial')\n",
    "plt.xlabel('ShutInP...Fil')\n",
    "plt.legend()"
   ]
  },
  {
   "cell_type": "markdown",
   "metadata": {},
   "source": [
    "### ISIP (KPa)\n",
    "*Normalized Instantaneous Shut-In Pressure (PSI), proxy to the stress in the reservoir*\n",
    "#### Outliers"
   ]
  },
  {
   "cell_type": "code",
   "execution_count": 62,
   "metadata": {},
   "outputs": [
    {
     "data": {
      "text/html": [
       "<div>\n",
       "<style>\n",
       "    .dataframe thead tr:only-child th {\n",
       "        text-align: right;\n",
       "    }\n",
       "\n",
       "    .dataframe thead th {\n",
       "        text-align: left;\n",
       "    }\n",
       "\n",
       "    .dataframe tbody tr th {\n",
       "        vertical-align: top;\n",
       "    }\n",
       "</style>\n",
       "<table border=\"1\" class=\"dataframe\">\n",
       "  <thead>\n",
       "    <tr style=\"text-align: right;\">\n",
       "      <th></th>\n",
       "      <th>API</th>\n",
       "      <th>Surf_X</th>\n",
       "      <th>Surf_Y</th>\n",
       "      <th>Date_Drilling</th>\n",
       "      <th>Date_Completion</th>\n",
       "      <th>Date_Production</th>\n",
       "      <th>deltaT_Dril_Comp</th>\n",
       "      <th>deltaT_Comp_Prod</th>\n",
       "      <th>Lateral_Length (ft)</th>\n",
       "      <th>Depth_TVD_PPLS (ft)</th>\n",
       "      <th>...</th>\n",
       "      <th>Avg_Rate_Slurry (bpm)</th>\n",
       "      <th>Max_Rate_Slurry (bpm)</th>\n",
       "      <th>Min_Rate_Slurry (bpm)</th>\n",
       "      <th>ShutInPressure_Fil (KPa)</th>\n",
       "      <th>ShutInPressure_Initial (KPa)</th>\n",
       "      <th>ISIP (KPa)</th>\n",
       "      <th>Shot_Density (shots/ft)</th>\n",
       "      <th>Shot_Total</th>\n",
       "      <th>Proppant_per_ft (kg/ft)</th>\n",
       "      <th>Stage_Spacing (ft)</th>\n",
       "    </tr>\n",
       "  </thead>\n",
       "  <tbody>\n",
       "  </tbody>\n",
       "</table>\n",
       "<p>0 rows × 47 columns</p>\n",
       "</div>"
      ],
      "text/plain": [
       "Empty DataFrame\n",
       "Columns: [API, Surf_X, Surf_Y, Date_Drilling, Date_Completion, Date_Production, deltaT_Dril_Comp, deltaT_Comp_Prod, Lateral_Length (ft), Depth_TVD_PPLS (ft), Erosion_PPLS (ft), Pressure_PPLS (PSI), TOC_PPLS (%), Vcarb_PPLS, Vsand_PPLS, Vclay_PPLS, PR_PPLS, YM_PPLS (PSI), RHOB_PPLS (g/cc), Res_PPLS (Ohmm), GR_PPLS (API), DT_PPLS (us/ft), DTs_PPLS (us/ft), Temperature (F), Temp_Anomaly (F), S3Tect_PPLS (PSI), S3_contrast_PPLS (PSI), Heat_Flow (W/m2), Zone, Nbr_Stages, Frac_Gradient (PSI/ft), Proppant_Designed (kg), Proppant_in_Formation (kg), Avg_Breakdown_Pressure (KPa), Avg_Treating_Pressure (KPa), Max_Treating_pressure (KPa), Min_Treating_Pressure (KPa), Avg_Rate_Slurry (bpm), Max_Rate_Slurry (bpm), Min_Rate_Slurry (bpm), ShutInPressure_Fil (KPa), ShutInPressure_Initial (KPa), ISIP (KPa), Shot_Density (shots/ft), Shot_Total, Proppant_per_ft (kg/ft), Stage_Spacing (ft)]\n",
       "Index: []\n",
       "\n",
       "[0 rows x 47 columns]"
      ]
     },
     "execution_count": 62,
     "metadata": {},
     "output_type": "execute_result"
    },
    {
     "data": {
      "image/png": "[encoded data removed]",
      "text/plain": [
       "<matplotlib.figure.Figure at 0x25c805097f0>"
      ]
     },
     "metadata": {},
     "output_type": "display_data"
    },
    {
     "data": {
      "image/png": "[encoded data removed]",
      "text/plain": [
       "<matplotlib.figure.Figure at 0x25c80850ef0>"
      ]
     },
     "metadata": {},
     "output_type": "display_data"
    }
   ],
   "source": [
    "outs_Isip=vis_and_return_Outl(df,\"ISIP (KPa)\",2)\n",
    "rows=df[\"ISIP (KPa)\"][df[\"ISIP (KPa)\"]>2].index\n",
    "df.loc[rows,\"ISIP (KPa)\"]=np.nan # verified\n",
    "outs_Isip"
   ]
  },
  {
   "cell_type": "markdown",
   "metadata": {},
   "source": [
    "We replace the outlier by the mean."
   ]
  },
  {
   "cell_type": "code",
   "execution_count": 44,
   "metadata": {
    "collapsed": true
   },
   "outputs": [],
   "source": [
    "df.loc[44,'ISIP (KPa)']=np.mean(df['ISIP (KPa)']) "
   ]
  },
  {
   "cell_type": "markdown",
   "metadata": {},
   "source": [
    "#### Replace missing values"
   ]
  },
  {
   "cell_type": "code",
   "execution_count": 46,
   "metadata": {},
   "outputs": [
    {
     "name": "stdout",
     "output_type": "stream",
     "text": [
      "missing Isip:     3\n"
     ]
    },
    {
     "data": {
      "text/html": [
       "<div>\n",
       "<style>\n",
       "    .dataframe thead tr:only-child th {\n",
       "        text-align: right;\n",
       "    }\n",
       "\n",
       "    .dataframe thead th {\n",
       "        text-align: left;\n",
       "    }\n",
       "\n",
       "    .dataframe tbody tr th {\n",
       "        vertical-align: top;\n",
       "    }\n",
       "</style>\n",
       "<table border=\"1\" class=\"dataframe\">\n",
       "  <thead>\n",
       "    <tr style=\"text-align: right;\">\n",
       "      <th></th>\n",
       "      <th>API</th>\n",
       "      <th>Surf_X</th>\n",
       "      <th>Surf_Y</th>\n",
       "      <th>Date_Drilling</th>\n",
       "      <th>Date_Completion</th>\n",
       "      <th>Date_Production</th>\n",
       "      <th>deltaT_Dril_Comp</th>\n",
       "      <th>deltaT_Comp_Prod</th>\n",
       "      <th>Lateral_Length (ft)</th>\n",
       "      <th>Depth_TVD_PPLS (ft)</th>\n",
       "      <th>...</th>\n",
       "      <th>Avg_Rate_Slurry (bpm)</th>\n",
       "      <th>Max_Rate_Slurry (bpm)</th>\n",
       "      <th>Min_Rate_Slurry (bpm)</th>\n",
       "      <th>ShutInPressure_Fil (KPa)</th>\n",
       "      <th>ShutInPressure_Initial (KPa)</th>\n",
       "      <th>ISIP (KPa)</th>\n",
       "      <th>Shot_Density (shots/ft)</th>\n",
       "      <th>Shot_Total</th>\n",
       "      <th>Proppant_per_ft (kg/ft)</th>\n",
       "      <th>Stage_Spacing (ft)</th>\n",
       "    </tr>\n",
       "  </thead>\n",
       "  <tbody>\n",
       "    <tr>\n",
       "      <th>128</th>\n",
       "      <td>463</td>\n",
       "      <td>1.380605</td>\n",
       "      <td>-0.593429</td>\n",
       "      <td>2013-04-15</td>\n",
       "      <td>2013-02-05</td>\n",
       "      <td>2014-12-08</td>\n",
       "      <td>-69.0</td>\n",
       "      <td>671.0</td>\n",
       "      <td>-0.379328</td>\n",
       "      <td>-0.391244</td>\n",
       "      <td>...</td>\n",
       "      <td>0.506929</td>\n",
       "      <td>1.012937</td>\n",
       "      <td>0.313010</td>\n",
       "      <td>-0.145159</td>\n",
       "      <td>-0.305117</td>\n",
       "      <td>NaN</td>\n",
       "      <td>-0.773433</td>\n",
       "      <td>0.924226</td>\n",
       "      <td>-0.938268</td>\n",
       "      <td>0.279014</td>\n",
       "    </tr>\n",
       "    <tr>\n",
       "      <th>221</th>\n",
       "      <td>161</td>\n",
       "      <td>0.000346</td>\n",
       "      <td>-0.464729</td>\n",
       "      <td>2014-04-04</td>\n",
       "      <td>2014-08-24</td>\n",
       "      <td>2014-10-23</td>\n",
       "      <td>142.0</td>\n",
       "      <td>60.0</td>\n",
       "      <td>-0.230603</td>\n",
       "      <td>0.661447</td>\n",
       "      <td>...</td>\n",
       "      <td>NaN</td>\n",
       "      <td>NaN</td>\n",
       "      <td>NaN</td>\n",
       "      <td>-0.186073</td>\n",
       "      <td>-0.036956</td>\n",
       "      <td>NaN</td>\n",
       "      <td>0.667339</td>\n",
       "      <td>-0.560750</td>\n",
       "      <td>NaN</td>\n",
       "      <td>-1.201949</td>\n",
       "    </tr>\n",
       "    <tr>\n",
       "      <th>228</th>\n",
       "      <td>276</td>\n",
       "      <td>2.413114</td>\n",
       "      <td>-2.012732</td>\n",
       "      <td>2013-06-28</td>\n",
       "      <td>2013-12-14</td>\n",
       "      <td>2015-08-19</td>\n",
       "      <td>169.0</td>\n",
       "      <td>613.0</td>\n",
       "      <td>-0.478271</td>\n",
       "      <td>1.183195</td>\n",
       "      <td>...</td>\n",
       "      <td>0.886941</td>\n",
       "      <td>0.423230</td>\n",
       "      <td>0.667678</td>\n",
       "      <td>-0.091519</td>\n",
       "      <td>-0.641372</td>\n",
       "      <td>NaN</td>\n",
       "      <td>-0.754962</td>\n",
       "      <td>0.952783</td>\n",
       "      <td>-0.655605</td>\n",
       "      <td>-0.314357</td>\n",
       "    </tr>\n",
       "  </tbody>\n",
       "</table>\n",
       "<p>3 rows × 47 columns</p>\n",
       "</div>"
      ],
      "text/plain": [
       "     API    Surf_X    Surf_Y Date_Drilling Date_Completion Date_Production  \\\n",
       "128  463  1.380605 -0.593429    2013-04-15      2013-02-05      2014-12-08   \n",
       "221  161  0.000346 -0.464729    2014-04-04      2014-08-24      2014-10-23   \n",
       "228  276  2.413114 -2.012732    2013-06-28      2013-12-14      2015-08-19   \n",
       "\n",
       "     deltaT_Dril_Comp  deltaT_Comp_Prod  Lateral_Length (ft)  \\\n",
       "128             -69.0             671.0            -0.379328   \n",
       "221             142.0              60.0            -0.230603   \n",
       "228             169.0             613.0            -0.478271   \n",
       "\n",
       "     Depth_TVD_PPLS (ft)         ...          Avg_Rate_Slurry (bpm)  \\\n",
       "128            -0.391244         ...                       0.506929   \n",
       "221             0.661447         ...                            NaN   \n",
       "228             1.183195         ...                       0.886941   \n",
       "\n",
       "     Max_Rate_Slurry (bpm)  Min_Rate_Slurry (bpm)  ShutInPressure_Fil (KPa)  \\\n",
       "128               1.012937               0.313010                 -0.145159   \n",
       "221                    NaN                    NaN                 -0.186073   \n",
       "228               0.423230               0.667678                 -0.091519   \n",
       "\n",
       "     ShutInPressure_Initial (KPa)  ISIP (KPa)  Shot_Density (shots/ft)  \\\n",
       "128                     -0.305117         NaN                -0.773433   \n",
       "221                     -0.036956         NaN                 0.667339   \n",
       "228                     -0.641372         NaN                -0.754962   \n",
       "\n",
       "     Shot_Total  Proppant_per_ft (kg/ft)  Stage_Spacing (ft)  \n",
       "128    0.924226                -0.938268            0.279014  \n",
       "221   -0.560750                      NaN           -1.201949  \n",
       "228    0.952783                -0.655605           -0.314357  \n",
       "\n",
       "[3 rows x 47 columns]"
      ]
     },
     "execution_count": 46,
     "metadata": {},
     "output_type": "execute_result"
    }
   ],
   "source": [
    "missing_Isip= np.isnan(df['ISIP (KPa)'])\n",
    "print('missing Isip:     '+  str(sum(missing_Isip)))\n",
    "df[missing_Isip]"
   ]
  },
  {
   "cell_type": "code",
   "execution_count": 47,
   "metadata": {},
   "outputs": [
    {
     "name": "stdout",
     "output_type": "stream",
     "text": [
      "1.0\n",
      "ShutInPressure_Initial (KPa)\n"
     ]
    },
    {
     "data": {
      "text/plain": [
       "'ShutInPressure_Initial (KPa)'"
      ]
     },
     "execution_count": 47,
     "metadata": {},
     "output_type": "execute_result"
    }
   ],
   "source": [
    "find_cor('ISIP (KPa)',df)"
   ]
  },
  {
   "cell_type": "markdown",
   "metadata": {},
   "source": [
    "As ShutInPressure_Fil (KPa) has missing values or outliers in the same lines, we check the correlation with ShutIn..Inital is the highest ( not shown here. Luckily ShutInP....Fil did not have missing vals in the same lines. So we can use it to estimate the 3 missing vals:"
   ]
  },
  {
   "cell_type": "code",
   "execution_count": 48,
   "metadata": {},
   "outputs": [
    {
     "name": "stdout",
     "output_type": "stream",
     "text": [
      "we estimate y= ax+b, with a equals:[ 0.66299811]\n"
     ]
    },
    {
     "data": {
      "text/plain": [
       "<matplotlib.legend.Legend at 0x25cffe07eb8>"
      ]
     },
     "execution_count": 48,
     "metadata": {},
     "output_type": "execute_result"
    },
    {
     "data": {
      "image/png": "[encoded data removed]",
      "text/plain": [
       "<matplotlib.figure.Figure at 0x25c80803dd8>"
      ]
     },
     "metadata": {},
     "output_type": "display_data"
    }
   ],
   "source": [
    "a3=lin_regr('ShutInPressure_Initial (KPa)','ISIP (KPa)')\n",
    "m1=np.mean(df['ShutInPressure_Initial (KPa)'])\n",
    "m2=np.mean(df['ISIP (KPa)'])\n",
    "rows=df['ISIP (KPa)'][missing_Isip].index\n",
    "df.loc[rows,'ISIP (KPa)']=(df['ShutInPressure_Initial (KPa)'][missing_Isip]- m1)*a3+ m2\n",
    "\n",
    "plt.figure(figsize=(6,6))\n",
    "plt.scatter(df['ShutInPressure_Initial (KPa)'][~missing_Isip],df['ISIP (KPa)'][~missing_Isip],color='blue',s=5,label='originals')\n",
    "plt.scatter(df['ShutInPressure_Initial (KPa)'][missing_Isip],df['ISIP (KPa)'][missing_Isip],color='red',s=50,label='replaced')\n",
    "plt.xlabel('ShutInP...Initial')\n",
    "plt.ylabel('Isip')\n",
    "plt.legend()"
   ]
  },
  {
   "cell_type": "markdown",
   "metadata": {},
   "source": [
    "### Proppant_per_ft\n",
    "*Normalized Weight of proppant pumped during completion normalzied per feet (kg/ft)*\n",
    "\n",
    "\n"
   ]
  },
  {
   "cell_type": "markdown",
   "metadata": {},
   "source": [
    "#### Outliers\n"
   ]
  },
  {
   "cell_type": "code",
   "execution_count": 63,
   "metadata": {},
   "outputs": [
    {
     "data": {
      "text/html": [
       "<div>\n",
       "<style>\n",
       "    .dataframe thead tr:only-child th {\n",
       "        text-align: right;\n",
       "    }\n",
       "\n",
       "    .dataframe thead th {\n",
       "        text-align: left;\n",
       "    }\n",
       "\n",
       "    .dataframe tbody tr th {\n",
       "        vertical-align: top;\n",
       "    }\n",
       "</style>\n",
       "<table border=\"1\" class=\"dataframe\">\n",
       "  <thead>\n",
       "    <tr style=\"text-align: right;\">\n",
       "      <th></th>\n",
       "      <th>API</th>\n",
       "      <th>Surf_X</th>\n",
       "      <th>Surf_Y</th>\n",
       "      <th>Date_Drilling</th>\n",
       "      <th>Date_Completion</th>\n",
       "      <th>Date_Production</th>\n",
       "      <th>deltaT_Dril_Comp</th>\n",
       "      <th>deltaT_Comp_Prod</th>\n",
       "      <th>Lateral_Length (ft)</th>\n",
       "      <th>Depth_TVD_PPLS (ft)</th>\n",
       "      <th>...</th>\n",
       "      <th>Avg_Rate_Slurry (bpm)</th>\n",
       "      <th>Max_Rate_Slurry (bpm)</th>\n",
       "      <th>Min_Rate_Slurry (bpm)</th>\n",
       "      <th>ShutInPressure_Fil (KPa)</th>\n",
       "      <th>ShutInPressure_Initial (KPa)</th>\n",
       "      <th>ISIP (KPa)</th>\n",
       "      <th>Shot_Density (shots/ft)</th>\n",
       "      <th>Shot_Total</th>\n",
       "      <th>Proppant_per_ft (kg/ft)</th>\n",
       "      <th>Stage_Spacing (ft)</th>\n",
       "    </tr>\n",
       "  </thead>\n",
       "  <tbody>\n",
       "    <tr>\n",
       "      <th>11</th>\n",
       "      <td>7</td>\n",
       "      <td>-0.101826</td>\n",
       "      <td>-0.543508</td>\n",
       "      <td>2014-06-17</td>\n",
       "      <td>2014-06-10</td>\n",
       "      <td>2015-01-26</td>\n",
       "      <td>-7.0</td>\n",
       "      <td>230.0</td>\n",
       "      <td>1.697227</td>\n",
       "      <td>0.895719</td>\n",
       "      <td>...</td>\n",
       "      <td>-0.488681</td>\n",
       "      <td>-0.649272</td>\n",
       "      <td>-0.892759</td>\n",
       "      <td>-0.150821</td>\n",
       "      <td>0.649564</td>\n",
       "      <td>0.821407</td>\n",
       "      <td>0.667339</td>\n",
       "      <td>0.181738</td>\n",
       "      <td>2.000416</td>\n",
       "      <td>-1.237434</td>\n",
       "    </tr>\n",
       "    <tr>\n",
       "      <th>17</th>\n",
       "      <td>125</td>\n",
       "      <td>-0.210227</td>\n",
       "      <td>-0.269186</td>\n",
       "      <td>2014-12-28</td>\n",
       "      <td>2015-06-05</td>\n",
       "      <td>2015-03-09</td>\n",
       "      <td>159.0</td>\n",
       "      <td>-88.0</td>\n",
       "      <td>1.566548</td>\n",
       "      <td>0.559451</td>\n",
       "      <td>...</td>\n",
       "      <td>-0.706327</td>\n",
       "      <td>-0.739125</td>\n",
       "      <td>-0.855517</td>\n",
       "      <td>1.108935</td>\n",
       "      <td>1.062269</td>\n",
       "      <td>0.415960</td>\n",
       "      <td>0.667339</td>\n",
       "      <td>-2.020122</td>\n",
       "      <td>2.059906</td>\n",
       "      <td>-1.224804</td>\n",
       "    </tr>\n",
       "    <tr>\n",
       "      <th>18</th>\n",
       "      <td>141</td>\n",
       "      <td>-0.480440</td>\n",
       "      <td>0.775366</td>\n",
       "      <td>2014-05-04</td>\n",
       "      <td>2014-07-23</td>\n",
       "      <td>2014-07-09</td>\n",
       "      <td>80.0</td>\n",
       "      <td>-14.0</td>\n",
       "      <td>0.742646</td>\n",
       "      <td>-0.815376</td>\n",
       "      <td>...</td>\n",
       "      <td>-0.946942</td>\n",
       "      <td>-0.729597</td>\n",
       "      <td>0.208531</td>\n",
       "      <td>1.409205</td>\n",
       "      <td>0.685262</td>\n",
       "      <td>-0.011269</td>\n",
       "      <td>1.589433</td>\n",
       "      <td>0.211438</td>\n",
       "      <td>1.874893</td>\n",
       "      <td>-1.271133</td>\n",
       "    </tr>\n",
       "    <tr>\n",
       "      <th>31</th>\n",
       "      <td>538</td>\n",
       "      <td>-0.236855</td>\n",
       "      <td>0.187020</td>\n",
       "      <td>2014-06-13</td>\n",
       "      <td>2014-09-10</td>\n",
       "      <td>2014-11-25</td>\n",
       "      <td>89.0</td>\n",
       "      <td>76.0</td>\n",
       "      <td>0.417815</td>\n",
       "      <td>-0.170574</td>\n",
       "      <td>...</td>\n",
       "      <td>-0.538508</td>\n",
       "      <td>0.047778</td>\n",
       "      <td>-0.727619</td>\n",
       "      <td>0.586550</td>\n",
       "      <td>1.054447</td>\n",
       "      <td>0.552219</td>\n",
       "      <td>-1.211929</td>\n",
       "      <td>0.181738</td>\n",
       "      <td>2.015487</td>\n",
       "      <td>-1.234429</td>\n",
       "    </tr>\n",
       "    <tr>\n",
       "      <th>33</th>\n",
       "      <td>522</td>\n",
       "      <td>1.022006</td>\n",
       "      <td>-1.619928</td>\n",
       "      <td>2014-10-23</td>\n",
       "      <td>2015-01-14</td>\n",
       "      <td>2015-03-15</td>\n",
       "      <td>83.0</td>\n",
       "      <td>60.0</td>\n",
       "      <td>1.865243</td>\n",
       "      <td>1.486138</td>\n",
       "      <td>...</td>\n",
       "      <td>-0.683662</td>\n",
       "      <td>-0.855553</td>\n",
       "      <td>-0.637500</td>\n",
       "      <td>1.265617</td>\n",
       "      <td>0.488946</td>\n",
       "      <td>-0.431029</td>\n",
       "      <td>-1.222198</td>\n",
       "      <td>0.169566</td>\n",
       "      <td>1.980735</td>\n",
       "      <td>-1.220407</td>\n",
       "    </tr>\n",
       "    <tr>\n",
       "      <th>35</th>\n",
       "      <td>751</td>\n",
       "      <td>-0.302516</td>\n",
       "      <td>-0.312210</td>\n",
       "      <td>2014-07-06</td>\n",
       "      <td>2015-01-26</td>\n",
       "      <td>2015-05-04</td>\n",
       "      <td>204.0</td>\n",
       "      <td>98.0</td>\n",
       "      <td>0.742024</td>\n",
       "      <td>0.731980</td>\n",
       "      <td>...</td>\n",
       "      <td>-0.494246</td>\n",
       "      <td>0.674499</td>\n",
       "      <td>-1.313777</td>\n",
       "      <td>0.561125</td>\n",
       "      <td>1.011186</td>\n",
       "      <td>0.174238</td>\n",
       "      <td>0.667339</td>\n",
       "      <td>-0.545597</td>\n",
       "      <td>1.838070</td>\n",
       "      <td>-1.725533</td>\n",
       "    </tr>\n",
       "    <tr>\n",
       "      <th>36</th>\n",
       "      <td>487</td>\n",
       "      <td>-0.073028</td>\n",
       "      <td>-0.535067</td>\n",
       "      <td>2014-09-14</td>\n",
       "      <td>2015-11-03</td>\n",
       "      <td>2015-02-08</td>\n",
       "      <td>415.0</td>\n",
       "      <td>-268.0</td>\n",
       "      <td>1.291499</td>\n",
       "      <td>0.851803</td>\n",
       "      <td>...</td>\n",
       "      <td>-1.237366</td>\n",
       "      <td>0.381684</td>\n",
       "      <td>NaN</td>\n",
       "      <td>-0.186073</td>\n",
       "      <td>-0.036956</td>\n",
       "      <td>-0.208470</td>\n",
       "      <td>0.667339</td>\n",
       "      <td>-0.560750</td>\n",
       "      <td>1.890912</td>\n",
       "      <td>-1.223798</td>\n",
       "    </tr>\n",
       "    <tr>\n",
       "      <th>38</th>\n",
       "      <td>480</td>\n",
       "      <td>-0.209012</td>\n",
       "      <td>0.201088</td>\n",
       "      <td>2014-08-07</td>\n",
       "      <td>2014-10-13</td>\n",
       "      <td>2014-01-12</td>\n",
       "      <td>67.0</td>\n",
       "      <td>-274.0</td>\n",
       "      <td>0.701576</td>\n",
       "      <td>-0.222659</td>\n",
       "      <td>...</td>\n",
       "      <td>0.491538</td>\n",
       "      <td>0.290580</td>\n",
       "      <td>-0.318883</td>\n",
       "      <td>0.880920</td>\n",
       "      <td>0.523589</td>\n",
       "      <td>1.324763</td>\n",
       "      <td>-1.227375</td>\n",
       "      <td>0.181738</td>\n",
       "      <td>3.000000</td>\n",
       "      <td>-1.648490</td>\n",
       "    </tr>\n",
       "    <tr>\n",
       "      <th>49</th>\n",
       "      <td>640</td>\n",
       "      <td>0.098034</td>\n",
       "      <td>1.582837</td>\n",
       "      <td>2013-04-07</td>\n",
       "      <td>NaT</td>\n",
       "      <td>2016-06-04</td>\n",
       "      <td>NaN</td>\n",
       "      <td>NaN</td>\n",
       "      <td>0.304560</td>\n",
       "      <td>-2.452614</td>\n",
       "      <td>...</td>\n",
       "      <td>-3.213068</td>\n",
       "      <td>-2.427199</td>\n",
       "      <td>-0.468899</td>\n",
       "      <td>1.194239</td>\n",
       "      <td>1.235577</td>\n",
       "      <td>1.169842</td>\n",
       "      <td>-0.773433</td>\n",
       "      <td>0.924226</td>\n",
       "      <td>-1.596762</td>\n",
       "      <td>1.037403</td>\n",
       "    </tr>\n",
       "    <tr>\n",
       "      <th>61</th>\n",
       "      <td>494</td>\n",
       "      <td>-0.461484</td>\n",
       "      <td>-0.180266</td>\n",
       "      <td>2015-01-20</td>\n",
       "      <td>2015-10-05</td>\n",
       "      <td>2015-12-08</td>\n",
       "      <td>258.0</td>\n",
       "      <td>64.0</td>\n",
       "      <td>1.437736</td>\n",
       "      <td>0.681697</td>\n",
       "      <td>...</td>\n",
       "      <td>-0.402763</td>\n",
       "      <td>0.391495</td>\n",
       "      <td>-0.512073</td>\n",
       "      <td>0.468299</td>\n",
       "      <td>0.410480</td>\n",
       "      <td>-0.055963</td>\n",
       "      <td>0.667339</td>\n",
       "      <td>-0.560750</td>\n",
       "      <td>1.988407</td>\n",
       "      <td>-1.233393</td>\n",
       "    </tr>\n",
       "    <tr>\n",
       "      <th>77</th>\n",
       "      <td>257</td>\n",
       "      <td>-0.171775</td>\n",
       "      <td>-0.177316</td>\n",
       "      <td>2014-05-16</td>\n",
       "      <td>2014-08-10</td>\n",
       "      <td>2014-05-12</td>\n",
       "      <td>86.0</td>\n",
       "      <td>-90.0</td>\n",
       "      <td>-0.267318</td>\n",
       "      <td>0.360833</td>\n",
       "      <td>...</td>\n",
       "      <td>0.650196</td>\n",
       "      <td>0.590705</td>\n",
       "      <td>-0.616383</td>\n",
       "      <td>0.268533</td>\n",
       "      <td>1.134729</td>\n",
       "      <td>0.441591</td>\n",
       "      <td>-1.204433</td>\n",
       "      <td>0.181738</td>\n",
       "      <td>2.124385</td>\n",
       "      <td>-1.248055</td>\n",
       "    </tr>\n",
       "    <tr>\n",
       "      <th>82</th>\n",
       "      <td>657</td>\n",
       "      <td>-0.291896</td>\n",
       "      <td>-0.307306</td>\n",
       "      <td>2014-06-21</td>\n",
       "      <td>2015-11-01</td>\n",
       "      <td>2015-03-31</td>\n",
       "      <td>498.0</td>\n",
       "      <td>-215.0</td>\n",
       "      <td>1.006494</td>\n",
       "      <td>0.710084</td>\n",
       "      <td>...</td>\n",
       "      <td>-0.168487</td>\n",
       "      <td>1.236785</td>\n",
       "      <td>-1.367400</td>\n",
       "      <td>0.694949</td>\n",
       "      <td>1.199101</td>\n",
       "      <td>0.383822</td>\n",
       "      <td>0.667339</td>\n",
       "      <td>-0.546471</td>\n",
       "      <td>1.980993</td>\n",
       "      <td>-1.225295</td>\n",
       "    </tr>\n",
       "    <tr>\n",
       "      <th>97</th>\n",
       "      <td>8</td>\n",
       "      <td>0.247617</td>\n",
       "      <td>-0.546576</td>\n",
       "      <td>2014-08-29</td>\n",
       "      <td>2014-12-14</td>\n",
       "      <td>2015-03-18</td>\n",
       "      <td>107.0</td>\n",
       "      <td>94.0</td>\n",
       "      <td>-0.919469</td>\n",
       "      <td>0.543984</td>\n",
       "      <td>...</td>\n",
       "      <td>-0.012461</td>\n",
       "      <td>-0.595947</td>\n",
       "      <td>-0.853979</td>\n",
       "      <td>-0.379629</td>\n",
       "      <td>-0.021538</td>\n",
       "      <td>-0.113031</td>\n",
       "      <td>0.667339</td>\n",
       "      <td>-0.560750</td>\n",
       "      <td>2.116013</td>\n",
       "      <td>-1.253541</td>\n",
       "    </tr>\n",
       "    <tr>\n",
       "      <th>122</th>\n",
       "      <td>418</td>\n",
       "      <td>-0.063986</td>\n",
       "      <td>-0.530515</td>\n",
       "      <td>2014-09-27</td>\n",
       "      <td>2015-03-26</td>\n",
       "      <td>2015-07-29</td>\n",
       "      <td>180.0</td>\n",
       "      <td>125.0</td>\n",
       "      <td>1.315768</td>\n",
       "      <td>0.835031</td>\n",
       "      <td>...</td>\n",
       "      <td>-0.923876</td>\n",
       "      <td>0.125118</td>\n",
       "      <td>-0.506523</td>\n",
       "      <td>0.492959</td>\n",
       "      <td>1.641729</td>\n",
       "      <td>0.423001</td>\n",
       "      <td>0.667339</td>\n",
       "      <td>-0.560750</td>\n",
       "      <td>1.958849</td>\n",
       "      <td>-1.217760</td>\n",
       "    </tr>\n",
       "    <tr>\n",
       "      <th>135</th>\n",
       "      <td>771</td>\n",
       "      <td>0.326027</td>\n",
       "      <td>-0.892350</td>\n",
       "      <td>2014-07-26</td>\n",
       "      <td>2014-05-12</td>\n",
       "      <td>2015-03-14</td>\n",
       "      <td>-75.0</td>\n",
       "      <td>306.0</td>\n",
       "      <td>0.941777</td>\n",
       "      <td>1.042718</td>\n",
       "      <td>...</td>\n",
       "      <td>-0.080795</td>\n",
       "      <td>-0.597646</td>\n",
       "      <td>-0.920522</td>\n",
       "      <td>-0.576077</td>\n",
       "      <td>0.195651</td>\n",
       "      <td>-0.270795</td>\n",
       "      <td>0.478931</td>\n",
       "      <td>-0.706391</td>\n",
       "      <td>2.050551</td>\n",
       "      <td>-1.242324</td>\n",
       "    </tr>\n",
       "    <tr>\n",
       "      <th>146</th>\n",
       "      <td>757</td>\n",
       "      <td>0.158359</td>\n",
       "      <td>-0.196913</td>\n",
       "      <td>2014-06-26</td>\n",
       "      <td>2014-09-19</td>\n",
       "      <td>2015-01-26</td>\n",
       "      <td>85.0</td>\n",
       "      <td>129.0</td>\n",
       "      <td>-0.150951</td>\n",
       "      <td>0.050871</td>\n",
       "      <td>...</td>\n",
       "      <td>0.789411</td>\n",
       "      <td>1.275835</td>\n",
       "      <td>-1.284221</td>\n",
       "      <td>-0.020766</td>\n",
       "      <td>0.108614</td>\n",
       "      <td>-0.061747</td>\n",
       "      <td>0.691352</td>\n",
       "      <td>-0.542187</td>\n",
       "      <td>2.070930</td>\n",
       "      <td>-1.239492</td>\n",
       "    </tr>\n",
       "    <tr>\n",
       "      <th>153</th>\n",
       "      <td>775</td>\n",
       "      <td>0.195680</td>\n",
       "      <td>0.655966</td>\n",
       "      <td>2014-02-13</td>\n",
       "      <td>2014-02-08</td>\n",
       "      <td>2014-09-17</td>\n",
       "      <td>-5.0</td>\n",
       "      <td>221.0</td>\n",
       "      <td>-0.578459</td>\n",
       "      <td>-1.333584</td>\n",
       "      <td>...</td>\n",
       "      <td>-0.433414</td>\n",
       "      <td>-0.536376</td>\n",
       "      <td>-0.750022</td>\n",
       "      <td>-0.324553</td>\n",
       "      <td>0.271600</td>\n",
       "      <td>-0.615375</td>\n",
       "      <td>-1.253690</td>\n",
       "      <td>0.181738</td>\n",
       "      <td>1.838079</td>\n",
       "      <td>-1.189494</td>\n",
       "    </tr>\n",
       "    <tr>\n",
       "      <th>155</th>\n",
       "      <td>68</td>\n",
       "      <td>1.009403</td>\n",
       "      <td>-1.624461</td>\n",
       "      <td>2014-03-08</td>\n",
       "      <td>2014-11-15</td>\n",
       "      <td>2015-03-03</td>\n",
       "      <td>252.0</td>\n",
       "      <td>108.0</td>\n",
       "      <td>-0.335769</td>\n",
       "      <td>1.506916</td>\n",
       "      <td>...</td>\n",
       "      <td>-0.425103</td>\n",
       "      <td>-0.756385</td>\n",
       "      <td>-0.841783</td>\n",
       "      <td>1.485771</td>\n",
       "      <td>0.723898</td>\n",
       "      <td>0.773099</td>\n",
       "      <td>0.667339</td>\n",
       "      <td>-0.560750</td>\n",
       "      <td>2.014093</td>\n",
       "      <td>-1.239817</td>\n",
       "    </tr>\n",
       "    <tr>\n",
       "      <th>156</th>\n",
       "      <td>604</td>\n",
       "      <td>-0.491610</td>\n",
       "      <td>0.589749</td>\n",
       "      <td>2014-09-23</td>\n",
       "      <td>2015-05-06</td>\n",
       "      <td>2015-09-30</td>\n",
       "      <td>225.0</td>\n",
       "      <td>147.0</td>\n",
       "      <td>0.854657</td>\n",
       "      <td>-0.541286</td>\n",
       "      <td>...</td>\n",
       "      <td>-0.770885</td>\n",
       "      <td>-0.655249</td>\n",
       "      <td>-0.963606</td>\n",
       "      <td>0.952300</td>\n",
       "      <td>-0.016451</td>\n",
       "      <td>0.700877</td>\n",
       "      <td>0.667339</td>\n",
       "      <td>-0.304519</td>\n",
       "      <td>1.838746</td>\n",
       "      <td>-1.215949</td>\n",
       "    </tr>\n",
       "    <tr>\n",
       "      <th>161</th>\n",
       "      <td>282</td>\n",
       "      <td>-0.190367</td>\n",
       "      <td>-0.259358</td>\n",
       "      <td>2015-01-26</td>\n",
       "      <td>2015-06-13</td>\n",
       "      <td>2015-12-09</td>\n",
       "      <td>138.0</td>\n",
       "      <td>179.0</td>\n",
       "      <td>1.566548</td>\n",
       "      <td>0.522057</td>\n",
       "      <td>...</td>\n",
       "      <td>-0.578753</td>\n",
       "      <td>-0.664169</td>\n",
       "      <td>-0.914898</td>\n",
       "      <td>0.605687</td>\n",
       "      <td>0.845707</td>\n",
       "      <td>-0.097715</td>\n",
       "      <td>0.667339</td>\n",
       "      <td>-0.560750</td>\n",
       "      <td>1.953286</td>\n",
       "      <td>-1.224804</td>\n",
       "    </tr>\n",
       "    <tr>\n",
       "      <th>165</th>\n",
       "      <td>347</td>\n",
       "      <td>-0.272442</td>\n",
       "      <td>-0.580573</td>\n",
       "      <td>2014-11-27</td>\n",
       "      <td>2015-03-20</td>\n",
       "      <td>2015-06-15</td>\n",
       "      <td>113.0</td>\n",
       "      <td>87.0</td>\n",
       "      <td>1.455782</td>\n",
       "      <td>1.137850</td>\n",
       "      <td>...</td>\n",
       "      <td>-2.050765</td>\n",
       "      <td>-1.670049</td>\n",
       "      <td>-0.643376</td>\n",
       "      <td>0.662715</td>\n",
       "      <td>1.177847</td>\n",
       "      <td>-0.267743</td>\n",
       "      <td>0.667339</td>\n",
       "      <td>-0.560750</td>\n",
       "      <td>1.789922</td>\n",
       "      <td>-1.229061</td>\n",
       "    </tr>\n",
       "    <tr>\n",
       "      <th>182</th>\n",
       "      <td>453</td>\n",
       "      <td>-0.054228</td>\n",
       "      <td>-0.525630</td>\n",
       "      <td>2014-11-10</td>\n",
       "      <td>2015-09-04</td>\n",
       "      <td>2015-07-28</td>\n",
       "      <td>298.0</td>\n",
       "      <td>-38.0</td>\n",
       "      <td>1.286521</td>\n",
       "      <td>0.817297</td>\n",
       "      <td>...</td>\n",
       "      <td>-0.880700</td>\n",
       "      <td>-0.447296</td>\n",
       "      <td>-0.568421</td>\n",
       "      <td>0.316729</td>\n",
       "      <td>1.565604</td>\n",
       "      <td>-0.062756</td>\n",
       "      <td>0.667339</td>\n",
       "      <td>-0.560750</td>\n",
       "      <td>2.004483</td>\n",
       "      <td>-1.225036</td>\n",
       "    </tr>\n",
       "    <tr>\n",
       "      <th>184</th>\n",
       "      <td>595</td>\n",
       "      <td>-0.131921</td>\n",
       "      <td>-0.117977</td>\n",
       "      <td>2014-08-18</td>\n",
       "      <td>2015-04-03</td>\n",
       "      <td>2015-07-18</td>\n",
       "      <td>228.0</td>\n",
       "      <td>106.0</td>\n",
       "      <td>0.246687</td>\n",
       "      <td>0.222841</td>\n",
       "      <td>...</td>\n",
       "      <td>-0.493686</td>\n",
       "      <td>1.166037</td>\n",
       "      <td>-1.386031</td>\n",
       "      <td>0.633579</td>\n",
       "      <td>1.465131</td>\n",
       "      <td>0.148033</td>\n",
       "      <td>1.606024</td>\n",
       "      <td>-0.560750</td>\n",
       "      <td>2.022621</td>\n",
       "      <td>-1.230222</td>\n",
       "    </tr>\n",
       "    <tr>\n",
       "      <th>187</th>\n",
       "      <td>303</td>\n",
       "      <td>0.344838</td>\n",
       "      <td>-0.905050</td>\n",
       "      <td>2014-03-15</td>\n",
       "      <td>2014-07-13</td>\n",
       "      <td>2014-09-24</td>\n",
       "      <td>120.0</td>\n",
       "      <td>73.0</td>\n",
       "      <td>1.464494</td>\n",
       "      <td>1.046880</td>\n",
       "      <td>...</td>\n",
       "      <td>0.072655</td>\n",
       "      <td>0.450078</td>\n",
       "      <td>-1.054524</td>\n",
       "      <td>-0.819848</td>\n",
       "      <td>-0.787359</td>\n",
       "      <td>-1.020529</td>\n",
       "      <td>0.684491</td>\n",
       "      <td>-0.558098</td>\n",
       "      <td>1.907934</td>\n",
       "      <td>-1.204278</td>\n",
       "    </tr>\n",
       "    <tr>\n",
       "      <th>188</th>\n",
       "      <td>22</td>\n",
       "      <td>-0.224065</td>\n",
       "      <td>0.193546</td>\n",
       "      <td>2014-06-26</td>\n",
       "      <td>2014-09-13</td>\n",
       "      <td>2014-11-26</td>\n",
       "      <td>79.0</td>\n",
       "      <td>74.0</td>\n",
       "      <td>0.695975</td>\n",
       "      <td>-0.195918</td>\n",
       "      <td>...</td>\n",
       "      <td>0.434628</td>\n",
       "      <td>0.305671</td>\n",
       "      <td>-0.396457</td>\n",
       "      <td>0.865890</td>\n",
       "      <td>0.440253</td>\n",
       "      <td>1.106640</td>\n",
       "      <td>-1.214486</td>\n",
       "      <td>0.181738</td>\n",
       "      <td>1.448004</td>\n",
       "      <td>-1.234101</td>\n",
       "    </tr>\n",
       "    <tr>\n",
       "      <th>191</th>\n",
       "      <td>665</td>\n",
       "      <td>0.251770</td>\n",
       "      <td>-0.534423</td>\n",
       "      <td>2013-10-21</td>\n",
       "      <td>2014-12-05</td>\n",
       "      <td>2014-08-31</td>\n",
       "      <td>410.0</td>\n",
       "      <td>-96.0</td>\n",
       "      <td>-0.823016</td>\n",
       "      <td>0.520783</td>\n",
       "      <td>...</td>\n",
       "      <td>-0.397162</td>\n",
       "      <td>-0.737529</td>\n",
       "      <td>0.077105</td>\n",
       "      <td>0.182660</td>\n",
       "      <td>-0.038409</td>\n",
       "      <td>0.189488</td>\n",
       "      <td>-1.253690</td>\n",
       "      <td>-0.560750</td>\n",
       "      <td>1.923990</td>\n",
       "      <td>-0.974256</td>\n",
       "    </tr>\n",
       "    <tr>\n",
       "      <th>198</th>\n",
       "      <td>360</td>\n",
       "      <td>-1.835691</td>\n",
       "      <td>-0.293160</td>\n",
       "      <td>2013-12-31</td>\n",
       "      <td>2014-04-23</td>\n",
       "      <td>2014-05-27</td>\n",
       "      <td>113.0</td>\n",
       "      <td>34.0</td>\n",
       "      <td>-0.859730</td>\n",
       "      <td>2.407296</td>\n",
       "      <td>...</td>\n",
       "      <td>0.842540</td>\n",
       "      <td>0.635265</td>\n",
       "      <td>0.553565</td>\n",
       "      <td>-1.470026</td>\n",
       "      <td>-1.426104</td>\n",
       "      <td>-1.364628</td>\n",
       "      <td>-1.253690</td>\n",
       "      <td>0.181738</td>\n",
       "      <td>3.318026</td>\n",
       "      <td>-1.227997</td>\n",
       "    </tr>\n",
       "    <tr>\n",
       "      <th>200</th>\n",
       "      <td>204</td>\n",
       "      <td>0.314950</td>\n",
       "      <td>-0.494251</td>\n",
       "      <td>2014-07-02</td>\n",
       "      <td>2014-10-08</td>\n",
       "      <td>2014-06-10</td>\n",
       "      <td>98.0</td>\n",
       "      <td>-120.0</td>\n",
       "      <td>-0.256117</td>\n",
       "      <td>0.392078</td>\n",
       "      <td>...</td>\n",
       "      <td>-0.161983</td>\n",
       "      <td>0.921634</td>\n",
       "      <td>-1.266657</td>\n",
       "      <td>0.194240</td>\n",
       "      <td>0.297274</td>\n",
       "      <td>0.049944</td>\n",
       "      <td>0.667339</td>\n",
       "      <td>-0.560750</td>\n",
       "      <td>2.432601</td>\n",
       "      <td>-1.100857</td>\n",
       "    </tr>\n",
       "    <tr>\n",
       "      <th>211</th>\n",
       "      <td>140</td>\n",
       "      <td>-0.200718</td>\n",
       "      <td>-0.263090</td>\n",
       "      <td>2015-12-01</td>\n",
       "      <td>2015-06-13</td>\n",
       "      <td>2015-07-09</td>\n",
       "      <td>-171.0</td>\n",
       "      <td>26.0</td>\n",
       "      <td>1.566548</td>\n",
       "      <td>0.538518</td>\n",
       "      <td>...</td>\n",
       "      <td>-0.641057</td>\n",
       "      <td>-0.779727</td>\n",
       "      <td>-0.641403</td>\n",
       "      <td>0.751142</td>\n",
       "      <td>0.994248</td>\n",
       "      <td>0.003584</td>\n",
       "      <td>0.667339</td>\n",
       "      <td>-0.560750</td>\n",
       "      <td>2.024112</td>\n",
       "      <td>-1.224804</td>\n",
       "    </tr>\n",
       "    <tr>\n",
       "      <th>218</th>\n",
       "      <td>733</td>\n",
       "      <td>1.300659</td>\n",
       "      <td>-1.157997</td>\n",
       "      <td>2014-02-26</td>\n",
       "      <td>2014-07-26</td>\n",
       "      <td>2014-10-11</td>\n",
       "      <td>150.0</td>\n",
       "      <td>77.0</td>\n",
       "      <td>-0.378706</td>\n",
       "      <td>0.773412</td>\n",
       "      <td>...</td>\n",
       "      <td>-0.201027</td>\n",
       "      <td>-0.598149</td>\n",
       "      <td>-1.023182</td>\n",
       "      <td>0.409304</td>\n",
       "      <td>1.569758</td>\n",
       "      <td>0.782992</td>\n",
       "      <td>1.627854</td>\n",
       "      <td>0.181738</td>\n",
       "      <td>1.875430</td>\n",
       "      <td>-1.186252</td>\n",
       "    </tr>\n",
       "    <tr>\n",
       "      <th>224</th>\n",
       "      <td>390</td>\n",
       "      <td>0.458647</td>\n",
       "      <td>-0.281281</td>\n",
       "      <td>2013-11-20</td>\n",
       "      <td>2014-05-28</td>\n",
       "      <td>2014-07-17</td>\n",
       "      <td>189.0</td>\n",
       "      <td>50.0</td>\n",
       "      <td>-0.884622</td>\n",
       "      <td>-0.090537</td>\n",
       "      <td>...</td>\n",
       "      <td>0.100463</td>\n",
       "      <td>-0.123275</td>\n",
       "      <td>0.387984</td>\n",
       "      <td>0.339049</td>\n",
       "      <td>0.967131</td>\n",
       "      <td>0.239240</td>\n",
       "      <td>-1.253690</td>\n",
       "      <td>0.181738</td>\n",
       "      <td>2.059286</td>\n",
       "      <td>-1.238640</td>\n",
       "    </tr>\n",
       "    <tr>\n",
       "      <th>229</th>\n",
       "      <td>247</td>\n",
       "      <td>0.823008</td>\n",
       "      <td>-1.539644</td>\n",
       "      <td>2013-03-10</td>\n",
       "      <td>2014-03-29</td>\n",
       "      <td>2014-05-06</td>\n",
       "      <td>384.0</td>\n",
       "      <td>38.0</td>\n",
       "      <td>-0.607706</td>\n",
       "      <td>1.579126</td>\n",
       "      <td>...</td>\n",
       "      <td>-1.363305</td>\n",
       "      <td>-2.175493</td>\n",
       "      <td>0.380620</td>\n",
       "      <td>0.876638</td>\n",
       "      <td>0.860667</td>\n",
       "      <td>0.433414</td>\n",
       "      <td>2.094231</td>\n",
       "      <td>0.542252</td>\n",
       "      <td>1.890721</td>\n",
       "      <td>-1.472617</td>\n",
       "    </tr>\n",
       "    <tr>\n",
       "      <th>230</th>\n",
       "      <td>233</td>\n",
       "      <td>0.105716</td>\n",
       "      <td>-0.328896</td>\n",
       "      <td>2013-06-26</td>\n",
       "      <td>2013-09-12</td>\n",
       "      <td>2014-01-30</td>\n",
       "      <td>78.0</td>\n",
       "      <td>140.0</td>\n",
       "      <td>-1.270437</td>\n",
       "      <td>0.327135</td>\n",
       "      <td>...</td>\n",
       "      <td>-2.195671</td>\n",
       "      <td>-3.274215</td>\n",
       "      <td>0.231525</td>\n",
       "      <td>0.172257</td>\n",
       "      <td>0.468252</td>\n",
       "      <td>-0.046052</td>\n",
       "      <td>-1.253690</td>\n",
       "      <td>0.181738</td>\n",
       "      <td>1.873128</td>\n",
       "      <td>-1.200995</td>\n",
       "    </tr>\n",
       "  </tbody>\n",
       "</table>\n",
       "<p>33 rows × 47 columns</p>\n",
       "</div>"
      ],
      "text/plain": [
       "     API    Surf_X    Surf_Y Date_Drilling Date_Completion Date_Production  \\\n",
       "11     7 -0.101826 -0.543508    2014-06-17      2014-06-10      2015-01-26   \n",
       "17   125 -0.210227 -0.269186    2014-12-28      2015-06-05      2015-03-09   \n",
       "18   141 -0.480440  0.775366    2014-05-04      2014-07-23      2014-07-09   \n",
       "31   538 -0.236855  0.187020    2014-06-13      2014-09-10      2014-11-25   \n",
       "33   522  1.022006 -1.619928    2014-10-23      2015-01-14      2015-03-15   \n",
       "35   751 -0.302516 -0.312210    2014-07-06      2015-01-26      2015-05-04   \n",
       "36   487 -0.073028 -0.535067    2014-09-14      2015-11-03      2015-02-08   \n",
       "38   480 -0.209012  0.201088    2014-08-07      2014-10-13      2014-01-12   \n",
       "49   640  0.098034  1.582837    2013-04-07             NaT      2016-06-04   \n",
       "61   494 -0.461484 -0.180266    2015-01-20      2015-10-05      2015-12-08   \n",
       "77   257 -0.171775 -0.177316    2014-05-16      2014-08-10      2014-05-12   \n",
       "82   657 -0.291896 -0.307306    2014-06-21      2015-11-01      2015-03-31   \n",
       "97     8  0.247617 -0.546576    2014-08-29      2014-12-14      2015-03-18   \n",
       "122  418 -0.063986 -0.530515    2014-09-27      2015-03-26      2015-07-29   \n",
       "135  771  0.326027 -0.892350    2014-07-26      2014-05-12      2015-03-14   \n",
       "146  757  0.158359 -0.196913    2014-06-26      2014-09-19      2015-01-26   \n",
       "153  775  0.195680  0.655966    2014-02-13      2014-02-08      2014-09-17   \n",
       "155   68  1.009403 -1.624461    2014-03-08      2014-11-15      2015-03-03   \n",
       "156  604 -0.491610  0.589749    2014-09-23      2015-05-06      2015-09-30   \n",
       "161  282 -0.190367 -0.259358    2015-01-26      2015-06-13      2015-12-09   \n",
       "165  347 -0.272442 -0.580573    2014-11-27      2015-03-20      2015-06-15   \n",
       "182  453 -0.054228 -0.525630    2014-11-10      2015-09-04      2015-07-28   \n",
       "184  595 -0.131921 -0.117977    2014-08-18      2015-04-03      2015-07-18   \n",
       "187  303  0.344838 -0.905050    2014-03-15      2014-07-13      2014-09-24   \n",
       "188   22 -0.224065  0.193546    2014-06-26      2014-09-13      2014-11-26   \n",
       "191  665  0.251770 -0.534423    2013-10-21      2014-12-05      2014-08-31   \n",
       "198  360 -1.835691 -0.293160    2013-12-31      2014-04-23      2014-05-27   \n",
       "200  204  0.314950 -0.494251    2014-07-02      2014-10-08      2014-06-10   \n",
       "211  140 -0.200718 -0.263090    2015-12-01      2015-06-13      2015-07-09   \n",
       "218  733  1.300659 -1.157997    2014-02-26      2014-07-26      2014-10-11   \n",
       "224  390  0.458647 -0.281281    2013-11-20      2014-05-28      2014-07-17   \n",
       "229  247  0.823008 -1.539644    2013-03-10      2014-03-29      2014-05-06   \n",
       "230  233  0.105716 -0.328896    2013-06-26      2013-09-12      2014-01-30   \n",
       "\n",
       "     deltaT_Dril_Comp  deltaT_Comp_Prod  Lateral_Length (ft)  \\\n",
       "11               -7.0             230.0             1.697227   \n",
       "17              159.0             -88.0             1.566548   \n",
       "18               80.0             -14.0             0.742646   \n",
       "31               89.0              76.0             0.417815   \n",
       "33               83.0              60.0             1.865243   \n",
       "35              204.0              98.0             0.742024   \n",
       "36              415.0            -268.0             1.291499   \n",
       "38               67.0            -274.0             0.701576   \n",
       "49                NaN               NaN             0.304560   \n",
       "61              258.0              64.0             1.437736   \n",
       "77               86.0             -90.0            -0.267318   \n",
       "82              498.0            -215.0             1.006494   \n",
       "97              107.0              94.0            -0.919469   \n",
       "122             180.0             125.0             1.315768   \n",
       "135             -75.0             306.0             0.941777   \n",
       "146              85.0             129.0            -0.150951   \n",
       "153              -5.0             221.0            -0.578459   \n",
       "155             252.0             108.0            -0.335769   \n",
       "156             225.0             147.0             0.854657   \n",
       "161             138.0             179.0             1.566548   \n",
       "165             113.0              87.0             1.455782   \n",
       "182             298.0             -38.0             1.286521   \n",
       "184             228.0             106.0             0.246687   \n",
       "187             120.0              73.0             1.464494   \n",
       "188              79.0              74.0             0.695975   \n",
       "191             410.0             -96.0            -0.823016   \n",
       "198             113.0              34.0            -0.859730   \n",
       "200              98.0            -120.0            -0.256117   \n",
       "211            -171.0              26.0             1.566548   \n",
       "218             150.0              77.0            -0.378706   \n",
       "224             189.0              50.0            -0.884622   \n",
       "229             384.0              38.0            -0.607706   \n",
       "230              78.0             140.0            -1.270437   \n",
       "\n",
       "     Depth_TVD_PPLS (ft)         ...          Avg_Rate_Slurry (bpm)  \\\n",
       "11              0.895719         ...                      -0.488681   \n",
       "17              0.559451         ...                      -0.706327   \n",
       "18             -0.815376         ...                      -0.946942   \n",
       "31             -0.170574         ...                      -0.538508   \n",
       "33              1.486138         ...                      -0.683662   \n",
       "35              0.731980         ...                      -0.494246   \n",
       "36              0.851803         ...                      -1.237366   \n",
       "38             -0.222659         ...                       0.491538   \n",
       "49             -2.452614         ...                      -3.213068   \n",
       "61              0.681697         ...                      -0.402763   \n",
       "77              0.360833         ...                       0.650196   \n",
       "82              0.710084         ...                      -0.168487   \n",
       "97              0.543984         ...                      -0.012461   \n",
       "122             0.835031         ...                      -0.923876   \n",
       "135             1.042718         ...                      -0.080795   \n",
       "146             0.050871         ...                       0.789411   \n",
       "153            -1.333584         ...                      -0.433414   \n",
       "155             1.506916         ...                      -0.425103   \n",
       "156            -0.541286         ...                      -0.770885   \n",
       "161             0.522057         ...                      -0.578753   \n",
       "165             1.137850         ...                      -2.050765   \n",
       "182             0.817297         ...                      -0.880700   \n",
       "184             0.222841         ...                      -0.493686   \n",
       "187             1.046880         ...                       0.072655   \n",
       "188            -0.195918         ...                       0.434628   \n",
       "191             0.520783         ...                      -0.397162   \n",
       "198             2.407296         ...                       0.842540   \n",
       "200             0.392078         ...                      -0.161983   \n",
       "211             0.538518         ...                      -0.641057   \n",
       "218             0.773412         ...                      -0.201027   \n",
       "224            -0.090537         ...                       0.100463   \n",
       "229             1.579126         ...                      -1.363305   \n",
       "230             0.327135         ...                      -2.195671   \n",
       "\n",
       "     Max_Rate_Slurry (bpm)  Min_Rate_Slurry (bpm)  ShutInPressure_Fil (KPa)  \\\n",
       "11               -0.649272              -0.892759                 -0.150821   \n",
       "17               -0.739125              -0.855517                  1.108935   \n",
       "18               -0.729597               0.208531                  1.409205   \n",
       "31                0.047778              -0.727619                  0.586550   \n",
       "33               -0.855553              -0.637500                  1.265617   \n",
       "35                0.674499              -1.313777                  0.561125   \n",
       "36                0.381684                    NaN                 -0.186073   \n",
       "38                0.290580              -0.318883                  0.880920   \n",
       "49               -2.427199              -0.468899                  1.194239   \n",
       "61                0.391495              -0.512073                  0.468299   \n",
       "77                0.590705              -0.616383                  0.268533   \n",
       "82                1.236785              -1.367400                  0.694949   \n",
       "97               -0.595947              -0.853979                 -0.379629   \n",
       "122               0.125118              -0.506523                  0.492959   \n",
       "135              -0.597646              -0.920522                 -0.576077   \n",
       "146               1.275835              -1.284221                 -0.020766   \n",
       "153              -0.536376              -0.750022                 -0.324553   \n",
       "155              -0.756385              -0.841783                  1.485771   \n",
       "156              -0.655249              -0.963606                  0.952300   \n",
       "161              -0.664169              -0.914898                  0.605687   \n",
       "165              -1.670049              -0.643376                  0.662715   \n",
       "182              -0.447296              -0.568421                  0.316729   \n",
       "184               1.166037              -1.386031                  0.633579   \n",
       "187               0.450078              -1.054524                 -0.819848   \n",
       "188               0.305671              -0.396457                  0.865890   \n",
       "191              -0.737529               0.077105                  0.182660   \n",
       "198               0.635265               0.553565                 -1.470026   \n",
       "200               0.921634              -1.266657                  0.194240   \n",
       "211              -0.779727              -0.641403                  0.751142   \n",
       "218              -0.598149              -1.023182                  0.409304   \n",
       "224              -0.123275               0.387984                  0.339049   \n",
       "229              -2.175493               0.380620                  0.876638   \n",
       "230              -3.274215               0.231525                  0.172257   \n",
       "\n",
       "     ShutInPressure_Initial (KPa)  ISIP (KPa)  Shot_Density (shots/ft)  \\\n",
       "11                       0.649564    0.821407                 0.667339   \n",
       "17                       1.062269    0.415960                 0.667339   \n",
       "18                       0.685262   -0.011269                 1.589433   \n",
       "31                       1.054447    0.552219                -1.211929   \n",
       "33                       0.488946   -0.431029                -1.222198   \n",
       "35                       1.011186    0.174238                 0.667339   \n",
       "36                      -0.036956   -0.208470                 0.667339   \n",
       "38                       0.523589    1.324763                -1.227375   \n",
       "49                       1.235577    1.169842                -0.773433   \n",
       "61                       0.410480   -0.055963                 0.667339   \n",
       "77                       1.134729    0.441591                -1.204433   \n",
       "82                       1.199101    0.383822                 0.667339   \n",
       "97                      -0.021538   -0.113031                 0.667339   \n",
       "122                      1.641729    0.423001                 0.667339   \n",
       "135                      0.195651   -0.270795                 0.478931   \n",
       "146                      0.108614   -0.061747                 0.691352   \n",
       "153                      0.271600   -0.615375                -1.253690   \n",
       "155                      0.723898    0.773099                 0.667339   \n",
       "156                     -0.016451    0.700877                 0.667339   \n",
       "161                      0.845707   -0.097715                 0.667339   \n",
       "165                      1.177847   -0.267743                 0.667339   \n",
       "182                      1.565604   -0.062756                 0.667339   \n",
       "184                      1.465131    0.148033                 1.606024   \n",
       "187                     -0.787359   -1.020529                 0.684491   \n",
       "188                      0.440253    1.106640                -1.214486   \n",
       "191                     -0.038409    0.189488                -1.253690   \n",
       "198                     -1.426104   -1.364628                -1.253690   \n",
       "200                      0.297274    0.049944                 0.667339   \n",
       "211                      0.994248    0.003584                 0.667339   \n",
       "218                      1.569758    0.782992                 1.627854   \n",
       "224                      0.967131    0.239240                -1.253690   \n",
       "229                      0.860667    0.433414                 2.094231   \n",
       "230                      0.468252   -0.046052                -1.253690   \n",
       "\n",
       "     Shot_Total  Proppant_per_ft (kg/ft)  Stage_Spacing (ft)  \n",
       "11     0.181738                 2.000416           -1.237434  \n",
       "17    -2.020122                 2.059906           -1.224804  \n",
       "18     0.211438                 1.874893           -1.271133  \n",
       "31     0.181738                 2.015487           -1.234429  \n",
       "33     0.169566                 1.980735           -1.220407  \n",
       "35    -0.545597                 1.838070           -1.725533  \n",
       "36    -0.560750                 1.890912           -1.223798  \n",
       "38     0.181738                 3.000000           -1.648490  \n",
       "49     0.924226                -1.596762            1.037403  \n",
       "61    -0.560750                 1.988407           -1.233393  \n",
       "77     0.181738                 2.124385           -1.248055  \n",
       "82    -0.546471                 1.980993           -1.225295  \n",
       "97    -0.560750                 2.116013           -1.253541  \n",
       "122   -0.560750                 1.958849           -1.217760  \n",
       "135   -0.706391                 2.050551           -1.242324  \n",
       "146   -0.542187                 2.070930           -1.239492  \n",
       "153    0.181738                 1.838079           -1.189494  \n",
       "155   -0.560750                 2.014093           -1.239817  \n",
       "156   -0.304519                 1.838746           -1.215949  \n",
       "161   -0.560750                 1.953286           -1.224804  \n",
       "165   -0.560750                 1.789922           -1.229061  \n",
       "182   -0.560750                 2.004483           -1.225036  \n",
       "184   -0.560750                 2.022621           -1.230222  \n",
       "187   -0.558098                 1.907934           -1.204278  \n",
       "188    0.181738                 1.448004           -1.234101  \n",
       "191   -0.560750                 1.923990           -0.974256  \n",
       "198    0.181738                 3.318026           -1.227997  \n",
       "200   -0.560750                 2.432601           -1.100857  \n",
       "211   -0.560750                 2.024112           -1.224804  \n",
       "218    0.181738                 1.875430           -1.186252  \n",
       "224    0.181738                 2.059286           -1.238640  \n",
       "229    0.542252                 1.890721           -1.472617  \n",
       "230    0.181738                 1.873128           -1.200995  \n",
       "\n",
       "[33 rows x 47 columns]"
      ]
     },
     "execution_count": 63,
     "metadata": {},
     "output_type": "execute_result"
    },
    {
     "data": {
      "image/png": "[encoded data removed]",
      "text/plain": [
       "<matplotlib.figure.Figure at 0x25c804384a8>"
      ]
     },
     "metadata": {},
     "output_type": "display_data"
    },
    {
     "data": {
      "image/png": "[encoded data removed]",
      "text/plain": [
       "<matplotlib.figure.Figure at 0x25c81b8ea58>"
      ]
     },
     "metadata": {},
     "output_type": "display_data"
    }
   ],
   "source": [
    "outs_Propp=vis_and_return_Outl(df,\"Proppant_per_ft (kg/ft)\",1.5)\n",
    "outs_Propp"
   ]
  },
  {
   "cell_type": "markdown",
   "metadata": {},
   "source": [
    "Looking at the histogram, we decide to change the outlying values > 4 to a less extreme value."
   ]
  },
  {
   "cell_type": "code",
   "execution_count": 53,
   "metadata": {
    "collapsed": true
   },
   "outputs": [],
   "source": [
    "rows=df[df[\"Proppant_per_ft (kg/ft)\"]>4].index\n",
    "df.loc[rows,\"Proppant_per_ft (kg/ft)\"]=np.mean(df[\"Proppant_per_ft (kg/ft)\"])"
   ]
  },
  {
   "cell_type": "markdown",
   "metadata": {},
   "source": [
    "#### Missing Values"
   ]
  },
  {
   "cell_type": "code",
   "execution_count": 54,
   "metadata": {},
   "outputs": [
    {
     "name": "stdout",
     "output_type": "stream",
     "text": [
      "1.0\n",
      "Shot_Total\n"
     ]
    },
    {
     "data": {
      "text/plain": [
       "'Shot_Total'"
      ]
     },
     "execution_count": 54,
     "metadata": {},
     "output_type": "execute_result"
    }
   ],
   "source": [
    "missing_Prop=np.isnan(df[\"Proppant_per_ft (kg/ft)\"]) # 1 value\n",
    "find_cor('Proppant_per_ft (kg/ft)',df)"
   ]
  },
  {
   "cell_type": "code",
   "execution_count": 55,
   "metadata": {},
   "outputs": [
    {
     "name": "stdout",
     "output_type": "stream",
     "text": [
      "we estimate y= ax+b, with a equals:[ 0.81566906]\n"
     ]
    }
   ],
   "source": [
    "a3=lin_regr('Proppant_Designed (kg)','Proppant_per_ft (kg/ft)')\n",
    "m1=np.mean(df['Proppant_Designed (kg)'])\n",
    "m2=np.mean(df['Proppant_Designed (kg)'])\n",
    "rows=df['Proppant_per_ft (kg/ft)'][missing_Prop].index\n",
    "df.loc[rows,'Proppant_per_ft (kg/ft)']=(df['Proppant_Designed (kg)'][missing_Prop]- m1)*a3+ m2"
   ]
  },
  {
   "cell_type": "code",
   "execution_count": 56,
   "metadata": {},
   "outputs": [
    {
     "data": {
      "text/plain": [
       "<matplotlib.legend.Legend at 0x25c81a79be0>"
      ]
     },
     "execution_count": 56,
     "metadata": {},
     "output_type": "execute_result"
    },
    {
     "data": {
      "image/png": "[encoded data removed]",
      "text/plain": [
       "<matplotlib.figure.Figure at 0x25c81a14b38>"
      ]
     },
     "metadata": {},
     "output_type": "display_data"
    }
   ],
   "source": [
    "plt.figure(figsize=(6,6))\n",
    "plt.scatter(df['Proppant_Designed (kg)'][~missing_Prop],df['Proppant_per_ft (kg/ft)'][~missing_Prop],color='blue',s=5,label='originals')\n",
    "plt.scatter(df['Proppant_Designed (kg)'][missing_Prop],df['Proppant_per_ft (kg/ft)'][missing_Prop],color='red',s=50,label='replaced')\n",
    "plt.xlabel('Proppant_Des')\n",
    "plt.ylabel('Proppand_per_foot')\n",
    "plt.legend()"
   ]
  },
  {
   "cell_type": "markdown",
   "metadata": {},
   "source": [
    "### Proppant_in_Formation (kg)"
   ]
  },
  {
   "cell_type": "markdown",
   "metadata": {},
   "source": [
    "#### Outliers"
   ]
  },
  {
   "cell_type": "code",
   "execution_count": 64,
   "metadata": {},
   "outputs": [
    {
     "data": {
      "text/html": [
       "<div>\n",
       "<style>\n",
       "    .dataframe thead tr:only-child th {\n",
       "        text-align: right;\n",
       "    }\n",
       "\n",
       "    .dataframe thead th {\n",
       "        text-align: left;\n",
       "    }\n",
       "\n",
       "    .dataframe tbody tr th {\n",
       "        vertical-align: top;\n",
       "    }\n",
       "</style>\n",
       "<table border=\"1\" class=\"dataframe\">\n",
       "  <thead>\n",
       "    <tr style=\"text-align: right;\">\n",
       "      <th></th>\n",
       "      <th>API</th>\n",
       "      <th>Surf_X</th>\n",
       "      <th>Surf_Y</th>\n",
       "      <th>Date_Drilling</th>\n",
       "      <th>Date_Completion</th>\n",
       "      <th>Date_Production</th>\n",
       "      <th>deltaT_Dril_Comp</th>\n",
       "      <th>deltaT_Comp_Prod</th>\n",
       "      <th>Lateral_Length (ft)</th>\n",
       "      <th>Depth_TVD_PPLS (ft)</th>\n",
       "      <th>...</th>\n",
       "      <th>Avg_Rate_Slurry (bpm)</th>\n",
       "      <th>Max_Rate_Slurry (bpm)</th>\n",
       "      <th>Min_Rate_Slurry (bpm)</th>\n",
       "      <th>ShutInPressure_Fil (KPa)</th>\n",
       "      <th>ShutInPressure_Initial (KPa)</th>\n",
       "      <th>ISIP (KPa)</th>\n",
       "      <th>Shot_Density (shots/ft)</th>\n",
       "      <th>Shot_Total</th>\n",
       "      <th>Proppant_per_ft (kg/ft)</th>\n",
       "      <th>Stage_Spacing (ft)</th>\n",
       "    </tr>\n",
       "  </thead>\n",
       "  <tbody>\n",
       "  </tbody>\n",
       "</table>\n",
       "<p>0 rows × 47 columns</p>\n",
       "</div>"
      ],
      "text/plain": [
       "Empty DataFrame\n",
       "Columns: [API, Surf_X, Surf_Y, Date_Drilling, Date_Completion, Date_Production, deltaT_Dril_Comp, deltaT_Comp_Prod, Lateral_Length (ft), Depth_TVD_PPLS (ft), Erosion_PPLS (ft), Pressure_PPLS (PSI), TOC_PPLS (%), Vcarb_PPLS, Vsand_PPLS, Vclay_PPLS, PR_PPLS, YM_PPLS (PSI), RHOB_PPLS (g/cc), Res_PPLS (Ohmm), GR_PPLS (API), DT_PPLS (us/ft), DTs_PPLS (us/ft), Temperature (F), Temp_Anomaly (F), S3Tect_PPLS (PSI), S3_contrast_PPLS (PSI), Heat_Flow (W/m2), Zone, Nbr_Stages, Frac_Gradient (PSI/ft), Proppant_Designed (kg), Proppant_in_Formation (kg), Avg_Breakdown_Pressure (KPa), Avg_Treating_Pressure (KPa), Max_Treating_pressure (KPa), Min_Treating_Pressure (KPa), Avg_Rate_Slurry (bpm), Max_Rate_Slurry (bpm), Min_Rate_Slurry (bpm), ShutInPressure_Fil (KPa), ShutInPressure_Initial (KPa), ISIP (KPa), Shot_Density (shots/ft), Shot_Total, Proppant_per_ft (kg/ft), Stage_Spacing (ft)]\n",
       "Index: []\n",
       "\n",
       "[0 rows x 47 columns]"
      ]
     },
     "execution_count": 64,
     "metadata": {},
     "output_type": "execute_result"
    },
    {
     "data": {
      "image/png": "[encoded data removed]",
      "text/plain": [
       "<matplotlib.figure.Figure at 0x25c81b992e8>"
      ]
     },
     "metadata": {},
     "output_type": "display_data"
    },
    {
     "data": {
      "image/png": "[encoded data removed]",
      "text/plain": [
       "<matplotlib.figure.Figure at 0x25c81a0b860>"
      ]
     },
     "metadata": {},
     "output_type": "display_data"
    }
   ],
   "source": [
    "outs_Propp_Form=vis_and_return_Outl(df,\"Proppant_in_Formation (kg)\",4,delta=0.3,a=-2,b=4)\n",
    "outs_Propp_Form"
   ]
  },
  {
   "cell_type": "markdown",
   "metadata": {},
   "source": [
    "#### Missing Values"
   ]
  },
  {
   "cell_type": "code",
   "execution_count": 65,
   "metadata": {},
   "outputs": [
    {
     "name": "stdout",
     "output_type": "stream",
     "text": [
      "1.0\n",
      "Proppant_Designed (kg)\n"
     ]
    },
    {
     "data": {
      "text/plain": [
       "'Proppant_Designed (kg)'"
      ]
     },
     "execution_count": 65,
     "metadata": {},
     "output_type": "execute_result"
    }
   ],
   "source": [
    "missing_Prop_Form=np.isnan(df[\"Proppant_in_Formation (kg)\"]) # 1 value\n",
    "find_cor('Proppant_in_Formation (kg)',df)"
   ]
  },
  {
   "cell_type": "code",
   "execution_count": 66,
   "metadata": {},
   "outputs": [
    {
     "name": "stdout",
     "output_type": "stream",
     "text": [
      "we estimate y= ax+b, with a equals:[ 0.99896482]\n"
     ]
    }
   ],
   "source": [
    "a4=lin_regr('Proppant_Designed (kg)','Proppant_in_Formation (kg)')\n",
    "m1=np.mean(df['Proppant_Designed (kg)'])\n",
    "m2=np.mean(df['Proppant_Designed (kg)'])\n",
    "rows=df['Proppant_in_Formation (kg)'][missing_Prop].index\n",
    "df.loc[rows,'Proppant_in_Formation (kg)']=(df['Proppant_Designed (kg)'][missing_Prop]- m1)*a3+ m2"
   ]
  },
  {
   "cell_type": "code",
   "execution_count": 67,
   "metadata": {},
   "outputs": [
    {
     "data": {
      "text/plain": [
       "<matplotlib.legend.Legend at 0x25c81994898>"
      ]
     },
     "execution_count": 67,
     "metadata": {},
     "output_type": "execute_result"
    },
    {
     "data": {
      "image/png": "[encoded data removed]",
      "text/plain": [
       "<matplotlib.figure.Figure at 0x25c81a636d8>"
      ]
     },
     "metadata": {},
     "output_type": "display_data"
    }
   ],
   "source": [
    "plt.figure(figsize=(6,6))\n",
    "plt.scatter(df['Proppant_Designed (kg)'][~missing_Prop],df['Proppant_per_ft (kg/ft)'][~missing_Prop],color='blue',s=5,label='originals')\n",
    "plt.scatter(df['Proppant_Designed (kg)'][missing_Prop],df['Proppant_per_ft (kg/ft)'][missing_Prop],color='red',s=50,label='replaced')\n",
    "plt.xlabel('Proppant_Des')\n",
    "plt.ylabel('Proppand_per_foot')\n",
    "plt.legend()"
   ]
  },
  {
   "cell_type": "markdown",
   "metadata": {},
   "source": [
    "### Avg_Breakdown_Pressure (KPa)"
   ]
  },
  {
   "cell_type": "code",
   "execution_count": 68,
   "metadata": {},
   "outputs": [
    {
     "data": {
      "text/html": [
       "<div>\n",
       "<style>\n",
       "    .dataframe thead tr:only-child th {\n",
       "        text-align: right;\n",
       "    }\n",
       "\n",
       "    .dataframe thead th {\n",
       "        text-align: left;\n",
       "    }\n",
       "\n",
       "    .dataframe tbody tr th {\n",
       "        vertical-align: top;\n",
       "    }\n",
       "</style>\n",
       "<table border=\"1\" class=\"dataframe\">\n",
       "  <thead>\n",
       "    <tr style=\"text-align: right;\">\n",
       "      <th></th>\n",
       "      <th>API</th>\n",
       "      <th>Surf_X</th>\n",
       "      <th>Surf_Y</th>\n",
       "      <th>Date_Drilling</th>\n",
       "      <th>Date_Completion</th>\n",
       "      <th>Date_Production</th>\n",
       "      <th>deltaT_Dril_Comp</th>\n",
       "      <th>deltaT_Comp_Prod</th>\n",
       "      <th>Lateral_Length (ft)</th>\n",
       "      <th>Depth_TVD_PPLS (ft)</th>\n",
       "      <th>...</th>\n",
       "      <th>Avg_Rate_Slurry (bpm)</th>\n",
       "      <th>Max_Rate_Slurry (bpm)</th>\n",
       "      <th>Min_Rate_Slurry (bpm)</th>\n",
       "      <th>ShutInPressure_Fil (KPa)</th>\n",
       "      <th>ShutInPressure_Initial (KPa)</th>\n",
       "      <th>ISIP (KPa)</th>\n",
       "      <th>Shot_Density (shots/ft)</th>\n",
       "      <th>Shot_Total</th>\n",
       "      <th>Proppant_per_ft (kg/ft)</th>\n",
       "      <th>Stage_Spacing (ft)</th>\n",
       "    </tr>\n",
       "  </thead>\n",
       "  <tbody>\n",
       "    <tr>\n",
       "      <th>43</th>\n",
       "      <td>297</td>\n",
       "      <td>0.610026</td>\n",
       "      <td>-0.004224</td>\n",
       "      <td>2014-03-20</td>\n",
       "      <td>2014-08-13</td>\n",
       "      <td>2014-11-22</td>\n",
       "      <td>146.0</td>\n",
       "      <td>101.0</td>\n",
       "      <td>1.403510</td>\n",
       "      <td>-0.651916</td>\n",
       "      <td>...</td>\n",
       "      <td>-1.088836</td>\n",
       "      <td>-0.794859</td>\n",
       "      <td>-0.973107</td>\n",
       "      <td>-0.464512</td>\n",
       "      <td>0.547604</td>\n",
       "      <td>-0.216831</td>\n",
       "      <td>0.667339</td>\n",
       "      <td>-0.560750</td>\n",
       "      <td>-0.612267</td>\n",
       "      <td>-0.188090</td>\n",
       "    </tr>\n",
       "    <tr>\n",
       "      <th>58</th>\n",
       "      <td>99</td>\n",
       "      <td>0.415835</td>\n",
       "      <td>-0.199180</td>\n",
       "      <td>2013-05-20</td>\n",
       "      <td>2014-08-03</td>\n",
       "      <td>2014-03-05</td>\n",
       "      <td>440.0</td>\n",
       "      <td>-151.0</td>\n",
       "      <td>-1.173361</td>\n",
       "      <td>-0.197781</td>\n",
       "      <td>...</td>\n",
       "      <td>-0.267348</td>\n",
       "      <td>-0.385934</td>\n",
       "      <td>0.431449</td>\n",
       "      <td>-0.561384</td>\n",
       "      <td>0.343135</td>\n",
       "      <td>0.037660</td>\n",
       "      <td>-1.253690</td>\n",
       "      <td>0.181738</td>\n",
       "      <td>-0.416286</td>\n",
       "      <td>-0.226474</td>\n",
       "    </tr>\n",
       "    <tr>\n",
       "      <th>74</th>\n",
       "      <td>60</td>\n",
       "      <td>-0.382794</td>\n",
       "      <td>0.830152</td>\n",
       "      <td>2014-08-22</td>\n",
       "      <td>2015-04-02</td>\n",
       "      <td>2015-09-05</td>\n",
       "      <td>223.0</td>\n",
       "      <td>156.0</td>\n",
       "      <td>1.433380</td>\n",
       "      <td>-0.975140</td>\n",
       "      <td>...</td>\n",
       "      <td>-2.013844</td>\n",
       "      <td>-1.987019</td>\n",
       "      <td>-1.101833</td>\n",
       "      <td>0.551765</td>\n",
       "      <td>1.187099</td>\n",
       "      <td>0.738545</td>\n",
       "      <td>0.692127</td>\n",
       "      <td>-0.484106</td>\n",
       "      <td>-0.600647</td>\n",
       "      <td>-0.097479</td>\n",
       "    </tr>\n",
       "  </tbody>\n",
       "</table>\n",
       "<p>3 rows × 47 columns</p>\n",
       "</div>"
      ],
      "text/plain": [
       "    API    Surf_X    Surf_Y Date_Drilling Date_Completion Date_Production  \\\n",
       "43  297  0.610026 -0.004224    2014-03-20      2014-08-13      2014-11-22   \n",
       "58   99  0.415835 -0.199180    2013-05-20      2014-08-03      2014-03-05   \n",
       "74   60 -0.382794  0.830152    2014-08-22      2015-04-02      2015-09-05   \n",
       "\n",
       "    deltaT_Dril_Comp  deltaT_Comp_Prod  Lateral_Length (ft)  \\\n",
       "43             146.0             101.0             1.403510   \n",
       "58             440.0            -151.0            -1.173361   \n",
       "74             223.0             156.0             1.433380   \n",
       "\n",
       "    Depth_TVD_PPLS (ft)         ...          Avg_Rate_Slurry (bpm)  \\\n",
       "43            -0.651916         ...                      -1.088836   \n",
       "58            -0.197781         ...                      -0.267348   \n",
       "74            -0.975140         ...                      -2.013844   \n",
       "\n",
       "    Max_Rate_Slurry (bpm)  Min_Rate_Slurry (bpm)  ShutInPressure_Fil (KPa)  \\\n",
       "43              -0.794859              -0.973107                 -0.464512   \n",
       "58              -0.385934               0.431449                 -0.561384   \n",
       "74              -1.987019              -1.101833                  0.551765   \n",
       "\n",
       "    ShutInPressure_Initial (KPa)  ISIP (KPa)  Shot_Density (shots/ft)  \\\n",
       "43                      0.547604   -0.216831                 0.667339   \n",
       "58                      0.343135    0.037660                -1.253690   \n",
       "74                      1.187099    0.738545                 0.692127   \n",
       "\n",
       "    Shot_Total  Proppant_per_ft (kg/ft)  Stage_Spacing (ft)  \n",
       "43   -0.560750                -0.612267           -0.188090  \n",
       "58    0.181738                -0.416286           -0.226474  \n",
       "74   -0.484106                -0.600647           -0.097479  \n",
       "\n",
       "[3 rows x 47 columns]"
      ]
     },
     "execution_count": 68,
     "metadata": {},
     "output_type": "execute_result"
    },
    {
     "data": {
      "image/png": "[encoded data removed]",
      "text/plain": [
       "<matplotlib.figure.Figure at 0x25c81c4c358>"
      ]
     },
     "metadata": {},
     "output_type": "display_data"
    },
    {
     "data": {
      "image/png": "[encoded data removed]",
      "text/plain": [
       "<matplotlib.figure.Figure at 0x25c819d0438>"
      ]
     },
     "metadata": {},
     "output_type": "display_data"
    }
   ],
   "source": [
    "outs_Abp=vis_and_return_Outl(df,'Avg_Breakdown_Pressure (KPa)',1.5,delta=0.3,a=-3,b=5)\n",
    "outs_Abp"
   ]
  },
  {
   "cell_type": "markdown",
   "metadata": {},
   "source": [
    "We do not see huge outliers."
   ]
  },
  {
   "cell_type": "markdown",
   "metadata": {},
   "source": [
    "#### Missing Values"
   ]
  },
  {
   "cell_type": "code",
   "execution_count": 73,
   "metadata": {},
   "outputs": [
    {
     "data": {
      "text/html": [
       "<div>\n",
       "<style>\n",
       "    .dataframe thead tr:only-child th {\n",
       "        text-align: right;\n",
       "    }\n",
       "\n",
       "    .dataframe thead th {\n",
       "        text-align: left;\n",
       "    }\n",
       "\n",
       "    .dataframe tbody tr th {\n",
       "        vertical-align: top;\n",
       "    }\n",
       "</style>\n",
       "<table border=\"1\" class=\"dataframe\">\n",
       "  <thead>\n",
       "    <tr style=\"text-align: right;\">\n",
       "      <th></th>\n",
       "      <th>API</th>\n",
       "      <th>Surf_X</th>\n",
       "      <th>Surf_Y</th>\n",
       "      <th>Date_Drilling</th>\n",
       "      <th>Date_Completion</th>\n",
       "      <th>Date_Production</th>\n",
       "      <th>deltaT_Dril_Comp</th>\n",
       "      <th>deltaT_Comp_Prod</th>\n",
       "      <th>Lateral_Length (ft)</th>\n",
       "      <th>Depth_TVD_PPLS (ft)</th>\n",
       "      <th>...</th>\n",
       "      <th>Avg_Rate_Slurry (bpm)</th>\n",
       "      <th>Max_Rate_Slurry (bpm)</th>\n",
       "      <th>Min_Rate_Slurry (bpm)</th>\n",
       "      <th>ShutInPressure_Fil (KPa)</th>\n",
       "      <th>ShutInPressure_Initial (KPa)</th>\n",
       "      <th>ISIP (KPa)</th>\n",
       "      <th>Shot_Density (shots/ft)</th>\n",
       "      <th>Shot_Total</th>\n",
       "      <th>Proppant_per_ft (kg/ft)</th>\n",
       "      <th>Stage_Spacing (ft)</th>\n",
       "    </tr>\n",
       "  </thead>\n",
       "  <tbody>\n",
       "  </tbody>\n",
       "</table>\n",
       "<p>0 rows × 47 columns</p>\n",
       "</div>"
      ],
      "text/plain": [
       "Empty DataFrame\n",
       "Columns: [API, Surf_X, Surf_Y, Date_Drilling, Date_Completion, Date_Production, deltaT_Dril_Comp, deltaT_Comp_Prod, Lateral_Length (ft), Depth_TVD_PPLS (ft), Erosion_PPLS (ft), Pressure_PPLS (PSI), TOC_PPLS (%), Vcarb_PPLS, Vsand_PPLS, Vclay_PPLS, PR_PPLS, YM_PPLS (PSI), RHOB_PPLS (g/cc), Res_PPLS (Ohmm), GR_PPLS (API), DT_PPLS (us/ft), DTs_PPLS (us/ft), Temperature (F), Temp_Anomaly (F), S3Tect_PPLS (PSI), S3_contrast_PPLS (PSI), Heat_Flow (W/m2), Zone, Nbr_Stages, Frac_Gradient (PSI/ft), Proppant_Designed (kg), Proppant_in_Formation (kg), Avg_Breakdown_Pressure (KPa), Avg_Treating_Pressure (KPa), Max_Treating_pressure (KPa), Min_Treating_Pressure (KPa), Avg_Rate_Slurry (bpm), Max_Rate_Slurry (bpm), Min_Rate_Slurry (bpm), ShutInPressure_Fil (KPa), ShutInPressure_Initial (KPa), ISIP (KPa), Shot_Density (shots/ft), Shot_Total, Proppant_per_ft (kg/ft), Stage_Spacing (ft)]\n",
       "Index: []\n",
       "\n",
       "[0 rows x 47 columns]"
      ]
     },
     "execution_count": 73,
     "metadata": {},
     "output_type": "execute_result"
    }
   ],
   "source": [
    "missing_Abp=np.isnan(df[\"Avg_Breakdown_Pressure (KPa)\"]) # 1 value\n",
    "df[missing_Abp] # 4 missing values"
   ]
  },
  {
   "cell_type": "markdown",
   "metadata": {},
   "source": [
    "As there is no other variable with high correlation, we just replace missing values by mean."
   ]
  },
  {
   "cell_type": "code",
   "execution_count": 72,
   "metadata": {
    "collapsed": true
   },
   "outputs": [],
   "source": [
    "rows=df[missing_Abp].index\n",
    "df.loc[rows,'Avg_Breakdown_Pressure (KPa)']=np.mean(df['Avg_Breakdown_Pressure (KPa)'])"
   ]
  },
  {
   "cell_type": "code",
   "execution_count": null,
   "metadata": {
    "collapsed": true
   },
   "outputs": [],
   "source": [
    "# Avg/Min/Max_Treating_Pressure (KPa)\n",
    "we treat this variables together  as they are highly correlated.\n",
    "\n",
    "cor(Avg,Min) =0.80\n",
    "cor(Avg,Max) =0.46\n",
    "cor(Min,Max) =0.30"
   ]
  },
  {
   "cell_type": "code",
   "execution_count": 75,
   "metadata": {},
   "outputs": [
    {
     "data": {
      "text/html": [
       "<div>\n",
       "<style>\n",
       "    .dataframe thead tr:only-child th {\n",
       "        text-align: right;\n",
       "    }\n",
       "\n",
       "    .dataframe thead th {\n",
       "        text-align: left;\n",
       "    }\n",
       "\n",
       "    .dataframe tbody tr th {\n",
       "        vertical-align: top;\n",
       "    }\n",
       "</style>\n",
       "<table border=\"1\" class=\"dataframe\">\n",
       "  <thead>\n",
       "    <tr style=\"text-align: right;\">\n",
       "      <th></th>\n",
       "      <th>API</th>\n",
       "      <th>Surf_X</th>\n",
       "      <th>Surf_Y</th>\n",
       "      <th>Date_Drilling</th>\n",
       "      <th>Date_Completion</th>\n",
       "      <th>Date_Production</th>\n",
       "      <th>deltaT_Dril_Comp</th>\n",
       "      <th>deltaT_Comp_Prod</th>\n",
       "      <th>Lateral_Length (ft)</th>\n",
       "      <th>Depth_TVD_PPLS (ft)</th>\n",
       "      <th>...</th>\n",
       "      <th>Avg_Rate_Slurry (bpm)</th>\n",
       "      <th>Max_Rate_Slurry (bpm)</th>\n",
       "      <th>Min_Rate_Slurry (bpm)</th>\n",
       "      <th>ShutInPressure_Fil (KPa)</th>\n",
       "      <th>ShutInPressure_Initial (KPa)</th>\n",
       "      <th>ISIP (KPa)</th>\n",
       "      <th>Shot_Density (shots/ft)</th>\n",
       "      <th>Shot_Total</th>\n",
       "      <th>Proppant_per_ft (kg/ft)</th>\n",
       "      <th>Stage_Spacing (ft)</th>\n",
       "    </tr>\n",
       "  </thead>\n",
       "  <tbody>\n",
       "  </tbody>\n",
       "</table>\n",
       "<p>0 rows × 47 columns</p>\n",
       "</div>"
      ],
      "text/plain": [
       "Empty DataFrame\n",
       "Columns: [API, Surf_X, Surf_Y, Date_Drilling, Date_Completion, Date_Production, deltaT_Dril_Comp, deltaT_Comp_Prod, Lateral_Length (ft), Depth_TVD_PPLS (ft), Erosion_PPLS (ft), Pressure_PPLS (PSI), TOC_PPLS (%), Vcarb_PPLS, Vsand_PPLS, Vclay_PPLS, PR_PPLS, YM_PPLS (PSI), RHOB_PPLS (g/cc), Res_PPLS (Ohmm), GR_PPLS (API), DT_PPLS (us/ft), DTs_PPLS (us/ft), Temperature (F), Temp_Anomaly (F), S3Tect_PPLS (PSI), S3_contrast_PPLS (PSI), Heat_Flow (W/m2), Zone, Nbr_Stages, Frac_Gradient (PSI/ft), Proppant_Designed (kg), Proppant_in_Formation (kg), Avg_Breakdown_Pressure (KPa), Avg_Treating_Pressure (KPa), Max_Treating_pressure (KPa), Min_Treating_Pressure (KPa), Avg_Rate_Slurry (bpm), Max_Rate_Slurry (bpm), Min_Rate_Slurry (bpm), ShutInPressure_Fil (KPa), ShutInPressure_Initial (KPa), ISIP (KPa), Shot_Density (shots/ft), Shot_Total, Proppant_per_ft (kg/ft), Stage_Spacing (ft)]\n",
       "Index: []\n",
       "\n",
       "[0 rows x 47 columns]"
      ]
     },
     "execution_count": 75,
     "metadata": {},
     "output_type": "execute_result"
    },
    {
     "data": {
      "image/png": "[encoded data removed]",
      "text/plain": [
       "<matplotlib.figure.Figure at 0x25c81bd4048>"
      ]
     },
     "metadata": {},
     "output_type": "display_data"
    },
    {
     "data": {
      "image/png": "[encoded data removed]",
      "text/plain": [
       "<matplotlib.figure.Figure at 0x25c81be1438>"
      ]
     },
     "metadata": {},
     "output_type": "display_data"
    }
   ],
   "source": [
    "outs_Atp=vis_and_return_Outl(df,'Avg_Treating_Pressure (KPa)',3,delta=0.3,a=-5,b=5)#\n",
    "outs_Atp"
   ]
  },
  {
   "cell_type": "markdown",
   "metadata": {},
   "source": [
    "To the left side of the histogram, it seems that there are same outliers.\n",
    "We plot against correlated variables to see more.."
   ]
  },
  {
   "cell_type": "code",
   "execution_count": 76,
   "metadata": {},
   "outputs": [
    {
     "data": {
      "text/plain": [
       "<matplotlib.collections.PathCollection at 0x25c81d93748>"
      ]
     },
     "execution_count": 76,
     "metadata": {},
     "output_type": "execute_result"
    },
    {
     "data": {
      "image/png": "[encoded data removed]",
      "text/plain": [
       "<matplotlib.figure.Figure at 0x25c81dae780>"
      ]
     },
     "metadata": {},
     "output_type": "display_data"
    }
   ],
   "source": [
    "plt.scatter(df['Avg_Treating_Pressure (KPa)'],df['Min_Treating_Pressure (KPa)'])"
   ]
  },
  {
   "cell_type": "markdown",
   "metadata": {},
   "source": [
    "    We decided only to delete the outliers with values < - 2.5\n"
   ]
  },
  {
   "cell_type": "code",
   "execution_count": 77,
   "metadata": {
    "collapsed": true
   },
   "outputs": [],
   "source": [
    "rows=outs_Atp.index\n",
    "df.loc[rows,'Avg_Treating_Pressure (KPa)']=np.nan\n"
   ]
  },
  {
   "cell_type": "code",
   "execution_count": 78,
   "metadata": {},
   "outputs": [
    {
     "data": {
      "image/png": "[encoded data removed]",
      "text/plain": [
       "<matplotlib.figure.Figure at 0x25c81d93cc0>"
      ]
     },
     "metadata": {},
     "output_type": "display_data"
    },
    {
     "data": {
      "image/png": "[encoded data removed]",
      "text/plain": [
       "<matplotlib.figure.Figure at 0x25c8098dda0>"
      ]
     },
     "metadata": {},
     "output_type": "display_data"
    }
   ],
   "source": [
    "outs_Mitp=vis_and_return_Outl(df,'Min_Treating_Pressure (KPa)',4.1,delta=0.3,a=-5,b=5)\n",
    "rows=outs_Mitp.index\n",
    "df.loc[rows,'Min_Treating_Pressure (KPa)']=np.nan # delete outliers determinded by boxplot"
   ]
  },
  {
   "cell_type": "code",
   "execution_count": 79,
   "metadata": {},
   "outputs": [
    {
     "data": {
      "image/png": "[encoded data removed]",
      "text/plain": [
       "<matplotlib.figure.Figure at 0x25c81c29da0>"
      ]
     },
     "metadata": {},
     "output_type": "display_data"
    }
   ],
   "source": [
    "plt.scatter(df['Avg_Treating_Pressure (KPa)'],df['Min_Treating_Pressure (KPa)'])\n",
    "rows=df[df['Min_Treating_Pressure (KPa)'] >1.4].index\n",
    "df.loc[rows,'Min_Treating_Pressure (KPa)']=0"
   ]
  },
  {
   "cell_type": "code",
   "execution_count": 80,
   "metadata": {},
   "outputs": [
    {
     "data": {
      "text/html": [
       "<div>\n",
       "<style>\n",
       "    .dataframe thead tr:only-child th {\n",
       "        text-align: right;\n",
       "    }\n",
       "\n",
       "    .dataframe thead th {\n",
       "        text-align: left;\n",
       "    }\n",
       "\n",
       "    .dataframe tbody tr th {\n",
       "        vertical-align: top;\n",
       "    }\n",
       "</style>\n",
       "<table border=\"1\" class=\"dataframe\">\n",
       "  <thead>\n",
       "    <tr style=\"text-align: right;\">\n",
       "      <th></th>\n",
       "      <th>API</th>\n",
       "      <th>Surf_X</th>\n",
       "      <th>Surf_Y</th>\n",
       "      <th>Date_Drilling</th>\n",
       "      <th>Date_Completion</th>\n",
       "      <th>Date_Production</th>\n",
       "      <th>deltaT_Dril_Comp</th>\n",
       "      <th>deltaT_Comp_Prod</th>\n",
       "      <th>Lateral_Length (ft)</th>\n",
       "      <th>Depth_TVD_PPLS (ft)</th>\n",
       "      <th>...</th>\n",
       "      <th>Avg_Rate_Slurry (bpm)</th>\n",
       "      <th>Max_Rate_Slurry (bpm)</th>\n",
       "      <th>Min_Rate_Slurry (bpm)</th>\n",
       "      <th>ShutInPressure_Fil (KPa)</th>\n",
       "      <th>ShutInPressure_Initial (KPa)</th>\n",
       "      <th>ISIP (KPa)</th>\n",
       "      <th>Shot_Density (shots/ft)</th>\n",
       "      <th>Shot_Total</th>\n",
       "      <th>Proppant_per_ft (kg/ft)</th>\n",
       "      <th>Stage_Spacing (ft)</th>\n",
       "    </tr>\n",
       "  </thead>\n",
       "  <tbody>\n",
       "    <tr>\n",
       "      <th>127</th>\n",
       "      <td>109</td>\n",
       "      <td>-2.352500</td>\n",
       "      <td>1.620195</td>\n",
       "      <td>2013-12-13</td>\n",
       "      <td>2014-04-15</td>\n",
       "      <td>2016-11-05</td>\n",
       "      <td>123.0</td>\n",
       "      <td>935.0</td>\n",
       "      <td>-1.280393</td>\n",
       "      <td>0.298965</td>\n",
       "      <td>...</td>\n",
       "      <td>0.538420</td>\n",
       "      <td>0.546580</td>\n",
       "      <td>0.459046</td>\n",
       "      <td>-0.040905</td>\n",
       "      <td>0.116732</td>\n",
       "      <td>-0.212683</td>\n",
       "      <td>-1.253690</td>\n",
       "      <td>0.181738</td>\n",
       "      <td>-0.132707</td>\n",
       "      <td>-0.560197</td>\n",
       "    </tr>\n",
       "    <tr>\n",
       "      <th>153</th>\n",
       "      <td>775</td>\n",
       "      <td>0.195680</td>\n",
       "      <td>0.655966</td>\n",
       "      <td>2014-02-13</td>\n",
       "      <td>2014-02-08</td>\n",
       "      <td>2014-09-17</td>\n",
       "      <td>-5.0</td>\n",
       "      <td>221.0</td>\n",
       "      <td>-0.578459</td>\n",
       "      <td>-1.333584</td>\n",
       "      <td>...</td>\n",
       "      <td>-0.433414</td>\n",
       "      <td>-0.536376</td>\n",
       "      <td>-0.750022</td>\n",
       "      <td>-0.324553</td>\n",
       "      <td>0.271600</td>\n",
       "      <td>-0.615375</td>\n",
       "      <td>-1.253690</td>\n",
       "      <td>0.181738</td>\n",
       "      <td>1.838079</td>\n",
       "      <td>-1.189494</td>\n",
       "    </tr>\n",
       "    <tr>\n",
       "      <th>204</th>\n",
       "      <td>260</td>\n",
       "      <td>-2.158496</td>\n",
       "      <td>1.665525</td>\n",
       "      <td>2013-09-17</td>\n",
       "      <td>2013-03-12</td>\n",
       "      <td>2016-02-05</td>\n",
       "      <td>-189.0</td>\n",
       "      <td>1060.0</td>\n",
       "      <td>-0.669312</td>\n",
       "      <td>-0.162375</td>\n",
       "      <td>...</td>\n",
       "      <td>-1.027368</td>\n",
       "      <td>-1.447592</td>\n",
       "      <td>0.253667</td>\n",
       "      <td>-0.127380</td>\n",
       "      <td>-0.416572</td>\n",
       "      <td>0.191529</td>\n",
       "      <td>-1.253690</td>\n",
       "      <td>0.181738</td>\n",
       "      <td>-0.754003</td>\n",
       "      <td>-0.222105</td>\n",
       "    </tr>\n",
       "    <tr>\n",
       "      <th>222</th>\n",
       "      <td>578</td>\n",
       "      <td>0.656337</td>\n",
       "      <td>-0.845575</td>\n",
       "      <td>2011-07-19</td>\n",
       "      <td>2011-08-29</td>\n",
       "      <td>2011-01-10</td>\n",
       "      <td>41.0</td>\n",
       "      <td>-231.0</td>\n",
       "      <td>-1.111132</td>\n",
       "      <td>0.714587</td>\n",
       "      <td>...</td>\n",
       "      <td>0.645298</td>\n",
       "      <td>0.574355</td>\n",
       "      <td>0.618225</td>\n",
       "      <td>-1.492132</td>\n",
       "      <td>-1.233033</td>\n",
       "      <td>-2.374262</td>\n",
       "      <td>-0.293176</td>\n",
       "      <td>1.666713</td>\n",
       "      <td>-0.201509</td>\n",
       "      <td>1.221423</td>\n",
       "    </tr>\n",
       "    <tr>\n",
       "      <th>230</th>\n",
       "      <td>233</td>\n",
       "      <td>0.105716</td>\n",
       "      <td>-0.328896</td>\n",
       "      <td>2013-06-26</td>\n",
       "      <td>2013-09-12</td>\n",
       "      <td>2014-01-30</td>\n",
       "      <td>78.0</td>\n",
       "      <td>140.0</td>\n",
       "      <td>-1.270437</td>\n",
       "      <td>0.327135</td>\n",
       "      <td>...</td>\n",
       "      <td>-2.195671</td>\n",
       "      <td>-3.274215</td>\n",
       "      <td>0.231525</td>\n",
       "      <td>0.172257</td>\n",
       "      <td>0.468252</td>\n",
       "      <td>-0.046052</td>\n",
       "      <td>-1.253690</td>\n",
       "      <td>0.181738</td>\n",
       "      <td>1.873128</td>\n",
       "      <td>-1.200995</td>\n",
       "    </tr>\n",
       "  </tbody>\n",
       "</table>\n",
       "<p>5 rows × 47 columns</p>\n",
       "</div>"
      ],
      "text/plain": [
       "     API    Surf_X    Surf_Y Date_Drilling Date_Completion Date_Production  \\\n",
       "127  109 -2.352500  1.620195    2013-12-13      2014-04-15      2016-11-05   \n",
       "153  775  0.195680  0.655966    2014-02-13      2014-02-08      2014-09-17   \n",
       "204  260 -2.158496  1.665525    2013-09-17      2013-03-12      2016-02-05   \n",
       "222  578  0.656337 -0.845575    2011-07-19      2011-08-29      2011-01-10   \n",
       "230  233  0.105716 -0.328896    2013-06-26      2013-09-12      2014-01-30   \n",
       "\n",
       "     deltaT_Dril_Comp  deltaT_Comp_Prod  Lateral_Length (ft)  \\\n",
       "127             123.0             935.0            -1.280393   \n",
       "153              -5.0             221.0            -0.578459   \n",
       "204            -189.0            1060.0            -0.669312   \n",
       "222              41.0            -231.0            -1.111132   \n",
       "230              78.0             140.0            -1.270437   \n",
       "\n",
       "     Depth_TVD_PPLS (ft)         ...          Avg_Rate_Slurry (bpm)  \\\n",
       "127             0.298965         ...                       0.538420   \n",
       "153            -1.333584         ...                      -0.433414   \n",
       "204            -0.162375         ...                      -1.027368   \n",
       "222             0.714587         ...                       0.645298   \n",
       "230             0.327135         ...                      -2.195671   \n",
       "\n",
       "     Max_Rate_Slurry (bpm)  Min_Rate_Slurry (bpm)  ShutInPressure_Fil (KPa)  \\\n",
       "127               0.546580               0.459046                 -0.040905   \n",
       "153              -0.536376              -0.750022                 -0.324553   \n",
       "204              -1.447592               0.253667                 -0.127380   \n",
       "222               0.574355               0.618225                 -1.492132   \n",
       "230              -3.274215               0.231525                  0.172257   \n",
       "\n",
       "     ShutInPressure_Initial (KPa)  ISIP (KPa)  Shot_Density (shots/ft)  \\\n",
       "127                      0.116732   -0.212683                -1.253690   \n",
       "153                      0.271600   -0.615375                -1.253690   \n",
       "204                     -0.416572    0.191529                -1.253690   \n",
       "222                     -1.233033   -2.374262                -0.293176   \n",
       "230                      0.468252   -0.046052                -1.253690   \n",
       "\n",
       "     Shot_Total  Proppant_per_ft (kg/ft)  Stage_Spacing (ft)  \n",
       "127    0.181738                -0.132707           -0.560197  \n",
       "153    0.181738                 1.838079           -1.189494  \n",
       "204    0.181738                -0.754003           -0.222105  \n",
       "222    1.666713                -0.201509            1.221423  \n",
       "230    0.181738                 1.873128           -1.200995  \n",
       "\n",
       "[5 rows x 47 columns]"
      ]
     },
     "execution_count": 80,
     "metadata": {},
     "output_type": "execute_result"
    },
    {
     "data": {
      "image/png": "[encoded data removed]",
      "text/plain": [
       "<matplotlib.figure.Figure at 0x25c81d774e0>"
      ]
     },
     "metadata": {},
     "output_type": "display_data"
    },
    {
     "data": {
      "image/png": "[encoded data removed]",
      "text/plain": [
       "<matplotlib.figure.Figure at 0x25c81a7fcc0>"
      ]
     },
     "metadata": {},
     "output_type": "display_data"
    }
   ],
   "source": [
    "outs_Matp=vis_and_return_Outl(df,'Max_Treating_pressure (KPa)',3,delta=0.3,a=-5,b=5)\n",
    "outs_Matp"
   ]
  },
  {
   "cell_type": "code",
   "execution_count": 81,
   "metadata": {},
   "outputs": [
    {
     "data": {
      "text/plain": [
       "<matplotlib.collections.PathCollection at 0x25c80458f98>"
      ]
     },
     "execution_count": 81,
     "metadata": {},
     "output_type": "execute_result"
    },
    {
     "data": {
      "image/png": "[encoded data removed]",
      "text/plain": [
       "<matplotlib.figure.Figure at 0x25c81cf6a90>"
      ]
     },
     "metadata": {},
     "output_type": "display_data"
    }
   ],
   "source": [
    "plt.scatter(df['Min_Treating_Pressure (KPa)'],df['Max_Treating_pressure (KPa)'])"
   ]
  },
  {
   "cell_type": "code",
   "execution_count": 82,
   "metadata": {
    "collapsed": true
   },
   "outputs": [],
   "source": [
    "############################## To be rethought ###############################"
   ]
  },
  {
   "cell_type": "markdown",
   "metadata": {},
   "source": [
    "#### replace the missing values\n"
   ]
  },
  {
   "cell_type": "code",
   "execution_count": 84,
   "metadata": {},
   "outputs": [
    {
     "name": "stdout",
     "output_type": "stream",
     "text": [
      "1\n",
      "1\n",
      "1\n"
     ]
    }
   ],
   "source": [
    "missing_Atp=np.isnan(df[\"Avg_Treating_Pressure (KPa)\"])\n",
    "missing_Mitp=np.isnan(df[\"Min_Treating_Pressure (KPa)\"])\n",
    "missing_Matp=np.isnan(df[\"Max_Treating_pressure (KPa)\"])\n",
    "print (sum(missing_Atp))\n",
    "print (sum(missing_Mitp))\n",
    "print (sum(missing_Matp))"
   ]
  },
  {
   "cell_type": "code",
   "execution_count": 86,
   "metadata": {},
   "outputs": [
    {
     "name": "stdout",
     "output_type": "stream",
     "text": [
      "1\n"
     ]
    }
   ],
   "source": [
    "missing_all=np.logical_and(missing_Atp,missing_Mitp)\n",
    "missing_all=np.logical_and(missing_all,missing_Matp)\n",
    "print (sum(missing_all))"
   ]
  },
  {
   "cell_type": "markdown",
   "metadata": {},
   "source": [
    "We have one missing values that all the three features have missing. We have to estimate them by the mean."
   ]
  },
  {
   "cell_type": "code",
   "execution_count": 87,
   "metadata": {
    "collapsed": true
   },
   "outputs": [],
   "source": [
    "rows=df[missing_all].index\n",
    "df.loc[rows,\"Avg_Treating_Pressure (KPa)\"]=np.mean(df['Avg_Treating_Pressure (KPa)'])\n",
    "df.loc[rows,\"Min_Treating_Pressure (KPa)\"]=np.mean(df['Min_Treating_Pressure (KPa)'])\n",
    "df.loc[rows,\"Max_Treating_pressure (KPa)\"]=np.mean(df['Max_Treating_pressure (KPa)'])"
   ]
  },
  {
   "cell_type": "markdown",
   "metadata": {},
   "source": [
    "Estimate the rest of the missing vals each variable by another."
   ]
  },
  {
   "cell_type": "code",
   "execution_count": 88,
   "metadata": {
    "collapsed": true
   },
   "outputs": [],
   "source": [
    "mA=np.mean(df['Avg_Treating_Pressure (KPa)'])\n",
    "mMi=np.mean(df['Min_Treating_Pressure (KPa)'])\n",
    "mMa=np.mean(df['Max_Treating_pressure (KPa)'])\n",
    "rows_In=df[only_Init_missing].index\n",
    "df.loc[rows_In,'ShutInPressure_Initial (KPa)']=(df['ShutInPressure_Fil (KPa)'][only_Init_missing]- m1)*a+ m2\n",
    "df.loc[rows_both,'ShutInPressure_Initial (KPa)']=m2# estimate with mean"
   ]
  },
  {
   "cell_type": "markdown",
   "metadata": {},
   "source": [
    "#### Missing Avg"
   ]
  },
  {
   "cell_type": "code",
   "execution_count": 89,
   "metadata": {},
   "outputs": [
    {
     "name": "stdout",
     "output_type": "stream",
     "text": [
      "0\n",
      "0\n"
     ]
    }
   ],
   "source": [
    "AvNotMin=np.logical_and(missing_Atp,~missing_Mitp)\n",
    "print (sum(AvNotMin))\n",
    "AvNotMax=np.logical_and(missing_Atp,~missing_Matp)\n",
    "print (sum(AvNotMax))"
   ]
  },
  {
   "cell_type": "markdown",
   "metadata": {},
   "source": [
    "#### Missing Min"
   ]
  },
  {
   "cell_type": "code",
   "execution_count": 90,
   "metadata": {},
   "outputs": [
    {
     "name": "stdout",
     "output_type": "stream",
     "text": [
      "0\n",
      "0\n"
     ]
    }
   ],
   "source": [
    "MinNotAv=np.logical_and(~missing_Atp,missing_Mitp)\n",
    "print (sum(MinNotAv))\n",
    "MinNotMax=np.logical_and(missing_Mitp,~missing_Matp)\n",
    "print (sum(MinNotMax))"
   ]
  },
  {
   "cell_type": "markdown",
   "metadata": {},
   "source": [
    "#### Missing Max"
   ]
  },
  {
   "cell_type": "code",
   "execution_count": 91,
   "metadata": {},
   "outputs": [
    {
     "name": "stdout",
     "output_type": "stream",
     "text": [
      "0\n",
      "0\n"
     ]
    }
   ],
   "source": [
    "MaxNotAv=np.logical_and(~missing_Atp,missing_Matp)\n",
    "print (sum(MaxNotAv))\n",
    "MaxNotMin=np.logical_and(~missing_Mitp,missing_Matp)\n",
    "print (sum(MaxNotMin))"
   ]
  },
  {
   "cell_type": "markdown",
   "metadata": {},
   "source": [
    "We see can see that we only have a missing val with the three dfeatures missing and no val that we ca estimate by another."
   ]
  },
  {
   "cell_type": "code",
   "execution_count": 92,
   "metadata": {},
   "outputs": [
    {
     "name": "stdout",
     "output_type": "stream",
     "text": [
      "0\n",
      "0\n",
      "0\n"
     ]
    }
   ],
   "source": [
    "missing_Atp=np.isnan(df[\"Avg_Treating_Pressure (KPa)\"])\n",
    "missing_Mitp=np.isnan(df[\"Min_Treating_Pressure (KPa)\"])\n",
    "missing_Matp=np.isnan(df[\"Max_Treating_pressure (KPa)\"])\n",
    "print (sum(missing_Atp))\n",
    "print (sum(missing_Mitp))\n",
    "print (sum(missing_Matp))"
   ]
  },
  {
   "cell_type": "code",
   "execution_count": null,
   "metadata": {
    "collapsed": true
   },
   "outputs": [],
   "source": []
  }
 ],
 "metadata": {
  "kernelspec": {
   "display_name": "Python 3",
   "language": "python",
   "name": "python3"
  },
  "language_info": {
   "codemirror_mode": {
    "name": "ipython",
    "version": 3
   },
   "file_extension": ".py",
   "mimetype": "text/x-python",
   "name": "python",
   "nbconvert_exporter": "python",
   "pygments_lexer": "ipython3",
   "version": "3.6.3"
  }
 },
 "nbformat": 4,
 "nbformat_minor": 2
}
