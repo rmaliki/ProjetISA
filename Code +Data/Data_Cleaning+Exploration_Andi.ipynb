{
 "cells": [
  {
   "cell_type": "code",
   "execution_count": 112,
   "metadata": {},
   "outputs": [],
   "source": [
    "%matplotlib inline\n",
    "import pandas as pd\n",
    "import numpy as np\n",
    "import matplotlib.pyplot as plt\n",
    "import outlier_removal as out\n",
    "from sklearn import linear_model\n"
   ]
  },
  {
   "cell_type": "markdown",
   "metadata": {},
   "source": [
    "## helpful functions:\n",
    "### correlated columns\n",
    "To find, for a given column, another column with the highest possible correlation"
   ]
  },
  {
   "cell_type": "code",
   "execution_count": 301,
   "metadata": {},
   "outputs": [],
   "source": [
    "def find_cor(name,df):\n",
    "    cor=df.corr()\n",
    "    index=df.columns.get_loc(name)\n",
    "    if(index>2):#Dates fall out, to be corrected when we have dates\n",
    "        index=index-3\n",
    "    cor=cor[name]\n",
    "    c=[np.abs(e) for e in cor]\n",
    "    c[index]=0 # highsest correltion is with it self\n",
    "    max_cor=max(c)\n",
    "    print(max_cor)\n",
    "    max_cor_index=c.index(max_cor)\n",
    "    if( max_cor_index>2):\n",
    "        max_cor_index=max_cor_index+3 # Dates fall out, calculate dataframe index\n",
    "    max_cor_name=df.columns[max_cor_index]\n",
    "    print(max_cor_name)\n",
    "    return max_cor_name"
   ]
  },
  {
   "cell_type": "markdown",
   "metadata": {},
   "source": [
    "### Linear 1D fit"
   ]
  },
  {
   "cell_type": "code",
   "execution_count": 309,
   "metadata": {},
   "outputs": [],
   "source": [
    "def lin_regr(namex,namey):\n",
    "    model = linear_model.LinearRegression()\n",
    "    nansx= np.array(np.isnan(df[namex]))\n",
    "    nansy= np.array(np.isnan(df[namey]))\n",
    "    nan=np.logical_or(nansx,nansy)\n",
    "    df_nonans=df[np.logical_not(nan)]\n",
    "    x=df_nonans[namex].values\n",
    "    x=[e for e in x]\n",
    "    x=np.array(x)\n",
    "    y=df_nonans[namey].values\n",
    "    y=[e for e in y]\n",
    "    y=np.array(y)\n",
    "    model.fit(x[:, np.newaxis], y)\n",
    "    res= model.coef_\n",
    "    print(\"we estimate y= ax+b, with a equals:\"+ str(res))\n",
    "    return res"
   ]
  },
  {
   "cell_type": "markdown",
   "metadata": {},
   "source": [
    "### Outliers visualization"
   ]
  },
  {
   "cell_type": "code",
   "execution_count": 323,
   "metadata": {},
   "outputs": [],
   "source": [
    "def vis_and_return_Outl(df,column,factor_iqr):\n",
    "    df.boxplot(column,return_type='dict',whis=factor_iqr)\n",
    "    plt.title('outliers')\n",
    "    y=df[column]\n",
    "    x=range(1, len(y)+1)\n",
    "    plt.figure()\n",
    "    plt.title(column+ \" plottet against random\")\n",
    "    plt.plot(x,y,'.')\n",
    "    #quartiles\n",
    "    Q1=np.percentile(df.dropna()[column],25)\n",
    "    Q3=np.percentile(df.dropna()[column],75)\n",
    "    iqr=Q3-Q1\n",
    "    \n",
    "    #identify outliers\n",
    "    mean=np.mean(df[column])\n",
    "    index=np.logical_or(df[column]< Q1 - factor_iqr*iqr, df[column]> Q3 + factor_iqr*iqr)\n",
    "    outliers=df[index]\n",
    "    return outliers\n",
    "    "
   ]
  },
  {
   "cell_type": "markdown",
   "metadata": {},
   "source": [
    "# The Actual Data Cleaning\n"
   ]
  },
  {
   "cell_type": "code",
   "execution_count": 324,
   "metadata": {},
   "outputs": [],
   "source": [
    "df=pd.read_csv('TrainSample2.csv',sep=';' )"
   ]
  },
  {
   "cell_type": "markdown",
   "metadata": {},
   "source": [
    "We select only those 363 lines, that do not have the group of 18 featrues missing"
   ]
  },
  {
   "cell_type": "code",
   "execution_count": 325,
   "metadata": {},
   "outputs": [
    {
     "data": {
      "text/plain": [
       "363"
      ]
     },
     "execution_count": 325,
     "metadata": {},
     "output_type": "execute_result"
    }
   ],
   "source": [
    "df=df[~ np.logical_and(np.isnan(df['Shot_Total']), np.isnan(df['Frac_Gradient (PSI/ft)'])  )] ## remove 97 lines with 18 missing\n",
    "len(df)\n"
   ]
  },
  {
   "cell_type": "markdown",
   "metadata": {},
   "source": [
    "## ShutInPressure_Fil (KPa)\n",
    "We check  missing values ( apart from the 97 we extracted already)"
   ]
  },
  {
   "cell_type": "code",
   "execution_count": 326,
   "metadata": {},
   "outputs": [
    {
     "data": {
      "text/plain": [
       "31"
      ]
     },
     "execution_count": 326,
     "metadata": {},
     "output_type": "execute_result"
    }
   ],
   "source": [
    "missing= np.isnan(df['ShutInPressure_Fil (KPa)'])\n",
    "sum(missing)\n"
   ]
  },
  {
   "cell_type": "markdown",
   "metadata": {},
   "source": [
    "We verify that these 31 lines are not a pattern. We find out that there is a high correlation with ShutInPressure_Initial. As the latter has just 1 missing value the same lines, we can ShutInPressure_Fil with ShutInPressure_Initial using linear regression."
   ]
  },
  {
   "cell_type": "markdown",
   "metadata": {},
   "source": [
    "So we can try a linear fit with our customzed function:"
   ]
  },
  {
   "cell_type": "code",
   "execution_count": 327,
   "metadata": {},
   "outputs": [
    {
     "name": "stdout",
     "output_type": "stream",
     "text": [
      "0.709788959854\n",
      "ShutInPressure_Initial (KPa)\n",
      "we estimate y= ax+b, with a equals:[ 0.66924334]\n"
     ]
    },
    {
     "data": {
      "text/plain": [
       "8      1.981787\n",
       "22    -1.678896\n",
       "27     1.126918\n",
       "45     0.540059\n",
       "46     0.131891\n",
       "99     0.050392\n",
       "114    0.918099\n",
       "153    0.019502\n",
       "180    0.648880\n",
       "186         NaN\n",
       "189    0.112968\n",
       "190    0.600586\n",
       "223    2.091678\n",
       "256   -0.049639\n",
       "257   -2.435179\n",
       "295    0.026355\n",
       "308    0.712157\n",
       "321    0.854188\n",
       "326    0.279104\n",
       "348    0.401689\n",
       "361    0.487605\n",
       "363    1.135837\n",
       "368   -0.403652\n",
       "375   -0.767063\n",
       "392    0.010256\n",
       "434    1.798313\n",
       "438   -0.875424\n",
       "447    0.788128\n",
       "448    0.878624\n",
       "453   -0.305628\n",
       "454    0.967420\n",
       "Name: ShutInPressure_Initial (KPa), dtype: float64"
      ]
     },
     "execution_count": 327,
     "metadata": {},
     "output_type": "execute_result"
    }
   ],
   "source": [
    "a=lin_regr(find_cor('ShutInPressure_Fil (KPa)',df),'ShutInPressure_Fil (KPa)')\n",
    "m1=np.mean(df['ShutInPressure_Initial (KPa)'])\n",
    "m2=np.mean(df['ShutInPressure_Fil (KPa)'])\n",
    "df['ShutInPressure_Fil (KPa)'][missing]=(df['ShutInPressure_Initial (KPa)'][missing]- m1)*a+ m2\n",
    "df['ShutInPressure_Initial (KPa)'][missing]"
   ]
  },
  {
   "cell_type": "markdown",
   "metadata": {},
   "source": [
    "we could not estimate one value as its missing in ShutInPressure_Initial as well. So we have to replace it with the mean."
   ]
  },
  {
   "cell_type": "code",
   "execution_count": 328,
   "metadata": {},
   "outputs": [
    {
     "name": "stderr",
     "output_type": "stream",
     "text": [
      "/usr/local/lib/python2.7/dist-packages/ipykernel_launcher.py:1: SettingWithCopyWarning: \n",
      "A value is trying to be set on a copy of a slice from a DataFrame\n",
      "\n",
      "See the caveats in the documentation: http://pandas.pydata.org/pandas-docs/stable/indexing.html#indexing-view-versus-copy\n",
      "  \"\"\"Entry point for launching an IPython kernel.\n"
     ]
    }
   ],
   "source": [
    "df['ShutInPressure_Fil (KPa)'][np.isnan(df['ShutInPressure_Fil (KPa)'])]=m2\n"
   ]
  },
  {
   "cell_type": "code",
   "execution_count": 329,
   "metadata": {},
   "outputs": [
    {
     "data": {
      "text/plain": [
       "Series([], Name: ShutInPressure_Fil (KPa), dtype: float64)"
      ]
     },
     "execution_count": 329,
     "metadata": {},
     "output_type": "execute_result"
    }
   ],
   "source": [
    "df['ShutInPressure_Fil (KPa)'][np.isnan(df['ShutInPressure_Fil (KPa)'])]"
   ]
  },
  {
   "cell_type": "markdown",
   "metadata": {},
   "source": [
    "now we have no more missing values. make scatter plot to check how the estimation was."
   ]
  },
  {
   "cell_type": "code",
   "execution_count": 330,
   "metadata": {
    "scrolled": true
   },
   "outputs": [
    {
     "data": {
      "text/plain": [
       "<matplotlib.legend.Legend at 0x7fcb6b5fd950>"
      ]
     },
     "execution_count": 330,
     "metadata": {},
     "output_type": "execute_result"
    },
    {
     "data": {
      "image/png": "[encoded data removed]",
      "text/plain": [
       "<matplotlib.figure.Figure at 0x7fcb6b907e10>"
      ]
     },
     "metadata": {},
     "output_type": "display_data"
    }
   ],
   "source": [
    "plt.figure(figsize=(8,8))\n",
    "plt.scatter(df['ShutInPressure_Initial (KPa)'][~missing],df['ShutInPressure_Fil (KPa)'][~missing],color='blue',s=5,label='originals')\n",
    "plt.scatter(df['ShutInPressure_Initial (KPa)'][missing],df['ShutInPressure_Fil (KPa)'][missing],color='red',s=12,label='replaced')\n",
    "plt.legend()\n"
   ]
  },
  {
   "cell_type": "markdown",
   "metadata": {},
   "source": [
    "### Outliers\n",
    "we use our customzied function \"replOut\" ( import outlier_removal.py)"
   ]
  },
  {
   "cell_type": "code",
   "execution_count": 331,
   "metadata": {},
   "outputs": [
    {
     "data": {
      "text/html": [
       "<div>\n",
       "<table border=\"1\" class=\"dataframe\">\n",
       "  <thead>\n",
       "    <tr style=\"text-align: right;\">\n",
       "      <th></th>\n",
       "      <th>API</th>\n",
       "      <th>Surf_X</th>\n",
       "      <th>Surf_Y</th>\n",
       "      <th>Date_Drilling</th>\n",
       "      <th>Date_Completion</th>\n",
       "      <th>Date_Production</th>\n",
       "      <th>Lateral_Length (ft)</th>\n",
       "      <th>Depth_TVD_PPLS (ft)</th>\n",
       "      <th>Erosion_PPLS (ft)</th>\n",
       "      <th>Pressure_PPLS (PSI)</th>\n",
       "      <th>...</th>\n",
       "      <th>Min_Rate_Slurry (bpm)</th>\n",
       "      <th>ShutInPressure_Fil (KPa)</th>\n",
       "      <th>ShutInPressure_Initial (KPa)</th>\n",
       "      <th>ISIP (KPa)</th>\n",
       "      <th>Shot_Density (shots/ft)</th>\n",
       "      <th>Shot_Total</th>\n",
       "      <th>Proppant_per_ft (kg/ft)</th>\n",
       "      <th>Stage_Spacing (ft)</th>\n",
       "      <th>GasCum360</th>\n",
       "      <th>OilCum360</th>\n",
       "    </tr>\n",
       "  </thead>\n",
       "  <tbody>\n",
       "    <tr>\n",
       "      <th>298</th>\n",
       "      <td>169</td>\n",
       "      <td>-0.361700</td>\n",
       "      <td>0.934645</td>\n",
       "      <td>13/02/14</td>\n",
       "      <td>24/08/14</td>\n",
       "      <td>21/10/14</td>\n",
       "      <td>-0.098057</td>\n",
       "      <td>-1.130276</td>\n",
       "      <td>-0.687802</td>\n",
       "      <td>-0.481296</td>\n",
       "      <td>...</td>\n",
       "      <td>0.277007</td>\n",
       "      <td>3.052486</td>\n",
       "      <td>0.936939</td>\n",
       "      <td>0.349276</td>\n",
       "      <td>1.627854</td>\n",
       "      <td>0.181738</td>\n",
       "      <td>0.115375</td>\n",
       "      <td>-0.177129</td>\n",
       "      <td>1.518204</td>\n",
       "      <td>-0.170041</td>\n",
       "    </tr>\n",
       "    <tr>\n",
       "      <th>340</th>\n",
       "      <td>456</td>\n",
       "      <td>0.280183</td>\n",
       "      <td>-0.135503</td>\n",
       "      <td>12/05/13</td>\n",
       "      <td>27/10/13</td>\n",
       "      <td>20/12/13</td>\n",
       "      <td>1.483162</td>\n",
       "      <td>-0.176755</td>\n",
       "      <td>-0.829416</td>\n",
       "      <td>0.404333</td>\n",
       "      <td>...</td>\n",
       "      <td>0.186816</td>\n",
       "      <td>-6.253073</td>\n",
       "      <td>1.056170</td>\n",
       "      <td>0.858999</td>\n",
       "      <td>-0.988721</td>\n",
       "      <td>0.591386</td>\n",
       "      <td>-0.761109</td>\n",
       "      <td>-0.152933</td>\n",
       "      <td>1.153736</td>\n",
       "      <td>-0.419644</td>\n",
       "    </tr>\n",
       "  </tbody>\n",
       "</table>\n",
       "<p>2 rows × 47 columns</p>\n",
       "</div>"
      ],
      "text/plain": [
       "     API    Surf_X    Surf_Y Date_Drilling Date_Completion Date_Production  \\\n",
       "298  169 -0.361700  0.934645      13/02/14        24/08/14        21/10/14   \n",
       "340  456  0.280183 -0.135503      12/05/13        27/10/13        20/12/13   \n",
       "\n",
       "     Lateral_Length (ft)  Depth_TVD_PPLS (ft)  Erosion_PPLS (ft)  \\\n",
       "298            -0.098057            -1.130276          -0.687802   \n",
       "340             1.483162            -0.176755          -0.829416   \n",
       "\n",
       "     Pressure_PPLS (PSI)    ...      Min_Rate_Slurry (bpm)  \\\n",
       "298            -0.481296    ...                   0.277007   \n",
       "340             0.404333    ...                   0.186816   \n",
       "\n",
       "     ShutInPressure_Fil (KPa)  ShutInPressure_Initial (KPa)  ISIP (KPa)  \\\n",
       "298                  3.052486                      0.936939    0.349276   \n",
       "340                 -6.253073                      1.056170    0.858999   \n",
       "\n",
       "     Shot_Density (shots/ft)  Shot_Total  Proppant_per_ft (kg/ft)  \\\n",
       "298                 1.627854    0.181738                 0.115375   \n",
       "340                -0.988721    0.591386                -0.761109   \n",
       "\n",
       "     Stage_Spacing (ft)  GasCum360  OilCum360  \n",
       "298           -0.177129   1.518204  -0.170041  \n",
       "340           -0.152933   1.153736  -0.419644  \n",
       "\n",
       "[2 rows x 47 columns]"
      ]
     },
     "execution_count": 331,
     "metadata": {},
     "output_type": "execute_result"
    },
    {
     "data": {
      "image/png": "[encoded data removed]",
      "text/plain": [
       "<matplotlib.figure.Figure at 0x7fcb6b9070d0>"
      ]
     },
     "metadata": {},
     "output_type": "display_data"
    },
    {
     "data": {
      "image/png": "[encoded data removed]",
      "text/plain": [
       "<matplotlib.figure.Figure at 0x7fcb6b9075d0>"
      ]
     },
     "metadata": {},
     "output_type": "display_data"
    }
   ],
   "source": [
    "outs=vis_and_return_Outl(df,\"ShutInPressure_Fil (KPa)\",1.5)\n",
    "outs"
   ]
  },
  {
   "cell_type": "markdown",
   "metadata": {},
   "source": [
    "We decide to only replace the bigger outlier (API =340). As it seems not to be an outlier in ShutInPressure_Initial, we can do the \n",
    "same as with the missing values. We still have that parameter from above."
   ]
  },
  {
   "cell_type": "code",
   "execution_count": 332,
   "metadata": {},
   "outputs": [
    {
     "name": "stderr",
     "output_type": "stream",
     "text": [
      "/usr/local/lib/python2.7/dist-packages/ipykernel_launcher.py:1: SettingWithCopyWarning: \n",
      "A value is trying to be set on a copy of a slice from a DataFrame\n",
      "\n",
      "See the caveats in the documentation: http://pandas.pydata.org/pandas-docs/stable/indexing.html#indexing-view-versus-copy\n",
      "  \"\"\"Entry point for launching an IPython kernel.\n"
     ]
    },
    {
     "data": {
      "text/plain": [
       "0.66991271638831218"
      ]
     },
     "execution_count": 332,
     "metadata": {},
     "output_type": "execute_result"
    }
   ],
   "source": [
    "df['ShutInPressure_Fil (KPa)'][340]=(df['ShutInPressure_Initial (KPa)'][340]- m1)*a+ m2\n",
    "df['ShutInPressure_Fil (KPa)'][340]"
   ]
  },
  {
   "cell_type": "markdown",
   "metadata": {},
   "source": [
    "## ShutInPressure_Initial\n",
    "lets see how many missing values"
   ]
  },
  {
   "cell_type": "code",
   "execution_count": 333,
   "metadata": {},
   "outputs": [
    {
     "data": {
      "text/plain": [
       "6"
      ]
     },
     "execution_count": 333,
     "metadata": {},
     "output_type": "execute_result"
    }
   ],
   "source": [
    "missing= np.isnan(df['ShutInPressure_Initial (KPa)'])\n",
    "sum(missing)"
   ]
  },
  {
   "cell_type": "markdown",
   "metadata": {},
   "source": [
    "lets look for correlated columns"
   ]
  },
  {
   "cell_type": "code",
   "execution_count": 334,
   "metadata": {},
   "outputs": [
    {
     "name": "stdout",
     "output_type": "stream",
     "text": [
      "0.792988539771\n",
      "ShutInPressure_Fil (KPa)\n"
     ]
    },
    {
     "data": {
      "text/plain": [
       "'ShutInPressure_Fil (KPa)'"
      ]
     },
     "execution_count": 334,
     "metadata": {},
     "output_type": "execute_result"
    }
   ],
   "source": [
    "find_cor('ShutInPressure_Initial (KPa)',df)"
   ]
  },
  {
   "cell_type": "markdown",
   "metadata": {},
   "source": [
    "its the other way round as before (and even more because we did the linear regression before). We know from before, that the two coumns have ( apart from the exreacted 97 lines) only one missing line im comon, which we estimated by the mean before. Hence we can use linear regression to estimate the missing vals the other way round also. we just have to swap their places in the code from above. the new a is now 1/old_a"
   ]
  },
  {
   "cell_type": "code",
   "execution_count": 335,
   "metadata": {},
   "outputs": [
    {
     "name": "stdout",
     "output_type": "stream",
     "text": [
      "0.792988539771\n",
      "ShutInPressure_Fil (KPa)\n",
      "we estimate y= ax+b, with a equals:[ 0.91491078]\n"
     ]
    },
    {
     "data": {
      "text/plain": [
       "50    -0.579655\n",
       "68     0.891261\n",
       "107   -0.465378\n",
       "135    0.234524\n",
       "186    0.019960\n",
       "249    0.069201\n",
       "Name: ShutInPressure_Initial (KPa), dtype: float64"
      ]
     },
     "execution_count": 335,
     "metadata": {},
     "output_type": "execute_result"
    }
   ],
   "source": [
    "b=lin_regr(find_cor('ShutInPressure_Initial (KPa)',df),'ShutInPressure_Initial (KPa)')\n",
    "m1=np.mean(df['ShutInPressure_Fil (KPa)'])\n",
    "m2=np.mean(df['ShutInPressure_Initial (KPa)'])\n",
    "df['ShutInPressure_Initial (KPa)'][missing]=(df['ShutInPressure_Fil (KPa)'][missing]- m1)*a+ m2\n",
    "df['ShutInPressure_Initial (KPa)'][missing]"
   ]
  },
  {
   "cell_type": "code",
   "execution_count": 342,
   "metadata": {},
   "outputs": [
    {
     "data": {
      "text/plain": [
       "<matplotlib.legend.Legend at 0x7fcb6b9b5750>"
      ]
     },
     "execution_count": 342,
     "metadata": {},
     "output_type": "execute_result"
    },
    {
     "data": {
      "image/png": "[encoded data removed]",
      "text/plain": [
       "<matplotlib.figure.Figure at 0x7fcb6b07cb10>"
      ]
     },
     "metadata": {},
     "output_type": "display_data"
    }
   ],
   "source": [
    "plt.figure(figsize=(8,8))\n",
    "plt.scatter(df['ShutInPressure_Fil (KPa)'][~missing],df['ShutInPressure_Initial (KPa)'][~missing],color='blue',s=5,label='originals')\n",
    "plt.scatter(df['ShutInPressure_Fil (KPa)'][missing],df['ShutInPressure_Initial (KPa)'][missing],color='red',s=30,label='replaced')\n",
    "plt.legend()"
   ]
  },
  {
   "cell_type": "markdown",
   "metadata": {},
   "source": [
    "Its a bit weird, that the slope of the linear fit before is not 1 over the one we have now, but this might be due to the squared error regression and the outliers \n",
    "### to be checked"
   ]
  },
  {
   "cell_type": "markdown",
   "metadata": {},
   "source": [
    "## \n",
    "We see that we have just one. But looking at the plot, we see that it is not a huge outlier. we decide to leave it,"
   ]
  },
  {
   "cell_type": "code",
   "execution_count": 346,
   "metadata": {},
   "outputs": [
    {
     "data": {
      "text/html": [
       "<div>\n",
       "<table border=\"1\" class=\"dataframe\">\n",
       "  <thead>\n",
       "    <tr style=\"text-align: right;\">\n",
       "      <th></th>\n",
       "      <th>API</th>\n",
       "      <th>Surf_X</th>\n",
       "      <th>Surf_Y</th>\n",
       "      <th>Date_Drilling</th>\n",
       "      <th>Date_Completion</th>\n",
       "      <th>Date_Production</th>\n",
       "      <th>Lateral_Length (ft)</th>\n",
       "      <th>Depth_TVD_PPLS (ft)</th>\n",
       "      <th>Erosion_PPLS (ft)</th>\n",
       "      <th>Pressure_PPLS (PSI)</th>\n",
       "      <th>...</th>\n",
       "      <th>Min_Rate_Slurry (bpm)</th>\n",
       "      <th>ShutInPressure_Fil (KPa)</th>\n",
       "      <th>ShutInPressure_Initial (KPa)</th>\n",
       "      <th>ISIP (KPa)</th>\n",
       "      <th>Shot_Density (shots/ft)</th>\n",
       "      <th>Shot_Total</th>\n",
       "      <th>Proppant_per_ft (kg/ft)</th>\n",
       "      <th>Stage_Spacing (ft)</th>\n",
       "      <th>GasCum360</th>\n",
       "      <th>OilCum360</th>\n",
       "    </tr>\n",
       "  </thead>\n",
       "  <tbody>\n",
       "    <tr>\n",
       "      <th>312</th>\n",
       "      <td>585</td>\n",
       "      <td>2.191754</td>\n",
       "      <td>-1.461372</td>\n",
       "      <td>29/10/12</td>\n",
       "      <td>15/11/12</td>\n",
       "      <td>28/03/13</td>\n",
       "      <td>-1.295328</td>\n",
       "      <td>0.52743</td>\n",
       "      <td>1.046354</td>\n",
       "      <td>-0.240118</td>\n",
       "      <td>...</td>\n",
       "      <td>0.932451</td>\n",
       "      <td>-2.210476</td>\n",
       "      <td>-2.784977</td>\n",
       "      <td>-2.767494</td>\n",
       "      <td>0.667339</td>\n",
       "      <td>-0.56075</td>\n",
       "      <td>-0.556775</td>\n",
       "      <td>2.455301</td>\n",
       "      <td>-0.861051</td>\n",
       "      <td>-0.812057</td>\n",
       "    </tr>\n",
       "  </tbody>\n",
       "</table>\n",
       "<p>1 rows × 47 columns</p>\n",
       "</div>"
      ],
      "text/plain": [
       "     API    Surf_X    Surf_Y Date_Drilling Date_Completion Date_Production  \\\n",
       "312  585  2.191754 -1.461372      29/10/12        15/11/12        28/03/13   \n",
       "\n",
       "     Lateral_Length (ft)  Depth_TVD_PPLS (ft)  Erosion_PPLS (ft)  \\\n",
       "312            -1.295328              0.52743           1.046354   \n",
       "\n",
       "     Pressure_PPLS (PSI)    ...      Min_Rate_Slurry (bpm)  \\\n",
       "312            -0.240118    ...                   0.932451   \n",
       "\n",
       "     ShutInPressure_Fil (KPa)  ShutInPressure_Initial (KPa)  ISIP (KPa)  \\\n",
       "312                 -2.210476                     -2.784977   -2.767494   \n",
       "\n",
       "     Shot_Density (shots/ft)  Shot_Total  Proppant_per_ft (kg/ft)  \\\n",
       "312                 0.667339    -0.56075                -0.556775   \n",
       "\n",
       "     Stage_Spacing (ft)  GasCum360  OilCum360  \n",
       "312            2.455301  -0.861051  -0.812057  \n",
       "\n",
       "[1 rows x 47 columns]"
      ]
     },
     "execution_count": 346,
     "metadata": {},
     "output_type": "execute_result"
    },
    {
     "data": {
      "image/png": "[encoded data removed]",
      "text/plain": [
       "<matplotlib.figure.Figure at 0x7fcb6abd6250>"
      ]
     },
     "metadata": {},
     "output_type": "display_data"
    },
    {
     "data": {
      "image/png": "[encoded data removed]",
      "text/plain": [
       "<matplotlib.figure.Figure at 0x7fcb6acb7cd0>"
      ]
     },
     "metadata": {},
     "output_type": "display_data"
    }
   ],
   "source": [
    "out2=vis_and_return_Outl(df,\"ShutInPressure_Initial (KPa)\",1.5)\n",
    "out2"
   ]
  }
 ],
 "metadata": {
  "kernelspec": {
   "display_name": "Python 2",
   "language": "python",
   "name": "python2"
  },
  "language_info": {
   "codemirror_mode": {
    "name": "ipython",
    "version": 2
   },
   "file_extension": ".py",
   "mimetype": "text/x-python",
   "name": "python",
   "nbconvert_exporter": "python",
   "pygments_lexer": "ipython2",
   "version": "2.7.12"
  }
 },
 "nbformat": 4,
 "nbformat_minor": 2
}
