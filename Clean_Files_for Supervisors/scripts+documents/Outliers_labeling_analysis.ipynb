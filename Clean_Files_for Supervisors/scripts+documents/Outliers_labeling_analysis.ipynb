{
 "cells": [
  {
   "cell_type": "code",
   "execution_count": 103,
   "metadata": {},
   "outputs": [
    {
     "data": {
      "text/html": [
       "<div>\n",
       "<style>\n",
       "    .dataframe thead tr:only-child th {\n",
       "        text-align: right;\n",
       "    }\n",
       "\n",
       "    .dataframe thead th {\n",
       "        text-align: left;\n",
       "    }\n",
       "\n",
       "    .dataframe tbody tr th {\n",
       "        vertical-align: top;\n",
       "    }\n",
       "</style>\n",
       "<table border=\"1\" class=\"dataframe\">\n",
       "  <thead>\n",
       "    <tr style=\"text-align: right;\">\n",
       "      <th></th>\n",
       "      <th>API</th>\n",
       "      <th>Surf_X</th>\n",
       "      <th>Surf_Y</th>\n",
       "      <th>Date_Drilling</th>\n",
       "      <th>Date_Completion</th>\n",
       "      <th>Date_Production</th>\n",
       "      <th>Lateral_Length (ft)</th>\n",
       "      <th>Depth_TVD_PPLS (ft)</th>\n",
       "      <th>Erosion_PPLS (ft)</th>\n",
       "      <th>Pressure_PPLS (PSI)</th>\n",
       "      <th>...</th>\n",
       "      <th>Min_Rate_Slurry (bpm)</th>\n",
       "      <th>ShutInPressure_Fil (KPa)</th>\n",
       "      <th>ShutInPressure_Initial (KPa)</th>\n",
       "      <th>ISIP (KPa)</th>\n",
       "      <th>Shot_Density (shots/ft)</th>\n",
       "      <th>Shot_Total</th>\n",
       "      <th>Proppant_per_ft (kg/ft)</th>\n",
       "      <th>Stage_Spacing (ft)</th>\n",
       "      <th>GasCum360</th>\n",
       "      <th>OilCum360</th>\n",
       "    </tr>\n",
       "  </thead>\n",
       "  <tbody>\n",
       "    <tr>\n",
       "      <th>0</th>\n",
       "      <td>661</td>\n",
       "      <td>0.429600</td>\n",
       "      <td>-0.193201</td>\n",
       "      <td>01/06/2013</td>\n",
       "      <td>21/03/2014</td>\n",
       "      <td>08/05/2014</td>\n",
       "      <td>-1.124200</td>\n",
       "      <td>-0.214336</td>\n",
       "      <td>-1.262296</td>\n",
       "      <td>-0.153197</td>\n",
       "      <td>...</td>\n",
       "      <td>0.635528</td>\n",
       "      <td>-0.067825</td>\n",
       "      <td>0.069978</td>\n",
       "      <td>-0.253698</td>\n",
       "      <td>-1.253690</td>\n",
       "      <td>0.181738</td>\n",
       "      <td>0.979100</td>\n",
       "      <td>-0.184434</td>\n",
       "      <td>-0.323593</td>\n",
       "      <td>-0.659768</td>\n",
       "    </tr>\n",
       "    <tr>\n",
       "      <th>1</th>\n",
       "      <td>523</td>\n",
       "      <td>-0.082672</td>\n",
       "      <td>-0.539854</td>\n",
       "      <td>31/08/2014</td>\n",
       "      <td>17/02/2015</td>\n",
       "      <td>03/08/2015</td>\n",
       "      <td>1.286521</td>\n",
       "      <td>0.870034</td>\n",
       "      <td>0.717834</td>\n",
       "      <td>0.674376</td>\n",
       "      <td>...</td>\n",
       "      <td>-1.364776</td>\n",
       "      <td>0.835789</td>\n",
       "      <td>1.136126</td>\n",
       "      <td>0.995649</td>\n",
       "      <td>0.667339</td>\n",
       "      <td>-0.560750</td>\n",
       "      <td>1.999634</td>\n",
       "      <td>-1.225036</td>\n",
       "      <td>-0.356343</td>\n",
       "      <td>1.782547</td>\n",
       "    </tr>\n",
       "    <tr>\n",
       "      <th>2</th>\n",
       "      <td>703</td>\n",
       "      <td>-0.457415</td>\n",
       "      <td>-0.082104</td>\n",
       "      <td>04/11/2013</td>\n",
       "      <td>08/07/2014</td>\n",
       "      <td>30/07/2014</td>\n",
       "      <td>-0.781945</td>\n",
       "      <td>0.511093</td>\n",
       "      <td>0.592495</td>\n",
       "      <td>-0.937430</td>\n",
       "      <td>...</td>\n",
       "      <td>0.667127</td>\n",
       "      <td>-0.287786</td>\n",
       "      <td>0.979602</td>\n",
       "      <td>-0.386425</td>\n",
       "      <td>-1.253690</td>\n",
       "      <td>0.181738</td>\n",
       "      <td>-0.492791</td>\n",
       "      <td>-0.181300</td>\n",
       "      <td>-1.067145</td>\n",
       "      <td>0.283035</td>\n",
       "    </tr>\n",
       "    <tr>\n",
       "      <th>3</th>\n",
       "      <td>473</td>\n",
       "      <td>0.376282</td>\n",
       "      <td>-0.310432</td>\n",
       "      <td>24/11/2011</td>\n",
       "      <td>11/05/2012</td>\n",
       "      <td>13/07/2012</td>\n",
       "      <td>-0.442801</td>\n",
       "      <td>0.025900</td>\n",
       "      <td>-1.093255</td>\n",
       "      <td>0.164815</td>\n",
       "      <td>...</td>\n",
       "      <td>0.033723</td>\n",
       "      <td>-1.034051</td>\n",
       "      <td>-1.342103</td>\n",
       "      <td>-1.546778</td>\n",
       "      <td>-0.293176</td>\n",
       "      <td>-1.303237</td>\n",
       "      <td>-0.295062</td>\n",
       "      <td>2.135885</td>\n",
       "      <td>-0.734454</td>\n",
       "      <td>-0.328650</td>\n",
       "    </tr>\n",
       "    <tr>\n",
       "      <th>4</th>\n",
       "      <td>309</td>\n",
       "      <td>-0.113110</td>\n",
       "      <td>-0.111412</td>\n",
       "      <td>20/11/2014</td>\n",
       "      <td>07/04/2015</td>\n",
       "      <td>23/07/2015</td>\n",
       "      <td>0.258511</td>\n",
       "      <td>0.190913</td>\n",
       "      <td>1.229474</td>\n",
       "      <td>-0.347126</td>\n",
       "      <td>...</td>\n",
       "      <td>-0.868364</td>\n",
       "      <td>0.923707</td>\n",
       "      <td>1.470667</td>\n",
       "      <td>0.561383</td>\n",
       "      <td>0.667339</td>\n",
       "      <td>-0.560750</td>\n",
       "      <td>2.034630</td>\n",
       "      <td>-1.226546</td>\n",
       "      <td>-0.271119</td>\n",
       "      <td>0.975603</td>\n",
       "    </tr>\n",
       "  </tbody>\n",
       "</table>\n",
       "<p>5 rows × 47 columns</p>\n",
       "</div>"
      ],
      "text/plain": [
       "   API    Surf_X    Surf_Y Date_Drilling Date_Completion Date_Production  \\\n",
       "0  661  0.429600 -0.193201    01/06/2013      21/03/2014      08/05/2014   \n",
       "1  523 -0.082672 -0.539854    31/08/2014      17/02/2015      03/08/2015   \n",
       "2  703 -0.457415 -0.082104    04/11/2013      08/07/2014      30/07/2014   \n",
       "3  473  0.376282 -0.310432    24/11/2011      11/05/2012      13/07/2012   \n",
       "4  309 -0.113110 -0.111412    20/11/2014      07/04/2015      23/07/2015   \n",
       "\n",
       "   Lateral_Length (ft)  Depth_TVD_PPLS (ft)  Erosion_PPLS (ft)  \\\n",
       "0            -1.124200            -0.214336          -1.262296   \n",
       "1             1.286521             0.870034           0.717834   \n",
       "2            -0.781945             0.511093           0.592495   \n",
       "3            -0.442801             0.025900          -1.093255   \n",
       "4             0.258511             0.190913           1.229474   \n",
       "\n",
       "   Pressure_PPLS (PSI)    ...      Min_Rate_Slurry (bpm)  \\\n",
       "0            -0.153197    ...                   0.635528   \n",
       "1             0.674376    ...                  -1.364776   \n",
       "2            -0.937430    ...                   0.667127   \n",
       "3             0.164815    ...                   0.033723   \n",
       "4            -0.347126    ...                  -0.868364   \n",
       "\n",
       "   ShutInPressure_Fil (KPa)  ShutInPressure_Initial (KPa)  ISIP (KPa)  \\\n",
       "0                 -0.067825                      0.069978   -0.253698   \n",
       "1                  0.835789                      1.136126    0.995649   \n",
       "2                 -0.287786                      0.979602   -0.386425   \n",
       "3                 -1.034051                     -1.342103   -1.546778   \n",
       "4                  0.923707                      1.470667    0.561383   \n",
       "\n",
       "   Shot_Density (shots/ft)  Shot_Total  Proppant_per_ft (kg/ft)  \\\n",
       "0                -1.253690    0.181738                 0.979100   \n",
       "1                 0.667339   -0.560750                 1.999634   \n",
       "2                -1.253690    0.181738                -0.492791   \n",
       "3                -0.293176   -1.303237                -0.295062   \n",
       "4                 0.667339   -0.560750                 2.034630   \n",
       "\n",
       "   Stage_Spacing (ft)  GasCum360  OilCum360  \n",
       "0           -0.184434  -0.323593  -0.659768  \n",
       "1           -1.225036  -0.356343   1.782547  \n",
       "2           -0.181300  -1.067145   0.283035  \n",
       "3            2.135885  -0.734454  -0.328650  \n",
       "4           -1.226546  -0.271119   0.975603  \n",
       "\n",
       "[5 rows x 47 columns]"
      ]
     },
     "execution_count": 103,
     "metadata": {},
     "output_type": "execute_result"
    }
   ],
   "source": [
    "# Imports\n",
    "\n",
    "import os\n",
    "import datetime as dt\n",
    "import numpy as np \n",
    "import pandas as pd\n",
    "import seaborn as sns\n",
    "from sklearn import linear_model\n",
    "import matplotlib.pyplot as plt\n",
    "%matplotlib inline\n",
    "\n",
    "# Loading dataset\n",
    "\n",
    "os.chdir(b\"C:\\Users\\EDDAHABI\\Documents\\GitHub\\ProjetISA\\Team_Folder\")\n",
    "df = pd.read_csv('Code +Data/TrainSample.csv',sep=';',decimal=',')\n",
    "df.head()"
   ]
  },
  {
   "cell_type": "markdown",
   "metadata": {},
   "source": [
    "# Introduction"
   ]
  },
  {
   "cell_type": "markdown",
   "metadata": {},
   "source": [
    "In the intesrest of preparing our dataset in order to predict our target variables (_OilCum_ and _GasCum_), we will be leading our data analysis step by step, starting by doing a particularly common task in the exploratory phase : \n",
    "the detection of outliers.\n",
    "\n",
    "We have written some **functions** for doing this task.\n",
    "\n",
    "We will care about outliers for a couple of reasons:\n",
    "\n",
    "1- We want to **understand** the data. However outliers distort the picture of the data we obtain using descriptive statistics and data visualization.\n",
    "\n",
    "2- Outliers can be exactly hat we want to learn about, especially for tasks like anomaly detection.\n",
    "\n",
    "3- Outliers hamper many machine learnig algorithms and statistical models. Since our goal is to **predict**, our models are often improved by ignoring outliers."
   ]
  },
  {
   "cell_type": "markdown",
   "metadata": {},
   "source": [
    "In the following, we will go through a few different ways of determining which observations in our dataset should be considered outliers, and when each is appropriate. The focus here is on **repeatability**. None of these recipes takes ous from raw data to an analysis - they all assume that the relevant data has been extracted, and is in the sensible format. We define 'sensible format' as a Python list containing all the observations of the variables on interest _OilCum_ and _GasCum_. Note that they ust be continuous, not categorical, for any of our **functions** make sense."
   ]
  },
  {
   "cell_type": "markdown",
   "metadata": {},
   "source": [
    "# A word of warning"
   ]
  },
  {
   "cell_type": "markdown",
   "metadata": {},
   "source": [
    "None of these methods will deliver the objective truth about which of our dataset's observations are outliers, simply because there is no objective way of knowing whether something is truly an utlier or an honest-to-goodness datat point our future models should account for. It is a decision we must make subjectively, depending on the goals of our analysis (reasons explained above). \n",
    "\n",
    "In latest, we will show **two functions** and apply them to _OilCum_ and _GasCum_ as a first step and decide which of these methods is the most 'appropriate'.\n",
    "Then we will apply the same thing for the remaining variables according to the method we will have stuck to by then."
   ]
  },
  {
   "cell_type": "markdown",
   "metadata": {},
   "source": [
    "# Methods "
   ]
  },
  {
   "cell_type": "markdown",
   "metadata": {},
   "source": [
    "### (implemented so far only on target variables)"
   ]
  },
  {
   "cell_type": "markdown",
   "metadata": {},
   "source": [
    "The two methods we will go through here are the **MADe method**, and the **IQR(interquartile range) method**."
   ]
  },
  {
   "cell_type": "markdown",
   "metadata": {},
   "source": [
    "Here are two histograms showing the distribution of _OilCum_ and _GasCum_ :"
   ]
  },
  {
   "cell_type": "code",
   "execution_count": 216,
   "metadata": {},
   "outputs": [
    {
     "data": {
      "text/plain": [
       "Text(0.5,0,'Oil Cum')"
      ]
     },
     "execution_count": 216,
     "metadata": {},
     "output_type": "execute_result"
    },
    {
     "data": {
      "image/png": "[encoded data removed]",
      "text/plain": [
       "<matplotlib.figure.Figure at 0x270ca8c6ac8>"
      ]
     },
     "metadata": {},
     "output_type": "display_data"
    }
   ],
   "source": [
    "plt.figure(figsize=(12,8))\n",
    "plt.subplot(121)\n",
    "sns.distplot(df.GasCum360,kde=False)\n",
    "plt.xlabel('Gas Cum')\n",
    "plt.subplot(122)\n",
    "sns.distplot(df.OilCum360,kde=False)\n",
    "plt.xlabel('Oil Cum')\n",
    "#plt.axis([10,14,0,180])"
   ]
  },
  {
   "cell_type": "markdown",
   "metadata": {},
   "source": [
    "Clearly, here the distributions are non-normal, so we can apply those methods since there is no normality assumption. "
   ]
  },
  {
   "cell_type": "markdown",
   "metadata": {},
   "source": [
    "## MADe method"
   ]
  },
  {
   "cell_type": "markdown",
   "metadata": {},
   "source": [
    "The MADe method, using the median and the Median Absolute Deviation (MAD), is one of the basic robust methods which are laergely unaffected by the presence of extreme values of the dataset."
   ]
  },
  {
   "cell_type": "code",
   "execution_count": 208,
   "metadata": {
    "collapsed": true
   },
   "outputs": [],
   "source": [
    "def outliers_MADe(df,column):\n",
    "    \n",
    "    median = np.median(df[column])\n",
    "    MADe = np.median(np.abs(df[column] - median))\n",
    "    index = np.logical_or(df[column] > median + 2*MADe, df[column] < median - 2*MADe) \n",
    "    outliers = df[index]\n",
    "    return outliers                                      "
   ]
  },
  {
   "cell_type": "code",
   "execution_count": 209,
   "metadata": {},
   "outputs": [
    {
     "data": {
      "text/html": [
       "<div>\n",
       "<style>\n",
       "    .dataframe thead tr:only-child th {\n",
       "        text-align: right;\n",
       "    }\n",
       "\n",
       "    .dataframe thead th {\n",
       "        text-align: left;\n",
       "    }\n",
       "\n",
       "    .dataframe tbody tr th {\n",
       "        vertical-align: top;\n",
       "    }\n",
       "</style>\n",
       "<table border=\"1\" class=\"dataframe\">\n",
       "  <thead>\n",
       "    <tr style=\"text-align: right;\">\n",
       "      <th></th>\n",
       "      <th>API</th>\n",
       "      <th>GasCum360</th>\n",
       "    </tr>\n",
       "  </thead>\n",
       "  <tbody>\n",
       "    <tr>\n",
       "      <th>64</th>\n",
       "      <td>136</td>\n",
       "      <td>3.881936</td>\n",
       "    </tr>\n",
       "    <tr>\n",
       "      <th>70</th>\n",
       "      <td>649</td>\n",
       "      <td>3.221949</td>\n",
       "    </tr>\n",
       "    <tr>\n",
       "      <th>105</th>\n",
       "      <td>564</td>\n",
       "      <td>5.366269</td>\n",
       "    </tr>\n",
       "    <tr>\n",
       "      <th>127</th>\n",
       "      <td>365</td>\n",
       "      <td>4.647159</td>\n",
       "    </tr>\n",
       "    <tr>\n",
       "      <th>300</th>\n",
       "      <td>370</td>\n",
       "      <td>3.323647</td>\n",
       "    </tr>\n",
       "    <tr>\n",
       "      <th>364</th>\n",
       "      <td>92</td>\n",
       "      <td>3.560147</td>\n",
       "    </tr>\n",
       "    <tr>\n",
       "      <th>379</th>\n",
       "      <td>664</td>\n",
       "      <td>3.785963</td>\n",
       "    </tr>\n",
       "    <tr>\n",
       "      <th>412</th>\n",
       "      <td>119</td>\n",
       "      <td>3.775086</td>\n",
       "    </tr>\n",
       "  </tbody>\n",
       "</table>\n",
       "</div>"
      ],
      "text/plain": [
       "     API  GasCum360\n",
       "64   136   3.881936\n",
       "70   649   3.221949\n",
       "105  564   5.366269\n",
       "127  365   4.647159\n",
       "300  370   3.323647\n",
       "364   92   3.560147\n",
       "379  664   3.785963\n",
       "412  119   3.775086"
      ]
     },
     "execution_count": 209,
     "metadata": {},
     "output_type": "execute_result"
    }
   ],
   "source": [
    "gas2 = outliers_MADe(df,'GasCum360')\n",
    "gas2[['API','GasCum360']]  "
   ]
  },
  {
   "cell_type": "code",
   "execution_count": 210,
   "metadata": {},
   "outputs": [
    {
     "data": {
      "text/html": [
       "<div>\n",
       "<style>\n",
       "    .dataframe thead tr:only-child th {\n",
       "        text-align: right;\n",
       "    }\n",
       "\n",
       "    .dataframe thead th {\n",
       "        text-align: left;\n",
       "    }\n",
       "\n",
       "    .dataframe tbody tr th {\n",
       "        vertical-align: top;\n",
       "    }\n",
       "</style>\n",
       "<table border=\"1\" class=\"dataframe\">\n",
       "  <thead>\n",
       "    <tr style=\"text-align: right;\">\n",
       "      <th></th>\n",
       "      <th>API</th>\n",
       "      <th>OilCum360</th>\n",
       "    </tr>\n",
       "  </thead>\n",
       "  <tbody>\n",
       "    <tr>\n",
       "      <th>120</th>\n",
       "      <td>190</td>\n",
       "      <td>5.242229</td>\n",
       "    </tr>\n",
       "    <tr>\n",
       "      <th>332</th>\n",
       "      <td>618</td>\n",
       "      <td>5.527111</td>\n",
       "    </tr>\n",
       "    <tr>\n",
       "      <th>377</th>\n",
       "      <td>552</td>\n",
       "      <td>4.119965</td>\n",
       "    </tr>\n",
       "  </tbody>\n",
       "</table>\n",
       "</div>"
      ],
      "text/plain": [
       "     API  OilCum360\n",
       "120  190   5.242229\n",
       "332  618   5.527111\n",
       "377  552   4.119965"
      ]
     },
     "execution_count": 210,
     "metadata": {},
     "output_type": "execute_result"
    }
   ],
   "source": [
    "oil2 = outliers_MADe(df,'OilCum360')\n",
    "oil2[['API','OilCum360']]  "
   ]
  },
  {
   "cell_type": "markdown",
   "metadata": {},
   "source": [
    "The median and MAD are **robust** measures of central tendency an dispersion, respectively.\n",
    "\n",
    "Since this approach uses two robust estimators having a high breakdown point, i.e., it is not unduly affected by extreme values even though a few observations make the distribution of the data skewed, the interval is seldom inflated."
   ]
  },
  {
   "cell_type": "markdown",
   "metadata": {},
   "source": [
    "## IQR method (Tukey's method)"
   ]
  },
  {
   "cell_type": "markdown",
   "metadata": {},
   "source": [
    "Another robust method for labeling outliers is the IQR(interquartile range) method of outlier detection.\n",
    "\n",
    "It uses a box-and-whisker plot to plot the shape of the data. The box represents the 1st and 3rd **quartiles**, and a line inside the box (median).\n",
    "\n",
    "Let's plot again our _OilCum_ and _GasCum_ ditributions:"
   ]
  },
  {
   "cell_type": "code",
   "execution_count": 126,
   "metadata": {},
   "outputs": [
    {
     "data": {
      "text/plain": [
       "Text(0.5,0,'Oil Cum')"
      ]
     },
     "execution_count": 126,
     "metadata": {},
     "output_type": "execute_result"
    },
    {
     "data": {
      "image/png": "[encoded data removed]",
      "text/plain": [
       "<matplotlib.figure.Figure at 0x270c756aef0>"
      ]
     },
     "metadata": {},
     "output_type": "display_data"
    }
   ],
   "source": [
    "plt.figure(figsize=(12,8))\n",
    "plt.subplot(121)\n",
    "sns.distplot(df.GasCum360,kde=False)\n",
    "plt.xlabel('Gas Cum')\n",
    "plt.subplot(122)\n",
    "sns.distplot(df.OilCum360,kde=False)\n",
    "plt.xlabel('Oil Cum')\n",
    "#plt.axis([10,14,0,180])"
   ]
  },
  {
   "cell_type": "markdown",
   "metadata": {},
   "source": [
    "The interquartile range,which gives this method of outlier detection its name, is the range between the first and the third quartile (edges of the box), and this is for us the parameter that we should tune in order to find an appropriate way of distinguishing the candidates to be outliers."
   ]
  },
  {
   "cell_type": "markdown",
   "metadata": {},
   "source": [
    "For a normally distributed data we shall fix the range to IQR=1.35x _sigma_ as it will reveal more clearly the presence of an outlier when this one is outside the outer fence (95% of the normally distributed values are in, an alpha of 5% hence some outlier candidates).\n",
    "\n",
    "In our situation we have two distributions that is more or less log-normal. So it occurs for us that computing the lower fence as Q1-(1.35xIQR) may not be the best way since our target variables are presumed to be lognormal. For that we can just log-transfom the data, but let's just stick to the norm above for the upper fence since we will apply the outlier **ESD Test** that requires only an upper bound."
   ]
  },
  {
   "cell_type": "code",
   "execution_count": 166,
   "metadata": {
    "collapsed": true
   },
   "outputs": [],
   "source": [
    "def outliers_IQR(df,column):\n",
    "    #quartiles\n",
    "    Q1=np.percentile(df.dropna()[column],25)\n",
    "    Q3=np.percentile(df.dropna()[column],75)\n",
    "    iqr=Q3-Q1    \n",
    "    #identify outliers\n",
    "    mean=np.mean(df[column])\n",
    "    index=np.logical_or(df[column]< Q1 - 2*1.35*iqr, df[column]> Q3 + 2*1.35*iqr)\n",
    "    outliers=df[index]\n",
    "    return outliers"
   ]
  },
  {
   "cell_type": "code",
   "execution_count": 136,
   "metadata": {},
   "outputs": [
    {
     "data": {
      "text/plain": [
       "<matplotlib.axes._subplots.AxesSubplot at 0x270c86cacc0>"
      ]
     },
     "execution_count": 136,
     "metadata": {},
     "output_type": "execute_result"
    },
    {
     "data": {
      "image/png": "[encoded data removed]",
      "text/plain": [
       "<matplotlib.figure.Figure at 0x270c869fc18>"
      ]
     },
     "metadata": {},
     "output_type": "display_data"
    }
   ],
   "source": [
    "sns.set_style(\"whitegrid\") \n",
    "sns.boxplot(x=df[\"OilCum360\"],whis=1.35)"
   ]
  },
  {
   "cell_type": "code",
   "execution_count": 217,
   "metadata": {},
   "outputs": [
    {
     "data": {
      "text/plain": [
       "<matplotlib.axes._subplots.AxesSubplot at 0x270c988c6d8>"
      ]
     },
     "execution_count": 217,
     "metadata": {},
     "output_type": "execute_result"
    },
    {
     "data": {
      "image/png": "[encoded data removed]",
      "text/plain": [
       "<matplotlib.figure.Figure at 0x270ca8494e0>"
      ]
     },
     "metadata": {},
     "output_type": "display_data"
    }
   ],
   "source": [
    "sns.set_style(\"whitegrid\") \n",
    "sns.boxplot(x=df[\"GasCum360\"],whis=1.35)"
   ]
  },
  {
   "cell_type": "code",
   "execution_count": 164,
   "metadata": {},
   "outputs": [
    {
     "data": {
      "text/html": [
       "<div>\n",
       "<style>\n",
       "    .dataframe thead tr:only-child th {\n",
       "        text-align: right;\n",
       "    }\n",
       "\n",
       "    .dataframe thead th {\n",
       "        text-align: left;\n",
       "    }\n",
       "\n",
       "    .dataframe tbody tr th {\n",
       "        vertical-align: top;\n",
       "    }\n",
       "</style>\n",
       "<table border=\"1\" class=\"dataframe\">\n",
       "  <thead>\n",
       "    <tr style=\"text-align: right;\">\n",
       "      <th></th>\n",
       "      <th>API</th>\n",
       "      <th>GasCum360</th>\n",
       "    </tr>\n",
       "  </thead>\n",
       "  <tbody>\n",
       "    <tr>\n",
       "      <th>64</th>\n",
       "      <td>136</td>\n",
       "      <td>3.881936</td>\n",
       "    </tr>\n",
       "    <tr>\n",
       "      <th>105</th>\n",
       "      <td>564</td>\n",
       "      <td>5.366269</td>\n",
       "    </tr>\n",
       "    <tr>\n",
       "      <th>127</th>\n",
       "      <td>365</td>\n",
       "      <td>4.647159</td>\n",
       "    </tr>\n",
       "    <tr>\n",
       "      <th>364</th>\n",
       "      <td>92</td>\n",
       "      <td>3.560147</td>\n",
       "    </tr>\n",
       "    <tr>\n",
       "      <th>379</th>\n",
       "      <td>664</td>\n",
       "      <td>3.785963</td>\n",
       "    </tr>\n",
       "    <tr>\n",
       "      <th>412</th>\n",
       "      <td>119</td>\n",
       "      <td>3.775086</td>\n",
       "    </tr>\n",
       "  </tbody>\n",
       "</table>\n",
       "</div>"
      ],
      "text/plain": [
       "     API  GasCum360\n",
       "64   136   3.881936\n",
       "105  564   5.366269\n",
       "127  365   4.647159\n",
       "364   92   3.560147\n",
       "379  664   3.785963\n",
       "412  119   3.775086"
      ]
     },
     "execution_count": 164,
     "metadata": {},
     "output_type": "execute_result"
    }
   ],
   "source": [
    "gas3 = outliers_IQR(df,'GasCum360')\n",
    "gas3[['API','GasCum360']]  "
   ]
  },
  {
   "cell_type": "code",
   "execution_count": 161,
   "metadata": {},
   "outputs": [
    {
     "data": {
      "text/html": [
       "<div>\n",
       "<style>\n",
       "    .dataframe thead tr:only-child th {\n",
       "        text-align: right;\n",
       "    }\n",
       "\n",
       "    .dataframe thead th {\n",
       "        text-align: left;\n",
       "    }\n",
       "\n",
       "    .dataframe tbody tr th {\n",
       "        vertical-align: top;\n",
       "    }\n",
       "</style>\n",
       "<table border=\"1\" class=\"dataframe\">\n",
       "  <thead>\n",
       "    <tr style=\"text-align: right;\">\n",
       "      <th></th>\n",
       "      <th>API</th>\n",
       "      <th>OilCum360</th>\n",
       "    </tr>\n",
       "  </thead>\n",
       "  <tbody>\n",
       "    <tr>\n",
       "      <th>120</th>\n",
       "      <td>190</td>\n",
       "      <td>5.242229</td>\n",
       "    </tr>\n",
       "    <tr>\n",
       "      <th>332</th>\n",
       "      <td>618</td>\n",
       "      <td>5.527111</td>\n",
       "    </tr>\n",
       "    <tr>\n",
       "      <th>377</th>\n",
       "      <td>552</td>\n",
       "      <td>4.119965</td>\n",
       "    </tr>\n",
       "  </tbody>\n",
       "</table>\n",
       "</div>"
      ],
      "text/plain": [
       "     API  OilCum360\n",
       "120  190   5.242229\n",
       "332  618   5.527111\n",
       "377  552   4.119965"
      ]
     },
     "execution_count": 161,
     "metadata": {},
     "output_type": "execute_result"
    }
   ],
   "source": [
    "oil3 = outliers_IQR(df,'OilCum360')\n",
    "oil3[['API','OilCum360']]  "
   ]
  },
  {
   "cell_type": "markdown",
   "metadata": {},
   "source": [
    "Here we can compare our results with the visual box plot and see that there are some values that are clearly beyond the 2x1.35xIQR that is calculated in our function, but there are some values that are under the outer fence but still outside the inner fence, those we can see them from the boxplots.\n",
    "Hence we need some other outlier tests to see wether we should keep those who are suspicious or just ignore them. But we will discuss that right after choosing the method that we will apply for the whole variables of our dataset."
   ]
  },
  {
   "cell_type": "markdown",
   "metadata": {},
   "source": [
    "## Discussion"
   ]
  },
  {
   "cell_type": "markdown",
   "metadata": {},
   "source": [
    "It seems that like the modified Z-score method, the IQR method uses a **robust** measure of dispersion.\n",
    "\n",
    "Here are the resultsof running each of these fucntions on our target variables:"
   ]
  },
  {
   "cell_type": "markdown",
   "metadata": {},
   "source": [
    "**OilCum** :\n",
    "\n",
    "_MADe_ : 120, 332 377\n",
    "\n",
    "_IQR_ : 120, 332, 377\n",
    "\n",
    "**GasCum** :\n",
    "\n",
    "_MADe_ : 64, 70, 105, 127, 300, 364, 379, 412\n",
    "\n",
    "_IQR_ : 64, 105, 127, 364, 379, 412"
   ]
  },
  {
   "cell_type": "markdown",
   "metadata": {},
   "source": [
    "_MADe_ and _IQR_ give more or less the same results for both the variable _OilCum_ and _GasCum_ which means that they are **robust** methods."
   ]
  },
  {
   "cell_type": "markdown",
   "metadata": {},
   "source": [
    "We suggest to keep the **IQR method** for what is coming next since this one provides us with candidates from whom there are some clearly outside but some that are suspicious and then worth examination throughout formal tests ( we will show that after this part). It also offers a visualization that can help us determine the outliers according to our exploration interests.\n",
    "\n",
    "The MADe method is also valid but we prefer not to use it because it increases in the percentage of outliers on the right side of the distribution as the skewness of the data increases. Since, the IQR boxplot takes into account the skewness of the target variables _OilCum_ ans _GasCum_, its right fene of the interval moves more to the side of the skewed tail, here the right side of the  distribution, as the skewness increases, which will lead us to be less sceptical about the suspicious values.\n",
    "\n",
    "In the next chapter we will consolidate our outlier choises with formal tests."
   ]
  },
  {
   "cell_type": "markdown",
   "metadata": {},
   "source": [
    "# Formal statistical testing"
   ]
  },
  {
   "cell_type": "markdown",
   "metadata": {},
   "source": [
    "## Generalized ESD Test for Outliers"
   ]
  },
  {
   "cell_type": "markdown",
   "metadata": {},
   "source": [
    "The generalized (extreme Studentized deviate) ESD test is used to detect one or more outliers in a univariate dataset.\n",
    "\n",
    "\n",
    "Given the upper bound, MAX, the generalized ESD test essentially performs MAX separate tests: a test for one outlier, a test for two outliers, and so on up to MAX outliers."
   ]
  },
  {
   "cell_type": "code",
   "execution_count": null,
   "metadata": {
    "collapsed": true
   },
   "outputs": [],
   "source": []
  }
 ],
 "metadata": {
  "kernelspec": {
   "display_name": "Python 3",
   "language": "python",
   "name": "python3"
  },
  "language_info": {
   "codemirror_mode": {
    "name": "ipython",
    "version": 3
   },
   "file_extension": ".py",
   "mimetype": "text/x-python",
   "name": "python",
   "nbconvert_exporter": "python",
   "pygments_lexer": "ipython3",
   "version": "3.6.3"
  }
 },
 "nbformat": 4,
 "nbformat_minor": 2
}
