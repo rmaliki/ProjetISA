{
 "cells": [
  {
   "cell_type": "code",
   "execution_count": 1,
   "metadata": {},
   "outputs": [
    {
     "name": "stderr",
     "output_type": "stream",
     "text": [
      "C:\\Users\\Taoufik\\Anaconda3\\lib\\site-packages\\sklearn\\cross_validation.py:41: DeprecationWarning: This module was deprecated in version 0.18 in favor of the model_selection module into which all the refactored classes and functions are moved. Also note that the interface of the new CV iterators are different from that of this module. This module will be removed in 0.20.\n",
      "  \"This module will be removed in 0.20.\", DeprecationWarning)\n"
     ]
    }
   ],
   "source": [
    "#invite people for the Kaggle party\n",
    "import pandas as pd\n",
    "import matplotlib.pyplot as plt\n",
    "import seaborn as sns\n",
    "import numpy as np\n",
    "from scipy import stats\n",
    "from scipy.stats import norm\n",
    "from sklearn.preprocessing import StandardScaler,scale\n",
    "from sklearn import linear_model,cross_validation\n",
    "from sklearn.metrics import mean_squared_error, r2_score\n",
    "from sklearn.model_selection import KFold,train_test_split,cross_validate\n",
    "from sklearn.decomposition import PCA\n",
    "\n",
    "import warnings\n",
    "warnings.filterwarnings('ignore')\n",
    "%matplotlib inline"
   ]
  },
  {
   "cell_type": "code",
   "execution_count": 2,
   "metadata": {
    "collapsed": true
   },
   "outputs": [],
   "source": [
    "#Load data\n",
    "trainG1=pd.read_csv('Train_G1.csv',sep=';')\n",
    "trainG2=pd.read_csv('Train_G2.csv',sep=';')\n"
   ]
  },
  {
   "cell_type": "code",
   "execution_count": 3,
   "metadata": {},
   "outputs": [
    {
     "data": {
      "text/html": [
       "<div>\n",
       "<style>\n",
       "    .dataframe thead tr:only-child th {\n",
       "        text-align: right;\n",
       "    }\n",
       "\n",
       "    .dataframe thead th {\n",
       "        text-align: left;\n",
       "    }\n",
       "\n",
       "    .dataframe tbody tr th {\n",
       "        vertical-align: top;\n",
       "    }\n",
       "</style>\n",
       "<table border=\"1\" class=\"dataframe\">\n",
       "  <thead>\n",
       "    <tr style=\"text-align: right;\">\n",
       "      <th></th>\n",
       "      <th>API</th>\n",
       "      <th>Surf_X</th>\n",
       "      <th>Surf_Y</th>\n",
       "      <th>Lateral_Length (ft)</th>\n",
       "      <th>Depth_TVD_PPLS (ft)</th>\n",
       "      <th>Erosion_PPLS (ft)</th>\n",
       "      <th>Pressure_PPLS (PSI)</th>\n",
       "      <th>TOC_PPLS (%)</th>\n",
       "      <th>Vcarb_PPLS</th>\n",
       "      <th>Vsand_PPLS</th>\n",
       "      <th>...</th>\n",
       "      <th>Min_Rate_Slurry (bpm)</th>\n",
       "      <th>ShutInPressure_Fil (KPa)</th>\n",
       "      <th>ShutInPressure_Initial (KPa)</th>\n",
       "      <th>ISIP (KPa)</th>\n",
       "      <th>Shot_Density (shots/ft)</th>\n",
       "      <th>Shot_Total</th>\n",
       "      <th>Proppant_per_ft (kg/ft)</th>\n",
       "      <th>Stage_Spacing (ft)</th>\n",
       "      <th>deltaT_Dril_Comp</th>\n",
       "      <th>deltaT_Comp_Prod</th>\n",
       "    </tr>\n",
       "  </thead>\n",
       "  <tbody>\n",
       "    <tr>\n",
       "      <th>count</th>\n",
       "      <td>362.000000</td>\n",
       "      <td>362.000000</td>\n",
       "      <td>362.000000</td>\n",
       "      <td>362.000000</td>\n",
       "      <td>362.000000</td>\n",
       "      <td>362.000000</td>\n",
       "      <td>362.000000</td>\n",
       "      <td>362.000000</td>\n",
       "      <td>362.000000</td>\n",
       "      <td>362.000000</td>\n",
       "      <td>...</td>\n",
       "      <td>361.000000</td>\n",
       "      <td>362.000000</td>\n",
       "      <td>362.000000</td>\n",
       "      <td>362.000000</td>\n",
       "      <td>362.000000</td>\n",
       "      <td>362.000000</td>\n",
       "      <td>362.000000</td>\n",
       "      <td>362.000000</td>\n",
       "      <td>362.000000</td>\n",
       "      <td>362.000000</td>\n",
       "    </tr>\n",
       "    <tr>\n",
       "      <th>mean</th>\n",
       "      <td>412.408840</td>\n",
       "      <td>0.339359</td>\n",
       "      <td>-0.288366</td>\n",
       "      <td>-0.133451</td>\n",
       "      <td>0.073937</td>\n",
       "      <td>-0.212367</td>\n",
       "      <td>0.138121</td>\n",
       "      <td>0.269327</td>\n",
       "      <td>0.230938</td>\n",
       "      <td>-0.202602</td>\n",
       "      <td>...</td>\n",
       "      <td>-0.002305</td>\n",
       "      <td>0.025355</td>\n",
       "      <td>0.048118</td>\n",
       "      <td>-0.033851</td>\n",
       "      <td>0.053141</td>\n",
       "      <td>-0.009222</td>\n",
       "      <td>-0.026288</td>\n",
       "      <td>0.044477</td>\n",
       "      <td>139.138122</td>\n",
       "      <td>110.745856</td>\n",
       "    </tr>\n",
       "    <tr>\n",
       "      <th>std</th>\n",
       "      <td>231.281385</td>\n",
       "      <td>0.613073</td>\n",
       "      <td>0.731315</td>\n",
       "      <td>0.937349</td>\n",
       "      <td>0.853641</td>\n",
       "      <td>0.973646</td>\n",
       "      <td>0.879040</td>\n",
       "      <td>0.895053</td>\n",
       "      <td>0.895160</td>\n",
       "      <td>0.992087</td>\n",
       "      <td>...</td>\n",
       "      <td>0.957101</td>\n",
       "      <td>0.878289</td>\n",
       "      <td>1.023839</td>\n",
       "      <td>0.946851</td>\n",
       "      <td>1.009530</td>\n",
       "      <td>0.775597</td>\n",
       "      <td>0.968652</td>\n",
       "      <td>1.014163</td>\n",
       "      <td>157.389570</td>\n",
       "      <td>189.497094</td>\n",
       "    </tr>\n",
       "    <tr>\n",
       "      <th>min</th>\n",
       "      <td>1.000000</td>\n",
       "      <td>-2.190075</td>\n",
       "      <td>-2.740075</td>\n",
       "      <td>-2.325205</td>\n",
       "      <td>-2.186755</td>\n",
       "      <td>-2.135948</td>\n",
       "      <td>-2.234695</td>\n",
       "      <td>-2.169983</td>\n",
       "      <td>-3.404962</td>\n",
       "      <td>-2.125431</td>\n",
       "      <td>...</td>\n",
       "      <td>-1.576223</td>\n",
       "      <td>-2.210476</td>\n",
       "      <td>-2.784977</td>\n",
       "      <td>-2.916152</td>\n",
       "      <td>-1.693075</td>\n",
       "      <td>-1.320112</td>\n",
       "      <td>-1.959572</td>\n",
       "      <td>-1.647296</td>\n",
       "      <td>-332.000000</td>\n",
       "      <td>-332.000000</td>\n",
       "    </tr>\n",
       "    <tr>\n",
       "      <th>25%</th>\n",
       "      <td>209.250000</td>\n",
       "      <td>-0.080389</td>\n",
       "      <td>-0.720464</td>\n",
       "      <td>-0.774322</td>\n",
       "      <td>-0.619328</td>\n",
       "      <td>-0.953747</td>\n",
       "      <td>-0.538452</td>\n",
       "      <td>-0.055050</td>\n",
       "      <td>-0.125966</td>\n",
       "      <td>-1.070255</td>\n",
       "      <td>...</td>\n",
       "      <td>-0.642281</td>\n",
       "      <td>-0.552097</td>\n",
       "      <td>-0.622194</td>\n",
       "      <td>-0.432590</td>\n",
       "      <td>-1.163446</td>\n",
       "      <td>-0.560750</td>\n",
       "      <td>-0.533888</td>\n",
       "      <td>-0.392856</td>\n",
       "      <td>50.250000</td>\n",
       "      <td>32.000000</td>\n",
       "    </tr>\n",
       "    <tr>\n",
       "      <th>50%</th>\n",
       "      <td>409.500000</td>\n",
       "      <td>0.268198</td>\n",
       "      <td>-0.186265</td>\n",
       "      <td>-0.468315</td>\n",
       "      <td>0.105938</td>\n",
       "      <td>-0.284089</td>\n",
       "      <td>0.229716</td>\n",
       "      <td>0.534985</td>\n",
       "      <td>0.381095</td>\n",
       "      <td>-0.190943</td>\n",
       "      <td>...</td>\n",
       "      <td>0.214124</td>\n",
       "      <td>0.115672</td>\n",
       "      <td>0.198293</td>\n",
       "      <td>0.145155</td>\n",
       "      <td>0.667339</td>\n",
       "      <td>0.159425</td>\n",
       "      <td>-0.487259</td>\n",
       "      <td>-0.178793</td>\n",
       "      <td>128.000000</td>\n",
       "      <td>84.000000</td>\n",
       "    </tr>\n",
       "    <tr>\n",
       "      <th>75%</th>\n",
       "      <td>623.750000</td>\n",
       "      <td>0.670300</td>\n",
       "      <td>0.175400</td>\n",
       "      <td>0.480977</td>\n",
       "      <td>0.633774</td>\n",
       "      <td>0.557503</td>\n",
       "      <td>0.701253</td>\n",
       "      <td>0.847244</td>\n",
       "      <td>0.786744</td>\n",
       "      <td>0.336645</td>\n",
       "      <td>...</td>\n",
       "      <td>0.488483</td>\n",
       "      <td>0.660258</td>\n",
       "      <td>0.787725</td>\n",
       "      <td>0.631280</td>\n",
       "      <td>0.667339</td>\n",
       "      <td>0.181738</td>\n",
       "      <td>0.153346</td>\n",
       "      <td>0.431699</td>\n",
       "      <td>222.750000</td>\n",
       "      <td>162.750000</td>\n",
       "    </tr>\n",
       "    <tr>\n",
       "      <th>max</th>\n",
       "      <td>793.000000</td>\n",
       "      <td>2.439690</td>\n",
       "      <td>1.707435</td>\n",
       "      <td>2.323865</td>\n",
       "      <td>3.062854</td>\n",
       "      <td>1.987123</td>\n",
       "      <td>1.862078</td>\n",
       "      <td>1.860650</td>\n",
       "      <td>1.868475</td>\n",
       "      <td>3.326308</td>\n",
       "      <td>...</td>\n",
       "      <td>13.261381</td>\n",
       "      <td>2.225999</td>\n",
       "      <td>2.214658</td>\n",
       "      <td>1.933681</td>\n",
       "      <td>2.588369</td>\n",
       "      <td>2.409201</td>\n",
       "      <td>3.189603</td>\n",
       "      <td>3.135704</td>\n",
       "      <td>720.000000</td>\n",
       "      <td>1667.000000</td>\n",
       "    </tr>\n",
       "  </tbody>\n",
       "</table>\n",
       "<p>8 rows × 46 columns</p>\n",
       "</div>"
      ],
      "text/plain": [
       "              API      Surf_X      Surf_Y  Lateral_Length (ft)  \\\n",
       "count  362.000000  362.000000  362.000000           362.000000   \n",
       "mean   412.408840    0.339359   -0.288366            -0.133451   \n",
       "std    231.281385    0.613073    0.731315             0.937349   \n",
       "min      1.000000   -2.190075   -2.740075            -2.325205   \n",
       "25%    209.250000   -0.080389   -0.720464            -0.774322   \n",
       "50%    409.500000    0.268198   -0.186265            -0.468315   \n",
       "75%    623.750000    0.670300    0.175400             0.480977   \n",
       "max    793.000000    2.439690    1.707435             2.323865   \n",
       "\n",
       "       Depth_TVD_PPLS (ft)  Erosion_PPLS (ft)  Pressure_PPLS (PSI)  \\\n",
       "count           362.000000         362.000000           362.000000   \n",
       "mean              0.073937          -0.212367             0.138121   \n",
       "std               0.853641           0.973646             0.879040   \n",
       "min              -2.186755          -2.135948            -2.234695   \n",
       "25%              -0.619328          -0.953747            -0.538452   \n",
       "50%               0.105938          -0.284089             0.229716   \n",
       "75%               0.633774           0.557503             0.701253   \n",
       "max               3.062854           1.987123             1.862078   \n",
       "\n",
       "       TOC_PPLS (%)  Vcarb_PPLS  Vsand_PPLS        ...         \\\n",
       "count    362.000000  362.000000  362.000000        ...          \n",
       "mean       0.269327    0.230938   -0.202602        ...          \n",
       "std        0.895053    0.895160    0.992087        ...          \n",
       "min       -2.169983   -3.404962   -2.125431        ...          \n",
       "25%       -0.055050   -0.125966   -1.070255        ...          \n",
       "50%        0.534985    0.381095   -0.190943        ...          \n",
       "75%        0.847244    0.786744    0.336645        ...          \n",
       "max        1.860650    1.868475    3.326308        ...          \n",
       "\n",
       "       Min_Rate_Slurry (bpm)  ShutInPressure_Fil (KPa)  \\\n",
       "count             361.000000                362.000000   \n",
       "mean               -0.002305                  0.025355   \n",
       "std                 0.957101                  0.878289   \n",
       "min                -1.576223                 -2.210476   \n",
       "25%                -0.642281                 -0.552097   \n",
       "50%                 0.214124                  0.115672   \n",
       "75%                 0.488483                  0.660258   \n",
       "max                13.261381                  2.225999   \n",
       "\n",
       "       ShutInPressure_Initial (KPa)  ISIP (KPa)  Shot_Density (shots/ft)  \\\n",
       "count                    362.000000  362.000000               362.000000   \n",
       "mean                       0.048118   -0.033851                 0.053141   \n",
       "std                        1.023839    0.946851                 1.009530   \n",
       "min                       -2.784977   -2.916152                -1.693075   \n",
       "25%                       -0.622194   -0.432590                -1.163446   \n",
       "50%                        0.198293    0.145155                 0.667339   \n",
       "75%                        0.787725    0.631280                 0.667339   \n",
       "max                        2.214658    1.933681                 2.588369   \n",
       "\n",
       "       Shot_Total  Proppant_per_ft (kg/ft)  Stage_Spacing (ft)  \\\n",
       "count  362.000000               362.000000          362.000000   \n",
       "mean    -0.009222                -0.026288            0.044477   \n",
       "std      0.775597                 0.968652            1.014163   \n",
       "min     -1.320112                -1.959572           -1.647296   \n",
       "25%     -0.560750                -0.533888           -0.392856   \n",
       "50%      0.159425                -0.487259           -0.178793   \n",
       "75%      0.181738                 0.153346            0.431699   \n",
       "max      2.409201                 3.189603            3.135704   \n",
       "\n",
       "       deltaT_Dril_Comp  deltaT_Comp_Prod  \n",
       "count        362.000000        362.000000  \n",
       "mean         139.138122        110.745856  \n",
       "std          157.389570        189.497094  \n",
       "min         -332.000000       -332.000000  \n",
       "25%           50.250000         32.000000  \n",
       "50%          128.000000         84.000000  \n",
       "75%          222.750000        162.750000  \n",
       "max          720.000000       1667.000000  \n",
       "\n",
       "[8 rows x 46 columns]"
      ]
     },
     "execution_count": 3,
     "metadata": {},
     "output_type": "execute_result"
    }
   ],
   "source": [
    "trainG1.describe()"
   ]
  },
  {
   "cell_type": "code",
   "execution_count": 182,
   "metadata": {},
   "outputs": [
    {
     "name": "stdout",
     "output_type": "stream",
     "text": [
      "Skewness: 2.227743\n",
      "Kurtosis: 6.669918\n"
     ]
    },
    {
     "data": {
      "image/png": "[encoded data removed]",
      "text/plain": [
       "<matplotlib.figure.Figure at 0x1e85c880ef0>"
      ]
     },
     "metadata": {},
     "output_type": "display_data"
    }
   ],
   "source": [
    "sns.distplot(trainG1.OilCum360,fit=norm)\n",
    "print(\"Skewness: %f\" % trainG1.OilCum360.skew())\n",
    "print(\"Kurtosis: %f\" % trainG1.OilCum360.kurt())"
   ]
  },
  {
   "cell_type": "code",
   "execution_count": 4,
   "metadata": {},
   "outputs": [
    {
     "data": {
      "text/html": [
       "<div>\n",
       "<style>\n",
       "    .dataframe thead tr:only-child th {\n",
       "        text-align: right;\n",
       "    }\n",
       "\n",
       "    .dataframe thead th {\n",
       "        text-align: left;\n",
       "    }\n",
       "\n",
       "    .dataframe tbody tr th {\n",
       "        vertical-align: top;\n",
       "    }\n",
       "</style>\n",
       "<table border=\"1\" class=\"dataframe\">\n",
       "  <thead>\n",
       "    <tr style=\"text-align: right;\">\n",
       "      <th></th>\n",
       "      <th>API</th>\n",
       "      <th>Surf_X</th>\n",
       "      <th>Surf_Y</th>\n",
       "      <th>Lateral_Length (ft)</th>\n",
       "      <th>Depth_TVD_PPLS (ft)</th>\n",
       "      <th>Erosion_PPLS (ft)</th>\n",
       "      <th>Pressure_PPLS (PSI)</th>\n",
       "      <th>TOC_PPLS (%)</th>\n",
       "      <th>Vcarb_PPLS</th>\n",
       "      <th>Vsand_PPLS</th>\n",
       "      <th>...</th>\n",
       "      <th>DT_PPLS (us/ft)</th>\n",
       "      <th>DTs_PPLS (us/ft)</th>\n",
       "      <th>Temperature (F)</th>\n",
       "      <th>Temp_Anomaly (F)</th>\n",
       "      <th>S3Tect_PPLS (PSI)</th>\n",
       "      <th>S3_contrast_PPLS (PSI)</th>\n",
       "      <th>Heat_Flow (W/m2)</th>\n",
       "      <th>GasCum360</th>\n",
       "      <th>OilCum360</th>\n",
       "      <th>Zone</th>\n",
       "    </tr>\n",
       "  </thead>\n",
       "  <tbody>\n",
       "    <tr>\n",
       "      <th>count</th>\n",
       "      <td>98.000000</td>\n",
       "      <td>98.000000</td>\n",
       "      <td>98.000000</td>\n",
       "      <td>98.000000</td>\n",
       "      <td>98.000000</td>\n",
       "      <td>98.000000</td>\n",
       "      <td>98.000000</td>\n",
       "      <td>98.000000</td>\n",
       "      <td>98.000000</td>\n",
       "      <td>98.000000</td>\n",
       "      <td>...</td>\n",
       "      <td>98.000000</td>\n",
       "      <td>98.000000</td>\n",
       "      <td>98.000000</td>\n",
       "      <td>98.000000</td>\n",
       "      <td>98.000000</td>\n",
       "      <td>98.000000</td>\n",
       "      <td>98.000000</td>\n",
       "      <td>98.000000</td>\n",
       "      <td>98.000000</td>\n",
       "      <td>98.000000</td>\n",
       "    </tr>\n",
       "    <tr>\n",
       "      <th>mean</th>\n",
       "      <td>392.989796</td>\n",
       "      <td>-1.026779</td>\n",
       "      <td>0.968942</td>\n",
       "      <td>0.127438</td>\n",
       "      <td>-0.329249</td>\n",
       "      <td>0.576418</td>\n",
       "      <td>-0.137921</td>\n",
       "      <td>-0.867933</td>\n",
       "      <td>-0.806877</td>\n",
       "      <td>0.663247</td>\n",
       "      <td>...</td>\n",
       "      <td>-1.090044</td>\n",
       "      <td>-0.200861</td>\n",
       "      <td>0.708980</td>\n",
       "      <td>0.721918</td>\n",
       "      <td>-1.071713</td>\n",
       "      <td>0.780365</td>\n",
       "      <td>0.745152</td>\n",
       "      <td>0.146003</td>\n",
       "      <td>0.328056</td>\n",
       "      <td>2.091837</td>\n",
       "    </tr>\n",
       "    <tr>\n",
       "      <th>std</th>\n",
       "      <td>217.845045</td>\n",
       "      <td>1.262990</td>\n",
       "      <td>1.117987</td>\n",
       "      <td>0.787967</td>\n",
       "      <td>0.939779</td>\n",
       "      <td>0.796862</td>\n",
       "      <td>0.995234</td>\n",
       "      <td>0.824802</td>\n",
       "      <td>1.097172</td>\n",
       "      <td>0.850372</td>\n",
       "      <td>...</td>\n",
       "      <td>1.051500</td>\n",
       "      <td>0.838375</td>\n",
       "      <td>1.097112</td>\n",
       "      <td>0.760397</td>\n",
       "      <td>0.949748</td>\n",
       "      <td>0.980011</td>\n",
       "      <td>0.716359</td>\n",
       "      <td>1.407708</td>\n",
       "      <td>1.205076</td>\n",
       "      <td>2.751145</td>\n",
       "    </tr>\n",
       "    <tr>\n",
       "      <th>min</th>\n",
       "      <td>4.000000</td>\n",
       "      <td>-2.426259</td>\n",
       "      <td>-1.734502</td>\n",
       "      <td>-1.394893</td>\n",
       "      <td>-2.027364</td>\n",
       "      <td>-1.196758</td>\n",
       "      <td>-3.134098</td>\n",
       "      <td>-2.169983</td>\n",
       "      <td>-2.728880</td>\n",
       "      <td>-0.718530</td>\n",
       "      <td>...</td>\n",
       "      <td>-2.087074</td>\n",
       "      <td>-1.011418</td>\n",
       "      <td>-1.214965</td>\n",
       "      <td>-1.120374</td>\n",
       "      <td>-2.556728</td>\n",
       "      <td>-2.719330</td>\n",
       "      <td>-0.531454</td>\n",
       "      <td>-1.241844</td>\n",
       "      <td>-0.846812</td>\n",
       "      <td>0.000000</td>\n",
       "    </tr>\n",
       "    <tr>\n",
       "      <th>25%</th>\n",
       "      <td>180.500000</td>\n",
       "      <td>-1.890994</td>\n",
       "      <td>0.657964</td>\n",
       "      <td>-0.475627</td>\n",
       "      <td>-0.962926</td>\n",
       "      <td>0.240703</td>\n",
       "      <td>-0.588703</td>\n",
       "      <td>-1.689142</td>\n",
       "      <td>-1.647150</td>\n",
       "      <td>-0.015080</td>\n",
       "      <td>...</td>\n",
       "      <td>-1.835709</td>\n",
       "      <td>-0.658750</td>\n",
       "      <td>-0.245826</td>\n",
       "      <td>0.244268</td>\n",
       "      <td>-1.614817</td>\n",
       "      <td>0.504998</td>\n",
       "      <td>0.200019</td>\n",
       "      <td>-0.690970</td>\n",
       "      <td>-0.608742</td>\n",
       "      <td>0.000000</td>\n",
       "    </tr>\n",
       "    <tr>\n",
       "      <th>50%</th>\n",
       "      <td>422.500000</td>\n",
       "      <td>-1.267941</td>\n",
       "      <td>1.086518</td>\n",
       "      <td>0.124098</td>\n",
       "      <td>-0.411928</td>\n",
       "      <td>0.901276</td>\n",
       "      <td>0.072817</td>\n",
       "      <td>-0.825162</td>\n",
       "      <td>-0.565419</td>\n",
       "      <td>0.512507</td>\n",
       "      <td>...</td>\n",
       "      <td>-1.445197</td>\n",
       "      <td>-0.445139</td>\n",
       "      <td>0.817235</td>\n",
       "      <td>0.694227</td>\n",
       "      <td>-1.433453</td>\n",
       "      <td>1.082380</td>\n",
       "      <td>0.529436</td>\n",
       "      <td>-0.437352</td>\n",
       "      <td>0.068715</td>\n",
       "      <td>0.000000</td>\n",
       "    </tr>\n",
       "    <tr>\n",
       "      <th>75%</th>\n",
       "      <td>559.250000</td>\n",
       "      <td>-0.650283</td>\n",
       "      <td>1.776098</td>\n",
       "      <td>0.640592</td>\n",
       "      <td>0.062270</td>\n",
       "      <td>1.139390</td>\n",
       "      <td>0.462068</td>\n",
       "      <td>-0.101027</td>\n",
       "      <td>0.110663</td>\n",
       "      <td>1.215957</td>\n",
       "      <td>...</td>\n",
       "      <td>-0.700082</td>\n",
       "      <td>-0.162598</td>\n",
       "      <td>1.835828</td>\n",
       "      <td>1.246767</td>\n",
       "      <td>-0.833826</td>\n",
       "      <td>1.360043</td>\n",
       "      <td>1.311465</td>\n",
       "      <td>0.380144</td>\n",
       "      <td>0.860393</td>\n",
       "      <td>6.000000</td>\n",
       "    </tr>\n",
       "    <tr>\n",
       "      <th>max</th>\n",
       "      <td>781.000000</td>\n",
       "      <td>2.869421</td>\n",
       "      <td>3.143658</td>\n",
       "      <td>2.130958</td>\n",
       "      <td>2.314618</td>\n",
       "      <td>1.769934</td>\n",
       "      <td>1.813301</td>\n",
       "      <td>0.902800</td>\n",
       "      <td>0.516312</td>\n",
       "      <td>2.271133</td>\n",
       "      <td>...</td>\n",
       "      <td>2.392596</td>\n",
       "      <td>3.022900</td>\n",
       "      <td>2.418891</td>\n",
       "      <td>2.538358</td>\n",
       "      <td>2.039618</td>\n",
       "      <td>1.684259</td>\n",
       "      <td>2.515964</td>\n",
       "      <td>5.366269</td>\n",
       "      <td>5.527111</td>\n",
       "      <td>7.000000</td>\n",
       "    </tr>\n",
       "  </tbody>\n",
       "</table>\n",
       "<p>8 rows × 26 columns</p>\n",
       "</div>"
      ],
      "text/plain": [
       "              API     Surf_X     Surf_Y  Lateral_Length (ft)  \\\n",
       "count   98.000000  98.000000  98.000000            98.000000   \n",
       "mean   392.989796  -1.026779   0.968942             0.127438   \n",
       "std    217.845045   1.262990   1.117987             0.787967   \n",
       "min      4.000000  -2.426259  -1.734502            -1.394893   \n",
       "25%    180.500000  -1.890994   0.657964            -0.475627   \n",
       "50%    422.500000  -1.267941   1.086518             0.124098   \n",
       "75%    559.250000  -0.650283   1.776098             0.640592   \n",
       "max    781.000000   2.869421   3.143658             2.130958   \n",
       "\n",
       "       Depth_TVD_PPLS (ft)  Erosion_PPLS (ft)  Pressure_PPLS (PSI)  \\\n",
       "count            98.000000          98.000000            98.000000   \n",
       "mean             -0.329249           0.576418            -0.137921   \n",
       "std               0.939779           0.796862             0.995234   \n",
       "min              -2.027364          -1.196758            -3.134098   \n",
       "25%              -0.962926           0.240703            -0.588703   \n",
       "50%              -0.411928           0.901276             0.072817   \n",
       "75%               0.062270           1.139390             0.462068   \n",
       "max               2.314618           1.769934             1.813301   \n",
       "\n",
       "       TOC_PPLS (%)  Vcarb_PPLS  Vsand_PPLS    ...      DT_PPLS (us/ft)  \\\n",
       "count     98.000000   98.000000   98.000000    ...            98.000000   \n",
       "mean      -0.867933   -0.806877    0.663247    ...            -1.090044   \n",
       "std        0.824802    1.097172    0.850372    ...             1.051500   \n",
       "min       -2.169983   -2.728880   -0.718530    ...            -2.087074   \n",
       "25%       -1.689142   -1.647150   -0.015080    ...            -1.835709   \n",
       "50%       -0.825162   -0.565419    0.512507    ...            -1.445197   \n",
       "75%       -0.101027    0.110663    1.215957    ...            -0.700082   \n",
       "max        0.902800    0.516312    2.271133    ...             2.392596   \n",
       "\n",
       "       DTs_PPLS (us/ft)  Temperature (F)  Temp_Anomaly (F)  S3Tect_PPLS (PSI)  \\\n",
       "count         98.000000        98.000000         98.000000          98.000000   \n",
       "mean          -0.200861         0.708980          0.721918          -1.071713   \n",
       "std            0.838375         1.097112          0.760397           0.949748   \n",
       "min           -1.011418        -1.214965         -1.120374          -2.556728   \n",
       "25%           -0.658750        -0.245826          0.244268          -1.614817   \n",
       "50%           -0.445139         0.817235          0.694227          -1.433453   \n",
       "75%           -0.162598         1.835828          1.246767          -0.833826   \n",
       "max            3.022900         2.418891          2.538358           2.039618   \n",
       "\n",
       "       S3_contrast_PPLS (PSI)  Heat_Flow (W/m2)  GasCum360  OilCum360  \\\n",
       "count               98.000000         98.000000  98.000000  98.000000   \n",
       "mean                 0.780365          0.745152   0.146003   0.328056   \n",
       "std                  0.980011          0.716359   1.407708   1.205076   \n",
       "min                 -2.719330         -0.531454  -1.241844  -0.846812   \n",
       "25%                  0.504998          0.200019  -0.690970  -0.608742   \n",
       "50%                  1.082380          0.529436  -0.437352   0.068715   \n",
       "75%                  1.360043          1.311465   0.380144   0.860393   \n",
       "max                  1.684259          2.515964   5.366269   5.527111   \n",
       "\n",
       "            Zone  \n",
       "count  98.000000  \n",
       "mean    2.091837  \n",
       "std     2.751145  \n",
       "min     0.000000  \n",
       "25%     0.000000  \n",
       "50%     0.000000  \n",
       "75%     6.000000  \n",
       "max     7.000000  \n",
       "\n",
       "[8 rows x 26 columns]"
      ]
     },
     "execution_count": 4,
     "metadata": {},
     "output_type": "execute_result"
    }
   ],
   "source": [
    "trainG2.describe()"
   ]
  },
  {
   "cell_type": "code",
   "execution_count": 183,
   "metadata": {},
   "outputs": [
    {
     "name": "stdout",
     "output_type": "stream",
     "text": [
      "Skewness: 2.087515\n",
      "Kurtosis: 5.710244\n"
     ]
    },
    {
     "data": {
      "image/png": "[encoded data removed]",
      "text/plain": [
       "<matplotlib.figure.Figure at 0x1e85d97e358>"
      ]
     },
     "metadata": {},
     "output_type": "display_data"
    }
   ],
   "source": [
    "sns.distplot(trainG2.OilCum360,fit=norm)\n",
    "print(\"Skewness: %f\" % trainG2.OilCum360.skew())\n",
    "print(\"Kurtosis: %f\" % trainG2.OilCum360.kurt())"
   ]
  },
  {
   "cell_type": "markdown",
   "metadata": {},
   "source": [
    "We will change the training data set for the group 2 of variables \n",
    "- include the part C in the training set containing only 26 variables "
   ]
  },
  {
   "cell_type": "code",
   "execution_count": 5,
   "metadata": {
    "collapsed": true
   },
   "outputs": [],
   "source": [
    "trainG2=pd.concat([trainG1[trainG2.columns], trainG2])"
   ]
  },
  {
   "cell_type": "code",
   "execution_count": 6,
   "metadata": {
    "scrolled": true
   },
   "outputs": [
    {
     "data": {
      "text/plain": [
       "Frac_Gradient (PSI/ft)        8\n",
       "Max_Rate_Slurry (bpm)         2\n",
       "Min_Rate_Slurry (bpm)         1\n",
       "Proppant_in_Formation (kg)    1\n",
       "dtype: int64"
      ]
     },
     "execution_count": 6,
     "metadata": {},
     "output_type": "execute_result"
    }
   ],
   "source": [
    "#Checking missing values :\n",
    "missingG1=trainG1.isnull().sum().sort_values(ascending=False)\n",
    "missingG1[missingG1.values>0]"
   ]
  },
  {
   "cell_type": "code",
   "execution_count": 7,
   "metadata": {
    "collapsed": true
   },
   "outputs": [],
   "source": [
    "for col in missingG1[missingG1.values>0].index:\n",
    "    trainG1.loc[trainG1[col].isnull(),col]=np.mean(trainG1[col])"
   ]
  },
  {
   "cell_type": "code",
   "execution_count": 8,
   "metadata": {
    "scrolled": true
   },
   "outputs": [
    {
     "data": {
      "text/plain": [
       "Zone                      0\n",
       "OilCum360                 0\n",
       "Surf_X                    0\n",
       "Surf_Y                    0\n",
       "Lateral_Length (ft)       0\n",
       "Depth_TVD_PPLS (ft)       0\n",
       "Erosion_PPLS (ft)         0\n",
       "Pressure_PPLS (PSI)       0\n",
       "TOC_PPLS (%)              0\n",
       "Vcarb_PPLS                0\n",
       "Vsand_PPLS                0\n",
       "Vclay_PPLS                0\n",
       "PR_PPLS                   0\n",
       "YM_PPLS (PSI)             0\n",
       "RHOB_PPLS (g/cc)          0\n",
       "Res_PPLS (Ohmm)           0\n",
       "GR_PPLS (API)             0\n",
       "DT_PPLS (us/ft)           0\n",
       "DTs_PPLS (us/ft)          0\n",
       "Temperature (F)           0\n",
       "Temp_Anomaly (F)          0\n",
       "S3Tect_PPLS (PSI)         0\n",
       "S3_contrast_PPLS (PSI)    0\n",
       "Heat_Flow (W/m2)          0\n",
       "GasCum360                 0\n",
       "API                       0\n",
       "dtype: int64"
      ]
     },
     "execution_count": 8,
     "metadata": {},
     "output_type": "execute_result"
    }
   ],
   "source": [
    "#Checking missing values :\n",
    "missingG2=trainG2.isnull().sum().sort_values(ascending=False)\n",
    "missingG2"
   ]
  },
  {
   "cell_type": "code",
   "execution_count": 9,
   "metadata": {},
   "outputs": [
    {
     "data": {
      "text/plain": [
       "(0, 0)"
      ]
     },
     "execution_count": 9,
     "metadata": {},
     "output_type": "execute_result"
    }
   ],
   "source": [
    "#just checking that there's no missing data missing...\n",
    "trainG1.isnull().sum().max(),trainG2.isnull().sum().max()"
   ]
  },
  {
   "cell_type": "markdown",
   "metadata": {},
   "source": [
    "# Modèle de Oil"
   ]
  },
  {
   "cell_type": "markdown",
   "metadata": {},
   "source": [
    "Checking correlations of our target variables (will help us to interpret results of our model)"
   ]
  },
  {
   "cell_type": "markdown",
   "metadata": {},
   "source": [
    "**Group1_OIL**"
   ]
  },
  {
   "cell_type": "code",
   "execution_count": 10,
   "metadata": {
    "collapsed": true
   },
   "outputs": [],
   "source": [
    "trainG1.drop('GasCum360',axis=1,inplace=True)"
   ]
  },
  {
   "cell_type": "code",
   "execution_count": 11,
   "metadata": {},
   "outputs": [
    {
     "data": {
      "image/png": "[encoded data removed]",
      "text/plain": [
       "<matplotlib.figure.Figure at 0x1e850915128>"
      ]
     },
     "metadata": {},
     "output_type": "display_data"
    }
   ],
   "source": [
    "corG1=trainG1.corr()\n",
    "k = 10 #number of variables for heatmap\n",
    "cols = corG1.nlargest(k, 'OilCum360')['OilCum360'].index\n",
    "cm = np.corrcoef(trainG1[cols].values.T)\n",
    "sns.set(font_scale=1.25)\n",
    "hm = sns.heatmap(cm, cbar=True, annot=True, square=True, fmt='.2f', annot_kws={'size': 10}, yticklabels=cols.values, xticklabels=cols.values)\n",
    "plt.show()"
   ]
  },
  {
   "cell_type": "code",
   "execution_count": 12,
   "metadata": {},
   "outputs": [
    {
     "data": {
      "text/plain": [
       "(53, 9)"
      ]
     },
     "execution_count": 12,
     "metadata": {},
     "output_type": "execute_result"
    }
   ],
   "source": [
    "len(trainG1.Nbr_Stages.unique()),len(trainG1.Zone.unique())"
   ]
  },
  {
   "cell_type": "markdown",
   "metadata": {},
   "source": [
    "Target variable en fonction des variables catégorielles "
   ]
  },
  {
   "cell_type": "code",
   "execution_count": 13,
   "metadata": {
    "scrolled": false
   },
   "outputs": [
    {
     "data": {
      "image/png": "[encoded data removed]",
      "text/plain": [
       "<matplotlib.figure.Figure at 0x1e850915240>"
      ]
     },
     "metadata": {},
     "output_type": "display_data"
    }
   ],
   "source": [
    "#box plot overallqual/saleprice\n",
    "var = 'Nbr_Stages'\n",
    "data = pd.concat([trainG1['OilCum360'], trainG1[var]], axis=1)\n",
    "f, ax = plt.subplots(figsize=(8, 6))\n",
    "fig = sns.boxplot(x=var, y=\"OilCum360\", data=data)"
   ]
  },
  {
   "cell_type": "code",
   "execution_count": 14,
   "metadata": {},
   "outputs": [
    {
     "data": {
      "image/png": "[encoded data removed]",
      "text/plain": [
       "<matplotlib.figure.Figure at 0x1e856135da0>"
      ]
     },
     "metadata": {},
     "output_type": "display_data"
    }
   ],
   "source": [
    "#box plot overallqual/saleprice\n",
    "var = 'Zone'\n",
    "data = pd.concat([trainG1['OilCum360'], trainG1[var]], axis=1)\n",
    "f, ax = plt.subplots(figsize=(12, 8))\n",
    "fig = sns.boxplot(x=var, y=\"OilCum360\", data=data)"
   ]
  },
  {
   "cell_type": "markdown",
   "metadata": {},
   "source": [
    "**Now we are ready to apply linear models starting with OLS linear regression model**"
   ]
  },
  {
   "cell_type": "markdown",
   "metadata": {},
   "source": [
    "*GROUP1*"
   ]
  },
  {
   "cell_type": "code",
   "execution_count": 109,
   "metadata": {
    "collapsed": true
   },
   "outputs": [],
   "source": [
    "X_train, X_test, y_train, y_test = train_test_split(trainG1.iloc[:,1:].drop('OilCum360',axis=1), trainG1.OilCum360, test_size=0.3, random_state=0)"
   ]
  },
  {
   "cell_type": "code",
   "execution_count": 16,
   "metadata": {
    "collapsed": true
   },
   "outputs": [],
   "source": [
    "lmG1=linear_model.LinearRegression()"
   ]
  },
  {
   "cell_type": "code",
   "execution_count": 17,
   "metadata": {},
   "outputs": [
    {
     "data": {
      "text/plain": [
       "LinearRegression(copy_X=True, fit_intercept=True, n_jobs=1, normalize=False)"
      ]
     },
     "execution_count": 17,
     "metadata": {},
     "output_type": "execute_result"
    }
   ],
   "source": [
    "#API is an identifier of the well so we'll not include it into features\n",
    "lmG1.fit(X_train,y_train)"
   ]
  },
  {
   "cell_type": "code",
   "execution_count": 18,
   "metadata": {
    "scrolled": true
   },
   "outputs": [
    {
     "data": {
      "text/html": [
       "<div>\n",
       "<style>\n",
       "    .dataframe thead tr:only-child th {\n",
       "        text-align: right;\n",
       "    }\n",
       "\n",
       "    .dataframe thead th {\n",
       "        text-align: left;\n",
       "    }\n",
       "\n",
       "    .dataframe tbody tr th {\n",
       "        vertical-align: top;\n",
       "    }\n",
       "</style>\n",
       "<table border=\"1\" class=\"dataframe\">\n",
       "  <thead>\n",
       "    <tr style=\"text-align: right;\">\n",
       "      <th></th>\n",
       "      <th>Coefficient</th>\n",
       "    </tr>\n",
       "  </thead>\n",
       "  <tbody>\n",
       "    <tr>\n",
       "      <th>Surf_X</th>\n",
       "      <td>-0.150245</td>\n",
       "    </tr>\n",
       "    <tr>\n",
       "      <th>Surf_Y</th>\n",
       "      <td>0.149328</td>\n",
       "    </tr>\n",
       "    <tr>\n",
       "      <th>Lateral_Length (ft)</th>\n",
       "      <td>-0.025075</td>\n",
       "    </tr>\n",
       "    <tr>\n",
       "      <th>Depth_TVD_PPLS (ft)</th>\n",
       "      <td>0.239167</td>\n",
       "    </tr>\n",
       "    <tr>\n",
       "      <th>Erosion_PPLS (ft)</th>\n",
       "      <td>0.082881</td>\n",
       "    </tr>\n",
       "    <tr>\n",
       "      <th>Pressure_PPLS (PSI)</th>\n",
       "      <td>-0.070715</td>\n",
       "    </tr>\n",
       "    <tr>\n",
       "      <th>TOC_PPLS (%)</th>\n",
       "      <td>0.417409</td>\n",
       "    </tr>\n",
       "    <tr>\n",
       "      <th>Vcarb_PPLS</th>\n",
       "      <td>0.692785</td>\n",
       "    </tr>\n",
       "    <tr>\n",
       "      <th>Vsand_PPLS</th>\n",
       "      <td>0.331756</td>\n",
       "    </tr>\n",
       "    <tr>\n",
       "      <th>Vclay_PPLS</th>\n",
       "      <td>0.235064</td>\n",
       "    </tr>\n",
       "    <tr>\n",
       "      <th>PR_PPLS</th>\n",
       "      <td>-0.125169</td>\n",
       "    </tr>\n",
       "    <tr>\n",
       "      <th>YM_PPLS (PSI)</th>\n",
       "      <td>0.026297</td>\n",
       "    </tr>\n",
       "    <tr>\n",
       "      <th>RHOB_PPLS (g/cc)</th>\n",
       "      <td>0.262419</td>\n",
       "    </tr>\n",
       "    <tr>\n",
       "      <th>Res_PPLS (Ohmm)</th>\n",
       "      <td>0.283473</td>\n",
       "    </tr>\n",
       "    <tr>\n",
       "      <th>GR_PPLS (API)</th>\n",
       "      <td>-0.077377</td>\n",
       "    </tr>\n",
       "    <tr>\n",
       "      <th>DT_PPLS (us/ft)</th>\n",
       "      <td>-0.103947</td>\n",
       "    </tr>\n",
       "    <tr>\n",
       "      <th>DTs_PPLS (us/ft)</th>\n",
       "      <td>0.148726</td>\n",
       "    </tr>\n",
       "    <tr>\n",
       "      <th>Temperature (F)</th>\n",
       "      <td>0.081536</td>\n",
       "    </tr>\n",
       "    <tr>\n",
       "      <th>Temp_Anomaly (F)</th>\n",
       "      <td>-0.078954</td>\n",
       "    </tr>\n",
       "    <tr>\n",
       "      <th>S3Tect_PPLS (PSI)</th>\n",
       "      <td>-0.143384</td>\n",
       "    </tr>\n",
       "    <tr>\n",
       "      <th>S3_contrast_PPLS (PSI)</th>\n",
       "      <td>0.233816</td>\n",
       "    </tr>\n",
       "    <tr>\n",
       "      <th>Heat_Flow (W/m2)</th>\n",
       "      <td>0.145389</td>\n",
       "    </tr>\n",
       "    <tr>\n",
       "      <th>Zone</th>\n",
       "      <td>-0.020546</td>\n",
       "    </tr>\n",
       "    <tr>\n",
       "      <th>Nbr_Stages</th>\n",
       "      <td>0.265247</td>\n",
       "    </tr>\n",
       "    <tr>\n",
       "      <th>Frac_Gradient (PSI/ft)</th>\n",
       "      <td>0.002196</td>\n",
       "    </tr>\n",
       "    <tr>\n",
       "      <th>Proppant_Designed (kg)</th>\n",
       "      <td>1.789852</td>\n",
       "    </tr>\n",
       "    <tr>\n",
       "      <th>Proppant_in_Formation (kg)</th>\n",
       "      <td>-1.478419</td>\n",
       "    </tr>\n",
       "    <tr>\n",
       "      <th>Avg_Breakdown_Pressure (KPa)</th>\n",
       "      <td>-0.019149</td>\n",
       "    </tr>\n",
       "    <tr>\n",
       "      <th>Avg_Treating_Pressure (KPa)</th>\n",
       "      <td>0.000141</td>\n",
       "    </tr>\n",
       "    <tr>\n",
       "      <th>Max_Treating_pressure (KPa)</th>\n",
       "      <td>-0.037120</td>\n",
       "    </tr>\n",
       "    <tr>\n",
       "      <th>Min_Treating_Pressure (KPa)</th>\n",
       "      <td>-0.005921</td>\n",
       "    </tr>\n",
       "    <tr>\n",
       "      <th>Avg_Rate_Slurry (bpm)</th>\n",
       "      <td>0.000982</td>\n",
       "    </tr>\n",
       "    <tr>\n",
       "      <th>Max_Rate_Slurry (bpm)</th>\n",
       "      <td>0.078482</td>\n",
       "    </tr>\n",
       "    <tr>\n",
       "      <th>Min_Rate_Slurry (bpm)</th>\n",
       "      <td>-0.048422</td>\n",
       "    </tr>\n",
       "    <tr>\n",
       "      <th>ShutInPressure_Fil (KPa)</th>\n",
       "      <td>0.065071</td>\n",
       "    </tr>\n",
       "    <tr>\n",
       "      <th>ShutInPressure_Initial (KPa)</th>\n",
       "      <td>0.046487</td>\n",
       "    </tr>\n",
       "    <tr>\n",
       "      <th>ISIP (KPa)</th>\n",
       "      <td>-0.098229</td>\n",
       "    </tr>\n",
       "    <tr>\n",
       "      <th>Shot_Density (shots/ft)</th>\n",
       "      <td>-0.047019</td>\n",
       "    </tr>\n",
       "    <tr>\n",
       "      <th>Shot_Total</th>\n",
       "      <td>0.080708</td>\n",
       "    </tr>\n",
       "    <tr>\n",
       "      <th>Proppant_per_ft (kg/ft)</th>\n",
       "      <td>-0.080182</td>\n",
       "    </tr>\n",
       "    <tr>\n",
       "      <th>Stage_Spacing (ft)</th>\n",
       "      <td>0.110322</td>\n",
       "    </tr>\n",
       "    <tr>\n",
       "      <th>deltaT_Dril_Comp</th>\n",
       "      <td>0.000300</td>\n",
       "    </tr>\n",
       "    <tr>\n",
       "      <th>deltaT_Comp_Prod</th>\n",
       "      <td>0.000002</td>\n",
       "    </tr>\n",
       "  </tbody>\n",
       "</table>\n",
       "</div>"
      ],
      "text/plain": [
       "                              Coefficient\n",
       "Surf_X                          -0.150245\n",
       "Surf_Y                           0.149328\n",
       "Lateral_Length (ft)             -0.025075\n",
       "Depth_TVD_PPLS (ft)              0.239167\n",
       "Erosion_PPLS (ft)                0.082881\n",
       "Pressure_PPLS (PSI)             -0.070715\n",
       "TOC_PPLS (%)                     0.417409\n",
       "Vcarb_PPLS                       0.692785\n",
       "Vsand_PPLS                       0.331756\n",
       "Vclay_PPLS                       0.235064\n",
       "PR_PPLS                         -0.125169\n",
       "YM_PPLS (PSI)                    0.026297\n",
       "RHOB_PPLS (g/cc)                 0.262419\n",
       "Res_PPLS (Ohmm)                  0.283473\n",
       "GR_PPLS (API)                   -0.077377\n",
       "DT_PPLS (us/ft)                 -0.103947\n",
       "DTs_PPLS (us/ft)                 0.148726\n",
       "Temperature (F)                  0.081536\n",
       "Temp_Anomaly (F)                -0.078954\n",
       "S3Tect_PPLS (PSI)               -0.143384\n",
       "S3_contrast_PPLS (PSI)           0.233816\n",
       "Heat_Flow (W/m2)                 0.145389\n",
       "Zone                            -0.020546\n",
       "Nbr_Stages                       0.265247\n",
       "Frac_Gradient (PSI/ft)           0.002196\n",
       "Proppant_Designed (kg)           1.789852\n",
       "Proppant_in_Formation (kg)      -1.478419\n",
       "Avg_Breakdown_Pressure (KPa)    -0.019149\n",
       "Avg_Treating_Pressure (KPa)      0.000141\n",
       "Max_Treating_pressure (KPa)     -0.037120\n",
       "Min_Treating_Pressure (KPa)     -0.005921\n",
       "Avg_Rate_Slurry (bpm)            0.000982\n",
       "Max_Rate_Slurry (bpm)            0.078482\n",
       "Min_Rate_Slurry (bpm)           -0.048422\n",
       "ShutInPressure_Fil (KPa)         0.065071\n",
       "ShutInPressure_Initial (KPa)     0.046487\n",
       "ISIP (KPa)                      -0.098229\n",
       "Shot_Density (shots/ft)         -0.047019\n",
       "Shot_Total                       0.080708\n",
       "Proppant_per_ft (kg/ft)         -0.080182\n",
       "Stage_Spacing (ft)               0.110322\n",
       "deltaT_Dril_Comp                 0.000300\n",
       "deltaT_Comp_Prod                 0.000002"
      ]
     },
     "execution_count": 18,
     "metadata": {},
     "output_type": "execute_result"
    }
   ],
   "source": [
    "pd.DataFrame(index=np.array(X_train.columns),data=lmG1.coef_,columns=['Coefficient'])"
   ]
  },
  {
   "cell_type": "code",
   "execution_count": 19,
   "metadata": {
    "collapsed": true
   },
   "outputs": [],
   "source": [
    "y_pred = lmG1.predict(X_test)"
   ]
  },
  {
   "cell_type": "code",
   "execution_count": 20,
   "metadata": {},
   "outputs": [
    {
     "name": "stdout",
     "output_type": "stream",
     "text": [
      "Mean squared error: 0.17\n",
      "Variance score: 0.72\n"
     ]
    }
   ],
   "source": [
    "print(\"Mean squared error: %.2f\"% mean_squared_error(y_test, y_pred))\n",
    "# Explained variance score: 1 is perfect prediction\n",
    "print('Variance score: %.2f'% r2_score(y_test, y_pred))"
   ]
  },
  {
   "cell_type": "code",
   "execution_count": 21,
   "metadata": {},
   "outputs": [
    {
     "data": {
      "text/plain": [
       "<matplotlib.collections.PathCollection at 0x1e8565746a0>"
      ]
     },
     "execution_count": 21,
     "metadata": {},
     "output_type": "execute_result"
    },
    {
     "data": {
      "image/png": "[encoded data removed]",
      "text/plain": [
       "<matplotlib.figure.Figure at 0x1e854761978>"
      ]
     },
     "metadata": {},
     "output_type": "display_data"
    }
   ],
   "source": [
    "plt.scatter(y_test,y_pred)"
   ]
  },
  {
   "cell_type": "markdown",
   "metadata": {},
   "source": [
    "*GROUP2*"
   ]
  },
  {
   "cell_type": "code",
   "execution_count": 139,
   "metadata": {
    "collapsed": true
   },
   "outputs": [],
   "source": [
    "X_train, X_test, y_train, y_test = train_test_split(trainG2.iloc[:,1:].drop('OilCum360',axis=1), trainG2.OilCum360, test_size=0.3, random_state=0)"
   ]
  },
  {
   "cell_type": "code",
   "execution_count": 23,
   "metadata": {
    "collapsed": true
   },
   "outputs": [],
   "source": [
    "lmG2=linear_model.LinearRegression()"
   ]
  },
  {
   "cell_type": "code",
   "execution_count": 24,
   "metadata": {},
   "outputs": [
    {
     "data": {
      "text/plain": [
       "LinearRegression(copy_X=True, fit_intercept=True, n_jobs=1, normalize=False)"
      ]
     },
     "execution_count": 24,
     "metadata": {},
     "output_type": "execute_result"
    }
   ],
   "source": [
    "#API is an identifier of the well so we'll not include it into features\n",
    "lmG2.fit(X_train,y_train)"
   ]
  },
  {
   "cell_type": "code",
   "execution_count": 25,
   "metadata": {
    "scrolled": true
   },
   "outputs": [
    {
     "data": {
      "text/html": [
       "<div>\n",
       "<style>\n",
       "    .dataframe thead tr:only-child th {\n",
       "        text-align: right;\n",
       "    }\n",
       "\n",
       "    .dataframe thead th {\n",
       "        text-align: left;\n",
       "    }\n",
       "\n",
       "    .dataframe tbody tr th {\n",
       "        vertical-align: top;\n",
       "    }\n",
       "</style>\n",
       "<table border=\"1\" class=\"dataframe\">\n",
       "  <thead>\n",
       "    <tr style=\"text-align: right;\">\n",
       "      <th></th>\n",
       "      <th>Coefficient</th>\n",
       "    </tr>\n",
       "  </thead>\n",
       "  <tbody>\n",
       "    <tr>\n",
       "      <th>Surf_X</th>\n",
       "      <td>-0.650090</td>\n",
       "    </tr>\n",
       "    <tr>\n",
       "      <th>Surf_Y</th>\n",
       "      <td>0.372550</td>\n",
       "    </tr>\n",
       "    <tr>\n",
       "      <th>Lateral_Length (ft)</th>\n",
       "      <td>0.215724</td>\n",
       "    </tr>\n",
       "    <tr>\n",
       "      <th>Depth_TVD_PPLS (ft)</th>\n",
       "      <td>1.024065</td>\n",
       "    </tr>\n",
       "    <tr>\n",
       "      <th>Erosion_PPLS (ft)</th>\n",
       "      <td>0.065357</td>\n",
       "    </tr>\n",
       "    <tr>\n",
       "      <th>Pressure_PPLS (PSI)</th>\n",
       "      <td>-0.101238</td>\n",
       "    </tr>\n",
       "    <tr>\n",
       "      <th>TOC_PPLS (%)</th>\n",
       "      <td>0.290622</td>\n",
       "    </tr>\n",
       "    <tr>\n",
       "      <th>Vcarb_PPLS</th>\n",
       "      <td>-0.212622</td>\n",
       "    </tr>\n",
       "    <tr>\n",
       "      <th>Vsand_PPLS</th>\n",
       "      <td>-0.177110</td>\n",
       "    </tr>\n",
       "    <tr>\n",
       "      <th>Vclay_PPLS</th>\n",
       "      <td>-0.137774</td>\n",
       "    </tr>\n",
       "    <tr>\n",
       "      <th>PR_PPLS</th>\n",
       "      <td>0.107653</td>\n",
       "    </tr>\n",
       "    <tr>\n",
       "      <th>YM_PPLS (PSI)</th>\n",
       "      <td>0.053843</td>\n",
       "    </tr>\n",
       "    <tr>\n",
       "      <th>RHOB_PPLS (g/cc)</th>\n",
       "      <td>0.424252</td>\n",
       "    </tr>\n",
       "    <tr>\n",
       "      <th>Res_PPLS (Ohmm)</th>\n",
       "      <td>-0.360477</td>\n",
       "    </tr>\n",
       "    <tr>\n",
       "      <th>GR_PPLS (API)</th>\n",
       "      <td>0.062368</td>\n",
       "    </tr>\n",
       "    <tr>\n",
       "      <th>DT_PPLS (us/ft)</th>\n",
       "      <td>0.504094</td>\n",
       "    </tr>\n",
       "    <tr>\n",
       "      <th>DTs_PPLS (us/ft)</th>\n",
       "      <td>0.269434</td>\n",
       "    </tr>\n",
       "    <tr>\n",
       "      <th>Temperature (F)</th>\n",
       "      <td>0.491482</td>\n",
       "    </tr>\n",
       "    <tr>\n",
       "      <th>Temp_Anomaly (F)</th>\n",
       "      <td>-0.239242</td>\n",
       "    </tr>\n",
       "    <tr>\n",
       "      <th>S3Tect_PPLS (PSI)</th>\n",
       "      <td>0.012160</td>\n",
       "    </tr>\n",
       "    <tr>\n",
       "      <th>S3_contrast_PPLS (PSI)</th>\n",
       "      <td>0.374640</td>\n",
       "    </tr>\n",
       "    <tr>\n",
       "      <th>Heat_Flow (W/m2)</th>\n",
       "      <td>-0.096520</td>\n",
       "    </tr>\n",
       "    <tr>\n",
       "      <th>GasCum360</th>\n",
       "      <td>0.089185</td>\n",
       "    </tr>\n",
       "    <tr>\n",
       "      <th>Zone</th>\n",
       "      <td>-0.047403</td>\n",
       "    </tr>\n",
       "  </tbody>\n",
       "</table>\n",
       "</div>"
      ],
      "text/plain": [
       "                        Coefficient\n",
       "Surf_X                    -0.650090\n",
       "Surf_Y                     0.372550\n",
       "Lateral_Length (ft)        0.215724\n",
       "Depth_TVD_PPLS (ft)        1.024065\n",
       "Erosion_PPLS (ft)          0.065357\n",
       "Pressure_PPLS (PSI)       -0.101238\n",
       "TOC_PPLS (%)               0.290622\n",
       "Vcarb_PPLS                -0.212622\n",
       "Vsand_PPLS                -0.177110\n",
       "Vclay_PPLS                -0.137774\n",
       "PR_PPLS                    0.107653\n",
       "YM_PPLS (PSI)              0.053843\n",
       "RHOB_PPLS (g/cc)           0.424252\n",
       "Res_PPLS (Ohmm)           -0.360477\n",
       "GR_PPLS (API)              0.062368\n",
       "DT_PPLS (us/ft)            0.504094\n",
       "DTs_PPLS (us/ft)           0.269434\n",
       "Temperature (F)            0.491482\n",
       "Temp_Anomaly (F)          -0.239242\n",
       "S3Tect_PPLS (PSI)          0.012160\n",
       "S3_contrast_PPLS (PSI)     0.374640\n",
       "Heat_Flow (W/m2)          -0.096520\n",
       "GasCum360                  0.089185\n",
       "Zone                      -0.047403"
      ]
     },
     "execution_count": 25,
     "metadata": {},
     "output_type": "execute_result"
    }
   ],
   "source": [
    "pd.DataFrame(index=np.array(X_train.columns),data=lmG2.coef_,columns=['Coefficient'])"
   ]
  },
  {
   "cell_type": "code",
   "execution_count": 26,
   "metadata": {
    "collapsed": true
   },
   "outputs": [],
   "source": [
    "y_pred = lmG2.predict(X_test)"
   ]
  },
  {
   "cell_type": "code",
   "execution_count": 27,
   "metadata": {},
   "outputs": [
    {
     "name": "stdout",
     "output_type": "stream",
     "text": [
      "Mean squared error: 0.49\n",
      "Variance score: 0.46\n"
     ]
    }
   ],
   "source": [
    "print(\"Mean squared error: %.2f\"% mean_squared_error(y_test, y_pred))\n",
    "# Explained variance score: 1 is perfect prediction\n",
    "print('Variance score: %.2f'% r2_score(y_test, y_pred))"
   ]
  },
  {
   "cell_type": "code",
   "execution_count": 28,
   "metadata": {},
   "outputs": [
    {
     "data": {
      "text/plain": [
       "<matplotlib.collections.PathCollection at 0x1e8565da2e8>"
      ]
     },
     "execution_count": 28,
     "metadata": {},
     "output_type": "execute_result"
    },
    {
     "data": {
      "image/png": "[encoded data removed]",
      "text/plain": [
       "<matplotlib.figure.Figure at 0x1e85676bf28>"
      ]
     },
     "metadata": {},
     "output_type": "display_data"
    }
   ],
   "source": [
    "plt.scatter(y_test,y_pred)"
   ]
  },
  {
   "cell_type": "markdown",
   "metadata": {},
   "source": [
    "We see that for the group2 the variance is under 50%\n",
    "- The variables that we deleted for the group 2 represents important percentage of variance"
   ]
  },
  {
   "cell_type": "markdown",
   "metadata": {},
   "source": [
    "Let's try a PCR Where we'll try to filter Pcs and do a regression model using them :"
   ]
  },
  {
   "cell_type": "markdown",
   "metadata": {},
   "source": [
    "*GROUP1*"
   ]
  },
  {
   "cell_type": "code",
   "execution_count": 29,
   "metadata": {
    "collapsed": true
   },
   "outputs": [],
   "source": [
    "#let's perform pca on our data and pcr so we can see if there is an improvement:\n",
    "pca = PCA()"
   ]
  },
  {
   "cell_type": "code",
   "execution_count": 30,
   "metadata": {
    "collapsed": true
   },
   "outputs": [],
   "source": [
    "trainG1_reduced = pca.fit_transform(scale(trainG1.iloc[:,1:].drop('OilCum360',axis=1)))"
   ]
  },
  {
   "cell_type": "code",
   "execution_count": 31,
   "metadata": {},
   "outputs": [
    {
     "data": {
      "text/plain": [
       "array([  18.92,   32.8 ,   44.08,   50.56,   56.45,   61.1 ,   65.35,\n",
       "         68.98,   72.25,   75.25,   77.99,   80.41,   82.59,   84.65,\n",
       "         86.39,   87.98,   89.43,   90.78,   92.03,   93.14,   94.14,\n",
       "         94.97,   95.68,   96.35,   96.9 ,   97.45,   97.93,   98.33,\n",
       "         98.71,   98.96,   99.18,   99.36,   99.52,   99.66,   99.78,\n",
       "         99.85,   99.9 ,   99.94,   99.97,   99.99,  100.  ,  100.01,\n",
       "        100.01])"
      ]
     },
     "execution_count": 31,
     "metadata": {},
     "output_type": "execute_result"
    }
   ],
   "source": [
    "np.cumsum(np.round(pca.explained_variance_ratio_, decimals=4)*100)"
   ]
  },
  {
   "cell_type": "code",
   "execution_count": 32,
   "metadata": {
    "collapsed": true
   },
   "outputs": [],
   "source": [
    "n = len(trainG1_reduced)\n",
    "kf_10 = cross_validation.KFold(n, n_folds=10, shuffle=True, random_state=2)\n",
    "lmG1_pcr = linear_model.LinearRegression()\n",
    "mse = []"
   ]
  },
  {
   "cell_type": "markdown",
   "metadata": {},
   "source": [
    "Do one CV to get MSE for just the intercept (no principal components in regression)"
   ]
  },
  {
   "cell_type": "code",
   "execution_count": 33,
   "metadata": {
    "collapsed": true
   },
   "outputs": [],
   "source": [
    "score = -1*cross_validation.cross_val_score(lmG1_pcr, np.ones((n,1)),  trainG1.OilCum360.ravel(), cv=kf_10, scoring='mean_squared_error').mean()    \n",
    "mse.append(score) "
   ]
  },
  {
   "cell_type": "code",
   "execution_count": 34,
   "metadata": {},
   "outputs": [
    {
     "data": {
      "text/plain": [
       "[0.81298441400953969]"
      ]
     },
     "execution_count": 34,
     "metadata": {},
     "output_type": "execute_result"
    }
   ],
   "source": [
    "mse"
   ]
  },
  {
   "cell_type": "code",
   "execution_count": 35,
   "metadata": {},
   "outputs": [
    {
     "data": {
      "image/png": "[encoded data removed]",
      "text/plain": [
       "<matplotlib.figure.Figure at 0x1e8565e3cf8>"
      ]
     },
     "metadata": {},
     "output_type": "display_data"
    }
   ],
   "source": [
    "for i in np.arange(1,20):\n",
    "    score = -1*cross_validation.cross_val_score(lmG1_pcr, trainG1_reduced[:,:i], trainG1.OilCum360.ravel(), cv=kf_10, scoring='mean_squared_error').mean()\n",
    "    mse.append(score)\n",
    "\n",
    "fig, (ax1, ax2) = plt.subplots(1,2, figsize=(12,5))\n",
    "ax1.plot(mse, '-v')\n",
    "ax2.plot([1,2,3,4,5,6,7,8,9,10,11,12,13,14,15,16,17,18,19], mse[1:20], '-v')\n",
    "ax2.set_title('Intercept excluded from plot')\n",
    "\n",
    "for ax in fig.axes:\n",
    "    ax.set_xlabel('Number of principal components in regression')\n",
    "    ax.set_ylabel('MSE')\n",
    "    #ax.title('OilCum360')"
   ]
  },
  {
   "cell_type": "markdown",
   "metadata": {},
   "source": [
    "Once we performed a cv on our pcr : we see that a number of 12 pcs gives lowest mse\n",
    "Let's see what regression gives with splitting train and test "
   ]
  },
  {
   "cell_type": "code",
   "execution_count": 36,
   "metadata": {
    "collapsed": true
   },
   "outputs": [],
   "source": [
    "pca2 = PCA()\n",
    "# Split into training and test sets\n",
    "X_train, X_test, y_train, y_test = train_test_split(trainG1.iloc[:,1:].drop('OilCum360',axis=1), trainG1.OilCum360, test_size=0.3, random_state=0)\n",
    "# Scale the data\n",
    "X_reduced_train = pca2.fit_transform(scale(X_train))"
   ]
  },
  {
   "cell_type": "code",
   "execution_count": 37,
   "metadata": {
    "collapsed": true
   },
   "outputs": [],
   "source": [
    "n = len(X_reduced_train)\n",
    "# 10-fold CV, with shuffle\n",
    "kf_10 = cross_validation.KFold(n, n_folds=10, shuffle=True, random_state=1)\n",
    "mse = []"
   ]
  },
  {
   "cell_type": "code",
   "execution_count": 38,
   "metadata": {
    "collapsed": true
   },
   "outputs": [],
   "source": [
    "# Calculate MSE with only the intercept (no principal components in regression)\n",
    "score = -1*cross_validation.cross_val_score(lmG1, np.ones((n,1)), y_train.ravel(), cv=kf_10, scoring='mean_squared_error').mean()\n",
    "mse.append(score)"
   ]
  },
  {
   "cell_type": "code",
   "execution_count": 39,
   "metadata": {},
   "outputs": [
    {
     "data": {
      "text/plain": [
       "Text(0.5,1,'OilCum360')"
      ]
     },
     "execution_count": 39,
     "metadata": {},
     "output_type": "execute_result"
    },
    {
     "data": {
      "image/png": "[encoded data removed]",
      "text/plain": [
       "<matplotlib.figure.Figure at 0x1e854e43da0>"
      ]
     },
     "metadata": {},
     "output_type": "display_data"
    }
   ],
   "source": [
    "# Calculate MSE using CV for the 19 principle components, adding one component at the time.\n",
    "for i in np.arange(1, 20):\n",
    "    score = -1*cross_validation.cross_val_score(lmG1, X_reduced_train[:,:i], y_train.ravel(), cv=kf_10, scoring='mean_squared_error').mean()\n",
    "    mse.append(score)\n",
    "    \n",
    "plt.plot(np.array(mse), '-v')\n",
    "plt.xlabel('Number of principal components in regression')\n",
    "plt.ylabel('MSE')\n",
    "plt.title('OilCum360')"
   ]
  },
  {
   "cell_type": "code",
   "execution_count": 42,
   "metadata": {},
   "outputs": [
    {
     "data": {
      "text/plain": [
       "0.29896221648123777"
      ]
     },
     "execution_count": 42,
     "metadata": {},
     "output_type": "execute_result"
    }
   ],
   "source": [
    "X_reduced_test = pca2.transform(scale(X_test))[:,:7]\n",
    "# Train regression model on training data\n",
    "regr = linear_model.LinearRegression()\n",
    "regr.fit(X_reduced_train[:,:7], y_train)\n",
    "# Prediction with test data\n",
    "pred = regr.predict(X_reduced_test)\n",
    "mean_squared_error(y_test, pred)"
   ]
  },
  {
   "cell_type": "markdown",
   "metadata": {},
   "source": [
    "*GROUP2*"
   ]
  },
  {
   "cell_type": "code",
   "execution_count": 43,
   "metadata": {
    "collapsed": true
   },
   "outputs": [],
   "source": [
    "#let's perform pca on our data and pcr so we can see if there is an improvement:\n",
    "pca = PCA()"
   ]
  },
  {
   "cell_type": "code",
   "execution_count": 44,
   "metadata": {
    "collapsed": true
   },
   "outputs": [],
   "source": [
    "trainG2_reduced = pca.fit_transform(scale(trainG2.iloc[:,1:].drop('OilCum360',axis=1)))"
   ]
  },
  {
   "cell_type": "code",
   "execution_count": 45,
   "metadata": {},
   "outputs": [
    {
     "data": {
      "text/plain": [
       "array([ 28.12,  47.67,  58.94,  68.14,  73.64,  77.98,  82.13,  85.64,\n",
       "        88.58,  90.86,  92.86,  94.33,  95.67,  96.68,  97.6 ,  98.39,\n",
       "        98.99,  99.3 ,  99.59,  99.74,  99.87,  99.92,  99.96,  99.98])"
      ]
     },
     "execution_count": 45,
     "metadata": {},
     "output_type": "execute_result"
    }
   ],
   "source": [
    "np.cumsum(np.round(pca.explained_variance_ratio_, decimals=4)*100)"
   ]
  },
  {
   "cell_type": "code",
   "execution_count": 46,
   "metadata": {
    "collapsed": true
   },
   "outputs": [],
   "source": [
    "n = len(trainG2_reduced)\n",
    "kf_10 = cross_validation.KFold(n, n_folds=10, shuffle=True, random_state=2)\n",
    "lmG2_pcr = linear_model.LinearRegression()\n",
    "mse = []"
   ]
  },
  {
   "cell_type": "code",
   "execution_count": 47,
   "metadata": {
    "collapsed": true
   },
   "outputs": [],
   "source": [
    "score = -1*cross_validation.cross_val_score(lmG2_pcr, np.ones((n,1)),  trainG2.OilCum360.ravel(), cv=kf_10, scoring='mean_squared_error').mean()    \n",
    "mse.append(score) "
   ]
  },
  {
   "cell_type": "code",
   "execution_count": 48,
   "metadata": {},
   "outputs": [
    {
     "data": {
      "text/plain": [
       "[0.97846935687442005]"
      ]
     },
     "execution_count": 48,
     "metadata": {},
     "output_type": "execute_result"
    }
   ],
   "source": [
    "mse"
   ]
  },
  {
   "cell_type": "code",
   "execution_count": 49,
   "metadata": {},
   "outputs": [
    {
     "data": {
      "image/png": "[encoded data removed]",
      "text/plain": [
       "<matplotlib.figure.Figure at 0x1e8563f4320>"
      ]
     },
     "metadata": {},
     "output_type": "display_data"
    }
   ],
   "source": [
    "for i in np.arange(1,20):\n",
    "    score = -1*cross_validation.cross_val_score(lmG2_pcr, trainG2_reduced[:,:i], trainG2.OilCum360.ravel(), cv=kf_10, scoring='mean_squared_error').mean()\n",
    "    mse.append(score)\n",
    "\n",
    "fig, (ax1, ax2) = plt.subplots(1,2, figsize=(12,5))\n",
    "ax1.plot(mse, '-v')\n",
    "ax2.plot([1,2,3,4,5,6,7,8,9,10,11,12,13,14,15,16,17,18,19], mse[1:20], '-v')\n",
    "ax2.set_title('Intercept excluded from plot')\n",
    "\n",
    "for ax in fig.axes:\n",
    "    ax.set_xlabel('Number of principal components in regression')\n",
    "    ax.set_ylabel('MSE')\n",
    "    #ax.title('OilCum360')"
   ]
  },
  {
   "cell_type": "markdown",
   "metadata": {},
   "source": [
    "#### CONCLUSION ET SYNTHESE A FAIRE DANS LE RAPPORT"
   ]
  },
  {
   "cell_type": "markdown",
   "metadata": {},
   "source": [
    "Les versions pénalisées (Ridge, Lasso, elastic net, lars) du modèle linéaire général sont les algorithmes les plus développés dans scikit-learn au détriment de ceux plus classique de sélection de variables."
   ]
  },
  {
   "cell_type": "markdown",
   "metadata": {},
   "source": [
    "## ridge"
   ]
  },
  {
   "cell_type": "markdown",
   "metadata": {},
   "source": [
    "Ridge regression addresses some of the problems of Ordinary Least Squares by imposing a penalty on the size of coefficients. The ridge coefficients minimize a penalized residual sum of squares"
   ]
  },
  {
   "cell_type": "markdown",
   "metadata": {
    "collapsed": true
   },
   "source": [
    "*GROUP1*"
   ]
  },
  {
   "cell_type": "code",
   "execution_count": 51,
   "metadata": {
    "collapsed": true
   },
   "outputs": [],
   "source": [
    "#We will try to tune the model with the best regularization parameter\n",
    "rmG1 = linear_model.Ridge (alpha = 0.5)"
   ]
  },
  {
   "cell_type": "code",
   "execution_count": 52,
   "metadata": {},
   "outputs": [
    {
     "data": {
      "text/plain": [
       "Ridge(alpha=0.5, copy_X=True, fit_intercept=True, max_iter=None,\n",
       "   normalize=False, random_state=None, solver='auto', tol=0.001)"
      ]
     },
     "execution_count": 52,
     "metadata": {},
     "output_type": "execute_result"
    }
   ],
   "source": [
    "rmG1.fit(X_train,y_train)"
   ]
  },
  {
   "cell_type": "code",
   "execution_count": 55,
   "metadata": {
    "scrolled": true
   },
   "outputs": [
    {
     "data": {
      "text/html": [
       "<div>\n",
       "<style>\n",
       "    .dataframe thead tr:only-child th {\n",
       "        text-align: right;\n",
       "    }\n",
       "\n",
       "    .dataframe thead th {\n",
       "        text-align: left;\n",
       "    }\n",
       "\n",
       "    .dataframe tbody tr th {\n",
       "        vertical-align: top;\n",
       "    }\n",
       "</style>\n",
       "<table border=\"1\" class=\"dataframe\">\n",
       "  <thead>\n",
       "    <tr style=\"text-align: right;\">\n",
       "      <th></th>\n",
       "      <th>Coefficient</th>\n",
       "    </tr>\n",
       "  </thead>\n",
       "  <tbody>\n",
       "    <tr>\n",
       "      <th>Proppant_in_Formation (kg)</th>\n",
       "      <td>-0.719375</td>\n",
       "    </tr>\n",
       "    <tr>\n",
       "      <th>Surf_X</th>\n",
       "      <td>-0.210023</td>\n",
       "    </tr>\n",
       "    <tr>\n",
       "      <th>S3Tect_PPLS (PSI)</th>\n",
       "      <td>-0.167159</td>\n",
       "    </tr>\n",
       "    <tr>\n",
       "      <th>PR_PPLS</th>\n",
       "      <td>-0.150122</td>\n",
       "    </tr>\n",
       "    <tr>\n",
       "      <th>ISIP (KPa)</th>\n",
       "      <td>-0.098413</td>\n",
       "    </tr>\n",
       "    <tr>\n",
       "      <th>DT_PPLS (us/ft)</th>\n",
       "      <td>-0.091184</td>\n",
       "    </tr>\n",
       "    <tr>\n",
       "      <th>GR_PPLS (API)</th>\n",
       "      <td>-0.089096</td>\n",
       "    </tr>\n",
       "    <tr>\n",
       "      <th>Pressure_PPLS (PSI)</th>\n",
       "      <td>-0.075795</td>\n",
       "    </tr>\n",
       "    <tr>\n",
       "      <th>Proppant_per_ft (kg/ft)</th>\n",
       "      <td>-0.060279</td>\n",
       "    </tr>\n",
       "    <tr>\n",
       "      <th>Min_Rate_Slurry (bpm)</th>\n",
       "      <td>-0.050233</td>\n",
       "    </tr>\n",
       "    <tr>\n",
       "      <th>Shot_Density (shots/ft)</th>\n",
       "      <td>-0.049023</td>\n",
       "    </tr>\n",
       "    <tr>\n",
       "      <th>Temp_Anomaly (F)</th>\n",
       "      <td>-0.036167</td>\n",
       "    </tr>\n",
       "    <tr>\n",
       "      <th>Max_Treating_pressure (KPa)</th>\n",
       "      <td>-0.027568</td>\n",
       "    </tr>\n",
       "    <tr>\n",
       "      <th>Avg_Breakdown_Pressure (KPa)</th>\n",
       "      <td>-0.027248</td>\n",
       "    </tr>\n",
       "    <tr>\n",
       "      <th>Zone</th>\n",
       "      <td>-0.020452</td>\n",
       "    </tr>\n",
       "    <tr>\n",
       "      <th>Avg_Rate_Slurry (bpm)</th>\n",
       "      <td>-0.018749</td>\n",
       "    </tr>\n",
       "    <tr>\n",
       "      <th>Lateral_Length (ft)</th>\n",
       "      <td>-0.012428</td>\n",
       "    </tr>\n",
       "    <tr>\n",
       "      <th>Min_Treating_Pressure (KPa)</th>\n",
       "      <td>-0.004576</td>\n",
       "    </tr>\n",
       "    <tr>\n",
       "      <th>Avg_Treating_Pressure (KPa)</th>\n",
       "      <td>-0.000094</td>\n",
       "    </tr>\n",
       "    <tr>\n",
       "      <th>deltaT_Comp_Prod</th>\n",
       "      <td>0.000022</td>\n",
       "    </tr>\n",
       "    <tr>\n",
       "      <th>deltaT_Dril_Comp</th>\n",
       "      <td>0.000278</td>\n",
       "    </tr>\n",
       "    <tr>\n",
       "      <th>Frac_Gradient (PSI/ft)</th>\n",
       "      <td>0.003079</td>\n",
       "    </tr>\n",
       "    <tr>\n",
       "      <th>YM_PPLS (PSI)</th>\n",
       "      <td>0.012902</td>\n",
       "    </tr>\n",
       "    <tr>\n",
       "      <th>ShutInPressure_Fil (KPa)</th>\n",
       "      <td>0.048202</td>\n",
       "    </tr>\n",
       "    <tr>\n",
       "      <th>ShutInPressure_Initial (KPa)</th>\n",
       "      <td>0.051399</td>\n",
       "    </tr>\n",
       "    <tr>\n",
       "      <th>Surf_Y</th>\n",
       "      <td>0.068525</td>\n",
       "    </tr>\n",
       "    <tr>\n",
       "      <th>Temperature (F)</th>\n",
       "      <td>0.073010</td>\n",
       "    </tr>\n",
       "    <tr>\n",
       "      <th>Shot_Total</th>\n",
       "      <td>0.083732</td>\n",
       "    </tr>\n",
       "    <tr>\n",
       "      <th>Max_Rate_Slurry (bpm)</th>\n",
       "      <td>0.086057</td>\n",
       "    </tr>\n",
       "    <tr>\n",
       "      <th>DTs_PPLS (us/ft)</th>\n",
       "      <td>0.108229</td>\n",
       "    </tr>\n",
       "    <tr>\n",
       "      <th>Erosion_PPLS (ft)</th>\n",
       "      <td>0.123352</td>\n",
       "    </tr>\n",
       "    <tr>\n",
       "      <th>Stage_Spacing (ft)</th>\n",
       "      <td>0.128348</td>\n",
       "    </tr>\n",
       "    <tr>\n",
       "      <th>Heat_Flow (W/m2)</th>\n",
       "      <td>0.133198</td>\n",
       "    </tr>\n",
       "    <tr>\n",
       "      <th>Vclay_PPLS</th>\n",
       "      <td>0.134980</td>\n",
       "    </tr>\n",
       "    <tr>\n",
       "      <th>Vsand_PPLS</th>\n",
       "      <td>0.177016</td>\n",
       "    </tr>\n",
       "    <tr>\n",
       "      <th>S3_contrast_PPLS (PSI)</th>\n",
       "      <td>0.197928</td>\n",
       "    </tr>\n",
       "    <tr>\n",
       "      <th>Depth_TVD_PPLS (ft)</th>\n",
       "      <td>0.208457</td>\n",
       "    </tr>\n",
       "    <tr>\n",
       "      <th>RHOB_PPLS (g/cc)</th>\n",
       "      <td>0.209948</td>\n",
       "    </tr>\n",
       "    <tr>\n",
       "      <th>Res_PPLS (Ohmm)</th>\n",
       "      <td>0.223736</td>\n",
       "    </tr>\n",
       "    <tr>\n",
       "      <th>Nbr_Stages</th>\n",
       "      <td>0.314862</td>\n",
       "    </tr>\n",
       "    <tr>\n",
       "      <th>TOC_PPLS (%)</th>\n",
       "      <td>0.401140</td>\n",
       "    </tr>\n",
       "    <tr>\n",
       "      <th>Vcarb_PPLS</th>\n",
       "      <td>0.449817</td>\n",
       "    </tr>\n",
       "    <tr>\n",
       "      <th>Proppant_Designed (kg)</th>\n",
       "      <td>0.963421</td>\n",
       "    </tr>\n",
       "  </tbody>\n",
       "</table>\n",
       "</div>"
      ],
      "text/plain": [
       "                              Coefficient\n",
       "Proppant_in_Formation (kg)      -0.719375\n",
       "Surf_X                          -0.210023\n",
       "S3Tect_PPLS (PSI)               -0.167159\n",
       "PR_PPLS                         -0.150122\n",
       "ISIP (KPa)                      -0.098413\n",
       "DT_PPLS (us/ft)                 -0.091184\n",
       "GR_PPLS (API)                   -0.089096\n",
       "Pressure_PPLS (PSI)             -0.075795\n",
       "Proppant_per_ft (kg/ft)         -0.060279\n",
       "Min_Rate_Slurry (bpm)           -0.050233\n",
       "Shot_Density (shots/ft)         -0.049023\n",
       "Temp_Anomaly (F)                -0.036167\n",
       "Max_Treating_pressure (KPa)     -0.027568\n",
       "Avg_Breakdown_Pressure (KPa)    -0.027248\n",
       "Zone                            -0.020452\n",
       "Avg_Rate_Slurry (bpm)           -0.018749\n",
       "Lateral_Length (ft)             -0.012428\n",
       "Min_Treating_Pressure (KPa)     -0.004576\n",
       "Avg_Treating_Pressure (KPa)     -0.000094\n",
       "deltaT_Comp_Prod                 0.000022\n",
       "deltaT_Dril_Comp                 0.000278\n",
       "Frac_Gradient (PSI/ft)           0.003079\n",
       "YM_PPLS (PSI)                    0.012902\n",
       "ShutInPressure_Fil (KPa)         0.048202\n",
       "ShutInPressure_Initial (KPa)     0.051399\n",
       "Surf_Y                           0.068525\n",
       "Temperature (F)                  0.073010\n",
       "Shot_Total                       0.083732\n",
       "Max_Rate_Slurry (bpm)            0.086057\n",
       "DTs_PPLS (us/ft)                 0.108229\n",
       "Erosion_PPLS (ft)                0.123352\n",
       "Stage_Spacing (ft)               0.128348\n",
       "Heat_Flow (W/m2)                 0.133198\n",
       "Vclay_PPLS                       0.134980\n",
       "Vsand_PPLS                       0.177016\n",
       "S3_contrast_PPLS (PSI)           0.197928\n",
       "Depth_TVD_PPLS (ft)              0.208457\n",
       "RHOB_PPLS (g/cc)                 0.209948\n",
       "Res_PPLS (Ohmm)                  0.223736\n",
       "Nbr_Stages                       0.314862\n",
       "TOC_PPLS (%)                     0.401140\n",
       "Vcarb_PPLS                       0.449817\n",
       "Proppant_Designed (kg)           0.963421"
      ]
     },
     "execution_count": 55,
     "metadata": {},
     "output_type": "execute_result"
    }
   ],
   "source": [
    "pd.DataFrame(index=np.array(X_train.columns),data=rmG1.coef_,columns=['Coefficient']).sort_values(by='Coefficient')"
   ]
  },
  {
   "cell_type": "code",
   "execution_count": 56,
   "metadata": {
    "collapsed": true
   },
   "outputs": [],
   "source": [
    "y_pred = rmG1.predict(X_test)"
   ]
  },
  {
   "cell_type": "code",
   "execution_count": 57,
   "metadata": {},
   "outputs": [
    {
     "name": "stdout",
     "output_type": "stream",
     "text": [
      "Mean squared error: 0.17\n",
      "Variance score: 0.72\n"
     ]
    }
   ],
   "source": [
    "print(\"Mean squared error: %.2f\"% mean_squared_error(y_test, y_pred))\n",
    "# Explained variance score: 1 is perfect prediction\n",
    "print('Variance score: %.2f'% r2_score(y_test, y_pred))"
   ]
  },
  {
   "cell_type": "code",
   "execution_count": 58,
   "metadata": {},
   "outputs": [
    {
     "data": {
      "text/plain": [
       "<matplotlib.collections.PathCollection at 0x1e855ab99b0>"
      ]
     },
     "execution_count": 58,
     "metadata": {},
     "output_type": "execute_result"
    },
    {
     "data": {
      "image/png": "[encoded data removed]",
      "text/plain": [
       "<matplotlib.figure.Figure at 0x1e856098198>"
      ]
     },
     "metadata": {},
     "output_type": "display_data"
    }
   ],
   "source": [
    "plt.scatter(y_test,y_pred)"
   ]
  },
  {
   "cell_type": "markdown",
   "metadata": {},
   "source": [
    "We see that with a alpha = 0.5 we have the same resut as Linear regression"
   ]
  },
  {
   "cell_type": "markdown",
   "metadata": {},
   "source": [
    "Tuning Ridge :"
   ]
  },
  {
   "cell_type": "markdown",
   "metadata": {},
   "source": [
    "- Ridge permet d'un modèle en présence de variables fortement corrélés\n",
    "- Il faut normaliser tous les données parceque cette méthode est très sensible à l'echelle des données"
   ]
  },
  {
   "cell_type": "code",
   "execution_count": 80,
   "metadata": {},
   "outputs": [
    {
     "data": {
      "text/plain": [
       "(array([[ 0.14739912,  0.13030851, -1.05843305, ..., -0.22602678,\n",
       "          1.90785776,  0.13873818],\n",
       "        [-0.68934011, -0.34436195,  1.51697757, ..., -1.25351763,\n",
       "          0.19635732, -0.48482453],\n",
       "        [-1.3014386 ,  0.28243207, -0.69279654, ..., -0.22293244,\n",
       "          2.18780579, -0.62750414],\n",
       "        ..., \n",
       "        [-0.54770182,  0.1576244 , -1.28047413, ...,  0.86365866,\n",
       "         -0.33172646,  0.0541873 ],\n",
       "        [ 0.32720665,  0.32036932, -0.53391086, ...,  1.80779349,\n",
       "          0.03093348, -0.06207015],\n",
       "        [ 0.52471686, -0.1475056 , -0.30854581, ..., -0.20868681,\n",
       "         -0.40171347, -0.23117191]]),\n",
       " array([ -6.20448528e-01,   2.10093331e+00,   4.30082313e-01,\n",
       "         -2.51495338e-01,   1.20178593e+00,  -2.26598658e-02,\n",
       "          1.06307643e+00,  -8.28160726e-01,  -5.50037614e-01,\n",
       "         -5.96508817e-01,  -4.90892446e-01,   7.30989775e-02,\n",
       "         -7.21136136e-01,   2.56871464e-01,  -8.05629233e-01,\n",
       "         -8.21823743e-01,  -2.68393957e-01,  -3.81051420e-01,\n",
       "         -7.52821047e-01,   2.18145461e-01,  -1.11377618e-01,\n",
       "         -3.46550071e-01,   4.80039015e-03,  -8.16190870e-01,\n",
       "         -5.24689685e-01,  -7.57749811e-01,  -8.01404578e-01,\n",
       "         -2.61804121e-02,  -1.02224199e-01,   6.82153386e-01,\n",
       "         -8.28864834e-01,   2.31523534e-01,  -8.21823743e-01,\n",
       "         -5.38771868e-01,   6.80745168e-01,  -4.33859605e-01,\n",
       "         -4.37831401e-02,  -8.19711416e-01,  -8.26752507e-01,\n",
       "         -7.70423776e-01,  -2.45158355e-01,  -7.06349844e-01,\n",
       "          9.97594282e-01,  -8.03516905e-01,  -3.14161051e-01,\n",
       "         -1.09969399e-01,  -2.40933700e-01,  -3.20498034e-01,\n",
       "         -1.91393207e-02,   2.45605717e-01,   4.68104207e-01,\n",
       "          5.92027416e-01,  -7.10574498e-01,  -8.28864834e-01,\n",
       "         -7.13390935e-01,  -8.28864834e-01,  -2.93037776e-01,\n",
       "          3.57811924e-02,  -1.41654311e-01,   7.71575247e-01,\n",
       "         -1.27572129e-01,   4.84298717e-01,  -4.43013024e-01,\n",
       "         -7.14799153e-01,   6.40610946e-01,   3.30802924e-01,\n",
       "         -7.02125189e-01,   1.11120871e-01,  -7.16911481e-01,\n",
       "         -7.38034756e-01,  -8.21119634e-01,  -2.85292576e-01,\n",
       "         -4.46533569e-01,   2.92076921e-01,  -7.44371737e-01,\n",
       "          2.61800228e-01,   4.43460386e-01,  -8.28160726e-01,\n",
       "         -6.32418384e-01,  -7.12433972e-02,  -8.28160726e-01,\n",
       "         -2.13473444e-01,   1.01263343e-01,   2.30819425e-01,\n",
       "          3.75865909e-01,  -8.28864834e-01,  -8.28864834e-01,\n",
       "         -4.90892446e-01,  -1.28980347e-01,  -3.11091756e-02,\n",
       "         -5.45108851e-01,   5.95593087e+00,  -8.28864834e-01,\n",
       "         -6.27489620e-01,  -8.28864834e-01,  -8.26048398e-01,\n",
       "         -6.63146327e-02,   3.57811924e-02,  -8.19711416e-01,\n",
       "          2.97050810e+00,  -4.65995767e-02,  -6.98604644e-01,\n",
       "         -4.77514372e-01,  -3.81755528e-01,   1.81531785e-01,\n",
       "          1.59256651e+00,  -7.78873086e-01,  -5.57782815e-01,\n",
       "         -1.71931004e-01,  -8.28864834e-01,  -1.00111871e-01,\n",
       "          5.89915088e-01,  -1.19122819e-01,   2.84331720e-01,\n",
       "         -8.28864834e-01,   1.86153620e+00,  -7.44371737e-01,\n",
       "          9.20846385e-01,  -8.28864834e-01,  -6.88747116e-01,\n",
       "         -8.26752507e-01,   2.61096119e-01,  -6.34981961e-02,\n",
       "         -8.28864834e-01,  -8.23936071e-01,  -5.70456780e-01,\n",
       "         -8.26752507e-01,   6.24416436e-01,   7.80024556e-01,\n",
       "         -7.97179923e-01,   8.65221763e-01,   3.11696280e+00,\n",
       "          2.08685113e+00,   1.58296183e-01,   2.16737243e-01,\n",
       "         -6.27940875e-02,   6.18079454e-01,  -8.28160726e-01,\n",
       "          3.06159104e-01,  -6.21856746e-01,   2.90432184e+00,\n",
       "          4.71624752e-01,  -8.15486761e-01,  -8.28864834e-01,\n",
       "         -8.27456616e-01,   2.88556375e-01,   1.40175293e+00,\n",
       "         -7.58453920e-01,  -8.28864834e-01,  -4.21185640e-01,\n",
       "         -2.49383010e-01,   3.40071879e+00,  -7.95771705e-01,\n",
       "          1.62073087e+00,  -2.46566573e-01,  -8.18303198e-01,\n",
       "          5.15279519e-01,   8.70854636e-01,  -4.38788369e-01,\n",
       "          1.96318077e-01,   5.49780867e-01,  -8.28864834e-01,\n",
       "         -8.28864834e-01,  -8.28160726e-01,  -6.22560856e-01,\n",
       "          1.23065441e+00,  -1.06448854e-01,  -8.28864834e-01,\n",
       "         -8.28160726e-01,   5.12463082e-01,   3.04303134e+00,\n",
       "         -8.03516905e-01,  -1.95870715e-01,  -6.56105241e-02,\n",
       "         -8.28864834e-01,  -4.60615752e-01,   6.44131492e-01,\n",
       "          3.90652201e-01,  -6.70187424e-02,  -7.36626537e-01,\n",
       "         -4.77514372e-01,  -5.11311612e-01,  -4.59207534e-01,\n",
       "         -8.11966215e-01,  -4.32451387e-01,   1.79253350e+00,\n",
       "          8.29565055e-02,  -8.28864834e-01,  -6.08478673e-01,\n",
       "         -6.16927983e-01,   8.22523958e-02,  -5.23281467e-01,\n",
       "         -1.59257039e-01,   1.82633074e+00,  -2.95854213e-01,\n",
       "          4.77510484e-02,  -7.58453920e-01,  -4.37380151e-01,\n",
       "          9.20846385e-01,   7.44114991e-01,   1.47357206e+00,\n",
       "         -4.34563715e-01,  -8.28864834e-01,  -7.18319700e-01,\n",
       "          2.57575573e-01,  -8.25344289e-01,  -1.73339222e-01,\n",
       "         -1.28023379e-02,  -8.28864834e-01,   4.84551570e-02,\n",
       "          1.70170342e+00,  -8.28864834e-01,   5.69044667e-02,\n",
       "         -2.82476140e-01,  -7.87322395e-01,   2.82923502e-01,\n",
       "          2.25890661e-01,  -7.42963519e-01,  -7.66199121e-01,\n",
       "         -8.28864834e-01,   3.60491044e+00,   7.73236324e-02,\n",
       "         -6.05662237e-01,   1.68857821e-01,  -7.08462172e-01,\n",
       "         -5.92988272e-01,  -7.47639424e-02,   9.01131329e-01,\n",
       "         -8.28864834e-01,   4.34306968e-01,  -8.14782651e-01,\n",
       "         -3.35284325e-01,   5.33839215e-02,  -3.83163747e-01,\n",
       "         -7.88026504e-01,  -8.28864834e-01,  -1.92350170e-01,\n",
       "         -7.45075847e-01,  -8.16190870e-01,  -8.27456616e-01,\n",
       "         -7.90138832e-01,  -5.39475977e-01,   8.85640928e-01,\n",
       "         -5.57078705e-01,   7.21583498e-01,   1.43695839e+00,\n",
       "         -3.73306219e-01,   1.26093110e+00,   4.25480318e+00,\n",
       "         -8.28864834e-01,   2.13920806e-01,   6.53989020e-01,\n",
       "         -8.28864834e-01,   4.37123405e-01,  -3.81051420e-01,\n",
       "         -5.22577358e-01,   2.61211655e+00,  -8.28864834e-01,\n",
       "         -2.90221340e-01,  -7.57749811e-01,   5.30065811e-01,\n",
       "          9.42222518e-02,  -3.52887054e-01,  -5.16944485e-01,\n",
       "         -7.89885972e-02,  -7.33810101e-01,  -7.14095045e-01,\n",
       "          3.78935204e-02,  -6.62695077e-01,  -9.23666715e-02,\n",
       "          1.88758824e+00,   2.67830281e+00,   1.34356472e-01,\n",
       "          6.64550657e-01,   6.96235569e-01,   9.84469066e-02,\n",
       "         -8.28864834e-01,  -7.85210067e-01,   1.22386617e-01,\n",
       "         -2.82476140e-01,   1.33556667e+00,  -6.24673183e-01,\n",
       "         -5.83130744e-01,  -8.28864834e-01,   3.08105324e+00,\n",
       "         -4.15552767e-01,  -3.11091756e-02,  -1.81084423e-01,\n",
       "          1.80802391e+00,  -3.95837711e-01,   4.01917948e-01,\n",
       "          6.60326002e-01,   7.63830047e-01,  -8.12670325e-01,\n",
       "          4.70543303e+00,  -6.20899778e-02,   1.12715036e+00,\n",
       "         -6.21152638e-01,  -8.28160726e-01,  -3.96541821e-01,\n",
       "         -8.19711416e-01,   2.07206483e+00,   6.59621894e-01,\n",
       "          7.22991716e-01,  -2.36004937e-01,   9.98298390e-01,\n",
       "          7.45523209e-01,  -8.28864834e-01,   9.58868278e-01,\n",
       "          2.52195558e-02,  -8.28864834e-01,   2.77994738e-01,\n",
       "          2.98529439e+00,  -3.31763780e-01,  -3.43029526e-01,\n",
       "          6.88743227e-02,  -2.41637810e-01,  -7.06349844e-01,\n",
       "         -8.26048398e-01,   2.18849569e-01,   1.17221335e+00,\n",
       "         -3.67673346e-01,  -4.45829461e-01,  -1.45174857e-01,\n",
       "          2.37483177e+00,  -1.27572129e-01,  -1.71226895e-01,\n",
       "         -5.76793761e-01,   4.08959039e-01,  -8.28864834e-01,\n",
       "         -8.16894979e-01,  -8.28160726e-01,   2.38564625e-01,\n",
       "          1.77211434e+00,  -5.82426635e-01,  -8.28864834e-01,\n",
       "         -8.28864834e-01,  -5.00045864e-01,  -1.82492642e-01,\n",
       "          5.93435634e-01,   2.38113375e-02,   1.34401598e+00,\n",
       "          4.56387204e-02,   1.41583511e+00,   6.19487672e-01,\n",
       "          4.75145298e-01,  -7.98588142e-01,  -1.28276237e-01,\n",
       "         -8.14782651e-01,  -8.28160726e-01,  -8.28864834e-01,\n",
       "          3.80910209e+00,  -6.43684130e-01,  -7.82393631e-01,\n",
       "          4.16704239e-01,   3.73753582e-01,  -8.28864834e-01,\n",
       "         -8.28160726e-01,  -3.97950039e-01,  -2.05024134e-01,\n",
       "         -6.92971770e-01,  -7.95771705e-01]))"
      ]
     },
     "execution_count": 80,
     "metadata": {},
     "output_type": "execute_result"
    }
   ],
   "source": [
    "scaler = StandardScaler()\n",
    "X=scale(trainG1.iloc[:,1:].drop('OilCum360',axis=1))\n",
    "y=scale(trainG1.OilCum360)\n",
    "X,y"
   ]
  },
  {
   "cell_type": "code",
   "execution_count": 81,
   "metadata": {},
   "outputs": [
    {
     "data": {
      "text/plain": [
       "20.0"
      ]
     },
     "execution_count": 81,
     "metadata": {},
     "output_type": "execute_result"
    }
   ],
   "source": [
    "rm_G1 = linear_model.RidgeCV(alphas=[0.1,0.2,0.5,1,2,5,10,20,50,100])\n",
    "rm_G1.fit(X,y)\n",
    "rm_G1.alpha_"
   ]
  },
  {
   "cell_type": "code",
   "execution_count": 82,
   "metadata": {},
   "outputs": [],
   "source": [
    "#We will try to tune the model with the best regularization parameter\n",
    "rmG1 = linear_model.Ridge (alpha = 20)"
   ]
  },
  {
   "cell_type": "code",
   "execution_count": 87,
   "metadata": {
    "collapsed": true
   },
   "outputs": [],
   "source": [
    "X_train, X_test, y_train, y_test = train_test_split(X,y, test_size=0.3, random_state=0)"
   ]
  },
  {
   "cell_type": "code",
   "execution_count": 88,
   "metadata": {},
   "outputs": [
    {
     "data": {
      "text/plain": [
       "Ridge(alpha=20, copy_X=True, fit_intercept=True, max_iter=None,\n",
       "   normalize=False, random_state=None, solver='auto', tol=0.001)"
      ]
     },
     "execution_count": 88,
     "metadata": {},
     "output_type": "execute_result"
    }
   ],
   "source": [
    "rmG1.fit(X_train,y_train)"
   ]
  },
  {
   "cell_type": "code",
   "execution_count": 89,
   "metadata": {
    "collapsed": true
   },
   "outputs": [],
   "source": [
    "y_pred = rmG1.predict(X_test)"
   ]
  },
  {
   "cell_type": "code",
   "execution_count": 90,
   "metadata": {},
   "outputs": [
    {
     "name": "stdout",
     "output_type": "stream",
     "text": [
      "Mean squared error: 0.21\n",
      "Variance score: 0.73\n"
     ]
    }
   ],
   "source": [
    "print(\"Mean squared error: %.2f\"% mean_squared_error(y_test, y_pred))\n",
    "# Explained variance score: 1 is perfect prediction\n",
    "print('Variance score: %.2f'% r2_score(y_test, y_pred))"
   ]
  },
  {
   "cell_type": "code",
   "execution_count": 91,
   "metadata": {},
   "outputs": [
    {
     "data": {
      "text/plain": [
       "<matplotlib.collections.PathCollection at 0x1e8584b4e48>"
      ]
     },
     "execution_count": 91,
     "metadata": {},
     "output_type": "execute_result"
    },
    {
     "data": {
      "image/png": "[encoded data removed]",
      "text/plain": [
       "<matplotlib.figure.Figure at 0x1e8585082b0>"
      ]
     },
     "metadata": {},
     "output_type": "display_data"
    }
   ],
   "source": [
    "plt.scatter(y_test,y_pred)"
   ]
  },
  {
   "cell_type": "markdown",
   "metadata": {},
   "source": [
    "*GROUP2*"
   ]
  },
  {
   "cell_type": "code",
   "execution_count": 93,
   "metadata": {
    "collapsed": true
   },
   "outputs": [],
   "source": [
    "#We will try to tune the model with the best regularization parameter\n",
    "rmG2 = linear_model.Ridge (alpha = 0.5)"
   ]
  },
  {
   "cell_type": "code",
   "execution_count": 94,
   "metadata": {},
   "outputs": [
    {
     "data": {
      "text/plain": [
       "Ridge(alpha=0.5, copy_X=True, fit_intercept=True, max_iter=None,\n",
       "   normalize=False, random_state=None, solver='auto', tol=0.001)"
      ]
     },
     "execution_count": 94,
     "metadata": {},
     "output_type": "execute_result"
    }
   ],
   "source": [
    "rmG2.fit(X_train,y_train)"
   ]
  },
  {
   "cell_type": "code",
   "execution_count": 95,
   "metadata": {
    "scrolled": true
   },
   "outputs": [
    {
     "data": {
      "text/html": [
       "<div>\n",
       "<style>\n",
       "    .dataframe thead tr:only-child th {\n",
       "        text-align: right;\n",
       "    }\n",
       "\n",
       "    .dataframe thead th {\n",
       "        text-align: left;\n",
       "    }\n",
       "\n",
       "    .dataframe tbody tr th {\n",
       "        vertical-align: top;\n",
       "    }\n",
       "</style>\n",
       "<table border=\"1\" class=\"dataframe\">\n",
       "  <thead>\n",
       "    <tr style=\"text-align: right;\">\n",
       "      <th></th>\n",
       "      <th>Coefficient</th>\n",
       "    </tr>\n",
       "  </thead>\n",
       "  <tbody>\n",
       "    <tr>\n",
       "      <th>Surf_X</th>\n",
       "      <td>-0.636430</td>\n",
       "    </tr>\n",
       "    <tr>\n",
       "      <th>Res_PPLS (Ohmm)</th>\n",
       "      <td>-0.342490</td>\n",
       "    </tr>\n",
       "    <tr>\n",
       "      <th>Temp_Anomaly (F)</th>\n",
       "      <td>-0.180157</td>\n",
       "    </tr>\n",
       "    <tr>\n",
       "      <th>Vcarb_PPLS</th>\n",
       "      <td>-0.149904</td>\n",
       "    </tr>\n",
       "    <tr>\n",
       "      <th>Vsand_PPLS</th>\n",
       "      <td>-0.145334</td>\n",
       "    </tr>\n",
       "    <tr>\n",
       "      <th>Heat_Flow (W/m2)</th>\n",
       "      <td>-0.113165</td>\n",
       "    </tr>\n",
       "    <tr>\n",
       "      <th>Pressure_PPLS (PSI)</th>\n",
       "      <td>-0.102886</td>\n",
       "    </tr>\n",
       "    <tr>\n",
       "      <th>Vclay_PPLS</th>\n",
       "      <td>-0.101502</td>\n",
       "    </tr>\n",
       "    <tr>\n",
       "      <th>Zone</th>\n",
       "      <td>-0.049071</td>\n",
       "    </tr>\n",
       "    <tr>\n",
       "      <th>S3Tect_PPLS (PSI)</th>\n",
       "      <td>0.006496</td>\n",
       "    </tr>\n",
       "    <tr>\n",
       "      <th>YM_PPLS (PSI)</th>\n",
       "      <td>0.048525</td>\n",
       "    </tr>\n",
       "    <tr>\n",
       "      <th>GR_PPLS (API)</th>\n",
       "      <td>0.057489</td>\n",
       "    </tr>\n",
       "    <tr>\n",
       "      <th>Erosion_PPLS (ft)</th>\n",
       "      <td>0.065708</td>\n",
       "    </tr>\n",
       "    <tr>\n",
       "      <th>GasCum360</th>\n",
       "      <td>0.089190</td>\n",
       "    </tr>\n",
       "    <tr>\n",
       "      <th>PR_PPLS</th>\n",
       "      <td>0.092418</td>\n",
       "    </tr>\n",
       "    <tr>\n",
       "      <th>Lateral_Length (ft)</th>\n",
       "      <td>0.214595</td>\n",
       "    </tr>\n",
       "    <tr>\n",
       "      <th>DTs_PPLS (us/ft)</th>\n",
       "      <td>0.263676</td>\n",
       "    </tr>\n",
       "    <tr>\n",
       "      <th>TOC_PPLS (%)</th>\n",
       "      <td>0.309686</td>\n",
       "    </tr>\n",
       "    <tr>\n",
       "      <th>Surf_Y</th>\n",
       "      <td>0.332902</td>\n",
       "    </tr>\n",
       "    <tr>\n",
       "      <th>S3_contrast_PPLS (PSI)</th>\n",
       "      <td>0.345114</td>\n",
       "    </tr>\n",
       "    <tr>\n",
       "      <th>RHOB_PPLS (g/cc)</th>\n",
       "      <td>0.416617</td>\n",
       "    </tr>\n",
       "    <tr>\n",
       "      <th>Temperature (F)</th>\n",
       "      <td>0.440467</td>\n",
       "    </tr>\n",
       "    <tr>\n",
       "      <th>DT_PPLS (us/ft)</th>\n",
       "      <td>0.448339</td>\n",
       "    </tr>\n",
       "    <tr>\n",
       "      <th>Depth_TVD_PPLS (ft)</th>\n",
       "      <td>0.961866</td>\n",
       "    </tr>\n",
       "  </tbody>\n",
       "</table>\n",
       "</div>"
      ],
      "text/plain": [
       "                        Coefficient\n",
       "Surf_X                    -0.636430\n",
       "Res_PPLS (Ohmm)           -0.342490\n",
       "Temp_Anomaly (F)          -0.180157\n",
       "Vcarb_PPLS                -0.149904\n",
       "Vsand_PPLS                -0.145334\n",
       "Heat_Flow (W/m2)          -0.113165\n",
       "Pressure_PPLS (PSI)       -0.102886\n",
       "Vclay_PPLS                -0.101502\n",
       "Zone                      -0.049071\n",
       "S3Tect_PPLS (PSI)          0.006496\n",
       "YM_PPLS (PSI)              0.048525\n",
       "GR_PPLS (API)              0.057489\n",
       "Erosion_PPLS (ft)          0.065708\n",
       "GasCum360                  0.089190\n",
       "PR_PPLS                    0.092418\n",
       "Lateral_Length (ft)        0.214595\n",
       "DTs_PPLS (us/ft)           0.263676\n",
       "TOC_PPLS (%)               0.309686\n",
       "Surf_Y                     0.332902\n",
       "S3_contrast_PPLS (PSI)     0.345114\n",
       "RHOB_PPLS (g/cc)           0.416617\n",
       "Temperature (F)            0.440467\n",
       "DT_PPLS (us/ft)            0.448339\n",
       "Depth_TVD_PPLS (ft)        0.961866"
      ]
     },
     "execution_count": 95,
     "metadata": {},
     "output_type": "execute_result"
    }
   ],
   "source": [
    "pd.DataFrame(index=np.array(X_train.columns),data=rmG2.coef_,columns=['Coefficient']).sort_values(by='Coefficient')"
   ]
  },
  {
   "cell_type": "code",
   "execution_count": 96,
   "metadata": {
    "collapsed": true
   },
   "outputs": [],
   "source": [
    "y_pred = rmG2.predict(X_test)"
   ]
  },
  {
   "cell_type": "code",
   "execution_count": 97,
   "metadata": {},
   "outputs": [
    {
     "name": "stdout",
     "output_type": "stream",
     "text": [
      "Mean squared error: 0.48\n",
      "Variance score: 0.47\n"
     ]
    }
   ],
   "source": [
    "print(\"Mean squared error: %.2f\"% mean_squared_error(y_test, y_pred))\n",
    "# Explained variance score: 1 is perfect prediction\n",
    "print('Variance score: %.2f'% r2_score(y_test, y_pred))"
   ]
  },
  {
   "cell_type": "code",
   "execution_count": 98,
   "metadata": {},
   "outputs": [
    {
     "data": {
      "text/plain": [
       "<matplotlib.collections.PathCollection at 0x1e855b93e80>"
      ]
     },
     "execution_count": 98,
     "metadata": {},
     "output_type": "execute_result"
    },
    {
     "data": {
      "image/png": "[encoded data removed]",
      "text/plain": [
       "<matplotlib.figure.Figure at 0x1e8573f1320>"
      ]
     },
     "metadata": {},
     "output_type": "display_data"
    }
   ],
   "source": [
    "plt.scatter(y_test,y_pred)"
   ]
  },
  {
   "cell_type": "markdown",
   "metadata": {},
   "source": [
    "This model improves slightly performances of the linear regression"
   ]
  },
  {
   "cell_type": "code",
   "execution_count": 99,
   "metadata": {},
   "outputs": [
    {
     "data": {
      "text/plain": [
       "(array([[ 0.39238566, -0.1773399 , -1.14720775, ..., -0.39682276,\n",
       "         -0.31408922,  1.24757042],\n",
       "        [-0.13479706, -0.53331444,  1.49593311, ..., -0.46837052,\n",
       "         -0.34636332, -0.89511431],\n",
       "        [-0.52044619, -0.0632563 , -0.77195543, ...,  0.12439042,\n",
       "         -1.04684864, -0.89511431],\n",
       "        ..., \n",
       "        [ 0.42688233, -1.19183323, -0.76581494, ...,  1.60429918,\n",
       "         -0.64370478, -0.53800019],\n",
       "        [-0.70142287,  0.69528126, -0.12106323, ...,  0.11929569,\n",
       "         -0.4908212 , -0.89511431],\n",
       "        [-1.05320564,  0.69162962,  0.22143979, ...,  0.20723519,\n",
       "         -0.62268957, -0.89511431]]),\n",
       " array([ -6.58191684e-01,   1.82006603e+00,   2.98486328e-01,\n",
       "         -3.22200211e-01,   1.00124712e+00,  -1.13808553e-01,\n",
       "          8.74929714e-01,  -8.47347189e-01,  -5.94071174e-01,\n",
       "         -6.36390710e-01,  -5.40209945e-01,  -2.66046589e-02,\n",
       "         -7.49884014e-01,   1.40749873e-01,  -8.26828626e-01,\n",
       "         -8.41576342e-01,  -3.37589133e-01,  -4.40181949e-01,\n",
       "         -7.78738243e-01,   1.05483592e-01,  -1.94600395e-01,\n",
       "         -4.08762899e-01,  -8.88015542e-02,  -8.36446702e-01,\n",
       "         -5.70987790e-01,  -7.83226679e-01,  -8.22981395e-01,\n",
       "         -1.17014579e-01,  -1.86264729e-01,   5.28037754e-01,\n",
       "         -8.47988393e-01,   1.17666488e-01,  -8.41576342e-01,\n",
       "         -5.83811892e-01,   5.26755343e-01,  -4.88272331e-01,\n",
       "         -1.33044706e-01,  -8.39652728e-01,  -8.46064779e-01,\n",
       "         -7.94768371e-01,  -3.16429364e-01,  -7.36418706e-01,\n",
       "          8.15297639e-01,  -8.24905010e-01,  -3.79267464e-01,\n",
       "         -1.93317985e-01,  -3.12582134e-01,  -3.85038311e-01,\n",
       "         -1.10602528e-01,   1.30490590e-01,   3.33111403e-01,\n",
       "          4.45963501e-01,  -7.40265936e-01,  -8.47988393e-01,\n",
       "         -7.42830757e-01,  -8.47988393e-01,  -3.60031311e-01,\n",
       "         -6.05885298e-02,  -2.22172215e-01,   6.09470801e-01,\n",
       "         -2.09348113e-01,   3.47859120e-01,  -4.96607998e-01,\n",
       "         -7.44113167e-01,   4.90206652e-01,   2.08076408e-01,\n",
       "         -7.32571475e-01,   8.02041652e-03,  -7.46036783e-01,\n",
       "         -7.65272936e-01,  -8.40935138e-01,  -3.52978056e-01,\n",
       "         -4.99814023e-01,   1.72810128e-01,  -7.71043781e-01,\n",
       "          1.45238308e-01,   3.10669224e-01,  -8.47347189e-01,\n",
       "         -6.69092171e-01,  -1.58051705e-01,  -8.47347189e-01,\n",
       "         -2.87575135e-01,  -9.56454890e-04,   1.17025284e-01,\n",
       "          2.49113534e-01,  -8.47988393e-01,  -8.47988393e-01,\n",
       "         -5.40209945e-01,  -2.10630523e-01,  -1.21503014e-01,\n",
       "         -5.89582738e-01,   5.33066396e+00,  -8.47988393e-01,\n",
       "         -6.64603735e-01,  -8.47988393e-01,  -8.45423573e-01,\n",
       "         -1.53563269e-01,  -6.05885298e-02,  -8.39652728e-01,\n",
       "          2.61195433e+00,  -1.35609526e-01,  -7.29365450e-01,\n",
       "         -5.28027048e-01,  -4.40823154e-01,   7.21409266e-02,\n",
       "          1.35711595e+00,  -8.02462832e-01,  -6.01124430e-01,\n",
       "         -2.49744034e-01,  -8.47988393e-01,  -1.84341114e-01,\n",
       "          4.44039885e-01,  -2.01653652e-01,   1.65756871e-01,\n",
       "         -8.47988393e-01,   1.60205630e+00,  -7.71043781e-01,\n",
       "          7.45406282e-01,  -8.47988393e-01,  -7.20388579e-01,\n",
       "         -8.46064779e-01,   1.44597103e-01,  -1.50998448e-01,\n",
       "         -8.47988393e-01,  -8.43499958e-01,  -6.12666122e-01,\n",
       "         -8.46064779e-01,   4.75458935e-01,   6.17165262e-01,\n",
       "         -8.19134164e-01,   6.94751080e-01,   2.74532499e+00,\n",
       "          1.80724193e+00,   5.09811578e-02,   1.04201182e-01,\n",
       "         -1.50357244e-01,   4.69688089e-01,  -8.47347189e-01,\n",
       "          1.85634230e-01,  -6.59474094e-01,   2.55168105e+00,\n",
       "          3.36317428e-01,  -8.35805497e-01,  -8.47988393e-01,\n",
       "         -8.46705983e-01,   1.69604102e-01,   1.18334937e+00,\n",
       "         -7.83867883e-01,  -8.47988393e-01,  -4.76730640e-01,\n",
       "         -3.20276595e-01,   3.00373065e+00,  -8.17851754e-01,\n",
       "          1.38276415e+00,  -3.17711775e-01,  -8.38370317e-01,\n",
       "          3.76072144e-01,   6.99880721e-01,  -4.92760768e-01,\n",
       "          8.56062332e-02,   4.07491195e-01,  -8.47988393e-01,\n",
       "         -8.47988393e-01,  -8.47347189e-01,  -6.60115299e-01,\n",
       "          1.02753653e+00,  -1.90111960e-01,  -8.47988393e-01,\n",
       "         -8.47347189e-01,   3.73507324e-01,   2.67799846e+00,\n",
       "         -8.24905010e-01,  -2.71545007e-01,  -1.52922064e-01,\n",
       "         -8.47988393e-01,  -5.12638125e-01,   4.93412678e-01,\n",
       "          2.62578842e-01,  -1.54204474e-01,  -7.63990526e-01,\n",
       "         -5.28027048e-01,  -5.58804894e-01,  -5.11355715e-01,\n",
       "         -8.32599471e-01,  -4.86989921e-01,   1.53921820e+00,\n",
       "         -1.76277875e-02,  -8.47988393e-01,  -6.47291197e-01,\n",
       "         -6.54985659e-01,  -1.82689931e-02,  -5.69705380e-01,\n",
       "         -2.38202342e-01,   1.56999604e+00,  -3.62596132e-01,\n",
       "         -4.96880425e-02,  -7.83867883e-01,  -4.91478357e-01,\n",
       "          7.45406282e-01,   5.84463803e-01,   1.24875229e+00,\n",
       "         -4.88913537e-01,  -8.47988393e-01,  -7.47319193e-01,\n",
       "          1.41391077e-01,  -8.44782368e-01,  -2.51026444e-01,\n",
       "         -1.04831681e-01,  -8.47988393e-01,  -4.90468379e-02,\n",
       "          1.45650274e+00,  -8.47988393e-01,  -4.13523767e-02,\n",
       "         -3.50413235e-01,  -8.10157293e-01,   1.64474461e-01,\n",
       "          1.12536847e-01,  -7.69761371e-01,  -7.90921140e-01,\n",
       "         -8.47988393e-01,   3.18968013e+00,  -2.27574283e-02,\n",
       "         -6.44726377e-01,   6.05992348e-02,  -7.38342322e-01,\n",
       "         -6.33184685e-01,  -1.61257730e-01,   7.27452539e-01,\n",
       "         -8.47988393e-01,   3.02333558e-01,  -8.35164291e-01,\n",
       "         -3.98503617e-01,  -4.45584017e-02,  -4.42105564e-01,\n",
       "         -8.10798498e-01,  -8.47988393e-01,  -2.68338982e-01,\n",
       "         -7.71684987e-01,  -8.36446702e-01,  -8.46705983e-01,\n",
       "         -8.12722113e-01,  -5.84453098e-01,   7.13346027e-01,\n",
       "         -6.00483225e-01,   5.63945239e-01,   1.21540962e+00,\n",
       "         -4.33128693e-01,   1.05510835e+00,   3.78151244e+00,\n",
       "         -8.47988393e-01,   1.01636361e-01,   5.02389550e-01,\n",
       "         -8.47988393e-01,   3.04898379e-01,  -4.40181949e-01,\n",
       "         -5.69064175e-01,   2.28558094e+00,  -8.47988393e-01,\n",
       "         -3.57466491e-01,  -7.83226679e-01,   3.89537452e-01,\n",
       "         -7.36850590e-03,  -4.14533745e-01,  -5.63934534e-01,\n",
       "         -1.65104961e-01,  -7.61425705e-01,  -7.43471963e-01,\n",
       "         -5.86649140e-02,  -6.96663990e-01,  -1.77287858e-01,\n",
       "          1.62578089e+00,   2.34585422e+00,   2.91801843e-02,\n",
       "          5.12007626e-01,   5.40861856e-01,  -3.52127529e-03,\n",
       "         -8.47988393e-01,  -8.08233677e-01,   1.82796981e-02,\n",
       "         -3.50413235e-01,   1.12307609e+00,  -6.62038914e-01,\n",
       "         -6.24207814e-01,  -8.47988393e-01,   2.71262353e+00,\n",
       "         -4.71600999e-01,  -1.21503014e-01,  -2.58079701e-01,\n",
       "          1.55332471e+00,  -4.53647256e-01,   2.72838124e-01,\n",
       "          5.08160395e-01,   6.02417545e-01,  -8.33240677e-01,\n",
       "          4.19188370e+00,  -1.49716038e-01,   9.33279377e-01,\n",
       "         -6.58832889e-01,  -8.47347189e-01,  -4.54288462e-01,\n",
       "         -8.39652728e-01,   1.79377662e+00,   5.07519190e-01,\n",
       "          5.65227650e-01,  -3.08093699e-01,   8.15938843e-01,\n",
       "          5.85746213e-01,  -8.47988393e-01,   7.80031358e-01,\n",
       "         -7.02066058e-02,  -8.47988393e-01,   1.59986026e-01,\n",
       "          2.62541964e+00,  -3.95297592e-01,  -4.05556874e-01,\n",
       "         -3.04518895e-02,  -3.13223339e-01,  -7.36418706e-01,\n",
       "         -8.45423573e-01,   1.06124796e-01,   9.74316504e-01,\n",
       "         -4.27999052e-01,  -4.99172819e-01,  -2.25378240e-01,\n",
       "          2.06949482e+00,  -2.09348113e-01,  -2.49102829e-01,\n",
       "         -6.18436967e-01,   2.79250175e-01,  -8.47988393e-01,\n",
       "         -8.37087907e-01,  -8.47347189e-01,   1.24078539e-01,\n",
       "          1.52062325e+00,  -6.23566608e-01,  -8.47988393e-01,\n",
       "         -8.47988393e-01,  -5.48545611e-01,  -2.59362111e-01,\n",
       "          4.47245911e-01,  -7.14890160e-02,   1.13077055e+00,\n",
       "         -5.16116584e-02,   1.19617347e+00,   4.70970499e-01,\n",
       "          3.39523454e-01,  -8.20416575e-01,  -2.09989318e-01,\n",
       "         -8.35164291e-01,  -8.47347189e-01,  -8.47988393e-01,\n",
       "          3.37562961e+00,  -6.79351452e-01,  -8.05668857e-01,\n",
       "          2.86303430e-01,   2.47189920e-01,  -8.47988393e-01,\n",
       "         -8.47347189e-01,  -4.55570872e-01,  -2.79880674e-01,\n",
       "         -7.24235809e-01,  -8.17851754e-01,   3.71867434e+00,\n",
       "          3.82484195e-01,  -7.26653152e-01,   1.89484337e+00,\n",
       "         -8.47988393e-01,   1.98015900e-01,  -8.41114675e-01,\n",
       "          1.43314693e-01,   1.32487616e+00,   2.13040930e+00,\n",
       "         -1.74723038e-01,  -4.43387974e-01,   2.46548714e-01,\n",
       "         -4.78654255e-01,  -5.19707331e-02,  -5.38927535e-01,\n",
       "         -7.39415388e-03,  -8.46705983e-01,   3.52597626e-01,\n",
       "         -1.24709040e-01,   1.47894492e+00,  -8.47988393e-01,\n",
       "          4.46412345e-01,   2.52319560e-01,  -8.15928138e-01,\n",
       "         -8.47988393e-01,   1.12101782e+00,  -8.47988393e-01,\n",
       "          1.88199050e-01,   1.56323133e+00,  -8.47347189e-01,\n",
       "         -8.47988393e-01,   3.52431225e+00,  -7.86432704e-01,\n",
       "         -8.47988393e-01,   8.86836892e-01,   1.34692720e+00,\n",
       "          3.15249023e+00,  -8.47988393e-01,  -9.45723996e-02,\n",
       "          1.38391832e+00,  -7.03076041e-01,  -6.93618266e-01,\n",
       "         -6.21642993e-01,  -8.47988393e-01,  -8.46705983e-01,\n",
       "         -3.73496619e-01,  -5.64206964e-02,   3.58759607e-01,\n",
       "         -2.79239469e-01,   2.01664357e-01,   3.46307716e+00,\n",
       "         -4.46594000e-01,  -1.93959191e-01,   1.95511024e+00,\n",
       "         -4.76089435e-01,  -1.48882472e-01,   1.09443346e+00,\n",
       "         -5.47263201e-01,   2.40930146e+00,   6.04341160e-01,\n",
       "          8.76853328e-01,  -8.47988393e-01,   3.10996239e-01,\n",
       "          1.03383316e+00,  -5.24179817e-01,  -7.66555346e-01,\n",
       "         -5.64575739e-01,   6.28732603e-01,   1.03733102e-01,\n",
       "          1.28750031e+00,  -1.20675859e-01,   5.74845726e-01,\n",
       "          2.79621103e+00,   4.62923375e-01,   5.61973846e+00,\n",
       "         -6.44085171e-01,   1.15970813e+00,  -6.97946400e-01,\n",
       "          1.40749873e-01,   1.77555045e-01,   7.94843197e-01,\n",
       "          2.53586027e-02,  -8.47988393e-01,  -6.20360583e-01,\n",
       "         -8.47988393e-01,   1.87585088e+00,  -4.36334719e-01,\n",
       "          4.81229781e-01,   1.76419783e+00,  -2.64491752e-01,\n",
       "          1.39599221e+00,  -2.81804289e-01,   5.82908962e-02,\n",
       "          2.88868251e-01,   4.10697220e-01,   5.54782418e-01,\n",
       "          1.49649470e+00]))"
      ]
     },
     "execution_count": 99,
     "metadata": {},
     "output_type": "execute_result"
    }
   ],
   "source": [
    "scaler = StandardScaler()\n",
    "X=scale(trainG2.iloc[:,1:].drop('OilCum360',axis=1))\n",
    "y=scale(trainG2.OilCum360)\n",
    "X,y"
   ]
  },
  {
   "cell_type": "code",
   "execution_count": 101,
   "metadata": {},
   "outputs": [
    {
     "data": {
      "text/plain": [
       "10.0"
      ]
     },
     "execution_count": 101,
     "metadata": {},
     "output_type": "execute_result"
    }
   ],
   "source": [
    "rm_G2 = linear_model.RidgeCV(alphas=[0.1,0.2,0.5,1,2,5,10,15,20,50,100])\n",
    "rm_G2.fit(X,y)\n",
    "rm_G2.alpha_"
   ]
  },
  {
   "cell_type": "code",
   "execution_count": 102,
   "metadata": {
    "collapsed": true
   },
   "outputs": [],
   "source": [
    "#We will try to tune the model with the best regularization parameter\n",
    "rmG2 = linear_model.Ridge (alpha = 10)"
   ]
  },
  {
   "cell_type": "code",
   "execution_count": 103,
   "metadata": {
    "collapsed": true
   },
   "outputs": [],
   "source": [
    "X_train, X_test, y_train, y_test = train_test_split(X,y, test_size=0.3, random_state=0)"
   ]
  },
  {
   "cell_type": "code",
   "execution_count": 104,
   "metadata": {},
   "outputs": [
    {
     "data": {
      "text/plain": [
       "Ridge(alpha=10, copy_X=True, fit_intercept=True, max_iter=None,\n",
       "   normalize=False, random_state=None, solver='auto', tol=0.001)"
      ]
     },
     "execution_count": 104,
     "metadata": {},
     "output_type": "execute_result"
    }
   ],
   "source": [
    "rmG2.fit(X_train,y_train)"
   ]
  },
  {
   "cell_type": "code",
   "execution_count": 105,
   "metadata": {
    "collapsed": true
   },
   "outputs": [],
   "source": [
    "y_pred = rmG2.predict(X_test)"
   ]
  },
  {
   "cell_type": "code",
   "execution_count": 106,
   "metadata": {},
   "outputs": [
    {
     "name": "stdout",
     "output_type": "stream",
     "text": [
      "Mean squared error: 0.44\n",
      "Variance score: 0.52\n"
     ]
    }
   ],
   "source": [
    "print(\"Mean squared error: %.2f\"% mean_squared_error(y_test, y_pred))\n",
    "# Explained variance score: 1 is perfect prediction\n",
    "print('Variance score: %.2f'% r2_score(y_test, y_pred))"
   ]
  },
  {
   "cell_type": "code",
   "execution_count": 107,
   "metadata": {},
   "outputs": [
    {
     "data": {
      "text/plain": [
       "<matplotlib.collections.PathCollection at 0x1e855b8c828>"
      ]
     },
     "execution_count": 107,
     "metadata": {},
     "output_type": "execute_result"
    },
    {
     "data": {
      "image/png": "[encoded data removed]",
      "text/plain": [
       "<matplotlib.figure.Figure at 0x1e85748a128>"
      ]
     },
     "metadata": {},
     "output_type": "display_data"
    }
   ],
   "source": [
    "plt.scatter(y_test,y_pred)"
   ]
  },
  {
   "cell_type": "markdown",
   "metadata": {},
   "source": [
    "We have a better results with variance explained >50% and less error"
   ]
  },
  {
   "cell_type": "markdown",
   "metadata": {},
   "source": [
    "### Lasso"
   ]
  },
  {
   "cell_type": "markdown",
   "metadata": {},
   "source": [
    "The Lasso is a linear model that estimates sparse coefficients. It is useful in some contexts due to its tendency to prefer solutions with fewer parameter values, effectively reducing the number of variables upon which the given solution is dependent\n",
    "- it consists of a linear model trained with l_1 prior as regularizer."
   ]
  },
  {
   "cell_type": "markdown",
   "metadata": {},
   "source": [
    "Remarques : \n",
    "- A cause de la valeur absolue, l'estimation des poids ne peut pas être faits par les moindres carrées => Algorithme quadratique pour l'estimation \n",
    "- Estimation du alpha par CV "
   ]
  },
  {
   "cell_type": "markdown",
   "metadata": {},
   "source": [
    "*GROUP1*"
   ]
  },
  {
   "cell_type": "code",
   "execution_count": 108,
   "metadata": {
    "collapsed": true
   },
   "outputs": [],
   "source": [
    "#We will try to tune the model with the best regularization parameter\n",
    "rmG1 = linear_model.Lasso(alpha = 0.1)"
   ]
  },
  {
   "cell_type": "code",
   "execution_count": 110,
   "metadata": {},
   "outputs": [
    {
     "data": {
      "text/plain": [
       "Lasso(alpha=0.1, copy_X=True, fit_intercept=True, max_iter=1000,\n",
       "   normalize=False, positive=False, precompute=False, random_state=None,\n",
       "   selection='cyclic', tol=0.0001, warm_start=False)"
      ]
     },
     "execution_count": 110,
     "metadata": {},
     "output_type": "execute_result"
    }
   ],
   "source": [
    "rmG1.fit(X_train,y_train)"
   ]
  },
  {
   "cell_type": "code",
   "execution_count": 111,
   "metadata": {
    "collapsed": true
   },
   "outputs": [],
   "source": [
    "y_pred=rmG1.predict(X_test)"
   ]
  },
  {
   "cell_type": "code",
   "execution_count": 112,
   "metadata": {},
   "outputs": [
    {
     "name": "stdout",
     "output_type": "stream",
     "text": [
      "Mean squared error: 0.20\n",
      "Variance score: 0.66\n"
     ]
    }
   ],
   "source": [
    "print(\"Mean squared error: %.2f\"% mean_squared_error(y_test, y_pred))\n",
    "# Explained variance score: 1 is perfect prediction\n",
    "print('Variance score: %.2f'% r2_score(y_test, y_pred))"
   ]
  },
  {
   "cell_type": "code",
   "execution_count": 113,
   "metadata": {},
   "outputs": [
    {
     "data": {
      "text/plain": [
       "<matplotlib.collections.PathCollection at 0x1e854f3d550>"
      ]
     },
     "execution_count": 113,
     "metadata": {},
     "output_type": "execute_result"
    },
    {
     "data": {
      "image/png": "[encoded data removed]",
      "text/plain": [
       "<matplotlib.figure.Figure at 0x1e857529fd0>"
      ]
     },
     "metadata": {},
     "output_type": "display_data"
    }
   ],
   "source": [
    "plt.scatter(y_test,y_pred)"
   ]
  },
  {
   "cell_type": "markdown",
   "metadata": {},
   "source": [
    "This model is not better than our reference model so we have to tune \n",
    "\n",
    "The alpha parameter controls the degree of sparsity of the coefficients estimated."
   ]
  },
  {
   "cell_type": "code",
   "execution_count": 115,
   "metadata": {},
   "outputs": [],
   "source": [
    "scaler = StandardScaler()\n",
    "X=scale(trainG1.iloc[:,1:].drop('OilCum360',axis=1))\n",
    "y=scale(trainG1.OilCum360)"
   ]
  },
  {
   "cell_type": "code",
   "execution_count": 132,
   "metadata": {},
   "outputs": [
    {
     "data": {
      "text/plain": [
       "26.0"
      ]
     },
     "execution_count": 132,
     "metadata": {},
     "output_type": "execute_result"
    }
   ],
   "source": [
    "rm_G1 = linear_model.RidgeCV(alphas=[0.1,0.2,0.5,1,2,5,10,20,25,26,26.5,26.8,27,28,29,30,35,40,45,50,100])\n",
    "rm_G1.fit(X,y)\n",
    "rm_G1.alpha_"
   ]
  },
  {
   "cell_type": "code",
   "execution_count": 133,
   "metadata": {
    "collapsed": true
   },
   "outputs": [],
   "source": [
    "#We will try to tune the model with the best regularization parameter\n",
    "rmG1 = linear_model.Ridge (alpha = 26)"
   ]
  },
  {
   "cell_type": "code",
   "execution_count": 134,
   "metadata": {
    "collapsed": true
   },
   "outputs": [],
   "source": [
    "X_train, X_test, y_train, y_test = train_test_split(X,y, test_size=0.3, random_state=0)"
   ]
  },
  {
   "cell_type": "code",
   "execution_count": 135,
   "metadata": {},
   "outputs": [
    {
     "data": {
      "text/plain": [
       "Ridge(alpha=26, copy_X=True, fit_intercept=True, max_iter=None,\n",
       "   normalize=False, random_state=None, solver='auto', tol=0.001)"
      ]
     },
     "execution_count": 135,
     "metadata": {},
     "output_type": "execute_result"
    }
   ],
   "source": [
    "rmG1.fit(X_train,y_train)"
   ]
  },
  {
   "cell_type": "code",
   "execution_count": 136,
   "metadata": {
    "collapsed": true
   },
   "outputs": [],
   "source": [
    "y_pred = rmG1.predict(X_test)"
   ]
  },
  {
   "cell_type": "code",
   "execution_count": 137,
   "metadata": {},
   "outputs": [
    {
     "name": "stdout",
     "output_type": "stream",
     "text": [
      "Mean squared error: 0.20\n",
      "Variance score: 0.73\n"
     ]
    }
   ],
   "source": [
    "print(\"Mean squared error: %.2f\"% mean_squared_error(y_test, y_pred))\n",
    "# Explained variance score: 1 is perfect prediction\n",
    "print('Variance score: %.2f'% r2_score(y_test, y_pred))"
   ]
  },
  {
   "cell_type": "code",
   "execution_count": 138,
   "metadata": {},
   "outputs": [
    {
     "data": {
      "text/plain": [
       "<matplotlib.collections.PathCollection at 0x1e85557c208>"
      ]
     },
     "execution_count": 138,
     "metadata": {},
     "output_type": "execute_result"
    },
    {
     "data": {
      "image/png": "[encoded data removed]",
      "text/plain": [
       "<matplotlib.figure.Figure at 0x1e855d8a9b0>"
      ]
     },
     "metadata": {},
     "output_type": "display_data"
    }
   ],
   "source": [
    "plt.scatter(y_test,y_pred)"
   ]
  },
  {
   "cell_type": "markdown",
   "metadata": {},
   "source": [
    "*GROUP2*"
   ]
  },
  {
   "cell_type": "code",
   "execution_count": 140,
   "metadata": {
    "collapsed": true
   },
   "outputs": [],
   "source": [
    "#We will try to tune the model with the best regularization parameter\n",
    "rmG2 = linear_model.Lasso(alpha = 0.1)"
   ]
  },
  {
   "cell_type": "code",
   "execution_count": 141,
   "metadata": {},
   "outputs": [
    {
     "data": {
      "text/plain": [
       "Lasso(alpha=0.1, copy_X=True, fit_intercept=True, max_iter=1000,\n",
       "   normalize=False, positive=False, precompute=False, random_state=None,\n",
       "   selection='cyclic', tol=0.0001, warm_start=False)"
      ]
     },
     "execution_count": 141,
     "metadata": {},
     "output_type": "execute_result"
    }
   ],
   "source": [
    "rmG2.fit(X_train,y_train)"
   ]
  },
  {
   "cell_type": "code",
   "execution_count": 142,
   "metadata": {
    "collapsed": true
   },
   "outputs": [],
   "source": [
    "y_pred=rmG2.predict(X_test)"
   ]
  },
  {
   "cell_type": "code",
   "execution_count": 143,
   "metadata": {},
   "outputs": [
    {
     "name": "stdout",
     "output_type": "stream",
     "text": [
      "Mean squared error: 0.48\n",
      "Variance score: 0.47\n"
     ]
    }
   ],
   "source": [
    "print(\"Mean squared error: %.2f\"% mean_squared_error(y_test, y_pred))\n",
    "# Explained variance score: 1 is perfect prediction\n",
    "print('Variance score: %.2f'% r2_score(y_test, y_pred))"
   ]
  },
  {
   "cell_type": "code",
   "execution_count": 144,
   "metadata": {},
   "outputs": [
    {
     "data": {
      "text/plain": [
       "<matplotlib.collections.PathCollection at 0x1e856188048>"
      ]
     },
     "execution_count": 144,
     "metadata": {},
     "output_type": "execute_result"
    },
    {
     "data": {
      "image/png": "[encoded data removed]",
      "text/plain": [
       "<matplotlib.figure.Figure at 0x1e858411b00>"
      ]
     },
     "metadata": {},
     "output_type": "display_data"
    }
   ],
   "source": [
    "plt.scatter(y_test,y_pred)"
   ]
  },
  {
   "cell_type": "code",
   "execution_count": 145,
   "metadata": {
    "collapsed": true
   },
   "outputs": [],
   "source": [
    "scaler = StandardScaler()\n",
    "X=scale(trainG2.iloc[:,1:].drop('OilCum360',axis=1))\n",
    "y=scale(trainG2.OilCum360)"
   ]
  },
  {
   "cell_type": "code",
   "execution_count": 147,
   "metadata": {},
   "outputs": [
    {
     "data": {
      "text/plain": [
       "11.0"
      ]
     },
     "execution_count": 147,
     "metadata": {},
     "output_type": "execute_result"
    }
   ],
   "source": [
    "rm_G2 = linear_model.RidgeCV(alphas=[0.1,0.2,0.5,1,2,5,10,11,12,13,14,15,16,17,18,19,20,50,100])\n",
    "rm_G2.fit(X,y)\n",
    "rm_G2.alpha_"
   ]
  },
  {
   "cell_type": "code",
   "execution_count": 150,
   "metadata": {
    "collapsed": true
   },
   "outputs": [],
   "source": [
    "#We will try to tune the model with the best regularization parameter\n",
    "rmG2 = linear_model.Ridge (alpha = 11)"
   ]
  },
  {
   "cell_type": "code",
   "execution_count": 151,
   "metadata": {
    "collapsed": true
   },
   "outputs": [],
   "source": [
    "X_train, X_test, y_train, y_test = train_test_split(X,y, test_size=0.3, random_state=0)"
   ]
  },
  {
   "cell_type": "code",
   "execution_count": 152,
   "metadata": {},
   "outputs": [
    {
     "data": {
      "text/plain": [
       "Ridge(alpha=11, copy_X=True, fit_intercept=True, max_iter=None,\n",
       "   normalize=False, random_state=None, solver='auto', tol=0.001)"
      ]
     },
     "execution_count": 152,
     "metadata": {},
     "output_type": "execute_result"
    }
   ],
   "source": [
    "rmG2.fit(X_train,y_train)"
   ]
  },
  {
   "cell_type": "code",
   "execution_count": 153,
   "metadata": {
    "collapsed": true
   },
   "outputs": [],
   "source": [
    "y_pred = rmG2.predict(X_test)"
   ]
  },
  {
   "cell_type": "code",
   "execution_count": 154,
   "metadata": {},
   "outputs": [
    {
     "name": "stdout",
     "output_type": "stream",
     "text": [
      "Mean squared error: 0.44\n",
      "Variance score: 0.52\n"
     ]
    }
   ],
   "source": [
    "print(\"Mean squared error: %.2f\"% mean_squared_error(y_test, y_pred))\n",
    "# Explained variance score: 1 is perfect prediction\n",
    "print('Variance score: %.2f'% r2_score(y_test, y_pred))"
   ]
  },
  {
   "cell_type": "code",
   "execution_count": 155,
   "metadata": {},
   "outputs": [
    {
     "data": {
      "text/plain": [
       "<matplotlib.collections.PathCollection at 0x1e856188cf8>"
      ]
     },
     "execution_count": 155,
     "metadata": {},
     "output_type": "execute_result"
    },
    {
     "data": {
      "image/png": "[encoded data removed]",
      "text/plain": [
       "<matplotlib.figure.Figure at 0x1e8584117f0>"
      ]
     },
     "metadata": {},
     "output_type": "display_data"
    }
   ],
   "source": [
    "plt.scatter(y_test,y_pred)"
   ]
  },
  {
   "cell_type": "code",
   "execution_count": null,
   "metadata": {
    "collapsed": true
   },
   "outputs": [],
   "source": []
  },
  {
   "cell_type": "code",
   "execution_count": null,
   "metadata": {
    "collapsed": true
   },
   "outputs": [],
   "source": []
  },
  {
   "cell_type": "code",
   "execution_count": null,
   "metadata": {
    "collapsed": true
   },
   "outputs": [],
   "source": []
  },
  {
   "cell_type": "code",
   "execution_count": null,
   "metadata": {
    "collapsed": true
   },
   "outputs": [],
   "source": []
  }
 ],
 "metadata": {
  "kernelspec": {
   "display_name": "Python 3",
   "language": "python",
   "name": "python3"
  },
  "language_info": {
   "codemirror_mode": {
    "name": "ipython",
    "version": 3
   },
   "file_extension": ".py",
   "mimetype": "text/x-python",
   "name": "python",
   "nbconvert_exporter": "python",
   "pygments_lexer": "ipython3",
   "version": "3.6.3"
  }
 },
 "nbformat": 4,
 "nbformat_minor": 2
}
